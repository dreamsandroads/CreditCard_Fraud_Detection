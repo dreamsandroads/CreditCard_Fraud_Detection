{
 "cells": [
  {
   "attachments": {},
   "cell_type": "markdown",
   "metadata": {},
   "source": [
    "## 0. Sampling "
   ]
  },
  {
   "cell_type": "code",
   "execution_count": 37,
   "metadata": {},
   "outputs": [],
   "source": [
    "import pandas as pd\n",
    "import numpy as np\n",
    "from sklearn.preprocessing import OneHotEncoder\n",
    "from sklearn.model_selection import train_test_split\n",
    "import matplotlib.pyplot as plt \n",
    "from sklearn.preprocessing import RobustScaler, StandardScaler\n",
    "from sklearn.pipeline import make_pipeline, Pipeline\n",
    "from sklearn.linear_model import LogisticRegression\n",
    "from sklearn.compose import ColumnTransformer\n",
    "from sklearn.metrics import confusion_matrix\n",
    "from sklearn.metrics import f1_score, recall_score, precision_score, accuracy_score, classification_report, roc_auc_score\n",
    "from sklearn.model_selection import GridSearchCV\n",
    "from sklearn import metrics"
   ]
  },
  {
   "cell_type": "code",
   "execution_count": 2,
   "metadata": {},
   "outputs": [],
   "source": [
    "# undersampling the non frauds to have 5% frauds\n",
    "df_cct = pd.read_parquet(\"/home/onyxia/work/df_cct_2016.parquet\")\n",
    "df_nofraud = df_cct[df_cct[\"Is Fraud?\"] == 0]\n",
    "df_nofraud_sampled = df_nofraud.sample(int(0.95*(8412/0.05)), random_state = 0)\n",
    "\n",
    "# recreating the dataframe\n",
    "df_fraud = df_cct[df_cct[\"Is Fraud?\"] == 1]\n",
    "df_cct = pd.concat([df_nofraud_sampled, df_fraud], axis = 0).sort_index()\n",
    "\n",
    "# retrieving the absolute amounts for score computation\n",
    "df_amount = pd.read_parquet(\"/home/onyxia/work/df_all.parquet\")\n",
    "\n",
    "df_cct[\"abs_amount\"] = list(df_amount.loc[df_cct.index][\"Amount\"].abs().values)\n",
    "\n",
    "df_cct.reset_index(drop=True,inplace=True)"
   ]
  },
  {
   "attachments": {},
   "cell_type": "markdown",
   "metadata": {},
   "source": [
    "## I. OneHotEncoder"
   ]
  },
  {
   "cell_type": "code",
   "execution_count": 4,
   "metadata": {},
   "outputs": [],
   "source": [
    "# For \"Use Chip\":\n",
    "\n",
    "enc = OneHotEncoder(handle_unknown='ignore')\n",
    "\n",
    "features_array = enc.fit_transform(df_cct[[\"Use Chip\"]]).toarray()\n",
    "\n",
    "features_labels = np.hstack(np.array(enc.categories_))\n",
    "\n",
    "df_cct = pd.concat([df_cct, pd.DataFrame(features_array, columns = features_labels)], axis = 1)"
   ]
  },
  {
   "cell_type": "code",
   "execution_count": 5,
   "metadata": {},
   "outputs": [],
   "source": [
    "# For \"Card Brand\":\n",
    "\n",
    "enc = OneHotEncoder(handle_unknown='ignore')\n",
    "\n",
    "features_array = enc.fit_transform(df_cct[[\"Card Brand\"]]).toarray()\n",
    "\n",
    "features_labels = np.hstack(np.array(enc.categories_))\n",
    "\n",
    "df_cct = pd.concat([df_cct, pd.DataFrame(features_array, columns = features_labels)], axis = 1)\n"
   ]
  },
  {
   "cell_type": "code",
   "execution_count": 6,
   "metadata": {},
   "outputs": [],
   "source": [
    "# For \"Card Type\":\n",
    "\n",
    "enc = OneHotEncoder(handle_unknown='ignore')\n",
    "\n",
    "features_array = enc.fit_transform(df_cct[[\"Card Type\"]]).toarray()\n",
    "\n",
    "features_labels = np.hstack(np.array(enc.categories_))\n",
    "\n",
    "df_cct = pd.concat([df_cct, pd.DataFrame(features_array, columns = features_labels)], axis = 1)"
   ]
  },
  {
   "cell_type": "code",
   "execution_count": 7,
   "metadata": {},
   "outputs": [],
   "source": [
    "# For \"label global\":\n",
    "\n",
    "enc = OneHotEncoder(handle_unknown='ignore')\n",
    "\n",
    "features_array = enc.fit_transform(df_cct[[\"label_global\"]]).toarray()\n",
    "\n",
    "features_labels = np.hstack(np.array(enc.categories_))\n",
    "\n",
    "df_cct = pd.concat([df_cct, pd.DataFrame(features_array, columns = features_labels)], axis = 1)"
   ]
  },
  {
   "cell_type": "code",
   "execution_count": 8,
   "metadata": {},
   "outputs": [],
   "source": [
    "df_cct.rename(columns={0:\"0\", -1: \"-1\", 1:\"1\", 2:\"2\", 3: \"3\", 4:\"4\", 5:\"5\", 6:\"6\"}, inplace=True)"
   ]
  },
  {
   "cell_type": "code",
   "execution_count": 9,
   "metadata": {},
   "outputs": [
    {
     "data": {
      "text/plain": [
       "Index(['User', 'Card', 'Month', 'Day', 'Hours', 'year_diff', 'Amount',\n",
       "       'Use Chip', 'Card Brand', 'Card Type', 'Credit Limit', 'delta_t_s',\n",
       "       'delta_t_s_card', 'amt/daily_income', 'Retired', 'daily_amount',\n",
       "       'nb_daily_declines_card', 'nb_monthly_declines_card', 'bad_pin',\n",
       "       'insufficient_balance', 'hr_nbt/last_30d_av_hr_nbt',\n",
       "       'day_nbt/last_30d_av_day_nbt', 'last_3d_amt/nbt', 'label_global',\n",
       "       'Is Fraud?', 'pos_amount', 'abs_amount', 'Chip Transaction',\n",
       "       'Online Transaction', 'Swipe Transaction', 'Amex', 'Discover',\n",
       "       'Mastercard', 'Visa', 'Credit', 'Debit', 'Debit (Prepaid)', '-1', '0',\n",
       "       '1', '2', '3', '4', '5', '6'],\n",
       "      dtype='object')"
      ]
     },
     "execution_count": 9,
     "metadata": {},
     "output_type": "execute_result"
    }
   ],
   "source": [
    "df_cct.columns"
   ]
  },
  {
   "attachments": {},
   "cell_type": "markdown",
   "metadata": {},
   "source": [
    "## II. Datasets (training, test)"
   ]
  },
  {
   "cell_type": "code",
   "execution_count": 10,
   "metadata": {},
   "outputs": [],
   "source": [
    "# selecting features\n",
    "# dropped card, nb_weekly_declines, day_of_week, nb_daily_declines, credit, debit, amex,  discover,\n",
    "# mastercard, visa\n",
    "features = ['Month', 'Day', 'Hours', 'year_diff', 'Amount', 'pos_amount',\n",
    "       'Credit Limit', 'delta_t_s',\n",
    "       'delta_t_s_card', 'amt/daily_income', 'Retired', 'daily_amount',\n",
    "       'nb_monthly_declines_card', 'bad_pin',\n",
    "       'insufficient_balance', 'hr_nbt/last_30d_av_hr_nbt',\n",
    "       'day_nbt/last_30d_av_day_nbt', 'last_3d_amt/nbt', 'Chip Transaction', 'Online Transaction',\n",
    "       'Swipe Transaction','Debit (Prepaid)',\"Is Fraud?\",\n",
    "        \"-1\",\"0\",\"1\",\"2\",\"3\",\"4\",\"5\",\"6\"]\n",
    "\n",
    "df_selec = df_cct[features] # 21 features + clusters\n",
    "\n",
    "X = df_selec[['Month', 'Day', 'Hours', 'year_diff', 'Amount', 'pos_amount',\n",
    "       'Credit Limit', 'delta_t_s',\n",
    "       'delta_t_s_card', 'amt/daily_income', 'Retired', 'daily_amount',\n",
    "       'nb_monthly_declines_card', 'bad_pin',\n",
    "       'insufficient_balance', 'hr_nbt/last_30d_av_hr_nbt',\n",
    "       'day_nbt/last_30d_av_day_nbt', 'last_3d_amt/nbt', 'Chip Transaction', 'Online Transaction',\n",
    "       'Swipe Transaction','Debit (Prepaid)',\"-1\",\"0\",\"1\",\"2\",\"3\",\"4\",\"5\",\"6\"]]\n",
    "       \n",
    "y = df_selec[\"Is Fraud?\"]"
   ]
  },
  {
   "cell_type": "code",
   "execution_count": 11,
   "metadata": {},
   "outputs": [],
   "source": [
    "# Splitting the data into train and test data  (70:30)\n",
    "\n",
    "# Create a STRATIFIED train-test (Hence, passing the argument 'stratify= y')\n",
    "# In the first step we will split the data in training and remaining dataset\n",
    "X_train, X_test, y_train, y_test = train_test_split(X, y, train_size=0.7, shuffle = True, random_state = 0, stratify = y)"
   ]
  },
  {
   "cell_type": "code",
   "execution_count": 12,
   "metadata": {},
   "outputs": [
    {
     "name": "stdout",
     "output_type": "stream",
     "text": [
      "In y dataset: Counter({0: 159828, 1: 8412})\n",
      "\n",
      "In y_train set: Counter({0: 111879, 1: 5888})\n",
      "\n",
      "In y_test set: Counter({0: 47949, 1: 2524})\n"
     ]
    }
   ],
   "source": [
    "# Checking class distribution in stratified train-test split\n",
    "from collections import Counter\n",
    "\n",
    "print(\"In y dataset:\", Counter(y))\n",
    "print(\"\\nIn y_train set:\", Counter(y_train))\n",
    "print(\"\\nIn y_test set:\", Counter(y_test))"
   ]
  },
  {
   "cell_type": "code",
   "execution_count": 29,
   "metadata": {},
   "outputs": [],
   "source": [
    "# Useless \n",
    "#df_train = df_selec.loc[X_train.index]"
   ]
  },
  {
   "attachments": {},
   "cell_type": "markdown",
   "metadata": {},
   "source": [
    "## III. Functions for final results"
   ]
  },
  {
   "cell_type": "code",
   "execution_count": 30,
   "metadata": {},
   "outputs": [],
   "source": [
    "# Create a pandas dataframe to store model results\n",
    "results_df = pd.DataFrame(columns=['Data Handling Technique','Model', 'Precision','Recall','F1 score', \"Our Score\"])"
   ]
  },
  {
   "cell_type": "code",
   "execution_count": 14,
   "metadata": {},
   "outputs": [],
   "source": [
    "# building our own score\n",
    "def our_score(clf, X, y):\n",
    "\n",
    "    y_pred = clf.predict(X)\n",
    "    cm = confusion_matrix(y, y_pred)\n",
    "    tn, fp, fn, tp = cm.ravel() # retrieving tn, fp, fn, tp\n",
    "    \n",
    "    fp_rows = [] \n",
    "\n",
    "    for i in range(len(y_pred)):\n",
    "        if y_pred[i] == 1 and y.values[i] == 0:\n",
    "            fp_rows.append(y.index[i]) \n",
    "\n",
    "    fn_rows = []\n",
    "\n",
    "    for i in range(len(y_pred)):\n",
    "        if y_pred[i] == 0 and y.values[i] == 1:\n",
    "            fn_rows.append(y.index[i])\n",
    "\n",
    "    tp_rows = []\n",
    "\n",
    "    for i in range(len(y_pred)):\n",
    "        if y_pred[i] == 1 and y.values[i] == 1:\n",
    "            tp_rows.append(y.index[i])\n",
    "\n",
    "    tn_rows = []\n",
    "\n",
    "    for i in range(len(y_pred)):\n",
    "        if y_pred[i] == 0 and y.values[i] == 0:\n",
    "            tn_rows.append(y.index[i])\n",
    "\n",
    "    df_fp = df_cct.loc[fp_rows] \n",
    "    fp_new = df_fp.loc[df_fp[\"abs_amount\"]>=15].index # defining fp rows which amount above 15$\n",
    "\n",
    "    df_tp = df_cct.loc[tp_rows]\n",
    "    tp_new = df_tp.loc[df_tp[\"abs_amount\"]>=15].index\n",
    "\n",
    "    df_fn = df_cct.loc[fn_rows]\n",
    "    fn_new = df_fn.loc[df_fn[\"abs_amount\"]>=15].index\n",
    "\n",
    "    our_score = -15*(len(fp_new) + len(tp_new)) + df_cct.loc[tp_new][\"abs_amount\"].sum() - df_cct.loc[fn_rows][\"abs_amount\"].sum() - df_cct.loc[tp_rows][\"abs_amount\"].sum()\n",
    "\n",
    "    our_score_norm = (our_score + df_cct.loc[fn_rows][\"abs_amount\"].sum() + df_cct.loc[tp_rows][\"abs_amount\"].sum())/(df_cct.loc[tp_new][\"abs_amount\"].sum()+df_cct.loc[fn_new][\"abs_amount\"].sum() - 15*(len(tp_new)+len(fn_new)))\n",
    "\n",
    "    return our_score_norm"
   ]
  },
  {
   "cell_type": "code",
   "execution_count": 15,
   "metadata": {},
   "outputs": [],
   "source": [
    "# calculate retrieved or lost money\n",
    "def retrieved_money(clf, X, y):\n",
    "\n",
    "    y_pred = clf.predict(X)\n",
    "    cm = confusion_matrix(y, y_pred)\n",
    "    tn, fp, fn, tp = cm.ravel()\n",
    "    \n",
    "    fp_rows = []\n",
    "\n",
    "    for i in range(len(y_pred)):\n",
    "        if y_pred[i] == 1 and y.values[i] == 0:\n",
    "            fp_rows.append(y.index[i])\n",
    "\n",
    "    fn_rows = []\n",
    "\n",
    "    for i in range(len(y_pred)):\n",
    "        if y_pred[i] == 0 and y.values[i] == 1:\n",
    "            fn_rows.append(y.index[i])\n",
    "\n",
    "    tp_rows = []\n",
    "\n",
    "    for i in range(len(y_pred)):\n",
    "        if y_pred[i] == 1 and y.values[i] == 1:\n",
    "            tp_rows.append(y.index[i])\n",
    "\n",
    "    tn_rows = []\n",
    "\n",
    "    for i in range(len(y_pred)):\n",
    "        if y_pred[i] == 0 and y.values[i] == 0:\n",
    "            tn_rows.append(y.index[i])\n",
    "\n",
    "    df_fp = df_cct.loc[fp_rows]\n",
    "    fp_new = df_fp.loc[df_fp[\"abs_amount\"]>=15].index\n",
    "\n",
    "    df_tp = df_cct.loc[tp_rows]\n",
    "    tp_new = df_tp.loc[df_tp[\"abs_amount\"]>=15].index\n",
    "\n",
    "    df_fn = df_cct.loc[fn_rows]\n",
    "    fn_new = df_fn.loc[df_fn[\"abs_amount\"]>=15].index\n",
    "\n",
    "    initial_loss = - df_cct.loc[fn_rows][\"abs_amount\"].sum() - df_cct.loc[tp_rows][\"abs_amount\"].sum()\n",
    "\n",
    "    retrieved_money = -15*(len(fp_new) + len(tp_new)) + df_cct.loc[tp_new][\"abs_amount\"].sum() \n",
    "\n",
    "    max_retrieved_money = df_cct.loc[tp_new][\"abs_amount\"].sum()+df_cct.loc[fn_new][\"abs_amount\"].sum() - 15*(len(tp_new)+len(fn_new))\n",
    "\n",
    "    return initial_loss, retrieved_money, max_retrieved_money"
   ]
  },
  {
   "cell_type": "code",
   "execution_count": 16,
   "metadata": {},
   "outputs": [],
   "source": [
    "# plot confusion matrix\n",
    "def plot_confusion_matrix(cm):\n",
    "    \"\"\"\n",
    "    This function prints and plots the confusion matrix.\n",
    "    \"\"\"\n",
    "    classes=['Non-Fraudulent','Fraudulent']\n",
    "    cmap=plt.cm.Blues\n",
    "    plt.imshow(cm, interpolation='nearest', cmap=cmap)\n",
    "    plt.title('Confusion Matrix', fontsize=14)\n",
    "    plt.colorbar()\n",
    "    tick_marks = np.arange(len(classes))\n",
    "    plt.xticks(tick_marks, classes)\n",
    "    plt.yticks(tick_marks, classes, rotation=90)\n",
    "    thresh = cm.max() / 2.\n",
    "    for i in range (cm.shape[0]):\n",
    "        for j in range (cm.shape[1]):\n",
    "            plt.text(j, i, cm[i, j],horizontalalignment=\"center\",\n",
    "                 color=\"white\" if cm[i, j] > thresh else \"black\")\n",
    "    plt.tight_layout()\n",
    "    plt.ylabel('True label', fontsize= 10)\n",
    "    plt.xlabel('Predicted label', fontsize=10)"
   ]
  },
  {
   "cell_type": "code",
   "execution_count": 17,
   "metadata": {},
   "outputs": [],
   "source": [
    "# Define a function to plot ROC_AUC curve\n",
    "def plot_roc_auc_curve(fpr, tpr, roc_auc):\n",
    "    print(f\"ROC for test dataset {round(roc_auc*100,3)}%\")  \n",
    "    plt.figure(figsize=(5,5))\n",
    "    plt.title('Receiver Operating Characteristic (ROC) Curve')\n",
    "    plt.plot(fpr,tpr,'b',label=\"Test ROC_AUC=\"+str(round(roc_auc,3)))\n",
    "    plt.plot([0,1],[0,1],'r--')\n",
    "    plt.ylabel('True Positive Rate (TPR)')\n",
    "    plt.xlabel('False Positive Rate (FPR)')\n",
    "    plt.legend(loc='lower right')\n",
    "    plt.show()"
   ]
  },
  {
   "cell_type": "code",
   "execution_count": 13,
   "metadata": {},
   "outputs": [
    {
     "name": "stdout",
     "output_type": "stream",
     "text": [
      "TRAIN: (105990,) TEST: (11777,) \n",
      "\n",
      "TRAIN: [ 11760  11761  11762 ... 117764 117765 117766] \n",
      "\n",
      "TEST: [    0     1     2 ... 12048 12076 12077] \n",
      "\n",
      "TRAIN: (105990,) TEST: (11777,) \n",
      "\n",
      "TRAIN: [     0      1      2 ... 117764 117765 117766] \n",
      "\n",
      "TEST: [11760 11761 11762 ... 23712 23742 23768] \n",
      "\n",
      "TRAIN: (105990,) TEST: (11777,) \n",
      "\n",
      "TRAIN: [     0      1      2 ... 117764 117765 117766] \n",
      "\n",
      "TEST: [23542 23543 23544 ... 35427 35453 35509] \n",
      "\n",
      "TRAIN: (105990,) TEST: (11777,) \n",
      "\n",
      "TRAIN: [     0      1      2 ... 117764 117765 117766] \n",
      "\n",
      "TEST: [35322 35323 35324 ... 47638 47662 47663] \n",
      "\n",
      "TRAIN: (105990,) TEST: (11777,) \n",
      "\n",
      "TRAIN: [     0      1      2 ... 117764 117765 117766] \n",
      "\n",
      "TEST: [47065 47066 47067 ... 60731 60732 60756] \n",
      "\n",
      "TRAIN: (105990,) TEST: (11777,) \n",
      "\n",
      "TRAIN: [     0      1      2 ... 117764 117765 117766] \n",
      "\n",
      "TEST: [58808 58809 58811 ... 71737 71741 71747] \n",
      "\n",
      "TRAIN: (105990,) TEST: (11777,) \n",
      "\n",
      "TRAIN: [     0      1      2 ... 117764 117765 117766] \n",
      "\n",
      "TEST: [70593 70594 70595 ... 82687 82708 82751] \n",
      "\n",
      "TRAIN: (105991,) TEST: (11776,) \n",
      "\n",
      "TRAIN: [     0      1      2 ... 117764 117765 117766] \n",
      "\n",
      "TEST: [82422 82423 82424 ... 94407 94409 94418] \n",
      "\n",
      "TRAIN: (105991,) TEST: (11776,) \n",
      "\n",
      "TRAIN: [     0      1      2 ... 117764 117765 117766] \n",
      "\n",
      "TEST: [ 94202  94203  94204 ... 105988 105989 105990] \n",
      "\n",
      "TRAIN: (105991,) TEST: (11776,) \n",
      "\n",
      "TRAIN: [     0      1      2 ... 105988 105989 105990] \n",
      "\n",
      "TEST: [105991 105992 105993 ... 117764 117765 117766] \n",
      "\n"
     ]
    }
   ],
   "source": [
    "# 10 fold CV\n",
    "from sklearn.model_selection import StratifiedKFold\n",
    "kf = StratifiedKFold(n_splits=10, shuffle=False)\n",
    "kf.split(X_train, y_train)\n",
    "for train_index, test_index in kf.split(X_train, y_train):\n",
    "    print(\"TRAIN:\", train_index.shape, \"TEST:\", test_index.shape , str(\"\\n\"))\n",
    "    print(\"TRAIN:\", train_index, \"\\n\\nTEST:\", test_index , str(\"\\n\"))"
   ]
  },
  {
   "attachments": {},
   "cell_type": "markdown",
   "metadata": {},
   "source": [
    "## IV. GridSearch"
   ]
  },
  {
   "cell_type": "code",
   "execution_count": 25,
   "metadata": {},
   "outputs": [
    {
     "name": "stdout",
     "output_type": "stream",
     "text": [
      "Fitting 10 folds for each of 100 candidates, totalling 1000 fits\n",
      "[CV 1/10; 1/100] START C=1, class_weight={0: 1, 1: 1}, solver=liblinear.........\n",
      "[CV 2/10; 1/100] START C=1, class_weight={0: 1, 1: 1}, solver=liblinear.........\n",
      "[CV 3/10; 1/100] START C=1, class_weight={0: 1, 1: 1}, solver=liblinear.........\n",
      "[CV 4/10; 1/100] START C=1, class_weight={0: 1, 1: 1}, solver=liblinear.........\n",
      "[CV 5/10; 1/100] START C=1, class_weight={0: 1, 1: 1}, solver=liblinear.........\n",
      "[CV 6/10; 1/100] START C=1, class_weight={0: 1, 1: 1}, solver=liblinear.........\n",
      "[CV 7/10; 1/100] START C=1, class_weight={0: 1, 1: 1}, solver=liblinear.........\n",
      "[CV 8/10; 1/100] START C=1, class_weight={0: 1, 1: 1}, solver=liblinear.........\n",
      "[CV 9/10; 1/100] START C=1, class_weight={0: 1, 1: 1}, solver=liblinear.........\n",
      "[CV 10/10; 1/100] START C=1, class_weight={0: 1, 1: 1}, solver=liblinear........\n",
      "[CV 1/10; 2/100] START C=1, class_weight={0: 1, 1: 1}, solver=newton-cholesky...\n",
      "[CV 2/10; 2/100] START C=1, class_weight={0: 1, 1: 1}, solver=newton-cholesky...\n",
      "[CV 3/10; 2/100] START C=1, class_weight={0: 1, 1: 1}, solver=newton-cholesky...\n",
      "[CV 4/10; 2/100] START C=1, class_weight={0: 1, 1: 1}, solver=newton-cholesky...\n",
      "[CV 5/10; 2/100] START C=1, class_weight={0: 1, 1: 1}, solver=newton-cholesky...\n",
      "[CV 6/10; 2/100] START C=1, class_weight={0: 1, 1: 1}, solver=newton-cholesky...\n",
      "[CV 7/10; 2/100] START C=1, class_weight={0: 1, 1: 1}, solver=newton-cholesky...\n",
      "[CV 8/10; 2/100] START C=1, class_weight={0: 1, 1: 1}, solver=newton-cholesky...\n",
      "[CV 9/10; 2/100] START C=1, class_weight={0: 1, 1: 1}, solver=newton-cholesky...\n",
      "[CV 10/10; 2/100] START C=1, class_weight={0: 1, 1: 1}, solver=newton-cholesky..\n",
      "[CV 1/10; 3/100] START C=1, class_weight={0: 1, 1: 10}, solver=liblinear........\n",
      "[CV 2/10; 3/100] START C=1, class_weight={0: 1, 1: 10}, solver=liblinear........\n",
      "[CV 3/10; 3/100] START C=1, class_weight={0: 1, 1: 10}, solver=liblinear........\n"
     ]
    },
    {
     "name": "stderr",
     "output_type": "stream",
     "text": [
      "/opt/mamba/lib/python3.10/site-packages/sklearn/linear_model/_glm/_newton_solver.py:491: LinAlgWarning: The inner solver of NewtonCholeskySolver stumbled upon a singular or very ill-conditioned Hessian matrix at iteration #5. It will now resort to lbfgs instead.\n",
      "Further options are to use another solver or to avoid such situation in the first place. Possible remedies are removing collinear features of X or increasing the penalization strengths.\n",
      "The original Linear Algebra message was:\n",
      "Matrix is singular.\n",
      "  warnings.warn(\n",
      "/opt/mamba/lib/python3.10/site-packages/sklearn/linear_model/_glm/_newton_solver.py:491: LinAlgWarning: The inner solver of NewtonCholeskySolver stumbled upon a singular or very ill-conditioned Hessian matrix at iteration #5. It will now resort to lbfgs instead.\n",
      "Further options are to use another solver or to avoid such situation in the first place. Possible remedies are removing collinear features of X or increasing the penalization strengths.\n",
      "The original Linear Algebra message was:\n",
      "Matrix is singular.\n",
      "  warnings.warn(\n",
      "/opt/mamba/lib/python3.10/site-packages/sklearn/linear_model/_glm/_newton_solver.py:491: LinAlgWarning: The inner solver of NewtonCholeskySolver stumbled upon a singular or very ill-conditioned Hessian matrix at iteration #5. It will now resort to lbfgs instead.\n",
      "Further options are to use another solver or to avoid such situation in the first place. Possible remedies are removing collinear features of X or increasing the penalization strengths.\n",
      "The original Linear Algebra message was:\n",
      "Matrix is singular.\n",
      "  warnings.warn(\n",
      "/opt/mamba/lib/python3.10/site-packages/sklearn/linear_model/_glm/_newton_solver.py:491: LinAlgWarning: The inner solver of NewtonCholeskySolver stumbled upon a singular or very ill-conditioned Hessian matrix at iteration #5. It will now resort to lbfgs instead.\n",
      "Further options are to use another solver or to avoid such situation in the first place. Possible remedies are removing collinear features of X or increasing the penalization strengths.\n",
      "The original Linear Algebra message was:\n",
      "Matrix is singular.\n",
      "  warnings.warn(\n",
      "/opt/mamba/lib/python3.10/site-packages/sklearn/linear_model/_glm/_newton_solver.py:491: LinAlgWarning: The inner solver of NewtonCholeskySolver stumbled upon a singular or very ill-conditioned Hessian matrix at iteration #5. It will now resort to lbfgs instead.\n",
      "Further options are to use another solver or to avoid such situation in the first place. Possible remedies are removing collinear features of X or increasing the penalization strengths.\n",
      "The original Linear Algebra message was:\n",
      "Matrix is singular.\n",
      "  warnings.warn(\n",
      "/opt/mamba/lib/python3.10/site-packages/sklearn/linear_model/_glm/_newton_solver.py:491: LinAlgWarning: The inner solver of NewtonCholeskySolver stumbled upon a singular or very ill-conditioned Hessian matrix at iteration #5. It will now resort to lbfgs instead.\n",
      "Further options are to use another solver or to avoid such situation in the first place. Possible remedies are removing collinear features of X or increasing the penalization strengths.\n",
      "The original Linear Algebra message was:\n",
      "Matrix is singular.\n",
      "  warnings.warn(\n"
     ]
    },
    {
     "name": "stdout",
     "output_type": "stream",
     "text": [
      "[CV 4/10; 3/100] START C=1, class_weight={0: 1, 1: 10}, solver=liblinear........\n",
      "[CV 4/10; 2/100] END C=1, class_weight={0: 1, 1: 1}, solver=newton-cholesky;, score=0.215 total time=   0.5s\n",
      "[CV 5/10; 3/100] START C=1, class_weight={0: 1, 1: 10}, solver=liblinear........\n",
      "[CV 6/10; 3/100] START C=1, class_weight={0: 1, 1: 10}, solver=liblinear........\n",
      "[CV 7/10; 3/100] START C=1, class_weight={0: 1, 1: 10}, solver=liblinear........\n"
     ]
    },
    {
     "name": "stderr",
     "output_type": "stream",
     "text": [
      "/opt/mamba/lib/python3.10/site-packages/sklearn/linear_model/_glm/_newton_solver.py:491: LinAlgWarning: The inner solver of NewtonCholeskySolver stumbled upon a singular or very ill-conditioned Hessian matrix at iteration #5. It will now resort to lbfgs instead.\n",
      "Further options are to use another solver or to avoid such situation in the first place. Possible remedies are removing collinear features of X or increasing the penalization strengths.\n",
      "The original Linear Algebra message was:\n",
      "Matrix is singular.\n",
      "  warnings.warn(\n",
      "/opt/mamba/lib/python3.10/site-packages/sklearn/linear_model/_glm/_newton_solver.py:491: LinAlgWarning: The inner solver of NewtonCholeskySolver stumbled upon a singular or very ill-conditioned Hessian matrix at iteration #5. It will now resort to lbfgs instead.\n",
      "Further options are to use another solver or to avoid such situation in the first place. Possible remedies are removing collinear features of X or increasing the penalization strengths.\n",
      "The original Linear Algebra message was:\n",
      "Matrix is singular.\n",
      "  warnings.warn(\n",
      "/opt/mamba/lib/python3.10/site-packages/sklearn/linear_model/_glm/_newton_solver.py:491: LinAlgWarning: The inner solver of NewtonCholeskySolver stumbled upon a singular or very ill-conditioned Hessian matrix at iteration #5. It will now resort to lbfgs instead.\n",
      "Further options are to use another solver or to avoid such situation in the first place. Possible remedies are removing collinear features of X or increasing the penalization strengths.\n",
      "The original Linear Algebra message was:\n",
      "Matrix is singular.\n",
      "  warnings.warn(\n"
     ]
    },
    {
     "name": "stdout",
     "output_type": "stream",
     "text": [
      "[CV 8/10; 3/100] START C=1, class_weight={0: 1, 1: 10}, solver=liblinear........\n",
      "[CV 9/10; 3/100] START C=1, class_weight={0: 1, 1: 10}, solver=liblinear........\n",
      "[CV 10/10; 3/100] START C=1, class_weight={0: 1, 1: 10}, solver=liblinear.......\n",
      "[CV 1/10; 4/100] START C=1, class_weight={0: 1, 1: 10}, solver=newton-cholesky..\n",
      "[CV 2/10; 4/100] START C=1, class_weight={0: 1, 1: 10}, solver=newton-cholesky..\n",
      "[CV 3/10; 4/100] START C=1, class_weight={0: 1, 1: 10}, solver=newton-cholesky..\n",
      "[CV 4/10; 4/100] START C=1, class_weight={0: 1, 1: 10}, solver=newton-cholesky..\n",
      "[CV 5/10; 4/100] START C=1, class_weight={0: 1, 1: 10}, solver=newton-cholesky..\n",
      "[CV 6/10; 4/100] START C=1, class_weight={0: 1, 1: 10}, solver=newton-cholesky..\n",
      "[CV 7/10; 4/100] START C=1, class_weight={0: 1, 1: 10}, solver=newton-cholesky..\n",
      "[CV 8/10; 4/100] START C=1, class_weight={0: 1, 1: 10}, solver=newton-cholesky..\n",
      "[CV 9/10; 4/100] START C=1, class_weight={0: 1, 1: 10}, solver=newton-cholesky..\n",
      "[CV 10/10; 4/100] START C=1, class_weight={0: 1, 1: 10}, solver=newton-cholesky.\n"
     ]
    },
    {
     "name": "stderr",
     "output_type": "stream",
     "text": [
      "/opt/mamba/lib/python3.10/site-packages/sklearn/linear_model/_glm/_newton_solver.py:491: LinAlgWarning: The inner solver of NewtonCholeskySolver stumbled upon a singular or very ill-conditioned Hessian matrix at iteration #3. It will now resort to lbfgs instead.\n",
      "Further options are to use another solver or to avoid such situation in the first place. Possible remedies are removing collinear features of X or increasing the penalization strengths.\n",
      "The original Linear Algebra message was:\n",
      "Matrix is singular.\n",
      "  warnings.warn(\n",
      "/opt/mamba/lib/python3.10/site-packages/sklearn/linear_model/_glm/_newton_solver.py:491: LinAlgWarning: The inner solver of NewtonCholeskySolver stumbled upon a singular or very ill-conditioned Hessian matrix at iteration #3. It will now resort to lbfgs instead.\n",
      "Further options are to use another solver or to avoid such situation in the first place. Possible remedies are removing collinear features of X or increasing the penalization strengths.\n",
      "The original Linear Algebra message was:\n",
      "Matrix is singular.\n",
      "  warnings.warn(\n",
      "/opt/mamba/lib/python3.10/site-packages/sklearn/linear_model/_glm/_newton_solver.py:491: LinAlgWarning: The inner solver of NewtonCholeskySolver stumbled upon a singular or very ill-conditioned Hessian matrix at iteration #3. It will now resort to lbfgs instead.\n",
      "Further options are to use another solver or to avoid such situation in the first place. Possible remedies are removing collinear features of X or increasing the penalization strengths.\n",
      "The original Linear Algebra message was:\n",
      "Matrix is singular.\n",
      "  warnings.warn(\n",
      "/opt/mamba/lib/python3.10/site-packages/sklearn/linear_model/_glm/_newton_solver.py:491: LinAlgWarning: The inner solver of NewtonCholeskySolver stumbled upon a singular or very ill-conditioned Hessian matrix at iteration #3. It will now resort to lbfgs instead.\n",
      "Further options are to use another solver or to avoid such situation in the first place. Possible remedies are removing collinear features of X or increasing the penalization strengths.\n",
      "The original Linear Algebra message was:\n",
      "Matrix is singular.\n",
      "  warnings.warn(\n"
     ]
    },
    {
     "name": "stdout",
     "output_type": "stream",
     "text": [
      "[CV 1/10; 5/100] START C=1, class_weight={0: 1, 1: 14}, solver=liblinear........\n"
     ]
    },
    {
     "name": "stderr",
     "output_type": "stream",
     "text": [
      "/opt/mamba/lib/python3.10/site-packages/sklearn/linear_model/_glm/_newton_solver.py:491: LinAlgWarning: The inner solver of NewtonCholeskySolver stumbled upon a singular or very ill-conditioned Hessian matrix at iteration #3. It will now resort to lbfgs instead.\n",
      "Further options are to use another solver or to avoid such situation in the first place. Possible remedies are removing collinear features of X or increasing the penalization strengths.\n",
      "The original Linear Algebra message was:\n",
      "Matrix is singular.\n",
      "  warnings.warn(\n",
      "/opt/mamba/lib/python3.10/site-packages/sklearn/linear_model/_glm/_newton_solver.py:491: LinAlgWarning: The inner solver of NewtonCholeskySolver stumbled upon a singular or very ill-conditioned Hessian matrix at iteration #3. It will now resort to lbfgs instead.\n",
      "Further options are to use another solver or to avoid such situation in the first place. Possible remedies are removing collinear features of X or increasing the penalization strengths.\n",
      "The original Linear Algebra message was:\n",
      "Matrix is singular.\n",
      "  warnings.warn(\n",
      "/opt/mamba/lib/python3.10/site-packages/sklearn/linear_model/_glm/_newton_solver.py:491: LinAlgWarning: The inner solver of NewtonCholeskySolver stumbled upon a singular or very ill-conditioned Hessian matrix at iteration #3. It will now resort to lbfgs instead.\n",
      "Further options are to use another solver or to avoid such situation in the first place. Possible remedies are removing collinear features of X or increasing the penalization strengths.\n",
      "The original Linear Algebra message was:\n",
      "Matrix is singular.\n",
      "  warnings.warn(\n",
      "/opt/mamba/lib/python3.10/site-packages/sklearn/linear_model/_glm/_newton_solver.py:491: LinAlgWarning: The inner solver of NewtonCholeskySolver stumbled upon a singular or very ill-conditioned Hessian matrix at iteration #3. It will now resort to lbfgs instead.\n",
      "Further options are to use another solver or to avoid such situation in the first place. Possible remedies are removing collinear features of X or increasing the penalization strengths.\n",
      "The original Linear Algebra message was:\n",
      "Matrix is singular.\n",
      "  warnings.warn(\n",
      "/opt/mamba/lib/python3.10/site-packages/sklearn/linear_model/_glm/_newton_solver.py:491: LinAlgWarning: The inner solver of NewtonCholeskySolver stumbled upon a singular or very ill-conditioned Hessian matrix at iteration #3. It will now resort to lbfgs instead.\n",
      "Further options are to use another solver or to avoid such situation in the first place. Possible remedies are removing collinear features of X or increasing the penalization strengths.\n",
      "The original Linear Algebra message was:\n",
      "Matrix is singular.\n",
      "  warnings.warn(\n"
     ]
    },
    {
     "name": "stdout",
     "output_type": "stream",
     "text": [
      "[CV 4/10; 4/100] END C=1, class_weight={0: 1, 1: 10}, solver=newton-cholesky;, score=0.565 total time=   0.7s\n",
      "[CV 2/10; 5/100] START C=1, class_weight={0: 1, 1: 14}, solver=liblinear........\n"
     ]
    },
    {
     "name": "stderr",
     "output_type": "stream",
     "text": [
      "/opt/mamba/lib/python3.10/site-packages/sklearn/linear_model/_glm/_newton_solver.py:195: ConvergenceWarning: lbfgs failed to converge (status=1):\n",
      "STOP: TOTAL NO. of ITERATIONS REACHED LIMIT.\n",
      "\n",
      "Increase the number of iterations (max_iter) or scale the data as shown in:\n",
      "    https://scikit-learn.org/stable/modules/preprocessing.html\n",
      "  self.n_iter_ = _check_optimize_result(\"lbfgs\", opt_res)\n",
      "/opt/mamba/lib/python3.10/site-packages/sklearn/linear_model/_glm/_newton_solver.py:195: ConvergenceWarning: lbfgs failed to converge (status=1):\n",
      "STOP: TOTAL NO. of ITERATIONS REACHED LIMIT.\n",
      "\n",
      "Increase the number of iterations (max_iter) or scale the data as shown in:\n",
      "    https://scikit-learn.org/stable/modules/preprocessing.html\n",
      "  self.n_iter_ = _check_optimize_result(\"lbfgs\", opt_res)\n",
      "/opt/mamba/lib/python3.10/site-packages/sklearn/linear_model/_glm/_newton_solver.py:195: ConvergenceWarning: lbfgs failed to converge (status=1):\n",
      "STOP: TOTAL NO. of ITERATIONS REACHED LIMIT.\n",
      "\n",
      "Increase the number of iterations (max_iter) or scale the data as shown in:\n",
      "    https://scikit-learn.org/stable/modules/preprocessing.html\n",
      "  self.n_iter_ = _check_optimize_result(\"lbfgs\", opt_res)\n",
      "/opt/mamba/lib/python3.10/site-packages/sklearn/linear_model/_glm/_newton_solver.py:195: ConvergenceWarning: lbfgs failed to converge (status=1):\n",
      "STOP: TOTAL NO. of ITERATIONS REACHED LIMIT.\n",
      "\n",
      "Increase the number of iterations (max_iter) or scale the data as shown in:\n",
      "    https://scikit-learn.org/stable/modules/preprocessing.html\n",
      "  self.n_iter_ = _check_optimize_result(\"lbfgs\", opt_res)\n"
     ]
    },
    {
     "name": "stdout",
     "output_type": "stream",
     "text": [
      "[CV 1/10; 2/100] END C=1, class_weight={0: 1, 1: 1}, solver=newton-cholesky;, score=0.281 total time=   2.2s\n",
      "[CV 5/10; 2/100] END C=1, class_weight={0: 1, 1: 1}, solver=newton-cholesky;, score=0.325 total time=   2.0s\n",
      "[CV 3/10; 5/100] START C=1, class_weight={0: 1, 1: 14}, solver=liblinear........\n",
      "[CV 4/10; 5/100] START C=1, class_weight={0: 1, 1: 14}, solver=liblinear........\n",
      "[CV 7/10; 2/100] END C=1, class_weight={0: 1, 1: 1}, solver=newton-cholesky;, score=0.257 total time=   2.1s\n",
      "[CV 3/10; 2/100] END C=1, class_weight={0: 1, 1: 1}, solver=newton-cholesky;, score=0.248 total time=   2.3s\n"
     ]
    },
    {
     "name": "stderr",
     "output_type": "stream",
     "text": [
      "/opt/mamba/lib/python3.10/site-packages/sklearn/linear_model/_glm/_newton_solver.py:195: ConvergenceWarning: lbfgs failed to converge (status=1):\n",
      "STOP: TOTAL NO. of ITERATIONS REACHED LIMIT.\n",
      "\n",
      "Increase the number of iterations (max_iter) or scale the data as shown in:\n",
      "    https://scikit-learn.org/stable/modules/preprocessing.html\n",
      "  self.n_iter_ = _check_optimize_result(\"lbfgs\", opt_res)\n",
      "/opt/mamba/lib/python3.10/site-packages/sklearn/linear_model/_glm/_newton_solver.py:195: ConvergenceWarning: lbfgs failed to converge (status=1):\n",
      "STOP: TOTAL NO. of ITERATIONS REACHED LIMIT.\n",
      "\n",
      "Increase the number of iterations (max_iter) or scale the data as shown in:\n",
      "    https://scikit-learn.org/stable/modules/preprocessing.html\n",
      "  self.n_iter_ = _check_optimize_result(\"lbfgs\", opt_res)\n"
     ]
    },
    {
     "name": "stdout",
     "output_type": "stream",
     "text": [
      "[CV 8/10; 2/100] END C=1, class_weight={0: 1, 1: 1}, solver=newton-cholesky;, score=0.205 total time=   2.1s\n",
      "[CV 5/10; 5/100] START C=1, class_weight={0: 1, 1: 14}, solver=liblinear........\n",
      "[CV 6/10; 5/100] START C=1, class_weight={0: 1, 1: 14}, solver=liblinear........\n",
      "[CV 7/10; 5/100] START C=1, class_weight={0: 1, 1: 14}, solver=liblinear........\n",
      "[CV 3/10; 1/100] END C=1, class_weight={0: 1, 1: 1}, solver=liblinear;, score=0.248 total time=   2.8s\n",
      "[CV 2/10; 2/100] END C=1, class_weight={0: 1, 1: 1}, solver=newton-cholesky;, score=0.286 total time=   2.5s\n",
      "[CV 8/10; 5/100] START C=1, class_weight={0: 1, 1: 14}, solver=liblinear........\n",
      "[CV 9/10; 5/100] START C=1, class_weight={0: 1, 1: 14}, solver=liblinear........\n",
      "[CV 9/10; 2/100] END C=1, class_weight={0: 1, 1: 1}, solver=newton-cholesky;, score=0.207 total time=   2.4s\n"
     ]
    },
    {
     "name": "stderr",
     "output_type": "stream",
     "text": [
      "/opt/mamba/lib/python3.10/site-packages/sklearn/linear_model/_glm/_newton_solver.py:195: ConvergenceWarning: lbfgs failed to converge (status=1):\n",
      "STOP: TOTAL NO. of ITERATIONS REACHED LIMIT.\n",
      "\n",
      "Increase the number of iterations (max_iter) or scale the data as shown in:\n",
      "    https://scikit-learn.org/stable/modules/preprocessing.html\n",
      "  self.n_iter_ = _check_optimize_result(\"lbfgs\", opt_res)\n",
      "/opt/mamba/lib/python3.10/site-packages/sklearn/linear_model/_glm/_newton_solver.py:195: ConvergenceWarning: lbfgs failed to converge (status=1):\n",
      "STOP: TOTAL NO. of ITERATIONS REACHED LIMIT.\n",
      "\n",
      "Increase the number of iterations (max_iter) or scale the data as shown in:\n",
      "    https://scikit-learn.org/stable/modules/preprocessing.html\n",
      "  self.n_iter_ = _check_optimize_result(\"lbfgs\", opt_res)\n"
     ]
    },
    {
     "name": "stdout",
     "output_type": "stream",
     "text": [
      "[CV 6/10; 2/100] END C=1, class_weight={0: 1, 1: 1}, solver=newton-cholesky;, score=0.250 total time=   2.6s\n",
      "[CV 10/10; 5/100] START C=1, class_weight={0: 1, 1: 14}, solver=liblinear.......\n",
      "[CV 1/10; 6/100] START C=1, class_weight={0: 1, 1: 14}, solver=newton-cholesky..\n",
      "[CV 5/10; 1/100] END C=1, class_weight={0: 1, 1: 1}, solver=liblinear;, score=0.313 total time=   3.2s\n"
     ]
    },
    {
     "name": "stderr",
     "output_type": "stream",
     "text": [
      "/opt/mamba/lib/python3.10/site-packages/sklearn/linear_model/_glm/_newton_solver.py:195: ConvergenceWarning: lbfgs failed to converge (status=1):\n",
      "STOP: TOTAL NO. of ITERATIONS REACHED LIMIT.\n",
      "\n",
      "Increase the number of iterations (max_iter) or scale the data as shown in:\n",
      "    https://scikit-learn.org/stable/modules/preprocessing.html\n",
      "  self.n_iter_ = _check_optimize_result(\"lbfgs\", opt_res)\n",
      "/opt/mamba/lib/python3.10/site-packages/sklearn/linear_model/_glm/_newton_solver.py:491: LinAlgWarning: The inner solver of NewtonCholeskySolver stumbled upon a singular or very ill-conditioned Hessian matrix at iteration #3. It will now resort to lbfgs instead.\n",
      "Further options are to use another solver or to avoid such situation in the first place. Possible remedies are removing collinear features of X or increasing the penalization strengths.\n",
      "The original Linear Algebra message was:\n",
      "Matrix is singular.\n",
      "  warnings.warn(\n"
     ]
    },
    {
     "name": "stdout",
     "output_type": "stream",
     "text": [
      "[CV 2/10; 6/100] START C=1, class_weight={0: 1, 1: 14}, solver=newton-cholesky..\n",
      "[CV 10/10; 2/100] END C=1, class_weight={0: 1, 1: 1}, solver=newton-cholesky;, score=0.302 total time=   2.7s\n",
      "[CV 3/10; 6/100] START C=1, class_weight={0: 1, 1: 14}, solver=newton-cholesky..\n"
     ]
    },
    {
     "name": "stderr",
     "output_type": "stream",
     "text": [
      "/opt/mamba/lib/python3.10/site-packages/sklearn/linear_model/_glm/_newton_solver.py:491: LinAlgWarning: The inner solver of NewtonCholeskySolver stumbled upon a singular or very ill-conditioned Hessian matrix at iteration #3. It will now resort to lbfgs instead.\n",
      "Further options are to use another solver or to avoid such situation in the first place. Possible remedies are removing collinear features of X or increasing the penalization strengths.\n",
      "The original Linear Algebra message was:\n",
      "Matrix is singular.\n",
      "  warnings.warn(\n",
      "/opt/mamba/lib/python3.10/site-packages/sklearn/linear_model/_glm/_newton_solver.py:195: ConvergenceWarning: lbfgs failed to converge (status=1):\n",
      "STOP: TOTAL NO. of ITERATIONS REACHED LIMIT.\n",
      "\n",
      "Increase the number of iterations (max_iter) or scale the data as shown in:\n",
      "    https://scikit-learn.org/stable/modules/preprocessing.html\n",
      "  self.n_iter_ = _check_optimize_result(\"lbfgs\", opt_res)\n",
      "/opt/mamba/lib/python3.10/site-packages/sklearn/linear_model/_glm/_newton_solver.py:195: ConvergenceWarning: lbfgs failed to converge (status=1):\n",
      "STOP: TOTAL NO. of ITERATIONS REACHED LIMIT.\n",
      "\n",
      "Increase the number of iterations (max_iter) or scale the data as shown in:\n",
      "    https://scikit-learn.org/stable/modules/preprocessing.html\n",
      "  self.n_iter_ = _check_optimize_result(\"lbfgs\", opt_res)\n",
      "/opt/mamba/lib/python3.10/site-packages/sklearn/linear_model/_glm/_newton_solver.py:195: ConvergenceWarning: lbfgs failed to converge (status=1):\n",
      "STOP: TOTAL NO. of ITERATIONS REACHED LIMIT.\n",
      "\n",
      "Increase the number of iterations (max_iter) or scale the data as shown in:\n",
      "    https://scikit-learn.org/stable/modules/preprocessing.html\n",
      "  self.n_iter_ = _check_optimize_result(\"lbfgs\", opt_res)\n",
      "/opt/mamba/lib/python3.10/site-packages/sklearn/linear_model/_glm/_newton_solver.py:491: LinAlgWarning: The inner solver of NewtonCholeskySolver stumbled upon a singular or very ill-conditioned Hessian matrix at iteration #3. It will now resort to lbfgs instead.\n",
      "Further options are to use another solver or to avoid such situation in the first place. Possible remedies are removing collinear features of X or increasing the penalization strengths.\n",
      "The original Linear Algebra message was:\n",
      "Matrix is singular.\n",
      "  warnings.warn(\n"
     ]
    },
    {
     "name": "stdout",
     "output_type": "stream",
     "text": [
      "[CV 3/10; 4/100] END C=1, class_weight={0: 1, 1: 10}, solver=newton-cholesky;, score=0.566 total time=   2.4s\n",
      "[CV 5/10; 4/100] END C=1, class_weight={0: 1, 1: 10}, solver=newton-cholesky;, score=0.564 total time=   2.4s\n",
      "[CV 4/10; 6/100] START C=1, class_weight={0: 1, 1: 14}, solver=newton-cholesky..\n",
      "[CV 2/10; 4/100] END C=1, class_weight={0: 1, 1: 10}, solver=newton-cholesky;, score=0.525 total time=   2.5s\n",
      "[CV 5/10; 6/100] START C=1, class_weight={0: 1, 1: 14}, solver=newton-cholesky..\n",
      "[CV 6/10; 6/100] START C=1, class_weight={0: 1, 1: 14}, solver=newton-cholesky..\n"
     ]
    },
    {
     "name": "stderr",
     "output_type": "stream",
     "text": [
      "/opt/mamba/lib/python3.10/site-packages/sklearn/linear_model/_glm/_newton_solver.py:195: ConvergenceWarning: lbfgs failed to converge (status=1):\n",
      "STOP: TOTAL NO. of ITERATIONS REACHED LIMIT.\n",
      "\n",
      "Increase the number of iterations (max_iter) or scale the data as shown in:\n",
      "    https://scikit-learn.org/stable/modules/preprocessing.html\n",
      "  self.n_iter_ = _check_optimize_result(\"lbfgs\", opt_res)\n",
      "/opt/mamba/lib/python3.10/site-packages/sklearn/linear_model/_glm/_newton_solver.py:491: LinAlgWarning: The inner solver of NewtonCholeskySolver stumbled upon a singular or very ill-conditioned Hessian matrix at iteration #3. It will now resort to lbfgs instead.\n",
      "Further options are to use another solver or to avoid such situation in the first place. Possible remedies are removing collinear features of X or increasing the penalization strengths.\n",
      "The original Linear Algebra message was:\n",
      "Matrix is singular.\n",
      "  warnings.warn(\n",
      "/opt/mamba/lib/python3.10/site-packages/sklearn/linear_model/_glm/_newton_solver.py:195: ConvergenceWarning: lbfgs failed to converge (status=1):\n",
      "STOP: TOTAL NO. of ITERATIONS REACHED LIMIT.\n",
      "\n",
      "Increase the number of iterations (max_iter) or scale the data as shown in:\n",
      "    https://scikit-learn.org/stable/modules/preprocessing.html\n",
      "  self.n_iter_ = _check_optimize_result(\"lbfgs\", opt_res)\n"
     ]
    },
    {
     "name": "stdout",
     "output_type": "stream",
     "text": [
      "[CV 7/10; 4/100] END C=1, class_weight={0: 1, 1: 10}, solver=newton-cholesky;, score=0.559 total time=   2.6s\n",
      "[CV 7/10; 6/100] START C=1, class_weight={0: 1, 1: 14}, solver=newton-cholesky..\n"
     ]
    },
    {
     "name": "stderr",
     "output_type": "stream",
     "text": [
      "/opt/mamba/lib/python3.10/site-packages/sklearn/linear_model/_glm/_newton_solver.py:491: LinAlgWarning: The inner solver of NewtonCholeskySolver stumbled upon a singular or very ill-conditioned Hessian matrix at iteration #3. It will now resort to lbfgs instead.\n",
      "Further options are to use another solver or to avoid such situation in the first place. Possible remedies are removing collinear features of X or increasing the penalization strengths.\n",
      "The original Linear Algebra message was:\n",
      "Matrix is singular.\n",
      "  warnings.warn(\n",
      "/opt/mamba/lib/python3.10/site-packages/sklearn/linear_model/_glm/_newton_solver.py:491: LinAlgWarning: The inner solver of NewtonCholeskySolver stumbled upon a singular or very ill-conditioned Hessian matrix at iteration #3. It will now resort to lbfgs instead.\n",
      "Further options are to use another solver or to avoid such situation in the first place. Possible remedies are removing collinear features of X or increasing the penalization strengths.\n",
      "The original Linear Algebra message was:\n",
      "Matrix is singular.\n",
      "  warnings.warn(\n"
     ]
    },
    {
     "name": "stdout",
     "output_type": "stream",
     "text": [
      "[CV 6/10; 4/100] END C=1, class_weight={0: 1, 1: 10}, solver=newton-cholesky;, score=0.546 total time=   2.8s\n",
      "[CV 8/10; 6/100] START C=1, class_weight={0: 1, 1: 14}, solver=newton-cholesky..\n",
      "[CV 4/10; 6/100] END C=1, class_weight={0: 1, 1: 14}, solver=newton-cholesky;, score=0.497 total time=   0.6s\n",
      "[CV 9/10; 6/100] START C=1, class_weight={0: 1, 1: 14}, solver=newton-cholesky..\n"
     ]
    },
    {
     "name": "stderr",
     "output_type": "stream",
     "text": [
      "/opt/mamba/lib/python3.10/site-packages/sklearn/linear_model/_glm/_newton_solver.py:195: ConvergenceWarning: lbfgs failed to converge (status=1):\n",
      "STOP: TOTAL NO. of ITERATIONS REACHED LIMIT.\n",
      "\n",
      "Increase the number of iterations (max_iter) or scale the data as shown in:\n",
      "    https://scikit-learn.org/stable/modules/preprocessing.html\n",
      "  self.n_iter_ = _check_optimize_result(\"lbfgs\", opt_res)\n",
      "/opt/mamba/lib/python3.10/site-packages/sklearn/linear_model/_glm/_newton_solver.py:491: LinAlgWarning: The inner solver of NewtonCholeskySolver stumbled upon a singular or very ill-conditioned Hessian matrix at iteration #3. It will now resort to lbfgs instead.\n",
      "Further options are to use another solver or to avoid such situation in the first place. Possible remedies are removing collinear features of X or increasing the penalization strengths.\n",
      "The original Linear Algebra message was:\n",
      "Matrix is singular.\n",
      "  warnings.warn(\n",
      "/opt/mamba/lib/python3.10/site-packages/sklearn/linear_model/_glm/_newton_solver.py:195: ConvergenceWarning: lbfgs failed to converge (status=1):\n",
      "STOP: TOTAL NO. of ITERATIONS REACHED LIMIT.\n",
      "\n",
      "Increase the number of iterations (max_iter) or scale the data as shown in:\n",
      "    https://scikit-learn.org/stable/modules/preprocessing.html\n",
      "  self.n_iter_ = _check_optimize_result(\"lbfgs\", opt_res)\n",
      "/opt/mamba/lib/python3.10/site-packages/sklearn/linear_model/_glm/_newton_solver.py:195: ConvergenceWarning: lbfgs failed to converge (status=1):\n",
      "STOP: TOTAL NO. of ITERATIONS REACHED LIMIT.\n",
      "\n",
      "Increase the number of iterations (max_iter) or scale the data as shown in:\n",
      "    https://scikit-learn.org/stable/modules/preprocessing.html\n",
      "  self.n_iter_ = _check_optimize_result(\"lbfgs\", opt_res)\n"
     ]
    },
    {
     "name": "stdout",
     "output_type": "stream",
     "text": [
      "[CV 10/10; 4/100] END C=1, class_weight={0: 1, 1: 10}, solver=newton-cholesky;, score=0.505 total time=   2.9s\n",
      "[CV 10/10; 6/100] START C=1, class_weight={0: 1, 1: 14}, solver=newton-cholesky.\n",
      "[CV 1/10; 4/100] END C=1, class_weight={0: 1, 1: 10}, solver=newton-cholesky;, score=0.487 total time=   3.5s\n",
      "[CV 9/10; 4/100] END C=1, class_weight={0: 1, 1: 10}, solver=newton-cholesky;, score=0.533 total time=   3.1s\n",
      "[CV 1/10; 7/100] START C=1, class_weight={0: 1, 1: 15}, solver=liblinear........\n",
      "[CV 2/10; 7/100] START C=1, class_weight={0: 1, 1: 15}, solver=liblinear........\n"
     ]
    },
    {
     "name": "stderr",
     "output_type": "stream",
     "text": [
      "/opt/mamba/lib/python3.10/site-packages/sklearn/linear_model/_glm/_newton_solver.py:491: LinAlgWarning: The inner solver of NewtonCholeskySolver stumbled upon a singular or very ill-conditioned Hessian matrix at iteration #3. It will now resort to lbfgs instead.\n",
      "Further options are to use another solver or to avoid such situation in the first place. Possible remedies are removing collinear features of X or increasing the penalization strengths.\n",
      "The original Linear Algebra message was:\n",
      "Matrix is singular.\n",
      "  warnings.warn(\n",
      "/opt/mamba/lib/python3.10/site-packages/sklearn/linear_model/_glm/_newton_solver.py:195: ConvergenceWarning: lbfgs failed to converge (status=1):\n",
      "STOP: TOTAL NO. of ITERATIONS REACHED LIMIT.\n",
      "\n",
      "Increase the number of iterations (max_iter) or scale the data as shown in:\n",
      "    https://scikit-learn.org/stable/modules/preprocessing.html\n",
      "  self.n_iter_ = _check_optimize_result(\"lbfgs\", opt_res)\n",
      "/opt/mamba/lib/python3.10/site-packages/sklearn/linear_model/_glm/_newton_solver.py:491: LinAlgWarning: The inner solver of NewtonCholeskySolver stumbled upon a singular or very ill-conditioned Hessian matrix at iteration #3. It will now resort to lbfgs instead.\n",
      "Further options are to use another solver or to avoid such situation in the first place. Possible remedies are removing collinear features of X or increasing the penalization strengths.\n",
      "The original Linear Algebra message was:\n",
      "Matrix is singular.\n",
      "  warnings.warn(\n"
     ]
    },
    {
     "name": "stdout",
     "output_type": "stream",
     "text": [
      "[CV 2/10; 1/100] END C=1, class_weight={0: 1, 1: 1}, solver=liblinear;, score=0.286 total time=   5.1s\n",
      "[CV 6/10; 1/100] END C=1, class_weight={0: 1, 1: 1}, solver=liblinear;, score=0.249 total time=   4.9s\n",
      "[CV 3/10; 7/100] START C=1, class_weight={0: 1, 1: 15}, solver=liblinear........\n",
      "[CV 3/10; 3/100] END C=1, class_weight={0: 1, 1: 10}, solver=liblinear;, score=0.562 total time=   4.3s\n",
      "[CV 8/10; 4/100] END C=1, class_weight={0: 1, 1: 10}, solver=newton-cholesky;, score=0.517 total time=   3.5s\n",
      "[CV 4/10; 7/100] START C=1, class_weight={0: 1, 1: 15}, solver=liblinear........\n",
      "[CV 5/10; 7/100] START C=1, class_weight={0: 1, 1: 15}, solver=liblinear........\n",
      "[CV 6/10; 7/100] START C=1, class_weight={0: 1, 1: 15}, solver=liblinear........\n",
      "[CV 9/10; 1/100] END C=1, class_weight={0: 1, 1: 1}, solver=liblinear;, score=0.212 total time=   5.0s\n",
      "[CV 7/10; 7/100] START C=1, class_weight={0: 1, 1: 15}, solver=liblinear........\n",
      "[CV 1/10; 1/100] END C=1, class_weight={0: 1, 1: 1}, solver=liblinear;, score=0.289 total time=   5.4s\n",
      "[CV 8/10; 7/100] START C=1, class_weight={0: 1, 1: 15}, solver=liblinear........\n",
      "[CV 1/10; 6/100] END C=1, class_weight={0: 1, 1: 14}, solver=newton-cholesky;, score=0.394 total time=   2.2s\n",
      "[CV 9/10; 7/100] START C=1, class_weight={0: 1, 1: 15}, solver=liblinear........\n"
     ]
    },
    {
     "name": "stderr",
     "output_type": "stream",
     "text": [
      "/opt/mamba/lib/python3.10/site-packages/sklearn/linear_model/_glm/_newton_solver.py:195: ConvergenceWarning: lbfgs failed to converge (status=1):\n",
      "STOP: TOTAL NO. of ITERATIONS REACHED LIMIT.\n",
      "\n",
      "Increase the number of iterations (max_iter) or scale the data as shown in:\n",
      "    https://scikit-learn.org/stable/modules/preprocessing.html\n",
      "  self.n_iter_ = _check_optimize_result(\"lbfgs\", opt_res)\n"
     ]
    },
    {
     "name": "stdout",
     "output_type": "stream",
     "text": [
      "[CV 7/10; 1/100] END C=1, class_weight={0: 1, 1: 1}, solver=liblinear;, score=0.244 total time=   5.3s\n",
      "[CV 10/10; 7/100] START C=1, class_weight={0: 1, 1: 15}, solver=liblinear.......\n",
      "[CV 4/10; 1/100] END C=1, class_weight={0: 1, 1: 1}, solver=liblinear;, score=0.215 total time=   5.8s\n",
      "[CV 1/10; 8/100] START C=1, class_weight={0: 1, 1: 15}, solver=newton-cholesky..\n"
     ]
    },
    {
     "name": "stderr",
     "output_type": "stream",
     "text": [
      "/opt/mamba/lib/python3.10/site-packages/sklearn/linear_model/_glm/_newton_solver.py:195: ConvergenceWarning: lbfgs failed to converge (status=1):\n",
      "STOP: TOTAL NO. of ITERATIONS REACHED LIMIT.\n",
      "\n",
      "Increase the number of iterations (max_iter) or scale the data as shown in:\n",
      "    https://scikit-learn.org/stable/modules/preprocessing.html\n",
      "  self.n_iter_ = _check_optimize_result(\"lbfgs\", opt_res)\n",
      "/opt/mamba/lib/python3.10/site-packages/sklearn/linear_model/_glm/_newton_solver.py:491: LinAlgWarning: The inner solver of NewtonCholeskySolver stumbled upon a singular or very ill-conditioned Hessian matrix at iteration #3. It will now resort to lbfgs instead.\n",
      "Further options are to use another solver or to avoid such situation in the first place. Possible remedies are removing collinear features of X or increasing the penalization strengths.\n",
      "The original Linear Algebra message was:\n",
      "Matrix is singular.\n",
      "  warnings.warn(\n"
     ]
    },
    {
     "name": "stdout",
     "output_type": "stream",
     "text": [
      "[CV 2/10; 6/100] END C=1, class_weight={0: 1, 1: 14}, solver=newton-cholesky;, score=0.468 total time=   2.7s\n",
      "[CV 2/10; 8/100] START C=1, class_weight={0: 1, 1: 15}, solver=newton-cholesky..\n"
     ]
    },
    {
     "name": "stderr",
     "output_type": "stream",
     "text": [
      "/opt/mamba/lib/python3.10/site-packages/sklearn/linear_model/_glm/_newton_solver.py:195: ConvergenceWarning: lbfgs failed to converge (status=1):\n",
      "STOP: TOTAL NO. of ITERATIONS REACHED LIMIT.\n",
      "\n",
      "Increase the number of iterations (max_iter) or scale the data as shown in:\n",
      "    https://scikit-learn.org/stable/modules/preprocessing.html\n",
      "  self.n_iter_ = _check_optimize_result(\"lbfgs\", opt_res)\n",
      "/opt/mamba/lib/python3.10/site-packages/sklearn/linear_model/_glm/_newton_solver.py:491: LinAlgWarning: The inner solver of NewtonCholeskySolver stumbled upon a singular or very ill-conditioned Hessian matrix at iteration #3. It will now resort to lbfgs instead.\n",
      "Further options are to use another solver or to avoid such situation in the first place. Possible remedies are removing collinear features of X or increasing the penalization strengths.\n",
      "The original Linear Algebra message was:\n",
      "Matrix is singular.\n",
      "  warnings.warn(\n"
     ]
    },
    {
     "name": "stdout",
     "output_type": "stream",
     "text": [
      "[CV 5/10; 6/100] END C=1, class_weight={0: 1, 1: 14}, solver=newton-cholesky;, score=0.475 total time=   2.4s\n",
      "[CV 3/10; 8/100] START C=1, class_weight={0: 1, 1: 15}, solver=newton-cholesky..\n"
     ]
    },
    {
     "name": "stderr",
     "output_type": "stream",
     "text": [
      "/opt/mamba/lib/python3.10/site-packages/sklearn/linear_model/_glm/_newton_solver.py:195: ConvergenceWarning: lbfgs failed to converge (status=1):\n",
      "STOP: TOTAL NO. of ITERATIONS REACHED LIMIT.\n",
      "\n",
      "Increase the number of iterations (max_iter) or scale the data as shown in:\n",
      "    https://scikit-learn.org/stable/modules/preprocessing.html\n",
      "  self.n_iter_ = _check_optimize_result(\"lbfgs\", opt_res)\n",
      "/opt/mamba/lib/python3.10/site-packages/sklearn/linear_model/_glm/_newton_solver.py:195: ConvergenceWarning: lbfgs failed to converge (status=1):\n",
      "STOP: TOTAL NO. of ITERATIONS REACHED LIMIT.\n",
      "\n",
      "Increase the number of iterations (max_iter) or scale the data as shown in:\n",
      "    https://scikit-learn.org/stable/modules/preprocessing.html\n",
      "  self.n_iter_ = _check_optimize_result(\"lbfgs\", opt_res)\n",
      "/opt/mamba/lib/python3.10/site-packages/sklearn/linear_model/_glm/_newton_solver.py:195: ConvergenceWarning: lbfgs failed to converge (status=1):\n",
      "STOP: TOTAL NO. of ITERATIONS REACHED LIMIT.\n",
      "\n",
      "Increase the number of iterations (max_iter) or scale the data as shown in:\n",
      "    https://scikit-learn.org/stable/modules/preprocessing.html\n",
      "  self.n_iter_ = _check_optimize_result(\"lbfgs\", opt_res)\n",
      "/opt/mamba/lib/python3.10/site-packages/sklearn/linear_model/_glm/_newton_solver.py:491: LinAlgWarning: The inner solver of NewtonCholeskySolver stumbled upon a singular or very ill-conditioned Hessian matrix at iteration #3. It will now resort to lbfgs instead.\n",
      "Further options are to use another solver or to avoid such situation in the first place. Possible remedies are removing collinear features of X or increasing the penalization strengths.\n",
      "The original Linear Algebra message was:\n",
      "Matrix is singular.\n",
      "  warnings.warn(\n"
     ]
    },
    {
     "name": "stdout",
     "output_type": "stream",
     "text": [
      "[CV 7/10; 6/100] END C=1, class_weight={0: 1, 1: 14}, solver=newton-cholesky;, score=0.495 total time=   2.4s\n",
      "[CV 4/10; 8/100] START C=1, class_weight={0: 1, 1: 15}, solver=newton-cholesky..\n",
      "[CV 3/10; 6/100] END C=1, class_weight={0: 1, 1: 14}, solver=newton-cholesky;, score=0.474 total time=   3.2s\n",
      "[CV 3/10; 5/100] END C=1, class_weight={0: 1, 1: 14}, solver=liblinear;, score=0.479 total time=   4.1s\n",
      "[CV 6/10; 6/100] END C=1, class_weight={0: 1, 1: 14}, solver=newton-cholesky;, score=0.448 total time=   2.7s\n",
      "[CV 5/10; 8/100] START C=1, class_weight={0: 1, 1: 15}, solver=newton-cholesky..\n",
      "[CV 6/10; 8/100] START C=1, class_weight={0: 1, 1: 15}, solver=newton-cholesky..\n"
     ]
    },
    {
     "name": "stderr",
     "output_type": "stream",
     "text": [
      "/opt/mamba/lib/python3.10/site-packages/sklearn/linear_model/_glm/_newton_solver.py:195: ConvergenceWarning: lbfgs failed to converge (status=1):\n",
      "STOP: TOTAL NO. of ITERATIONS REACHED LIMIT.\n",
      "\n",
      "Increase the number of iterations (max_iter) or scale the data as shown in:\n",
      "    https://scikit-learn.org/stable/modules/preprocessing.html\n",
      "  self.n_iter_ = _check_optimize_result(\"lbfgs\", opt_res)\n"
     ]
    },
    {
     "name": "stdout",
     "output_type": "stream",
     "text": [
      "[CV 7/10; 8/100] START C=1, class_weight={0: 1, 1: 15}, solver=newton-cholesky..\n",
      "[CV 8/10; 6/100] END C=1, class_weight={0: 1, 1: 14}, solver=newton-cholesky;, score=0.406 total time=   2.4s\n",
      "[CV 8/10; 8/100] START C=1, class_weight={0: 1, 1: 15}, solver=newton-cholesky..\n",
      "[CV 10/10; 3/100] END C=1, class_weight={0: 1, 1: 10}, solver=liblinear;, score=0.499 total time=   5.7s\n",
      "[CV 9/10; 8/100] START C=1, class_weight={0: 1, 1: 15}, solver=newton-cholesky..\n"
     ]
    },
    {
     "name": "stderr",
     "output_type": "stream",
     "text": [
      "/opt/mamba/lib/python3.10/site-packages/sklearn/linear_model/_glm/_newton_solver.py:491: LinAlgWarning: The inner solver of NewtonCholeskySolver stumbled upon a singular or very ill-conditioned Hessian matrix at iteration #3. It will now resort to lbfgs instead.\n",
      "Further options are to use another solver or to avoid such situation in the first place. Possible remedies are removing collinear features of X or increasing the penalization strengths.\n",
      "The original Linear Algebra message was:\n",
      "Matrix is singular.\n",
      "  warnings.warn(\n",
      "/opt/mamba/lib/python3.10/site-packages/sklearn/linear_model/_glm/_newton_solver.py:491: LinAlgWarning: The inner solver of NewtonCholeskySolver stumbled upon a singular or very ill-conditioned Hessian matrix at iteration #3. It will now resort to lbfgs instead.\n",
      "Further options are to use another solver or to avoid such situation in the first place. Possible remedies are removing collinear features of X or increasing the penalization strengths.\n",
      "The original Linear Algebra message was:\n",
      "Matrix is singular.\n",
      "  warnings.warn(\n",
      "/opt/mamba/lib/python3.10/site-packages/sklearn/linear_model/_glm/_newton_solver.py:491: LinAlgWarning: The inner solver of NewtonCholeskySolver stumbled upon a singular or very ill-conditioned Hessian matrix at iteration #3. It will now resort to lbfgs instead.\n",
      "Further options are to use another solver or to avoid such situation in the first place. Possible remedies are removing collinear features of X or increasing the penalization strengths.\n",
      "The original Linear Algebra message was:\n",
      "Matrix is singular.\n",
      "  warnings.warn(\n",
      "/opt/mamba/lib/python3.10/site-packages/sklearn/linear_model/_glm/_newton_solver.py:491: LinAlgWarning: The inner solver of NewtonCholeskySolver stumbled upon a singular or very ill-conditioned Hessian matrix at iteration #3. It will now resort to lbfgs instead.\n",
      "Further options are to use another solver or to avoid such situation in the first place. Possible remedies are removing collinear features of X or increasing the penalization strengths.\n",
      "The original Linear Algebra message was:\n",
      "Matrix is singular.\n",
      "  warnings.warn(\n",
      "/opt/mamba/lib/python3.10/site-packages/sklearn/linear_model/_glm/_newton_solver.py:491: LinAlgWarning: The inner solver of NewtonCholeskySolver stumbled upon a singular or very ill-conditioned Hessian matrix at iteration #3. It will now resort to lbfgs instead.\n",
      "Further options are to use another solver or to avoid such situation in the first place. Possible remedies are removing collinear features of X or increasing the penalization strengths.\n",
      "The original Linear Algebra message was:\n",
      "Matrix is singular.\n",
      "  warnings.warn(\n"
     ]
    },
    {
     "name": "stdout",
     "output_type": "stream",
     "text": [
      "[CV 9/10; 5/100] END C=1, class_weight={0: 1, 1: 14}, solver=liblinear;, score=0.443 total time=   4.2s\n",
      "[CV 2/10; 5/100] END C=1, class_weight={0: 1, 1: 14}, solver=liblinear;, score=0.474 total time=   5.1s\n",
      "[CV 10/10; 8/100] START C=1, class_weight={0: 1, 1: 15}, solver=newton-cholesky.\n",
      "[CV 1/10; 3/100] END C=1, class_weight={0: 1, 1: 10}, solver=liblinear;, score=0.487 total time=   6.6s\n",
      "[CV 4/10; 8/100] END C=1, class_weight={0: 1, 1: 15}, solver=newton-cholesky;, score=0.476 total time=   0.7s\n",
      "[CV 1/10; 9/100] START C=1, class_weight={0: 1, 1: 16}, solver=liblinear........\n",
      "[CV 8/10; 1/100] END C=1, class_weight={0: 1, 1: 1}, solver=liblinear;, score=0.212 total time=   7.2s\n",
      "[CV 2/10; 9/100] START C=1, class_weight={0: 1, 1: 16}, solver=liblinear........\n",
      "[CV 3/10; 9/100] START C=1, class_weight={0: 1, 1: 16}, solver=liblinear........\n",
      "[CV 4/10; 9/100] START C=1, class_weight={0: 1, 1: 16}, solver=liblinear........\n"
     ]
    },
    {
     "name": "stderr",
     "output_type": "stream",
     "text": [
      "/opt/mamba/lib/python3.10/site-packages/sklearn/linear_model/_glm/_newton_solver.py:491: LinAlgWarning: The inner solver of NewtonCholeskySolver stumbled upon a singular or very ill-conditioned Hessian matrix at iteration #3. It will now resort to lbfgs instead.\n",
      "Further options are to use another solver or to avoid such situation in the first place. Possible remedies are removing collinear features of X or increasing the penalization strengths.\n",
      "The original Linear Algebra message was:\n",
      "Matrix is singular.\n",
      "  warnings.warn(\n",
      "/opt/mamba/lib/python3.10/site-packages/sklearn/linear_model/_glm/_newton_solver.py:195: ConvergenceWarning: lbfgs failed to converge (status=1):\n",
      "STOP: TOTAL NO. of ITERATIONS REACHED LIMIT.\n",
      "\n",
      "Increase the number of iterations (max_iter) or scale the data as shown in:\n",
      "    https://scikit-learn.org/stable/modules/preprocessing.html\n",
      "  self.n_iter_ = _check_optimize_result(\"lbfgs\", opt_res)\n",
      "/opt/mamba/lib/python3.10/site-packages/sklearn/linear_model/_glm/_newton_solver.py:195: ConvergenceWarning: lbfgs failed to converge (status=1):\n",
      "STOP: TOTAL NO. of ITERATIONS REACHED LIMIT.\n",
      "\n",
      "Increase the number of iterations (max_iter) or scale the data as shown in:\n",
      "    https://scikit-learn.org/stable/modules/preprocessing.html\n",
      "  self.n_iter_ = _check_optimize_result(\"lbfgs\", opt_res)\n"
     ]
    },
    {
     "name": "stdout",
     "output_type": "stream",
     "text": [
      "[CV 7/10; 5/100] END C=1, class_weight={0: 1, 1: 14}, solver=liblinear;, score=0.493 total time=   5.0s\n",
      "[CV 10/10; 5/100] END C=1, class_weight={0: 1, 1: 14}, solver=liblinear;, score=0.434 total time=   4.7s\n",
      "[CV 9/10; 6/100] END C=1, class_weight={0: 1, 1: 14}, solver=newton-cholesky;, score=0.444 total time=   3.3s\n",
      "[CV 5/10; 9/100] START C=1, class_weight={0: 1, 1: 16}, solver=liblinear........\n",
      "[CV 6/10; 9/100] START C=1, class_weight={0: 1, 1: 16}, solver=liblinear........\n",
      "[CV 10/10; 6/100] END C=1, class_weight={0: 1, 1: 14}, solver=newton-cholesky;, score=0.439 total time=   3.2s\n",
      "[CV 7/10; 9/100] START C=1, class_weight={0: 1, 1: 16}, solver=liblinear........\n",
      "[CV 8/10; 9/100] START C=1, class_weight={0: 1, 1: 16}, solver=liblinear........\n",
      "[CV 5/10; 3/100] END C=1, class_weight={0: 1, 1: 10}, solver=liblinear;, score=0.563 total time=   7.2s\n",
      "[CV 9/10; 9/100] START C=1, class_weight={0: 1, 1: 16}, solver=liblinear........\n"
     ]
    },
    {
     "name": "stderr",
     "output_type": "stream",
     "text": [
      "/opt/mamba/lib/python3.10/site-packages/sklearn/linear_model/_glm/_newton_solver.py:195: ConvergenceWarning: lbfgs failed to converge (status=1):\n",
      "STOP: TOTAL NO. of ITERATIONS REACHED LIMIT.\n",
      "\n",
      "Increase the number of iterations (max_iter) or scale the data as shown in:\n",
      "    https://scikit-learn.org/stable/modules/preprocessing.html\n",
      "  self.n_iter_ = _check_optimize_result(\"lbfgs\", opt_res)\n"
     ]
    },
    {
     "name": "stdout",
     "output_type": "stream",
     "text": [
      "[CV 6/10; 5/100] END C=1, class_weight={0: 1, 1: 14}, solver=liblinear;, score=0.450 total time=   5.6s\n",
      "[CV 1/10; 8/100] END C=1, class_weight={0: 1, 1: 15}, solver=newton-cholesky;, score=0.376 total time=   2.5s\n",
      "[CV 10/10; 9/100] START C=1, class_weight={0: 1, 1: 16}, solver=liblinear.......\n",
      "[CV 6/10; 3/100] END C=1, class_weight={0: 1, 1: 10}, solver=liblinear;, score=0.546 total time=   7.4s\n",
      "[CV 1/10; 10/100] START C=1, class_weight={0: 1, 1: 16}, solver=newton-cholesky.\n",
      "[CV 2/10; 10/100] START C=1, class_weight={0: 1, 1: 16}, solver=newton-cholesky.\n",
      "[CV 10/10; 1/100] END C=1, class_weight={0: 1, 1: 1}, solver=liblinear;, score=0.305 total time=   8.4s\n",
      "[CV 3/10; 10/100] START C=1, class_weight={0: 1, 1: 16}, solver=newton-cholesky.\n",
      "[CV 2/10; 8/100] END C=1, class_weight={0: 1, 1: 15}, solver=newton-cholesky;, score=0.449 total time=   2.7s\n",
      "[CV 4/10; 10/100] START C=1, class_weight={0: 1, 1: 16}, solver=newton-cholesky.\n"
     ]
    },
    {
     "name": "stderr",
     "output_type": "stream",
     "text": [
      "/opt/mamba/lib/python3.10/site-packages/sklearn/linear_model/_glm/_newton_solver.py:195: ConvergenceWarning: lbfgs failed to converge (status=1):\n",
      "STOP: TOTAL NO. of ITERATIONS REACHED LIMIT.\n",
      "\n",
      "Increase the number of iterations (max_iter) or scale the data as shown in:\n",
      "    https://scikit-learn.org/stable/modules/preprocessing.html\n",
      "  self.n_iter_ = _check_optimize_result(\"lbfgs\", opt_res)\n",
      "/opt/mamba/lib/python3.10/site-packages/sklearn/linear_model/_glm/_newton_solver.py:491: LinAlgWarning: The inner solver of NewtonCholeskySolver stumbled upon a singular or very ill-conditioned Hessian matrix at iteration #3. It will now resort to lbfgs instead.\n",
      "Further options are to use another solver or to avoid such situation in the first place. Possible remedies are removing collinear features of X or increasing the penalization strengths.\n",
      "The original Linear Algebra message was:\n",
      "Matrix is singular.\n",
      "  warnings.warn(\n",
      "/opt/mamba/lib/python3.10/site-packages/sklearn/linear_model/_glm/_newton_solver.py:195: ConvergenceWarning: lbfgs failed to converge (status=1):\n",
      "STOP: TOTAL NO. of ITERATIONS REACHED LIMIT.\n",
      "\n",
      "Increase the number of iterations (max_iter) or scale the data as shown in:\n",
      "    https://scikit-learn.org/stable/modules/preprocessing.html\n",
      "  self.n_iter_ = _check_optimize_result(\"lbfgs\", opt_res)\n",
      "/opt/mamba/lib/python3.10/site-packages/sklearn/linear_model/_glm/_newton_solver.py:491: LinAlgWarning: The inner solver of NewtonCholeskySolver stumbled upon a singular or very ill-conditioned Hessian matrix at iteration #3. It will now resort to lbfgs instead.\n",
      "Further options are to use another solver or to avoid such situation in the first place. Possible remedies are removing collinear features of X or increasing the penalization strengths.\n",
      "The original Linear Algebra message was:\n",
      "Matrix is singular.\n",
      "  warnings.warn(\n",
      "/opt/mamba/lib/python3.10/site-packages/sklearn/linear_model/_glm/_newton_solver.py:195: ConvergenceWarning: lbfgs failed to converge (status=1):\n",
      "STOP: TOTAL NO. of ITERATIONS REACHED LIMIT.\n",
      "\n",
      "Increase the number of iterations (max_iter) or scale the data as shown in:\n",
      "    https://scikit-learn.org/stable/modules/preprocessing.html\n",
      "  self.n_iter_ = _check_optimize_result(\"lbfgs\", opt_res)\n"
     ]
    },
    {
     "name": "stdout",
     "output_type": "stream",
     "text": [
      "[CV 3/10; 7/100] END C=1, class_weight={0: 1, 1: 15}, solver=liblinear;, score=0.453 total time=   3.8s\n",
      "[CV 3/10; 8/100] END C=1, class_weight={0: 1, 1: 15}, solver=newton-cholesky;, score=0.452 total time=   2.6s\n",
      "[CV 5/10; 10/100] START C=1, class_weight={0: 1, 1: 16}, solver=newton-cholesky.\n",
      "[CV 6/10; 8/100] END C=1, class_weight={0: 1, 1: 15}, solver=newton-cholesky;, score=0.425 total time=   2.3s\n",
      "[CV 6/10; 10/100] START C=1, class_weight={0: 1, 1: 16}, solver=newton-cholesky.\n",
      "[CV 8/10; 3/100] END C=1, class_weight={0: 1, 1: 10}, solver=liblinear;, score=0.517 total time=   8.0s\n",
      "[CV 2/10; 7/100] END C=1, class_weight={0: 1, 1: 15}, solver=liblinear;, score=0.450 total time=   4.2s\n",
      "[CV 7/10; 10/100] START C=1, class_weight={0: 1, 1: 16}, solver=newton-cholesky.\n",
      "[CV 5/10; 5/100] END C=1, class_weight={0: 1, 1: 14}, solver=liblinear;, score=0.471 total time=   6.4s\n",
      "[CV 8/10; 10/100] START C=1, class_weight={0: 1, 1: 16}, solver=newton-cholesky.\n"
     ]
    },
    {
     "name": "stderr",
     "output_type": "stream",
     "text": [
      "/opt/mamba/lib/python3.10/site-packages/sklearn/linear_model/_glm/_newton_solver.py:491: LinAlgWarning: The inner solver of NewtonCholeskySolver stumbled upon a singular or very ill-conditioned Hessian matrix at iteration #3. It will now resort to lbfgs instead.\n",
      "Further options are to use another solver or to avoid such situation in the first place. Possible remedies are removing collinear features of X or increasing the penalization strengths.\n",
      "The original Linear Algebra message was:\n",
      "Matrix is singular.\n",
      "  warnings.warn(\n"
     ]
    },
    {
     "name": "stdout",
     "output_type": "stream",
     "text": [
      "[CV 9/10; 10/100] START C=1, class_weight={0: 1, 1: 16}, solver=newton-cholesky.\n",
      "[CV 10/10; 10/100] START C=1, class_weight={0: 1, 1: 16}, solver=newton-cholesky\n",
      "[CV 1/10; 7/100] END C=1, class_weight={0: 1, 1: 15}, solver=liblinear;, score=0.365 total time=   4.5s\n",
      "[CV 4/10; 10/100] END C=1, class_weight={0: 1, 1: 16}, solver=newton-cholesky;, score=0.453 total time=   0.5s\n",
      "[CV 10/10; 7/100] END C=1, class_weight={0: 1, 1: 15}, solver=liblinear;, score=0.410 total time=   3.8s\n",
      "[CV 1/10; 11/100] START C=1, class_weight={0: 1, 1: 20}, solver=liblinear.......\n"
     ]
    },
    {
     "name": "stderr",
     "output_type": "stream",
     "text": [
      "/opt/mamba/lib/python3.10/site-packages/sklearn/linear_model/_glm/_newton_solver.py:491: LinAlgWarning: The inner solver of NewtonCholeskySolver stumbled upon a singular or very ill-conditioned Hessian matrix at iteration #3. It will now resort to lbfgs instead.\n",
      "Further options are to use another solver or to avoid such situation in the first place. Possible remedies are removing collinear features of X or increasing the penalization strengths.\n",
      "The original Linear Algebra message was:\n",
      "Matrix is singular.\n",
      "  warnings.warn(\n",
      "/opt/mamba/lib/python3.10/site-packages/sklearn/linear_model/_glm/_newton_solver.py:491: LinAlgWarning: The inner solver of NewtonCholeskySolver stumbled upon a singular or very ill-conditioned Hessian matrix at iteration #3. It will now resort to lbfgs instead.\n",
      "Further options are to use another solver or to avoid such situation in the first place. Possible remedies are removing collinear features of X or increasing the penalization strengths.\n",
      "The original Linear Algebra message was:\n",
      "Matrix is singular.\n",
      "  warnings.warn(\n",
      "/opt/mamba/lib/python3.10/site-packages/sklearn/linear_model/_glm/_newton_solver.py:491: LinAlgWarning: The inner solver of NewtonCholeskySolver stumbled upon a singular or very ill-conditioned Hessian matrix at iteration #3. It will now resort to lbfgs instead.\n",
      "Further options are to use another solver or to avoid such situation in the first place. Possible remedies are removing collinear features of X or increasing the penalization strengths.\n",
      "The original Linear Algebra message was:\n",
      "Matrix is singular.\n",
      "  warnings.warn(\n",
      "/opt/mamba/lib/python3.10/site-packages/sklearn/linear_model/_glm/_newton_solver.py:491: LinAlgWarning: The inner solver of NewtonCholeskySolver stumbled upon a singular or very ill-conditioned Hessian matrix at iteration #3. It will now resort to lbfgs instead.\n",
      "Further options are to use another solver or to avoid such situation in the first place. Possible remedies are removing collinear features of X or increasing the penalization strengths.\n",
      "The original Linear Algebra message was:\n",
      "Matrix is singular.\n",
      "  warnings.warn(\n",
      "/opt/mamba/lib/python3.10/site-packages/sklearn/linear_model/_glm/_newton_solver.py:195: ConvergenceWarning: lbfgs failed to converge (status=1):\n",
      "STOP: TOTAL NO. of ITERATIONS REACHED LIMIT.\n",
      "\n",
      "Increase the number of iterations (max_iter) or scale the data as shown in:\n",
      "    https://scikit-learn.org/stable/modules/preprocessing.html\n",
      "  self.n_iter_ = _check_optimize_result(\"lbfgs\", opt_res)\n",
      "/opt/mamba/lib/python3.10/site-packages/sklearn/linear_model/_glm/_newton_solver.py:491: LinAlgWarning: The inner solver of NewtonCholeskySolver stumbled upon a singular or very ill-conditioned Hessian matrix at iteration #3. It will now resort to lbfgs instead.\n",
      "Further options are to use another solver or to avoid such situation in the first place. Possible remedies are removing collinear features of X or increasing the penalization strengths.\n",
      "The original Linear Algebra message was:\n",
      "Matrix is singular.\n",
      "  warnings.warn(\n"
     ]
    },
    {
     "name": "stdout",
     "output_type": "stream",
     "text": [
      "[CV 2/10; 11/100] START C=1, class_weight={0: 1, 1: 20}, solver=liblinear.......\n",
      "[CV 9/10; 3/100] END C=1, class_weight={0: 1, 1: 10}, solver=liblinear;, score=0.538 total time=   8.3s\n",
      "[CV 3/10; 11/100] START C=1, class_weight={0: 1, 1: 20}, solver=liblinear.......\n",
      "[CV 8/10; 8/100] END C=1, class_weight={0: 1, 1: 15}, solver=newton-cholesky;, score=0.381 total time=   2.6s\n",
      "[CV 4/10; 11/100] START C=1, class_weight={0: 1, 1: 20}, solver=liblinear.......\n",
      "[CV 5/10; 11/100] START C=1, class_weight={0: 1, 1: 20}, solver=liblinear.......\n"
     ]
    },
    {
     "name": "stderr",
     "output_type": "stream",
     "text": [
      "/opt/mamba/lib/python3.10/site-packages/sklearn/linear_model/_glm/_newton_solver.py:491: LinAlgWarning: The inner solver of NewtonCholeskySolver stumbled upon a singular or very ill-conditioned Hessian matrix at iteration #3. It will now resort to lbfgs instead.\n",
      "Further options are to use another solver or to avoid such situation in the first place. Possible remedies are removing collinear features of X or increasing the penalization strengths.\n",
      "The original Linear Algebra message was:\n",
      "Matrix is singular.\n",
      "  warnings.warn(\n",
      "/opt/mamba/lib/python3.10/site-packages/sklearn/linear_model/_glm/_newton_solver.py:195: ConvergenceWarning: lbfgs failed to converge (status=1):\n",
      "STOP: TOTAL NO. of ITERATIONS REACHED LIMIT.\n",
      "\n",
      "Increase the number of iterations (max_iter) or scale the data as shown in:\n",
      "    https://scikit-learn.org/stable/modules/preprocessing.html\n",
      "  self.n_iter_ = _check_optimize_result(\"lbfgs\", opt_res)\n",
      "/opt/mamba/lib/python3.10/site-packages/sklearn/linear_model/_glm/_newton_solver.py:195: ConvergenceWarning: lbfgs failed to converge (status=1):\n",
      "STOP: TOTAL NO. of ITERATIONS REACHED LIMIT.\n",
      "\n",
      "Increase the number of iterations (max_iter) or scale the data as shown in:\n",
      "    https://scikit-learn.org/stable/modules/preprocessing.html\n",
      "  self.n_iter_ = _check_optimize_result(\"lbfgs\", opt_res)\n"
     ]
    },
    {
     "name": "stdout",
     "output_type": "stream",
     "text": [
      "[CV 5/10; 8/100] END C=1, class_weight={0: 1, 1: 15}, solver=newton-cholesky;, score=0.453 total time=   3.2s\n",
      "[CV 9/10; 8/100] END C=1, class_weight={0: 1, 1: 15}, solver=newton-cholesky;, score=0.413 total time=   3.0s\n",
      "[CV 6/10; 11/100] START C=1, class_weight={0: 1, 1: 20}, solver=liblinear.......\n",
      "[CV 7/10; 11/100] START C=1, class_weight={0: 1, 1: 20}, solver=liblinear.......\n"
     ]
    },
    {
     "name": "stderr",
     "output_type": "stream",
     "text": [
      "/opt/mamba/lib/python3.10/site-packages/sklearn/linear_model/_glm/_newton_solver.py:195: ConvergenceWarning: lbfgs failed to converge (status=1):\n",
      "STOP: TOTAL NO. of ITERATIONS REACHED LIMIT.\n",
      "\n",
      "Increase the number of iterations (max_iter) or scale the data as shown in:\n",
      "    https://scikit-learn.org/stable/modules/preprocessing.html\n",
      "  self.n_iter_ = _check_optimize_result(\"lbfgs\", opt_res)\n"
     ]
    },
    {
     "name": "stdout",
     "output_type": "stream",
     "text": [
      "[CV 7/10; 8/100] END C=1, class_weight={0: 1, 1: 15}, solver=newton-cholesky;, score=0.468 total time=   3.3s\n",
      "[CV 7/10; 7/100] END C=1, class_weight={0: 1, 1: 15}, solver=liblinear;, score=0.469 total time=   4.8s\n",
      "[CV 8/10; 11/100] START C=1, class_weight={0: 1, 1: 20}, solver=liblinear.......\n",
      "[CV 9/10; 11/100] START C=1, class_weight={0: 1, 1: 20}, solver=liblinear.......\n",
      "[CV 7/10; 3/100] END C=1, class_weight={0: 1, 1: 10}, solver=liblinear;, score=0.543 total time=   9.5s\n",
      "[CV 10/10; 11/100] START C=1, class_weight={0: 1, 1: 20}, solver=liblinear......\n"
     ]
    },
    {
     "name": "stderr",
     "output_type": "stream",
     "text": [
      "/opt/mamba/lib/python3.10/site-packages/sklearn/linear_model/_glm/_newton_solver.py:195: ConvergenceWarning: lbfgs failed to converge (status=1):\n",
      "STOP: TOTAL NO. of ITERATIONS REACHED LIMIT.\n",
      "\n",
      "Increase the number of iterations (max_iter) or scale the data as shown in:\n",
      "    https://scikit-learn.org/stable/modules/preprocessing.html\n",
      "  self.n_iter_ = _check_optimize_result(\"lbfgs\", opt_res)\n"
     ]
    },
    {
     "name": "stdout",
     "output_type": "stream",
     "text": [
      "[CV 10/10; 8/100] END C=1, class_weight={0: 1, 1: 15}, solver=newton-cholesky;, score=0.408 total time=   3.5s\n",
      "[CV 6/10; 7/100] END C=1, class_weight={0: 1, 1: 15}, solver=liblinear;, score=0.424 total time=   5.6s\n",
      "[CV 1/10; 12/100] START C=1, class_weight={0: 1, 1: 20}, solver=newton-cholesky.\n",
      "[CV 2/10; 12/100] START C=1, class_weight={0: 1, 1: 20}, solver=newton-cholesky.\n"
     ]
    },
    {
     "name": "stderr",
     "output_type": "stream",
     "text": [
      "/opt/mamba/lib/python3.10/site-packages/sklearn/linear_model/_glm/_newton_solver.py:491: LinAlgWarning: The inner solver of NewtonCholeskySolver stumbled upon a singular or very ill-conditioned Hessian matrix at iteration #3. It will now resort to lbfgs instead.\n",
      "Further options are to use another solver or to avoid such situation in the first place. Possible remedies are removing collinear features of X or increasing the penalization strengths.\n",
      "The original Linear Algebra message was:\n",
      "Matrix is singular.\n",
      "  warnings.warn(\n",
      "/opt/mamba/lib/python3.10/site-packages/sklearn/linear_model/_glm/_newton_solver.py:491: LinAlgWarning: The inner solver of NewtonCholeskySolver stumbled upon a singular or very ill-conditioned Hessian matrix at iteration #3. It will now resort to lbfgs instead.\n",
      "Further options are to use another solver or to avoid such situation in the first place. Possible remedies are removing collinear features of X or increasing the penalization strengths.\n",
      "The original Linear Algebra message was:\n",
      "Matrix is singular.\n",
      "  warnings.warn(\n"
     ]
    },
    {
     "name": "stdout",
     "output_type": "stream",
     "text": [
      "[CV 2/10; 3/100] END C=1, class_weight={0: 1, 1: 10}, solver=liblinear;, score=0.535 total time=  10.3s\n",
      "[CV 3/10; 12/100] START C=1, class_weight={0: 1, 1: 20}, solver=newton-cholesky.\n",
      "[CV 2/10; 9/100] END C=1, class_weight={0: 1, 1: 16}, solver=liblinear;, score=0.426 total time=   3.8s\n",
      "[CV 4/10; 12/100] START C=1, class_weight={0: 1, 1: 20}, solver=newton-cholesky.\n",
      "[CV 9/10; 7/100] END C=1, class_weight={0: 1, 1: 15}, solver=liblinear;, score=0.412 total time=   5.8s\n",
      "[CV 5/10; 12/100] START C=1, class_weight={0: 1, 1: 20}, solver=newton-cholesky.\n",
      "[CV 1/10; 5/100] END C=1, class_weight={0: 1, 1: 14}, solver=liblinear;, score=0.388 total time=   9.6s\n",
      "[CV 6/10; 12/100] START C=1, class_weight={0: 1, 1: 20}, solver=newton-cholesky.\n",
      "[CV 8/10; 5/100] END C=1, class_weight={0: 1, 1: 14}, solver=liblinear;, score=0.418 total time=   8.6s\n"
     ]
    },
    {
     "name": "stderr",
     "output_type": "stream",
     "text": [
      "/opt/mamba/lib/python3.10/site-packages/sklearn/linear_model/_glm/_newton_solver.py:195: ConvergenceWarning: lbfgs failed to converge (status=1):\n",
      "STOP: TOTAL NO. of ITERATIONS REACHED LIMIT.\n",
      "\n",
      "Increase the number of iterations (max_iter) or scale the data as shown in:\n",
      "    https://scikit-learn.org/stable/modules/preprocessing.html\n",
      "  self.n_iter_ = _check_optimize_result(\"lbfgs\", opt_res)\n",
      "/opt/mamba/lib/python3.10/site-packages/sklearn/linear_model/_glm/_newton_solver.py:491: LinAlgWarning: The inner solver of NewtonCholeskySolver stumbled upon a singular or very ill-conditioned Hessian matrix at iteration #3. It will now resort to lbfgs instead.\n",
      "Further options are to use another solver or to avoid such situation in the first place. Possible remedies are removing collinear features of X or increasing the penalization strengths.\n",
      "The original Linear Algebra message was:\n",
      "Matrix is singular.\n",
      "  warnings.warn(\n",
      "/opt/mamba/lib/python3.10/site-packages/sklearn/linear_model/_glm/_newton_solver.py:195: ConvergenceWarning: lbfgs failed to converge (status=1):\n",
      "STOP: TOTAL NO. of ITERATIONS REACHED LIMIT.\n",
      "\n",
      "Increase the number of iterations (max_iter) or scale the data as shown in:\n",
      "    https://scikit-learn.org/stable/modules/preprocessing.html\n",
      "  self.n_iter_ = _check_optimize_result(\"lbfgs\", opt_res)\n",
      "/opt/mamba/lib/python3.10/site-packages/sklearn/linear_model/_glm/_newton_solver.py:195: ConvergenceWarning: lbfgs failed to converge (status=1):\n",
      "STOP: TOTAL NO. of ITERATIONS REACHED LIMIT.\n",
      "\n",
      "Increase the number of iterations (max_iter) or scale the data as shown in:\n",
      "    https://scikit-learn.org/stable/modules/preprocessing.html\n",
      "  self.n_iter_ = _check_optimize_result(\"lbfgs\", opt_res)\n",
      "/opt/mamba/lib/python3.10/site-packages/sklearn/linear_model/_glm/_newton_solver.py:491: LinAlgWarning: The inner solver of NewtonCholeskySolver stumbled upon a singular or very ill-conditioned Hessian matrix at iteration #3. It will now resort to lbfgs instead.\n",
      "Further options are to use another solver or to avoid such situation in the first place. Possible remedies are removing collinear features of X or increasing the penalization strengths.\n",
      "The original Linear Algebra message was:\n",
      "Matrix is singular.\n",
      "  warnings.warn(\n",
      "/opt/mamba/lib/python3.10/site-packages/sklearn/linear_model/_glm/_newton_solver.py:195: ConvergenceWarning: lbfgs failed to converge (status=1):\n",
      "STOP: TOTAL NO. of ITERATIONS REACHED LIMIT.\n",
      "\n",
      "Increase the number of iterations (max_iter) or scale the data as shown in:\n",
      "    https://scikit-learn.org/stable/modules/preprocessing.html\n",
      "  self.n_iter_ = _check_optimize_result(\"lbfgs\", opt_res)\n"
     ]
    },
    {
     "name": "stdout",
     "output_type": "stream",
     "text": [
      "[CV 7/10; 12/100] START C=1, class_weight={0: 1, 1: 20}, solver=newton-cholesky.\n",
      "[CV 7/10; 10/100] END C=1, class_weight={0: 1, 1: 16}, solver=newton-cholesky;, score=0.451 total time=   2.5s\n",
      "[CV 9/10; 10/100] END C=1, class_weight={0: 1, 1: 16}, solver=newton-cholesky;, score=0.382 total time=   2.4s\n",
      "[CV 8/10; 12/100] START C=1, class_weight={0: 1, 1: 20}, solver=newton-cholesky.\n",
      "[CV 4/10; 7/100] END C=1, class_weight={0: 1, 1: 15}, solver=liblinear;, score=0.476 total time=   6.5s\n",
      "[CV 8/10; 10/100] END C=1, class_weight={0: 1, 1: 16}, solver=newton-cholesky;, score=0.360 total time=   2.6s\n",
      "[CV 9/10; 12/100] START C=1, class_weight={0: 1, 1: 20}, solver=newton-cholesky.\n",
      "[CV 4/10; 5/100] END C=1, class_weight={0: 1, 1: 14}, solver=liblinear;, score=0.497 total time=   9.1s\n",
      "[CV 4/10; 12/100] END C=1, class_weight={0: 1, 1: 20}, solver=newton-cholesky;, score=0.336 total time=   0.5s\n",
      "[CV 1/10; 9/100] END C=1, class_weight={0: 1, 1: 16}, solver=liblinear;, score=0.342 total time=   4.4s\n",
      "[CV 1/10; 10/100] END C=1, class_weight={0: 1, 1: 16}, solver=newton-cholesky;, score=0.344 total time=   3.3s\n",
      "[CV 10/10; 12/100] START C=1, class_weight={0: 1, 1: 20}, solver=newton-cholesky\n",
      "[CV 1/10; 13/100] START C=1, class_weight={0: 1, 1: 50}, solver=liblinear.......\n",
      "[CV 2/10; 13/100] START C=1, class_weight={0: 1, 1: 50}, solver=liblinear.......\n",
      "[CV 2/10; 10/100] END C=1, class_weight={0: 1, 1: 16}, solver=newton-cholesky;, score=0.430 total time=   3.4s\n",
      "[CV 3/10; 10/100] END C=1, class_weight={0: 1, 1: 16}, solver=newton-cholesky;, score=0.438 total time=   3.2s\n",
      "[CV 3/10; 13/100] START C=1, class_weight={0: 1, 1: 50}, solver=liblinear.......\n"
     ]
    },
    {
     "name": "stderr",
     "output_type": "stream",
     "text": [
      "/opt/mamba/lib/python3.10/site-packages/sklearn/linear_model/_glm/_newton_solver.py:491: LinAlgWarning: The inner solver of NewtonCholeskySolver stumbled upon a singular or very ill-conditioned Hessian matrix at iteration #3. It will now resort to lbfgs instead.\n",
      "Further options are to use another solver or to avoid such situation in the first place. Possible remedies are removing collinear features of X or increasing the penalization strengths.\n",
      "The original Linear Algebra message was:\n",
      "Matrix is singular.\n",
      "  warnings.warn(\n",
      "/opt/mamba/lib/python3.10/site-packages/sklearn/linear_model/_glm/_newton_solver.py:195: ConvergenceWarning: lbfgs failed to converge (status=1):\n",
      "STOP: TOTAL NO. of ITERATIONS REACHED LIMIT.\n",
      "\n",
      "Increase the number of iterations (max_iter) or scale the data as shown in:\n",
      "    https://scikit-learn.org/stable/modules/preprocessing.html\n",
      "  self.n_iter_ = _check_optimize_result(\"lbfgs\", opt_res)\n",
      "/opt/mamba/lib/python3.10/site-packages/sklearn/linear_model/_glm/_newton_solver.py:491: LinAlgWarning: The inner solver of NewtonCholeskySolver stumbled upon a singular or very ill-conditioned Hessian matrix at iteration #3. It will now resort to lbfgs instead.\n",
      "Further options are to use another solver or to avoid such situation in the first place. Possible remedies are removing collinear features of X or increasing the penalization strengths.\n",
      "The original Linear Algebra message was:\n",
      "Matrix is singular.\n",
      "  warnings.warn(\n",
      "/opt/mamba/lib/python3.10/site-packages/sklearn/linear_model/_glm/_newton_solver.py:195: ConvergenceWarning: lbfgs failed to converge (status=1):\n",
      "STOP: TOTAL NO. of ITERATIONS REACHED LIMIT.\n",
      "\n",
      "Increase the number of iterations (max_iter) or scale the data as shown in:\n",
      "    https://scikit-learn.org/stable/modules/preprocessing.html\n",
      "  self.n_iter_ = _check_optimize_result(\"lbfgs\", opt_res)\n",
      "/opt/mamba/lib/python3.10/site-packages/sklearn/linear_model/_glm/_newton_solver.py:491: LinAlgWarning: The inner solver of NewtonCholeskySolver stumbled upon a singular or very ill-conditioned Hessian matrix at iteration #3. It will now resort to lbfgs instead.\n",
      "Further options are to use another solver or to avoid such situation in the first place. Possible remedies are removing collinear features of X or increasing the penalization strengths.\n",
      "The original Linear Algebra message was:\n",
      "Matrix is singular.\n",
      "  warnings.warn(\n"
     ]
    },
    {
     "name": "stdout",
     "output_type": "stream",
     "text": [
      "[CV 4/10; 13/100] START C=1, class_weight={0: 1, 1: 50}, solver=liblinear.......\n",
      "[CV 5/10; 9/100] END C=1, class_weight={0: 1, 1: 16}, solver=liblinear;, score=0.427 total time=   4.2s\n",
      "[CV 5/10; 13/100] START C=1, class_weight={0: 1, 1: 50}, solver=liblinear.......\n",
      "[CV 6/10; 13/100] START C=1, class_weight={0: 1, 1: 50}, solver=liblinear.......\n",
      "[CV 8/10; 9/100] END C=1, class_weight={0: 1, 1: 16}, solver=liblinear;, score=0.361 total time=   4.1s\n",
      "[CV 6/10; 10/100] END C=1, class_weight={0: 1, 1: 16}, solver=newton-cholesky;, score=0.398 total time=   3.1s\n",
      "[CV 7/10; 13/100] START C=1, class_weight={0: 1, 1: 50}, solver=liblinear.......\n",
      "[CV 8/10; 13/100] START C=1, class_weight={0: 1, 1: 50}, solver=liblinear.......\n"
     ]
    },
    {
     "name": "stderr",
     "output_type": "stream",
     "text": [
      "/opt/mamba/lib/python3.10/site-packages/sklearn/linear_model/_glm/_newton_solver.py:491: LinAlgWarning: The inner solver of NewtonCholeskySolver stumbled upon a singular or very ill-conditioned Hessian matrix at iteration #3. It will now resort to lbfgs instead.\n",
      "Further options are to use another solver or to avoid such situation in the first place. Possible remedies are removing collinear features of X or increasing the penalization strengths.\n",
      "The original Linear Algebra message was:\n",
      "Matrix is singular.\n",
      "  warnings.warn(\n",
      "/opt/mamba/lib/python3.10/site-packages/sklearn/linear_model/_glm/_newton_solver.py:195: ConvergenceWarning: lbfgs failed to converge (status=1):\n",
      "STOP: TOTAL NO. of ITERATIONS REACHED LIMIT.\n",
      "\n",
      "Increase the number of iterations (max_iter) or scale the data as shown in:\n",
      "    https://scikit-learn.org/stable/modules/preprocessing.html\n",
      "  self.n_iter_ = _check_optimize_result(\"lbfgs\", opt_res)\n",
      "/opt/mamba/lib/python3.10/site-packages/sklearn/linear_model/_glm/_newton_solver.py:491: LinAlgWarning: The inner solver of NewtonCholeskySolver stumbled upon a singular or very ill-conditioned Hessian matrix at iteration #3. It will now resort to lbfgs instead.\n",
      "Further options are to use another solver or to avoid such situation in the first place. Possible remedies are removing collinear features of X or increasing the penalization strengths.\n",
      "The original Linear Algebra message was:\n",
      "Matrix is singular.\n",
      "  warnings.warn(\n",
      "/opt/mamba/lib/python3.10/site-packages/sklearn/linear_model/_glm/_newton_solver.py:195: ConvergenceWarning: lbfgs failed to converge (status=1):\n",
      "STOP: TOTAL NO. of ITERATIONS REACHED LIMIT.\n",
      "\n",
      "Increase the number of iterations (max_iter) or scale the data as shown in:\n",
      "    https://scikit-learn.org/stable/modules/preprocessing.html\n",
      "  self.n_iter_ = _check_optimize_result(\"lbfgs\", opt_res)\n",
      "/opt/mamba/lib/python3.10/site-packages/sklearn/linear_model/_glm/_newton_solver.py:195: ConvergenceWarning: lbfgs failed to converge (status=1):\n",
      "STOP: TOTAL NO. of ITERATIONS REACHED LIMIT.\n",
      "\n",
      "Increase the number of iterations (max_iter) or scale the data as shown in:\n",
      "    https://scikit-learn.org/stable/modules/preprocessing.html\n",
      "  self.n_iter_ = _check_optimize_result(\"lbfgs\", opt_res)\n"
     ]
    },
    {
     "name": "stdout",
     "output_type": "stream",
     "text": [
      "[CV 9/10; 13/100] START C=1, class_weight={0: 1, 1: 50}, solver=liblinear.......\n",
      "[CV 10/10; 13/100] START C=1, class_weight={0: 1, 1: 50}, solver=liblinear......\n",
      "[CV 8/10; 7/100] END C=1, class_weight={0: 1, 1: 15}, solver=liblinear;, score=0.386 total time=   6.9s\n",
      "[CV 5/10; 10/100] END C=1, class_weight={0: 1, 1: 16}, solver=newton-cholesky;, score=0.432 total time=   3.4s\n",
      "[CV 1/10; 14/100] START C=1, class_weight={0: 1, 1: 50}, solver=newton-cholesky.\n",
      "[CV 4/10; 9/100] END C=1, class_weight={0: 1, 1: 16}, solver=liblinear;, score=0.453 total time=   4.8s\n",
      "[CV 10/10; 10/100] END C=1, class_weight={0: 1, 1: 16}, solver=newton-cholesky;, score=0.393 total time=   3.1s\n",
      "[CV 5/10; 7/100] END C=1, class_weight={0: 1, 1: 15}, solver=liblinear;, score=0.452 total time=   7.2s\n",
      "[CV 2/10; 14/100] START C=1, class_weight={0: 1, 1: 50}, solver=newton-cholesky.\n",
      "[CV 3/10; 14/100] START C=1, class_weight={0: 1, 1: 50}, solver=newton-cholesky.\n",
      "[CV 4/10; 14/100] START C=1, class_weight={0: 1, 1: 50}, solver=newton-cholesky.\n",
      "[CV 5/10; 14/100] START C=1, class_weight={0: 1, 1: 50}, solver=newton-cholesky.\n"
     ]
    },
    {
     "name": "stderr",
     "output_type": "stream",
     "text": [
      "/opt/mamba/lib/python3.10/site-packages/sklearn/linear_model/_glm/_newton_solver.py:491: LinAlgWarning: The inner solver of NewtonCholeskySolver stumbled upon a singular or very ill-conditioned Hessian matrix at iteration #3. It will now resort to lbfgs instead.\n",
      "Further options are to use another solver or to avoid such situation in the first place. Possible remedies are removing collinear features of X or increasing the penalization strengths.\n",
      "The original Linear Algebra message was:\n",
      "Matrix is singular.\n",
      "  warnings.warn(\n",
      "/opt/mamba/lib/python3.10/site-packages/sklearn/linear_model/_glm/_newton_solver.py:491: LinAlgWarning: The inner solver of NewtonCholeskySolver stumbled upon a singular or very ill-conditioned Hessian matrix at iteration #3. It will now resort to lbfgs instead.\n",
      "Further options are to use another solver or to avoid such situation in the first place. Possible remedies are removing collinear features of X or increasing the penalization strengths.\n",
      "The original Linear Algebra message was:\n",
      "Matrix is singular.\n",
      "  warnings.warn(\n",
      "/opt/mamba/lib/python3.10/site-packages/sklearn/linear_model/_glm/_newton_solver.py:491: LinAlgWarning: The inner solver of NewtonCholeskySolver stumbled upon a singular or very ill-conditioned Hessian matrix at iteration #3. It will now resort to lbfgs instead.\n",
      "Further options are to use another solver or to avoid such situation in the first place. Possible remedies are removing collinear features of X or increasing the penalization strengths.\n",
      "The original Linear Algebra message was:\n",
      "Matrix is singular.\n",
      "  warnings.warn(\n"
     ]
    },
    {
     "name": "stdout",
     "output_type": "stream",
     "text": [
      "[CV 3/10; 9/100] END C=1, class_weight={0: 1, 1: 16}, solver=liblinear;, score=0.425 total time=   5.3s\n",
      "[CV 4/10; 3/100] END C=1, class_weight={0: 1, 1: 10}, solver=liblinear;, score=0.565 total time=  11.9s\n",
      "[CV 6/10; 14/100] START C=1, class_weight={0: 1, 1: 50}, solver=newton-cholesky.\n",
      "[CV 10/10; 9/100] END C=1, class_weight={0: 1, 1: 16}, solver=liblinear;, score=0.391 total time=   4.5s\n",
      "[CV 7/10; 14/100] START C=1, class_weight={0: 1, 1: 50}, solver=newton-cholesky.\n",
      "[CV 8/10; 14/100] START C=1, class_weight={0: 1, 1: 50}, solver=newton-cholesky.\n"
     ]
    },
    {
     "name": "stderr",
     "output_type": "stream",
     "text": [
      "/opt/mamba/lib/python3.10/site-packages/sklearn/linear_model/_glm/_newton_solver.py:491: LinAlgWarning: The inner solver of NewtonCholeskySolver stumbled upon a singular or very ill-conditioned Hessian matrix at iteration #3. It will now resort to lbfgs instead.\n",
      "Further options are to use another solver or to avoid such situation in the first place. Possible remedies are removing collinear features of X or increasing the penalization strengths.\n",
      "The original Linear Algebra message was:\n",
      "Matrix is singular.\n",
      "  warnings.warn(\n",
      "/opt/mamba/lib/python3.10/site-packages/sklearn/linear_model/_glm/_newton_solver.py:491: LinAlgWarning: The inner solver of NewtonCholeskySolver stumbled upon a singular or very ill-conditioned Hessian matrix at iteration #3. It will now resort to lbfgs instead.\n",
      "Further options are to use another solver or to avoid such situation in the first place. Possible remedies are removing collinear features of X or increasing the penalization strengths.\n",
      "The original Linear Algebra message was:\n",
      "Matrix is singular.\n",
      "  warnings.warn(\n",
      "/opt/mamba/lib/python3.10/site-packages/sklearn/linear_model/_glm/_newton_solver.py:491: LinAlgWarning: The inner solver of NewtonCholeskySolver stumbled upon a singular or very ill-conditioned Hessian matrix at iteration #3. It will now resort to lbfgs instead.\n",
      "Further options are to use another solver or to avoid such situation in the first place. Possible remedies are removing collinear features of X or increasing the penalization strengths.\n",
      "The original Linear Algebra message was:\n",
      "Matrix is singular.\n",
      "  warnings.warn(\n",
      "/opt/mamba/lib/python3.10/site-packages/sklearn/linear_model/_glm/_newton_solver.py:195: ConvergenceWarning: lbfgs failed to converge (status=1):\n",
      "STOP: TOTAL NO. of ITERATIONS REACHED LIMIT.\n",
      "\n",
      "Increase the number of iterations (max_iter) or scale the data as shown in:\n",
      "    https://scikit-learn.org/stable/modules/preprocessing.html\n",
      "  self.n_iter_ = _check_optimize_result(\"lbfgs\", opt_res)\n",
      "/opt/mamba/lib/python3.10/site-packages/sklearn/linear_model/_glm/_newton_solver.py:491: LinAlgWarning: The inner solver of NewtonCholeskySolver stumbled upon a singular or very ill-conditioned Hessian matrix at iteration #3. It will now resort to lbfgs instead.\n",
      "Further options are to use another solver or to avoid such situation in the first place. Possible remedies are removing collinear features of X or increasing the penalization strengths.\n",
      "The original Linear Algebra message was:\n",
      "Matrix is singular.\n",
      "  warnings.warn(\n"
     ]
    },
    {
     "name": "stdout",
     "output_type": "stream",
     "text": [
      "[CV 4/10; 14/100] END C=1, class_weight={0: 1, 1: 50}, solver=newton-cholesky;, score=-0.228 total time=   0.7s\n",
      "[CV 9/10; 14/100] START C=1, class_weight={0: 1, 1: 50}, solver=newton-cholesky.\n",
      "[CV 2/10; 12/100] END C=1, class_weight={0: 1, 1: 20}, solver=newton-cholesky;, score=0.329 total time=   2.4s\n",
      "[CV 10/10; 14/100] START C=1, class_weight={0: 1, 1: 50}, solver=newton-cholesky\n",
      "[CV 6/10; 9/100] END C=1, class_weight={0: 1, 1: 16}, solver=liblinear;, score=0.402 total time=   5.6s\n",
      "[CV 1/10; 15/100] START C=1, class_weight={0: 1, 1: 100}, solver=liblinear......\n"
     ]
    },
    {
     "name": "stderr",
     "output_type": "stream",
     "text": [
      "/opt/mamba/lib/python3.10/site-packages/sklearn/linear_model/_glm/_newton_solver.py:491: LinAlgWarning: The inner solver of NewtonCholeskySolver stumbled upon a singular or very ill-conditioned Hessian matrix at iteration #3. It will now resort to lbfgs instead.\n",
      "Further options are to use another solver or to avoid such situation in the first place. Possible remedies are removing collinear features of X or increasing the penalization strengths.\n",
      "The original Linear Algebra message was:\n",
      "Matrix is singular.\n",
      "  warnings.warn(\n",
      "/opt/mamba/lib/python3.10/site-packages/sklearn/linear_model/_glm/_newton_solver.py:195: ConvergenceWarning: lbfgs failed to converge (status=1):\n",
      "STOP: TOTAL NO. of ITERATIONS REACHED LIMIT.\n",
      "\n",
      "Increase the number of iterations (max_iter) or scale the data as shown in:\n",
      "    https://scikit-learn.org/stable/modules/preprocessing.html\n",
      "  self.n_iter_ = _check_optimize_result(\"lbfgs\", opt_res)\n",
      "/opt/mamba/lib/python3.10/site-packages/sklearn/linear_model/_glm/_newton_solver.py:195: ConvergenceWarning: lbfgs failed to converge (status=1):\n",
      "STOP: TOTAL NO. of ITERATIONS REACHED LIMIT.\n",
      "\n",
      "Increase the number of iterations (max_iter) or scale the data as shown in:\n",
      "    https://scikit-learn.org/stable/modules/preprocessing.html\n",
      "  self.n_iter_ = _check_optimize_result(\"lbfgs\", opt_res)\n",
      "/opt/mamba/lib/python3.10/site-packages/sklearn/linear_model/_glm/_newton_solver.py:491: LinAlgWarning: The inner solver of NewtonCholeskySolver stumbled upon a singular or very ill-conditioned Hessian matrix at iteration #3. It will now resort to lbfgs instead.\n",
      "Further options are to use another solver or to avoid such situation in the first place. Possible remedies are removing collinear features of X or increasing the penalization strengths.\n",
      "The original Linear Algebra message was:\n",
      "Matrix is singular.\n",
      "  warnings.warn(\n",
      "/opt/mamba/lib/python3.10/site-packages/sklearn/linear_model/_glm/_newton_solver.py:195: ConvergenceWarning: lbfgs failed to converge (status=1):\n",
      "STOP: TOTAL NO. of ITERATIONS REACHED LIMIT.\n",
      "\n",
      "Increase the number of iterations (max_iter) or scale the data as shown in:\n",
      "    https://scikit-learn.org/stable/modules/preprocessing.html\n",
      "  self.n_iter_ = _check_optimize_result(\"lbfgs\", opt_res)\n"
     ]
    },
    {
     "name": "stdout",
     "output_type": "stream",
     "text": [
      "[CV 3/10; 12/100] END C=1, class_weight={0: 1, 1: 20}, solver=newton-cholesky;, score=0.336 total time=   2.5s\n",
      "[CV 5/10; 12/100] END C=1, class_weight={0: 1, 1: 20}, solver=newton-cholesky;, score=0.343 total time=   2.4s\n",
      "[CV 2/10; 15/100] START C=1, class_weight={0: 1, 1: 100}, solver=liblinear......\n",
      "[CV 1/10; 12/100] END C=1, class_weight={0: 1, 1: 20}, solver=newton-cholesky;, score=0.258 total time=   2.9s\n",
      "[CV 3/10; 15/100] START C=1, class_weight={0: 1, 1: 100}, solver=liblinear......\n",
      "[CV 4/10; 15/100] START C=1, class_weight={0: 1, 1: 100}, solver=liblinear......\n",
      "[CV 7/10; 12/100] END C=1, class_weight={0: 1, 1: 20}, solver=newton-cholesky;, score=0.345 total time=   2.3s\n",
      "[CV 5/10; 11/100] END C=1, class_weight={0: 1, 1: 20}, solver=liblinear;, score=0.340 total time=   4.3s\n"
     ]
    },
    {
     "name": "stderr",
     "output_type": "stream",
     "text": [
      "/opt/mamba/lib/python3.10/site-packages/sklearn/linear_model/_glm/_newton_solver.py:195: ConvergenceWarning: lbfgs failed to converge (status=1):\n",
      "STOP: TOTAL NO. of ITERATIONS REACHED LIMIT.\n",
      "\n",
      "Increase the number of iterations (max_iter) or scale the data as shown in:\n",
      "    https://scikit-learn.org/stable/modules/preprocessing.html\n",
      "  self.n_iter_ = _check_optimize_result(\"lbfgs\", opt_res)\n",
      "/opt/mamba/lib/python3.10/site-packages/sklearn/linear_model/_glm/_newton_solver.py:195: ConvergenceWarning: lbfgs failed to converge (status=1):\n",
      "STOP: TOTAL NO. of ITERATIONS REACHED LIMIT.\n",
      "\n",
      "Increase the number of iterations (max_iter) or scale the data as shown in:\n",
      "    https://scikit-learn.org/stable/modules/preprocessing.html\n",
      "  self.n_iter_ = _check_optimize_result(\"lbfgs\", opt_res)\n",
      "/opt/mamba/lib/python3.10/site-packages/sklearn/linear_model/_glm/_newton_solver.py:195: ConvergenceWarning: lbfgs failed to converge (status=1):\n",
      "STOP: TOTAL NO. of ITERATIONS REACHED LIMIT.\n",
      "\n",
      "Increase the number of iterations (max_iter) or scale the data as shown in:\n",
      "    https://scikit-learn.org/stable/modules/preprocessing.html\n",
      "  self.n_iter_ = _check_optimize_result(\"lbfgs\", opt_res)\n"
     ]
    },
    {
     "name": "stdout",
     "output_type": "stream",
     "text": [
      "[CV 7/10; 9/100] END C=1, class_weight={0: 1, 1: 16}, solver=liblinear;, score=0.447 total time=   6.0s\n",
      "[CV 5/10; 15/100] START C=1, class_weight={0: 1, 1: 100}, solver=liblinear......\n",
      "[CV 6/10; 15/100] START C=1, class_weight={0: 1, 1: 100}, solver=liblinear......\n",
      "[CV 6/10; 12/100] END C=1, class_weight={0: 1, 1: 20}, solver=newton-cholesky;, score=0.319 total time=   2.6s\n",
      "[CV 7/10; 15/100] START C=1, class_weight={0: 1, 1: 100}, solver=liblinear......\n",
      "[CV 8/10; 15/100] START C=1, class_weight={0: 1, 1: 100}, solver=liblinear......\n",
      "[CV 8/10; 12/100] END C=1, class_weight={0: 1, 1: 20}, solver=newton-cholesky;, score=0.273 total time=   2.5s\n",
      "[CV 9/10; 15/100] START C=1, class_weight={0: 1, 1: 100}, solver=liblinear......\n",
      "[CV 3/10; 11/100] END C=1, class_weight={0: 1, 1: 20}, solver=liblinear;, score=0.334 total time=   4.8s\n",
      "[CV 10/10; 15/100] START C=1, class_weight={0: 1, 1: 100}, solver=liblinear.....\n",
      "[CV 4/10; 11/100] END C=1, class_weight={0: 1, 1: 20}, solver=liblinear;, score=0.336 total time=   4.7s\n",
      "[CV 1/10; 16/100] START C=1, class_weight={0: 1, 1: 100}, solver=newton-cholesky\n",
      "[CV 9/10; 9/100] END C=1, class_weight={0: 1, 1: 16}, solver=liblinear;, score=0.388 total time=   6.4s\n"
     ]
    },
    {
     "name": "stderr",
     "output_type": "stream",
     "text": [
      "/opt/mamba/lib/python3.10/site-packages/sklearn/linear_model/_glm/_newton_solver.py:195: ConvergenceWarning: lbfgs failed to converge (status=1):\n",
      "STOP: TOTAL NO. of ITERATIONS REACHED LIMIT.\n",
      "\n",
      "Increase the number of iterations (max_iter) or scale the data as shown in:\n",
      "    https://scikit-learn.org/stable/modules/preprocessing.html\n",
      "  self.n_iter_ = _check_optimize_result(\"lbfgs\", opt_res)\n"
     ]
    },
    {
     "name": "stdout",
     "output_type": "stream",
     "text": [
      "[CV 7/10; 11/100] END C=1, class_weight={0: 1, 1: 20}, solver=liblinear;, score=0.342 total time=   4.6s\n",
      "[CV 2/10; 16/100] START C=1, class_weight={0: 1, 1: 100}, solver=newton-cholesky\n",
      "[CV 9/10; 12/100] END C=1, class_weight={0: 1, 1: 20}, solver=newton-cholesky;, score=0.285 total time=   2.9s\n",
      "[CV 3/10; 16/100] START C=1, class_weight={0: 1, 1: 100}, solver=newton-cholesky\n",
      "[CV 6/10; 11/100] END C=1, class_weight={0: 1, 1: 20}, solver=liblinear;, score=0.320 total time=   4.7s\n",
      "[CV 4/10; 16/100] START C=1, class_weight={0: 1, 1: 100}, solver=newton-cholesky\n",
      "[CV 5/10; 16/100] START C=1, class_weight={0: 1, 1: 100}, solver=newton-cholesky\n"
     ]
    },
    {
     "name": "stderr",
     "output_type": "stream",
     "text": [
      "/opt/mamba/lib/python3.10/site-packages/sklearn/linear_model/_glm/_newton_solver.py:491: LinAlgWarning: The inner solver of NewtonCholeskySolver stumbled upon a singular or very ill-conditioned Hessian matrix at iteration #3. It will now resort to lbfgs instead.\n",
      "Further options are to use another solver or to avoid such situation in the first place. Possible remedies are removing collinear features of X or increasing the penalization strengths.\n",
      "The original Linear Algebra message was:\n",
      "Matrix is singular.\n",
      "  warnings.warn(\n",
      "/opt/mamba/lib/python3.10/site-packages/sklearn/linear_model/_glm/_newton_solver.py:195: ConvergenceWarning: lbfgs failed to converge (status=1):\n",
      "STOP: TOTAL NO. of ITERATIONS REACHED LIMIT.\n",
      "\n",
      "Increase the number of iterations (max_iter) or scale the data as shown in:\n",
      "    https://scikit-learn.org/stable/modules/preprocessing.html\n",
      "  self.n_iter_ = _check_optimize_result(\"lbfgs\", opt_res)\n",
      "/opt/mamba/lib/python3.10/site-packages/sklearn/linear_model/_glm/_newton_solver.py:491: LinAlgWarning: The inner solver of NewtonCholeskySolver stumbled upon a singular or very ill-conditioned Hessian matrix at iteration #3. It will now resort to lbfgs instead.\n",
      "Further options are to use another solver or to avoid such situation in the first place. Possible remedies are removing collinear features of X or increasing the penalization strengths.\n",
      "The original Linear Algebra message was:\n",
      "Matrix is singular.\n",
      "  warnings.warn(\n",
      "/opt/mamba/lib/python3.10/site-packages/sklearn/linear_model/_glm/_newton_solver.py:195: ConvergenceWarning: lbfgs failed to converge (status=1):\n",
      "STOP: TOTAL NO. of ITERATIONS REACHED LIMIT.\n",
      "\n",
      "Increase the number of iterations (max_iter) or scale the data as shown in:\n",
      "    https://scikit-learn.org/stable/modules/preprocessing.html\n",
      "  self.n_iter_ = _check_optimize_result(\"lbfgs\", opt_res)\n"
     ]
    },
    {
     "name": "stdout",
     "output_type": "stream",
     "text": [
      "[CV 8/10; 11/100] END C=1, class_weight={0: 1, 1: 20}, solver=liblinear;, score=0.278 total time=   4.7s\n",
      "[CV 1/10; 14/100] END C=1, class_weight={0: 1, 1: 50}, solver=newton-cholesky;, score=-0.405 total time=   2.6s\n",
      "[CV 6/10; 16/100] START C=1, class_weight={0: 1, 1: 100}, solver=newton-cholesky\n",
      "[CV 10/10; 12/100] END C=1, class_weight={0: 1, 1: 20}, solver=newton-cholesky;, score=0.293 total time=   3.2s\n",
      "[CV 7/10; 16/100] START C=1, class_weight={0: 1, 1: 100}, solver=newton-cholesky\n",
      "[CV 8/10; 16/100] START C=1, class_weight={0: 1, 1: 100}, solver=newton-cholesky\n"
     ]
    },
    {
     "name": "stderr",
     "output_type": "stream",
     "text": [
      "/opt/mamba/lib/python3.10/site-packages/sklearn/linear_model/_glm/_newton_solver.py:491: LinAlgWarning: The inner solver of NewtonCholeskySolver stumbled upon a singular or very ill-conditioned Hessian matrix at iteration #3. It will now resort to lbfgs instead.\n",
      "Further options are to use another solver or to avoid such situation in the first place. Possible remedies are removing collinear features of X or increasing the penalization strengths.\n",
      "The original Linear Algebra message was:\n",
      "Matrix is singular.\n",
      "  warnings.warn(\n",
      "/opt/mamba/lib/python3.10/site-packages/sklearn/linear_model/_glm/_newton_solver.py:195: ConvergenceWarning: lbfgs failed to converge (status=1):\n",
      "STOP: TOTAL NO. of ITERATIONS REACHED LIMIT.\n",
      "\n",
      "Increase the number of iterations (max_iter) or scale the data as shown in:\n",
      "    https://scikit-learn.org/stable/modules/preprocessing.html\n",
      "  self.n_iter_ = _check_optimize_result(\"lbfgs\", opt_res)\n",
      "/opt/mamba/lib/python3.10/site-packages/sklearn/linear_model/_glm/_newton_solver.py:491: LinAlgWarning: The inner solver of NewtonCholeskySolver stumbled upon a singular or very ill-conditioned Hessian matrix at iteration #3. It will now resort to lbfgs instead.\n",
      "Further options are to use another solver or to avoid such situation in the first place. Possible remedies are removing collinear features of X or increasing the penalization strengths.\n",
      "The original Linear Algebra message was:\n",
      "Matrix is singular.\n",
      "  warnings.warn(\n",
      "/opt/mamba/lib/python3.10/site-packages/sklearn/linear_model/_glm/_newton_solver.py:491: LinAlgWarning: The inner solver of NewtonCholeskySolver stumbled upon a singular or very ill-conditioned Hessian matrix at iteration #3. It will now resort to lbfgs instead.\n",
      "Further options are to use another solver or to avoid such situation in the first place. Possible remedies are removing collinear features of X or increasing the penalization strengths.\n",
      "The original Linear Algebra message was:\n",
      "Matrix is singular.\n",
      "  warnings.warn(\n",
      "/opt/mamba/lib/python3.10/site-packages/sklearn/linear_model/_glm/_newton_solver.py:491: LinAlgWarning: The inner solver of NewtonCholeskySolver stumbled upon a singular or very ill-conditioned Hessian matrix at iteration #3. It will now resort to lbfgs instead.\n",
      "Further options are to use another solver or to avoid such situation in the first place. Possible remedies are removing collinear features of X or increasing the penalization strengths.\n",
      "The original Linear Algebra message was:\n",
      "Matrix is singular.\n",
      "  warnings.warn(\n",
      "/opt/mamba/lib/python3.10/site-packages/sklearn/linear_model/_glm/_newton_solver.py:491: LinAlgWarning: The inner solver of NewtonCholeskySolver stumbled upon a singular or very ill-conditioned Hessian matrix at iteration #3. It will now resort to lbfgs instead.\n",
      "Further options are to use another solver or to avoid such situation in the first place. Possible remedies are removing collinear features of X or increasing the penalization strengths.\n",
      "The original Linear Algebra message was:\n",
      "Matrix is singular.\n",
      "  warnings.warn(\n"
     ]
    },
    {
     "name": "stdout",
     "output_type": "stream",
     "text": [
      "[CV 3/10; 14/100] END C=1, class_weight={0: 1, 1: 50}, solver=newton-cholesky;, score=-0.241 total time=   2.8s\n",
      "[CV 9/10; 16/100] START C=1, class_weight={0: 1, 1: 100}, solver=newton-cholesky\n"
     ]
    },
    {
     "name": "stderr",
     "output_type": "stream",
     "text": [
      "/opt/mamba/lib/python3.10/site-packages/sklearn/linear_model/_glm/_newton_solver.py:195: ConvergenceWarning: lbfgs failed to converge (status=1):\n",
      "STOP: TOTAL NO. of ITERATIONS REACHED LIMIT.\n",
      "\n",
      "Increase the number of iterations (max_iter) or scale the data as shown in:\n",
      "    https://scikit-learn.org/stable/modules/preprocessing.html\n",
      "  self.n_iter_ = _check_optimize_result(\"lbfgs\", opt_res)\n",
      "/opt/mamba/lib/python3.10/site-packages/sklearn/linear_model/_glm/_newton_solver.py:491: LinAlgWarning: The inner solver of NewtonCholeskySolver stumbled upon a singular or very ill-conditioned Hessian matrix at iteration #3. It will now resort to lbfgs instead.\n",
      "Further options are to use another solver or to avoid such situation in the first place. Possible remedies are removing collinear features of X or increasing the penalization strengths.\n",
      "The original Linear Algebra message was:\n",
      "Matrix is singular.\n",
      "  warnings.warn(\n",
      "/opt/mamba/lib/python3.10/site-packages/sklearn/linear_model/_glm/_newton_solver.py:195: ConvergenceWarning: lbfgs failed to converge (status=1):\n",
      "STOP: TOTAL NO. of ITERATIONS REACHED LIMIT.\n",
      "\n",
      "Increase the number of iterations (max_iter) or scale the data as shown in:\n",
      "    https://scikit-learn.org/stable/modules/preprocessing.html\n",
      "  self.n_iter_ = _check_optimize_result(\"lbfgs\", opt_res)\n"
     ]
    },
    {
     "name": "stdout",
     "output_type": "stream",
     "text": [
      "[CV 4/10; 16/100] END C=1, class_weight={0: 1, 1: 100}, solver=newton-cholesky;, score=-0.591 total time=   0.8s\n",
      "[CV 10/10; 16/100] START C=1, class_weight={0: 1, 1: 100}, solver=newton-cholesky\n",
      "[CV 7/10; 14/100] END C=1, class_weight={0: 1, 1: 50}, solver=newton-cholesky;, score=-0.281 total time=   2.6s\n",
      "[CV 9/10; 11/100] END C=1, class_weight={0: 1, 1: 20}, solver=liblinear;, score=0.280 total time=   5.4s\n",
      "[CV 1/10; 17/100] START C=1, class_weight={0: 1, 1: 150}, solver=liblinear......\n",
      "[CV 5/10; 14/100] END C=1, class_weight={0: 1, 1: 50}, solver=newton-cholesky;, score=-0.310 total time=   3.0s\n",
      "[CV 2/10; 17/100] START C=1, class_weight={0: 1, 1: 150}, solver=liblinear......\n",
      "[CV 3/10; 17/100] START C=1, class_weight={0: 1, 1: 150}, solver=liblinear......\n",
      "[CV 9/10; 14/100] END C=1, class_weight={0: 1, 1: 50}, solver=newton-cholesky;, score=-0.337 total time=   2.6s\n",
      "[CV 1/10; 11/100] END C=1, class_weight={0: 1, 1: 20}, solver=liblinear;, score=0.252 total time=   6.5s\n",
      "[CV 4/10; 17/100] START C=1, class_weight={0: 1, 1: 150}, solver=liblinear......\n"
     ]
    },
    {
     "name": "stderr",
     "output_type": "stream",
     "text": [
      "/opt/mamba/lib/python3.10/site-packages/sklearn/linear_model/_glm/_newton_solver.py:195: ConvergenceWarning: lbfgs failed to converge (status=1):\n",
      "STOP: TOTAL NO. of ITERATIONS REACHED LIMIT.\n",
      "\n",
      "Increase the number of iterations (max_iter) or scale the data as shown in:\n",
      "    https://scikit-learn.org/stable/modules/preprocessing.html\n",
      "  self.n_iter_ = _check_optimize_result(\"lbfgs\", opt_res)\n",
      "/opt/mamba/lib/python3.10/site-packages/sklearn/linear_model/_glm/_newton_solver.py:195: ConvergenceWarning: lbfgs failed to converge (status=1):\n",
      "STOP: TOTAL NO. of ITERATIONS REACHED LIMIT.\n",
      "\n",
      "Increase the number of iterations (max_iter) or scale the data as shown in:\n",
      "    https://scikit-learn.org/stable/modules/preprocessing.html\n",
      "  self.n_iter_ = _check_optimize_result(\"lbfgs\", opt_res)\n",
      "/opt/mamba/lib/python3.10/site-packages/sklearn/linear_model/_glm/_newton_solver.py:491: LinAlgWarning: The inner solver of NewtonCholeskySolver stumbled upon a singular or very ill-conditioned Hessian matrix at iteration #3. It will now resort to lbfgs instead.\n",
      "Further options are to use another solver or to avoid such situation in the first place. Possible remedies are removing collinear features of X or increasing the penalization strengths.\n",
      "The original Linear Algebra message was:\n",
      "Matrix is singular.\n",
      "  warnings.warn(\n",
      "/opt/mamba/lib/python3.10/site-packages/sklearn/linear_model/_glm/_newton_solver.py:195: ConvergenceWarning: lbfgs failed to converge (status=1):\n",
      "STOP: TOTAL NO. of ITERATIONS REACHED LIMIT.\n",
      "\n",
      "Increase the number of iterations (max_iter) or scale the data as shown in:\n",
      "    https://scikit-learn.org/stable/modules/preprocessing.html\n",
      "  self.n_iter_ = _check_optimize_result(\"lbfgs\", opt_res)\n"
     ]
    },
    {
     "name": "stdout",
     "output_type": "stream",
     "text": [
      "[CV 2/10; 14/100] END C=1, class_weight={0: 1, 1: 50}, solver=newton-cholesky;, score=-0.223 total time=   3.5s\n",
      "[CV 2/10; 11/100] END C=1, class_weight={0: 1, 1: 20}, solver=liblinear;, score=0.328 total time=   6.5s\n",
      "[CV 5/10; 17/100] START C=1, class_weight={0: 1, 1: 150}, solver=liblinear......\n",
      "[CV 6/10; 17/100] START C=1, class_weight={0: 1, 1: 150}, solver=liblinear......\n",
      "[CV 10/10; 14/100] END C=1, class_weight={0: 1, 1: 50}, solver=newton-cholesky;, score=-0.297 total time=   2.7s\n",
      "[CV 7/10; 17/100] START C=1, class_weight={0: 1, 1: 150}, solver=liblinear......\n",
      "[CV 6/10; 14/100] END C=1, class_weight={0: 1, 1: 50}, solver=newton-cholesky;, score=-0.243 total time=   3.2s\n",
      "[CV 8/10; 17/100] START C=1, class_weight={0: 1, 1: 150}, solver=liblinear......\n"
     ]
    },
    {
     "name": "stderr",
     "output_type": "stream",
     "text": [
      "/opt/mamba/lib/python3.10/site-packages/sklearn/linear_model/_glm/_newton_solver.py:195: ConvergenceWarning: lbfgs failed to converge (status=1):\n",
      "STOP: TOTAL NO. of ITERATIONS REACHED LIMIT.\n",
      "\n",
      "Increase the number of iterations (max_iter) or scale the data as shown in:\n",
      "    https://scikit-learn.org/stable/modules/preprocessing.html\n",
      "  self.n_iter_ = _check_optimize_result(\"lbfgs\", opt_res)\n",
      "/opt/mamba/lib/python3.10/site-packages/sklearn/linear_model/_glm/_newton_solver.py:195: ConvergenceWarning: lbfgs failed to converge (status=1):\n",
      "STOP: TOTAL NO. of ITERATIONS REACHED LIMIT.\n",
      "\n",
      "Increase the number of iterations (max_iter) or scale the data as shown in:\n",
      "    https://scikit-learn.org/stable/modules/preprocessing.html\n",
      "  self.n_iter_ = _check_optimize_result(\"lbfgs\", opt_res)\n"
     ]
    },
    {
     "name": "stdout",
     "output_type": "stream",
     "text": [
      "[CV 9/10; 17/100] START C=1, class_weight={0: 1, 1: 150}, solver=liblinear......\n",
      "[CV 8/10; 14/100] END C=1, class_weight={0: 1, 1: 50}, solver=newton-cholesky;, score=-0.358 total time=   3.4s\n",
      "[CV 10/10; 17/100] START C=1, class_weight={0: 1, 1: 150}, solver=liblinear.....\n",
      "[CV 10/10; 11/100] END C=1, class_weight={0: 1, 1: 20}, solver=liblinear;, score=0.291 total time=   6.2s\n",
      "[CV 1/10; 18/100] START C=1, class_weight={0: 1, 1: 150}, solver=newton-cholesky\n",
      "[CV 3/10; 15/100] END C=1, class_weight={0: 1, 1: 100}, solver=liblinear;, score=-0.577 total time=   3.1s\n",
      "[CV 2/10; 18/100] START C=1, class_weight={0: 1, 1: 150}, solver=newton-cholesky\n"
     ]
    },
    {
     "name": "stderr",
     "output_type": "stream",
     "text": [
      "/opt/mamba/lib/python3.10/site-packages/sklearn/linear_model/_glm/_newton_solver.py:195: ConvergenceWarning: lbfgs failed to converge (status=1):\n",
      "STOP: TOTAL NO. of ITERATIONS REACHED LIMIT.\n",
      "\n",
      "Increase the number of iterations (max_iter) or scale the data as shown in:\n",
      "    https://scikit-learn.org/stable/modules/preprocessing.html\n",
      "  self.n_iter_ = _check_optimize_result(\"lbfgs\", opt_res)\n",
      "/opt/mamba/lib/python3.10/site-packages/sklearn/linear_model/_glm/_newton_solver.py:491: LinAlgWarning: The inner solver of NewtonCholeskySolver stumbled upon a singular or very ill-conditioned Hessian matrix at iteration #3. It will now resort to lbfgs instead.\n",
      "Further options are to use another solver or to avoid such situation in the first place. Possible remedies are removing collinear features of X or increasing the penalization strengths.\n",
      "The original Linear Algebra message was:\n",
      "Matrix is singular.\n",
      "  warnings.warn(\n",
      "/opt/mamba/lib/python3.10/site-packages/sklearn/linear_model/_glm/_newton_solver.py:491: LinAlgWarning: The inner solver of NewtonCholeskySolver stumbled upon a singular or very ill-conditioned Hessian matrix at iteration #3. It will now resort to lbfgs instead.\n",
      "Further options are to use another solver or to avoid such situation in the first place. Possible remedies are removing collinear features of X or increasing the penalization strengths.\n",
      "The original Linear Algebra message was:\n",
      "Matrix is singular.\n",
      "  warnings.warn(\n"
     ]
    },
    {
     "name": "stdout",
     "output_type": "stream",
     "text": [
      "[CV 2/10; 16/100] END C=1, class_weight={0: 1, 1: 100}, solver=newton-cholesky;, score=-0.589 total time=   2.6s\n",
      "[CV 3/10; 18/100] START C=1, class_weight={0: 1, 1: 150}, solver=newton-cholesky\n",
      "[CV 7/10; 16/100] END C=1, class_weight={0: 1, 1: 100}, solver=newton-cholesky;, score=-0.687 total time=   2.4s\n"
     ]
    },
    {
     "name": "stderr",
     "output_type": "stream",
     "text": [
      "/opt/mamba/lib/python3.10/site-packages/sklearn/linear_model/_glm/_newton_solver.py:195: ConvergenceWarning: lbfgs failed to converge (status=1):\n",
      "STOP: TOTAL NO. of ITERATIONS REACHED LIMIT.\n",
      "\n",
      "Increase the number of iterations (max_iter) or scale the data as shown in:\n",
      "    https://scikit-learn.org/stable/modules/preprocessing.html\n",
      "  self.n_iter_ = _check_optimize_result(\"lbfgs\", opt_res)\n",
      "/opt/mamba/lib/python3.10/site-packages/sklearn/linear_model/_glm/_newton_solver.py:195: ConvergenceWarning: lbfgs failed to converge (status=1):\n",
      "STOP: TOTAL NO. of ITERATIONS REACHED LIMIT.\n",
      "\n",
      "Increase the number of iterations (max_iter) or scale the data as shown in:\n",
      "    https://scikit-learn.org/stable/modules/preprocessing.html\n",
      "  self.n_iter_ = _check_optimize_result(\"lbfgs\", opt_res)\n"
     ]
    },
    {
     "name": "stdout",
     "output_type": "stream",
     "text": [
      "[CV 4/10; 18/100] START C=1, class_weight={0: 1, 1: 150}, solver=newton-cholesky\n",
      "[CV 2/10; 13/100] END C=1, class_weight={0: 1, 1: 50}, solver=liblinear;, score=-0.220 total time=   5.6s\n",
      "[CV 9/10; 16/100] END C=1, class_weight={0: 1, 1: 100}, solver=newton-cholesky;, score=-0.712 total time=   2.2s\n",
      "[CV 5/10; 18/100] START C=1, class_weight={0: 1, 1: 150}, solver=newton-cholesky\n",
      "[CV 6/10; 18/100] START C=1, class_weight={0: 1, 1: 150}, solver=newton-cholesky\n"
     ]
    },
    {
     "name": "stderr",
     "output_type": "stream",
     "text": [
      "/opt/mamba/lib/python3.10/site-packages/sklearn/linear_model/_glm/_newton_solver.py:491: LinAlgWarning: The inner solver of NewtonCholeskySolver stumbled upon a singular or very ill-conditioned Hessian matrix at iteration #3. It will now resort to lbfgs instead.\n",
      "Further options are to use another solver or to avoid such situation in the first place. Possible remedies are removing collinear features of X or increasing the penalization strengths.\n",
      "The original Linear Algebra message was:\n",
      "Matrix is singular.\n",
      "  warnings.warn(\n",
      "/opt/mamba/lib/python3.10/site-packages/sklearn/linear_model/_glm/_newton_solver.py:195: ConvergenceWarning: lbfgs failed to converge (status=1):\n",
      "STOP: TOTAL NO. of ITERATIONS REACHED LIMIT.\n",
      "\n",
      "Increase the number of iterations (max_iter) or scale the data as shown in:\n",
      "    https://scikit-learn.org/stable/modules/preprocessing.html\n",
      "  self.n_iter_ = _check_optimize_result(\"lbfgs\", opt_res)\n",
      "/opt/mamba/lib/python3.10/site-packages/sklearn/linear_model/_glm/_newton_solver.py:195: ConvergenceWarning: lbfgs failed to converge (status=1):\n",
      "STOP: TOTAL NO. of ITERATIONS REACHED LIMIT.\n",
      "\n",
      "Increase the number of iterations (max_iter) or scale the data as shown in:\n",
      "    https://scikit-learn.org/stable/modules/preprocessing.html\n",
      "  self.n_iter_ = _check_optimize_result(\"lbfgs\", opt_res)\n"
     ]
    },
    {
     "name": "stdout",
     "output_type": "stream",
     "text": [
      "[CV 5/10; 15/100] END C=1, class_weight={0: 1, 1: 100}, solver=liblinear;, score=-0.684 total time=   3.8s\n",
      "[CV 1/10; 16/100] END C=1, class_weight={0: 1, 1: 100}, solver=newton-cholesky;, score=-0.813 total time=   3.4s\n",
      "[CV 7/10; 18/100] START C=1, class_weight={0: 1, 1: 150}, solver=newton-cholesky\n",
      "[CV 8/10; 18/100] START C=1, class_weight={0: 1, 1: 150}, solver=newton-cholesky\n",
      "[CV 6/10; 16/100] END C=1, class_weight={0: 1, 1: 100}, solver=newton-cholesky;, score=-0.585 total time=   2.9s\n"
     ]
    },
    {
     "name": "stderr",
     "output_type": "stream",
     "text": [
      "/opt/mamba/lib/python3.10/site-packages/sklearn/linear_model/_glm/_newton_solver.py:491: LinAlgWarning: The inner solver of NewtonCholeskySolver stumbled upon a singular or very ill-conditioned Hessian matrix at iteration #3. It will now resort to lbfgs instead.\n",
      "Further options are to use another solver or to avoid such situation in the first place. Possible remedies are removing collinear features of X or increasing the penalization strengths.\n",
      "The original Linear Algebra message was:\n",
      "Matrix is singular.\n",
      "  warnings.warn(\n",
      "/opt/mamba/lib/python3.10/site-packages/sklearn/linear_model/_glm/_newton_solver.py:195: ConvergenceWarning: lbfgs failed to converge (status=1):\n",
      "STOP: TOTAL NO. of ITERATIONS REACHED LIMIT.\n",
      "\n",
      "Increase the number of iterations (max_iter) or scale the data as shown in:\n",
      "    https://scikit-learn.org/stable/modules/preprocessing.html\n",
      "  self.n_iter_ = _check_optimize_result(\"lbfgs\", opt_res)\n",
      "/opt/mamba/lib/python3.10/site-packages/sklearn/linear_model/_glm/_newton_solver.py:491: LinAlgWarning: The inner solver of NewtonCholeskySolver stumbled upon a singular or very ill-conditioned Hessian matrix at iteration #3. It will now resort to lbfgs instead.\n",
      "Further options are to use another solver or to avoid such situation in the first place. Possible remedies are removing collinear features of X or increasing the penalization strengths.\n",
      "The original Linear Algebra message was:\n",
      "Matrix is singular.\n",
      "  warnings.warn(\n",
      "/opt/mamba/lib/python3.10/site-packages/sklearn/linear_model/_glm/_newton_solver.py:491: LinAlgWarning: The inner solver of NewtonCholeskySolver stumbled upon a singular or very ill-conditioned Hessian matrix at iteration #3. It will now resort to lbfgs instead.\n",
      "Further options are to use another solver or to avoid such situation in the first place. Possible remedies are removing collinear features of X or increasing the penalization strengths.\n",
      "The original Linear Algebra message was:\n",
      "Matrix is singular.\n",
      "  warnings.warn(\n"
     ]
    },
    {
     "name": "stdout",
     "output_type": "stream",
     "text": [
      "[CV 9/10; 18/100] START C=1, class_weight={0: 1, 1: 150}, solver=newton-cholesky\n",
      "[CV 3/10; 16/100] END C=1, class_weight={0: 1, 1: 100}, solver=newton-cholesky;, score=-0.611 total time=   3.4s\n",
      "[CV 4/10; 18/100] END C=1, class_weight={0: 1, 1: 150}, solver=newton-cholesky;, score=-0.721 total time=   0.6s\n",
      "[CV 10/10; 18/100] START C=1, class_weight={0: 1, 1: 150}, solver=newton-cholesky\n",
      "[CV 1/10; 15/100] END C=1, class_weight={0: 1, 1: 100}, solver=liblinear;, score=-0.801 total time=   4.6s\n",
      "[CV 9/10; 15/100] END C=1, class_weight={0: 1, 1: 100}, solver=liblinear;, score=-0.685 total time=   3.9s\n",
      "[CV 1/10; 19/100] START C=1, class_weight={0: 1, 1: 1000}, solver=liblinear.....\n",
      "[CV 2/10; 19/100] START C=1, class_weight={0: 1, 1: 1000}, solver=liblinear.....\n",
      "[CV 8/10; 13/100] END C=1, class_weight={0: 1, 1: 50}, solver=liblinear;, score=-0.341 total time=   6.1s\n",
      "[CV 3/10; 19/100] START C=1, class_weight={0: 1, 1: 1000}, solver=liblinear.....\n",
      "[CV 4/10; 19/100] START C=1, class_weight={0: 1, 1: 1000}, solver=liblinear.....\n"
     ]
    },
    {
     "name": "stderr",
     "output_type": "stream",
     "text": [
      "/opt/mamba/lib/python3.10/site-packages/sklearn/linear_model/_glm/_newton_solver.py:491: LinAlgWarning: The inner solver of NewtonCholeskySolver stumbled upon a singular or very ill-conditioned Hessian matrix at iteration #3. It will now resort to lbfgs instead.\n",
      "Further options are to use another solver or to avoid such situation in the first place. Possible remedies are removing collinear features of X or increasing the penalization strengths.\n",
      "The original Linear Algebra message was:\n",
      "Matrix is singular.\n",
      "  warnings.warn(\n",
      "/opt/mamba/lib/python3.10/site-packages/sklearn/linear_model/_glm/_newton_solver.py:491: LinAlgWarning: The inner solver of NewtonCholeskySolver stumbled upon a singular or very ill-conditioned Hessian matrix at iteration #3. It will now resort to lbfgs instead.\n",
      "Further options are to use another solver or to avoid such situation in the first place. Possible remedies are removing collinear features of X or increasing the penalization strengths.\n",
      "The original Linear Algebra message was:\n",
      "Matrix is singular.\n",
      "  warnings.warn(\n",
      "/opt/mamba/lib/python3.10/site-packages/sklearn/linear_model/_glm/_newton_solver.py:491: LinAlgWarning: The inner solver of NewtonCholeskySolver stumbled upon a singular or very ill-conditioned Hessian matrix at iteration #3. It will now resort to lbfgs instead.\n",
      "Further options are to use another solver or to avoid such situation in the first place. Possible remedies are removing collinear features of X or increasing the penalization strengths.\n",
      "The original Linear Algebra message was:\n",
      "Matrix is singular.\n",
      "  warnings.warn(\n",
      "/opt/mamba/lib/python3.10/site-packages/sklearn/linear_model/_glm/_newton_solver.py:195: ConvergenceWarning: lbfgs failed to converge (status=1):\n",
      "STOP: TOTAL NO. of ITERATIONS REACHED LIMIT.\n",
      "\n",
      "Increase the number of iterations (max_iter) or scale the data as shown in:\n",
      "    https://scikit-learn.org/stable/modules/preprocessing.html\n",
      "  self.n_iter_ = _check_optimize_result(\"lbfgs\", opt_res)\n"
     ]
    },
    {
     "name": "stdout",
     "output_type": "stream",
     "text": [
      "[CV 10/10; 15/100] END C=1, class_weight={0: 1, 1: 100}, solver=liblinear;, score=-0.677 total time=   4.1s\n",
      "[CV 5/10; 13/100] END C=1, class_weight={0: 1, 1: 50}, solver=liblinear;, score=-0.308 total time=   6.4s\n",
      "[CV 5/10; 19/100] START C=1, class_weight={0: 1, 1: 1000}, solver=liblinear.....\n",
      "[CV 6/10; 19/100] START C=1, class_weight={0: 1, 1: 1000}, solver=liblinear.....\n",
      "[CV 10/10; 13/100] END C=1, class_weight={0: 1, 1: 50}, solver=liblinear;, score=-0.300 total time=   6.2s\n",
      "[CV 5/10; 16/100] END C=1, class_weight={0: 1, 1: 100}, solver=newton-cholesky;, score=-0.703 total time=   3.8s\n",
      "[CV 7/10; 19/100] START C=1, class_weight={0: 1, 1: 1000}, solver=liblinear.....\n",
      "[CV 6/10; 15/100] END C=1, class_weight={0: 1, 1: 100}, solver=liblinear;, score=-0.562 total time=   4.6s\n",
      "[CV 8/10; 19/100] START C=1, class_weight={0: 1, 1: 1000}, solver=liblinear.....\n",
      "[CV 9/10; 19/100] START C=1, class_weight={0: 1, 1: 1000}, solver=liblinear.....\n"
     ]
    },
    {
     "name": "stderr",
     "output_type": "stream",
     "text": [
      "/opt/mamba/lib/python3.10/site-packages/sklearn/linear_model/_glm/_newton_solver.py:195: ConvergenceWarning: lbfgs failed to converge (status=1):\n",
      "STOP: TOTAL NO. of ITERATIONS REACHED LIMIT.\n",
      "\n",
      "Increase the number of iterations (max_iter) or scale the data as shown in:\n",
      "    https://scikit-learn.org/stable/modules/preprocessing.html\n",
      "  self.n_iter_ = _check_optimize_result(\"lbfgs\", opt_res)\n",
      "/opt/mamba/lib/python3.10/site-packages/sklearn/linear_model/_glm/_newton_solver.py:195: ConvergenceWarning: lbfgs failed to converge (status=1):\n",
      "STOP: TOTAL NO. of ITERATIONS REACHED LIMIT.\n",
      "\n",
      "Increase the number of iterations (max_iter) or scale the data as shown in:\n",
      "    https://scikit-learn.org/stable/modules/preprocessing.html\n",
      "  self.n_iter_ = _check_optimize_result(\"lbfgs\", opt_res)\n"
     ]
    },
    {
     "name": "stdout",
     "output_type": "stream",
     "text": [
      "[CV 8/10; 16/100] END C=1, class_weight={0: 1, 1: 100}, solver=newton-cholesky;, score=-0.732 total time=   3.8s\n",
      "[CV 9/10; 13/100] END C=1, class_weight={0: 1, 1: 50}, solver=liblinear;, score=-0.328 total time=   6.6s\n",
      "[CV 10/10; 19/100] START C=1, class_weight={0: 1, 1: 1000}, solver=liblinear....\n",
      "[CV 1/10; 20/100] START C=1, class_weight={0: 1, 1: 1000}, solver=newton-cholesky\n",
      "[CV 4/10; 15/100] END C=1, class_weight={0: 1, 1: 100}, solver=liblinear;, score=-0.591 total time=   5.1s\n",
      "[CV 10/10; 16/100] END C=1, class_weight={0: 1, 1: 100}, solver=newton-cholesky;, score=-0.710 total time=   3.5s\n",
      "[CV 2/10; 20/100] START C=1, class_weight={0: 1, 1: 1000}, solver=newton-cholesky\n",
      "[CV 8/10; 17/100] END C=1, class_weight={0: 1, 1: 150}, solver=liblinear;, score=-0.871 total time=   2.9s\n",
      "[CV 3/10; 17/100] END C=1, class_weight={0: 1, 1: 150}, solver=liblinear;, score=-0.702 total time=   3.4s\n",
      "[CV 4/10; 17/100] END C=1, class_weight={0: 1, 1: 150}, solver=liblinear;, score=-0.721 total time=   3.2s\n",
      "[CV 3/10; 20/100] START C=1, class_weight={0: 1, 1: 1000}, solver=newton-cholesky\n",
      "[CV 4/10; 20/100] START C=1, class_weight={0: 1, 1: 1000}, solver=newton-cholesky\n",
      "[CV 4/10; 13/100] END C=1, class_weight={0: 1, 1: 50}, solver=liblinear;, score=-0.229 total time=   7.2s\n",
      "[CV 6/10; 13/100] END C=1, class_weight={0: 1, 1: 50}, solver=liblinear;, score=-0.234 total time=   7.1s\n",
      "[CV 5/10; 20/100] START C=1, class_weight={0: 1, 1: 1000}, solver=newton-cholesky\n",
      "[CV 6/10; 17/100] END C=1, class_weight={0: 1, 1: 150}, solver=liblinear;, score=-0.688 total time=   3.2s\n",
      "[CV 6/10; 20/100] START C=1, class_weight={0: 1, 1: 1000}, solver=newton-cholesky\n",
      "[CV 7/10; 20/100] START C=1, class_weight={0: 1, 1: 1000}, solver=newton-cholesky\n",
      "[CV 9/10; 17/100] END C=1, class_weight={0: 1, 1: 150}, solver=liblinear;, score=-0.814 total time=   3.1s\n",
      "[CV 8/10; 20/100] START C=1, class_weight={0: 1, 1: 1000}, solver=newton-cholesky\n",
      "[CV 9/10; 20/100] START C=1, class_weight={0: 1, 1: 1000}, solver=newton-cholesky\n"
     ]
    },
    {
     "name": "stderr",
     "output_type": "stream",
     "text": [
      "/opt/mamba/lib/python3.10/site-packages/sklearn/linear_model/_glm/_newton_solver.py:491: LinAlgWarning: The inner solver of NewtonCholeskySolver stumbled upon a singular or very ill-conditioned Hessian matrix at iteration #4. It will now resort to lbfgs instead.\n",
      "Further options are to use another solver or to avoid such situation in the first place. Possible remedies are removing collinear features of X or increasing the penalization strengths.\n",
      "The original Linear Algebra message was:\n",
      "Matrix is singular.\n",
      "  warnings.warn(\n",
      "/opt/mamba/lib/python3.10/site-packages/sklearn/linear_model/_glm/_newton_solver.py:491: LinAlgWarning: The inner solver of NewtonCholeskySolver stumbled upon a singular or very ill-conditioned Hessian matrix at iteration #4. It will now resort to lbfgs instead.\n",
      "Further options are to use another solver or to avoid such situation in the first place. Possible remedies are removing collinear features of X or increasing the penalization strengths.\n",
      "The original Linear Algebra message was:\n",
      "Matrix is singular.\n",
      "  warnings.warn(\n",
      "/opt/mamba/lib/python3.10/site-packages/sklearn/linear_model/_glm/_newton_solver.py:491: LinAlgWarning: The inner solver of NewtonCholeskySolver stumbled upon a singular or very ill-conditioned Hessian matrix at iteration #4. It will now resort to lbfgs instead.\n",
      "Further options are to use another solver or to avoid such situation in the first place. Possible remedies are removing collinear features of X or increasing the penalization strengths.\n",
      "The original Linear Algebra message was:\n",
      "Matrix is singular.\n",
      "  warnings.warn(\n",
      "/opt/mamba/lib/python3.10/site-packages/sklearn/linear_model/_glm/_newton_solver.py:195: ConvergenceWarning: lbfgs failed to converge (status=1):\n",
      "STOP: TOTAL NO. of ITERATIONS REACHED LIMIT.\n",
      "\n",
      "Increase the number of iterations (max_iter) or scale the data as shown in:\n",
      "    https://scikit-learn.org/stable/modules/preprocessing.html\n",
      "  self.n_iter_ = _check_optimize_result(\"lbfgs\", opt_res)\n",
      "/opt/mamba/lib/python3.10/site-packages/sklearn/linear_model/_glm/_newton_solver.py:491: LinAlgWarning: The inner solver of NewtonCholeskySolver stumbled upon a singular or very ill-conditioned Hessian matrix at iteration #4. It will now resort to lbfgs instead.\n",
      "Further options are to use another solver or to avoid such situation in the first place. Possible remedies are removing collinear features of X or increasing the penalization strengths.\n",
      "The original Linear Algebra message was:\n",
      "Matrix is singular.\n",
      "  warnings.warn(\n",
      "/opt/mamba/lib/python3.10/site-packages/sklearn/linear_model/_glm/_newton_solver.py:491: LinAlgWarning: The inner solver of NewtonCholeskySolver stumbled upon a singular or very ill-conditioned Hessian matrix at iteration #4. It will now resort to lbfgs instead.\n",
      "Further options are to use another solver or to avoid such situation in the first place. Possible remedies are removing collinear features of X or increasing the penalization strengths.\n",
      "The original Linear Algebra message was:\n",
      "Matrix is singular.\n",
      "  warnings.warn(\n"
     ]
    },
    {
     "name": "stdout",
     "output_type": "stream",
     "text": [
      "[CV 10/10; 20/100] START C=1, class_weight={0: 1, 1: 1000}, solver=newton-cholesky\n",
      "[CV 1/10; 17/100] END C=1, class_weight={0: 1, 1: 150}, solver=liblinear;, score=-0.933 total time=   4.0s\n",
      "[CV 1/10; 21/100] START C=10, class_weight={0: 1, 1: 1}, solver=liblinear.......\n",
      "[CV 1/10; 18/100] END C=1, class_weight={0: 1, 1: 150}, solver=newton-cholesky;, score=-0.966 total time=   2.8s\n",
      "[CV 2/10; 21/100] START C=10, class_weight={0: 1, 1: 1}, solver=liblinear.......\n",
      "[CV 4/10; 20/100] END C=1, class_weight={0: 1, 1: 1000}, solver=newton-cholesky;, score=-0.868 total time=   0.7s\n",
      "[CV 3/10; 21/100] START C=10, class_weight={0: 1, 1: 1}, solver=liblinear.......\n",
      "[CV 2/10; 18/100] END C=1, class_weight={0: 1, 1: 150}, solver=newton-cholesky;, score=-0.725 total time=   2.9s\n"
     ]
    },
    {
     "name": "stderr",
     "output_type": "stream",
     "text": [
      "/opt/mamba/lib/python3.10/site-packages/sklearn/linear_model/_glm/_newton_solver.py:491: LinAlgWarning: The inner solver of NewtonCholeskySolver stumbled upon a singular or very ill-conditioned Hessian matrix at iteration #4. It will now resort to lbfgs instead.\n",
      "Further options are to use another solver or to avoid such situation in the first place. Possible remedies are removing collinear features of X or increasing the penalization strengths.\n",
      "The original Linear Algebra message was:\n",
      "Matrix is singular.\n",
      "  warnings.warn(\n",
      "/opt/mamba/lib/python3.10/site-packages/sklearn/linear_model/_glm/_newton_solver.py:195: ConvergenceWarning: lbfgs failed to converge (status=1):\n",
      "STOP: TOTAL NO. of ITERATIONS REACHED LIMIT.\n",
      "\n",
      "Increase the number of iterations (max_iter) or scale the data as shown in:\n",
      "    https://scikit-learn.org/stable/modules/preprocessing.html\n",
      "  self.n_iter_ = _check_optimize_result(\"lbfgs\", opt_res)\n",
      "/opt/mamba/lib/python3.10/site-packages/sklearn/linear_model/_glm/_newton_solver.py:491: LinAlgWarning: The inner solver of NewtonCholeskySolver stumbled upon a singular or very ill-conditioned Hessian matrix at iteration #4. It will now resort to lbfgs instead.\n",
      "Further options are to use another solver or to avoid such situation in the first place. Possible remedies are removing collinear features of X or increasing the penalization strengths.\n",
      "The original Linear Algebra message was:\n",
      "Matrix is singular.\n",
      "  warnings.warn(\n",
      "/opt/mamba/lib/python3.10/site-packages/sklearn/linear_model/_glm/_newton_solver.py:491: LinAlgWarning: The inner solver of NewtonCholeskySolver stumbled upon a singular or very ill-conditioned Hessian matrix at iteration #4. It will now resort to lbfgs instead.\n",
      "Further options are to use another solver or to avoid such situation in the first place. Possible remedies are removing collinear features of X or increasing the penalization strengths.\n",
      "The original Linear Algebra message was:\n",
      "Matrix is singular.\n",
      "  warnings.warn(\n",
      "/opt/mamba/lib/python3.10/site-packages/sklearn/linear_model/_glm/_newton_solver.py:195: ConvergenceWarning: lbfgs failed to converge (status=1):\n",
      "STOP: TOTAL NO. of ITERATIONS REACHED LIMIT.\n",
      "\n",
      "Increase the number of iterations (max_iter) or scale the data as shown in:\n",
      "    https://scikit-learn.org/stable/modules/preprocessing.html\n",
      "  self.n_iter_ = _check_optimize_result(\"lbfgs\", opt_res)\n",
      "/opt/mamba/lib/python3.10/site-packages/sklearn/linear_model/_glm/_newton_solver.py:491: LinAlgWarning: The inner solver of NewtonCholeskySolver stumbled upon a singular or very ill-conditioned Hessian matrix at iteration #4. It will now resort to lbfgs instead.\n",
      "Further options are to use another solver or to avoid such situation in the first place. Possible remedies are removing collinear features of X or increasing the penalization strengths.\n",
      "The original Linear Algebra message was:\n",
      "Matrix is singular.\n",
      "  warnings.warn(\n"
     ]
    },
    {
     "name": "stdout",
     "output_type": "stream",
     "text": [
      "[CV 4/10; 21/100] START C=10, class_weight={0: 1, 1: 1}, solver=liblinear.......\n",
      "[CV 3/10; 18/100] END C=1, class_weight={0: 1, 1: 150}, solver=newton-cholesky;, score=-0.736 total time=   2.7s\n",
      "[CV 5/10; 21/100] START C=10, class_weight={0: 1, 1: 1}, solver=liblinear.......\n"
     ]
    },
    {
     "name": "stderr",
     "output_type": "stream",
     "text": [
      "/opt/mamba/lib/python3.10/site-packages/sklearn/linear_model/_glm/_newton_solver.py:195: ConvergenceWarning: lbfgs failed to converge (status=1):\n",
      "STOP: TOTAL NO. of ITERATIONS REACHED LIMIT.\n",
      "\n",
      "Increase the number of iterations (max_iter) or scale the data as shown in:\n",
      "    https://scikit-learn.org/stable/modules/preprocessing.html\n",
      "  self.n_iter_ = _check_optimize_result(\"lbfgs\", opt_res)\n",
      "/opt/mamba/lib/python3.10/site-packages/sklearn/linear_model/_glm/_newton_solver.py:195: ConvergenceWarning: lbfgs failed to converge (status=1):\n",
      "STOP: TOTAL NO. of ITERATIONS REACHED LIMIT.\n",
      "\n",
      "Increase the number of iterations (max_iter) or scale the data as shown in:\n",
      "    https://scikit-learn.org/stable/modules/preprocessing.html\n",
      "  self.n_iter_ = _check_optimize_result(\"lbfgs\", opt_res)\n"
     ]
    },
    {
     "name": "stdout",
     "output_type": "stream",
     "text": [
      "[CV 8/10; 15/100] END C=1, class_weight={0: 1, 1: 100}, solver=liblinear;, score=-0.735 total time=   6.0s\n",
      "[CV 6/10; 18/100] END C=1, class_weight={0: 1, 1: 150}, solver=newton-cholesky;, score=-0.699 total time=   2.6s\n",
      "[CV 6/10; 21/100] START C=10, class_weight={0: 1, 1: 1}, solver=liblinear.......\n",
      "[CV 7/10; 13/100] END C=1, class_weight={0: 1, 1: 50}, solver=liblinear;, score=-0.272 total time=   8.1s\n",
      "[CV 7/10; 21/100] START C=10, class_weight={0: 1, 1: 1}, solver=liblinear.......\n",
      "[CV 8/10; 21/100] START C=10, class_weight={0: 1, 1: 1}, solver=liblinear.......\n",
      "[CV 7/10; 18/100] END C=1, class_weight={0: 1, 1: 150}, solver=newton-cholesky;, score=-0.827 total time=   2.6s\n",
      "[CV 9/10; 21/100] START C=10, class_weight={0: 1, 1: 1}, solver=liblinear.......\n",
      "[CV 5/10; 18/100] END C=1, class_weight={0: 1, 1: 150}, solver=newton-cholesky;, score=-0.834 total time=   2.9s\n",
      "[CV 7/10; 17/100] END C=1, class_weight={0: 1, 1: 150}, solver=liblinear;, score=-0.794 total time=   4.5s\n"
     ]
    },
    {
     "name": "stderr",
     "output_type": "stream",
     "text": [
      "/opt/mamba/lib/python3.10/site-packages/sklearn/linear_model/_glm/_newton_solver.py:195: ConvergenceWarning: lbfgs failed to converge (status=1):\n",
      "STOP: TOTAL NO. of ITERATIONS REACHED LIMIT.\n",
      "\n",
      "Increase the number of iterations (max_iter) or scale the data as shown in:\n",
      "    https://scikit-learn.org/stable/modules/preprocessing.html\n",
      "  self.n_iter_ = _check_optimize_result(\"lbfgs\", opt_res)\n"
     ]
    },
    {
     "name": "stdout",
     "output_type": "stream",
     "text": [
      "[CV 2/10; 15/100] END C=1, class_weight={0: 1, 1: 100}, solver=liblinear;, score=-0.571 total time=   6.8s\n",
      "[CV 10/10; 21/100] START C=10, class_weight={0: 1, 1: 1}, solver=liblinear......\n",
      "[CV 1/10; 22/100] START C=10, class_weight={0: 1, 1: 1}, solver=newton-cholesky.\n",
      "[CV 2/10; 22/100] START C=10, class_weight={0: 1, 1: 1}, solver=newton-cholesky.\n",
      "[CV 1/10; 19/100] END C=1, class_weight={0: 1, 1: 1000}, solver=liblinear;, score=-1.090 total time=   2.6s\n"
     ]
    },
    {
     "name": "stderr",
     "output_type": "stream",
     "text": [
      "/opt/mamba/lib/python3.10/site-packages/sklearn/linear_model/_glm/_newton_solver.py:195: ConvergenceWarning: lbfgs failed to converge (status=1):\n",
      "STOP: TOTAL NO. of ITERATIONS REACHED LIMIT.\n",
      "\n",
      "Increase the number of iterations (max_iter) or scale the data as shown in:\n",
      "    https://scikit-learn.org/stable/modules/preprocessing.html\n",
      "  self.n_iter_ = _check_optimize_result(\"lbfgs\", opt_res)\n",
      "/opt/mamba/lib/python3.10/site-packages/sklearn/linear_model/_glm/_newton_solver.py:195: ConvergenceWarning: lbfgs failed to converge (status=1):\n",
      "STOP: TOTAL NO. of ITERATIONS REACHED LIMIT.\n",
      "\n",
      "Increase the number of iterations (max_iter) or scale the data as shown in:\n",
      "    https://scikit-learn.org/stable/modules/preprocessing.html\n",
      "  self.n_iter_ = _check_optimize_result(\"lbfgs\", opt_res)\n"
     ]
    },
    {
     "name": "stdout",
     "output_type": "stream",
     "text": [
      "[CV 10/10; 18/100] END C=1, class_weight={0: 1, 1: 150}, solver=newton-cholesky;, score=-0.827 total time=   2.7s\n",
      "[CV 3/10; 22/100] START C=10, class_weight={0: 1, 1: 1}, solver=newton-cholesky.\n",
      "[CV 10/10; 17/100] END C=1, class_weight={0: 1, 1: 150}, solver=liblinear;, score=-0.801 total time=   4.4s\n",
      "[CV 4/10; 22/100] START C=10, class_weight={0: 1, 1: 1}, solver=newton-cholesky.\n",
      "[CV 3/10; 13/100] END C=1, class_weight={0: 1, 1: 50}, solver=liblinear;, score=-0.225 total time=   9.0s\n",
      "[CV 9/10; 18/100] END C=1, class_weight={0: 1, 1: 150}, solver=newton-cholesky;, score=-0.855 total time=   3.0s\n",
      "[CV 5/10; 22/100] START C=10, class_weight={0: 1, 1: 1}, solver=newton-cholesky.\n"
     ]
    },
    {
     "name": "stderr",
     "output_type": "stream",
     "text": [
      "/opt/mamba/lib/python3.10/site-packages/sklearn/linear_model/_glm/_newton_solver.py:491: LinAlgWarning: The inner solver of NewtonCholeskySolver stumbled upon a singular or very ill-conditioned Hessian matrix at iteration #5. It will now resort to lbfgs instead.\n",
      "Further options are to use another solver or to avoid such situation in the first place. Possible remedies are removing collinear features of X or increasing the penalization strengths.\n",
      "The original Linear Algebra message was:\n",
      "Matrix is singular.\n",
      "  warnings.warn(\n",
      "/opt/mamba/lib/python3.10/site-packages/sklearn/linear_model/_glm/_newton_solver.py:491: LinAlgWarning: The inner solver of NewtonCholeskySolver stumbled upon a singular or very ill-conditioned Hessian matrix at iteration #5. It will now resort to lbfgs instead.\n",
      "Further options are to use another solver or to avoid such situation in the first place. Possible remedies are removing collinear features of X or increasing the penalization strengths.\n",
      "The original Linear Algebra message was:\n",
      "Matrix is singular.\n",
      "  warnings.warn(\n",
      "/opt/mamba/lib/python3.10/site-packages/sklearn/linear_model/_glm/_newton_solver.py:491: LinAlgWarning: The inner solver of NewtonCholeskySolver stumbled upon a singular or very ill-conditioned Hessian matrix at iteration #5. It will now resort to lbfgs instead.\n",
      "Further options are to use another solver or to avoid such situation in the first place. Possible remedies are removing collinear features of X or increasing the penalization strengths.\n",
      "The original Linear Algebra message was:\n",
      "Matrix is singular.\n",
      "  warnings.warn(\n"
     ]
    },
    {
     "name": "stdout",
     "output_type": "stream",
     "text": [
      "[CV 6/10; 22/100] START C=10, class_weight={0: 1, 1: 1}, solver=newton-cholesky.\n",
      "[CV 7/10; 22/100] START C=10, class_weight={0: 1, 1: 1}, solver=newton-cholesky.\n",
      "[CV 8/10; 19/100] END C=1, class_weight={0: 1, 1: 1000}, solver=liblinear;, score=-1.040 total time=   2.4s\n",
      "[CV 1/10; 13/100] END C=1, class_weight={0: 1, 1: 50}, solver=liblinear;, score=-0.399 total time=   9.3s\n",
      "[CV 8/10; 22/100] START C=10, class_weight={0: 1, 1: 1}, solver=newton-cholesky.\n",
      "[CV 9/10; 22/100] START C=10, class_weight={0: 1, 1: 1}, solver=newton-cholesky.\n",
      "[CV 2/10; 17/100] END C=1, class_weight={0: 1, 1: 150}, solver=liblinear;, score=-0.704 total time=   5.6s\n",
      "[CV 10/10; 22/100] START C=10, class_weight={0: 1, 1: 1}, solver=newton-cholesky\n",
      "[CV 2/10; 19/100] END C=1, class_weight={0: 1, 1: 1000}, solver=liblinear;, score=-0.848 total time=   3.1s\n",
      "[CV 1/10; 23/100] START C=10, class_weight={0: 1, 1: 10}, solver=liblinear......\n",
      "[CV 9/10; 19/100] END C=1, class_weight={0: 1, 1: 1000}, solver=liblinear;, score=-0.970 total time=   2.7s\n",
      "[CV 4/10; 22/100] END C=10, class_weight={0: 1, 1: 1}, solver=newton-cholesky;, score=0.215 total time=   0.6s\n",
      "[CV 2/10; 23/100] START C=10, class_weight={0: 1, 1: 10}, solver=liblinear......\n",
      "[CV 1/10; 20/100] END C=1, class_weight={0: 1, 1: 1000}, solver=newton-cholesky;, score=-1.090 total time=   2.6s\n",
      "[CV 3/10; 23/100] START C=10, class_weight={0: 1, 1: 10}, solver=liblinear......\n",
      "[CV 4/10; 23/100] START C=10, class_weight={0: 1, 1: 10}, solver=liblinear......\n"
     ]
    },
    {
     "name": "stderr",
     "output_type": "stream",
     "text": [
      "/opt/mamba/lib/python3.10/site-packages/sklearn/linear_model/_glm/_newton_solver.py:195: ConvergenceWarning: lbfgs failed to converge (status=1):\n",
      "STOP: TOTAL NO. of ITERATIONS REACHED LIMIT.\n",
      "\n",
      "Increase the number of iterations (max_iter) or scale the data as shown in:\n",
      "    https://scikit-learn.org/stable/modules/preprocessing.html\n",
      "  self.n_iter_ = _check_optimize_result(\"lbfgs\", opt_res)\n",
      "/opt/mamba/lib/python3.10/site-packages/sklearn/linear_model/_glm/_newton_solver.py:491: LinAlgWarning: The inner solver of NewtonCholeskySolver stumbled upon a singular or very ill-conditioned Hessian matrix at iteration #5. It will now resort to lbfgs instead.\n",
      "Further options are to use another solver or to avoid such situation in the first place. Possible remedies are removing collinear features of X or increasing the penalization strengths.\n",
      "The original Linear Algebra message was:\n",
      "Matrix is singular.\n",
      "  warnings.warn(\n",
      "/opt/mamba/lib/python3.10/site-packages/sklearn/linear_model/_glm/_newton_solver.py:491: LinAlgWarning: The inner solver of NewtonCholeskySolver stumbled upon a singular or very ill-conditioned Hessian matrix at iteration #5. It will now resort to lbfgs instead.\n",
      "Further options are to use another solver or to avoid such situation in the first place. Possible remedies are removing collinear features of X or increasing the penalization strengths.\n",
      "The original Linear Algebra message was:\n",
      "Matrix is singular.\n",
      "  warnings.warn(\n",
      "/opt/mamba/lib/python3.10/site-packages/sklearn/linear_model/_glm/_newton_solver.py:491: LinAlgWarning: The inner solver of NewtonCholeskySolver stumbled upon a singular or very ill-conditioned Hessian matrix at iteration #5. It will now resort to lbfgs instead.\n",
      "Further options are to use another solver or to avoid such situation in the first place. Possible remedies are removing collinear features of X or increasing the penalization strengths.\n",
      "The original Linear Algebra message was:\n",
      "Matrix is singular.\n",
      "  warnings.warn(\n",
      "/opt/mamba/lib/python3.10/site-packages/sklearn/linear_model/_glm/_newton_solver.py:491: LinAlgWarning: The inner solver of NewtonCholeskySolver stumbled upon a singular or very ill-conditioned Hessian matrix at iteration #5. It will now resort to lbfgs instead.\n",
      "Further options are to use another solver or to avoid such situation in the first place. Possible remedies are removing collinear features of X or increasing the penalization strengths.\n",
      "The original Linear Algebra message was:\n",
      "Matrix is singular.\n",
      "  warnings.warn(\n",
      "/opt/mamba/lib/python3.10/site-packages/sklearn/linear_model/_glm/_newton_solver.py:491: LinAlgWarning: The inner solver of NewtonCholeskySolver stumbled upon a singular or very ill-conditioned Hessian matrix at iteration #5. It will now resort to lbfgs instead.\n",
      "Further options are to use another solver or to avoid such situation in the first place. Possible remedies are removing collinear features of X or increasing the penalization strengths.\n",
      "The original Linear Algebra message was:\n",
      "Matrix is singular.\n",
      "  warnings.warn(\n",
      "/opt/mamba/lib/python3.10/site-packages/sklearn/linear_model/_glm/_newton_solver.py:195: ConvergenceWarning: lbfgs failed to converge (status=1):\n",
      "STOP: TOTAL NO. of ITERATIONS REACHED LIMIT.\n",
      "\n",
      "Increase the number of iterations (max_iter) or scale the data as shown in:\n",
      "    https://scikit-learn.org/stable/modules/preprocessing.html\n",
      "  self.n_iter_ = _check_optimize_result(\"lbfgs\", opt_res)\n",
      "/opt/mamba/lib/python3.10/site-packages/sklearn/linear_model/_glm/_newton_solver.py:491: LinAlgWarning: The inner solver of NewtonCholeskySolver stumbled upon a singular or very ill-conditioned Hessian matrix at iteration #5. It will now resort to lbfgs instead.\n",
      "Further options are to use another solver or to avoid such situation in the first place. Possible remedies are removing collinear features of X or increasing the penalization strengths.\n",
      "The original Linear Algebra message was:\n",
      "Matrix is singular.\n",
      "  warnings.warn(\n",
      "/opt/mamba/lib/python3.10/site-packages/sklearn/linear_model/_glm/_newton_solver.py:195: ConvergenceWarning: lbfgs failed to converge (status=1):\n",
      "STOP: TOTAL NO. of ITERATIONS REACHED LIMIT.\n",
      "\n",
      "Increase the number of iterations (max_iter) or scale the data as shown in:\n",
      "    https://scikit-learn.org/stable/modules/preprocessing.html\n",
      "  self.n_iter_ = _check_optimize_result(\"lbfgs\", opt_res)\n",
      "/opt/mamba/lib/python3.10/site-packages/sklearn/linear_model/_glm/_newton_solver.py:195: ConvergenceWarning: lbfgs failed to converge (status=1):\n",
      "STOP: TOTAL NO. of ITERATIONS REACHED LIMIT.\n",
      "\n",
      "Increase the number of iterations (max_iter) or scale the data as shown in:\n",
      "    https://scikit-learn.org/stable/modules/preprocessing.html\n",
      "  self.n_iter_ = _check_optimize_result(\"lbfgs\", opt_res)\n",
      "/opt/mamba/lib/python3.10/site-packages/sklearn/linear_model/_glm/_newton_solver.py:195: ConvergenceWarning: lbfgs failed to converge (status=1):\n",
      "STOP: TOTAL NO. of ITERATIONS REACHED LIMIT.\n",
      "\n",
      "Increase the number of iterations (max_iter) or scale the data as shown in:\n",
      "    https://scikit-learn.org/stable/modules/preprocessing.html\n",
      "  self.n_iter_ = _check_optimize_result(\"lbfgs\", opt_res)\n"
     ]
    },
    {
     "name": "stdout",
     "output_type": "stream",
     "text": [
      "[CV 7/10; 15/100] END C=1, class_weight={0: 1, 1: 100}, solver=liblinear;, score=-0.661 total time=   7.7s\n",
      "[CV 5/10; 20/100] END C=1, class_weight={0: 1, 1: 1000}, solver=newton-cholesky;, score=-0.973 total time=   2.6s\n",
      "[CV 8/10; 18/100] END C=1, class_weight={0: 1, 1: 150}, solver=newton-cholesky;, score=-0.898 total time=   4.0s\n",
      "[CV 5/10; 23/100] START C=10, class_weight={0: 1, 1: 10}, solver=liblinear......\n",
      "[CV 10/10; 20/100] END C=1, class_weight={0: 1, 1: 1000}, solver=newton-cholesky;, score=-0.951 total time=   2.4s\n",
      "[CV 6/10; 23/100] START C=10, class_weight={0: 1, 1: 10}, solver=liblinear......\n",
      "[CV 2/10; 20/100] END C=1, class_weight={0: 1, 1: 1000}, solver=newton-cholesky;, score=-0.849 total time=   2.9s\n",
      "[CV 7/10; 23/100] START C=10, class_weight={0: 1, 1: 10}, solver=liblinear......\n",
      "[CV 4/10; 19/100] END C=1, class_weight={0: 1, 1: 1000}, solver=liblinear;, score=-0.868 total time=   3.7s\n",
      "[CV 8/10; 23/100] START C=10, class_weight={0: 1, 1: 10}, solver=liblinear......\n",
      "[CV 9/10; 23/100] START C=10, class_weight={0: 1, 1: 10}, solver=liblinear......\n",
      "[CV 10/10; 23/100] START C=10, class_weight={0: 1, 1: 10}, solver=liblinear.....\n",
      "[CV 10/10; 19/100] END C=1, class_weight={0: 1, 1: 1000}, solver=liblinear;, score=-0.951 total time=   3.3s\n",
      "[CV 5/10; 19/100] END C=1, class_weight={0: 1, 1: 1000}, solver=liblinear;, score=-0.971 total time=   3.8s\n"
     ]
    },
    {
     "name": "stderr",
     "output_type": "stream",
     "text": [
      "/opt/mamba/lib/python3.10/site-packages/sklearn/linear_model/_glm/_newton_solver.py:195: ConvergenceWarning: lbfgs failed to converge (status=1):\n",
      "STOP: TOTAL NO. of ITERATIONS REACHED LIMIT.\n",
      "\n",
      "Increase the number of iterations (max_iter) or scale the data as shown in:\n",
      "    https://scikit-learn.org/stable/modules/preprocessing.html\n",
      "  self.n_iter_ = _check_optimize_result(\"lbfgs\", opt_res)\n"
     ]
    },
    {
     "name": "stdout",
     "output_type": "stream",
     "text": [
      "[CV 6/10; 20/100] END C=1, class_weight={0: 1, 1: 1000}, solver=newton-cholesky;, score=-0.833 total time=   2.9s\n",
      "[CV 1/10; 24/100] START C=10, class_weight={0: 1, 1: 10}, solver=newton-cholesky\n",
      "[CV 2/10; 24/100] START C=10, class_weight={0: 1, 1: 10}, solver=newton-cholesky\n",
      "[CV 3/10; 24/100] START C=10, class_weight={0: 1, 1: 10}, solver=newton-cholesky\n",
      "[CV 7/10; 19/100] END C=1, class_weight={0: 1, 1: 1000}, solver=liblinear;, score=-0.938 total time=   3.8s\n"
     ]
    },
    {
     "name": "stderr",
     "output_type": "stream",
     "text": [
      "/opt/mamba/lib/python3.10/site-packages/sklearn/linear_model/_glm/_newton_solver.py:195: ConvergenceWarning: lbfgs failed to converge (status=1):\n",
      "STOP: TOTAL NO. of ITERATIONS REACHED LIMIT.\n",
      "\n",
      "Increase the number of iterations (max_iter) or scale the data as shown in:\n",
      "    https://scikit-learn.org/stable/modules/preprocessing.html\n",
      "  self.n_iter_ = _check_optimize_result(\"lbfgs\", opt_res)\n",
      "/opt/mamba/lib/python3.10/site-packages/sklearn/linear_model/_glm/_newton_solver.py:195: ConvergenceWarning: lbfgs failed to converge (status=1):\n",
      "STOP: TOTAL NO. of ITERATIONS REACHED LIMIT.\n",
      "\n",
      "Increase the number of iterations (max_iter) or scale the data as shown in:\n",
      "    https://scikit-learn.org/stable/modules/preprocessing.html\n",
      "  self.n_iter_ = _check_optimize_result(\"lbfgs\", opt_res)\n",
      "/opt/mamba/lib/python3.10/site-packages/sklearn/linear_model/_glm/_newton_solver.py:491: LinAlgWarning: The inner solver of NewtonCholeskySolver stumbled upon a singular or very ill-conditioned Hessian matrix at iteration #3. It will now resort to lbfgs instead.\n",
      "Further options are to use another solver or to avoid such situation in the first place. Possible remedies are removing collinear features of X or increasing the penalization strengths.\n",
      "The original Linear Algebra message was:\n",
      "Matrix is singular.\n",
      "  warnings.warn(\n",
      "/opt/mamba/lib/python3.10/site-packages/sklearn/linear_model/_glm/_newton_solver.py:195: ConvergenceWarning: lbfgs failed to converge (status=1):\n",
      "STOP: TOTAL NO. of ITERATIONS REACHED LIMIT.\n",
      "\n",
      "Increase the number of iterations (max_iter) or scale the data as shown in:\n",
      "    https://scikit-learn.org/stable/modules/preprocessing.html\n",
      "  self.n_iter_ = _check_optimize_result(\"lbfgs\", opt_res)\n",
      "/opt/mamba/lib/python3.10/site-packages/sklearn/linear_model/_glm/_newton_solver.py:195: ConvergenceWarning: lbfgs failed to converge (status=1):\n",
      "STOP: TOTAL NO. of ITERATIONS REACHED LIMIT.\n",
      "\n",
      "Increase the number of iterations (max_iter) or scale the data as shown in:\n",
      "    https://scikit-learn.org/stable/modules/preprocessing.html\n",
      "  self.n_iter_ = _check_optimize_result(\"lbfgs\", opt_res)\n",
      "/opt/mamba/lib/python3.10/site-packages/sklearn/linear_model/_glm/_newton_solver.py:491: LinAlgWarning: The inner solver of NewtonCholeskySolver stumbled upon a singular or very ill-conditioned Hessian matrix at iteration #3. It will now resort to lbfgs instead.\n",
      "Further options are to use another solver or to avoid such situation in the first place. Possible remedies are removing collinear features of X or increasing the penalization strengths.\n",
      "The original Linear Algebra message was:\n",
      "Matrix is singular.\n",
      "  warnings.warn(\n"
     ]
    },
    {
     "name": "stdout",
     "output_type": "stream",
     "text": [
      "[CV 4/10; 24/100] START C=10, class_weight={0: 1, 1: 10}, solver=newton-cholesky\n",
      "[CV 9/10; 20/100] END C=1, class_weight={0: 1, 1: 1000}, solver=newton-cholesky;, score=-0.971 total time=   3.1s\n",
      "[CV 7/10; 20/100] END C=1, class_weight={0: 1, 1: 1000}, solver=newton-cholesky;, score=-0.942 total time=   3.2s\n",
      "[CV 5/10; 24/100] START C=10, class_weight={0: 1, 1: 10}, solver=newton-cholesky\n"
     ]
    },
    {
     "name": "stderr",
     "output_type": "stream",
     "text": [
      "/opt/mamba/lib/python3.10/site-packages/sklearn/linear_model/_glm/_newton_solver.py:491: LinAlgWarning: The inner solver of NewtonCholeskySolver stumbled upon a singular or very ill-conditioned Hessian matrix at iteration #3. It will now resort to lbfgs instead.\n",
      "Further options are to use another solver or to avoid such situation in the first place. Possible remedies are removing collinear features of X or increasing the penalization strengths.\n",
      "The original Linear Algebra message was:\n",
      "Matrix is singular.\n",
      "  warnings.warn(\n"
     ]
    },
    {
     "name": "stdout",
     "output_type": "stream",
     "text": [
      "[CV 6/10; 24/100] START C=10, class_weight={0: 1, 1: 10}, solver=newton-cholesky\n",
      "[CV 8/10; 20/100] END C=1, class_weight={0: 1, 1: 1000}, solver=newton-cholesky;, score=-1.043 total time=   3.3s\n",
      "[CV 3/10; 19/100] END C=1, class_weight={0: 1, 1: 1000}, solver=liblinear;, score=-0.836 total time=   4.4s\n",
      "[CV 7/10; 24/100] START C=10, class_weight={0: 1, 1: 10}, solver=newton-cholesky\n",
      "[CV 3/10; 21/100] END C=10, class_weight={0: 1, 1: 1}, solver=liblinear;, score=0.248 total time=   2.9s\n",
      "[CV 3/10; 20/100] END C=1, class_weight={0: 1, 1: 1000}, solver=newton-cholesky;, score=-0.839 total time=   3.7s\n",
      "[CV 8/10; 24/100] START C=10, class_weight={0: 1, 1: 10}, solver=newton-cholesky\n",
      "[CV 9/10; 24/100] START C=10, class_weight={0: 1, 1: 10}, solver=newton-cholesky\n",
      "[CV 5/10; 17/100] END C=1, class_weight={0: 1, 1: 150}, solver=liblinear;, score=-0.813 total time=   6.9s\n",
      "[CV 10/10; 24/100] START C=10, class_weight={0: 1, 1: 10}, solver=newton-cholesky\n",
      "[CV 4/10; 24/100] END C=10, class_weight={0: 1, 1: 10}, solver=newton-cholesky;, score=0.565 total time=   0.5s\n",
      "[CV 1/10; 25/100] START C=10, class_weight={0: 1, 1: 14}, solver=liblinear......\n",
      "[CV 2/10; 25/100] START C=10, class_weight={0: 1, 1: 14}, solver=liblinear......\n"
     ]
    },
    {
     "name": "stderr",
     "output_type": "stream",
     "text": [
      "/opt/mamba/lib/python3.10/site-packages/sklearn/linear_model/_glm/_newton_solver.py:491: LinAlgWarning: The inner solver of NewtonCholeskySolver stumbled upon a singular or very ill-conditioned Hessian matrix at iteration #3. It will now resort to lbfgs instead.\n",
      "Further options are to use another solver or to avoid such situation in the first place. Possible remedies are removing collinear features of X or increasing the penalization strengths.\n",
      "The original Linear Algebra message was:\n",
      "Matrix is singular.\n",
      "  warnings.warn(\n",
      "/opt/mamba/lib/python3.10/site-packages/sklearn/linear_model/_glm/_newton_solver.py:491: LinAlgWarning: The inner solver of NewtonCholeskySolver stumbled upon a singular or very ill-conditioned Hessian matrix at iteration #3. It will now resort to lbfgs instead.\n",
      "Further options are to use another solver or to avoid such situation in the first place. Possible remedies are removing collinear features of X or increasing the penalization strengths.\n",
      "The original Linear Algebra message was:\n",
      "Matrix is singular.\n",
      "  warnings.warn(\n",
      "/opt/mamba/lib/python3.10/site-packages/sklearn/linear_model/_glm/_newton_solver.py:195: ConvergenceWarning: lbfgs failed to converge (status=1):\n",
      "STOP: TOTAL NO. of ITERATIONS REACHED LIMIT.\n",
      "\n",
      "Increase the number of iterations (max_iter) or scale the data as shown in:\n",
      "    https://scikit-learn.org/stable/modules/preprocessing.html\n",
      "  self.n_iter_ = _check_optimize_result(\"lbfgs\", opt_res)\n",
      "/opt/mamba/lib/python3.10/site-packages/sklearn/linear_model/_glm/_newton_solver.py:491: LinAlgWarning: The inner solver of NewtonCholeskySolver stumbled upon a singular or very ill-conditioned Hessian matrix at iteration #3. It will now resort to lbfgs instead.\n",
      "Further options are to use another solver or to avoid such situation in the first place. Possible remedies are removing collinear features of X or increasing the penalization strengths.\n",
      "The original Linear Algebra message was:\n",
      "Matrix is singular.\n",
      "  warnings.warn(\n",
      "/opt/mamba/lib/python3.10/site-packages/sklearn/linear_model/_glm/_newton_solver.py:491: LinAlgWarning: The inner solver of NewtonCholeskySolver stumbled upon a singular or very ill-conditioned Hessian matrix at iteration #3. It will now resort to lbfgs instead.\n",
      "Further options are to use another solver or to avoid such situation in the first place. Possible remedies are removing collinear features of X or increasing the penalization strengths.\n",
      "The original Linear Algebra message was:\n",
      "Matrix is singular.\n",
      "  warnings.warn(\n"
     ]
    },
    {
     "name": "stdout",
     "output_type": "stream",
     "text": [
      "[CV 2/10; 22/100] END C=10, class_weight={0: 1, 1: 1}, solver=newton-cholesky;, score=0.286 total time=   2.4s\n",
      "[CV 3/10; 25/100] START C=10, class_weight={0: 1, 1: 14}, solver=liblinear......\n",
      "[CV 3/10; 22/100] END C=10, class_weight={0: 1, 1: 1}, solver=newton-cholesky;, score=0.248 total time=   2.5s\n"
     ]
    },
    {
     "name": "stderr",
     "output_type": "stream",
     "text": [
      "/opt/mamba/lib/python3.10/site-packages/sklearn/linear_model/_glm/_newton_solver.py:195: ConvergenceWarning: lbfgs failed to converge (status=1):\n",
      "STOP: TOTAL NO. of ITERATIONS REACHED LIMIT.\n",
      "\n",
      "Increase the number of iterations (max_iter) or scale the data as shown in:\n",
      "    https://scikit-learn.org/stable/modules/preprocessing.html\n",
      "  self.n_iter_ = _check_optimize_result(\"lbfgs\", opt_res)\n",
      "/opt/mamba/lib/python3.10/site-packages/sklearn/linear_model/_glm/_newton_solver.py:491: LinAlgWarning: The inner solver of NewtonCholeskySolver stumbled upon a singular or very ill-conditioned Hessian matrix at iteration #3. It will now resort to lbfgs instead.\n",
      "Further options are to use another solver or to avoid such situation in the first place. Possible remedies are removing collinear features of X or increasing the penalization strengths.\n",
      "The original Linear Algebra message was:\n",
      "Matrix is singular.\n",
      "  warnings.warn(\n",
      "/opt/mamba/lib/python3.10/site-packages/sklearn/linear_model/_glm/_newton_solver.py:491: LinAlgWarning: The inner solver of NewtonCholeskySolver stumbled upon a singular or very ill-conditioned Hessian matrix at iteration #3. It will now resort to lbfgs instead.\n",
      "Further options are to use another solver or to avoid such situation in the first place. Possible remedies are removing collinear features of X or increasing the penalization strengths.\n",
      "The original Linear Algebra message was:\n",
      "Matrix is singular.\n",
      "  warnings.warn(\n",
      "/opt/mamba/lib/python3.10/site-packages/sklearn/linear_model/_glm/_newton_solver.py:195: ConvergenceWarning: lbfgs failed to converge (status=1):\n",
      "STOP: TOTAL NO. of ITERATIONS REACHED LIMIT.\n",
      "\n",
      "Increase the number of iterations (max_iter) or scale the data as shown in:\n",
      "    https://scikit-learn.org/stable/modules/preprocessing.html\n",
      "  self.n_iter_ = _check_optimize_result(\"lbfgs\", opt_res)\n"
     ]
    },
    {
     "name": "stdout",
     "output_type": "stream",
     "text": [
      "[CV 4/10; 25/100] START C=10, class_weight={0: 1, 1: 14}, solver=liblinear......\n",
      "[CV 6/10; 19/100] END C=1, class_weight={0: 1, 1: 1000}, solver=liblinear;, score=-0.830 total time=   4.9s\n",
      "[CV 1/10; 22/100] END C=10, class_weight={0: 1, 1: 1}, solver=newton-cholesky;, score=0.292 total time=   2.9s\n",
      "[CV 8/10; 22/100] END C=10, class_weight={0: 1, 1: 1}, solver=newton-cholesky;, score=0.205 total time=   2.4s\n",
      "[CV 5/10; 25/100] START C=10, class_weight={0: 1, 1: 14}, solver=liblinear......\n",
      "[CV 6/10; 25/100] START C=10, class_weight={0: 1, 1: 14}, solver=liblinear......\n"
     ]
    },
    {
     "name": "stderr",
     "output_type": "stream",
     "text": [
      "/opt/mamba/lib/python3.10/site-packages/sklearn/linear_model/_glm/_newton_solver.py:195: ConvergenceWarning: lbfgs failed to converge (status=1):\n",
      "STOP: TOTAL NO. of ITERATIONS REACHED LIMIT.\n",
      "\n",
      "Increase the number of iterations (max_iter) or scale the data as shown in:\n",
      "    https://scikit-learn.org/stable/modules/preprocessing.html\n",
      "  self.n_iter_ = _check_optimize_result(\"lbfgs\", opt_res)\n",
      "/opt/mamba/lib/python3.10/site-packages/sklearn/linear_model/_glm/_newton_solver.py:195: ConvergenceWarning: lbfgs failed to converge (status=1):\n",
      "STOP: TOTAL NO. of ITERATIONS REACHED LIMIT.\n",
      "\n",
      "Increase the number of iterations (max_iter) or scale the data as shown in:\n",
      "    https://scikit-learn.org/stable/modules/preprocessing.html\n",
      "  self.n_iter_ = _check_optimize_result(\"lbfgs\", opt_res)\n",
      "/opt/mamba/lib/python3.10/site-packages/sklearn/linear_model/_glm/_newton_solver.py:195: ConvergenceWarning: lbfgs failed to converge (status=1):\n",
      "STOP: TOTAL NO. of ITERATIONS REACHED LIMIT.\n",
      "\n",
      "Increase the number of iterations (max_iter) or scale the data as shown in:\n",
      "    https://scikit-learn.org/stable/modules/preprocessing.html\n",
      "  self.n_iter_ = _check_optimize_result(\"lbfgs\", opt_res)\n"
     ]
    },
    {
     "name": "stdout",
     "output_type": "stream",
     "text": [
      "[CV 10/10; 22/100] END C=10, class_weight={0: 1, 1: 1}, solver=newton-cholesky;, score=0.301 total time=   2.3s\n",
      "[CV 7/10; 25/100] START C=10, class_weight={0: 1, 1: 14}, solver=liblinear......\n",
      "[CV 1/10; 21/100] END C=10, class_weight={0: 1, 1: 1}, solver=liblinear;, score=0.292 total time=   4.0s\n",
      "[CV 8/10; 25/100] START C=10, class_weight={0: 1, 1: 14}, solver=liblinear......\n",
      "[CV 9/10; 25/100] START C=10, class_weight={0: 1, 1: 14}, solver=liblinear......\n",
      "[CV 6/10; 22/100] END C=10, class_weight={0: 1, 1: 1}, solver=newton-cholesky;, score=0.249 total time=   2.7s\n",
      "[CV 10/10; 25/100] START C=10, class_weight={0: 1, 1: 14}, solver=liblinear.....\n"
     ]
    },
    {
     "name": "stderr",
     "output_type": "stream",
     "text": [
      "/opt/mamba/lib/python3.10/site-packages/sklearn/linear_model/_glm/_newton_solver.py:195: ConvergenceWarning: lbfgs failed to converge (status=1):\n",
      "STOP: TOTAL NO. of ITERATIONS REACHED LIMIT.\n",
      "\n",
      "Increase the number of iterations (max_iter) or scale the data as shown in:\n",
      "    https://scikit-learn.org/stable/modules/preprocessing.html\n",
      "  self.n_iter_ = _check_optimize_result(\"lbfgs\", opt_res)\n"
     ]
    },
    {
     "name": "stdout",
     "output_type": "stream",
     "text": [
      "[CV 5/10; 22/100] END C=10, class_weight={0: 1, 1: 1}, solver=newton-cholesky;, score=0.314 total time=   2.9s\n",
      "[CV 1/10; 26/100] START C=10, class_weight={0: 1, 1: 14}, solver=newton-cholesky\n"
     ]
    },
    {
     "name": "stderr",
     "output_type": "stream",
     "text": [
      "/opt/mamba/lib/python3.10/site-packages/sklearn/linear_model/_glm/_newton_solver.py:195: ConvergenceWarning: lbfgs failed to converge (status=1):\n",
      "STOP: TOTAL NO. of ITERATIONS REACHED LIMIT.\n",
      "\n",
      "Increase the number of iterations (max_iter) or scale the data as shown in:\n",
      "    https://scikit-learn.org/stable/modules/preprocessing.html\n",
      "  self.n_iter_ = _check_optimize_result(\"lbfgs\", opt_res)\n",
      "/opt/mamba/lib/python3.10/site-packages/sklearn/linear_model/_glm/_newton_solver.py:195: ConvergenceWarning: lbfgs failed to converge (status=1):\n",
      "STOP: TOTAL NO. of ITERATIONS REACHED LIMIT.\n",
      "\n",
      "Increase the number of iterations (max_iter) or scale the data as shown in:\n",
      "    https://scikit-learn.org/stable/modules/preprocessing.html\n",
      "  self.n_iter_ = _check_optimize_result(\"lbfgs\", opt_res)\n",
      "/opt/mamba/lib/python3.10/site-packages/sklearn/linear_model/_glm/_newton_solver.py:491: LinAlgWarning: The inner solver of NewtonCholeskySolver stumbled upon a singular or very ill-conditioned Hessian matrix at iteration #3. It will now resort to lbfgs instead.\n",
      "Further options are to use another solver or to avoid such situation in the first place. Possible remedies are removing collinear features of X or increasing the penalization strengths.\n",
      "The original Linear Algebra message was:\n",
      "Matrix is singular.\n",
      "  warnings.warn(\n"
     ]
    },
    {
     "name": "stdout",
     "output_type": "stream",
     "text": [
      "[CV 7/10; 22/100] END C=10, class_weight={0: 1, 1: 1}, solver=newton-cholesky;, score=0.244 total time=   3.1s\n",
      "[CV 9/10; 22/100] END C=10, class_weight={0: 1, 1: 1}, solver=newton-cholesky;, score=0.207 total time=   2.9s\n",
      "[CV 2/10; 26/100] START C=10, class_weight={0: 1, 1: 14}, solver=newton-cholesky\n",
      "[CV 3/10; 26/100] START C=10, class_weight={0: 1, 1: 14}, solver=newton-cholesky\n"
     ]
    },
    {
     "name": "stderr",
     "output_type": "stream",
     "text": [
      "/opt/mamba/lib/python3.10/site-packages/sklearn/linear_model/_glm/_newton_solver.py:491: LinAlgWarning: The inner solver of NewtonCholeskySolver stumbled upon a singular or very ill-conditioned Hessian matrix at iteration #3. It will now resort to lbfgs instead.\n",
      "Further options are to use another solver or to avoid such situation in the first place. Possible remedies are removing collinear features of X or increasing the penalization strengths.\n",
      "The original Linear Algebra message was:\n",
      "Matrix is singular.\n",
      "  warnings.warn(\n",
      "/opt/mamba/lib/python3.10/site-packages/sklearn/linear_model/_glm/_newton_solver.py:195: ConvergenceWarning: lbfgs failed to converge (status=1):\n",
      "STOP: TOTAL NO. of ITERATIONS REACHED LIMIT.\n",
      "\n",
      "Increase the number of iterations (max_iter) or scale the data as shown in:\n",
      "    https://scikit-learn.org/stable/modules/preprocessing.html\n",
      "  self.n_iter_ = _check_optimize_result(\"lbfgs\", opt_res)\n",
      "/opt/mamba/lib/python3.10/site-packages/sklearn/linear_model/_glm/_newton_solver.py:491: LinAlgWarning: The inner solver of NewtonCholeskySolver stumbled upon a singular or very ill-conditioned Hessian matrix at iteration #3. It will now resort to lbfgs instead.\n",
      "Further options are to use another solver or to avoid such situation in the first place. Possible remedies are removing collinear features of X or increasing the penalization strengths.\n",
      "The original Linear Algebra message was:\n",
      "Matrix is singular.\n",
      "  warnings.warn(\n"
     ]
    },
    {
     "name": "stdout",
     "output_type": "stream",
     "text": [
      "[CV 3/10; 24/100] END C=10, class_weight={0: 1, 1: 10}, solver=newton-cholesky;, score=0.565 total time=   2.3s\n",
      "[CV 4/10; 26/100] START C=10, class_weight={0: 1, 1: 14}, solver=newton-cholesky\n"
     ]
    },
    {
     "name": "stderr",
     "output_type": "stream",
     "text": [
      "/opt/mamba/lib/python3.10/site-packages/sklearn/linear_model/_glm/_newton_solver.py:195: ConvergenceWarning: lbfgs failed to converge (status=1):\n",
      "STOP: TOTAL NO. of ITERATIONS REACHED LIMIT.\n",
      "\n",
      "Increase the number of iterations (max_iter) or scale the data as shown in:\n",
      "    https://scikit-learn.org/stable/modules/preprocessing.html\n",
      "  self.n_iter_ = _check_optimize_result(\"lbfgs\", opt_res)\n"
     ]
    },
    {
     "name": "stdout",
     "output_type": "stream",
     "text": [
      "[CV 5/10; 21/100] END C=10, class_weight={0: 1, 1: 1}, solver=liblinear;, score=0.313 total time=   4.9s\n",
      "[CV 5/10; 24/100] END C=10, class_weight={0: 1, 1: 10}, solver=newton-cholesky;, score=0.564 total time=   2.4s\n",
      "[CV 5/10; 26/100] START C=10, class_weight={0: 1, 1: 14}, solver=newton-cholesky\n",
      "[CV 6/10; 26/100] START C=10, class_weight={0: 1, 1: 14}, solver=newton-cholesky\n",
      "[CV 4/10; 26/100] END C=10, class_weight={0: 1, 1: 14}, solver=newton-cholesky;, score=0.497 total time=   0.5s\n",
      "[CV 7/10; 21/100] END C=10, class_weight={0: 1, 1: 1}, solver=liblinear;, score=0.244 total time=   5.0s\n",
      "[CV 7/10; 26/100] START C=10, class_weight={0: 1, 1: 14}, solver=newton-cholesky\n",
      "[CV 8/10; 26/100] START C=10, class_weight={0: 1, 1: 14}, solver=newton-cholesky\n",
      "[CV 8/10; 24/100] END C=10, class_weight={0: 1, 1: 10}, solver=newton-cholesky;, score=0.518 total time=   2.5s\n",
      "[CV 9/10; 26/100] START C=10, class_weight={0: 1, 1: 14}, solver=newton-cholesky\n"
     ]
    },
    {
     "name": "stderr",
     "output_type": "stream",
     "text": [
      "/opt/mamba/lib/python3.10/site-packages/sklearn/linear_model/_glm/_newton_solver.py:195: ConvergenceWarning: lbfgs failed to converge (status=1):\n",
      "STOP: TOTAL NO. of ITERATIONS REACHED LIMIT.\n",
      "\n",
      "Increase the number of iterations (max_iter) or scale the data as shown in:\n",
      "    https://scikit-learn.org/stable/modules/preprocessing.html\n",
      "  self.n_iter_ = _check_optimize_result(\"lbfgs\", opt_res)\n",
      "/opt/mamba/lib/python3.10/site-packages/sklearn/linear_model/_glm/_newton_solver.py:195: ConvergenceWarning: lbfgs failed to converge (status=1):\n",
      "STOP: TOTAL NO. of ITERATIONS REACHED LIMIT.\n",
      "\n",
      "Increase the number of iterations (max_iter) or scale the data as shown in:\n",
      "    https://scikit-learn.org/stable/modules/preprocessing.html\n",
      "  self.n_iter_ = _check_optimize_result(\"lbfgs\", opt_res)\n",
      "/opt/mamba/lib/python3.10/site-packages/sklearn/linear_model/_glm/_newton_solver.py:491: LinAlgWarning: The inner solver of NewtonCholeskySolver stumbled upon a singular or very ill-conditioned Hessian matrix at iteration #3. It will now resort to lbfgs instead.\n",
      "Further options are to use another solver or to avoid such situation in the first place. Possible remedies are removing collinear features of X or increasing the penalization strengths.\n",
      "The original Linear Algebra message was:\n",
      "Matrix is singular.\n",
      "  warnings.warn(\n",
      "/opt/mamba/lib/python3.10/site-packages/sklearn/linear_model/_glm/_newton_solver.py:491: LinAlgWarning: The inner solver of NewtonCholeskySolver stumbled upon a singular or very ill-conditioned Hessian matrix at iteration #3. It will now resort to lbfgs instead.\n",
      "Further options are to use another solver or to avoid such situation in the first place. Possible remedies are removing collinear features of X or increasing the penalization strengths.\n",
      "The original Linear Algebra message was:\n",
      "Matrix is singular.\n",
      "  warnings.warn(\n",
      "/opt/mamba/lib/python3.10/site-packages/sklearn/linear_model/_glm/_newton_solver.py:195: ConvergenceWarning: lbfgs failed to converge (status=1):\n",
      "STOP: TOTAL NO. of ITERATIONS REACHED LIMIT.\n",
      "\n",
      "Increase the number of iterations (max_iter) or scale the data as shown in:\n",
      "    https://scikit-learn.org/stable/modules/preprocessing.html\n",
      "  self.n_iter_ = _check_optimize_result(\"lbfgs\", opt_res)\n"
     ]
    },
    {
     "name": "stdout",
     "output_type": "stream",
     "text": [
      "[CV 1/10; 24/100] END C=10, class_weight={0: 1, 1: 10}, solver=newton-cholesky;, score=0.490 total time=   3.2s\n",
      "[CV 10/10; 26/100] START C=10, class_weight={0: 1, 1: 14}, solver=newton-cholesky\n",
      "[CV 2/10; 24/100] END C=10, class_weight={0: 1, 1: 10}, solver=newton-cholesky;, score=0.530 total time=   3.3s\n",
      "[CV 1/10; 27/100] START C=10, class_weight={0: 1, 1: 15}, solver=liblinear......\n"
     ]
    },
    {
     "name": "stderr",
     "output_type": "stream",
     "text": [
      "/opt/mamba/lib/python3.10/site-packages/sklearn/linear_model/_glm/_newton_solver.py:491: LinAlgWarning: The inner solver of NewtonCholeskySolver stumbled upon a singular or very ill-conditioned Hessian matrix at iteration #3. It will now resort to lbfgs instead.\n",
      "Further options are to use another solver or to avoid such situation in the first place. Possible remedies are removing collinear features of X or increasing the penalization strengths.\n",
      "The original Linear Algebra message was:\n",
      "Matrix is singular.\n",
      "  warnings.warn(\n",
      "/opt/mamba/lib/python3.10/site-packages/sklearn/linear_model/_glm/_newton_solver.py:491: LinAlgWarning: The inner solver of NewtonCholeskySolver stumbled upon a singular or very ill-conditioned Hessian matrix at iteration #3. It will now resort to lbfgs instead.\n",
      "Further options are to use another solver or to avoid such situation in the first place. Possible remedies are removing collinear features of X or increasing the penalization strengths.\n",
      "The original Linear Algebra message was:\n",
      "Matrix is singular.\n",
      "  warnings.warn(\n",
      "/opt/mamba/lib/python3.10/site-packages/sklearn/linear_model/_glm/_newton_solver.py:491: LinAlgWarning: The inner solver of NewtonCholeskySolver stumbled upon a singular or very ill-conditioned Hessian matrix at iteration #3. It will now resort to lbfgs instead.\n",
      "Further options are to use another solver or to avoid such situation in the first place. Possible remedies are removing collinear features of X or increasing the penalization strengths.\n",
      "The original Linear Algebra message was:\n",
      "Matrix is singular.\n",
      "  warnings.warn(\n",
      "/opt/mamba/lib/python3.10/site-packages/sklearn/linear_model/_glm/_newton_solver.py:195: ConvergenceWarning: lbfgs failed to converge (status=1):\n",
      "STOP: TOTAL NO. of ITERATIONS REACHED LIMIT.\n",
      "\n",
      "Increase the number of iterations (max_iter) or scale the data as shown in:\n",
      "    https://scikit-learn.org/stable/modules/preprocessing.html\n",
      "  self.n_iter_ = _check_optimize_result(\"lbfgs\", opt_res)\n",
      "/opt/mamba/lib/python3.10/site-packages/sklearn/linear_model/_glm/_newton_solver.py:491: LinAlgWarning: The inner solver of NewtonCholeskySolver stumbled upon a singular or very ill-conditioned Hessian matrix at iteration #3. It will now resort to lbfgs instead.\n",
      "Further options are to use another solver or to avoid such situation in the first place. Possible remedies are removing collinear features of X or increasing the penalization strengths.\n",
      "The original Linear Algebra message was:\n",
      "Matrix is singular.\n",
      "  warnings.warn(\n",
      "/opt/mamba/lib/python3.10/site-packages/sklearn/linear_model/_glm/_newton_solver.py:195: ConvergenceWarning: lbfgs failed to converge (status=1):\n",
      "STOP: TOTAL NO. of ITERATIONS REACHED LIMIT.\n",
      "\n",
      "Increase the number of iterations (max_iter) or scale the data as shown in:\n",
      "    https://scikit-learn.org/stable/modules/preprocessing.html\n",
      "  self.n_iter_ = _check_optimize_result(\"lbfgs\", opt_res)\n"
     ]
    },
    {
     "name": "stdout",
     "output_type": "stream",
     "text": [
      "[CV 9/10; 24/100] END C=10, class_weight={0: 1, 1: 10}, solver=newton-cholesky;, score=0.538 total time=   3.1s\n",
      "[CV 2/10; 27/100] START C=10, class_weight={0: 1, 1: 15}, solver=liblinear......\n",
      "[CV 6/10; 24/100] END C=10, class_weight={0: 1, 1: 10}, solver=newton-cholesky;, score=0.549 total time=   3.4s\n"
     ]
    },
    {
     "name": "stderr",
     "output_type": "stream",
     "text": [
      "/opt/mamba/lib/python3.10/site-packages/sklearn/linear_model/_glm/_newton_solver.py:195: ConvergenceWarning: lbfgs failed to converge (status=1):\n",
      "STOP: TOTAL NO. of ITERATIONS REACHED LIMIT.\n",
      "\n",
      "Increase the number of iterations (max_iter) or scale the data as shown in:\n",
      "    https://scikit-learn.org/stable/modules/preprocessing.html\n",
      "  self.n_iter_ = _check_optimize_result(\"lbfgs\", opt_res)\n"
     ]
    },
    {
     "name": "stdout",
     "output_type": "stream",
     "text": [
      "[CV 4/10; 21/100] END C=10, class_weight={0: 1, 1: 1}, solver=liblinear;, score=0.215 total time=   6.2s\n",
      "[CV 6/10; 21/100] END C=10, class_weight={0: 1, 1: 1}, solver=liblinear;, score=0.249 total time=   5.9s\n",
      "[CV 3/10; 27/100] START C=10, class_weight={0: 1, 1: 15}, solver=liblinear......\n",
      "[CV 7/10; 24/100] END C=10, class_weight={0: 1, 1: 10}, solver=newton-cholesky;, score=0.543 total time=   3.5s\n",
      "[CV 4/10; 27/100] START C=10, class_weight={0: 1, 1: 15}, solver=liblinear......\n",
      "[CV 5/10; 27/100] START C=10, class_weight={0: 1, 1: 15}, solver=liblinear......\n",
      "[CV 6/10; 27/100] START C=10, class_weight={0: 1, 1: 15}, solver=liblinear......\n",
      "[CV 9/10; 21/100] END C=10, class_weight={0: 1, 1: 1}, solver=liblinear;, score=0.212 total time=   5.9s\n"
     ]
    },
    {
     "name": "stderr",
     "output_type": "stream",
     "text": [
      "/opt/mamba/lib/python3.10/site-packages/sklearn/linear_model/_glm/_newton_solver.py:195: ConvergenceWarning: lbfgs failed to converge (status=1):\n",
      "STOP: TOTAL NO. of ITERATIONS REACHED LIMIT.\n",
      "\n",
      "Increase the number of iterations (max_iter) or scale the data as shown in:\n",
      "    https://scikit-learn.org/stable/modules/preprocessing.html\n",
      "  self.n_iter_ = _check_optimize_result(\"lbfgs\", opt_res)\n"
     ]
    },
    {
     "name": "stdout",
     "output_type": "stream",
     "text": [
      "[CV 8/10; 21/100] END C=10, class_weight={0: 1, 1: 1}, solver=liblinear;, score=0.212 total time=   6.1s\n",
      "[CV 7/10; 27/100] START C=10, class_weight={0: 1, 1: 15}, solver=liblinear......\n",
      "[CV 10/10; 24/100] END C=10, class_weight={0: 1, 1: 10}, solver=newton-cholesky;, score=0.499 total time=   3.6s\n",
      "[CV 8/10; 27/100] START C=10, class_weight={0: 1, 1: 15}, solver=liblinear......\n",
      "[CV 9/10; 27/100] START C=10, class_weight={0: 1, 1: 15}, solver=liblinear......\n"
     ]
    },
    {
     "name": "stderr",
     "output_type": "stream",
     "text": [
      "/opt/mamba/lib/python3.10/site-packages/sklearn/linear_model/_glm/_newton_solver.py:195: ConvergenceWarning: lbfgs failed to converge (status=1):\n",
      "STOP: TOTAL NO. of ITERATIONS REACHED LIMIT.\n",
      "\n",
      "Increase the number of iterations (max_iter) or scale the data as shown in:\n",
      "    https://scikit-learn.org/stable/modules/preprocessing.html\n",
      "  self.n_iter_ = _check_optimize_result(\"lbfgs\", opt_res)\n",
      "/opt/mamba/lib/python3.10/site-packages/sklearn/linear_model/_glm/_newton_solver.py:195: ConvergenceWarning: lbfgs failed to converge (status=1):\n",
      "STOP: TOTAL NO. of ITERATIONS REACHED LIMIT.\n",
      "\n",
      "Increase the number of iterations (max_iter) or scale the data as shown in:\n",
      "    https://scikit-learn.org/stable/modules/preprocessing.html\n",
      "  self.n_iter_ = _check_optimize_result(\"lbfgs\", opt_res)\n"
     ]
    },
    {
     "name": "stdout",
     "output_type": "stream",
     "text": [
      "[CV 2/10; 26/100] END C=10, class_weight={0: 1, 1: 14}, solver=newton-cholesky;, score=0.464 total time=   2.7s\n",
      "[CV 10/10; 27/100] START C=10, class_weight={0: 1, 1: 15}, solver=liblinear.....\n",
      "[CV 1/10; 26/100] END C=10, class_weight={0: 1, 1: 14}, solver=newton-cholesky;, score=0.391 total time=   3.2s\n",
      "[CV 1/10; 28/100] START C=10, class_weight={0: 1, 1: 15}, solver=newton-cholesky\n",
      "[CV 3/10; 26/100] END C=10, class_weight={0: 1, 1: 14}, solver=newton-cholesky;, score=0.480 total time=   3.0s\n"
     ]
    },
    {
     "name": "stderr",
     "output_type": "stream",
     "text": [
      "/opt/mamba/lib/python3.10/site-packages/sklearn/linear_model/_glm/_newton_solver.py:195: ConvergenceWarning: lbfgs failed to converge (status=1):\n",
      "STOP: TOTAL NO. of ITERATIONS REACHED LIMIT.\n",
      "\n",
      "Increase the number of iterations (max_iter) or scale the data as shown in:\n",
      "    https://scikit-learn.org/stable/modules/preprocessing.html\n",
      "  self.n_iter_ = _check_optimize_result(\"lbfgs\", opt_res)\n"
     ]
    },
    {
     "name": "stdout",
     "output_type": "stream",
     "text": [
      "[CV 2/10; 28/100] START C=10, class_weight={0: 1, 1: 15}, solver=newton-cholesky\n",
      "[CV 2/10; 21/100] END C=10, class_weight={0: 1, 1: 1}, solver=liblinear;, score=0.286 total time=   7.8s\n"
     ]
    },
    {
     "name": "stderr",
     "output_type": "stream",
     "text": [
      "/opt/mamba/lib/python3.10/site-packages/sklearn/linear_model/_glm/_newton_solver.py:491: LinAlgWarning: The inner solver of NewtonCholeskySolver stumbled upon a singular or very ill-conditioned Hessian matrix at iteration #3. It will now resort to lbfgs instead.\n",
      "Further options are to use another solver or to avoid such situation in the first place. Possible remedies are removing collinear features of X or increasing the penalization strengths.\n",
      "The original Linear Algebra message was:\n",
      "Matrix is singular.\n",
      "  warnings.warn(\n",
      "/opt/mamba/lib/python3.10/site-packages/sklearn/linear_model/_glm/_newton_solver.py:195: ConvergenceWarning: lbfgs failed to converge (status=1):\n",
      "STOP: TOTAL NO. of ITERATIONS REACHED LIMIT.\n",
      "\n",
      "Increase the number of iterations (max_iter) or scale the data as shown in:\n",
      "    https://scikit-learn.org/stable/modules/preprocessing.html\n",
      "  self.n_iter_ = _check_optimize_result(\"lbfgs\", opt_res)\n",
      "/opt/mamba/lib/python3.10/site-packages/sklearn/linear_model/_glm/_newton_solver.py:195: ConvergenceWarning: lbfgs failed to converge (status=1):\n",
      "STOP: TOTAL NO. of ITERATIONS REACHED LIMIT.\n",
      "\n",
      "Increase the number of iterations (max_iter) or scale the data as shown in:\n",
      "    https://scikit-learn.org/stable/modules/preprocessing.html\n",
      "  self.n_iter_ = _check_optimize_result(\"lbfgs\", opt_res)\n"
     ]
    },
    {
     "name": "stdout",
     "output_type": "stream",
     "text": [
      "[CV 3/10; 28/100] START C=10, class_weight={0: 1, 1: 15}, solver=newton-cholesky\n",
      "[CV 6/10; 26/100] END C=10, class_weight={0: 1, 1: 14}, solver=newton-cholesky;, score=0.448 total time=   2.6s\n",
      "[CV 5/10; 26/100] END C=10, class_weight={0: 1, 1: 14}, solver=newton-cholesky;, score=0.472 total time=   2.7s\n",
      "[CV 4/10; 28/100] START C=10, class_weight={0: 1, 1: 15}, solver=newton-cholesky\n",
      "[CV 5/10; 28/100] START C=10, class_weight={0: 1, 1: 15}, solver=newton-cholesky\n"
     ]
    },
    {
     "name": "stderr",
     "output_type": "stream",
     "text": [
      "/opt/mamba/lib/python3.10/site-packages/sklearn/linear_model/_glm/_newton_solver.py:491: LinAlgWarning: The inner solver of NewtonCholeskySolver stumbled upon a singular or very ill-conditioned Hessian matrix at iteration #3. It will now resort to lbfgs instead.\n",
      "Further options are to use another solver or to avoid such situation in the first place. Possible remedies are removing collinear features of X or increasing the penalization strengths.\n",
      "The original Linear Algebra message was:\n",
      "Matrix is singular.\n",
      "  warnings.warn(\n",
      "/opt/mamba/lib/python3.10/site-packages/sklearn/linear_model/_glm/_newton_solver.py:491: LinAlgWarning: The inner solver of NewtonCholeskySolver stumbled upon a singular or very ill-conditioned Hessian matrix at iteration #3. It will now resort to lbfgs instead.\n",
      "Further options are to use another solver or to avoid such situation in the first place. Possible remedies are removing collinear features of X or increasing the penalization strengths.\n",
      "The original Linear Algebra message was:\n",
      "Matrix is singular.\n",
      "  warnings.warn(\n",
      "/opt/mamba/lib/python3.10/site-packages/sklearn/linear_model/_glm/_newton_solver.py:195: ConvergenceWarning: lbfgs failed to converge (status=1):\n",
      "STOP: TOTAL NO. of ITERATIONS REACHED LIMIT.\n",
      "\n",
      "Increase the number of iterations (max_iter) or scale the data as shown in:\n",
      "    https://scikit-learn.org/stable/modules/preprocessing.html\n",
      "  self.n_iter_ = _check_optimize_result(\"lbfgs\", opt_res)\n"
     ]
    },
    {
     "name": "stdout",
     "output_type": "stream",
     "text": [
      "[CV 1/10; 23/100] END C=10, class_weight={0: 1, 1: 10}, solver=liblinear;, score=0.486 total time=   6.3s\n",
      "[CV 6/10; 28/100] START C=10, class_weight={0: 1, 1: 15}, solver=newton-cholesky\n",
      "[CV 10/10; 23/100] END C=10, class_weight={0: 1, 1: 10}, solver=liblinear;, score=0.499 total time=   5.8s\n",
      "[CV 3/10; 23/100] END C=10, class_weight={0: 1, 1: 10}, solver=liblinear;, score=0.562 total time=   6.3s\n",
      "[CV 9/10; 26/100] END C=10, class_weight={0: 1, 1: 14}, solver=newton-cholesky;, score=0.444 total time=   2.5s\n",
      "[CV 7/10; 28/100] START C=10, class_weight={0: 1, 1: 15}, solver=newton-cholesky\n"
     ]
    },
    {
     "name": "stderr",
     "output_type": "stream",
     "text": [
      "/opt/mamba/lib/python3.10/site-packages/sklearn/linear_model/_glm/_newton_solver.py:195: ConvergenceWarning: lbfgs failed to converge (status=1):\n",
      "STOP: TOTAL NO. of ITERATIONS REACHED LIMIT.\n",
      "\n",
      "Increase the number of iterations (max_iter) or scale the data as shown in:\n",
      "    https://scikit-learn.org/stable/modules/preprocessing.html\n",
      "  self.n_iter_ = _check_optimize_result(\"lbfgs\", opt_res)\n",
      "/opt/mamba/lib/python3.10/site-packages/sklearn/linear_model/_glm/_newton_solver.py:491: LinAlgWarning: The inner solver of NewtonCholeskySolver stumbled upon a singular or very ill-conditioned Hessian matrix at iteration #3. It will now resort to lbfgs instead.\n",
      "Further options are to use another solver or to avoid such situation in the first place. Possible remedies are removing collinear features of X or increasing the penalization strengths.\n",
      "The original Linear Algebra message was:\n",
      "Matrix is singular.\n",
      "  warnings.warn(\n",
      "/opt/mamba/lib/python3.10/site-packages/sklearn/linear_model/_glm/_newton_solver.py:491: LinAlgWarning: The inner solver of NewtonCholeskySolver stumbled upon a singular or very ill-conditioned Hessian matrix at iteration #3. It will now resort to lbfgs instead.\n",
      "Further options are to use another solver or to avoid such situation in the first place. Possible remedies are removing collinear features of X or increasing the penalization strengths.\n",
      "The original Linear Algebra message was:\n",
      "Matrix is singular.\n",
      "  warnings.warn(\n"
     ]
    },
    {
     "name": "stdout",
     "output_type": "stream",
     "text": [
      "[CV 8/10; 28/100] START C=10, class_weight={0: 1, 1: 15}, solver=newton-cholesky\n",
      "[CV 9/10; 28/100] START C=10, class_weight={0: 1, 1: 15}, solver=newton-cholesky\n",
      "[CV 7/10; 26/100] END C=10, class_weight={0: 1, 1: 14}, solver=newton-cholesky;, score=0.490 total time=   2.8s\n",
      "[CV 10/10; 28/100] START C=10, class_weight={0: 1, 1: 15}, solver=newton-cholesky\n"
     ]
    },
    {
     "name": "stderr",
     "output_type": "stream",
     "text": [
      "/opt/mamba/lib/python3.10/site-packages/sklearn/linear_model/_glm/_newton_solver.py:491: LinAlgWarning: The inner solver of NewtonCholeskySolver stumbled upon a singular or very ill-conditioned Hessian matrix at iteration #3. It will now resort to lbfgs instead.\n",
      "Further options are to use another solver or to avoid such situation in the first place. Possible remedies are removing collinear features of X or increasing the penalization strengths.\n",
      "The original Linear Algebra message was:\n",
      "Matrix is singular.\n",
      "  warnings.warn(\n",
      "/opt/mamba/lib/python3.10/site-packages/sklearn/linear_model/_glm/_newton_solver.py:491: LinAlgWarning: The inner solver of NewtonCholeskySolver stumbled upon a singular or very ill-conditioned Hessian matrix at iteration #3. It will now resort to lbfgs instead.\n",
      "Further options are to use another solver or to avoid such situation in the first place. Possible remedies are removing collinear features of X or increasing the penalization strengths.\n",
      "The original Linear Algebra message was:\n",
      "Matrix is singular.\n",
      "  warnings.warn(\n",
      "/opt/mamba/lib/python3.10/site-packages/sklearn/linear_model/_glm/_newton_solver.py:491: LinAlgWarning: The inner solver of NewtonCholeskySolver stumbled upon a singular or very ill-conditioned Hessian matrix at iteration #3. It will now resort to lbfgs instead.\n",
      "Further options are to use another solver or to avoid such situation in the first place. Possible remedies are removing collinear features of X or increasing the penalization strengths.\n",
      "The original Linear Algebra message was:\n",
      "Matrix is singular.\n",
      "  warnings.warn(\n"
     ]
    },
    {
     "name": "stdout",
     "output_type": "stream",
     "text": [
      "[CV 3/10; 25/100] END C=10, class_weight={0: 1, 1: 14}, solver=liblinear;, score=0.479 total time=   5.1s\n",
      "[CV 1/10; 29/100] START C=10, class_weight={0: 1, 1: 16}, solver=liblinear......\n",
      "[CV 10/10; 21/100] END C=10, class_weight={0: 1, 1: 1}, solver=liblinear;, score=0.304 total time=   7.8s\n",
      "[CV 4/10; 28/100] END C=10, class_weight={0: 1, 1: 15}, solver=newton-cholesky;, score=0.476 total time=   0.7s\n",
      "[CV 2/10; 29/100] START C=10, class_weight={0: 1, 1: 16}, solver=liblinear......\n",
      "[CV 3/10; 29/100] START C=10, class_weight={0: 1, 1: 16}, solver=liblinear......\n"
     ]
    },
    {
     "name": "stderr",
     "output_type": "stream",
     "text": [
      "/opt/mamba/lib/python3.10/site-packages/sklearn/linear_model/_glm/_newton_solver.py:195: ConvergenceWarning: lbfgs failed to converge (status=1):\n",
      "STOP: TOTAL NO. of ITERATIONS REACHED LIMIT.\n",
      "\n",
      "Increase the number of iterations (max_iter) or scale the data as shown in:\n",
      "    https://scikit-learn.org/stable/modules/preprocessing.html\n",
      "  self.n_iter_ = _check_optimize_result(\"lbfgs\", opt_res)\n",
      "/opt/mamba/lib/python3.10/site-packages/sklearn/linear_model/_glm/_newton_solver.py:491: LinAlgWarning: The inner solver of NewtonCholeskySolver stumbled upon a singular or very ill-conditioned Hessian matrix at iteration #3. It will now resort to lbfgs instead.\n",
      "Further options are to use another solver or to avoid such situation in the first place. Possible remedies are removing collinear features of X or increasing the penalization strengths.\n",
      "The original Linear Algebra message was:\n",
      "Matrix is singular.\n",
      "  warnings.warn(\n",
      "/opt/mamba/lib/python3.10/site-packages/sklearn/linear_model/_glm/_newton_solver.py:195: ConvergenceWarning: lbfgs failed to converge (status=1):\n",
      "STOP: TOTAL NO. of ITERATIONS REACHED LIMIT.\n",
      "\n",
      "Increase the number of iterations (max_iter) or scale the data as shown in:\n",
      "    https://scikit-learn.org/stable/modules/preprocessing.html\n",
      "  self.n_iter_ = _check_optimize_result(\"lbfgs\", opt_res)\n"
     ]
    },
    {
     "name": "stdout",
     "output_type": "stream",
     "text": [
      "[CV 10/10; 26/100] END C=10, class_weight={0: 1, 1: 14}, solver=newton-cholesky;, score=0.438 total time=   3.0s\n",
      "[CV 4/10; 29/100] START C=10, class_weight={0: 1, 1: 16}, solver=liblinear......\n",
      "[CV 8/10; 26/100] END C=10, class_weight={0: 1, 1: 14}, solver=newton-cholesky;, score=0.408 total time=   3.4s\n",
      "[CV 5/10; 29/100] START C=10, class_weight={0: 1, 1: 16}, solver=liblinear......\n",
      "[CV 1/10; 25/100] END C=10, class_weight={0: 1, 1: 14}, solver=liblinear;, score=0.388 total time=   5.8s\n",
      "[CV 6/10; 29/100] START C=10, class_weight={0: 1, 1: 16}, solver=liblinear......\n",
      "[CV 10/10; 25/100] END C=10, class_weight={0: 1, 1: 14}, solver=liblinear;, score=0.434 total time=   5.1s\n",
      "[CV 7/10; 29/100] START C=10, class_weight={0: 1, 1: 16}, solver=liblinear......\n",
      "[CV 7/10; 25/100] END C=10, class_weight={0: 1, 1: 14}, solver=liblinear;, score=0.493 total time=   5.5s\n",
      "[CV 8/10; 29/100] START C=10, class_weight={0: 1, 1: 16}, solver=liblinear......\n",
      "[CV 2/10; 25/100] END C=10, class_weight={0: 1, 1: 14}, solver=liblinear;, score=0.474 total time=   6.2s\n",
      "[CV 9/10; 29/100] START C=10, class_weight={0: 1, 1: 16}, solver=liblinear......\n",
      "[CV 8/10; 23/100] END C=10, class_weight={0: 1, 1: 10}, solver=liblinear;, score=0.517 total time=   7.4s\n",
      "[CV 10/10; 29/100] START C=10, class_weight={0: 1, 1: 16}, solver=liblinear.....\n",
      "[CV 6/10; 25/100] END C=10, class_weight={0: 1, 1: 14}, solver=liblinear;, score=0.449 total time=   6.0s\n",
      "[CV 6/10; 23/100] END C=10, class_weight={0: 1, 1: 10}, solver=liblinear;, score=0.546 total time=   7.7s\n",
      "[CV 1/10; 30/100] START C=10, class_weight={0: 1, 1: 16}, solver=newton-cholesky\n",
      "[CV 9/10; 25/100] END C=10, class_weight={0: 1, 1: 14}, solver=liblinear;, score=0.443 total time=   5.9s\n",
      "[CV 2/10; 30/100] START C=10, class_weight={0: 1, 1: 16}, solver=newton-cholesky\n",
      "[CV 3/10; 30/100] START C=10, class_weight={0: 1, 1: 16}, solver=newton-cholesky\n"
     ]
    },
    {
     "name": "stderr",
     "output_type": "stream",
     "text": [
      "/opt/mamba/lib/python3.10/site-packages/sklearn/linear_model/_glm/_newton_solver.py:491: LinAlgWarning: The inner solver of NewtonCholeskySolver stumbled upon a singular or very ill-conditioned Hessian matrix at iteration #3. It will now resort to lbfgs instead.\n",
      "Further options are to use another solver or to avoid such situation in the first place. Possible remedies are removing collinear features of X or increasing the penalization strengths.\n",
      "The original Linear Algebra message was:\n",
      "Matrix is singular.\n",
      "  warnings.warn(\n",
      "/opt/mamba/lib/python3.10/site-packages/sklearn/linear_model/_glm/_newton_solver.py:491: LinAlgWarning: The inner solver of NewtonCholeskySolver stumbled upon a singular or very ill-conditioned Hessian matrix at iteration #3. It will now resort to lbfgs instead.\n",
      "Further options are to use another solver or to avoid such situation in the first place. Possible remedies are removing collinear features of X or increasing the penalization strengths.\n",
      "The original Linear Algebra message was:\n",
      "Matrix is singular.\n",
      "  warnings.warn(\n",
      "/opt/mamba/lib/python3.10/site-packages/sklearn/linear_model/_glm/_newton_solver.py:491: LinAlgWarning: The inner solver of NewtonCholeskySolver stumbled upon a singular or very ill-conditioned Hessian matrix at iteration #3. It will now resort to lbfgs instead.\n",
      "Further options are to use another solver or to avoid such situation in the first place. Possible remedies are removing collinear features of X or increasing the penalization strengths.\n",
      "The original Linear Algebra message was:\n",
      "Matrix is singular.\n",
      "  warnings.warn(\n",
      "/opt/mamba/lib/python3.10/site-packages/sklearn/linear_model/_glm/_newton_solver.py:195: ConvergenceWarning: lbfgs failed to converge (status=1):\n",
      "STOP: TOTAL NO. of ITERATIONS REACHED LIMIT.\n",
      "\n",
      "Increase the number of iterations (max_iter) or scale the data as shown in:\n",
      "    https://scikit-learn.org/stable/modules/preprocessing.html\n",
      "  self.n_iter_ = _check_optimize_result(\"lbfgs\", opt_res)\n"
     ]
    },
    {
     "name": "stdout",
     "output_type": "stream",
     "text": [
      "[CV 5/10; 23/100] END C=10, class_weight={0: 1, 1: 10}, solver=liblinear;, score=0.563 total time=   8.2s\n",
      "[CV 4/10; 30/100] START C=10, class_weight={0: 1, 1: 16}, solver=newton-cholesky\n",
      "[CV 9/10; 23/100] END C=10, class_weight={0: 1, 1: 10}, solver=liblinear;, score=0.538 total time=   8.1s\n",
      "[CV 1/10; 28/100] END C=10, class_weight={0: 1, 1: 15}, solver=newton-cholesky;, score=0.367 total time=   3.0s\n",
      "[CV 5/10; 28/100] END C=10, class_weight={0: 1, 1: 15}, solver=newton-cholesky;, score=0.453 total time=   2.4s\n",
      "[CV 2/10; 23/100] END C=10, class_weight={0: 1, 1: 10}, solver=liblinear;, score=0.535 total time=   8.6s\n",
      "[CV 5/10; 30/100] START C=10, class_weight={0: 1, 1: 16}, solver=newton-cholesky\n"
     ]
    },
    {
     "name": "stderr",
     "output_type": "stream",
     "text": [
      "/opt/mamba/lib/python3.10/site-packages/sklearn/linear_model/_glm/_newton_solver.py:195: ConvergenceWarning: lbfgs failed to converge (status=1):\n",
      "STOP: TOTAL NO. of ITERATIONS REACHED LIMIT.\n",
      "\n",
      "Increase the number of iterations (max_iter) or scale the data as shown in:\n",
      "    https://scikit-learn.org/stable/modules/preprocessing.html\n",
      "  self.n_iter_ = _check_optimize_result(\"lbfgs\", opt_res)\n"
     ]
    },
    {
     "name": "stdout",
     "output_type": "stream",
     "text": [
      "[CV 6/10; 30/100] START C=10, class_weight={0: 1, 1: 16}, solver=newton-cholesky\n",
      "[CV 7/10; 30/100] START C=10, class_weight={0: 1, 1: 16}, solver=newton-cholesky\n",
      "[CV 8/10; 30/100] START C=10, class_weight={0: 1, 1: 16}, solver=newton-cholesky\n",
      "[CV 8/10; 25/100] END C=10, class_weight={0: 1, 1: 14}, solver=liblinear;, score=0.417 total time=   6.7s\n",
      "[CV 3/10; 28/100] END C=10, class_weight={0: 1, 1: 15}, solver=newton-cholesky;, score=0.452 total time=   2.9s\n",
      "[CV 9/10; 30/100] START C=10, class_weight={0: 1, 1: 16}, solver=newton-cholesky\n"
     ]
    },
    {
     "name": "stderr",
     "output_type": "stream",
     "text": [
      "/opt/mamba/lib/python3.10/site-packages/sklearn/linear_model/_glm/_newton_solver.py:195: ConvergenceWarning: lbfgs failed to converge (status=1):\n",
      "STOP: TOTAL NO. of ITERATIONS REACHED LIMIT.\n",
      "\n",
      "Increase the number of iterations (max_iter) or scale the data as shown in:\n",
      "    https://scikit-learn.org/stable/modules/preprocessing.html\n",
      "  self.n_iter_ = _check_optimize_result(\"lbfgs\", opt_res)\n",
      "/opt/mamba/lib/python3.10/site-packages/sklearn/linear_model/_glm/_newton_solver.py:195: ConvergenceWarning: lbfgs failed to converge (status=1):\n",
      "STOP: TOTAL NO. of ITERATIONS REACHED LIMIT.\n",
      "\n",
      "Increase the number of iterations (max_iter) or scale the data as shown in:\n",
      "    https://scikit-learn.org/stable/modules/preprocessing.html\n",
      "  self.n_iter_ = _check_optimize_result(\"lbfgs\", opt_res)\n",
      "/opt/mamba/lib/python3.10/site-packages/sklearn/linear_model/_glm/_newton_solver.py:491: LinAlgWarning: The inner solver of NewtonCholeskySolver stumbled upon a singular or very ill-conditioned Hessian matrix at iteration #3. It will now resort to lbfgs instead.\n",
      "Further options are to use another solver or to avoid such situation in the first place. Possible remedies are removing collinear features of X or increasing the penalization strengths.\n",
      "The original Linear Algebra message was:\n",
      "Matrix is singular.\n",
      "  warnings.warn(\n"
     ]
    },
    {
     "name": "stdout",
     "output_type": "stream",
     "text": [
      "[CV 10/10; 30/100] START C=10, class_weight={0: 1, 1: 16}, solver=newton-cholesky\n",
      "[CV 6/10; 28/100] END C=10, class_weight={0: 1, 1: 15}, solver=newton-cholesky;, score=0.426 total time=   2.7s\n",
      "[CV 1/10; 31/100] START C=10, class_weight={0: 1, 1: 20}, solver=liblinear......\n",
      "[CV 4/10; 30/100] END C=10, class_weight={0: 1, 1: 16}, solver=newton-cholesky;, score=0.453 total time=   0.5s\n",
      "[CV 2/10; 28/100] END C=10, class_weight={0: 1, 1: 15}, solver=newton-cholesky;, score=0.445 total time=   3.3s\n",
      "[CV 2/10; 31/100] START C=10, class_weight={0: 1, 1: 20}, solver=liblinear......\n"
     ]
    },
    {
     "name": "stderr",
     "output_type": "stream",
     "text": [
      "/opt/mamba/lib/python3.10/site-packages/sklearn/linear_model/_glm/_newton_solver.py:195: ConvergenceWarning: lbfgs failed to converge (status=1):\n",
      "STOP: TOTAL NO. of ITERATIONS REACHED LIMIT.\n",
      "\n",
      "Increase the number of iterations (max_iter) or scale the data as shown in:\n",
      "    https://scikit-learn.org/stable/modules/preprocessing.html\n",
      "  self.n_iter_ = _check_optimize_result(\"lbfgs\", opt_res)\n",
      "/opt/mamba/lib/python3.10/site-packages/sklearn/linear_model/_glm/_newton_solver.py:491: LinAlgWarning: The inner solver of NewtonCholeskySolver stumbled upon a singular or very ill-conditioned Hessian matrix at iteration #3. It will now resort to lbfgs instead.\n",
      "Further options are to use another solver or to avoid such situation in the first place. Possible remedies are removing collinear features of X or increasing the penalization strengths.\n",
      "The original Linear Algebra message was:\n",
      "Matrix is singular.\n",
      "  warnings.warn(\n",
      "/opt/mamba/lib/python3.10/site-packages/sklearn/linear_model/_glm/_newton_solver.py:491: LinAlgWarning: The inner solver of NewtonCholeskySolver stumbled upon a singular or very ill-conditioned Hessian matrix at iteration #3. It will now resort to lbfgs instead.\n",
      "Further options are to use another solver or to avoid such situation in the first place. Possible remedies are removing collinear features of X or increasing the penalization strengths.\n",
      "The original Linear Algebra message was:\n",
      "Matrix is singular.\n",
      "  warnings.warn(\n",
      "/opt/mamba/lib/python3.10/site-packages/sklearn/linear_model/_glm/_newton_solver.py:491: LinAlgWarning: The inner solver of NewtonCholeskySolver stumbled upon a singular or very ill-conditioned Hessian matrix at iteration #3. It will now resort to lbfgs instead.\n",
      "Further options are to use another solver or to avoid such situation in the first place. Possible remedies are removing collinear features of X or increasing the penalization strengths.\n",
      "The original Linear Algebra message was:\n",
      "Matrix is singular.\n",
      "  warnings.warn(\n",
      "/opt/mamba/lib/python3.10/site-packages/sklearn/linear_model/_glm/_newton_solver.py:491: LinAlgWarning: The inner solver of NewtonCholeskySolver stumbled upon a singular or very ill-conditioned Hessian matrix at iteration #3. It will now resort to lbfgs instead.\n",
      "Further options are to use another solver or to avoid such situation in the first place. Possible remedies are removing collinear features of X or increasing the penalization strengths.\n",
      "The original Linear Algebra message was:\n",
      "Matrix is singular.\n",
      "  warnings.warn(\n"
     ]
    },
    {
     "name": "stdout",
     "output_type": "stream",
     "text": [
      "[CV 3/10; 31/100] START C=10, class_weight={0: 1, 1: 20}, solver=liblinear......\n",
      "[CV 10/10; 27/100] END C=10, class_weight={0: 1, 1: 15}, solver=liblinear;, score=0.410 total time=   3.9s\n",
      "[CV 4/10; 31/100] START C=10, class_weight={0: 1, 1: 20}, solver=liblinear......\n",
      "[CV 7/10; 28/100] END C=10, class_weight={0: 1, 1: 15}, solver=newton-cholesky;, score=0.469 total time=   3.0s\n"
     ]
    },
    {
     "name": "stderr",
     "output_type": "stream",
     "text": [
      "/opt/mamba/lib/python3.10/site-packages/sklearn/linear_model/_glm/_newton_solver.py:195: ConvergenceWarning: lbfgs failed to converge (status=1):\n",
      "STOP: TOTAL NO. of ITERATIONS REACHED LIMIT.\n",
      "\n",
      "Increase the number of iterations (max_iter) or scale the data as shown in:\n",
      "    https://scikit-learn.org/stable/modules/preprocessing.html\n",
      "  self.n_iter_ = _check_optimize_result(\"lbfgs\", opt_res)\n",
      "/opt/mamba/lib/python3.10/site-packages/sklearn/linear_model/_glm/_newton_solver.py:491: LinAlgWarning: The inner solver of NewtonCholeskySolver stumbled upon a singular or very ill-conditioned Hessian matrix at iteration #3. It will now resort to lbfgs instead.\n",
      "Further options are to use another solver or to avoid such situation in the first place. Possible remedies are removing collinear features of X or increasing the penalization strengths.\n",
      "The original Linear Algebra message was:\n",
      "Matrix is singular.\n",
      "  warnings.warn(\n",
      "/opt/mamba/lib/python3.10/site-packages/sklearn/linear_model/_glm/_newton_solver.py:195: ConvergenceWarning: lbfgs failed to converge (status=1):\n",
      "STOP: TOTAL NO. of ITERATIONS REACHED LIMIT.\n",
      "\n",
      "Increase the number of iterations (max_iter) or scale the data as shown in:\n",
      "    https://scikit-learn.org/stable/modules/preprocessing.html\n",
      "  self.n_iter_ = _check_optimize_result(\"lbfgs\", opt_res)\n",
      "/opt/mamba/lib/python3.10/site-packages/sklearn/linear_model/_glm/_newton_solver.py:195: ConvergenceWarning: lbfgs failed to converge (status=1):\n",
      "STOP: TOTAL NO. of ITERATIONS REACHED LIMIT.\n",
      "\n",
      "Increase the number of iterations (max_iter) or scale the data as shown in:\n",
      "    https://scikit-learn.org/stable/modules/preprocessing.html\n",
      "  self.n_iter_ = _check_optimize_result(\"lbfgs\", opt_res)\n"
     ]
    },
    {
     "name": "stdout",
     "output_type": "stream",
     "text": [
      "[CV 5/10; 31/100] START C=10, class_weight={0: 1, 1: 20}, solver=liblinear......\n",
      "[CV 9/10; 28/100] END C=10, class_weight={0: 1, 1: 15}, solver=newton-cholesky;, score=0.414 total time=   3.0s\n",
      "[CV 10/10; 28/100] END C=10, class_weight={0: 1, 1: 15}, solver=newton-cholesky;, score=0.406 total time=   2.9s\n",
      "[CV 6/10; 31/100] START C=10, class_weight={0: 1, 1: 20}, solver=liblinear......\n",
      "[CV 7/10; 31/100] START C=10, class_weight={0: 1, 1: 20}, solver=liblinear......\n"
     ]
    },
    {
     "name": "stderr",
     "output_type": "stream",
     "text": [
      "/opt/mamba/lib/python3.10/site-packages/sklearn/linear_model/_glm/_newton_solver.py:195: ConvergenceWarning: lbfgs failed to converge (status=1):\n",
      "STOP: TOTAL NO. of ITERATIONS REACHED LIMIT.\n",
      "\n",
      "Increase the number of iterations (max_iter) or scale the data as shown in:\n",
      "    https://scikit-learn.org/stable/modules/preprocessing.html\n",
      "  self.n_iter_ = _check_optimize_result(\"lbfgs\", opt_res)\n"
     ]
    },
    {
     "name": "stdout",
     "output_type": "stream",
     "text": [
      "[CV 8/10; 28/100] END C=10, class_weight={0: 1, 1: 15}, solver=newton-cholesky;, score=0.383 total time=   3.3s\n",
      "[CV 8/10; 31/100] START C=10, class_weight={0: 1, 1: 20}, solver=liblinear......\n"
     ]
    },
    {
     "name": "stderr",
     "output_type": "stream",
     "text": [
      "/opt/mamba/lib/python3.10/site-packages/sklearn/linear_model/_glm/_newton_solver.py:195: ConvergenceWarning: lbfgs failed to converge (status=1):\n",
      "STOP: TOTAL NO. of ITERATIONS REACHED LIMIT.\n",
      "\n",
      "Increase the number of iterations (max_iter) or scale the data as shown in:\n",
      "    https://scikit-learn.org/stable/modules/preprocessing.html\n",
      "  self.n_iter_ = _check_optimize_result(\"lbfgs\", opt_res)\n",
      "/opt/mamba/lib/python3.10/site-packages/sklearn/linear_model/_glm/_newton_solver.py:195: ConvergenceWarning: lbfgs failed to converge (status=1):\n",
      "STOP: TOTAL NO. of ITERATIONS REACHED LIMIT.\n",
      "\n",
      "Increase the number of iterations (max_iter) or scale the data as shown in:\n",
      "    https://scikit-learn.org/stable/modules/preprocessing.html\n",
      "  self.n_iter_ = _check_optimize_result(\"lbfgs\", opt_res)\n"
     ]
    },
    {
     "name": "stdout",
     "output_type": "stream",
     "text": [
      "[CV 3/10; 27/100] END C=10, class_weight={0: 1, 1: 15}, solver=liblinear;, score=0.453 total time=   5.6s\n",
      "[CV 2/10; 30/100] END C=10, class_weight={0: 1, 1: 16}, solver=newton-cholesky;, score=0.425 total time=   2.2s\n",
      "[CV 9/10; 31/100] START C=10, class_weight={0: 1, 1: 20}, solver=liblinear......\n",
      "[CV 10/10; 31/100] START C=10, class_weight={0: 1, 1: 20}, solver=liblinear.....\n",
      "[CV 1/10; 27/100] END C=10, class_weight={0: 1, 1: 15}, solver=liblinear;, score=0.364 total time=   6.4s\n",
      "[CV 1/10; 30/100] END C=10, class_weight={0: 1, 1: 16}, solver=newton-cholesky;, score=0.341 total time=   2.4s\n",
      "[CV 1/10; 32/100] START C=10, class_weight={0: 1, 1: 20}, solver=newton-cholesky\n",
      "[CV 2/10; 32/100] START C=10, class_weight={0: 1, 1: 20}, solver=newton-cholesky\n",
      "[CV 3/10; 30/100] END C=10, class_weight={0: 1, 1: 16}, solver=newton-cholesky;, score=0.429 total time=   2.5s\n"
     ]
    },
    {
     "name": "stderr",
     "output_type": "stream",
     "text": [
      "/opt/mamba/lib/python3.10/site-packages/sklearn/linear_model/_glm/_newton_solver.py:195: ConvergenceWarning: lbfgs failed to converge (status=1):\n",
      "STOP: TOTAL NO. of ITERATIONS REACHED LIMIT.\n",
      "\n",
      "Increase the number of iterations (max_iter) or scale the data as shown in:\n",
      "    https://scikit-learn.org/stable/modules/preprocessing.html\n",
      "  self.n_iter_ = _check_optimize_result(\"lbfgs\", opt_res)\n"
     ]
    },
    {
     "name": "stdout",
     "output_type": "stream",
     "text": [
      "[CV 3/10; 32/100] START C=10, class_weight={0: 1, 1: 20}, solver=newton-cholesky\n"
     ]
    },
    {
     "name": "stderr",
     "output_type": "stream",
     "text": [
      "/opt/mamba/lib/python3.10/site-packages/sklearn/linear_model/_glm/_newton_solver.py:491: LinAlgWarning: The inner solver of NewtonCholeskySolver stumbled upon a singular or very ill-conditioned Hessian matrix at iteration #3. It will now resort to lbfgs instead.\n",
      "Further options are to use another solver or to avoid such situation in the first place. Possible remedies are removing collinear features of X or increasing the penalization strengths.\n",
      "The original Linear Algebra message was:\n",
      "Matrix is singular.\n",
      "  warnings.warn(\n",
      "/opt/mamba/lib/python3.10/site-packages/sklearn/linear_model/_glm/_newton_solver.py:491: LinAlgWarning: The inner solver of NewtonCholeskySolver stumbled upon a singular or very ill-conditioned Hessian matrix at iteration #3. It will now resort to lbfgs instead.\n",
      "Further options are to use another solver or to avoid such situation in the first place. Possible remedies are removing collinear features of X or increasing the penalization strengths.\n",
      "The original Linear Algebra message was:\n",
      "Matrix is singular.\n",
      "  warnings.warn(\n",
      "/opt/mamba/lib/python3.10/site-packages/sklearn/linear_model/_glm/_newton_solver.py:491: LinAlgWarning: The inner solver of NewtonCholeskySolver stumbled upon a singular or very ill-conditioned Hessian matrix at iteration #3. It will now resort to lbfgs instead.\n",
      "Further options are to use another solver or to avoid such situation in the first place. Possible remedies are removing collinear features of X or increasing the penalization strengths.\n",
      "The original Linear Algebra message was:\n",
      "Matrix is singular.\n",
      "  warnings.warn(\n",
      "/opt/mamba/lib/python3.10/site-packages/sklearn/linear_model/_glm/_newton_solver.py:195: ConvergenceWarning: lbfgs failed to converge (status=1):\n",
      "STOP: TOTAL NO. of ITERATIONS REACHED LIMIT.\n",
      "\n",
      "Increase the number of iterations (max_iter) or scale the data as shown in:\n",
      "    https://scikit-learn.org/stable/modules/preprocessing.html\n",
      "  self.n_iter_ = _check_optimize_result(\"lbfgs\", opt_res)\n"
     ]
    },
    {
     "name": "stdout",
     "output_type": "stream",
     "text": [
      "[CV 4/10; 23/100] END C=10, class_weight={0: 1, 1: 10}, solver=liblinear;, score=0.565 total time=  10.9s\n",
      "[CV 4/10; 32/100] START C=10, class_weight={0: 1, 1: 20}, solver=newton-cholesky\n",
      "[CV 7/10; 30/100] END C=10, class_weight={0: 1, 1: 16}, solver=newton-cholesky;, score=0.451 total time=   2.4s\n",
      "[CV 5/10; 32/100] START C=10, class_weight={0: 1, 1: 20}, solver=newton-cholesky\n"
     ]
    },
    {
     "name": "stderr",
     "output_type": "stream",
     "text": [
      "/opt/mamba/lib/python3.10/site-packages/sklearn/linear_model/_glm/_newton_solver.py:195: ConvergenceWarning: lbfgs failed to converge (status=1):\n",
      "STOP: TOTAL NO. of ITERATIONS REACHED LIMIT.\n",
      "\n",
      "Increase the number of iterations (max_iter) or scale the data as shown in:\n",
      "    https://scikit-learn.org/stable/modules/preprocessing.html\n",
      "  self.n_iter_ = _check_optimize_result(\"lbfgs\", opt_res)\n",
      "/opt/mamba/lib/python3.10/site-packages/sklearn/linear_model/_glm/_newton_solver.py:195: ConvergenceWarning: lbfgs failed to converge (status=1):\n",
      "STOP: TOTAL NO. of ITERATIONS REACHED LIMIT.\n",
      "\n",
      "Increase the number of iterations (max_iter) or scale the data as shown in:\n",
      "    https://scikit-learn.org/stable/modules/preprocessing.html\n",
      "  self.n_iter_ = _check_optimize_result(\"lbfgs\", opt_res)\n",
      "/opt/mamba/lib/python3.10/site-packages/sklearn/linear_model/_glm/_newton_solver.py:195: ConvergenceWarning: lbfgs failed to converge (status=1):\n",
      "STOP: TOTAL NO. of ITERATIONS REACHED LIMIT.\n",
      "\n",
      "Increase the number of iterations (max_iter) or scale the data as shown in:\n",
      "    https://scikit-learn.org/stable/modules/preprocessing.html\n",
      "  self.n_iter_ = _check_optimize_result(\"lbfgs\", opt_res)\n",
      "/opt/mamba/lib/python3.10/site-packages/sklearn/linear_model/_glm/_newton_solver.py:491: LinAlgWarning: The inner solver of NewtonCholeskySolver stumbled upon a singular or very ill-conditioned Hessian matrix at iteration #3. It will now resort to lbfgs instead.\n",
      "Further options are to use another solver or to avoid such situation in the first place. Possible remedies are removing collinear features of X or increasing the penalization strengths.\n",
      "The original Linear Algebra message was:\n",
      "Matrix is singular.\n",
      "  warnings.warn(\n"
     ]
    },
    {
     "name": "stdout",
     "output_type": "stream",
     "text": [
      "[CV 10/10; 30/100] END C=10, class_weight={0: 1, 1: 16}, solver=newton-cholesky;, score=0.397 total time=   2.4s\n",
      "[CV 7/10; 23/100] END C=10, class_weight={0: 1, 1: 10}, solver=liblinear;, score=0.543 total time=  11.0s\n",
      "[CV 5/10; 30/100] END C=10, class_weight={0: 1, 1: 16}, solver=newton-cholesky;, score=0.438 total time=   2.8s\n",
      "[CV 6/10; 30/100] END C=10, class_weight={0: 1, 1: 16}, solver=newton-cholesky;, score=0.397 total time=   2.7s\n",
      "[CV 6/10; 32/100] START C=10, class_weight={0: 1, 1: 20}, solver=newton-cholesky\n",
      "[CV 7/10; 32/100] START C=10, class_weight={0: 1, 1: 20}, solver=newton-cholesky\n",
      "[CV 8/10; 32/100] START C=10, class_weight={0: 1, 1: 20}, solver=newton-cholesky\n",
      "[CV 4/10; 32/100] END C=10, class_weight={0: 1, 1: 20}, solver=newton-cholesky;, score=0.336 total time=   0.5s\n",
      "[CV 7/10; 27/100] END C=10, class_weight={0: 1, 1: 15}, solver=liblinear;, score=0.469 total time=   6.6s\n",
      "[CV 9/10; 32/100] START C=10, class_weight={0: 1, 1: 20}, solver=newton-cholesky\n",
      "[CV 10/10; 32/100] START C=10, class_weight={0: 1, 1: 20}, solver=newton-cholesky\n",
      "[CV 1/10; 33/100] START C=10, class_weight={0: 1, 1: 50}, solver=liblinear......\n"
     ]
    },
    {
     "name": "stderr",
     "output_type": "stream",
     "text": [
      "/opt/mamba/lib/python3.10/site-packages/sklearn/linear_model/_glm/_newton_solver.py:491: LinAlgWarning: The inner solver of NewtonCholeskySolver stumbled upon a singular or very ill-conditioned Hessian matrix at iteration #3. It will now resort to lbfgs instead.\n",
      "Further options are to use another solver or to avoid such situation in the first place. Possible remedies are removing collinear features of X or increasing the penalization strengths.\n",
      "The original Linear Algebra message was:\n",
      "Matrix is singular.\n",
      "  warnings.warn(\n",
      "/opt/mamba/lib/python3.10/site-packages/sklearn/linear_model/_glm/_newton_solver.py:491: LinAlgWarning: The inner solver of NewtonCholeskySolver stumbled upon a singular or very ill-conditioned Hessian matrix at iteration #3. It will now resort to lbfgs instead.\n",
      "Further options are to use another solver or to avoid such situation in the first place. Possible remedies are removing collinear features of X or increasing the penalization strengths.\n",
      "The original Linear Algebra message was:\n",
      "Matrix is singular.\n",
      "  warnings.warn(\n",
      "/opt/mamba/lib/python3.10/site-packages/sklearn/linear_model/_glm/_newton_solver.py:491: LinAlgWarning: The inner solver of NewtonCholeskySolver stumbled upon a singular or very ill-conditioned Hessian matrix at iteration #3. It will now resort to lbfgs instead.\n",
      "Further options are to use another solver or to avoid such situation in the first place. Possible remedies are removing collinear features of X or increasing the penalization strengths.\n",
      "The original Linear Algebra message was:\n",
      "Matrix is singular.\n",
      "  warnings.warn(\n",
      "/opt/mamba/lib/python3.10/site-packages/sklearn/linear_model/_glm/_newton_solver.py:195: ConvergenceWarning: lbfgs failed to converge (status=1):\n",
      "STOP: TOTAL NO. of ITERATIONS REACHED LIMIT.\n",
      "\n",
      "Increase the number of iterations (max_iter) or scale the data as shown in:\n",
      "    https://scikit-learn.org/stable/modules/preprocessing.html\n",
      "  self.n_iter_ = _check_optimize_result(\"lbfgs\", opt_res)\n",
      "/opt/mamba/lib/python3.10/site-packages/sklearn/linear_model/_glm/_newton_solver.py:491: LinAlgWarning: The inner solver of NewtonCholeskySolver stumbled upon a singular or very ill-conditioned Hessian matrix at iteration #3. It will now resort to lbfgs instead.\n",
      "Further options are to use another solver or to avoid such situation in the first place. Possible remedies are removing collinear features of X or increasing the penalization strengths.\n",
      "The original Linear Algebra message was:\n",
      "Matrix is singular.\n",
      "  warnings.warn(\n",
      "/opt/mamba/lib/python3.10/site-packages/sklearn/linear_model/_glm/_newton_solver.py:491: LinAlgWarning: The inner solver of NewtonCholeskySolver stumbled upon a singular or very ill-conditioned Hessian matrix at iteration #3. It will now resort to lbfgs instead.\n",
      "Further options are to use another solver or to avoid such situation in the first place. Possible remedies are removing collinear features of X or increasing the penalization strengths.\n",
      "The original Linear Algebra message was:\n",
      "Matrix is singular.\n",
      "  warnings.warn(\n",
      "/opt/mamba/lib/python3.10/site-packages/sklearn/linear_model/_glm/_newton_solver.py:195: ConvergenceWarning: lbfgs failed to converge (status=1):\n",
      "STOP: TOTAL NO. of ITERATIONS REACHED LIMIT.\n",
      "\n",
      "Increase the number of iterations (max_iter) or scale the data as shown in:\n",
      "    https://scikit-learn.org/stable/modules/preprocessing.html\n",
      "  self.n_iter_ = _check_optimize_result(\"lbfgs\", opt_res)\n"
     ]
    },
    {
     "name": "stdout",
     "output_type": "stream",
     "text": [
      "[CV 4/10; 25/100] END C=10, class_weight={0: 1, 1: 14}, solver=liblinear;, score=0.497 total time=  10.1s\n",
      "[CV 9/10; 30/100] END C=10, class_weight={0: 1, 1: 16}, solver=newton-cholesky;, score=0.387 total time=   3.0s\n",
      "[CV 2/10; 33/100] START C=10, class_weight={0: 1, 1: 50}, solver=liblinear......\n",
      "[CV 3/10; 33/100] START C=10, class_weight={0: 1, 1: 50}, solver=liblinear......\n",
      "[CV 8/10; 30/100] END C=10, class_weight={0: 1, 1: 16}, solver=newton-cholesky;, score=0.368 total time=   3.3s\n",
      "[CV 4/10; 33/100] START C=10, class_weight={0: 1, 1: 50}, solver=liblinear......\n",
      "[CV 1/10; 29/100] END C=10, class_weight={0: 1, 1: 16}, solver=liblinear;, score=0.339 total time=   5.3s\n",
      "[CV 5/10; 33/100] START C=10, class_weight={0: 1, 1: 50}, solver=liblinear......\n",
      "[CV 2/10; 27/100] END C=10, class_weight={0: 1, 1: 15}, solver=liblinear;, score=0.451 total time=   7.9s\n",
      "[CV 9/10; 27/100] END C=10, class_weight={0: 1, 1: 15}, solver=liblinear;, score=0.412 total time=   7.4s\n",
      "[CV 6/10; 33/100] START C=10, class_weight={0: 1, 1: 50}, solver=liblinear......\n",
      "[CV 8/10; 29/100] END C=10, class_weight={0: 1, 1: 16}, solver=liblinear;, score=0.360 total time=   4.8s\n",
      "[CV 7/10; 33/100] START C=10, class_weight={0: 1, 1: 50}, solver=liblinear......\n",
      "[CV 8/10; 33/100] START C=10, class_weight={0: 1, 1: 50}, solver=liblinear......\n",
      "[CV 6/10; 29/100] END C=10, class_weight={0: 1, 1: 16}, solver=liblinear;, score=0.402 total time=   5.3s\n",
      "[CV 4/10; 27/100] END C=10, class_weight={0: 1, 1: 15}, solver=liblinear;, score=0.476 total time=   7.9s\n",
      "[CV 3/10; 29/100] END C=10, class_weight={0: 1, 1: 16}, solver=liblinear;, score=0.425 total time=   5.6s\n",
      "[CV 9/10; 33/100] START C=10, class_weight={0: 1, 1: 50}, solver=liblinear......\n",
      "[CV 2/10; 29/100] END C=10, class_weight={0: 1, 1: 16}, solver=liblinear;, score=0.425 total time=   5.8s\n",
      "[CV 10/10; 33/100] START C=10, class_weight={0: 1, 1: 50}, solver=liblinear.....\n",
      "[CV 1/10; 34/100] START C=10, class_weight={0: 1, 1: 50}, solver=newton-cholesky\n"
     ]
    },
    {
     "name": "stderr",
     "output_type": "stream",
     "text": [
      "/opt/mamba/lib/python3.10/site-packages/sklearn/linear_model/_glm/_newton_solver.py:195: ConvergenceWarning: lbfgs failed to converge (status=1):\n",
      "STOP: TOTAL NO. of ITERATIONS REACHED LIMIT.\n",
      "\n",
      "Increase the number of iterations (max_iter) or scale the data as shown in:\n",
      "    https://scikit-learn.org/stable/modules/preprocessing.html\n",
      "  self.n_iter_ = _check_optimize_result(\"lbfgs\", opt_res)\n",
      "/opt/mamba/lib/python3.10/site-packages/sklearn/linear_model/_glm/_newton_solver.py:491: LinAlgWarning: The inner solver of NewtonCholeskySolver stumbled upon a singular or very ill-conditioned Hessian matrix at iteration #3. It will now resort to lbfgs instead.\n",
      "Further options are to use another solver or to avoid such situation in the first place. Possible remedies are removing collinear features of X or increasing the penalization strengths.\n",
      "The original Linear Algebra message was:\n",
      "Matrix is singular.\n",
      "  warnings.warn(\n"
     ]
    },
    {
     "name": "stdout",
     "output_type": "stream",
     "text": [
      "[CV 2/10; 34/100] START C=10, class_weight={0: 1, 1: 50}, solver=newton-cholesky\n",
      "[CV 2/10; 32/100] END C=10, class_weight={0: 1, 1: 20}, solver=newton-cholesky;, score=0.327 total time=   2.3s\n",
      "[CV 3/10; 34/100] START C=10, class_weight={0: 1, 1: 50}, solver=newton-cholesky\n",
      "[CV 5/10; 27/100] END C=10, class_weight={0: 1, 1: 15}, solver=liblinear;, score=0.452 total time=   8.2s\n",
      "[CV 4/10; 34/100] START C=10, class_weight={0: 1, 1: 50}, solver=newton-cholesky\n"
     ]
    },
    {
     "name": "stderr",
     "output_type": "stream",
     "text": [
      "/opt/mamba/lib/python3.10/site-packages/sklearn/linear_model/_glm/_newton_solver.py:491: LinAlgWarning: The inner solver of NewtonCholeskySolver stumbled upon a singular or very ill-conditioned Hessian matrix at iteration #3. It will now resort to lbfgs instead.\n",
      "Further options are to use another solver or to avoid such situation in the first place. Possible remedies are removing collinear features of X or increasing the penalization strengths.\n",
      "The original Linear Algebra message was:\n",
      "Matrix is singular.\n",
      "  warnings.warn(\n",
      "/opt/mamba/lib/python3.10/site-packages/sklearn/linear_model/_glm/_newton_solver.py:491: LinAlgWarning: The inner solver of NewtonCholeskySolver stumbled upon a singular or very ill-conditioned Hessian matrix at iteration #3. It will now resort to lbfgs instead.\n",
      "Further options are to use another solver or to avoid such situation in the first place. Possible remedies are removing collinear features of X or increasing the penalization strengths.\n",
      "The original Linear Algebra message was:\n",
      "Matrix is singular.\n",
      "  warnings.warn(\n"
     ]
    },
    {
     "name": "stdout",
     "output_type": "stream",
     "text": [
      "[CV 10/10; 29/100] END C=10, class_weight={0: 1, 1: 16}, solver=liblinear;, score=0.391 total time=   5.4s\n",
      "[CV 5/10; 29/100] END C=10, class_weight={0: 1, 1: 16}, solver=liblinear;, score=0.428 total time=   6.2s\n",
      "[CV 5/10; 34/100] START C=10, class_weight={0: 1, 1: 50}, solver=newton-cholesky\n",
      "[CV 7/10; 29/100] END C=10, class_weight={0: 1, 1: 16}, solver=liblinear;, score=0.446 total time=   6.0s\n",
      "[CV 6/10; 34/100] START C=10, class_weight={0: 1, 1: 50}, solver=newton-cholesky\n",
      "[CV 5/10; 25/100] END C=10, class_weight={0: 1, 1: 14}, solver=liblinear;, score=0.471 total time=  11.5s\n",
      "[CV 1/10; 32/100] END C=10, class_weight={0: 1, 1: 20}, solver=newton-cholesky;, score=0.255 total time=   3.0s\n",
      "[CV 7/10; 34/100] START C=10, class_weight={0: 1, 1: 50}, solver=newton-cholesky\n"
     ]
    },
    {
     "name": "stderr",
     "output_type": "stream",
     "text": [
      "/opt/mamba/lib/python3.10/site-packages/sklearn/linear_model/_glm/_newton_solver.py:195: ConvergenceWarning: lbfgs failed to converge (status=1):\n",
      "STOP: TOTAL NO. of ITERATIONS REACHED LIMIT.\n",
      "\n",
      "Increase the number of iterations (max_iter) or scale the data as shown in:\n",
      "    https://scikit-learn.org/stable/modules/preprocessing.html\n",
      "  self.n_iter_ = _check_optimize_result(\"lbfgs\", opt_res)\n"
     ]
    },
    {
     "name": "stdout",
     "output_type": "stream",
     "text": [
      "[CV 8/10; 34/100] START C=10, class_weight={0: 1, 1: 50}, solver=newton-cholesky\n",
      "[CV 9/10; 34/100] START C=10, class_weight={0: 1, 1: 50}, solver=newton-cholesky\n"
     ]
    },
    {
     "name": "stderr",
     "output_type": "stream",
     "text": [
      "/opt/mamba/lib/python3.10/site-packages/sklearn/linear_model/_glm/_newton_solver.py:195: ConvergenceWarning: lbfgs failed to converge (status=1):\n",
      "STOP: TOTAL NO. of ITERATIONS REACHED LIMIT.\n",
      "\n",
      "Increase the number of iterations (max_iter) or scale the data as shown in:\n",
      "    https://scikit-learn.org/stable/modules/preprocessing.html\n",
      "  self.n_iter_ = _check_optimize_result(\"lbfgs\", opt_res)\n",
      "/opt/mamba/lib/python3.10/site-packages/sklearn/linear_model/_glm/_newton_solver.py:491: LinAlgWarning: The inner solver of NewtonCholeskySolver stumbled upon a singular or very ill-conditioned Hessian matrix at iteration #3. It will now resort to lbfgs instead.\n",
      "Further options are to use another solver or to avoid such situation in the first place. Possible remedies are removing collinear features of X or increasing the penalization strengths.\n",
      "The original Linear Algebra message was:\n",
      "Matrix is singular.\n",
      "  warnings.warn(\n",
      "/opt/mamba/lib/python3.10/site-packages/sklearn/linear_model/_glm/_newton_solver.py:195: ConvergenceWarning: lbfgs failed to converge (status=1):\n",
      "STOP: TOTAL NO. of ITERATIONS REACHED LIMIT.\n",
      "\n",
      "Increase the number of iterations (max_iter) or scale the data as shown in:\n",
      "    https://scikit-learn.org/stable/modules/preprocessing.html\n",
      "  self.n_iter_ = _check_optimize_result(\"lbfgs\", opt_res)\n",
      "/opt/mamba/lib/python3.10/site-packages/sklearn/linear_model/_glm/_newton_solver.py:195: ConvergenceWarning: lbfgs failed to converge (status=1):\n",
      "STOP: TOTAL NO. of ITERATIONS REACHED LIMIT.\n",
      "\n",
      "Increase the number of iterations (max_iter) or scale the data as shown in:\n",
      "    https://scikit-learn.org/stable/modules/preprocessing.html\n",
      "  self.n_iter_ = _check_optimize_result(\"lbfgs\", opt_res)\n",
      "/opt/mamba/lib/python3.10/site-packages/sklearn/linear_model/_glm/_newton_solver.py:491: LinAlgWarning: The inner solver of NewtonCholeskySolver stumbled upon a singular or very ill-conditioned Hessian matrix at iteration #3. It will now resort to lbfgs instead.\n",
      "Further options are to use another solver or to avoid such situation in the first place. Possible remedies are removing collinear features of X or increasing the penalization strengths.\n",
      "The original Linear Algebra message was:\n",
      "Matrix is singular.\n",
      "  warnings.warn(\n",
      "/opt/mamba/lib/python3.10/site-packages/sklearn/linear_model/_glm/_newton_solver.py:491: LinAlgWarning: The inner solver of NewtonCholeskySolver stumbled upon a singular or very ill-conditioned Hessian matrix at iteration #3. It will now resort to lbfgs instead.\n",
      "Further options are to use another solver or to avoid such situation in the first place. Possible remedies are removing collinear features of X or increasing the penalization strengths.\n",
      "The original Linear Algebra message was:\n",
      "Matrix is singular.\n",
      "  warnings.warn(\n",
      "/opt/mamba/lib/python3.10/site-packages/sklearn/linear_model/_glm/_newton_solver.py:491: LinAlgWarning: The inner solver of NewtonCholeskySolver stumbled upon a singular or very ill-conditioned Hessian matrix at iteration #3. It will now resort to lbfgs instead.\n",
      "Further options are to use another solver or to avoid such situation in the first place. Possible remedies are removing collinear features of X or increasing the penalization strengths.\n",
      "The original Linear Algebra message was:\n",
      "Matrix is singular.\n",
      "  warnings.warn(\n"
     ]
    },
    {
     "name": "stdout",
     "output_type": "stream",
     "text": [
      "[CV 4/10; 29/100] END C=10, class_weight={0: 1, 1: 16}, solver=liblinear;, score=0.453 total time=   6.7s\n",
      "[CV 3/10; 32/100] END C=10, class_weight={0: 1, 1: 20}, solver=newton-cholesky;, score=0.340 total time=   3.1s\n",
      "[CV 9/10; 29/100] END C=10, class_weight={0: 1, 1: 16}, solver=liblinear;, score=0.388 total time=   6.0s\n",
      "[CV 4/10; 34/100] END C=10, class_weight={0: 1, 1: 50}, solver=newton-cholesky;, score=-0.228 total time=   0.8s\n",
      "[CV 10/10; 34/100] START C=10, class_weight={0: 1, 1: 50}, solver=newton-cholesky\n",
      "[CV 6/10; 32/100] END C=10, class_weight={0: 1, 1: 20}, solver=newton-cholesky;, score=0.320 total time=   2.4s\n",
      "[CV 5/10; 32/100] END C=10, class_weight={0: 1, 1: 20}, solver=newton-cholesky;, score=0.339 total time=   2.6s\n",
      "[CV 1/10; 35/100] START C=10, class_weight={0: 1, 1: 100}, solver=liblinear.....\n",
      "[CV 2/10; 35/100] START C=10, class_weight={0: 1, 1: 100}, solver=liblinear.....\n"
     ]
    },
    {
     "name": "stderr",
     "output_type": "stream",
     "text": [
      "/opt/mamba/lib/python3.10/site-packages/sklearn/linear_model/_glm/_newton_solver.py:491: LinAlgWarning: The inner solver of NewtonCholeskySolver stumbled upon a singular or very ill-conditioned Hessian matrix at iteration #3. It will now resort to lbfgs instead.\n",
      "Further options are to use another solver or to avoid such situation in the first place. Possible remedies are removing collinear features of X or increasing the penalization strengths.\n",
      "The original Linear Algebra message was:\n",
      "Matrix is singular.\n",
      "  warnings.warn(\n",
      "/opt/mamba/lib/python3.10/site-packages/sklearn/linear_model/_glm/_newton_solver.py:491: LinAlgWarning: The inner solver of NewtonCholeskySolver stumbled upon a singular or very ill-conditioned Hessian matrix at iteration #3. It will now resort to lbfgs instead.\n",
      "Further options are to use another solver or to avoid such situation in the first place. Possible remedies are removing collinear features of X or increasing the penalization strengths.\n",
      "The original Linear Algebra message was:\n",
      "Matrix is singular.\n",
      "  warnings.warn(\n",
      "/opt/mamba/lib/python3.10/site-packages/sklearn/linear_model/_glm/_newton_solver.py:195: ConvergenceWarning: lbfgs failed to converge (status=1):\n",
      "STOP: TOTAL NO. of ITERATIONS REACHED LIMIT.\n",
      "\n",
      "Increase the number of iterations (max_iter) or scale the data as shown in:\n",
      "    https://scikit-learn.org/stable/modules/preprocessing.html\n",
      "  self.n_iter_ = _check_optimize_result(\"lbfgs\", opt_res)\n",
      "/opt/mamba/lib/python3.10/site-packages/sklearn/linear_model/_glm/_newton_solver.py:195: ConvergenceWarning: lbfgs failed to converge (status=1):\n",
      "STOP: TOTAL NO. of ITERATIONS REACHED LIMIT.\n",
      "\n",
      "Increase the number of iterations (max_iter) or scale the data as shown in:\n",
      "    https://scikit-learn.org/stable/modules/preprocessing.html\n",
      "  self.n_iter_ = _check_optimize_result(\"lbfgs\", opt_res)\n"
     ]
    },
    {
     "name": "stdout",
     "output_type": "stream",
     "text": [
      "[CV 3/10; 35/100] START C=10, class_weight={0: 1, 1: 100}, solver=liblinear.....\n",
      "[CV 4/10; 35/100] START C=10, class_weight={0: 1, 1: 100}, solver=liblinear.....\n",
      "[CV 5/10; 35/100] START C=10, class_weight={0: 1, 1: 100}, solver=liblinear.....\n",
      "[CV 9/10; 32/100] END C=10, class_weight={0: 1, 1: 20}, solver=newton-cholesky;, score=0.292 total time=   2.6s\n",
      "[CV 10/10; 32/100] END C=10, class_weight={0: 1, 1: 20}, solver=newton-cholesky;, score=0.294 total time=   2.6s\n",
      "[CV 6/10; 27/100] END C=10, class_weight={0: 1, 1: 15}, solver=liblinear;, score=0.424 total time=   9.5s\n",
      "[CV 6/10; 35/100] START C=10, class_weight={0: 1, 1: 100}, solver=liblinear.....\n",
      "[CV 7/10; 35/100] START C=10, class_weight={0: 1, 1: 100}, solver=liblinear.....\n",
      "[CV 8/10; 35/100] START C=10, class_weight={0: 1, 1: 100}, solver=liblinear.....\n"
     ]
    },
    {
     "name": "stderr",
     "output_type": "stream",
     "text": [
      "/opt/mamba/lib/python3.10/site-packages/sklearn/linear_model/_glm/_newton_solver.py:195: ConvergenceWarning: lbfgs failed to converge (status=1):\n",
      "STOP: TOTAL NO. of ITERATIONS REACHED LIMIT.\n",
      "\n",
      "Increase the number of iterations (max_iter) or scale the data as shown in:\n",
      "    https://scikit-learn.org/stable/modules/preprocessing.html\n",
      "  self.n_iter_ = _check_optimize_result(\"lbfgs\", opt_res)\n",
      "/opt/mamba/lib/python3.10/site-packages/sklearn/linear_model/_glm/_newton_solver.py:195: ConvergenceWarning: lbfgs failed to converge (status=1):\n",
      "STOP: TOTAL NO. of ITERATIONS REACHED LIMIT.\n",
      "\n",
      "Increase the number of iterations (max_iter) or scale the data as shown in:\n",
      "    https://scikit-learn.org/stable/modules/preprocessing.html\n",
      "  self.n_iter_ = _check_optimize_result(\"lbfgs\", opt_res)\n"
     ]
    },
    {
     "name": "stdout",
     "output_type": "stream",
     "text": [
      "[CV 8/10; 27/100] END C=10, class_weight={0: 1, 1: 15}, solver=liblinear;, score=0.386 total time=   9.7s\n",
      "[CV 8/10; 32/100] END C=10, class_weight={0: 1, 1: 20}, solver=newton-cholesky;, score=0.274 total time=   3.2s\n",
      "[CV 9/10; 35/100] START C=10, class_weight={0: 1, 1: 100}, solver=liblinear.....\n",
      "[CV 7/10; 32/100] END C=10, class_weight={0: 1, 1: 20}, solver=newton-cholesky;, score=0.343 total time=   3.3s\n",
      "[CV 10/10; 35/100] START C=10, class_weight={0: 1, 1: 100}, solver=liblinear....\n",
      "[CV 1/10; 36/100] START C=10, class_weight={0: 1, 1: 100}, solver=newton-cholesky\n",
      "[CV 2/10; 33/100] END C=10, class_weight={0: 1, 1: 50}, solver=liblinear;, score=-0.219 total time=   3.1s\n",
      "[CV 2/10; 36/100] START C=10, class_weight={0: 1, 1: 100}, solver=newton-cholesky\n"
     ]
    },
    {
     "name": "stderr",
     "output_type": "stream",
     "text": [
      "/opt/mamba/lib/python3.10/site-packages/sklearn/linear_model/_glm/_newton_solver.py:491: LinAlgWarning: The inner solver of NewtonCholeskySolver stumbled upon a singular or very ill-conditioned Hessian matrix at iteration #3. It will now resort to lbfgs instead.\n",
      "Further options are to use another solver or to avoid such situation in the first place. Possible remedies are removing collinear features of X or increasing the penalization strengths.\n",
      "The original Linear Algebra message was:\n",
      "Matrix is singular.\n",
      "  warnings.warn(\n",
      "/opt/mamba/lib/python3.10/site-packages/sklearn/linear_model/_glm/_newton_solver.py:195: ConvergenceWarning: lbfgs failed to converge (status=1):\n",
      "STOP: TOTAL NO. of ITERATIONS REACHED LIMIT.\n",
      "\n",
      "Increase the number of iterations (max_iter) or scale the data as shown in:\n",
      "    https://scikit-learn.org/stable/modules/preprocessing.html\n",
      "  self.n_iter_ = _check_optimize_result(\"lbfgs\", opt_res)\n",
      "/opt/mamba/lib/python3.10/site-packages/sklearn/linear_model/_glm/_newton_solver.py:491: LinAlgWarning: The inner solver of NewtonCholeskySolver stumbled upon a singular or very ill-conditioned Hessian matrix at iteration #3. It will now resort to lbfgs instead.\n",
      "Further options are to use another solver or to avoid such situation in the first place. Possible remedies are removing collinear features of X or increasing the penalization strengths.\n",
      "The original Linear Algebra message was:\n",
      "Matrix is singular.\n",
      "  warnings.warn(\n"
     ]
    },
    {
     "name": "stdout",
     "output_type": "stream",
     "text": [
      "[CV 1/10; 34/100] END C=10, class_weight={0: 1, 1: 50}, solver=newton-cholesky;, score=-0.403 total time=   2.6s\n",
      "[CV 7/10; 31/100] END C=10, class_weight={0: 1, 1: 20}, solver=liblinear;, score=0.342 total time=   5.8s\n",
      "[CV 3/10; 36/100] START C=10, class_weight={0: 1, 1: 100}, solver=newton-cholesky\n",
      "[CV 4/10; 36/100] START C=10, class_weight={0: 1, 1: 100}, solver=newton-cholesky\n"
     ]
    },
    {
     "name": "stderr",
     "output_type": "stream",
     "text": [
      "/opt/mamba/lib/python3.10/site-packages/sklearn/linear_model/_glm/_newton_solver.py:491: LinAlgWarning: The inner solver of NewtonCholeskySolver stumbled upon a singular or very ill-conditioned Hessian matrix at iteration #3. It will now resort to lbfgs instead.\n",
      "Further options are to use another solver or to avoid such situation in the first place. Possible remedies are removing collinear features of X or increasing the penalization strengths.\n",
      "The original Linear Algebra message was:\n",
      "Matrix is singular.\n",
      "  warnings.warn(\n",
      "/opt/mamba/lib/python3.10/site-packages/sklearn/linear_model/_glm/_newton_solver.py:195: ConvergenceWarning: lbfgs failed to converge (status=1):\n",
      "STOP: TOTAL NO. of ITERATIONS REACHED LIMIT.\n",
      "\n",
      "Increase the number of iterations (max_iter) or scale the data as shown in:\n",
      "    https://scikit-learn.org/stable/modules/preprocessing.html\n",
      "  self.n_iter_ = _check_optimize_result(\"lbfgs\", opt_res)\n"
     ]
    },
    {
     "name": "stdout",
     "output_type": "stream",
     "text": [
      "[CV 3/10; 34/100] END C=10, class_weight={0: 1, 1: 50}, solver=newton-cholesky;, score=-0.232 total time=   2.8s\n",
      "[CV 5/10; 36/100] START C=10, class_weight={0: 1, 1: 100}, solver=newton-cholesky\n",
      "[CV 8/10; 31/100] END C=10, class_weight={0: 1, 1: 20}, solver=liblinear;, score=0.277 total time=   6.0s\n",
      "[CV 6/10; 36/100] START C=10, class_weight={0: 1, 1: 100}, solver=newton-cholesky\n"
     ]
    },
    {
     "name": "stderr",
     "output_type": "stream",
     "text": [
      "/opt/mamba/lib/python3.10/site-packages/sklearn/linear_model/_glm/_newton_solver.py:195: ConvergenceWarning: lbfgs failed to converge (status=1):\n",
      "STOP: TOTAL NO. of ITERATIONS REACHED LIMIT.\n",
      "\n",
      "Increase the number of iterations (max_iter) or scale the data as shown in:\n",
      "    https://scikit-learn.org/stable/modules/preprocessing.html\n",
      "  self.n_iter_ = _check_optimize_result(\"lbfgs\", opt_res)\n",
      "/opt/mamba/lib/python3.10/site-packages/sklearn/linear_model/_glm/_newton_solver.py:195: ConvergenceWarning: lbfgs failed to converge (status=1):\n",
      "STOP: TOTAL NO. of ITERATIONS REACHED LIMIT.\n",
      "\n",
      "Increase the number of iterations (max_iter) or scale the data as shown in:\n",
      "    https://scikit-learn.org/stable/modules/preprocessing.html\n",
      "  self.n_iter_ = _check_optimize_result(\"lbfgs\", opt_res)\n",
      "/opt/mamba/lib/python3.10/site-packages/sklearn/linear_model/_glm/_newton_solver.py:491: LinAlgWarning: The inner solver of NewtonCholeskySolver stumbled upon a singular or very ill-conditioned Hessian matrix at iteration #3. It will now resort to lbfgs instead.\n",
      "Further options are to use another solver or to avoid such situation in the first place. Possible remedies are removing collinear features of X or increasing the penalization strengths.\n",
      "The original Linear Algebra message was:\n",
      "Matrix is singular.\n",
      "  warnings.warn(\n"
     ]
    },
    {
     "name": "stdout",
     "output_type": "stream",
     "text": [
      "[CV 4/10; 36/100] END C=10, class_weight={0: 1, 1: 100}, solver=newton-cholesky;, score=-0.591 total time=   0.5s\n",
      "[CV 7/10; 36/100] START C=10, class_weight={0: 1, 1: 100}, solver=newton-cholesky\n",
      "[CV 5/10; 34/100] END C=10, class_weight={0: 1, 1: 50}, solver=newton-cholesky;, score=-0.316 total time=   2.7s\n",
      "[CV 5/10; 31/100] END C=10, class_weight={0: 1, 1: 20}, solver=liblinear;, score=0.340 total time=   6.7s\n",
      "[CV 2/10; 34/100] END C=10, class_weight={0: 1, 1: 50}, solver=newton-cholesky;, score=-0.226 total time=   3.3s\n",
      "[CV 8/10; 36/100] START C=10, class_weight={0: 1, 1: 100}, solver=newton-cholesky\n",
      "[CV 3/10; 31/100] END C=10, class_weight={0: 1, 1: 20}, solver=liblinear;, score=0.333 total time=   7.0s\n",
      "[CV 9/10; 36/100] START C=10, class_weight={0: 1, 1: 100}, solver=newton-cholesky\n"
     ]
    },
    {
     "name": "stderr",
     "output_type": "stream",
     "text": [
      "/opt/mamba/lib/python3.10/site-packages/sklearn/linear_model/_glm/_newton_solver.py:195: ConvergenceWarning: lbfgs failed to converge (status=1):\n",
      "STOP: TOTAL NO. of ITERATIONS REACHED LIMIT.\n",
      "\n",
      "Increase the number of iterations (max_iter) or scale the data as shown in:\n",
      "    https://scikit-learn.org/stable/modules/preprocessing.html\n",
      "  self.n_iter_ = _check_optimize_result(\"lbfgs\", opt_res)\n",
      "/opt/mamba/lib/python3.10/site-packages/sklearn/linear_model/_glm/_newton_solver.py:491: LinAlgWarning: The inner solver of NewtonCholeskySolver stumbled upon a singular or very ill-conditioned Hessian matrix at iteration #3. It will now resort to lbfgs instead.\n",
      "Further options are to use another solver or to avoid such situation in the first place. Possible remedies are removing collinear features of X or increasing the penalization strengths.\n",
      "The original Linear Algebra message was:\n",
      "Matrix is singular.\n",
      "  warnings.warn(\n",
      "/opt/mamba/lib/python3.10/site-packages/sklearn/linear_model/_glm/_newton_solver.py:491: LinAlgWarning: The inner solver of NewtonCholeskySolver stumbled upon a singular or very ill-conditioned Hessian matrix at iteration #3. It will now resort to lbfgs instead.\n",
      "Further options are to use another solver or to avoid such situation in the first place. Possible remedies are removing collinear features of X or increasing the penalization strengths.\n",
      "The original Linear Algebra message was:\n",
      "Matrix is singular.\n",
      "  warnings.warn(\n",
      "/opt/mamba/lib/python3.10/site-packages/sklearn/linear_model/_glm/_newton_solver.py:491: LinAlgWarning: The inner solver of NewtonCholeskySolver stumbled upon a singular or very ill-conditioned Hessian matrix at iteration #3. It will now resort to lbfgs instead.\n",
      "Further options are to use another solver or to avoid such situation in the first place. Possible remedies are removing collinear features of X or increasing the penalization strengths.\n",
      "The original Linear Algebra message was:\n",
      "Matrix is singular.\n",
      "  warnings.warn(\n"
     ]
    },
    {
     "name": "stdout",
     "output_type": "stream",
     "text": [
      "[CV 2/10; 31/100] END C=10, class_weight={0: 1, 1: 20}, solver=liblinear;, score=0.328 total time=   7.1s\n",
      "[CV 10/10; 36/100] START C=10, class_weight={0: 1, 1: 100}, solver=newton-cholesky\n",
      "[CV 8/10; 34/100] END C=10, class_weight={0: 1, 1: 50}, solver=newton-cholesky;, score=-0.352 total time=   2.7s\n",
      "[CV 1/10; 37/100] START C=10, class_weight={0: 1, 1: 150}, solver=liblinear.....\n",
      "[CV 6/10; 31/100] END C=10, class_weight={0: 1, 1: 20}, solver=liblinear;, score=0.320 total time=   6.8s\n",
      "[CV 2/10; 37/100] START C=10, class_weight={0: 1, 1: 150}, solver=liblinear.....\n",
      "[CV 3/10; 37/100] START C=10, class_weight={0: 1, 1: 150}, solver=liblinear.....\n"
     ]
    },
    {
     "name": "stderr",
     "output_type": "stream",
     "text": [
      "/opt/mamba/lib/python3.10/site-packages/sklearn/linear_model/_glm/_newton_solver.py:195: ConvergenceWarning: lbfgs failed to converge (status=1):\n",
      "STOP: TOTAL NO. of ITERATIONS REACHED LIMIT.\n",
      "\n",
      "Increase the number of iterations (max_iter) or scale the data as shown in:\n",
      "    https://scikit-learn.org/stable/modules/preprocessing.html\n",
      "  self.n_iter_ = _check_optimize_result(\"lbfgs\", opt_res)\n",
      "/opt/mamba/lib/python3.10/site-packages/sklearn/linear_model/_glm/_newton_solver.py:491: LinAlgWarning: The inner solver of NewtonCholeskySolver stumbled upon a singular or very ill-conditioned Hessian matrix at iteration #3. It will now resort to lbfgs instead.\n",
      "Further options are to use another solver or to avoid such situation in the first place. Possible remedies are removing collinear features of X or increasing the penalization strengths.\n",
      "The original Linear Algebra message was:\n",
      "Matrix is singular.\n",
      "  warnings.warn(\n",
      "/opt/mamba/lib/python3.10/site-packages/sklearn/linear_model/_glm/_newton_solver.py:195: ConvergenceWarning: lbfgs failed to converge (status=1):\n",
      "STOP: TOTAL NO. of ITERATIONS REACHED LIMIT.\n",
      "\n",
      "Increase the number of iterations (max_iter) or scale the data as shown in:\n",
      "    https://scikit-learn.org/stable/modules/preprocessing.html\n",
      "  self.n_iter_ = _check_optimize_result(\"lbfgs\", opt_res)\n",
      "/opt/mamba/lib/python3.10/site-packages/sklearn/linear_model/_glm/_newton_solver.py:491: LinAlgWarning: The inner solver of NewtonCholeskySolver stumbled upon a singular or very ill-conditioned Hessian matrix at iteration #3. It will now resort to lbfgs instead.\n",
      "Further options are to use another solver or to avoid such situation in the first place. Possible remedies are removing collinear features of X or increasing the penalization strengths.\n",
      "The original Linear Algebra message was:\n",
      "Matrix is singular.\n",
      "  warnings.warn(\n"
     ]
    },
    {
     "name": "stdout",
     "output_type": "stream",
     "text": [
      "[CV 4/10; 37/100] START C=10, class_weight={0: 1, 1: 150}, solver=liblinear.....\n",
      "[CV 7/10; 34/100] END C=10, class_weight={0: 1, 1: 50}, solver=newton-cholesky;, score=-0.281 total time=   3.1s\n",
      "[CV 5/10; 37/100] START C=10, class_weight={0: 1, 1: 150}, solver=liblinear.....\n",
      "[CV 10/10; 34/100] END C=10, class_weight={0: 1, 1: 50}, solver=newton-cholesky;, score=-0.304 total time=   2.9s\n",
      "[CV 6/10; 37/100] START C=10, class_weight={0: 1, 1: 150}, solver=liblinear.....\n",
      "[CV 4/10; 31/100] END C=10, class_weight={0: 1, 1: 20}, solver=liblinear;, score=0.336 total time=   7.5s\n",
      "[CV 7/10; 37/100] START C=10, class_weight={0: 1, 1: 150}, solver=liblinear.....\n",
      "[CV 6/10; 34/100] END C=10, class_weight={0: 1, 1: 50}, solver=newton-cholesky;, score=-0.241 total time=   3.5s\n"
     ]
    },
    {
     "name": "stderr",
     "output_type": "stream",
     "text": [
      "/opt/mamba/lib/python3.10/site-packages/sklearn/linear_model/_glm/_newton_solver.py:195: ConvergenceWarning: lbfgs failed to converge (status=1):\n",
      "STOP: TOTAL NO. of ITERATIONS REACHED LIMIT.\n",
      "\n",
      "Increase the number of iterations (max_iter) or scale the data as shown in:\n",
      "    https://scikit-learn.org/stable/modules/preprocessing.html\n",
      "  self.n_iter_ = _check_optimize_result(\"lbfgs\", opt_res)\n",
      "/opt/mamba/lib/python3.10/site-packages/sklearn/linear_model/_glm/_newton_solver.py:195: ConvergenceWarning: lbfgs failed to converge (status=1):\n",
      "STOP: TOTAL NO. of ITERATIONS REACHED LIMIT.\n",
      "\n",
      "Increase the number of iterations (max_iter) or scale the data as shown in:\n",
      "    https://scikit-learn.org/stable/modules/preprocessing.html\n",
      "  self.n_iter_ = _check_optimize_result(\"lbfgs\", opt_res)\n"
     ]
    },
    {
     "name": "stdout",
     "output_type": "stream",
     "text": [
      "[CV 8/10; 37/100] START C=10, class_weight={0: 1, 1: 150}, solver=liblinear.....\n",
      "[CV 9/10; 34/100] END C=10, class_weight={0: 1, 1: 50}, solver=newton-cholesky;, score=-0.331 total time=   3.4s\n",
      "[CV 9/10; 37/100] START C=10, class_weight={0: 1, 1: 150}, solver=liblinear.....\n",
      "[CV 1/10; 31/100] END C=10, class_weight={0: 1, 1: 20}, solver=liblinear;, score=0.249 total time=   8.2s\n",
      "[CV 10/10; 37/100] START C=10, class_weight={0: 1, 1: 150}, solver=liblinear....\n"
     ]
    },
    {
     "name": "stderr",
     "output_type": "stream",
     "text": [
      "/opt/mamba/lib/python3.10/site-packages/sklearn/linear_model/_glm/_newton_solver.py:195: ConvergenceWarning: lbfgs failed to converge (status=1):\n",
      "STOP: TOTAL NO. of ITERATIONS REACHED LIMIT.\n",
      "\n",
      "Increase the number of iterations (max_iter) or scale the data as shown in:\n",
      "    https://scikit-learn.org/stable/modules/preprocessing.html\n",
      "  self.n_iter_ = _check_optimize_result(\"lbfgs\", opt_res)\n"
     ]
    },
    {
     "name": "stdout",
     "output_type": "stream",
     "text": [
      "[CV 1/10; 36/100] END C=10, class_weight={0: 1, 1: 100}, solver=newton-cholesky;, score=-0.823 total time=   2.6s\n",
      "[CV 1/10; 38/100] START C=10, class_weight={0: 1, 1: 150}, solver=newton-cholesky\n"
     ]
    },
    {
     "name": "stderr",
     "output_type": "stream",
     "text": [
      "/opt/mamba/lib/python3.10/site-packages/sklearn/linear_model/_glm/_newton_solver.py:491: LinAlgWarning: The inner solver of NewtonCholeskySolver stumbled upon a singular or very ill-conditioned Hessian matrix at iteration #3. It will now resort to lbfgs instead.\n",
      "Further options are to use another solver or to avoid such situation in the first place. Possible remedies are removing collinear features of X or increasing the penalization strengths.\n",
      "The original Linear Algebra message was:\n",
      "Matrix is singular.\n",
      "  warnings.warn(\n"
     ]
    },
    {
     "name": "stdout",
     "output_type": "stream",
     "text": [
      "[CV 1/10; 35/100] END C=10, class_weight={0: 1, 1: 100}, solver=liblinear;, score=-0.800 total time=   4.0s\n",
      "[CV 8/10; 35/100] END C=10, class_weight={0: 1, 1: 100}, solver=liblinear;, score=-0.735 total time=   3.5s\n",
      "[CV 2/10; 38/100] START C=10, class_weight={0: 1, 1: 150}, solver=newton-cholesky\n",
      "[CV 3/10; 38/100] START C=10, class_weight={0: 1, 1: 150}, solver=newton-cholesky\n"
     ]
    },
    {
     "name": "stderr",
     "output_type": "stream",
     "text": [
      "/opt/mamba/lib/python3.10/site-packages/sklearn/linear_model/_glm/_newton_solver.py:195: ConvergenceWarning: lbfgs failed to converge (status=1):\n",
      "STOP: TOTAL NO. of ITERATIONS REACHED LIMIT.\n",
      "\n",
      "Increase the number of iterations (max_iter) or scale the data as shown in:\n",
      "    https://scikit-learn.org/stable/modules/preprocessing.html\n",
      "  self.n_iter_ = _check_optimize_result(\"lbfgs\", opt_res)\n",
      "/opt/mamba/lib/python3.10/site-packages/sklearn/linear_model/_glm/_newton_solver.py:195: ConvergenceWarning: lbfgs failed to converge (status=1):\n",
      "STOP: TOTAL NO. of ITERATIONS REACHED LIMIT.\n",
      "\n",
      "Increase the number of iterations (max_iter) or scale the data as shown in:\n",
      "    https://scikit-learn.org/stable/modules/preprocessing.html\n",
      "  self.n_iter_ = _check_optimize_result(\"lbfgs\", opt_res)\n"
     ]
    },
    {
     "name": "stdout",
     "output_type": "stream",
     "text": [
      "[CV 2/10; 36/100] END C=10, class_weight={0: 1, 1: 100}, solver=newton-cholesky;, score=-0.584 total time=   3.0s\n",
      "[CV 4/10; 38/100] START C=10, class_weight={0: 1, 1: 150}, solver=newton-cholesky\n",
      "[CV 5/10; 36/100] END C=10, class_weight={0: 1, 1: 100}, solver=newton-cholesky;, score=-0.708 total time=   2.5s\n",
      "[CV 5/10; 38/100] START C=10, class_weight={0: 1, 1: 150}, solver=newton-cholesky\n"
     ]
    },
    {
     "name": "stderr",
     "output_type": "stream",
     "text": [
      "/opt/mamba/lib/python3.10/site-packages/sklearn/linear_model/_glm/_newton_solver.py:195: ConvergenceWarning: lbfgs failed to converge (status=1):\n",
      "STOP: TOTAL NO. of ITERATIONS REACHED LIMIT.\n",
      "\n",
      "Increase the number of iterations (max_iter) or scale the data as shown in:\n",
      "    https://scikit-learn.org/stable/modules/preprocessing.html\n",
      "  self.n_iter_ = _check_optimize_result(\"lbfgs\", opt_res)\n",
      "/opt/mamba/lib/python3.10/site-packages/sklearn/linear_model/_glm/_newton_solver.py:491: LinAlgWarning: The inner solver of NewtonCholeskySolver stumbled upon a singular or very ill-conditioned Hessian matrix at iteration #3. It will now resort to lbfgs instead.\n",
      "Further options are to use another solver or to avoid such situation in the first place. Possible remedies are removing collinear features of X or increasing the penalization strengths.\n",
      "The original Linear Algebra message was:\n",
      "Matrix is singular.\n",
      "  warnings.warn(\n",
      "/opt/mamba/lib/python3.10/site-packages/sklearn/linear_model/_glm/_newton_solver.py:491: LinAlgWarning: The inner solver of NewtonCholeskySolver stumbled upon a singular or very ill-conditioned Hessian matrix at iteration #3. It will now resort to lbfgs instead.\n",
      "Further options are to use another solver or to avoid such situation in the first place. Possible remedies are removing collinear features of X or increasing the penalization strengths.\n",
      "The original Linear Algebra message was:\n",
      "Matrix is singular.\n",
      "  warnings.warn(\n"
     ]
    },
    {
     "name": "stdout",
     "output_type": "stream",
     "text": [
      "[CV 3/10; 36/100] END C=10, class_weight={0: 1, 1: 100}, solver=newton-cholesky;, score=-0.608 total time=   2.9s\n",
      "[CV 6/10; 38/100] START C=10, class_weight={0: 1, 1: 150}, solver=newton-cholesky\n",
      "[CV 9/10; 31/100] END C=10, class_weight={0: 1, 1: 20}, solver=liblinear;, score=0.280 total time=   8.2s\n",
      "[CV 1/10; 33/100] END C=10, class_weight={0: 1, 1: 50}, solver=liblinear;, score=-0.399 total time=   6.9s\n",
      "[CV 7/10; 38/100] START C=10, class_weight={0: 1, 1: 150}, solver=newton-cholesky\n",
      "[CV 2/10; 35/100] END C=10, class_weight={0: 1, 1: 100}, solver=liblinear;, score=-0.572 total time=   4.6s\n",
      "[CV 8/10; 38/100] START C=10, class_weight={0: 1, 1: 150}, solver=newton-cholesky\n",
      "[CV 9/10; 38/100] START C=10, class_weight={0: 1, 1: 150}, solver=newton-cholesky\n"
     ]
    },
    {
     "name": "stderr",
     "output_type": "stream",
     "text": [
      "/opt/mamba/lib/python3.10/site-packages/sklearn/linear_model/_glm/_newton_solver.py:491: LinAlgWarning: The inner solver of NewtonCholeskySolver stumbled upon a singular or very ill-conditioned Hessian matrix at iteration #3. It will now resort to lbfgs instead.\n",
      "Further options are to use another solver or to avoid such situation in the first place. Possible remedies are removing collinear features of X or increasing the penalization strengths.\n",
      "The original Linear Algebra message was:\n",
      "Matrix is singular.\n",
      "  warnings.warn(\n",
      "/opt/mamba/lib/python3.10/site-packages/sklearn/linear_model/_glm/_newton_solver.py:491: LinAlgWarning: The inner solver of NewtonCholeskySolver stumbled upon a singular or very ill-conditioned Hessian matrix at iteration #3. It will now resort to lbfgs instead.\n",
      "Further options are to use another solver or to avoid such situation in the first place. Possible remedies are removing collinear features of X or increasing the penalization strengths.\n",
      "The original Linear Algebra message was:\n",
      "Matrix is singular.\n",
      "  warnings.warn(\n",
      "/opt/mamba/lib/python3.10/site-packages/sklearn/linear_model/_glm/_newton_solver.py:195: ConvergenceWarning: lbfgs failed to converge (status=1):\n",
      "STOP: TOTAL NO. of ITERATIONS REACHED LIMIT.\n",
      "\n",
      "Increase the number of iterations (max_iter) or scale the data as shown in:\n",
      "    https://scikit-learn.org/stable/modules/preprocessing.html\n",
      "  self.n_iter_ = _check_optimize_result(\"lbfgs\", opt_res)\n",
      "/opt/mamba/lib/python3.10/site-packages/sklearn/linear_model/_glm/_newton_solver.py:491: LinAlgWarning: The inner solver of NewtonCholeskySolver stumbled upon a singular or very ill-conditioned Hessian matrix at iteration #3. It will now resort to lbfgs instead.\n",
      "Further options are to use another solver or to avoid such situation in the first place. Possible remedies are removing collinear features of X or increasing the penalization strengths.\n",
      "The original Linear Algebra message was:\n",
      "Matrix is singular.\n",
      "  warnings.warn(\n",
      "/opt/mamba/lib/python3.10/site-packages/sklearn/linear_model/_glm/_newton_solver.py:491: LinAlgWarning: The inner solver of NewtonCholeskySolver stumbled upon a singular or very ill-conditioned Hessian matrix at iteration #3. It will now resort to lbfgs instead.\n",
      "Further options are to use another solver or to avoid such situation in the first place. Possible remedies are removing collinear features of X or increasing the penalization strengths.\n",
      "The original Linear Algebra message was:\n",
      "Matrix is singular.\n",
      "  warnings.warn(\n",
      "/opt/mamba/lib/python3.10/site-packages/sklearn/linear_model/_glm/_newton_solver.py:491: LinAlgWarning: The inner solver of NewtonCholeskySolver stumbled upon a singular or very ill-conditioned Hessian matrix at iteration #3. It will now resort to lbfgs instead.\n",
      "Further options are to use another solver or to avoid such situation in the first place. Possible remedies are removing collinear features of X or increasing the penalization strengths.\n",
      "The original Linear Algebra message was:\n",
      "Matrix is singular.\n",
      "  warnings.warn(\n"
     ]
    },
    {
     "name": "stdout",
     "output_type": "stream",
     "text": [
      "[CV 4/10; 38/100] END C=10, class_weight={0: 1, 1: 150}, solver=newton-cholesky;, score=-0.721 total time=   0.8s\n",
      "[CV 10/10; 38/100] START C=10, class_weight={0: 1, 1: 150}, solver=newton-cholesky\n",
      "[CV 8/10; 36/100] END C=10, class_weight={0: 1, 1: 100}, solver=newton-cholesky;, score=-0.749 total time=   2.9s\n",
      "[CV 5/10; 33/100] END C=10, class_weight={0: 1, 1: 50}, solver=liblinear;, score=-0.309 total time=   6.9s\n",
      "[CV 1/10; 39/100] START C=10, class_weight={0: 1, 1: 1000}, solver=liblinear....\n",
      "[CV 2/10; 39/100] START C=10, class_weight={0: 1, 1: 1000}, solver=liblinear....\n"
     ]
    },
    {
     "name": "stderr",
     "output_type": "stream",
     "text": [
      "/opt/mamba/lib/python3.10/site-packages/sklearn/linear_model/_glm/_newton_solver.py:195: ConvergenceWarning: lbfgs failed to converge (status=1):\n",
      "STOP: TOTAL NO. of ITERATIONS REACHED LIMIT.\n",
      "\n",
      "Increase the number of iterations (max_iter) or scale the data as shown in:\n",
      "    https://scikit-learn.org/stable/modules/preprocessing.html\n",
      "  self.n_iter_ = _check_optimize_result(\"lbfgs\", opt_res)\n",
      "/opt/mamba/lib/python3.10/site-packages/sklearn/linear_model/_glm/_newton_solver.py:195: ConvergenceWarning: lbfgs failed to converge (status=1):\n",
      "STOP: TOTAL NO. of ITERATIONS REACHED LIMIT.\n",
      "\n",
      "Increase the number of iterations (max_iter) or scale the data as shown in:\n",
      "    https://scikit-learn.org/stable/modules/preprocessing.html\n",
      "  self.n_iter_ = _check_optimize_result(\"lbfgs\", opt_res)\n",
      "/opt/mamba/lib/python3.10/site-packages/sklearn/linear_model/_glm/_newton_solver.py:195: ConvergenceWarning: lbfgs failed to converge (status=1):\n",
      "STOP: TOTAL NO. of ITERATIONS REACHED LIMIT.\n",
      "\n",
      "Increase the number of iterations (max_iter) or scale the data as shown in:\n",
      "    https://scikit-learn.org/stable/modules/preprocessing.html\n",
      "  self.n_iter_ = _check_optimize_result(\"lbfgs\", opt_res)\n",
      "/opt/mamba/lib/python3.10/site-packages/sklearn/linear_model/_glm/_newton_solver.py:491: LinAlgWarning: The inner solver of NewtonCholeskySolver stumbled upon a singular or very ill-conditioned Hessian matrix at iteration #3. It will now resort to lbfgs instead.\n",
      "Further options are to use another solver or to avoid such situation in the first place. Possible remedies are removing collinear features of X or increasing the penalization strengths.\n",
      "The original Linear Algebra message was:\n",
      "Matrix is singular.\n",
      "  warnings.warn(\n",
      "/opt/mamba/lib/python3.10/site-packages/sklearn/linear_model/_glm/_newton_solver.py:195: ConvergenceWarning: lbfgs failed to converge (status=1):\n",
      "STOP: TOTAL NO. of ITERATIONS REACHED LIMIT.\n",
      "\n",
      "Increase the number of iterations (max_iter) or scale the data as shown in:\n",
      "    https://scikit-learn.org/stable/modules/preprocessing.html\n",
      "  self.n_iter_ = _check_optimize_result(\"lbfgs\", opt_res)\n"
     ]
    },
    {
     "name": "stdout",
     "output_type": "stream",
     "text": [
      "[CV 6/10; 36/100] END C=10, class_weight={0: 1, 1: 100}, solver=newton-cholesky;, score=-0.584 total time=   3.4s\n",
      "[CV 9/10; 36/100] END C=10, class_weight={0: 1, 1: 100}, solver=newton-cholesky;, score=-0.721 total time=   3.2s\n",
      "[CV 3/10; 39/100] START C=10, class_weight={0: 1, 1: 1000}, solver=liblinear....\n",
      "[CV 7/10; 36/100] END C=10, class_weight={0: 1, 1: 100}, solver=newton-cholesky;, score=-0.692 total time=   3.3s\n",
      "[CV 4/10; 39/100] START C=10, class_weight={0: 1, 1: 1000}, solver=liblinear....\n",
      "[CV 6/10; 35/100] END C=10, class_weight={0: 1, 1: 100}, solver=liblinear;, score=-0.562 total time=   5.2s\n",
      "[CV 5/10; 39/100] START C=10, class_weight={0: 1, 1: 1000}, solver=liblinear....\n",
      "[CV 10/10; 36/100] END C=10, class_weight={0: 1, 1: 100}, solver=newton-cholesky;, score=-0.705 total time=   3.2s\n",
      "[CV 6/10; 39/100] START C=10, class_weight={0: 1, 1: 1000}, solver=liblinear....\n",
      "[CV 3/10; 35/100] END C=10, class_weight={0: 1, 1: 100}, solver=liblinear;, score=-0.578 total time=   5.6s\n",
      "[CV 7/10; 39/100] START C=10, class_weight={0: 1, 1: 1000}, solver=liblinear....\n",
      "[CV 8/10; 39/100] START C=10, class_weight={0: 1, 1: 1000}, solver=liblinear....\n",
      "[CV 8/10; 33/100] END C=10, class_weight={0: 1, 1: 50}, solver=liblinear;, score=-0.340 total time=   7.2s\n",
      "[CV 9/10; 39/100] START C=10, class_weight={0: 1, 1: 1000}, solver=liblinear....\n",
      "[CV 10/10; 33/100] END C=10, class_weight={0: 1, 1: 50}, solver=liblinear;, score=-0.300 total time=   7.1s\n",
      "[CV 8/10; 37/100] END C=10, class_weight={0: 1, 1: 150}, solver=liblinear;, score=-0.871 total time=   2.9s\n",
      "[CV 10/10; 39/100] START C=10, class_weight={0: 1, 1: 1000}, solver=liblinear...\n",
      "[CV 9/10; 33/100] END C=10, class_weight={0: 1, 1: 50}, solver=liblinear;, score=-0.328 total time=   7.3s\n",
      "[CV 9/10; 37/100] END C=10, class_weight={0: 1, 1: 150}, solver=liblinear;, score=-0.813 total time=   2.9s\n",
      "[CV 1/10; 40/100] START C=10, class_weight={0: 1, 1: 1000}, solver=newton-cholesky\n",
      "[CV 2/10; 40/100] START C=10, class_weight={0: 1, 1: 1000}, solver=newton-cholesky\n",
      "[CV 9/10; 35/100] END C=10, class_weight={0: 1, 1: 100}, solver=liblinear;, score=-0.685 total time=   5.3s\n",
      "[CV 3/10; 40/100] START C=10, class_weight={0: 1, 1: 1000}, solver=newton-cholesky\n",
      "[CV 4/10; 40/100] START C=10, class_weight={0: 1, 1: 1000}, solver=newton-cholesky\n",
      "[CV 7/10; 33/100] END C=10, class_weight={0: 1, 1: 50}, solver=liblinear;, score=-0.272 total time=   7.7s\n"
     ]
    },
    {
     "name": "stderr",
     "output_type": "stream",
     "text": [
      "/opt/mamba/lib/python3.10/site-packages/sklearn/linear_model/_glm/_newton_solver.py:195: ConvergenceWarning: lbfgs failed to converge (status=1):\n",
      "STOP: TOTAL NO. of ITERATIONS REACHED LIMIT.\n",
      "\n",
      "Increase the number of iterations (max_iter) or scale the data as shown in:\n",
      "    https://scikit-learn.org/stable/modules/preprocessing.html\n",
      "  self.n_iter_ = _check_optimize_result(\"lbfgs\", opt_res)\n",
      "/opt/mamba/lib/python3.10/site-packages/sklearn/linear_model/_glm/_newton_solver.py:491: LinAlgWarning: The inner solver of NewtonCholeskySolver stumbled upon a singular or very ill-conditioned Hessian matrix at iteration #4. It will now resort to lbfgs instead.\n",
      "Further options are to use another solver or to avoid such situation in the first place. Possible remedies are removing collinear features of X or increasing the penalization strengths.\n",
      "The original Linear Algebra message was:\n",
      "Matrix is singular.\n",
      "  warnings.warn(\n"
     ]
    },
    {
     "name": "stdout",
     "output_type": "stream",
     "text": [
      "[CV 5/10; 40/100] START C=10, class_weight={0: 1, 1: 1000}, solver=newton-cholesky\n",
      "[CV 1/10; 38/100] END C=10, class_weight={0: 1, 1: 150}, solver=newton-cholesky;, score=-0.967 total time=   2.8s\n",
      "[CV 6/10; 40/100] START C=10, class_weight={0: 1, 1: 1000}, solver=newton-cholesky\n",
      "[CV 10/10; 31/100] END C=10, class_weight={0: 1, 1: 20}, solver=liblinear;, score=0.291 total time=  10.0s\n"
     ]
    },
    {
     "name": "stderr",
     "output_type": "stream",
     "text": [
      "/opt/mamba/lib/python3.10/site-packages/sklearn/linear_model/_glm/_newton_solver.py:491: LinAlgWarning: The inner solver of NewtonCholeskySolver stumbled upon a singular or very ill-conditioned Hessian matrix at iteration #4. It will now resort to lbfgs instead.\n",
      "Further options are to use another solver or to avoid such situation in the first place. Possible remedies are removing collinear features of X or increasing the penalization strengths.\n",
      "The original Linear Algebra message was:\n",
      "Matrix is singular.\n",
      "  warnings.warn(\n",
      "/opt/mamba/lib/python3.10/site-packages/sklearn/linear_model/_glm/_newton_solver.py:491: LinAlgWarning: The inner solver of NewtonCholeskySolver stumbled upon a singular or very ill-conditioned Hessian matrix at iteration #4. It will now resort to lbfgs instead.\n",
      "Further options are to use another solver or to avoid such situation in the first place. Possible remedies are removing collinear features of X or increasing the penalization strengths.\n",
      "The original Linear Algebra message was:\n",
      "Matrix is singular.\n",
      "  warnings.warn(\n"
     ]
    },
    {
     "name": "stdout",
     "output_type": "stream",
     "text": [
      "[CV 7/10; 40/100] START C=10, class_weight={0: 1, 1: 1000}, solver=newton-cholesky\n"
     ]
    },
    {
     "name": "stderr",
     "output_type": "stream",
     "text": [
      "/opt/mamba/lib/python3.10/site-packages/sklearn/linear_model/_glm/_newton_solver.py:491: LinAlgWarning: The inner solver of NewtonCholeskySolver stumbled upon a singular or very ill-conditioned Hessian matrix at iteration #4. It will now resort to lbfgs instead.\n",
      "Further options are to use another solver or to avoid such situation in the first place. Possible remedies are removing collinear features of X or increasing the penalization strengths.\n",
      "The original Linear Algebra message was:\n",
      "Matrix is singular.\n",
      "  warnings.warn(\n",
      "/opt/mamba/lib/python3.10/site-packages/sklearn/linear_model/_glm/_newton_solver.py:195: ConvergenceWarning: lbfgs failed to converge (status=1):\n",
      "STOP: TOTAL NO. of ITERATIONS REACHED LIMIT.\n",
      "\n",
      "Increase the number of iterations (max_iter) or scale the data as shown in:\n",
      "    https://scikit-learn.org/stable/modules/preprocessing.html\n",
      "  self.n_iter_ = _check_optimize_result(\"lbfgs\", opt_res)\n",
      "/opt/mamba/lib/python3.10/site-packages/sklearn/linear_model/_glm/_newton_solver.py:491: LinAlgWarning: The inner solver of NewtonCholeskySolver stumbled upon a singular or very ill-conditioned Hessian matrix at iteration #4. It will now resort to lbfgs instead.\n",
      "Further options are to use another solver or to avoid such situation in the first place. Possible remedies are removing collinear features of X or increasing the penalization strengths.\n",
      "The original Linear Algebra message was:\n",
      "Matrix is singular.\n",
      "  warnings.warn(\n"
     ]
    },
    {
     "name": "stdout",
     "output_type": "stream",
     "text": [
      "[CV 2/10; 38/100] END C=10, class_weight={0: 1, 1: 150}, solver=newton-cholesky;, score=-0.719 total time=   2.8s\n",
      "[CV 8/10; 40/100] START C=10, class_weight={0: 1, 1: 1000}, solver=newton-cholesky\n",
      "[CV 4/10; 37/100] END C=10, class_weight={0: 1, 1: 150}, solver=liblinear;, score=-0.721 total time=   4.3s\n",
      "[CV 10/10; 35/100] END C=10, class_weight={0: 1, 1: 100}, solver=liblinear;, score=-0.678 total time=   6.1s\n",
      "[CV 4/10; 33/100] END C=10, class_weight={0: 1, 1: 50}, solver=liblinear;, score=-0.228 total time=   8.7s\n",
      "[CV 3/10; 38/100] END C=10, class_weight={0: 1, 1: 150}, solver=newton-cholesky;, score=-0.739 total time=   2.9s\n"
     ]
    },
    {
     "name": "stderr",
     "output_type": "stream",
     "text": [
      "/opt/mamba/lib/python3.10/site-packages/sklearn/linear_model/_glm/_newton_solver.py:195: ConvergenceWarning: lbfgs failed to converge (status=1):\n",
      "STOP: TOTAL NO. of ITERATIONS REACHED LIMIT.\n",
      "\n",
      "Increase the number of iterations (max_iter) or scale the data as shown in:\n",
      "    https://scikit-learn.org/stable/modules/preprocessing.html\n",
      "  self.n_iter_ = _check_optimize_result(\"lbfgs\", opt_res)\n",
      "/opt/mamba/lib/python3.10/site-packages/sklearn/linear_model/_glm/_newton_solver.py:195: ConvergenceWarning: lbfgs failed to converge (status=1):\n",
      "STOP: TOTAL NO. of ITERATIONS REACHED LIMIT.\n",
      "\n",
      "Increase the number of iterations (max_iter) or scale the data as shown in:\n",
      "    https://scikit-learn.org/stable/modules/preprocessing.html\n",
      "  self.n_iter_ = _check_optimize_result(\"lbfgs\", opt_res)\n",
      "/opt/mamba/lib/python3.10/site-packages/sklearn/linear_model/_glm/_newton_solver.py:491: LinAlgWarning: The inner solver of NewtonCholeskySolver stumbled upon a singular or very ill-conditioned Hessian matrix at iteration #4. It will now resort to lbfgs instead.\n",
      "Further options are to use another solver or to avoid such situation in the first place. Possible remedies are removing collinear features of X or increasing the penalization strengths.\n",
      "The original Linear Algebra message was:\n",
      "Matrix is singular.\n",
      "  warnings.warn(\n"
     ]
    },
    {
     "name": "stdout",
     "output_type": "stream",
     "text": [
      "[CV 9/10; 40/100] START C=10, class_weight={0: 1, 1: 1000}, solver=newton-cholesky\n",
      "[CV 5/10; 38/100] END C=10, class_weight={0: 1, 1: 150}, solver=newton-cholesky;, score=-0.836 total time=   2.6s\n",
      "[CV 6/10; 33/100] END C=10, class_weight={0: 1, 1: 50}, solver=liblinear;, score=-0.234 total time=   8.5s\n",
      "[CV 10/10; 40/100] START C=10, class_weight={0: 1, 1: 1000}, solver=newton-cholesky\n",
      "[CV 3/10; 33/100] END C=10, class_weight={0: 1, 1: 50}, solver=liblinear;, score=-0.224 total time=   9.0s\n",
      "[CV 4/10; 40/100] END C=10, class_weight={0: 1, 1: 1000}, solver=newton-cholesky;, score=-0.868 total time=   0.9s\n",
      "[CV 1/10; 41/100] START C=100, class_weight={0: 1, 1: 1}, solver=liblinear......\n",
      "[CV 2/10; 41/100] START C=100, class_weight={0: 1, 1: 1}, solver=liblinear......\n"
     ]
    },
    {
     "name": "stderr",
     "output_type": "stream",
     "text": [
      "/opt/mamba/lib/python3.10/site-packages/sklearn/linear_model/_glm/_newton_solver.py:491: LinAlgWarning: The inner solver of NewtonCholeskySolver stumbled upon a singular or very ill-conditioned Hessian matrix at iteration #4. It will now resort to lbfgs instead.\n",
      "Further options are to use another solver or to avoid such situation in the first place. Possible remedies are removing collinear features of X or increasing the penalization strengths.\n",
      "The original Linear Algebra message was:\n",
      "Matrix is singular.\n",
      "  warnings.warn(\n",
      "/opt/mamba/lib/python3.10/site-packages/sklearn/linear_model/_glm/_newton_solver.py:195: ConvergenceWarning: lbfgs failed to converge (status=1):\n",
      "STOP: TOTAL NO. of ITERATIONS REACHED LIMIT.\n",
      "\n",
      "Increase the number of iterations (max_iter) or scale the data as shown in:\n",
      "    https://scikit-learn.org/stable/modules/preprocessing.html\n",
      "  self.n_iter_ = _check_optimize_result(\"lbfgs\", opt_res)\n",
      "/opt/mamba/lib/python3.10/site-packages/sklearn/linear_model/_glm/_newton_solver.py:491: LinAlgWarning: The inner solver of NewtonCholeskySolver stumbled upon a singular or very ill-conditioned Hessian matrix at iteration #4. It will now resort to lbfgs instead.\n",
      "Further options are to use another solver or to avoid such situation in the first place. Possible remedies are removing collinear features of X or increasing the penalization strengths.\n",
      "The original Linear Algebra message was:\n",
      "Matrix is singular.\n",
      "  warnings.warn(\n"
     ]
    },
    {
     "name": "stdout",
     "output_type": "stream",
     "text": [
      "[CV 5/10; 35/100] END C=10, class_weight={0: 1, 1: 100}, solver=liblinear;, score=-0.683 total time=   7.1s\n",
      "[CV 3/10; 41/100] START C=100, class_weight={0: 1, 1: 1}, solver=liblinear......\n",
      "[CV 6/10; 37/100] END C=10, class_weight={0: 1, 1: 150}, solver=liblinear;, score=-0.688 total time=   4.4s\n",
      "[CV 4/10; 41/100] START C=100, class_weight={0: 1, 1: 1}, solver=liblinear......\n",
      "[CV 9/10; 38/100] END C=10, class_weight={0: 1, 1: 150}, solver=newton-cholesky;, score=-0.860 total time=   2.5s\n",
      "[CV 5/10; 41/100] START C=100, class_weight={0: 1, 1: 1}, solver=liblinear......\n",
      "[CV 3/10; 37/100] END C=10, class_weight={0: 1, 1: 150}, solver=liblinear;, score=-0.701 total time=   4.8s\n",
      "[CV 6/10; 41/100] START C=100, class_weight={0: 1, 1: 1}, solver=liblinear......\n"
     ]
    },
    {
     "name": "stderr",
     "output_type": "stream",
     "text": [
      "/opt/mamba/lib/python3.10/site-packages/sklearn/linear_model/_glm/_newton_solver.py:491: LinAlgWarning: The inner solver of NewtonCholeskySolver stumbled upon a singular or very ill-conditioned Hessian matrix at iteration #4. It will now resort to lbfgs instead.\n",
      "Further options are to use another solver or to avoid such situation in the first place. Possible remedies are removing collinear features of X or increasing the penalization strengths.\n",
      "The original Linear Algebra message was:\n",
      "Matrix is singular.\n",
      "  warnings.warn(\n"
     ]
    },
    {
     "name": "stdout",
     "output_type": "stream",
     "text": [
      "[CV 7/10; 41/100] START C=100, class_weight={0: 1, 1: 1}, solver=liblinear......\n",
      "[CV 8/10; 41/100] START C=100, class_weight={0: 1, 1: 1}, solver=liblinear......\n",
      "[CV 9/10; 41/100] START C=100, class_weight={0: 1, 1: 1}, solver=liblinear......\n",
      "[CV 10/10; 41/100] START C=100, class_weight={0: 1, 1: 1}, solver=liblinear.....\n",
      "[CV 2/10; 39/100] END C=10, class_weight={0: 1, 1: 1000}, solver=liblinear;, score=-0.848 total time=   2.4s\n",
      "[CV 1/10; 42/100] START C=100, class_weight={0: 1, 1: 1}, solver=newton-cholesky\n"
     ]
    },
    {
     "name": "stderr",
     "output_type": "stream",
     "text": [
      "/opt/mamba/lib/python3.10/site-packages/sklearn/linear_model/_glm/_newton_solver.py:195: ConvergenceWarning: lbfgs failed to converge (status=1):\n",
      "STOP: TOTAL NO. of ITERATIONS REACHED LIMIT.\n",
      "\n",
      "Increase the number of iterations (max_iter) or scale the data as shown in:\n",
      "    https://scikit-learn.org/stable/modules/preprocessing.html\n",
      "  self.n_iter_ = _check_optimize_result(\"lbfgs\", opt_res)\n",
      "/opt/mamba/lib/python3.10/site-packages/sklearn/linear_model/_glm/_newton_solver.py:195: ConvergenceWarning: lbfgs failed to converge (status=1):\n",
      "STOP: TOTAL NO. of ITERATIONS REACHED LIMIT.\n",
      "\n",
      "Increase the number of iterations (max_iter) or scale the data as shown in:\n",
      "    https://scikit-learn.org/stable/modules/preprocessing.html\n",
      "  self.n_iter_ = _check_optimize_result(\"lbfgs\", opt_res)\n"
     ]
    },
    {
     "name": "stdout",
     "output_type": "stream",
     "text": [
      "[CV 10/10; 38/100] END C=10, class_weight={0: 1, 1: 150}, solver=newton-cholesky;, score=-0.834 total time=   2.8s\n",
      "[CV 9/10; 39/100] END C=10, class_weight={0: 1, 1: 1000}, solver=liblinear;, score=-0.970 total time=   2.1s\n",
      "[CV 2/10; 42/100] START C=100, class_weight={0: 1, 1: 1}, solver=newton-cholesky\n",
      "[CV 5/10; 37/100] END C=10, class_weight={0: 1, 1: 150}, solver=liblinear;, score=-0.814 total time=   5.3s\n",
      "[CV 6/10; 38/100] END C=10, class_weight={0: 1, 1: 150}, solver=newton-cholesky;, score=-0.694 total time=   3.5s\n",
      "[CV 3/10; 42/100] START C=100, class_weight={0: 1, 1: 1}, solver=newton-cholesky\n",
      "[CV 1/10; 39/100] END C=10, class_weight={0: 1, 1: 1000}, solver=liblinear;, score=-1.090 total time=   2.8s\n",
      "[CV 4/10; 42/100] START C=100, class_weight={0: 1, 1: 1}, solver=newton-cholesky\n",
      "[CV 5/10; 42/100] START C=100, class_weight={0: 1, 1: 1}, solver=newton-cholesky\n",
      "[CV 6/10; 42/100] START C=100, class_weight={0: 1, 1: 1}, solver=newton-cholesky\n",
      "[CV 7/10; 38/100] END C=10, class_weight={0: 1, 1: 150}, solver=newton-cholesky;, score=-0.827 total time=   3.7s\n"
     ]
    },
    {
     "name": "stderr",
     "output_type": "stream",
     "text": [
      "/opt/mamba/lib/python3.10/site-packages/sklearn/linear_model/_glm/_newton_solver.py:491: LinAlgWarning: The inner solver of NewtonCholeskySolver stumbled upon a singular or very ill-conditioned Hessian matrix at iteration #5. It will now resort to lbfgs instead.\n",
      "Further options are to use another solver or to avoid such situation in the first place. Possible remedies are removing collinear features of X or increasing the penalization strengths.\n",
      "The original Linear Algebra message was:\n",
      "Matrix is singular.\n",
      "  warnings.warn(\n",
      "/opt/mamba/lib/python3.10/site-packages/sklearn/linear_model/_glm/_newton_solver.py:195: ConvergenceWarning: lbfgs failed to converge (status=1):\n",
      "STOP: TOTAL NO. of ITERATIONS REACHED LIMIT.\n",
      "\n",
      "Increase the number of iterations (max_iter) or scale the data as shown in:\n",
      "    https://scikit-learn.org/stable/modules/preprocessing.html\n",
      "  self.n_iter_ = _check_optimize_result(\"lbfgs\", opt_res)\n",
      "/opt/mamba/lib/python3.10/site-packages/sklearn/linear_model/_glm/_newton_solver.py:195: ConvergenceWarning: lbfgs failed to converge (status=1):\n",
      "STOP: TOTAL NO. of ITERATIONS REACHED LIMIT.\n",
      "\n",
      "Increase the number of iterations (max_iter) or scale the data as shown in:\n",
      "    https://scikit-learn.org/stable/modules/preprocessing.html\n",
      "  self.n_iter_ = _check_optimize_result(\"lbfgs\", opt_res)\n",
      "/opt/mamba/lib/python3.10/site-packages/sklearn/linear_model/_glm/_newton_solver.py:491: LinAlgWarning: The inner solver of NewtonCholeskySolver stumbled upon a singular or very ill-conditioned Hessian matrix at iteration #5. It will now resort to lbfgs instead.\n",
      "Further options are to use another solver or to avoid such situation in the first place. Possible remedies are removing collinear features of X or increasing the penalization strengths.\n",
      "The original Linear Algebra message was:\n",
      "Matrix is singular.\n",
      "  warnings.warn(\n"
     ]
    },
    {
     "name": "stdout",
     "output_type": "stream",
     "text": [
      "[CV 7/10; 42/100] START C=100, class_weight={0: 1, 1: 1}, solver=newton-cholesky\n",
      "[CV 7/10; 35/100] END C=10, class_weight={0: 1, 1: 100}, solver=liblinear;, score=-0.661 total time=   8.0s\n",
      "[CV 8/10; 42/100] START C=100, class_weight={0: 1, 1: 1}, solver=newton-cholesky\n",
      "[CV 8/10; 38/100] END C=10, class_weight={0: 1, 1: 150}, solver=newton-cholesky;, score=-0.890 total time=   3.8s\n",
      "[CV 2/10; 37/100] END C=10, class_weight={0: 1, 1: 150}, solver=liblinear;, score=-0.704 total time=   6.1s\n",
      "[CV 9/10; 42/100] START C=100, class_weight={0: 1, 1: 1}, solver=newton-cholesky\n"
     ]
    },
    {
     "name": "stderr",
     "output_type": "stream",
     "text": [
      "/opt/mamba/lib/python3.10/site-packages/sklearn/linear_model/_glm/_newton_solver.py:491: LinAlgWarning: The inner solver of NewtonCholeskySolver stumbled upon a singular or very ill-conditioned Hessian matrix at iteration #5. It will now resort to lbfgs instead.\n",
      "Further options are to use another solver or to avoid such situation in the first place. Possible remedies are removing collinear features of X or increasing the penalization strengths.\n",
      "The original Linear Algebra message was:\n",
      "Matrix is singular.\n",
      "  warnings.warn(\n",
      "/opt/mamba/lib/python3.10/site-packages/sklearn/linear_model/_glm/_newton_solver.py:491: LinAlgWarning: The inner solver of NewtonCholeskySolver stumbled upon a singular or very ill-conditioned Hessian matrix at iteration #5. It will now resort to lbfgs instead.\n",
      "Further options are to use another solver or to avoid such situation in the first place. Possible remedies are removing collinear features of X or increasing the penalization strengths.\n",
      "The original Linear Algebra message was:\n",
      "Matrix is singular.\n",
      "  warnings.warn(\n",
      "/opt/mamba/lib/python3.10/site-packages/sklearn/linear_model/_glm/_newton_solver.py:195: ConvergenceWarning: lbfgs failed to converge (status=1):\n",
      "STOP: TOTAL NO. of ITERATIONS REACHED LIMIT.\n",
      "\n",
      "Increase the number of iterations (max_iter) or scale the data as shown in:\n",
      "    https://scikit-learn.org/stable/modules/preprocessing.html\n",
      "  self.n_iter_ = _check_optimize_result(\"lbfgs\", opt_res)\n",
      "/opt/mamba/lib/python3.10/site-packages/sklearn/linear_model/_glm/_newton_solver.py:195: ConvergenceWarning: lbfgs failed to converge (status=1):\n",
      "STOP: TOTAL NO. of ITERATIONS REACHED LIMIT.\n",
      "\n",
      "Increase the number of iterations (max_iter) or scale the data as shown in:\n",
      "    https://scikit-learn.org/stable/modules/preprocessing.html\n",
      "  self.n_iter_ = _check_optimize_result(\"lbfgs\", opt_res)\n"
     ]
    },
    {
     "name": "stdout",
     "output_type": "stream",
     "text": [
      "[CV 10/10; 42/100] START C=100, class_weight={0: 1, 1: 1}, solver=newton-cholesky\n",
      "[CV 5/10; 40/100] END C=10, class_weight={0: 1, 1: 1000}, solver=newton-cholesky;, score=-0.972 total time=   2.4s\n",
      "[CV 2/10; 40/100] END C=10, class_weight={0: 1, 1: 1000}, solver=newton-cholesky;, score=-0.849 total time=   2.7s\n",
      "[CV 10/10; 37/100] END C=10, class_weight={0: 1, 1: 150}, solver=liblinear;, score=-0.801 total time=   5.4s\n",
      "[CV 1/10; 43/100] START C=100, class_weight={0: 1, 1: 10}, solver=liblinear.....\n",
      "[CV 3/10; 39/100] END C=10, class_weight={0: 1, 1: 1000}, solver=liblinear;, score=-0.836 total time=   3.3s\n",
      "[CV 2/10; 43/100] START C=100, class_weight={0: 1, 1: 10}, solver=liblinear.....\n"
     ]
    },
    {
     "name": "stderr",
     "output_type": "stream",
     "text": [
      "/opt/mamba/lib/python3.10/site-packages/sklearn/linear_model/_glm/_newton_solver.py:491: LinAlgWarning: The inner solver of NewtonCholeskySolver stumbled upon a singular or very ill-conditioned Hessian matrix at iteration #5. It will now resort to lbfgs instead.\n",
      "Further options are to use another solver or to avoid such situation in the first place. Possible remedies are removing collinear features of X or increasing the penalization strengths.\n",
      "The original Linear Algebra message was:\n",
      "Matrix is singular.\n",
      "  warnings.warn(\n",
      "/opt/mamba/lib/python3.10/site-packages/sklearn/linear_model/_glm/_newton_solver.py:491: LinAlgWarning: The inner solver of NewtonCholeskySolver stumbled upon a singular or very ill-conditioned Hessian matrix at iteration #5. It will now resort to lbfgs instead.\n",
      "Further options are to use another solver or to avoid such situation in the first place. Possible remedies are removing collinear features of X or increasing the penalization strengths.\n",
      "The original Linear Algebra message was:\n",
      "Matrix is singular.\n",
      "  warnings.warn(\n",
      "/opt/mamba/lib/python3.10/site-packages/sklearn/linear_model/_glm/_newton_solver.py:491: LinAlgWarning: The inner solver of NewtonCholeskySolver stumbled upon a singular or very ill-conditioned Hessian matrix at iteration #5. It will now resort to lbfgs instead.\n",
      "Further options are to use another solver or to avoid such situation in the first place. Possible remedies are removing collinear features of X or increasing the penalization strengths.\n",
      "The original Linear Algebra message was:\n",
      "Matrix is singular.\n",
      "  warnings.warn(\n"
     ]
    },
    {
     "name": "stdout",
     "output_type": "stream",
     "text": [
      "[CV 4/10; 42/100] END C=100, class_weight={0: 1, 1: 1}, solver=newton-cholesky;, score=0.215 total time=   0.7s\n",
      "[CV 1/10; 37/100] END C=10, class_weight={0: 1, 1: 150}, solver=liblinear;, score=-0.933 total time=   6.5s\n",
      "[CV 5/10; 39/100] END C=10, class_weight={0: 1, 1: 1000}, solver=liblinear;, score=-0.971 total time=   3.3s\n",
      "[CV 3/10; 43/100] START C=100, class_weight={0: 1, 1: 10}, solver=liblinear.....\n",
      "[CV 4/10; 43/100] START C=100, class_weight={0: 1, 1: 10}, solver=liblinear.....\n",
      "[CV 8/10; 39/100] END C=10, class_weight={0: 1, 1: 1000}, solver=liblinear;, score=-1.040 total time=   3.2s\n",
      "[CV 5/10; 43/100] START C=100, class_weight={0: 1, 1: 10}, solver=liblinear.....\n"
     ]
    },
    {
     "name": "stderr",
     "output_type": "stream",
     "text": [
      "/opt/mamba/lib/python3.10/site-packages/sklearn/linear_model/_glm/_newton_solver.py:195: ConvergenceWarning: lbfgs failed to converge (status=1):\n",
      "STOP: TOTAL NO. of ITERATIONS REACHED LIMIT.\n",
      "\n",
      "Increase the number of iterations (max_iter) or scale the data as shown in:\n",
      "    https://scikit-learn.org/stable/modules/preprocessing.html\n",
      "  self.n_iter_ = _check_optimize_result(\"lbfgs\", opt_res)\n",
      "/opt/mamba/lib/python3.10/site-packages/sklearn/linear_model/_glm/_newton_solver.py:491: LinAlgWarning: The inner solver of NewtonCholeskySolver stumbled upon a singular or very ill-conditioned Hessian matrix at iteration #5. It will now resort to lbfgs instead.\n",
      "Further options are to use another solver or to avoid such situation in the first place. Possible remedies are removing collinear features of X or increasing the penalization strengths.\n",
      "The original Linear Algebra message was:\n",
      "Matrix is singular.\n",
      "  warnings.warn(\n",
      "/opt/mamba/lib/python3.10/site-packages/sklearn/linear_model/_glm/_newton_solver.py:491: LinAlgWarning: The inner solver of NewtonCholeskySolver stumbled upon a singular or very ill-conditioned Hessian matrix at iteration #5. It will now resort to lbfgs instead.\n",
      "Further options are to use another solver or to avoid such situation in the first place. Possible remedies are removing collinear features of X or increasing the penalization strengths.\n",
      "The original Linear Algebra message was:\n",
      "Matrix is singular.\n",
      "  warnings.warn(\n"
     ]
    },
    {
     "name": "stdout",
     "output_type": "stream",
     "text": [
      "[CV 6/10; 43/100] START C=100, class_weight={0: 1, 1: 10}, solver=liblinear.....\n",
      "[CV 1/10; 40/100] END C=10, class_weight={0: 1, 1: 1000}, solver=newton-cholesky;, score=-1.090 total time=   3.0s\n",
      "[CV 7/10; 43/100] START C=100, class_weight={0: 1, 1: 10}, solver=liblinear.....\n",
      "[CV 7/10; 39/100] END C=10, class_weight={0: 1, 1: 1000}, solver=liblinear;, score=-0.938 total time=   3.4s\n",
      "[CV 8/10; 43/100] START C=100, class_weight={0: 1, 1: 10}, solver=liblinear.....\n",
      "[CV 9/10; 43/100] START C=100, class_weight={0: 1, 1: 10}, solver=liblinear.....\n"
     ]
    },
    {
     "name": "stderr",
     "output_type": "stream",
     "text": [
      "/opt/mamba/lib/python3.10/site-packages/sklearn/linear_model/_glm/_newton_solver.py:195: ConvergenceWarning: lbfgs failed to converge (status=1):\n",
      "STOP: TOTAL NO. of ITERATIONS REACHED LIMIT.\n",
      "\n",
      "Increase the number of iterations (max_iter) or scale the data as shown in:\n",
      "    https://scikit-learn.org/stable/modules/preprocessing.html\n",
      "  self.n_iter_ = _check_optimize_result(\"lbfgs\", opt_res)\n",
      "/opt/mamba/lib/python3.10/site-packages/sklearn/linear_model/_glm/_newton_solver.py:195: ConvergenceWarning: lbfgs failed to converge (status=1):\n",
      "STOP: TOTAL NO. of ITERATIONS REACHED LIMIT.\n",
      "\n",
      "Increase the number of iterations (max_iter) or scale the data as shown in:\n",
      "    https://scikit-learn.org/stable/modules/preprocessing.html\n",
      "  self.n_iter_ = _check_optimize_result(\"lbfgs\", opt_res)\n",
      "/opt/mamba/lib/python3.10/site-packages/sklearn/linear_model/_glm/_newton_solver.py:195: ConvergenceWarning: lbfgs failed to converge (status=1):\n",
      "STOP: TOTAL NO. of ITERATIONS REACHED LIMIT.\n",
      "\n",
      "Increase the number of iterations (max_iter) or scale the data as shown in:\n",
      "    https://scikit-learn.org/stable/modules/preprocessing.html\n",
      "  self.n_iter_ = _check_optimize_result(\"lbfgs\", opt_res)\n",
      "/opt/mamba/lib/python3.10/site-packages/sklearn/linear_model/_glm/_newton_solver.py:195: ConvergenceWarning: lbfgs failed to converge (status=1):\n",
      "STOP: TOTAL NO. of ITERATIONS REACHED LIMIT.\n",
      "\n",
      "Increase the number of iterations (max_iter) or scale the data as shown in:\n",
      "    https://scikit-learn.org/stable/modules/preprocessing.html\n",
      "  self.n_iter_ = _check_optimize_result(\"lbfgs\", opt_res)\n"
     ]
    },
    {
     "name": "stdout",
     "output_type": "stream",
     "text": [
      "[CV 10/10; 43/100] START C=100, class_weight={0: 1, 1: 10}, solver=liblinear....\n",
      "[CV 8/10; 40/100] END C=10, class_weight={0: 1, 1: 1000}, solver=newton-cholesky;, score=-1.042 total time=   2.4s\n",
      "[CV 1/10; 44/100] START C=100, class_weight={0: 1, 1: 10}, solver=newton-cholesky\n",
      "[CV 9/10; 40/100] END C=10, class_weight={0: 1, 1: 1000}, solver=newton-cholesky;, score=-0.970 total time=   2.4s\n",
      "[CV 2/10; 44/100] START C=100, class_weight={0: 1, 1: 10}, solver=newton-cholesky\n",
      "[CV 10/10; 39/100] END C=10, class_weight={0: 1, 1: 1000}, solver=liblinear;, score=-0.951 total time=   3.5s\n",
      "[CV 7/10; 37/100] END C=10, class_weight={0: 1, 1: 150}, solver=liblinear;, score=-0.793 total time=   6.5s\n",
      "[CV 10/10; 40/100] END C=10, class_weight={0: 1, 1: 1000}, solver=newton-cholesky;, score=-0.952 total time=   2.4s\n"
     ]
    },
    {
     "name": "stderr",
     "output_type": "stream",
     "text": [
      "/opt/mamba/lib/python3.10/site-packages/sklearn/linear_model/_glm/_newton_solver.py:195: ConvergenceWarning: lbfgs failed to converge (status=1):\n",
      "STOP: TOTAL NO. of ITERATIONS REACHED LIMIT.\n",
      "\n",
      "Increase the number of iterations (max_iter) or scale the data as shown in:\n",
      "    https://scikit-learn.org/stable/modules/preprocessing.html\n",
      "  self.n_iter_ = _check_optimize_result(\"lbfgs\", opt_res)\n"
     ]
    },
    {
     "name": "stdout",
     "output_type": "stream",
     "text": [
      "[CV 3/10; 40/100] END C=10, class_weight={0: 1, 1: 1000}, solver=newton-cholesky;, score=-0.839 total time=   3.4s\n",
      "[CV 3/10; 44/100] START C=100, class_weight={0: 1, 1: 10}, solver=newton-cholesky\n",
      "[CV 4/10; 44/100] START C=100, class_weight={0: 1, 1: 10}, solver=newton-cholesky\n",
      "[CV 6/10; 40/100] END C=10, class_weight={0: 1, 1: 1000}, solver=newton-cholesky;, score=-0.832 total time=   3.2s\n",
      "[CV 5/10; 44/100] START C=100, class_weight={0: 1, 1: 10}, solver=newton-cholesky\n",
      "[CV 6/10; 44/100] START C=100, class_weight={0: 1, 1: 10}, solver=newton-cholesky\n"
     ]
    },
    {
     "name": "stderr",
     "output_type": "stream",
     "text": [
      "/opt/mamba/lib/python3.10/site-packages/sklearn/linear_model/_glm/_newton_solver.py:491: LinAlgWarning: The inner solver of NewtonCholeskySolver stumbled upon a singular or very ill-conditioned Hessian matrix at iteration #3. It will now resort to lbfgs instead.\n",
      "Further options are to use another solver or to avoid such situation in the first place. Possible remedies are removing collinear features of X or increasing the penalization strengths.\n",
      "The original Linear Algebra message was:\n",
      "Matrix is singular.\n",
      "  warnings.warn(\n",
      "/opt/mamba/lib/python3.10/site-packages/sklearn/linear_model/_glm/_newton_solver.py:491: LinAlgWarning: The inner solver of NewtonCholeskySolver stumbled upon a singular or very ill-conditioned Hessian matrix at iteration #3. It will now resort to lbfgs instead.\n",
      "Further options are to use another solver or to avoid such situation in the first place. Possible remedies are removing collinear features of X or increasing the penalization strengths.\n",
      "The original Linear Algebra message was:\n",
      "Matrix is singular.\n",
      "  warnings.warn(\n",
      "/opt/mamba/lib/python3.10/site-packages/sklearn/linear_model/_glm/_newton_solver.py:491: LinAlgWarning: The inner solver of NewtonCholeskySolver stumbled upon a singular or very ill-conditioned Hessian matrix at iteration #3. It will now resort to lbfgs instead.\n",
      "Further options are to use another solver or to avoid such situation in the first place. Possible remedies are removing collinear features of X or increasing the penalization strengths.\n",
      "The original Linear Algebra message was:\n",
      "Matrix is singular.\n",
      "  warnings.warn(\n",
      "/opt/mamba/lib/python3.10/site-packages/sklearn/linear_model/_glm/_newton_solver.py:195: ConvergenceWarning: lbfgs failed to converge (status=1):\n",
      "STOP: TOTAL NO. of ITERATIONS REACHED LIMIT.\n",
      "\n",
      "Increase the number of iterations (max_iter) or scale the data as shown in:\n",
      "    https://scikit-learn.org/stable/modules/preprocessing.html\n",
      "  self.n_iter_ = _check_optimize_result(\"lbfgs\", opt_res)\n"
     ]
    },
    {
     "name": "stdout",
     "output_type": "stream",
     "text": [
      "[CV 7/10; 44/100] START C=100, class_weight={0: 1, 1: 10}, solver=newton-cholesky\n",
      "[CV 4/10; 39/100] END C=10, class_weight={0: 1, 1: 1000}, solver=liblinear;, score=-0.868 total time=   4.3s\n",
      "[CV 8/10; 44/100] START C=100, class_weight={0: 1, 1: 10}, solver=newton-cholesky\n"
     ]
    },
    {
     "name": "stderr",
     "output_type": "stream",
     "text": [
      "/opt/mamba/lib/python3.10/site-packages/sklearn/linear_model/_glm/_newton_solver.py:491: LinAlgWarning: The inner solver of NewtonCholeskySolver stumbled upon a singular or very ill-conditioned Hessian matrix at iteration #3. It will now resort to lbfgs instead.\n",
      "Further options are to use another solver or to avoid such situation in the first place. Possible remedies are removing collinear features of X or increasing the penalization strengths.\n",
      "The original Linear Algebra message was:\n",
      "Matrix is singular.\n",
      "  warnings.warn(\n",
      "/opt/mamba/lib/python3.10/site-packages/sklearn/linear_model/_glm/_newton_solver.py:491: LinAlgWarning: The inner solver of NewtonCholeskySolver stumbled upon a singular or very ill-conditioned Hessian matrix at iteration #3. It will now resort to lbfgs instead.\n",
      "Further options are to use another solver or to avoid such situation in the first place. Possible remedies are removing collinear features of X or increasing the penalization strengths.\n",
      "The original Linear Algebra message was:\n",
      "Matrix is singular.\n",
      "  warnings.warn(\n",
      "/opt/mamba/lib/python3.10/site-packages/sklearn/linear_model/_glm/_newton_solver.py:491: LinAlgWarning: The inner solver of NewtonCholeskySolver stumbled upon a singular or very ill-conditioned Hessian matrix at iteration #3. It will now resort to lbfgs instead.\n",
      "Further options are to use another solver or to avoid such situation in the first place. Possible remedies are removing collinear features of X or increasing the penalization strengths.\n",
      "The original Linear Algebra message was:\n",
      "Matrix is singular.\n",
      "  warnings.warn(\n"
     ]
    },
    {
     "name": "stdout",
     "output_type": "stream",
     "text": [
      "[CV 7/10; 40/100] END C=10, class_weight={0: 1, 1: 1000}, solver=newton-cholesky;, score=-0.942 total time=   3.5s\n",
      "[CV 4/10; 44/100] END C=100, class_weight={0: 1, 1: 10}, solver=newton-cholesky;, score=0.565 total time=   0.5s\n",
      "[CV 9/10; 44/100] START C=100, class_weight={0: 1, 1: 10}, solver=newton-cholesky\n",
      "[CV 10/10; 44/100] START C=100, class_weight={0: 1, 1: 10}, solver=newton-cholesky\n"
     ]
    },
    {
     "name": "stderr",
     "output_type": "stream",
     "text": [
      "/opt/mamba/lib/python3.10/site-packages/sklearn/linear_model/_glm/_newton_solver.py:491: LinAlgWarning: The inner solver of NewtonCholeskySolver stumbled upon a singular or very ill-conditioned Hessian matrix at iteration #3. It will now resort to lbfgs instead.\n",
      "Further options are to use another solver or to avoid such situation in the first place. Possible remedies are removing collinear features of X or increasing the penalization strengths.\n",
      "The original Linear Algebra message was:\n",
      "Matrix is singular.\n",
      "  warnings.warn(\n"
     ]
    },
    {
     "name": "stdout",
     "output_type": "stream",
     "text": [
      "[CV 6/10; 39/100] END C=10, class_weight={0: 1, 1: 1000}, solver=liblinear;, score=-0.830 total time=   4.7s\n",
      "[CV 1/10; 45/100] START C=100, class_weight={0: 1, 1: 14}, solver=liblinear.....\n",
      "[CV 3/10; 42/100] END C=100, class_weight={0: 1, 1: 1}, solver=newton-cholesky;, score=0.245 total time=   2.5s\n"
     ]
    },
    {
     "name": "stderr",
     "output_type": "stream",
     "text": [
      "/opt/mamba/lib/python3.10/site-packages/sklearn/linear_model/_glm/_newton_solver.py:491: LinAlgWarning: The inner solver of NewtonCholeskySolver stumbled upon a singular or very ill-conditioned Hessian matrix at iteration #3. It will now resort to lbfgs instead.\n",
      "Further options are to use another solver or to avoid such situation in the first place. Possible remedies are removing collinear features of X or increasing the penalization strengths.\n",
      "The original Linear Algebra message was:\n",
      "Matrix is singular.\n",
      "  warnings.warn(\n",
      "/opt/mamba/lib/python3.10/site-packages/sklearn/linear_model/_glm/_newton_solver.py:195: ConvergenceWarning: lbfgs failed to converge (status=1):\n",
      "STOP: TOTAL NO. of ITERATIONS REACHED LIMIT.\n",
      "\n",
      "Increase the number of iterations (max_iter) or scale the data as shown in:\n",
      "    https://scikit-learn.org/stable/modules/preprocessing.html\n",
      "  self.n_iter_ = _check_optimize_result(\"lbfgs\", opt_res)\n",
      "/opt/mamba/lib/python3.10/site-packages/sklearn/linear_model/_glm/_newton_solver.py:491: LinAlgWarning: The inner solver of NewtonCholeskySolver stumbled upon a singular or very ill-conditioned Hessian matrix at iteration #3. It will now resort to lbfgs instead.\n",
      "Further options are to use another solver or to avoid such situation in the first place. Possible remedies are removing collinear features of X or increasing the penalization strengths.\n",
      "The original Linear Algebra message was:\n",
      "Matrix is singular.\n",
      "  warnings.warn(\n"
     ]
    },
    {
     "name": "stdout",
     "output_type": "stream",
     "text": [
      "[CV 2/10; 45/100] START C=100, class_weight={0: 1, 1: 14}, solver=liblinear.....\n",
      "[CV 4/10; 41/100] END C=100, class_weight={0: 1, 1: 1}, solver=liblinear;, score=0.215 total time=   3.3s\n",
      "[CV 3/10; 45/100] START C=100, class_weight={0: 1, 1: 14}, solver=liblinear.....\n",
      "[CV 1/10; 42/100] END C=100, class_weight={0: 1, 1: 1}, solver=newton-cholesky;, score=0.292 total time=   3.0s\n",
      "[CV 4/10; 45/100] START C=100, class_weight={0: 1, 1: 14}, solver=liblinear.....\n"
     ]
    },
    {
     "name": "stderr",
     "output_type": "stream",
     "text": [
      "/opt/mamba/lib/python3.10/site-packages/sklearn/linear_model/_glm/_newton_solver.py:195: ConvergenceWarning: lbfgs failed to converge (status=1):\n",
      "STOP: TOTAL NO. of ITERATIONS REACHED LIMIT.\n",
      "\n",
      "Increase the number of iterations (max_iter) or scale the data as shown in:\n",
      "    https://scikit-learn.org/stable/modules/preprocessing.html\n",
      "  self.n_iter_ = _check_optimize_result(\"lbfgs\", opt_res)\n",
      "/opt/mamba/lib/python3.10/site-packages/sklearn/linear_model/_glm/_newton_solver.py:195: ConvergenceWarning: lbfgs failed to converge (status=1):\n",
      "STOP: TOTAL NO. of ITERATIONS REACHED LIMIT.\n",
      "\n",
      "Increase the number of iterations (max_iter) or scale the data as shown in:\n",
      "    https://scikit-learn.org/stable/modules/preprocessing.html\n",
      "  self.n_iter_ = _check_optimize_result(\"lbfgs\", opt_res)\n",
      "/opt/mamba/lib/python3.10/site-packages/sklearn/linear_model/_glm/_newton_solver.py:195: ConvergenceWarning: lbfgs failed to converge (status=1):\n",
      "STOP: TOTAL NO. of ITERATIONS REACHED LIMIT.\n",
      "\n",
      "Increase the number of iterations (max_iter) or scale the data as shown in:\n",
      "    https://scikit-learn.org/stable/modules/preprocessing.html\n",
      "  self.n_iter_ = _check_optimize_result(\"lbfgs\", opt_res)\n"
     ]
    },
    {
     "name": "stdout",
     "output_type": "stream",
     "text": [
      "[CV 5/10; 42/100] END C=100, class_weight={0: 1, 1: 1}, solver=newton-cholesky;, score=0.314 total time=   2.8s\n",
      "[CV 8/10; 42/100] END C=100, class_weight={0: 1, 1: 1}, solver=newton-cholesky;, score=0.205 total time=   2.5s\n",
      "[CV 5/10; 45/100] START C=100, class_weight={0: 1, 1: 14}, solver=liblinear.....\n",
      "[CV 6/10; 45/100] START C=100, class_weight={0: 1, 1: 14}, solver=liblinear.....\n",
      "[CV 2/10; 42/100] END C=100, class_weight={0: 1, 1: 1}, solver=newton-cholesky;, score=0.286 total time=   3.1s\n"
     ]
    },
    {
     "name": "stderr",
     "output_type": "stream",
     "text": [
      "/opt/mamba/lib/python3.10/site-packages/sklearn/linear_model/_glm/_newton_solver.py:195: ConvergenceWarning: lbfgs failed to converge (status=1):\n",
      "STOP: TOTAL NO. of ITERATIONS REACHED LIMIT.\n",
      "\n",
      "Increase the number of iterations (max_iter) or scale the data as shown in:\n",
      "    https://scikit-learn.org/stable/modules/preprocessing.html\n",
      "  self.n_iter_ = _check_optimize_result(\"lbfgs\", opt_res)\n",
      "/opt/mamba/lib/python3.10/site-packages/sklearn/linear_model/_glm/_newton_solver.py:195: ConvergenceWarning: lbfgs failed to converge (status=1):\n",
      "STOP: TOTAL NO. of ITERATIONS REACHED LIMIT.\n",
      "\n",
      "Increase the number of iterations (max_iter) or scale the data as shown in:\n",
      "    https://scikit-learn.org/stable/modules/preprocessing.html\n",
      "  self.n_iter_ = _check_optimize_result(\"lbfgs\", opt_res)\n"
     ]
    },
    {
     "name": "stdout",
     "output_type": "stream",
     "text": [
      "[CV 7/10; 45/100] START C=100, class_weight={0: 1, 1: 14}, solver=liblinear.....\n",
      "[CV 3/10; 41/100] END C=100, class_weight={0: 1, 1: 1}, solver=liblinear;, score=0.248 total time=   4.0s\n",
      "[CV 6/10; 42/100] END C=100, class_weight={0: 1, 1: 1}, solver=newton-cholesky;, score=0.249 total time=   3.1s\n",
      "[CV 1/10; 41/100] END C=100, class_weight={0: 1, 1: 1}, solver=liblinear;, score=0.292 total time=   4.2s\n",
      "[CV 8/10; 45/100] START C=100, class_weight={0: 1, 1: 14}, solver=liblinear.....\n"
     ]
    },
    {
     "name": "stderr",
     "output_type": "stream",
     "text": [
      "/opt/mamba/lib/python3.10/site-packages/sklearn/linear_model/_glm/_newton_solver.py:195: ConvergenceWarning: lbfgs failed to converge (status=1):\n",
      "STOP: TOTAL NO. of ITERATIONS REACHED LIMIT.\n",
      "\n",
      "Increase the number of iterations (max_iter) or scale the data as shown in:\n",
      "    https://scikit-learn.org/stable/modules/preprocessing.html\n",
      "  self.n_iter_ = _check_optimize_result(\"lbfgs\", opt_res)\n",
      "/opt/mamba/lib/python3.10/site-packages/sklearn/linear_model/_glm/_newton_solver.py:195: ConvergenceWarning: lbfgs failed to converge (status=1):\n",
      "STOP: TOTAL NO. of ITERATIONS REACHED LIMIT.\n",
      "\n",
      "Increase the number of iterations (max_iter) or scale the data as shown in:\n",
      "    https://scikit-learn.org/stable/modules/preprocessing.html\n",
      "  self.n_iter_ = _check_optimize_result(\"lbfgs\", opt_res)\n"
     ]
    },
    {
     "name": "stdout",
     "output_type": "stream",
     "text": [
      "[CV 9/10; 45/100] START C=100, class_weight={0: 1, 1: 14}, solver=liblinear.....\n",
      "[CV 9/10; 42/100] END C=100, class_weight={0: 1, 1: 1}, solver=newton-cholesky;, score=0.207 total time=   2.9s\n",
      "[CV 10/10; 45/100] START C=100, class_weight={0: 1, 1: 14}, solver=liblinear....\n",
      "[CV 1/10; 46/100] START C=100, class_weight={0: 1, 1: 14}, solver=newton-cholesky\n",
      "[CV 7/10; 42/100] END C=100, class_weight={0: 1, 1: 1}, solver=newton-cholesky;, score=0.244 total time=   3.1s\n",
      "[CV 2/10; 46/100] START C=100, class_weight={0: 1, 1: 14}, solver=newton-cholesky\n",
      "[CV 10/10; 41/100] END C=100, class_weight={0: 1, 1: 1}, solver=liblinear;, score=0.304 total time=   4.1s\n",
      "[CV 10/10; 42/100] END C=100, class_weight={0: 1, 1: 1}, solver=newton-cholesky;, score=0.293 total time=   3.1s\n",
      "[CV 3/10; 46/100] START C=100, class_weight={0: 1, 1: 14}, solver=newton-cholesky\n",
      "[CV 4/10; 46/100] START C=100, class_weight={0: 1, 1: 14}, solver=newton-cholesky\n"
     ]
    },
    {
     "name": "stderr",
     "output_type": "stream",
     "text": [
      "/opt/mamba/lib/python3.10/site-packages/sklearn/linear_model/_glm/_newton_solver.py:195: ConvergenceWarning: lbfgs failed to converge (status=1):\n",
      "STOP: TOTAL NO. of ITERATIONS REACHED LIMIT.\n",
      "\n",
      "Increase the number of iterations (max_iter) or scale the data as shown in:\n",
      "    https://scikit-learn.org/stable/modules/preprocessing.html\n",
      "  self.n_iter_ = _check_optimize_result(\"lbfgs\", opt_res)\n",
      "/opt/mamba/lib/python3.10/site-packages/sklearn/linear_model/_glm/_newton_solver.py:195: ConvergenceWarning: lbfgs failed to converge (status=1):\n",
      "STOP: TOTAL NO. of ITERATIONS REACHED LIMIT.\n",
      "\n",
      "Increase the number of iterations (max_iter) or scale the data as shown in:\n",
      "    https://scikit-learn.org/stable/modules/preprocessing.html\n",
      "  self.n_iter_ = _check_optimize_result(\"lbfgs\", opt_res)\n",
      "/opt/mamba/lib/python3.10/site-packages/sklearn/linear_model/_glm/_newton_solver.py:195: ConvergenceWarning: lbfgs failed to converge (status=1):\n",
      "STOP: TOTAL NO. of ITERATIONS REACHED LIMIT.\n",
      "\n",
      "Increase the number of iterations (max_iter) or scale the data as shown in:\n",
      "    https://scikit-learn.org/stable/modules/preprocessing.html\n",
      "  self.n_iter_ = _check_optimize_result(\"lbfgs\", opt_res)\n",
      "/opt/mamba/lib/python3.10/site-packages/sklearn/linear_model/_glm/_newton_solver.py:491: LinAlgWarning: The inner solver of NewtonCholeskySolver stumbled upon a singular or very ill-conditioned Hessian matrix at iteration #3. It will now resort to lbfgs instead.\n",
      "Further options are to use another solver or to avoid such situation in the first place. Possible remedies are removing collinear features of X or increasing the penalization strengths.\n",
      "The original Linear Algebra message was:\n",
      "Matrix is singular.\n",
      "  warnings.warn(\n",
      "/opt/mamba/lib/python3.10/site-packages/sklearn/linear_model/_glm/_newton_solver.py:491: LinAlgWarning: The inner solver of NewtonCholeskySolver stumbled upon a singular or very ill-conditioned Hessian matrix at iteration #3. It will now resort to lbfgs instead.\n",
      "Further options are to use another solver or to avoid such situation in the first place. Possible remedies are removing collinear features of X or increasing the penalization strengths.\n",
      "The original Linear Algebra message was:\n",
      "Matrix is singular.\n",
      "  warnings.warn(\n",
      "/opt/mamba/lib/python3.10/site-packages/sklearn/linear_model/_glm/_newton_solver.py:491: LinAlgWarning: The inner solver of NewtonCholeskySolver stumbled upon a singular or very ill-conditioned Hessian matrix at iteration #3. It will now resort to lbfgs instead.\n",
      "Further options are to use another solver or to avoid such situation in the first place. Possible remedies are removing collinear features of X or increasing the penalization strengths.\n",
      "The original Linear Algebra message was:\n",
      "Matrix is singular.\n",
      "  warnings.warn(\n"
     ]
    },
    {
     "name": "stdout",
     "output_type": "stream",
     "text": [
      "[CV 3/10; 44/100] END C=100, class_weight={0: 1, 1: 10}, solver=newton-cholesky;, score=0.572 total time=   2.4s\n",
      "[CV 5/10; 46/100] START C=100, class_weight={0: 1, 1: 14}, solver=newton-cholesky\n",
      "[CV 2/10; 44/100] END C=100, class_weight={0: 1, 1: 10}, solver=newton-cholesky;, score=0.530 total time=   2.5s\n",
      "[CV 4/10; 35/100] END C=10, class_weight={0: 1, 1: 100}, solver=liblinear;, score=-0.591 total time=  11.8s\n",
      "[CV 6/10; 46/100] START C=100, class_weight={0: 1, 1: 14}, solver=newton-cholesky\n",
      "[CV 7/10; 46/100] START C=100, class_weight={0: 1, 1: 14}, solver=newton-cholesky\n"
     ]
    },
    {
     "name": "stderr",
     "output_type": "stream",
     "text": [
      "/opt/mamba/lib/python3.10/site-packages/sklearn/linear_model/_glm/_newton_solver.py:195: ConvergenceWarning: lbfgs failed to converge (status=1):\n",
      "STOP: TOTAL NO. of ITERATIONS REACHED LIMIT.\n",
      "\n",
      "Increase the number of iterations (max_iter) or scale the data as shown in:\n",
      "    https://scikit-learn.org/stable/modules/preprocessing.html\n",
      "  self.n_iter_ = _check_optimize_result(\"lbfgs\", opt_res)\n",
      "/opt/mamba/lib/python3.10/site-packages/sklearn/linear_model/_glm/_newton_solver.py:195: ConvergenceWarning: lbfgs failed to converge (status=1):\n",
      "STOP: TOTAL NO. of ITERATIONS REACHED LIMIT.\n",
      "\n",
      "Increase the number of iterations (max_iter) or scale the data as shown in:\n",
      "    https://scikit-learn.org/stable/modules/preprocessing.html\n",
      "  self.n_iter_ = _check_optimize_result(\"lbfgs\", opt_res)\n",
      "/opt/mamba/lib/python3.10/site-packages/sklearn/linear_model/_glm/_newton_solver.py:491: LinAlgWarning: The inner solver of NewtonCholeskySolver stumbled upon a singular or very ill-conditioned Hessian matrix at iteration #3. It will now resort to lbfgs instead.\n",
      "Further options are to use another solver or to avoid such situation in the first place. Possible remedies are removing collinear features of X or increasing the penalization strengths.\n",
      "The original Linear Algebra message was:\n",
      "Matrix is singular.\n",
      "  warnings.warn(\n",
      "/opt/mamba/lib/python3.10/site-packages/sklearn/linear_model/_glm/_newton_solver.py:195: ConvergenceWarning: lbfgs failed to converge (status=1):\n",
      "STOP: TOTAL NO. of ITERATIONS REACHED LIMIT.\n",
      "\n",
      "Increase the number of iterations (max_iter) or scale the data as shown in:\n",
      "    https://scikit-learn.org/stable/modules/preprocessing.html\n",
      "  self.n_iter_ = _check_optimize_result(\"lbfgs\", opt_res)\n",
      "/opt/mamba/lib/python3.10/site-packages/sklearn/linear_model/_glm/_newton_solver.py:491: LinAlgWarning: The inner solver of NewtonCholeskySolver stumbled upon a singular or very ill-conditioned Hessian matrix at iteration #3. It will now resort to lbfgs instead.\n",
      "Further options are to use another solver or to avoid such situation in the first place. Possible remedies are removing collinear features of X or increasing the penalization strengths.\n",
      "The original Linear Algebra message was:\n",
      "Matrix is singular.\n",
      "  warnings.warn(\n"
     ]
    },
    {
     "name": "stdout",
     "output_type": "stream",
     "text": [
      "[CV 7/10; 44/100] END C=100, class_weight={0: 1, 1: 10}, solver=newton-cholesky;, score=0.543 total time=   2.4s\n",
      "[CV 8/10; 46/100] START C=100, class_weight={0: 1, 1: 14}, solver=newton-cholesky\n",
      "[CV 6/10; 44/100] END C=100, class_weight={0: 1, 1: 10}, solver=newton-cholesky;, score=0.545 total time=   2.6s\n",
      "[CV 1/10; 44/100] END C=100, class_weight={0: 1, 1: 10}, solver=newton-cholesky;, score=0.488 total time=   2.9s\n",
      "[CV 9/10; 46/100] START C=100, class_weight={0: 1, 1: 14}, solver=newton-cholesky\n",
      "[CV 10/10; 46/100] START C=100, class_weight={0: 1, 1: 14}, solver=newton-cholesky\n"
     ]
    },
    {
     "name": "stderr",
     "output_type": "stream",
     "text": [
      "/opt/mamba/lib/python3.10/site-packages/sklearn/linear_model/_glm/_newton_solver.py:491: LinAlgWarning: The inner solver of NewtonCholeskySolver stumbled upon a singular or very ill-conditioned Hessian matrix at iteration #3. It will now resort to lbfgs instead.\n",
      "Further options are to use another solver or to avoid such situation in the first place. Possible remedies are removing collinear features of X or increasing the penalization strengths.\n",
      "The original Linear Algebra message was:\n",
      "Matrix is singular.\n",
      "  warnings.warn(\n",
      "/opt/mamba/lib/python3.10/site-packages/sklearn/linear_model/_glm/_newton_solver.py:491: LinAlgWarning: The inner solver of NewtonCholeskySolver stumbled upon a singular or very ill-conditioned Hessian matrix at iteration #3. It will now resort to lbfgs instead.\n",
      "Further options are to use another solver or to avoid such situation in the first place. Possible remedies are removing collinear features of X or increasing the penalization strengths.\n",
      "The original Linear Algebra message was:\n",
      "Matrix is singular.\n",
      "  warnings.warn(\n"
     ]
    },
    {
     "name": "stdout",
     "output_type": "stream",
     "text": [
      "[CV 4/10; 46/100] END C=100, class_weight={0: 1, 1: 14}, solver=newton-cholesky;, score=0.497 total time=   0.6s\n",
      "[CV 1/10; 47/100] START C=100, class_weight={0: 1, 1: 15}, solver=liblinear.....\n"
     ]
    },
    {
     "name": "stderr",
     "output_type": "stream",
     "text": [
      "/opt/mamba/lib/python3.10/site-packages/sklearn/linear_model/_glm/_newton_solver.py:491: LinAlgWarning: The inner solver of NewtonCholeskySolver stumbled upon a singular or very ill-conditioned Hessian matrix at iteration #3. It will now resort to lbfgs instead.\n",
      "Further options are to use another solver or to avoid such situation in the first place. Possible remedies are removing collinear features of X or increasing the penalization strengths.\n",
      "The original Linear Algebra message was:\n",
      "Matrix is singular.\n",
      "  warnings.warn(\n",
      "/opt/mamba/lib/python3.10/site-packages/sklearn/linear_model/_glm/_newton_solver.py:491: LinAlgWarning: The inner solver of NewtonCholeskySolver stumbled upon a singular or very ill-conditioned Hessian matrix at iteration #3. It will now resort to lbfgs instead.\n",
      "Further options are to use another solver or to avoid such situation in the first place. Possible remedies are removing collinear features of X or increasing the penalization strengths.\n",
      "The original Linear Algebra message was:\n",
      "Matrix is singular.\n",
      "  warnings.warn(\n",
      "/opt/mamba/lib/python3.10/site-packages/sklearn/linear_model/_glm/_newton_solver.py:195: ConvergenceWarning: lbfgs failed to converge (status=1):\n",
      "STOP: TOTAL NO. of ITERATIONS REACHED LIMIT.\n",
      "\n",
      "Increase the number of iterations (max_iter) or scale the data as shown in:\n",
      "    https://scikit-learn.org/stable/modules/preprocessing.html\n",
      "  self.n_iter_ = _check_optimize_result(\"lbfgs\", opt_res)\n",
      "/opt/mamba/lib/python3.10/site-packages/sklearn/linear_model/_glm/_newton_solver.py:195: ConvergenceWarning: lbfgs failed to converge (status=1):\n",
      "STOP: TOTAL NO. of ITERATIONS REACHED LIMIT.\n",
      "\n",
      "Increase the number of iterations (max_iter) or scale the data as shown in:\n",
      "    https://scikit-learn.org/stable/modules/preprocessing.html\n",
      "  self.n_iter_ = _check_optimize_result(\"lbfgs\", opt_res)\n",
      "/opt/mamba/lib/python3.10/site-packages/sklearn/linear_model/_glm/_newton_solver.py:195: ConvergenceWarning: lbfgs failed to converge (status=1):\n",
      "STOP: TOTAL NO. of ITERATIONS REACHED LIMIT.\n",
      "\n",
      "Increase the number of iterations (max_iter) or scale the data as shown in:\n",
      "    https://scikit-learn.org/stable/modules/preprocessing.html\n",
      "  self.n_iter_ = _check_optimize_result(\"lbfgs\", opt_res)\n"
     ]
    },
    {
     "name": "stdout",
     "output_type": "stream",
     "text": [
      "[CV 10/10; 44/100] END C=100, class_weight={0: 1, 1: 10}, solver=newton-cholesky;, score=0.498 total time=   2.8s\n",
      "[CV 2/10; 47/100] START C=100, class_weight={0: 1, 1: 15}, solver=liblinear.....\n",
      "[CV 8/10; 44/100] END C=100, class_weight={0: 1, 1: 10}, solver=newton-cholesky;, score=0.517 total time=   3.2s\n"
     ]
    },
    {
     "name": "stderr",
     "output_type": "stream",
     "text": [
      "/opt/mamba/lib/python3.10/site-packages/sklearn/linear_model/_glm/_newton_solver.py:195: ConvergenceWarning: lbfgs failed to converge (status=1):\n",
      "STOP: TOTAL NO. of ITERATIONS REACHED LIMIT.\n",
      "\n",
      "Increase the number of iterations (max_iter) or scale the data as shown in:\n",
      "    https://scikit-learn.org/stable/modules/preprocessing.html\n",
      "  self.n_iter_ = _check_optimize_result(\"lbfgs\", opt_res)\n"
     ]
    },
    {
     "name": "stdout",
     "output_type": "stream",
     "text": [
      "[CV 5/10; 44/100] END C=100, class_weight={0: 1, 1: 10}, solver=newton-cholesky;, score=0.563 total time=   3.5s\n",
      "[CV 3/10; 47/100] START C=100, class_weight={0: 1, 1: 15}, solver=liblinear.....\n",
      "[CV 9/10; 44/100] END C=100, class_weight={0: 1, 1: 10}, solver=newton-cholesky;, score=0.539 total time=   3.1s\n",
      "[CV 4/10; 47/100] START C=100, class_weight={0: 1, 1: 15}, solver=liblinear.....\n",
      "[CV 5/10; 47/100] START C=100, class_weight={0: 1, 1: 15}, solver=liblinear.....\n",
      "[CV 2/10; 41/100] END C=100, class_weight={0: 1, 1: 1}, solver=liblinear;, score=0.286 total time=   6.2s\n",
      "[CV 6/10; 47/100] START C=100, class_weight={0: 1, 1: 15}, solver=liblinear.....\n",
      "[CV 8/10; 41/100] END C=100, class_weight={0: 1, 1: 1}, solver=liblinear;, score=0.212 total time=   6.0s\n",
      "[CV 7/10; 47/100] START C=100, class_weight={0: 1, 1: 15}, solver=liblinear.....\n",
      "[CV 5/10; 41/100] END C=100, class_weight={0: 1, 1: 1}, solver=liblinear;, score=0.313 total time=   6.5s\n",
      "[CV 8/10; 47/100] START C=100, class_weight={0: 1, 1: 15}, solver=liblinear.....\n",
      "[CV 7/10; 41/100] END C=100, class_weight={0: 1, 1: 1}, solver=liblinear;, score=0.244 total time=   6.5s\n",
      "[CV 3/10; 46/100] END C=100, class_weight={0: 1, 1: 14}, solver=newton-cholesky;, score=0.472 total time=   2.2s\n",
      "[CV 9/10; 47/100] START C=100, class_weight={0: 1, 1: 15}, solver=liblinear.....\n"
     ]
    },
    {
     "name": "stderr",
     "output_type": "stream",
     "text": [
      "/opt/mamba/lib/python3.10/site-packages/sklearn/linear_model/_glm/_newton_solver.py:195: ConvergenceWarning: lbfgs failed to converge (status=1):\n",
      "STOP: TOTAL NO. of ITERATIONS REACHED LIMIT.\n",
      "\n",
      "Increase the number of iterations (max_iter) or scale the data as shown in:\n",
      "    https://scikit-learn.org/stable/modules/preprocessing.html\n",
      "  self.n_iter_ = _check_optimize_result(\"lbfgs\", opt_res)\n"
     ]
    },
    {
     "name": "stdout",
     "output_type": "stream",
     "text": [
      "[CV 10/10; 47/100] START C=100, class_weight={0: 1, 1: 15}, solver=liblinear....\n"
     ]
    },
    {
     "name": "stderr",
     "output_type": "stream",
     "text": [
      "/opt/mamba/lib/python3.10/site-packages/sklearn/linear_model/_glm/_newton_solver.py:195: ConvergenceWarning: lbfgs failed to converge (status=1):\n",
      "STOP: TOTAL NO. of ITERATIONS REACHED LIMIT.\n",
      "\n",
      "Increase the number of iterations (max_iter) or scale the data as shown in:\n",
      "    https://scikit-learn.org/stable/modules/preprocessing.html\n",
      "  self.n_iter_ = _check_optimize_result(\"lbfgs\", opt_res)\n",
      "/opt/mamba/lib/python3.10/site-packages/sklearn/linear_model/_glm/_newton_solver.py:195: ConvergenceWarning: lbfgs failed to converge (status=1):\n",
      "STOP: TOTAL NO. of ITERATIONS REACHED LIMIT.\n",
      "\n",
      "Increase the number of iterations (max_iter) or scale the data as shown in:\n",
      "    https://scikit-learn.org/stable/modules/preprocessing.html\n",
      "  self.n_iter_ = _check_optimize_result(\"lbfgs\", opt_res)\n"
     ]
    },
    {
     "name": "stdout",
     "output_type": "stream",
     "text": [
      "[CV 6/10; 46/100] END C=100, class_weight={0: 1, 1: 14}, solver=newton-cholesky;, score=0.447 total time=   2.3s\n",
      "[CV 1/10; 48/100] START C=100, class_weight={0: 1, 1: 15}, solver=newton-cholesky\n",
      "[CV 5/10; 46/100] END C=100, class_weight={0: 1, 1: 14}, solver=newton-cholesky;, score=0.475 total time=   2.5s\n",
      "[CV 2/10; 48/100] START C=100, class_weight={0: 1, 1: 15}, solver=newton-cholesky\n",
      "[CV 9/10; 41/100] END C=100, class_weight={0: 1, 1: 1}, solver=liblinear;, score=0.212 total time=   7.0s\n",
      "[CV 7/10; 46/100] END C=100, class_weight={0: 1, 1: 14}, solver=newton-cholesky;, score=0.493 total time=   2.5s\n",
      "[CV 3/10; 48/100] START C=100, class_weight={0: 1, 1: 15}, solver=newton-cholesky\n",
      "[CV 4/10; 48/100] START C=100, class_weight={0: 1, 1: 15}, solver=newton-cholesky\n"
     ]
    },
    {
     "name": "stderr",
     "output_type": "stream",
     "text": [
      "/opt/mamba/lib/python3.10/site-packages/sklearn/linear_model/_glm/_newton_solver.py:195: ConvergenceWarning: lbfgs failed to converge (status=1):\n",
      "STOP: TOTAL NO. of ITERATIONS REACHED LIMIT.\n",
      "\n",
      "Increase the number of iterations (max_iter) or scale the data as shown in:\n",
      "    https://scikit-learn.org/stable/modules/preprocessing.html\n",
      "  self.n_iter_ = _check_optimize_result(\"lbfgs\", opt_res)\n",
      "/opt/mamba/lib/python3.10/site-packages/sklearn/linear_model/_glm/_newton_solver.py:491: LinAlgWarning: The inner solver of NewtonCholeskySolver stumbled upon a singular or very ill-conditioned Hessian matrix at iteration #3. It will now resort to lbfgs instead.\n",
      "Further options are to use another solver or to avoid such situation in the first place. Possible remedies are removing collinear features of X or increasing the penalization strengths.\n",
      "The original Linear Algebra message was:\n",
      "Matrix is singular.\n",
      "  warnings.warn(\n",
      "/opt/mamba/lib/python3.10/site-packages/sklearn/linear_model/_glm/_newton_solver.py:195: ConvergenceWarning: lbfgs failed to converge (status=1):\n",
      "STOP: TOTAL NO. of ITERATIONS REACHED LIMIT.\n",
      "\n",
      "Increase the number of iterations (max_iter) or scale the data as shown in:\n",
      "    https://scikit-learn.org/stable/modules/preprocessing.html\n",
      "  self.n_iter_ = _check_optimize_result(\"lbfgs\", opt_res)\n",
      "/opt/mamba/lib/python3.10/site-packages/sklearn/linear_model/_glm/_newton_solver.py:491: LinAlgWarning: The inner solver of NewtonCholeskySolver stumbled upon a singular or very ill-conditioned Hessian matrix at iteration #3. It will now resort to lbfgs instead.\n",
      "Further options are to use another solver or to avoid such situation in the first place. Possible remedies are removing collinear features of X or increasing the penalization strengths.\n",
      "The original Linear Algebra message was:\n",
      "Matrix is singular.\n",
      "  warnings.warn(\n",
      "/opt/mamba/lib/python3.10/site-packages/sklearn/linear_model/_glm/_newton_solver.py:195: ConvergenceWarning: lbfgs failed to converge (status=1):\n",
      "STOP: TOTAL NO. of ITERATIONS REACHED LIMIT.\n",
      "\n",
      "Increase the number of iterations (max_iter) or scale the data as shown in:\n",
      "    https://scikit-learn.org/stable/modules/preprocessing.html\n",
      "  self.n_iter_ = _check_optimize_result(\"lbfgs\", opt_res)\n",
      "/opt/mamba/lib/python3.10/site-packages/sklearn/linear_model/_glm/_newton_solver.py:491: LinAlgWarning: The inner solver of NewtonCholeskySolver stumbled upon a singular or very ill-conditioned Hessian matrix at iteration #3. It will now resort to lbfgs instead.\n",
      "Further options are to use another solver or to avoid such situation in the first place. Possible remedies are removing collinear features of X or increasing the penalization strengths.\n",
      "The original Linear Algebra message was:\n",
      "Matrix is singular.\n",
      "  warnings.warn(\n"
     ]
    },
    {
     "name": "stdout",
     "output_type": "stream",
     "text": [
      "[CV 2/10; 46/100] END C=100, class_weight={0: 1, 1: 14}, solver=newton-cholesky;, score=0.470 total time=   3.2s\n",
      "[CV 5/10; 48/100] START C=100, class_weight={0: 1, 1: 15}, solver=newton-cholesky\n",
      "[CV 1/10; 46/100] END C=100, class_weight={0: 1, 1: 14}, solver=newton-cholesky;, score=0.390 total time=   3.4s\n",
      "[CV 6/10; 48/100] START C=100, class_weight={0: 1, 1: 15}, solver=newton-cholesky\n"
     ]
    },
    {
     "name": "stderr",
     "output_type": "stream",
     "text": [
      "/opt/mamba/lib/python3.10/site-packages/sklearn/linear_model/_glm/_newton_solver.py:491: LinAlgWarning: The inner solver of NewtonCholeskySolver stumbled upon a singular or very ill-conditioned Hessian matrix at iteration #3. It will now resort to lbfgs instead.\n",
      "Further options are to use another solver or to avoid such situation in the first place. Possible remedies are removing collinear features of X or increasing the penalization strengths.\n",
      "The original Linear Algebra message was:\n",
      "Matrix is singular.\n",
      "  warnings.warn(\n",
      "/opt/mamba/lib/python3.10/site-packages/sklearn/linear_model/_glm/_newton_solver.py:491: LinAlgWarning: The inner solver of NewtonCholeskySolver stumbled upon a singular or very ill-conditioned Hessian matrix at iteration #3. It will now resort to lbfgs instead.\n",
      "Further options are to use another solver or to avoid such situation in the first place. Possible remedies are removing collinear features of X or increasing the penalization strengths.\n",
      "The original Linear Algebra message was:\n",
      "Matrix is singular.\n",
      "  warnings.warn(\n",
      "/opt/mamba/lib/python3.10/site-packages/sklearn/linear_model/_glm/_newton_solver.py:195: ConvergenceWarning: lbfgs failed to converge (status=1):\n",
      "STOP: TOTAL NO. of ITERATIONS REACHED LIMIT.\n",
      "\n",
      "Increase the number of iterations (max_iter) or scale the data as shown in:\n",
      "    https://scikit-learn.org/stable/modules/preprocessing.html\n",
      "  self.n_iter_ = _check_optimize_result(\"lbfgs\", opt_res)\n"
     ]
    },
    {
     "name": "stdout",
     "output_type": "stream",
     "text": [
      "[CV 4/10; 48/100] END C=100, class_weight={0: 1, 1: 15}, solver=newton-cholesky;, score=0.476 total time=   0.6s\n",
      "[CV 7/10; 48/100] START C=100, class_weight={0: 1, 1: 15}, solver=newton-cholesky\n",
      "[CV 9/10; 46/100] END C=100, class_weight={0: 1, 1: 14}, solver=newton-cholesky;, score=0.446 total time=   3.1s\n",
      "[CV 10/10; 46/100] END C=100, class_weight={0: 1, 1: 14}, solver=newton-cholesky;, score=0.440 total time=   3.1s\n",
      "[CV 8/10; 48/100] START C=100, class_weight={0: 1, 1: 15}, solver=newton-cholesky\n"
     ]
    },
    {
     "name": "stderr",
     "output_type": "stream",
     "text": [
      "/opt/mamba/lib/python3.10/site-packages/sklearn/linear_model/_glm/_newton_solver.py:195: ConvergenceWarning: lbfgs failed to converge (status=1):\n",
      "STOP: TOTAL NO. of ITERATIONS REACHED LIMIT.\n",
      "\n",
      "Increase the number of iterations (max_iter) or scale the data as shown in:\n",
      "    https://scikit-learn.org/stable/modules/preprocessing.html\n",
      "  self.n_iter_ = _check_optimize_result(\"lbfgs\", opt_res)\n"
     ]
    },
    {
     "name": "stdout",
     "output_type": "stream",
     "text": [
      "[CV 9/10; 48/100] START C=100, class_weight={0: 1, 1: 15}, solver=newton-cholesky\n",
      "[CV 2/10; 45/100] END C=100, class_weight={0: 1, 1: 14}, solver=liblinear;, score=0.474 total time=   4.9s\n",
      "[CV 10/10; 48/100] START C=100, class_weight={0: 1, 1: 15}, solver=newton-cholesky\n",
      "[CV 3/10; 45/100] END C=100, class_weight={0: 1, 1: 14}, solver=liblinear;, score=0.479 total time=   5.0s\n",
      "[CV 8/10; 46/100] END C=100, class_weight={0: 1, 1: 14}, solver=newton-cholesky;, score=0.411 total time=   3.5s\n"
     ]
    },
    {
     "name": "stderr",
     "output_type": "stream",
     "text": [
      "/opt/mamba/lib/python3.10/site-packages/sklearn/linear_model/_glm/_newton_solver.py:195: ConvergenceWarning: lbfgs failed to converge (status=1):\n",
      "STOP: TOTAL NO. of ITERATIONS REACHED LIMIT.\n",
      "\n",
      "Increase the number of iterations (max_iter) or scale the data as shown in:\n",
      "    https://scikit-learn.org/stable/modules/preprocessing.html\n",
      "  self.n_iter_ = _check_optimize_result(\"lbfgs\", opt_res)\n",
      "/opt/mamba/lib/python3.10/site-packages/sklearn/linear_model/_glm/_newton_solver.py:491: LinAlgWarning: The inner solver of NewtonCholeskySolver stumbled upon a singular or very ill-conditioned Hessian matrix at iteration #3. It will now resort to lbfgs instead.\n",
      "Further options are to use another solver or to avoid such situation in the first place. Possible remedies are removing collinear features of X or increasing the penalization strengths.\n",
      "The original Linear Algebra message was:\n",
      "Matrix is singular.\n",
      "  warnings.warn(\n"
     ]
    },
    {
     "name": "stdout",
     "output_type": "stream",
     "text": [
      "[CV 1/10; 49/100] START C=100, class_weight={0: 1, 1: 16}, solver=liblinear.....\n",
      "[CV 2/10; 49/100] START C=100, class_weight={0: 1, 1: 16}, solver=liblinear.....\n",
      "[CV 3/10; 43/100] END C=100, class_weight={0: 1, 1: 10}, solver=liblinear;, score=0.562 total time=   7.0s\n",
      "[CV 3/10; 49/100] START C=100, class_weight={0: 1, 1: 16}, solver=liblinear.....\n"
     ]
    },
    {
     "name": "stderr",
     "output_type": "stream",
     "text": [
      "/opt/mamba/lib/python3.10/site-packages/sklearn/linear_model/_glm/_newton_solver.py:491: LinAlgWarning: The inner solver of NewtonCholeskySolver stumbled upon a singular or very ill-conditioned Hessian matrix at iteration #3. It will now resort to lbfgs instead.\n",
      "Further options are to use another solver or to avoid such situation in the first place. Possible remedies are removing collinear features of X or increasing the penalization strengths.\n",
      "The original Linear Algebra message was:\n",
      "Matrix is singular.\n",
      "  warnings.warn(\n",
      "/opt/mamba/lib/python3.10/site-packages/sklearn/linear_model/_glm/_newton_solver.py:491: LinAlgWarning: The inner solver of NewtonCholeskySolver stumbled upon a singular or very ill-conditioned Hessian matrix at iteration #3. It will now resort to lbfgs instead.\n",
      "Further options are to use another solver or to avoid such situation in the first place. Possible remedies are removing collinear features of X or increasing the penalization strengths.\n",
      "The original Linear Algebra message was:\n",
      "Matrix is singular.\n",
      "  warnings.warn(\n",
      "/opt/mamba/lib/python3.10/site-packages/sklearn/linear_model/_glm/_newton_solver.py:491: LinAlgWarning: The inner solver of NewtonCholeskySolver stumbled upon a singular or very ill-conditioned Hessian matrix at iteration #3. It will now resort to lbfgs instead.\n",
      "Further options are to use another solver or to avoid such situation in the first place. Possible remedies are removing collinear features of X or increasing the penalization strengths.\n",
      "The original Linear Algebra message was:\n",
      "Matrix is singular.\n",
      "  warnings.warn(\n"
     ]
    },
    {
     "name": "stdout",
     "output_type": "stream",
     "text": [
      "[CV 1/10; 45/100] END C=100, class_weight={0: 1, 1: 14}, solver=liblinear;, score=0.388 total time=   6.0s\n",
      "[CV 9/10; 45/100] END C=100, class_weight={0: 1, 1: 14}, solver=liblinear;, score=0.443 total time=   5.1s\n",
      "[CV 8/10; 43/100] END C=100, class_weight={0: 1, 1: 10}, solver=liblinear;, score=0.517 total time=   7.3s\n",
      "[CV 4/10; 49/100] START C=100, class_weight={0: 1, 1: 16}, solver=liblinear.....\n",
      "[CV 5/10; 49/100] START C=100, class_weight={0: 1, 1: 16}, solver=liblinear.....\n",
      "[CV 6/10; 49/100] START C=100, class_weight={0: 1, 1: 16}, solver=liblinear.....\n",
      "[CV 4/10; 43/100] END C=100, class_weight={0: 1, 1: 10}, solver=liblinear;, score=0.565 total time=   7.8s\n",
      "[CV 1/10; 43/100] END C=100, class_weight={0: 1, 1: 10}, solver=liblinear;, score=0.487 total time=   8.1s\n",
      "[CV 7/10; 49/100] START C=100, class_weight={0: 1, 1: 16}, solver=liblinear.....\n",
      "[CV 1/10; 48/100] END C=100, class_weight={0: 1, 1: 15}, solver=newton-cholesky;, score=0.371 total time=   2.5s\n",
      "[CV 8/10; 49/100] START C=100, class_weight={0: 1, 1: 16}, solver=liblinear.....\n",
      "[CV 9/10; 49/100] START C=100, class_weight={0: 1, 1: 16}, solver=liblinear.....\n",
      "[CV 6/10; 41/100] END C=100, class_weight={0: 1, 1: 1}, solver=liblinear;, score=0.249 total time=   9.6s\n",
      "[CV 2/10; 48/100] END C=100, class_weight={0: 1, 1: 15}, solver=newton-cholesky;, score=0.447 total time=   2.5s\n"
     ]
    },
    {
     "name": "stderr",
     "output_type": "stream",
     "text": [
      "/opt/mamba/lib/python3.10/site-packages/sklearn/linear_model/_glm/_newton_solver.py:195: ConvergenceWarning: lbfgs failed to converge (status=1):\n",
      "STOP: TOTAL NO. of ITERATIONS REACHED LIMIT.\n",
      "\n",
      "Increase the number of iterations (max_iter) or scale the data as shown in:\n",
      "    https://scikit-learn.org/stable/modules/preprocessing.html\n",
      "  self.n_iter_ = _check_optimize_result(\"lbfgs\", opt_res)\n",
      "/opt/mamba/lib/python3.10/site-packages/sklearn/linear_model/_glm/_newton_solver.py:195: ConvergenceWarning: lbfgs failed to converge (status=1):\n",
      "STOP: TOTAL NO. of ITERATIONS REACHED LIMIT.\n",
      "\n",
      "Increase the number of iterations (max_iter) or scale the data as shown in:\n",
      "    https://scikit-learn.org/stable/modules/preprocessing.html\n",
      "  self.n_iter_ = _check_optimize_result(\"lbfgs\", opt_res)\n"
     ]
    },
    {
     "name": "stdout",
     "output_type": "stream",
     "text": [
      "[CV 10/10; 49/100] START C=100, class_weight={0: 1, 1: 16}, solver=liblinear....\n",
      "[CV 1/10; 50/100] START C=100, class_weight={0: 1, 1: 16}, solver=newton-cholesky\n"
     ]
    },
    {
     "name": "stderr",
     "output_type": "stream",
     "text": [
      "/opt/mamba/lib/python3.10/site-packages/sklearn/linear_model/_glm/_newton_solver.py:195: ConvergenceWarning: lbfgs failed to converge (status=1):\n",
      "STOP: TOTAL NO. of ITERATIONS REACHED LIMIT.\n",
      "\n",
      "Increase the number of iterations (max_iter) or scale the data as shown in:\n",
      "    https://scikit-learn.org/stable/modules/preprocessing.html\n",
      "  self.n_iter_ = _check_optimize_result(\"lbfgs\", opt_res)\n",
      "/opt/mamba/lib/python3.10/site-packages/sklearn/linear_model/_glm/_newton_solver.py:491: LinAlgWarning: The inner solver of NewtonCholeskySolver stumbled upon a singular or very ill-conditioned Hessian matrix at iteration #3. It will now resort to lbfgs instead.\n",
      "Further options are to use another solver or to avoid such situation in the first place. Possible remedies are removing collinear features of X or increasing the penalization strengths.\n",
      "The original Linear Algebra message was:\n",
      "Matrix is singular.\n",
      "  warnings.warn(\n"
     ]
    },
    {
     "name": "stdout",
     "output_type": "stream",
     "text": [
      "[CV 5/10; 48/100] END C=100, class_weight={0: 1, 1: 15}, solver=newton-cholesky;, score=0.452 total time=   2.6s\n",
      "[CV 7/10; 45/100] END C=100, class_weight={0: 1, 1: 14}, solver=liblinear;, score=0.493 total time=   6.2s\n",
      "[CV 2/10; 50/100] START C=100, class_weight={0: 1, 1: 16}, solver=newton-cholesky\n",
      "[CV 3/10; 50/100] START C=100, class_weight={0: 1, 1: 16}, solver=newton-cholesky\n"
     ]
    },
    {
     "name": "stderr",
     "output_type": "stream",
     "text": [
      "/opt/mamba/lib/python3.10/site-packages/sklearn/linear_model/_glm/_newton_solver.py:195: ConvergenceWarning: lbfgs failed to converge (status=1):\n",
      "STOP: TOTAL NO. of ITERATIONS REACHED LIMIT.\n",
      "\n",
      "Increase the number of iterations (max_iter) or scale the data as shown in:\n",
      "    https://scikit-learn.org/stable/modules/preprocessing.html\n",
      "  self.n_iter_ = _check_optimize_result(\"lbfgs\", opt_res)\n",
      "/opt/mamba/lib/python3.10/site-packages/sklearn/linear_model/_glm/_newton_solver.py:491: LinAlgWarning: The inner solver of NewtonCholeskySolver stumbled upon a singular or very ill-conditioned Hessian matrix at iteration #3. It will now resort to lbfgs instead.\n",
      "Further options are to use another solver or to avoid such situation in the first place. Possible remedies are removing collinear features of X or increasing the penalization strengths.\n",
      "The original Linear Algebra message was:\n",
      "Matrix is singular.\n",
      "  warnings.warn(\n",
      "/opt/mamba/lib/python3.10/site-packages/sklearn/linear_model/_glm/_newton_solver.py:491: LinAlgWarning: The inner solver of NewtonCholeskySolver stumbled upon a singular or very ill-conditioned Hessian matrix at iteration #3. It will now resort to lbfgs instead.\n",
      "Further options are to use another solver or to avoid such situation in the first place. Possible remedies are removing collinear features of X or increasing the penalization strengths.\n",
      "The original Linear Algebra message was:\n",
      "Matrix is singular.\n",
      "  warnings.warn(\n",
      "/opt/mamba/lib/python3.10/site-packages/sklearn/linear_model/_glm/_newton_solver.py:195: ConvergenceWarning: lbfgs failed to converge (status=1):\n",
      "STOP: TOTAL NO. of ITERATIONS REACHED LIMIT.\n",
      "\n",
      "Increase the number of iterations (max_iter) or scale the data as shown in:\n",
      "    https://scikit-learn.org/stable/modules/preprocessing.html\n",
      "  self.n_iter_ = _check_optimize_result(\"lbfgs\", opt_res)\n"
     ]
    },
    {
     "name": "stdout",
     "output_type": "stream",
     "text": [
      "[CV 3/10; 48/100] END C=100, class_weight={0: 1, 1: 15}, solver=newton-cholesky;, score=0.450 total time=   3.3s\n",
      "[CV 4/10; 50/100] START C=100, class_weight={0: 1, 1: 16}, solver=newton-cholesky\n",
      "[CV 9/10; 47/100] END C=100, class_weight={0: 1, 1: 15}, solver=liblinear;, score=0.412 total time=   4.0s\n",
      "[CV 10/10; 48/100] END C=100, class_weight={0: 1, 1: 15}, solver=newton-cholesky;, score=0.409 total time=   2.4s\n",
      "[CV 5/10; 50/100] START C=100, class_weight={0: 1, 1: 16}, solver=newton-cholesky\n",
      "[CV 6/10; 50/100] START C=100, class_weight={0: 1, 1: 16}, solver=newton-cholesky\n"
     ]
    },
    {
     "name": "stderr",
     "output_type": "stream",
     "text": [
      "/opt/mamba/lib/python3.10/site-packages/sklearn/linear_model/_glm/_newton_solver.py:195: ConvergenceWarning: lbfgs failed to converge (status=1):\n",
      "STOP: TOTAL NO. of ITERATIONS REACHED LIMIT.\n",
      "\n",
      "Increase the number of iterations (max_iter) or scale the data as shown in:\n",
      "    https://scikit-learn.org/stable/modules/preprocessing.html\n",
      "  self.n_iter_ = _check_optimize_result(\"lbfgs\", opt_res)\n"
     ]
    },
    {
     "name": "stdout",
     "output_type": "stream",
     "text": [
      "[CV 5/10; 45/100] END C=100, class_weight={0: 1, 1: 14}, solver=liblinear;, score=0.471 total time=   7.1s\n",
      "[CV 6/10; 48/100] END C=100, class_weight={0: 1, 1: 15}, solver=newton-cholesky;, score=0.425 total time=   3.2s\n",
      "[CV 10/10; 47/100] END C=100, class_weight={0: 1, 1: 15}, solver=liblinear;, score=0.410 total time=   4.1s\n",
      "[CV 7/10; 50/100] START C=100, class_weight={0: 1, 1: 16}, solver=newton-cholesky\n",
      "[CV 4/10; 45/100] END C=100, class_weight={0: 1, 1: 14}, solver=liblinear;, score=0.497 total time=   7.5s\n",
      "[CV 8/10; 50/100] START C=100, class_weight={0: 1, 1: 16}, solver=newton-cholesky\n"
     ]
    },
    {
     "name": "stderr",
     "output_type": "stream",
     "text": [
      "/opt/mamba/lib/python3.10/site-packages/sklearn/linear_model/_glm/_newton_solver.py:491: LinAlgWarning: The inner solver of NewtonCholeskySolver stumbled upon a singular or very ill-conditioned Hessian matrix at iteration #3. It will now resort to lbfgs instead.\n",
      "Further options are to use another solver or to avoid such situation in the first place. Possible remedies are removing collinear features of X or increasing the penalization strengths.\n",
      "The original Linear Algebra message was:\n",
      "Matrix is singular.\n",
      "  warnings.warn(\n",
      "/opt/mamba/lib/python3.10/site-packages/sklearn/linear_model/_glm/_newton_solver.py:491: LinAlgWarning: The inner solver of NewtonCholeskySolver stumbled upon a singular or very ill-conditioned Hessian matrix at iteration #3. It will now resort to lbfgs instead.\n",
      "Further options are to use another solver or to avoid such situation in the first place. Possible remedies are removing collinear features of X or increasing the penalization strengths.\n",
      "The original Linear Algebra message was:\n",
      "Matrix is singular.\n",
      "  warnings.warn(\n",
      "/opt/mamba/lib/python3.10/site-packages/sklearn/linear_model/_glm/_newton_solver.py:195: ConvergenceWarning: lbfgs failed to converge (status=1):\n",
      "STOP: TOTAL NO. of ITERATIONS REACHED LIMIT.\n",
      "\n",
      "Increase the number of iterations (max_iter) or scale the data as shown in:\n",
      "    https://scikit-learn.org/stable/modules/preprocessing.html\n",
      "  self.n_iter_ = _check_optimize_result(\"lbfgs\", opt_res)\n"
     ]
    },
    {
     "name": "stdout",
     "output_type": "stream",
     "text": [
      "[CV 9/10; 50/100] START C=100, class_weight={0: 1, 1: 16}, solver=newton-cholesky\n",
      "[CV 10/10; 50/100] START C=100, class_weight={0: 1, 1: 16}, solver=newton-cholesky\n",
      "[CV 7/10; 48/100] END C=100, class_weight={0: 1, 1: 15}, solver=newton-cholesky;, score=0.468 total time=   3.1s\n",
      "[CV 6/10; 43/100] END C=100, class_weight={0: 1, 1: 10}, solver=liblinear;, score=0.546 total time=   9.5s\n"
     ]
    },
    {
     "name": "stderr",
     "output_type": "stream",
     "text": [
      "/opt/mamba/lib/python3.10/site-packages/sklearn/linear_model/_glm/_newton_solver.py:491: LinAlgWarning: The inner solver of NewtonCholeskySolver stumbled upon a singular or very ill-conditioned Hessian matrix at iteration #3. It will now resort to lbfgs instead.\n",
      "Further options are to use another solver or to avoid such situation in the first place. Possible remedies are removing collinear features of X or increasing the penalization strengths.\n",
      "The original Linear Algebra message was:\n",
      "Matrix is singular.\n",
      "  warnings.warn(\n",
      "/opt/mamba/lib/python3.10/site-packages/sklearn/linear_model/_glm/_newton_solver.py:491: LinAlgWarning: The inner solver of NewtonCholeskySolver stumbled upon a singular or very ill-conditioned Hessian matrix at iteration #3. It will now resort to lbfgs instead.\n",
      "Further options are to use another solver or to avoid such situation in the first place. Possible remedies are removing collinear features of X or increasing the penalization strengths.\n",
      "The original Linear Algebra message was:\n",
      "Matrix is singular.\n",
      "  warnings.warn(\n",
      "/opt/mamba/lib/python3.10/site-packages/sklearn/linear_model/_glm/_newton_solver.py:491: LinAlgWarning: The inner solver of NewtonCholeskySolver stumbled upon a singular or very ill-conditioned Hessian matrix at iteration #3. It will now resort to lbfgs instead.\n",
      "Further options are to use another solver or to avoid such situation in the first place. Possible remedies are removing collinear features of X or increasing the penalization strengths.\n",
      "The original Linear Algebra message was:\n",
      "Matrix is singular.\n",
      "  warnings.warn(\n",
      "/opt/mamba/lib/python3.10/site-packages/sklearn/linear_model/_glm/_newton_solver.py:491: LinAlgWarning: The inner solver of NewtonCholeskySolver stumbled upon a singular or very ill-conditioned Hessian matrix at iteration #3. It will now resort to lbfgs instead.\n",
      "Further options are to use another solver or to avoid such situation in the first place. Possible remedies are removing collinear features of X or increasing the penalization strengths.\n",
      "The original Linear Algebra message was:\n",
      "Matrix is singular.\n",
      "  warnings.warn(\n",
      "/opt/mamba/lib/python3.10/site-packages/sklearn/linear_model/_glm/_newton_solver.py:195: ConvergenceWarning: lbfgs failed to converge (status=1):\n",
      "STOP: TOTAL NO. of ITERATIONS REACHED LIMIT.\n",
      "\n",
      "Increase the number of iterations (max_iter) or scale the data as shown in:\n",
      "    https://scikit-learn.org/stable/modules/preprocessing.html\n",
      "  self.n_iter_ = _check_optimize_result(\"lbfgs\", opt_res)\n",
      "/opt/mamba/lib/python3.10/site-packages/sklearn/linear_model/_glm/_newton_solver.py:195: ConvergenceWarning: lbfgs failed to converge (status=1):\n",
      "STOP: TOTAL NO. of ITERATIONS REACHED LIMIT.\n",
      "\n",
      "Increase the number of iterations (max_iter) or scale the data as shown in:\n",
      "    https://scikit-learn.org/stable/modules/preprocessing.html\n",
      "  self.n_iter_ = _check_optimize_result(\"lbfgs\", opt_res)\n"
     ]
    },
    {
     "name": "stdout",
     "output_type": "stream",
     "text": [
      "[CV 1/10; 51/100] START C=100, class_weight={0: 1, 1: 20}, solver=liblinear.....\n",
      "[CV 4/10; 50/100] END C=100, class_weight={0: 1, 1: 16}, solver=newton-cholesky;, score=0.453 total time=   0.7s\n",
      "[CV 2/10; 51/100] START C=100, class_weight={0: 1, 1: 20}, solver=liblinear.....\n",
      "[CV 1/10; 47/100] END C=100, class_weight={0: 1, 1: 15}, solver=liblinear;, score=0.364 total time=   6.2s\n",
      "[CV 3/10; 51/100] START C=100, class_weight={0: 1, 1: 20}, solver=liblinear.....\n",
      "[CV 4/10; 51/100] START C=100, class_weight={0: 1, 1: 20}, solver=liblinear.....\n",
      "[CV 8/10; 48/100] END C=100, class_weight={0: 1, 1: 15}, solver=newton-cholesky;, score=0.381 total time=   3.4s\n",
      "[CV 9/10; 48/100] END C=100, class_weight={0: 1, 1: 15}, solver=newton-cholesky;, score=0.417 total time=   3.4s\n",
      "[CV 5/10; 51/100] START C=100, class_weight={0: 1, 1: 20}, solver=liblinear.....\n",
      "[CV 8/10; 45/100] END C=100, class_weight={0: 1, 1: 14}, solver=liblinear;, score=0.418 total time=   7.6s\n",
      "[CV 6/10; 51/100] START C=100, class_weight={0: 1, 1: 20}, solver=liblinear.....\n",
      "[CV 7/10; 51/100] START C=100, class_weight={0: 1, 1: 20}, solver=liblinear.....\n",
      "[CV 10/10; 45/100] END C=100, class_weight={0: 1, 1: 14}, solver=liblinear;, score=0.434 total time=   7.5s\n",
      "[CV 7/10; 43/100] END C=100, class_weight={0: 1, 1: 10}, solver=liblinear;, score=0.543 total time=  10.0s\n",
      "[CV 8/10; 51/100] START C=100, class_weight={0: 1, 1: 20}, solver=liblinear.....\n",
      "[CV 9/10; 51/100] START C=100, class_weight={0: 1, 1: 20}, solver=liblinear.....\n",
      "[CV 1/10; 49/100] END C=100, class_weight={0: 1, 1: 16}, solver=liblinear;, score=0.339 total time=   3.6s\n",
      "[CV 10/10; 51/100] START C=100, class_weight={0: 1, 1: 20}, solver=liblinear....\n"
     ]
    },
    {
     "name": "stderr",
     "output_type": "stream",
     "text": [
      "/opt/mamba/lib/python3.10/site-packages/sklearn/linear_model/_glm/_newton_solver.py:195: ConvergenceWarning: lbfgs failed to converge (status=1):\n",
      "STOP: TOTAL NO. of ITERATIONS REACHED LIMIT.\n",
      "\n",
      "Increase the number of iterations (max_iter) or scale the data as shown in:\n",
      "    https://scikit-learn.org/stable/modules/preprocessing.html\n",
      "  self.n_iter_ = _check_optimize_result(\"lbfgs\", opt_res)\n"
     ]
    },
    {
     "name": "stdout",
     "output_type": "stream",
     "text": [
      "[CV 1/10; 50/100] END C=100, class_weight={0: 1, 1: 16}, solver=newton-cholesky;, score=0.350 total time=   2.7s\n",
      "[CV 1/10; 52/100] START C=100, class_weight={0: 1, 1: 20}, solver=newton-cholesky\n"
     ]
    },
    {
     "name": "stderr",
     "output_type": "stream",
     "text": [
      "/opt/mamba/lib/python3.10/site-packages/sklearn/linear_model/_glm/_newton_solver.py:195: ConvergenceWarning: lbfgs failed to converge (status=1):\n",
      "STOP: TOTAL NO. of ITERATIONS REACHED LIMIT.\n",
      "\n",
      "Increase the number of iterations (max_iter) or scale the data as shown in:\n",
      "    https://scikit-learn.org/stable/modules/preprocessing.html\n",
      "  self.n_iter_ = _check_optimize_result(\"lbfgs\", opt_res)\n",
      "/opt/mamba/lib/python3.10/site-packages/sklearn/linear_model/_glm/_newton_solver.py:491: LinAlgWarning: The inner solver of NewtonCholeskySolver stumbled upon a singular or very ill-conditioned Hessian matrix at iteration #3. It will now resort to lbfgs instead.\n",
      "Further options are to use another solver or to avoid such situation in the first place. Possible remedies are removing collinear features of X or increasing the penalization strengths.\n",
      "The original Linear Algebra message was:\n",
      "Matrix is singular.\n",
      "  warnings.warn(\n"
     ]
    },
    {
     "name": "stdout",
     "output_type": "stream",
     "text": [
      "[CV 2/10; 49/100] END C=100, class_weight={0: 1, 1: 16}, solver=liblinear;, score=0.426 total time=   4.2s\n",
      "[CV 2/10; 50/100] END C=100, class_weight={0: 1, 1: 16}, solver=newton-cholesky;, score=0.434 total time=   2.6s\n",
      "[CV 2/10; 52/100] START C=100, class_weight={0: 1, 1: 20}, solver=newton-cholesky\n",
      "[CV 3/10; 52/100] START C=100, class_weight={0: 1, 1: 20}, solver=newton-cholesky\n"
     ]
    },
    {
     "name": "stderr",
     "output_type": "stream",
     "text": [
      "/opt/mamba/lib/python3.10/site-packages/sklearn/linear_model/_glm/_newton_solver.py:195: ConvergenceWarning: lbfgs failed to converge (status=1):\n",
      "STOP: TOTAL NO. of ITERATIONS REACHED LIMIT.\n",
      "\n",
      "Increase the number of iterations (max_iter) or scale the data as shown in:\n",
      "    https://scikit-learn.org/stable/modules/preprocessing.html\n",
      "  self.n_iter_ = _check_optimize_result(\"lbfgs\", opt_res)\n",
      "/opt/mamba/lib/python3.10/site-packages/sklearn/linear_model/_glm/_newton_solver.py:491: LinAlgWarning: The inner solver of NewtonCholeskySolver stumbled upon a singular or very ill-conditioned Hessian matrix at iteration #3. It will now resort to lbfgs instead.\n",
      "Further options are to use another solver or to avoid such situation in the first place. Possible remedies are removing collinear features of X or increasing the penalization strengths.\n",
      "The original Linear Algebra message was:\n",
      "Matrix is singular.\n",
      "  warnings.warn(\n",
      "/opt/mamba/lib/python3.10/site-packages/sklearn/linear_model/_glm/_newton_solver.py:491: LinAlgWarning: The inner solver of NewtonCholeskySolver stumbled upon a singular or very ill-conditioned Hessian matrix at iteration #3. It will now resort to lbfgs instead.\n",
      "Further options are to use another solver or to avoid such situation in the first place. Possible remedies are removing collinear features of X or increasing the penalization strengths.\n",
      "The original Linear Algebra message was:\n",
      "Matrix is singular.\n",
      "  warnings.warn(\n"
     ]
    },
    {
     "name": "stdout",
     "output_type": "stream",
     "text": [
      "[CV 7/10; 47/100] END C=100, class_weight={0: 1, 1: 15}, solver=liblinear;, score=0.469 total time=   6.8s\n",
      "[CV 2/10; 43/100] END C=100, class_weight={0: 1, 1: 10}, solver=liblinear;, score=0.535 total time=  11.5s\n",
      "[CV 3/10; 50/100] END C=100, class_weight={0: 1, 1: 16}, solver=newton-cholesky;, score=0.420 total time=   2.9s\n",
      "[CV 4/10; 52/100] START C=100, class_weight={0: 1, 1: 20}, solver=newton-cholesky\n",
      "[CV 3/10; 47/100] END C=100, class_weight={0: 1, 1: 15}, solver=liblinear;, score=0.453 total time=   7.3s\n",
      "[CV 5/10; 52/100] START C=100, class_weight={0: 1, 1: 20}, solver=newton-cholesky\n",
      "[CV 6/10; 52/100] START C=100, class_weight={0: 1, 1: 20}, solver=newton-cholesky\n",
      "[CV 7/10; 52/100] START C=100, class_weight={0: 1, 1: 20}, solver=newton-cholesky\n"
     ]
    },
    {
     "name": "stderr",
     "output_type": "stream",
     "text": [
      "/opt/mamba/lib/python3.10/site-packages/sklearn/linear_model/_glm/_newton_solver.py:195: ConvergenceWarning: lbfgs failed to converge (status=1):\n",
      "STOP: TOTAL NO. of ITERATIONS REACHED LIMIT.\n",
      "\n",
      "Increase the number of iterations (max_iter) or scale the data as shown in:\n",
      "    https://scikit-learn.org/stable/modules/preprocessing.html\n",
      "  self.n_iter_ = _check_optimize_result(\"lbfgs\", opt_res)\n",
      "/opt/mamba/lib/python3.10/site-packages/sklearn/linear_model/_glm/_newton_solver.py:195: ConvergenceWarning: lbfgs failed to converge (status=1):\n",
      "STOP: TOTAL NO. of ITERATIONS REACHED LIMIT.\n",
      "\n",
      "Increase the number of iterations (max_iter) or scale the data as shown in:\n",
      "    https://scikit-learn.org/stable/modules/preprocessing.html\n",
      "  self.n_iter_ = _check_optimize_result(\"lbfgs\", opt_res)\n",
      "/opt/mamba/lib/python3.10/site-packages/sklearn/linear_model/_glm/_newton_solver.py:491: LinAlgWarning: The inner solver of NewtonCholeskySolver stumbled upon a singular or very ill-conditioned Hessian matrix at iteration #3. It will now resort to lbfgs instead.\n",
      "Further options are to use another solver or to avoid such situation in the first place. Possible remedies are removing collinear features of X or increasing the penalization strengths.\n",
      "The original Linear Algebra message was:\n",
      "Matrix is singular.\n",
      "  warnings.warn(\n",
      "/opt/mamba/lib/python3.10/site-packages/sklearn/linear_model/_glm/_newton_solver.py:491: LinAlgWarning: The inner solver of NewtonCholeskySolver stumbled upon a singular or very ill-conditioned Hessian matrix at iteration #3. It will now resort to lbfgs instead.\n",
      "Further options are to use another solver or to avoid such situation in the first place. Possible remedies are removing collinear features of X or increasing the penalization strengths.\n",
      "The original Linear Algebra message was:\n",
      "Matrix is singular.\n",
      "  warnings.warn(\n",
      "/opt/mamba/lib/python3.10/site-packages/sklearn/linear_model/_glm/_newton_solver.py:195: ConvergenceWarning: lbfgs failed to converge (status=1):\n",
      "STOP: TOTAL NO. of ITERATIONS REACHED LIMIT.\n",
      "\n",
      "Increase the number of iterations (max_iter) or scale the data as shown in:\n",
      "    https://scikit-learn.org/stable/modules/preprocessing.html\n",
      "  self.n_iter_ = _check_optimize_result(\"lbfgs\", opt_res)\n",
      "/opt/mamba/lib/python3.10/site-packages/sklearn/linear_model/_glm/_newton_solver.py:491: LinAlgWarning: The inner solver of NewtonCholeskySolver stumbled upon a singular or very ill-conditioned Hessian matrix at iteration #3. It will now resort to lbfgs instead.\n",
      "Further options are to use another solver or to avoid such situation in the first place. Possible remedies are removing collinear features of X or increasing the penalization strengths.\n",
      "The original Linear Algebra message was:\n",
      "Matrix is singular.\n",
      "  warnings.warn(\n",
      "/opt/mamba/lib/python3.10/site-packages/sklearn/linear_model/_glm/_newton_solver.py:195: ConvergenceWarning: lbfgs failed to converge (status=1):\n",
      "STOP: TOTAL NO. of ITERATIONS REACHED LIMIT.\n",
      "\n",
      "Increase the number of iterations (max_iter) or scale the data as shown in:\n",
      "    https://scikit-learn.org/stable/modules/preprocessing.html\n",
      "  self.n_iter_ = _check_optimize_result(\"lbfgs\", opt_res)\n",
      "/opt/mamba/lib/python3.10/site-packages/sklearn/linear_model/_glm/_newton_solver.py:195: ConvergenceWarning: lbfgs failed to converge (status=1):\n",
      "STOP: TOTAL NO. of ITERATIONS REACHED LIMIT.\n",
      "\n",
      "Increase the number of iterations (max_iter) or scale the data as shown in:\n",
      "    https://scikit-learn.org/stable/modules/preprocessing.html\n",
      "  self.n_iter_ = _check_optimize_result(\"lbfgs\", opt_res)\n"
     ]
    },
    {
     "name": "stdout",
     "output_type": "stream",
     "text": [
      "[CV 5/10; 49/100] END C=100, class_weight={0: 1, 1: 16}, solver=liblinear;, score=0.428 total time=   4.3s\n",
      "[CV 9/10; 50/100] END C=100, class_weight={0: 1, 1: 16}, solver=newton-cholesky;, score=0.383 total time=   2.5s\n",
      "[CV 6/10; 50/100] END C=100, class_weight={0: 1, 1: 16}, solver=newton-cholesky;, score=0.398 total time=   2.8s\n",
      "[CV 8/10; 52/100] START C=100, class_weight={0: 1, 1: 20}, solver=newton-cholesky\n",
      "[CV 9/10; 52/100] START C=100, class_weight={0: 1, 1: 20}, solver=newton-cholesky\n",
      "[CV 10/10; 50/100] END C=100, class_weight={0: 1, 1: 16}, solver=newton-cholesky;, score=0.388 total time=   2.5s\n",
      "[CV 8/10; 50/100] END C=100, class_weight={0: 1, 1: 16}, solver=newton-cholesky;, score=0.364 total time=   2.6s\n",
      "[CV 10/10; 52/100] START C=100, class_weight={0: 1, 1: 20}, solver=newton-cholesky\n",
      "[CV 5/10; 50/100] END C=100, class_weight={0: 1, 1: 16}, solver=newton-cholesky;, score=0.439 total time=   3.0s\n",
      "[CV 1/10; 53/100] START C=100, class_weight={0: 1, 1: 50}, solver=liblinear.....\n",
      "[CV 4/10; 52/100] END C=100, class_weight={0: 1, 1: 20}, solver=newton-cholesky;, score=0.336 total time=   0.7s\n",
      "[CV 9/10; 43/100] END C=100, class_weight={0: 1, 1: 10}, solver=liblinear;, score=0.538 total time=  11.9s\n",
      "[CV 2/10; 53/100] START C=100, class_weight={0: 1, 1: 50}, solver=liblinear.....\n",
      "[CV 7/10; 50/100] END C=100, class_weight={0: 1, 1: 16}, solver=newton-cholesky;, score=0.448 total time=   2.9s\n",
      "[CV 3/10; 53/100] START C=100, class_weight={0: 1, 1: 50}, solver=liblinear.....\n",
      "[CV 4/10; 53/100] START C=100, class_weight={0: 1, 1: 50}, solver=liblinear.....\n",
      "[CV 5/10; 53/100] START C=100, class_weight={0: 1, 1: 50}, solver=liblinear.....\n"
     ]
    },
    {
     "name": "stderr",
     "output_type": "stream",
     "text": [
      "/opt/mamba/lib/python3.10/site-packages/sklearn/linear_model/_glm/_newton_solver.py:195: ConvergenceWarning: lbfgs failed to converge (status=1):\n",
      "STOP: TOTAL NO. of ITERATIONS REACHED LIMIT.\n",
      "\n",
      "Increase the number of iterations (max_iter) or scale the data as shown in:\n",
      "    https://scikit-learn.org/stable/modules/preprocessing.html\n",
      "  self.n_iter_ = _check_optimize_result(\"lbfgs\", opt_res)\n",
      "/opt/mamba/lib/python3.10/site-packages/sklearn/linear_model/_glm/_newton_solver.py:491: LinAlgWarning: The inner solver of NewtonCholeskySolver stumbled upon a singular or very ill-conditioned Hessian matrix at iteration #3. It will now resort to lbfgs instead.\n",
      "Further options are to use another solver or to avoid such situation in the first place. Possible remedies are removing collinear features of X or increasing the penalization strengths.\n",
      "The original Linear Algebra message was:\n",
      "Matrix is singular.\n",
      "  warnings.warn(\n",
      "/opt/mamba/lib/python3.10/site-packages/sklearn/linear_model/_glm/_newton_solver.py:491: LinAlgWarning: The inner solver of NewtonCholeskySolver stumbled upon a singular or very ill-conditioned Hessian matrix at iteration #3. It will now resort to lbfgs instead.\n",
      "Further options are to use another solver or to avoid such situation in the first place. Possible remedies are removing collinear features of X or increasing the penalization strengths.\n",
      "The original Linear Algebra message was:\n",
      "Matrix is singular.\n",
      "  warnings.warn(\n"
     ]
    },
    {
     "name": "stdout",
     "output_type": "stream",
     "text": [
      "[CV 6/10; 45/100] END C=100, class_weight={0: 1, 1: 14}, solver=liblinear;, score=0.450 total time=  10.2s\n",
      "[CV 6/10; 53/100] START C=100, class_weight={0: 1, 1: 50}, solver=liblinear.....\n",
      "[CV 7/10; 53/100] START C=100, class_weight={0: 1, 1: 50}, solver=liblinear.....\n"
     ]
    },
    {
     "name": "stderr",
     "output_type": "stream",
     "text": [
      "/opt/mamba/lib/python3.10/site-packages/sklearn/linear_model/_glm/_newton_solver.py:491: LinAlgWarning: The inner solver of NewtonCholeskySolver stumbled upon a singular or very ill-conditioned Hessian matrix at iteration #3. It will now resort to lbfgs instead.\n",
      "Further options are to use another solver or to avoid such situation in the first place. Possible remedies are removing collinear features of X or increasing the penalization strengths.\n",
      "The original Linear Algebra message was:\n",
      "Matrix is singular.\n",
      "  warnings.warn(\n"
     ]
    },
    {
     "name": "stdout",
     "output_type": "stream",
     "text": [
      "[CV 5/10; 47/100] END C=100, class_weight={0: 1, 1: 15}, solver=liblinear;, score=0.452 total time=   8.8s\n",
      "[CV 3/10; 49/100] END C=100, class_weight={0: 1, 1: 16}, solver=liblinear;, score=0.425 total time=   6.1s\n",
      "[CV 8/10; 53/100] START C=100, class_weight={0: 1, 1: 50}, solver=liblinear.....\n",
      "[CV 9/10; 53/100] START C=100, class_weight={0: 1, 1: 50}, solver=liblinear.....\n"
     ]
    },
    {
     "name": "stderr",
     "output_type": "stream",
     "text": [
      "/opt/mamba/lib/python3.10/site-packages/sklearn/linear_model/_glm/_newton_solver.py:195: ConvergenceWarning: lbfgs failed to converge (status=1):\n",
      "STOP: TOTAL NO. of ITERATIONS REACHED LIMIT.\n",
      "\n",
      "Increase the number of iterations (max_iter) or scale the data as shown in:\n",
      "    https://scikit-learn.org/stable/modules/preprocessing.html\n",
      "  self.n_iter_ = _check_optimize_result(\"lbfgs\", opt_res)\n",
      "/opt/mamba/lib/python3.10/site-packages/sklearn/linear_model/_glm/_newton_solver.py:195: ConvergenceWarning: lbfgs failed to converge (status=1):\n",
      "STOP: TOTAL NO. of ITERATIONS REACHED LIMIT.\n",
      "\n",
      "Increase the number of iterations (max_iter) or scale the data as shown in:\n",
      "    https://scikit-learn.org/stable/modules/preprocessing.html\n",
      "  self.n_iter_ = _check_optimize_result(\"lbfgs\", opt_res)\n"
     ]
    },
    {
     "name": "stdout",
     "output_type": "stream",
     "text": [
      "[CV 8/10; 49/100] END C=100, class_weight={0: 1, 1: 16}, solver=liblinear;, score=0.360 total time=   5.5s\n",
      "[CV 4/10; 49/100] END C=100, class_weight={0: 1, 1: 16}, solver=liblinear;, score=0.453 total time=   5.9s\n",
      "[CV 10/10; 53/100] START C=100, class_weight={0: 1, 1: 50}, solver=liblinear....\n",
      "[CV 1/10; 52/100] END C=100, class_weight={0: 1, 1: 20}, solver=newton-cholesky;, score=0.254 total time=   2.6s\n",
      "[CV 1/10; 54/100] START C=100, class_weight={0: 1, 1: 50}, solver=newton-cholesky\n",
      "[CV 2/10; 54/100] START C=100, class_weight={0: 1, 1: 50}, solver=newton-cholesky\n",
      "[CV 10/10; 43/100] END C=100, class_weight={0: 1, 1: 10}, solver=liblinear;, score=0.499 total time=  13.3s\n",
      "[CV 2/10; 52/100] END C=100, class_weight={0: 1, 1: 20}, solver=newton-cholesky;, score=0.327 total time=   2.5s\n",
      "[CV 3/10; 54/100] START C=100, class_weight={0: 1, 1: 50}, solver=newton-cholesky\n",
      "[CV 4/10; 54/100] START C=100, class_weight={0: 1, 1: 50}, solver=newton-cholesky\n"
     ]
    },
    {
     "name": "stderr",
     "output_type": "stream",
     "text": [
      "/opt/mamba/lib/python3.10/site-packages/sklearn/linear_model/_glm/_newton_solver.py:491: LinAlgWarning: The inner solver of NewtonCholeskySolver stumbled upon a singular or very ill-conditioned Hessian matrix at iteration #3. It will now resort to lbfgs instead.\n",
      "Further options are to use another solver or to avoid such situation in the first place. Possible remedies are removing collinear features of X or increasing the penalization strengths.\n",
      "The original Linear Algebra message was:\n",
      "Matrix is singular.\n",
      "  warnings.warn(\n",
      "/opt/mamba/lib/python3.10/site-packages/sklearn/linear_model/_glm/_newton_solver.py:195: ConvergenceWarning: lbfgs failed to converge (status=1):\n",
      "STOP: TOTAL NO. of ITERATIONS REACHED LIMIT.\n",
      "\n",
      "Increase the number of iterations (max_iter) or scale the data as shown in:\n",
      "    https://scikit-learn.org/stable/modules/preprocessing.html\n",
      "  self.n_iter_ = _check_optimize_result(\"lbfgs\", opt_res)\n",
      "/opt/mamba/lib/python3.10/site-packages/sklearn/linear_model/_glm/_newton_solver.py:491: LinAlgWarning: The inner solver of NewtonCholeskySolver stumbled upon a singular or very ill-conditioned Hessian matrix at iteration #3. It will now resort to lbfgs instead.\n",
      "Further options are to use another solver or to avoid such situation in the first place. Possible remedies are removing collinear features of X or increasing the penalization strengths.\n",
      "The original Linear Algebra message was:\n",
      "Matrix is singular.\n",
      "  warnings.warn(\n",
      "/opt/mamba/lib/python3.10/site-packages/sklearn/linear_model/_glm/_newton_solver.py:195: ConvergenceWarning: lbfgs failed to converge (status=1):\n",
      "STOP: TOTAL NO. of ITERATIONS REACHED LIMIT.\n",
      "\n",
      "Increase the number of iterations (max_iter) or scale the data as shown in:\n",
      "    https://scikit-learn.org/stable/modules/preprocessing.html\n",
      "  self.n_iter_ = _check_optimize_result(\"lbfgs\", opt_res)\n",
      "/opt/mamba/lib/python3.10/site-packages/sklearn/linear_model/_glm/_newton_solver.py:491: LinAlgWarning: The inner solver of NewtonCholeskySolver stumbled upon a singular or very ill-conditioned Hessian matrix at iteration #3. It will now resort to lbfgs instead.\n",
      "Further options are to use another solver or to avoid such situation in the first place. Possible remedies are removing collinear features of X or increasing the penalization strengths.\n",
      "The original Linear Algebra message was:\n",
      "Matrix is singular.\n",
      "  warnings.warn(\n",
      "/opt/mamba/lib/python3.10/site-packages/sklearn/linear_model/_glm/_newton_solver.py:195: ConvergenceWarning: lbfgs failed to converge (status=1):\n",
      "STOP: TOTAL NO. of ITERATIONS REACHED LIMIT.\n",
      "\n",
      "Increase the number of iterations (max_iter) or scale the data as shown in:\n",
      "    https://scikit-learn.org/stable/modules/preprocessing.html\n",
      "  self.n_iter_ = _check_optimize_result(\"lbfgs\", opt_res)\n"
     ]
    },
    {
     "name": "stdout",
     "output_type": "stream",
     "text": [
      "[CV 6/10; 49/100] END C=100, class_weight={0: 1, 1: 16}, solver=liblinear;, score=0.402 total time=   6.2s\n",
      "[CV 5/10; 54/100] START C=100, class_weight={0: 1, 1: 50}, solver=newton-cholesky\n",
      "[CV 7/10; 52/100] END C=100, class_weight={0: 1, 1: 20}, solver=newton-cholesky;, score=0.341 total time=   2.3s\n",
      "[CV 5/10; 52/100] END C=100, class_weight={0: 1, 1: 20}, solver=newton-cholesky;, score=0.343 total time=   2.5s\n",
      "[CV 6/10; 54/100] START C=100, class_weight={0: 1, 1: 50}, solver=newton-cholesky\n",
      "[CV 7/10; 54/100] START C=100, class_weight={0: 1, 1: 50}, solver=newton-cholesky\n",
      "[CV 6/10; 52/100] END C=100, class_weight={0: 1, 1: 20}, solver=newton-cholesky;, score=0.319 total time=   2.5s\n",
      "[CV 8/10; 54/100] START C=100, class_weight={0: 1, 1: 50}, solver=newton-cholesky\n",
      "[CV 6/10; 47/100] END C=100, class_weight={0: 1, 1: 15}, solver=liblinear;, score=0.424 total time=   9.8s\n",
      "[CV 9/10; 54/100] START C=100, class_weight={0: 1, 1: 50}, solver=newton-cholesky\n",
      "[CV 4/10; 54/100] END C=100, class_weight={0: 1, 1: 50}, solver=newton-cholesky;, score=-0.228 total time=   0.7s\n",
      "[CV 10/10; 52/100] END C=100, class_weight={0: 1, 1: 20}, solver=newton-cholesky;, score=0.293 total time=   2.4s\n"
     ]
    },
    {
     "name": "stderr",
     "output_type": "stream",
     "text": [
      "/opt/mamba/lib/python3.10/site-packages/sklearn/linear_model/_glm/_newton_solver.py:491: LinAlgWarning: The inner solver of NewtonCholeskySolver stumbled upon a singular or very ill-conditioned Hessian matrix at iteration #3. It will now resort to lbfgs instead.\n",
      "Further options are to use another solver or to avoid such situation in the first place. Possible remedies are removing collinear features of X or increasing the penalization strengths.\n",
      "The original Linear Algebra message was:\n",
      "Matrix is singular.\n",
      "  warnings.warn(\n",
      "/opt/mamba/lib/python3.10/site-packages/sklearn/linear_model/_glm/_newton_solver.py:491: LinAlgWarning: The inner solver of NewtonCholeskySolver stumbled upon a singular or very ill-conditioned Hessian matrix at iteration #3. It will now resort to lbfgs instead.\n",
      "Further options are to use another solver or to avoid such situation in the first place. Possible remedies are removing collinear features of X or increasing the penalization strengths.\n",
      "The original Linear Algebra message was:\n",
      "Matrix is singular.\n",
      "  warnings.warn(\n",
      "/opt/mamba/lib/python3.10/site-packages/sklearn/linear_model/_glm/_newton_solver.py:491: LinAlgWarning: The inner solver of NewtonCholeskySolver stumbled upon a singular or very ill-conditioned Hessian matrix at iteration #3. It will now resort to lbfgs instead.\n",
      "Further options are to use another solver or to avoid such situation in the first place. Possible remedies are removing collinear features of X or increasing the penalization strengths.\n",
      "The original Linear Algebra message was:\n",
      "Matrix is singular.\n",
      "  warnings.warn(\n",
      "/opt/mamba/lib/python3.10/site-packages/sklearn/linear_model/_glm/_newton_solver.py:195: ConvergenceWarning: lbfgs failed to converge (status=1):\n",
      "STOP: TOTAL NO. of ITERATIONS REACHED LIMIT.\n",
      "\n",
      "Increase the number of iterations (max_iter) or scale the data as shown in:\n",
      "    https://scikit-learn.org/stable/modules/preprocessing.html\n",
      "  self.n_iter_ = _check_optimize_result(\"lbfgs\", opt_res)\n",
      "/opt/mamba/lib/python3.10/site-packages/sklearn/linear_model/_glm/_newton_solver.py:491: LinAlgWarning: The inner solver of NewtonCholeskySolver stumbled upon a singular or very ill-conditioned Hessian matrix at iteration #3. It will now resort to lbfgs instead.\n",
      "Further options are to use another solver or to avoid such situation in the first place. Possible remedies are removing collinear features of X or increasing the penalization strengths.\n",
      "The original Linear Algebra message was:\n",
      "Matrix is singular.\n",
      "  warnings.warn(\n",
      "/opt/mamba/lib/python3.10/site-packages/sklearn/linear_model/_glm/_newton_solver.py:195: ConvergenceWarning: lbfgs failed to converge (status=1):\n",
      "STOP: TOTAL NO. of ITERATIONS REACHED LIMIT.\n",
      "\n",
      "Increase the number of iterations (max_iter) or scale the data as shown in:\n",
      "    https://scikit-learn.org/stable/modules/preprocessing.html\n",
      "  self.n_iter_ = _check_optimize_result(\"lbfgs\", opt_res)\n"
     ]
    },
    {
     "name": "stdout",
     "output_type": "stream",
     "text": [
      "[CV 10/10; 54/100] START C=100, class_weight={0: 1, 1: 50}, solver=newton-cholesky\n",
      "[CV 1/10; 55/100] START C=100, class_weight={0: 1, 1: 100}, solver=liblinear....\n",
      "[CV 3/10; 52/100] END C=100, class_weight={0: 1, 1: 20}, solver=newton-cholesky;, score=0.339 total time=   3.4s\n",
      "[CV 2/10; 55/100] START C=100, class_weight={0: 1, 1: 100}, solver=liblinear....\n"
     ]
    },
    {
     "name": "stderr",
     "output_type": "stream",
     "text": [
      "/opt/mamba/lib/python3.10/site-packages/sklearn/linear_model/_glm/_newton_solver.py:491: LinAlgWarning: The inner solver of NewtonCholeskySolver stumbled upon a singular or very ill-conditioned Hessian matrix at iteration #3. It will now resort to lbfgs instead.\n",
      "Further options are to use another solver or to avoid such situation in the first place. Possible remedies are removing collinear features of X or increasing the penalization strengths.\n",
      "The original Linear Algebra message was:\n",
      "Matrix is singular.\n",
      "  warnings.warn(\n",
      "/opt/mamba/lib/python3.10/site-packages/sklearn/linear_model/_glm/_newton_solver.py:491: LinAlgWarning: The inner solver of NewtonCholeskySolver stumbled upon a singular or very ill-conditioned Hessian matrix at iteration #3. It will now resort to lbfgs instead.\n",
      "Further options are to use another solver or to avoid such situation in the first place. Possible remedies are removing collinear features of X or increasing the penalization strengths.\n",
      "The original Linear Algebra message was:\n",
      "Matrix is singular.\n",
      "  warnings.warn(\n",
      "/opt/mamba/lib/python3.10/site-packages/sklearn/linear_model/_glm/_newton_solver.py:195: ConvergenceWarning: lbfgs failed to converge (status=1):\n",
      "STOP: TOTAL NO. of ITERATIONS REACHED LIMIT.\n",
      "\n",
      "Increase the number of iterations (max_iter) or scale the data as shown in:\n",
      "    https://scikit-learn.org/stable/modules/preprocessing.html\n",
      "  self.n_iter_ = _check_optimize_result(\"lbfgs\", opt_res)\n"
     ]
    },
    {
     "name": "stdout",
     "output_type": "stream",
     "text": [
      "[CV 5/10; 51/100] END C=100, class_weight={0: 1, 1: 20}, solver=liblinear;, score=0.340 total time=   4.8s\n",
      "[CV 3/10; 55/100] START C=100, class_weight={0: 1, 1: 100}, solver=liblinear....\n",
      "[CV 9/10; 49/100] END C=100, class_weight={0: 1, 1: 16}, solver=liblinear;, score=0.388 total time=   7.0s\n",
      "[CV 4/10; 55/100] START C=100, class_weight={0: 1, 1: 100}, solver=liblinear....\n",
      "[CV 4/10; 47/100] END C=100, class_weight={0: 1, 1: 15}, solver=liblinear;, score=0.476 total time=  10.8s\n",
      "[CV 9/10; 52/100] END C=100, class_weight={0: 1, 1: 20}, solver=newton-cholesky;, score=0.282 total time=   3.1s\n",
      "[CV 5/10; 55/100] START C=100, class_weight={0: 1, 1: 100}, solver=liblinear....\n",
      "[CV 6/10; 55/100] START C=100, class_weight={0: 1, 1: 100}, solver=liblinear....\n",
      "[CV 8/10; 52/100] END C=100, class_weight={0: 1, 1: 20}, solver=newton-cholesky;, score=0.273 total time=   3.2s\n"
     ]
    },
    {
     "name": "stderr",
     "output_type": "stream",
     "text": [
      "/opt/mamba/lib/python3.10/site-packages/sklearn/linear_model/_glm/_newton_solver.py:195: ConvergenceWarning: lbfgs failed to converge (status=1):\n",
      "STOP: TOTAL NO. of ITERATIONS REACHED LIMIT.\n",
      "\n",
      "Increase the number of iterations (max_iter) or scale the data as shown in:\n",
      "    https://scikit-learn.org/stable/modules/preprocessing.html\n",
      "  self.n_iter_ = _check_optimize_result(\"lbfgs\", opt_res)\n"
     ]
    },
    {
     "name": "stdout",
     "output_type": "stream",
     "text": [
      "[CV 7/10; 55/100] START C=100, class_weight={0: 1, 1: 100}, solver=liblinear....\n",
      "[CV 2/10; 47/100] END C=100, class_weight={0: 1, 1: 15}, solver=liblinear;, score=0.451 total time=  11.4s\n",
      "[CV 10/10; 49/100] END C=100, class_weight={0: 1, 1: 16}, solver=liblinear;, score=0.391 total time=   7.3s\n",
      "[CV 8/10; 55/100] START C=100, class_weight={0: 1, 1: 100}, solver=liblinear....\n",
      "[CV 9/10; 55/100] START C=100, class_weight={0: 1, 1: 100}, solver=liblinear....\n",
      "[CV 5/10; 43/100] END C=100, class_weight={0: 1, 1: 10}, solver=liblinear;, score=0.563 total time=  15.6s\n",
      "[CV 10/10; 55/100] START C=100, class_weight={0: 1, 1: 100}, solver=liblinear...\n",
      "[CV 8/10; 47/100] END C=100, class_weight={0: 1, 1: 15}, solver=liblinear;, score=0.386 total time=  10.8s\n",
      "[CV 1/10; 56/100] START C=100, class_weight={0: 1, 1: 100}, solver=newton-cholesky\n",
      "[CV 7/10; 49/100] END C=100, class_weight={0: 1, 1: 16}, solver=liblinear;, score=0.446 total time=   8.0s\n",
      "[CV 2/10; 56/100] START C=100, class_weight={0: 1, 1: 100}, solver=newton-cholesky\n"
     ]
    },
    {
     "name": "stderr",
     "output_type": "stream",
     "text": [
      "/opt/mamba/lib/python3.10/site-packages/sklearn/linear_model/_glm/_newton_solver.py:491: LinAlgWarning: The inner solver of NewtonCholeskySolver stumbled upon a singular or very ill-conditioned Hessian matrix at iteration #3. It will now resort to lbfgs instead.\n",
      "Further options are to use another solver or to avoid such situation in the first place. Possible remedies are removing collinear features of X or increasing the penalization strengths.\n",
      "The original Linear Algebra message was:\n",
      "Matrix is singular.\n",
      "  warnings.warn(\n",
      "/opt/mamba/lib/python3.10/site-packages/sklearn/linear_model/_glm/_newton_solver.py:491: LinAlgWarning: The inner solver of NewtonCholeskySolver stumbled upon a singular or very ill-conditioned Hessian matrix at iteration #3. It will now resort to lbfgs instead.\n",
      "Further options are to use another solver or to avoid such situation in the first place. Possible remedies are removing collinear features of X or increasing the penalization strengths.\n",
      "The original Linear Algebra message was:\n",
      "Matrix is singular.\n",
      "  warnings.warn(\n",
      "/opt/mamba/lib/python3.10/site-packages/sklearn/linear_model/_glm/_newton_solver.py:195: ConvergenceWarning: lbfgs failed to converge (status=1):\n",
      "STOP: TOTAL NO. of ITERATIONS REACHED LIMIT.\n",
      "\n",
      "Increase the number of iterations (max_iter) or scale the data as shown in:\n",
      "    https://scikit-learn.org/stable/modules/preprocessing.html\n",
      "  self.n_iter_ = _check_optimize_result(\"lbfgs\", opt_res)\n"
     ]
    },
    {
     "name": "stdout",
     "output_type": "stream",
     "text": [
      "[CV 8/10; 51/100] END C=100, class_weight={0: 1, 1: 20}, solver=liblinear;, score=0.277 total time=   6.2s\n",
      "[CV 3/10; 56/100] START C=100, class_weight={0: 1, 1: 100}, solver=newton-cholesky\n",
      "[CV 3/10; 54/100] END C=100, class_weight={0: 1, 1: 50}, solver=newton-cholesky;, score=-0.232 total time=   2.7s\n",
      "[CV 4/10; 56/100] START C=100, class_weight={0: 1, 1: 100}, solver=newton-cholesky\n",
      "[CV 7/10; 51/100] END C=100, class_weight={0: 1, 1: 20}, solver=liblinear;, score=0.342 total time=   6.5s\n",
      "[CV 5/10; 56/100] START C=100, class_weight={0: 1, 1: 100}, solver=newton-cholesky\n",
      "[CV 8/10; 54/100] END C=100, class_weight={0: 1, 1: 50}, solver=newton-cholesky;, score=-0.368 total time=   2.6s\n",
      "[CV 2/10; 54/100] END C=100, class_weight={0: 1, 1: 50}, solver=newton-cholesky;, score=-0.230 total time=   3.1s\n",
      "[CV 6/10; 56/100] START C=100, class_weight={0: 1, 1: 100}, solver=newton-cholesky\n"
     ]
    },
    {
     "name": "stderr",
     "output_type": "stream",
     "text": [
      "/opt/mamba/lib/python3.10/site-packages/sklearn/linear_model/_glm/_newton_solver.py:195: ConvergenceWarning: lbfgs failed to converge (status=1):\n",
      "STOP: TOTAL NO. of ITERATIONS REACHED LIMIT.\n",
      "\n",
      "Increase the number of iterations (max_iter) or scale the data as shown in:\n",
      "    https://scikit-learn.org/stable/modules/preprocessing.html\n",
      "  self.n_iter_ = _check_optimize_result(\"lbfgs\", opt_res)\n",
      "/opt/mamba/lib/python3.10/site-packages/sklearn/linear_model/_glm/_newton_solver.py:195: ConvergenceWarning: lbfgs failed to converge (status=1):\n",
      "STOP: TOTAL NO. of ITERATIONS REACHED LIMIT.\n",
      "\n",
      "Increase the number of iterations (max_iter) or scale the data as shown in:\n",
      "    https://scikit-learn.org/stable/modules/preprocessing.html\n",
      "  self.n_iter_ = _check_optimize_result(\"lbfgs\", opt_res)\n",
      "/opt/mamba/lib/python3.10/site-packages/sklearn/linear_model/_glm/_newton_solver.py:491: LinAlgWarning: The inner solver of NewtonCholeskySolver stumbled upon a singular or very ill-conditioned Hessian matrix at iteration #3. It will now resort to lbfgs instead.\n",
      "Further options are to use another solver or to avoid such situation in the first place. Possible remedies are removing collinear features of X or increasing the penalization strengths.\n",
      "The original Linear Algebra message was:\n",
      "Matrix is singular.\n",
      "  warnings.warn(\n",
      "/opt/mamba/lib/python3.10/site-packages/sklearn/linear_model/_glm/_newton_solver.py:195: ConvergenceWarning: lbfgs failed to converge (status=1):\n",
      "STOP: TOTAL NO. of ITERATIONS REACHED LIMIT.\n",
      "\n",
      "Increase the number of iterations (max_iter) or scale the data as shown in:\n",
      "    https://scikit-learn.org/stable/modules/preprocessing.html\n",
      "  self.n_iter_ = _check_optimize_result(\"lbfgs\", opt_res)\n"
     ]
    },
    {
     "name": "stdout",
     "output_type": "stream",
     "text": [
      "[CV 7/10; 56/100] START C=100, class_weight={0: 1, 1: 100}, solver=newton-cholesky\n",
      "[CV 6/10; 54/100] END C=100, class_weight={0: 1, 1: 50}, solver=newton-cholesky;, score=-0.247 total time=   2.8s\n",
      "[CV 8/10; 56/100] START C=100, class_weight={0: 1, 1: 100}, solver=newton-cholesky\n",
      "[CV 6/10; 51/100] END C=100, class_weight={0: 1, 1: 20}, solver=liblinear;, score=0.320 total time=   7.0s\n"
     ]
    },
    {
     "name": "stderr",
     "output_type": "stream",
     "text": [
      "/opt/mamba/lib/python3.10/site-packages/sklearn/linear_model/_glm/_newton_solver.py:491: LinAlgWarning: The inner solver of NewtonCholeskySolver stumbled upon a singular or very ill-conditioned Hessian matrix at iteration #3. It will now resort to lbfgs instead.\n",
      "Further options are to use another solver or to avoid such situation in the first place. Possible remedies are removing collinear features of X or increasing the penalization strengths.\n",
      "The original Linear Algebra message was:\n",
      "Matrix is singular.\n",
      "  warnings.warn(\n",
      "/opt/mamba/lib/python3.10/site-packages/sklearn/linear_model/_glm/_newton_solver.py:491: LinAlgWarning: The inner solver of NewtonCholeskySolver stumbled upon a singular or very ill-conditioned Hessian matrix at iteration #3. It will now resort to lbfgs instead.\n",
      "Further options are to use another solver or to avoid such situation in the first place. Possible remedies are removing collinear features of X or increasing the penalization strengths.\n",
      "The original Linear Algebra message was:\n",
      "Matrix is singular.\n",
      "  warnings.warn(\n",
      "/opt/mamba/lib/python3.10/site-packages/sklearn/linear_model/_glm/_newton_solver.py:195: ConvergenceWarning: lbfgs failed to converge (status=1):\n",
      "STOP: TOTAL NO. of ITERATIONS REACHED LIMIT.\n",
      "\n",
      "Increase the number of iterations (max_iter) or scale the data as shown in:\n",
      "    https://scikit-learn.org/stable/modules/preprocessing.html\n",
      "  self.n_iter_ = _check_optimize_result(\"lbfgs\", opt_res)\n",
      "/opt/mamba/lib/python3.10/site-packages/sklearn/linear_model/_glm/_newton_solver.py:195: ConvergenceWarning: lbfgs failed to converge (status=1):\n",
      "STOP: TOTAL NO. of ITERATIONS REACHED LIMIT.\n",
      "\n",
      "Increase the number of iterations (max_iter) or scale the data as shown in:\n",
      "    https://scikit-learn.org/stable/modules/preprocessing.html\n",
      "  self.n_iter_ = _check_optimize_result(\"lbfgs\", opt_res)\n",
      "/opt/mamba/lib/python3.10/site-packages/sklearn/linear_model/_glm/_newton_solver.py:195: ConvergenceWarning: lbfgs failed to converge (status=1):\n",
      "STOP: TOTAL NO. of ITERATIONS REACHED LIMIT.\n",
      "\n",
      "Increase the number of iterations (max_iter) or scale the data as shown in:\n",
      "    https://scikit-learn.org/stable/modules/preprocessing.html\n",
      "  self.n_iter_ = _check_optimize_result(\"lbfgs\", opt_res)\n",
      "/opt/mamba/lib/python3.10/site-packages/sklearn/linear_model/_glm/_newton_solver.py:491: LinAlgWarning: The inner solver of NewtonCholeskySolver stumbled upon a singular or very ill-conditioned Hessian matrix at iteration #3. It will now resort to lbfgs instead.\n",
      "Further options are to use another solver or to avoid such situation in the first place. Possible remedies are removing collinear features of X or increasing the penalization strengths.\n",
      "The original Linear Algebra message was:\n",
      "Matrix is singular.\n",
      "  warnings.warn(\n",
      "/opt/mamba/lib/python3.10/site-packages/sklearn/linear_model/_glm/_newton_solver.py:491: LinAlgWarning: The inner solver of NewtonCholeskySolver stumbled upon a singular or very ill-conditioned Hessian matrix at iteration #3. It will now resort to lbfgs instead.\n",
      "Further options are to use another solver or to avoid such situation in the first place. Possible remedies are removing collinear features of X or increasing the penalization strengths.\n",
      "The original Linear Algebra message was:\n",
      "Matrix is singular.\n",
      "  warnings.warn(\n"
     ]
    },
    {
     "name": "stdout",
     "output_type": "stream",
     "text": [
      "[CV 4/10; 56/100] END C=100, class_weight={0: 1, 1: 100}, solver=newton-cholesky;, score=-0.591 total time=   0.6s\n",
      "[CV 9/10; 56/100] START C=100, class_weight={0: 1, 1: 100}, solver=newton-cholesky\n",
      "[CV 10/10; 56/100] START C=100, class_weight={0: 1, 1: 100}, solver=newton-cholesky\n",
      "[CV 5/10; 54/100] END C=100, class_weight={0: 1, 1: 50}, solver=newton-cholesky;, score=-0.315 total time=   3.2s\n",
      "[CV 7/10; 54/100] END C=100, class_weight={0: 1, 1: 50}, solver=newton-cholesky;, score=-0.279 total time=   3.1s\n",
      "[CV 1/10; 57/100] START C=100, class_weight={0: 1, 1: 150}, solver=liblinear....\n",
      "[CV 1/10; 54/100] END C=100, class_weight={0: 1, 1: 50}, solver=newton-cholesky;, score=-0.408 total time=   3.7s\n",
      "[CV 2/10; 57/100] START C=100, class_weight={0: 1, 1: 150}, solver=liblinear....\n",
      "[CV 3/10; 57/100] START C=100, class_weight={0: 1, 1: 150}, solver=liblinear....\n",
      "[CV 2/10; 53/100] END C=100, class_weight={0: 1, 1: 50}, solver=liblinear;, score=-0.219 total time=   5.2s\n",
      "[CV 4/10; 51/100] END C=100, class_weight={0: 1, 1: 20}, solver=liblinear;, score=0.336 total time=   7.6s\n",
      "[CV 4/10; 57/100] START C=100, class_weight={0: 1, 1: 150}, solver=liblinear....\n",
      "[CV 3/10; 51/100] END C=100, class_weight={0: 1, 1: 20}, solver=liblinear;, score=0.333 total time=   7.7s\n"
     ]
    },
    {
     "name": "stderr",
     "output_type": "stream",
     "text": [
      "/opt/mamba/lib/python3.10/site-packages/sklearn/linear_model/_glm/_newton_solver.py:491: LinAlgWarning: The inner solver of NewtonCholeskySolver stumbled upon a singular or very ill-conditioned Hessian matrix at iteration #3. It will now resort to lbfgs instead.\n",
      "Further options are to use another solver or to avoid such situation in the first place. Possible remedies are removing collinear features of X or increasing the penalization strengths.\n",
      "The original Linear Algebra message was:\n",
      "Matrix is singular.\n",
      "  warnings.warn(\n",
      "/opt/mamba/lib/python3.10/site-packages/sklearn/linear_model/_glm/_newton_solver.py:491: LinAlgWarning: The inner solver of NewtonCholeskySolver stumbled upon a singular or very ill-conditioned Hessian matrix at iteration #3. It will now resort to lbfgs instead.\n",
      "Further options are to use another solver or to avoid such situation in the first place. Possible remedies are removing collinear features of X or increasing the penalization strengths.\n",
      "The original Linear Algebra message was:\n",
      "Matrix is singular.\n",
      "  warnings.warn(\n",
      "/opt/mamba/lib/python3.10/site-packages/sklearn/linear_model/_glm/_newton_solver.py:195: ConvergenceWarning: lbfgs failed to converge (status=1):\n",
      "STOP: TOTAL NO. of ITERATIONS REACHED LIMIT.\n",
      "\n",
      "Increase the number of iterations (max_iter) or scale the data as shown in:\n",
      "    https://scikit-learn.org/stable/modules/preprocessing.html\n",
      "  self.n_iter_ = _check_optimize_result(\"lbfgs\", opt_res)\n"
     ]
    },
    {
     "name": "stdout",
     "output_type": "stream",
     "text": [
      "[CV 10/10; 51/100] END C=100, class_weight={0: 1, 1: 20}, solver=liblinear;, score=0.291 total time=   7.0s\n",
      "[CV 5/10; 57/100] START C=100, class_weight={0: 1, 1: 150}, solver=liblinear....\n",
      "[CV 6/10; 57/100] START C=100, class_weight={0: 1, 1: 150}, solver=liblinear....\n",
      "[CV 7/10; 57/100] START C=100, class_weight={0: 1, 1: 150}, solver=liblinear....\n",
      "[CV 9/10; 54/100] END C=100, class_weight={0: 1, 1: 50}, solver=newton-cholesky;, score=-0.337 total time=   3.3s\n",
      "[CV 2/10; 51/100] END C=100, class_weight={0: 1, 1: 20}, solver=liblinear;, score=0.328 total time=   8.0s\n",
      "[CV 8/10; 57/100] START C=100, class_weight={0: 1, 1: 150}, solver=liblinear....\n",
      "[CV 9/10; 57/100] START C=100, class_weight={0: 1, 1: 150}, solver=liblinear....\n"
     ]
    },
    {
     "name": "stderr",
     "output_type": "stream",
     "text": [
      "/opt/mamba/lib/python3.10/site-packages/sklearn/linear_model/_glm/_newton_solver.py:195: ConvergenceWarning: lbfgs failed to converge (status=1):\n",
      "STOP: TOTAL NO. of ITERATIONS REACHED LIMIT.\n",
      "\n",
      "Increase the number of iterations (max_iter) or scale the data as shown in:\n",
      "    https://scikit-learn.org/stable/modules/preprocessing.html\n",
      "  self.n_iter_ = _check_optimize_result(\"lbfgs\", opt_res)\n"
     ]
    },
    {
     "name": "stdout",
     "output_type": "stream",
     "text": [
      "[CV 10/10; 54/100] END C=100, class_weight={0: 1, 1: 50}, solver=newton-cholesky;, score=-0.302 total time=   3.5s\n",
      "[CV 10/10; 57/100] START C=100, class_weight={0: 1, 1: 150}, solver=liblinear...\n",
      "[CV 1/10; 55/100] END C=100, class_weight={0: 1, 1: 100}, solver=liblinear;, score=-0.801 total time=   3.6s\n",
      "[CV 1/10; 58/100] START C=100, class_weight={0: 1, 1: 150}, solver=newton-cholesky\n",
      "[CV 7/10; 53/100] END C=100, class_weight={0: 1, 1: 50}, solver=liblinear;, score=-0.272 total time=   5.9s\n",
      "[CV 2/10; 58/100] START C=100, class_weight={0: 1, 1: 150}, solver=newton-cholesky\n"
     ]
    },
    {
     "name": "stderr",
     "output_type": "stream",
     "text": [
      "/opt/mamba/lib/python3.10/site-packages/sklearn/linear_model/_glm/_newton_solver.py:491: LinAlgWarning: The inner solver of NewtonCholeskySolver stumbled upon a singular or very ill-conditioned Hessian matrix at iteration #3. It will now resort to lbfgs instead.\n",
      "Further options are to use another solver or to avoid such situation in the first place. Possible remedies are removing collinear features of X or increasing the penalization strengths.\n",
      "The original Linear Algebra message was:\n",
      "Matrix is singular.\n",
      "  warnings.warn(\n",
      "/opt/mamba/lib/python3.10/site-packages/sklearn/linear_model/_glm/_newton_solver.py:195: ConvergenceWarning: lbfgs failed to converge (status=1):\n",
      "STOP: TOTAL NO. of ITERATIONS REACHED LIMIT.\n",
      "\n",
      "Increase the number of iterations (max_iter) or scale the data as shown in:\n",
      "    https://scikit-learn.org/stable/modules/preprocessing.html\n",
      "  self.n_iter_ = _check_optimize_result(\"lbfgs\", opt_res)\n",
      "/opt/mamba/lib/python3.10/site-packages/sklearn/linear_model/_glm/_newton_solver.py:491: LinAlgWarning: The inner solver of NewtonCholeskySolver stumbled upon a singular or very ill-conditioned Hessian matrix at iteration #3. It will now resort to lbfgs instead.\n",
      "Further options are to use another solver or to avoid such situation in the first place. Possible remedies are removing collinear features of X or increasing the penalization strengths.\n",
      "The original Linear Algebra message was:\n",
      "Matrix is singular.\n",
      "  warnings.warn(\n"
     ]
    },
    {
     "name": "stdout",
     "output_type": "stream",
     "text": [
      "[CV 9/10; 51/100] END C=100, class_weight={0: 1, 1: 20}, solver=liblinear;, score=0.280 total time=   8.3s\n",
      "[CV 3/10; 58/100] START C=100, class_weight={0: 1, 1: 150}, solver=newton-cholesky\n",
      "[CV 2/10; 56/100] END C=100, class_weight={0: 1, 1: 100}, solver=newton-cholesky;, score=-0.593 total time=   2.7s\n",
      "[CV 4/10; 58/100] START C=100, class_weight={0: 1, 1: 150}, solver=newton-cholesky\n"
     ]
    },
    {
     "name": "stderr",
     "output_type": "stream",
     "text": [
      "/opt/mamba/lib/python3.10/site-packages/sklearn/linear_model/_glm/_newton_solver.py:195: ConvergenceWarning: lbfgs failed to converge (status=1):\n",
      "STOP: TOTAL NO. of ITERATIONS REACHED LIMIT.\n",
      "\n",
      "Increase the number of iterations (max_iter) or scale the data as shown in:\n",
      "    https://scikit-learn.org/stable/modules/preprocessing.html\n",
      "  self.n_iter_ = _check_optimize_result(\"lbfgs\", opt_res)\n",
      "/opt/mamba/lib/python3.10/site-packages/sklearn/linear_model/_glm/_newton_solver.py:491: LinAlgWarning: The inner solver of NewtonCholeskySolver stumbled upon a singular or very ill-conditioned Hessian matrix at iteration #3. It will now resort to lbfgs instead.\n",
      "Further options are to use another solver or to avoid such situation in the first place. Possible remedies are removing collinear features of X or increasing the penalization strengths.\n",
      "The original Linear Algebra message was:\n",
      "Matrix is singular.\n",
      "  warnings.warn(\n"
     ]
    },
    {
     "name": "stdout",
     "output_type": "stream",
     "text": [
      "[CV 1/10; 53/100] END C=100, class_weight={0: 1, 1: 50}, solver=liblinear;, score=-0.399 total time=   6.7s\n",
      "[CV 5/10; 58/100] START C=100, class_weight={0: 1, 1: 150}, solver=newton-cholesky\n",
      "[CV 1/10; 56/100] END C=100, class_weight={0: 1, 1: 100}, solver=newton-cholesky;, score=-0.818 total time=   3.0s\n",
      "[CV 6/10; 58/100] START C=100, class_weight={0: 1, 1: 150}, solver=newton-cholesky\n",
      "[CV 5/10; 53/100] END C=100, class_weight={0: 1, 1: 50}, solver=liblinear;, score=-0.309 total time=   6.7s\n",
      "[CV 7/10; 58/100] START C=100, class_weight={0: 1, 1: 150}, solver=newton-cholesky\n",
      "[CV 5/10; 56/100] END C=100, class_weight={0: 1, 1: 100}, solver=newton-cholesky;, score=-0.702 total time=   2.7s\n"
     ]
    },
    {
     "name": "stderr",
     "output_type": "stream",
     "text": [
      "/opt/mamba/lib/python3.10/site-packages/sklearn/linear_model/_glm/_newton_solver.py:491: LinAlgWarning: The inner solver of NewtonCholeskySolver stumbled upon a singular or very ill-conditioned Hessian matrix at iteration #3. It will now resort to lbfgs instead.\n",
      "Further options are to use another solver or to avoid such situation in the first place. Possible remedies are removing collinear features of X or increasing the penalization strengths.\n",
      "The original Linear Algebra message was:\n",
      "Matrix is singular.\n",
      "  warnings.warn(\n",
      "/opt/mamba/lib/python3.10/site-packages/sklearn/linear_model/_glm/_newton_solver.py:195: ConvergenceWarning: lbfgs failed to converge (status=1):\n",
      "STOP: TOTAL NO. of ITERATIONS REACHED LIMIT.\n",
      "\n",
      "Increase the number of iterations (max_iter) or scale the data as shown in:\n",
      "    https://scikit-learn.org/stable/modules/preprocessing.html\n",
      "  self.n_iter_ = _check_optimize_result(\"lbfgs\", opt_res)\n",
      "/opt/mamba/lib/python3.10/site-packages/sklearn/linear_model/_glm/_newton_solver.py:195: ConvergenceWarning: lbfgs failed to converge (status=1):\n",
      "STOP: TOTAL NO. of ITERATIONS REACHED LIMIT.\n",
      "\n",
      "Increase the number of iterations (max_iter) or scale the data as shown in:\n",
      "    https://scikit-learn.org/stable/modules/preprocessing.html\n",
      "  self.n_iter_ = _check_optimize_result(\"lbfgs\", opt_res)\n"
     ]
    },
    {
     "name": "stdout",
     "output_type": "stream",
     "text": [
      "[CV 4/10; 58/100] END C=100, class_weight={0: 1, 1: 150}, solver=newton-cholesky;, score=-0.721 total time=   0.6s\n",
      "[CV 8/10; 58/100] START C=100, class_weight={0: 1, 1: 150}, solver=newton-cholesky\n",
      "[CV 9/10; 58/100] START C=100, class_weight={0: 1, 1: 150}, solver=newton-cholesky\n",
      "[CV 6/10; 56/100] END C=100, class_weight={0: 1, 1: 100}, solver=newton-cholesky;, score=-0.570 total time=   2.6s\n",
      "[CV 10/10; 58/100] START C=100, class_weight={0: 1, 1: 150}, solver=newton-cholesky\n"
     ]
    },
    {
     "name": "stderr",
     "output_type": "stream",
     "text": [
      "/opt/mamba/lib/python3.10/site-packages/sklearn/linear_model/_glm/_newton_solver.py:491: LinAlgWarning: The inner solver of NewtonCholeskySolver stumbled upon a singular or very ill-conditioned Hessian matrix at iteration #3. It will now resort to lbfgs instead.\n",
      "Further options are to use another solver or to avoid such situation in the first place. Possible remedies are removing collinear features of X or increasing the penalization strengths.\n",
      "The original Linear Algebra message was:\n",
      "Matrix is singular.\n",
      "  warnings.warn(\n",
      "/opt/mamba/lib/python3.10/site-packages/sklearn/linear_model/_glm/_newton_solver.py:491: LinAlgWarning: The inner solver of NewtonCholeskySolver stumbled upon a singular or very ill-conditioned Hessian matrix at iteration #3. It will now resort to lbfgs instead.\n",
      "Further options are to use another solver or to avoid such situation in the first place. Possible remedies are removing collinear features of X or increasing the penalization strengths.\n",
      "The original Linear Algebra message was:\n",
      "Matrix is singular.\n",
      "  warnings.warn(\n",
      "/opt/mamba/lib/python3.10/site-packages/sklearn/linear_model/_glm/_newton_solver.py:195: ConvergenceWarning: lbfgs failed to converge (status=1):\n",
      "STOP: TOTAL NO. of ITERATIONS REACHED LIMIT.\n",
      "\n",
      "Increase the number of iterations (max_iter) or scale the data as shown in:\n",
      "    https://scikit-learn.org/stable/modules/preprocessing.html\n",
      "  self.n_iter_ = _check_optimize_result(\"lbfgs\", opt_res)\n"
     ]
    },
    {
     "name": "stdout",
     "output_type": "stream",
     "text": [
      "[CV 2/10; 55/100] END C=100, class_weight={0: 1, 1: 100}, solver=liblinear;, score=-0.572 total time=   4.9s\n",
      "[CV 1/10; 59/100] START C=100, class_weight={0: 1, 1: 1000}, solver=liblinear...\n",
      "[CV 3/10; 56/100] END C=100, class_weight={0: 1, 1: 100}, solver=newton-cholesky;, score=-0.605 total time=   3.2s\n",
      "[CV 2/10; 59/100] START C=100, class_weight={0: 1, 1: 1000}, solver=liblinear...\n"
     ]
    },
    {
     "name": "stderr",
     "output_type": "stream",
     "text": [
      "/opt/mamba/lib/python3.10/site-packages/sklearn/linear_model/_glm/_newton_solver.py:491: LinAlgWarning: The inner solver of NewtonCholeskySolver stumbled upon a singular or very ill-conditioned Hessian matrix at iteration #3. It will now resort to lbfgs instead.\n",
      "Further options are to use another solver or to avoid such situation in the first place. Possible remedies are removing collinear features of X or increasing the penalization strengths.\n",
      "The original Linear Algebra message was:\n",
      "Matrix is singular.\n",
      "  warnings.warn(\n",
      "/opt/mamba/lib/python3.10/site-packages/sklearn/linear_model/_glm/_newton_solver.py:491: LinAlgWarning: The inner solver of NewtonCholeskySolver stumbled upon a singular or very ill-conditioned Hessian matrix at iteration #3. It will now resort to lbfgs instead.\n",
      "Further options are to use another solver or to avoid such situation in the first place. Possible remedies are removing collinear features of X or increasing the penalization strengths.\n",
      "The original Linear Algebra message was:\n",
      "Matrix is singular.\n",
      "  warnings.warn(\n",
      "/opt/mamba/lib/python3.10/site-packages/sklearn/linear_model/_glm/_newton_solver.py:491: LinAlgWarning: The inner solver of NewtonCholeskySolver stumbled upon a singular or very ill-conditioned Hessian matrix at iteration #3. It will now resort to lbfgs instead.\n",
      "Further options are to use another solver or to avoid such situation in the first place. Possible remedies are removing collinear features of X or increasing the penalization strengths.\n",
      "The original Linear Algebra message was:\n",
      "Matrix is singular.\n",
      "  warnings.warn(\n",
      "/opt/mamba/lib/python3.10/site-packages/sklearn/linear_model/_glm/_newton_solver.py:195: ConvergenceWarning: lbfgs failed to converge (status=1):\n",
      "STOP: TOTAL NO. of ITERATIONS REACHED LIMIT.\n",
      "\n",
      "Increase the number of iterations (max_iter) or scale the data as shown in:\n",
      "    https://scikit-learn.org/stable/modules/preprocessing.html\n",
      "  self.n_iter_ = _check_optimize_result(\"lbfgs\", opt_res)\n"
     ]
    },
    {
     "name": "stdout",
     "output_type": "stream",
     "text": [
      "[CV 7/10; 55/100] END C=100, class_weight={0: 1, 1: 100}, solver=liblinear;, score=-0.660 total time=   4.6s\n",
      "[CV 3/10; 59/100] START C=100, class_weight={0: 1, 1: 1000}, solver=liblinear...\n",
      "[CV 6/10; 55/100] END C=100, class_weight={0: 1, 1: 100}, solver=liblinear;, score=-0.560 total time=   4.9s\n",
      "[CV 8/10; 53/100] END C=100, class_weight={0: 1, 1: 50}, solver=liblinear;, score=-0.340 total time=   6.9s\n"
     ]
    },
    {
     "name": "stderr",
     "output_type": "stream",
     "text": [
      "/opt/mamba/lib/python3.10/site-packages/sklearn/linear_model/_glm/_newton_solver.py:195: ConvergenceWarning: lbfgs failed to converge (status=1):\n",
      "STOP: TOTAL NO. of ITERATIONS REACHED LIMIT.\n",
      "\n",
      "Increase the number of iterations (max_iter) or scale the data as shown in:\n",
      "    https://scikit-learn.org/stable/modules/preprocessing.html\n",
      "  self.n_iter_ = _check_optimize_result(\"lbfgs\", opt_res)\n"
     ]
    },
    {
     "name": "stdout",
     "output_type": "stream",
     "text": [
      "[CV 4/10; 59/100] START C=100, class_weight={0: 1, 1: 1000}, solver=liblinear...\n",
      "[CV 9/10; 56/100] END C=100, class_weight={0: 1, 1: 100}, solver=newton-cholesky;, score=-0.713 total time=   3.0s\n",
      "[CV 5/10; 55/100] END C=100, class_weight={0: 1, 1: 100}, solver=liblinear;, score=-0.683 total time=   5.0s\n",
      "[CV 5/10; 59/100] START C=100, class_weight={0: 1, 1: 1000}, solver=liblinear...\n",
      "[CV 6/10; 59/100] START C=100, class_weight={0: 1, 1: 1000}, solver=liblinear...\n",
      "[CV 8/10; 56/100] END C=100, class_weight={0: 1, 1: 100}, solver=newton-cholesky;, score=-0.748 total time=   3.3s\n",
      "[CV 7/10; 59/100] START C=100, class_weight={0: 1, 1: 1000}, solver=liblinear...\n",
      "[CV 1/10; 51/100] END C=100, class_weight={0: 1, 1: 20}, solver=liblinear;, score=0.249 total time=  10.6s\n",
      "[CV 8/10; 59/100] START C=100, class_weight={0: 1, 1: 1000}, solver=liblinear...\n"
     ]
    },
    {
     "name": "stderr",
     "output_type": "stream",
     "text": [
      "/opt/mamba/lib/python3.10/site-packages/sklearn/linear_model/_glm/_newton_solver.py:195: ConvergenceWarning: lbfgs failed to converge (status=1):\n",
      "STOP: TOTAL NO. of ITERATIONS REACHED LIMIT.\n",
      "\n",
      "Increase the number of iterations (max_iter) or scale the data as shown in:\n",
      "    https://scikit-learn.org/stable/modules/preprocessing.html\n",
      "  self.n_iter_ = _check_optimize_result(\"lbfgs\", opt_res)\n"
     ]
    },
    {
     "name": "stdout",
     "output_type": "stream",
     "text": [
      "[CV 9/10; 59/100] START C=100, class_weight={0: 1, 1: 1000}, solver=liblinear...\n",
      "[CV 7/10; 56/100] END C=100, class_weight={0: 1, 1: 100}, solver=newton-cholesky;, score=-0.678 total time=   3.6s\n",
      "[CV 4/10; 57/100] END C=100, class_weight={0: 1, 1: 150}, solver=liblinear;, score=-0.720 total time=   3.0s\n",
      "[CV 10/10; 59/100] START C=100, class_weight={0: 1, 1: 1000}, solver=liblinear..\n",
      "[CV 8/10; 57/100] END C=100, class_weight={0: 1, 1: 150}, solver=liblinear;, score=-0.871 total time=   2.8s\n",
      "[CV 1/10; 60/100] START C=100, class_weight={0: 1, 1: 1000}, solver=newton-cholesky\n",
      "[CV 2/10; 60/100] START C=100, class_weight={0: 1, 1: 1000}, solver=newton-cholesky\n",
      "[CV 3/10; 53/100] END C=100, class_weight={0: 1, 1: 50}, solver=liblinear;, score=-0.224 total time=   8.4s\n",
      "[CV 3/10; 57/100] END C=100, class_weight={0: 1, 1: 150}, solver=liblinear;, score=-0.701 total time=   3.3s\n",
      "[CV 3/10; 60/100] START C=100, class_weight={0: 1, 1: 1000}, solver=newton-cholesky\n",
      "[CV 4/10; 60/100] START C=100, class_weight={0: 1, 1: 1000}, solver=newton-cholesky\n",
      "[CV 10/10; 56/100] END C=100, class_weight={0: 1, 1: 100}, solver=newton-cholesky;, score=-0.705 total time=   3.6s\n",
      "[CV 9/10; 53/100] END C=100, class_weight={0: 1, 1: 50}, solver=liblinear;, score=-0.328 total time=   7.6s\n",
      "[CV 5/10; 60/100] START C=100, class_weight={0: 1, 1: 1000}, solver=newton-cholesky\n"
     ]
    },
    {
     "name": "stderr",
     "output_type": "stream",
     "text": [
      "/opt/mamba/lib/python3.10/site-packages/sklearn/linear_model/_glm/_newton_solver.py:195: ConvergenceWarning: lbfgs failed to converge (status=1):\n",
      "STOP: TOTAL NO. of ITERATIONS REACHED LIMIT.\n",
      "\n",
      "Increase the number of iterations (max_iter) or scale the data as shown in:\n",
      "    https://scikit-learn.org/stable/modules/preprocessing.html\n",
      "  self.n_iter_ = _check_optimize_result(\"lbfgs\", opt_res)\n",
      "/opt/mamba/lib/python3.10/site-packages/sklearn/linear_model/_glm/_newton_solver.py:195: ConvergenceWarning: lbfgs failed to converge (status=1):\n",
      "STOP: TOTAL NO. of ITERATIONS REACHED LIMIT.\n",
      "\n",
      "Increase the number of iterations (max_iter) or scale the data as shown in:\n",
      "    https://scikit-learn.org/stable/modules/preprocessing.html\n",
      "  self.n_iter_ = _check_optimize_result(\"lbfgs\", opt_res)\n"
     ]
    },
    {
     "name": "stdout",
     "output_type": "stream",
     "text": [
      "[CV 6/10; 60/100] START C=100, class_weight={0: 1, 1: 1000}, solver=newton-cholesky\n",
      "[CV 2/10; 58/100] END C=100, class_weight={0: 1, 1: 150}, solver=newton-cholesky;, score=-0.723 total time=   2.6s\n",
      "[CV 9/10; 55/100] END C=100, class_weight={0: 1, 1: 100}, solver=liblinear;, score=-0.686 total time=   5.5s\n",
      "[CV 7/10; 60/100] START C=100, class_weight={0: 1, 1: 1000}, solver=newton-cholesky\n",
      "[CV 8/10; 60/100] START C=100, class_weight={0: 1, 1: 1000}, solver=newton-cholesky\n"
     ]
    },
    {
     "name": "stderr",
     "output_type": "stream",
     "text": [
      "/opt/mamba/lib/python3.10/site-packages/sklearn/linear_model/_glm/_newton_solver.py:491: LinAlgWarning: The inner solver of NewtonCholeskySolver stumbled upon a singular or very ill-conditioned Hessian matrix at iteration #4. It will now resort to lbfgs instead.\n",
      "Further options are to use another solver or to avoid such situation in the first place. Possible remedies are removing collinear features of X or increasing the penalization strengths.\n",
      "The original Linear Algebra message was:\n",
      "Matrix is singular.\n",
      "  warnings.warn(\n",
      "/opt/mamba/lib/python3.10/site-packages/sklearn/linear_model/_glm/_newton_solver.py:491: LinAlgWarning: The inner solver of NewtonCholeskySolver stumbled upon a singular or very ill-conditioned Hessian matrix at iteration #4. It will now resort to lbfgs instead.\n",
      "Further options are to use another solver or to avoid such situation in the first place. Possible remedies are removing collinear features of X or increasing the penalization strengths.\n",
      "The original Linear Algebra message was:\n",
      "Matrix is singular.\n",
      "  warnings.warn(\n",
      "/opt/mamba/lib/python3.10/site-packages/sklearn/linear_model/_glm/_newton_solver.py:195: ConvergenceWarning: lbfgs failed to converge (status=1):\n",
      "STOP: TOTAL NO. of ITERATIONS REACHED LIMIT.\n",
      "\n",
      "Increase the number of iterations (max_iter) or scale the data as shown in:\n",
      "    https://scikit-learn.org/stable/modules/preprocessing.html\n",
      "  self.n_iter_ = _check_optimize_result(\"lbfgs\", opt_res)\n",
      "/opt/mamba/lib/python3.10/site-packages/sklearn/linear_model/_glm/_newton_solver.py:195: ConvergenceWarning: lbfgs failed to converge (status=1):\n",
      "STOP: TOTAL NO. of ITERATIONS REACHED LIMIT.\n",
      "\n",
      "Increase the number of iterations (max_iter) or scale the data as shown in:\n",
      "    https://scikit-learn.org/stable/modules/preprocessing.html\n",
      "  self.n_iter_ = _check_optimize_result(\"lbfgs\", opt_res)\n",
      "/opt/mamba/lib/python3.10/site-packages/sklearn/linear_model/_glm/_newton_solver.py:491: LinAlgWarning: The inner solver of NewtonCholeskySolver stumbled upon a singular or very ill-conditioned Hessian matrix at iteration #4. It will now resort to lbfgs instead.\n",
      "Further options are to use another solver or to avoid such situation in the first place. Possible remedies are removing collinear features of X or increasing the penalization strengths.\n",
      "The original Linear Algebra message was:\n",
      "Matrix is singular.\n",
      "  warnings.warn(\n"
     ]
    },
    {
     "name": "stdout",
     "output_type": "stream",
     "text": [
      "[CV 1/10; 58/100] END C=100, class_weight={0: 1, 1: 150}, solver=newton-cholesky;, score=-0.963 total time=   2.9s\n",
      "[CV 3/10; 58/100] END C=100, class_weight={0: 1, 1: 150}, solver=newton-cholesky;, score=-0.743 total time=   2.6s\n",
      "[CV 9/10; 60/100] START C=100, class_weight={0: 1, 1: 1000}, solver=newton-cholesky\n",
      "[CV 6/10; 53/100] END C=100, class_weight={0: 1, 1: 50}, solver=liblinear;, score=-0.234 total time=   8.9s\n",
      "[CV 10/10; 60/100] START C=100, class_weight={0: 1, 1: 1000}, solver=newton-cholesky\n",
      "[CV 3/10; 55/100] END C=100, class_weight={0: 1, 1: 100}, solver=liblinear;, score=-0.580 total time=   6.4s\n",
      "[CV 1/10; 61/100] START C=1000, class_weight={0: 1, 1: 1}, solver=liblinear.....\n"
     ]
    },
    {
     "name": "stderr",
     "output_type": "stream",
     "text": [
      "/opt/mamba/lib/python3.10/site-packages/sklearn/linear_model/_glm/_newton_solver.py:491: LinAlgWarning: The inner solver of NewtonCholeskySolver stumbled upon a singular or very ill-conditioned Hessian matrix at iteration #4. It will now resort to lbfgs instead.\n",
      "Further options are to use another solver or to avoid such situation in the first place. Possible remedies are removing collinear features of X or increasing the penalization strengths.\n",
      "The original Linear Algebra message was:\n",
      "Matrix is singular.\n",
      "  warnings.warn(\n",
      "/opt/mamba/lib/python3.10/site-packages/sklearn/linear_model/_glm/_newton_solver.py:491: LinAlgWarning: The inner solver of NewtonCholeskySolver stumbled upon a singular or very ill-conditioned Hessian matrix at iteration #4. It will now resort to lbfgs instead.\n",
      "Further options are to use another solver or to avoid such situation in the first place. Possible remedies are removing collinear features of X or increasing the penalization strengths.\n",
      "The original Linear Algebra message was:\n",
      "Matrix is singular.\n",
      "  warnings.warn(\n",
      "/opt/mamba/lib/python3.10/site-packages/sklearn/linear_model/_glm/_newton_solver.py:491: LinAlgWarning: The inner solver of NewtonCholeskySolver stumbled upon a singular or very ill-conditioned Hessian matrix at iteration #4. It will now resort to lbfgs instead.\n",
      "Further options are to use another solver or to avoid such situation in the first place. Possible remedies are removing collinear features of X or increasing the penalization strengths.\n",
      "The original Linear Algebra message was:\n",
      "Matrix is singular.\n",
      "  warnings.warn(\n",
      "/opt/mamba/lib/python3.10/site-packages/sklearn/linear_model/_glm/_newton_solver.py:195: ConvergenceWarning: lbfgs failed to converge (status=1):\n",
      "STOP: TOTAL NO. of ITERATIONS REACHED LIMIT.\n",
      "\n",
      "Increase the number of iterations (max_iter) or scale the data as shown in:\n",
      "    https://scikit-learn.org/stable/modules/preprocessing.html\n",
      "  self.n_iter_ = _check_optimize_result(\"lbfgs\", opt_res)\n"
     ]
    },
    {
     "name": "stdout",
     "output_type": "stream",
     "text": [
      "[CV 4/10; 60/100] END C=100, class_weight={0: 1, 1: 1000}, solver=newton-cholesky;, score=-0.868 total time=   0.6s\n",
      "[CV 2/10; 61/100] START C=1000, class_weight={0: 1, 1: 1}, solver=liblinear.....\n",
      "[CV 3/10; 61/100] START C=1000, class_weight={0: 1, 1: 1}, solver=liblinear.....\n",
      "[CV 9/10; 57/100] END C=100, class_weight={0: 1, 1: 150}, solver=liblinear;, score=-0.813 total time=   3.6s\n",
      "[CV 4/10; 61/100] START C=1000, class_weight={0: 1, 1: 1}, solver=liblinear.....\n",
      "[CV 5/10; 58/100] END C=100, class_weight={0: 1, 1: 150}, solver=newton-cholesky;, score=-0.832 total time=   2.7s\n"
     ]
    },
    {
     "name": "stderr",
     "output_type": "stream",
     "text": [
      "/opt/mamba/lib/python3.10/site-packages/sklearn/linear_model/_glm/_newton_solver.py:491: LinAlgWarning: The inner solver of NewtonCholeskySolver stumbled upon a singular or very ill-conditioned Hessian matrix at iteration #4. It will now resort to lbfgs instead.\n",
      "Further options are to use another solver or to avoid such situation in the first place. Possible remedies are removing collinear features of X or increasing the penalization strengths.\n",
      "The original Linear Algebra message was:\n",
      "Matrix is singular.\n",
      "  warnings.warn(\n",
      "/opt/mamba/lib/python3.10/site-packages/sklearn/linear_model/_glm/_newton_solver.py:491: LinAlgWarning: The inner solver of NewtonCholeskySolver stumbled upon a singular or very ill-conditioned Hessian matrix at iteration #4. It will now resort to lbfgs instead.\n",
      "Further options are to use another solver or to avoid such situation in the first place. Possible remedies are removing collinear features of X or increasing the penalization strengths.\n",
      "The original Linear Algebra message was:\n",
      "Matrix is singular.\n",
      "  warnings.warn(\n"
     ]
    },
    {
     "name": "stdout",
     "output_type": "stream",
     "text": [
      "[CV 5/10; 61/100] START C=1000, class_weight={0: 1, 1: 1}, solver=liblinear.....\n"
     ]
    },
    {
     "name": "stderr",
     "output_type": "stream",
     "text": [
      "/opt/mamba/lib/python3.10/site-packages/sklearn/linear_model/_glm/_newton_solver.py:491: LinAlgWarning: The inner solver of NewtonCholeskySolver stumbled upon a singular or very ill-conditioned Hessian matrix at iteration #4. It will now resort to lbfgs instead.\n",
      "Further options are to use another solver or to avoid such situation in the first place. Possible remedies are removing collinear features of X or increasing the penalization strengths.\n",
      "The original Linear Algebra message was:\n",
      "Matrix is singular.\n",
      "  warnings.warn(\n"
     ]
    },
    {
     "name": "stdout",
     "output_type": "stream",
     "text": [
      "[CV 2/10; 57/100] END C=100, class_weight={0: 1, 1: 150}, solver=liblinear;, score=-0.704 total time=   4.5s\n",
      "[CV 6/10; 61/100] START C=1000, class_weight={0: 1, 1: 1}, solver=liblinear.....\n",
      "[CV 10/10; 53/100] END C=100, class_weight={0: 1, 1: 50}, solver=liblinear;, score=-0.299 total time=   8.4s\n",
      "[CV 7/10; 61/100] START C=1000, class_weight={0: 1, 1: 1}, solver=liblinear.....\n",
      "[CV 8/10; 55/100] END C=100, class_weight={0: 1, 1: 100}, solver=liblinear;, score=-0.736 total time=   6.7s\n",
      "[CV 8/10; 61/100] START C=1000, class_weight={0: 1, 1: 1}, solver=liblinear.....\n",
      "[CV 6/10; 58/100] END C=100, class_weight={0: 1, 1: 150}, solver=newton-cholesky;, score=-0.708 total time=   3.2s\n",
      "[CV 9/10; 61/100] START C=1000, class_weight={0: 1, 1: 1}, solver=liblinear.....\n"
     ]
    },
    {
     "name": "stderr",
     "output_type": "stream",
     "text": [
      "/opt/mamba/lib/python3.10/site-packages/sklearn/linear_model/_glm/_newton_solver.py:195: ConvergenceWarning: lbfgs failed to converge (status=1):\n",
      "STOP: TOTAL NO. of ITERATIONS REACHED LIMIT.\n",
      "\n",
      "Increase the number of iterations (max_iter) or scale the data as shown in:\n",
      "    https://scikit-learn.org/stable/modules/preprocessing.html\n",
      "  self.n_iter_ = _check_optimize_result(\"lbfgs\", opt_res)\n",
      "/opt/mamba/lib/python3.10/site-packages/sklearn/linear_model/_glm/_newton_solver.py:195: ConvergenceWarning: lbfgs failed to converge (status=1):\n",
      "STOP: TOTAL NO. of ITERATIONS REACHED LIMIT.\n",
      "\n",
      "Increase the number of iterations (max_iter) or scale the data as shown in:\n",
      "    https://scikit-learn.org/stable/modules/preprocessing.html\n",
      "  self.n_iter_ = _check_optimize_result(\"lbfgs\", opt_res)\n"
     ]
    },
    {
     "name": "stdout",
     "output_type": "stream",
     "text": [
      "[CV 6/10; 57/100] END C=100, class_weight={0: 1, 1: 150}, solver=liblinear;, score=-0.687 total time=   4.8s\n",
      "[CV 8/10; 58/100] END C=100, class_weight={0: 1, 1: 150}, solver=newton-cholesky;, score=-0.892 total time=   3.1s\n",
      "[CV 10/10; 55/100] END C=100, class_weight={0: 1, 1: 100}, solver=liblinear;, score=-0.678 total time=   6.7s\n",
      "[CV 10/10; 61/100] START C=1000, class_weight={0: 1, 1: 1}, solver=liblinear....\n",
      "[CV 1/10; 59/100] END C=100, class_weight={0: 1, 1: 1000}, solver=liblinear;, score=-1.090 total time=   2.9s\n",
      "[CV 1/10; 62/100] START C=1000, class_weight={0: 1, 1: 1}, solver=newton-cholesky\n",
      "[CV 2/10; 62/100] START C=1000, class_weight={0: 1, 1: 1}, solver=newton-cholesky\n",
      "[CV 4/10; 55/100] END C=100, class_weight={0: 1, 1: 100}, solver=liblinear;, score=-0.591 total time=   7.6s\n"
     ]
    },
    {
     "name": "stderr",
     "output_type": "stream",
     "text": [
      "/opt/mamba/lib/python3.10/site-packages/sklearn/linear_model/_glm/_newton_solver.py:195: ConvergenceWarning: lbfgs failed to converge (status=1):\n",
      "STOP: TOTAL NO. of ITERATIONS REACHED LIMIT.\n",
      "\n",
      "Increase the number of iterations (max_iter) or scale the data as shown in:\n",
      "    https://scikit-learn.org/stable/modules/preprocessing.html\n",
      "  self.n_iter_ = _check_optimize_result(\"lbfgs\", opt_res)\n",
      "/opt/mamba/lib/python3.10/site-packages/sklearn/linear_model/_glm/_newton_solver.py:195: ConvergenceWarning: lbfgs failed to converge (status=1):\n",
      "STOP: TOTAL NO. of ITERATIONS REACHED LIMIT.\n",
      "\n",
      "Increase the number of iterations (max_iter) or scale the data as shown in:\n",
      "    https://scikit-learn.org/stable/modules/preprocessing.html\n",
      "  self.n_iter_ = _check_optimize_result(\"lbfgs\", opt_res)\n",
      "/opt/mamba/lib/python3.10/site-packages/sklearn/linear_model/_glm/_newton_solver.py:195: ConvergenceWarning: lbfgs failed to converge (status=1):\n",
      "STOP: TOTAL NO. of ITERATIONS REACHED LIMIT.\n",
      "\n",
      "Increase the number of iterations (max_iter) or scale the data as shown in:\n",
      "    https://scikit-learn.org/stable/modules/preprocessing.html\n",
      "  self.n_iter_ = _check_optimize_result(\"lbfgs\", opt_res)\n"
     ]
    },
    {
     "name": "stdout",
     "output_type": "stream",
     "text": [
      "[CV 3/10; 62/100] START C=1000, class_weight={0: 1, 1: 1}, solver=newton-cholesky\n",
      "[CV 10/10; 58/100] END C=100, class_weight={0: 1, 1: 150}, solver=newton-cholesky;, score=-0.843 total time=   3.2s\n",
      "[CV 9/10; 58/100] END C=100, class_weight={0: 1, 1: 150}, solver=newton-cholesky;, score=-0.860 total time=   3.3s\n",
      "[CV 4/10; 62/100] START C=1000, class_weight={0: 1, 1: 1}, solver=newton-cholesky\n",
      "[CV 7/10; 58/100] END C=100, class_weight={0: 1, 1: 150}, solver=newton-cholesky;, score=-0.821 total time=   3.6s\n",
      "[CV 7/10; 57/100] END C=100, class_weight={0: 1, 1: 150}, solver=liblinear;, score=-0.794 total time=   5.1s\n",
      "[CV 5/10; 62/100] START C=1000, class_weight={0: 1, 1: 1}, solver=newton-cholesky\n",
      "[CV 6/10; 62/100] START C=1000, class_weight={0: 1, 1: 1}, solver=newton-cholesky\n"
     ]
    },
    {
     "name": "stderr",
     "output_type": "stream",
     "text": [
      "/opt/mamba/lib/python3.10/site-packages/sklearn/linear_model/_glm/_newton_solver.py:195: ConvergenceWarning: lbfgs failed to converge (status=1):\n",
      "STOP: TOTAL NO. of ITERATIONS REACHED LIMIT.\n",
      "\n",
      "Increase the number of iterations (max_iter) or scale the data as shown in:\n",
      "    https://scikit-learn.org/stable/modules/preprocessing.html\n",
      "  self.n_iter_ = _check_optimize_result(\"lbfgs\", opt_res)\n",
      "/opt/mamba/lib/python3.10/site-packages/sklearn/linear_model/_glm/_newton_solver.py:491: LinAlgWarning: The inner solver of NewtonCholeskySolver stumbled upon a singular or very ill-conditioned Hessian matrix at iteration #5. It will now resort to lbfgs instead.\n",
      "Further options are to use another solver or to avoid such situation in the first place. Possible remedies are removing collinear features of X or increasing the penalization strengths.\n",
      "The original Linear Algebra message was:\n",
      "Matrix is singular.\n",
      "  warnings.warn(\n"
     ]
    },
    {
     "name": "stdout",
     "output_type": "stream",
     "text": [
      "[CV 7/10; 62/100] START C=1000, class_weight={0: 1, 1: 1}, solver=newton-cholesky\n",
      "[CV 1/10; 60/100] END C=100, class_weight={0: 1, 1: 1000}, solver=newton-cholesky;, score=-1.090 total time=   2.3s\n",
      "[CV 8/10; 62/100] START C=1000, class_weight={0: 1, 1: 1}, solver=newton-cholesky\n",
      "[CV 8/10; 59/100] END C=100, class_weight={0: 1, 1: 1000}, solver=liblinear;, score=-1.040 total time=   2.6s\n",
      "[CV 9/10; 62/100] START C=1000, class_weight={0: 1, 1: 1}, solver=newton-cholesky\n",
      "[CV 3/10; 59/100] END C=100, class_weight={0: 1, 1: 1000}, solver=liblinear;, score=-0.836 total time=   3.1s\n",
      "[CV 9/10; 59/100] END C=100, class_weight={0: 1, 1: 1000}, solver=liblinear;, score=-0.970 total time=   2.6s\n",
      "[CV 10/10; 62/100] START C=1000, class_weight={0: 1, 1: 1}, solver=newton-cholesky\n"
     ]
    },
    {
     "name": "stderr",
     "output_type": "stream",
     "text": [
      "/opt/mamba/lib/python3.10/site-packages/sklearn/linear_model/_glm/_newton_solver.py:491: LinAlgWarning: The inner solver of NewtonCholeskySolver stumbled upon a singular or very ill-conditioned Hessian matrix at iteration #5. It will now resort to lbfgs instead.\n",
      "Further options are to use another solver or to avoid such situation in the first place. Possible remedies are removing collinear features of X or increasing the penalization strengths.\n",
      "The original Linear Algebra message was:\n",
      "Matrix is singular.\n",
      "  warnings.warn(\n",
      "/opt/mamba/lib/python3.10/site-packages/sklearn/linear_model/_glm/_newton_solver.py:491: LinAlgWarning: The inner solver of NewtonCholeskySolver stumbled upon a singular or very ill-conditioned Hessian matrix at iteration #5. It will now resort to lbfgs instead.\n",
      "Further options are to use another solver or to avoid such situation in the first place. Possible remedies are removing collinear features of X or increasing the penalization strengths.\n",
      "The original Linear Algebra message was:\n",
      "Matrix is singular.\n",
      "  warnings.warn(\n",
      "/opt/mamba/lib/python3.10/site-packages/sklearn/linear_model/_glm/_newton_solver.py:195: ConvergenceWarning: lbfgs failed to converge (status=1):\n",
      "STOP: TOTAL NO. of ITERATIONS REACHED LIMIT.\n",
      "\n",
      "Increase the number of iterations (max_iter) or scale the data as shown in:\n",
      "    https://scikit-learn.org/stable/modules/preprocessing.html\n",
      "  self.n_iter_ = _check_optimize_result(\"lbfgs\", opt_res)\n",
      "/opt/mamba/lib/python3.10/site-packages/sklearn/linear_model/_glm/_newton_solver.py:491: LinAlgWarning: The inner solver of NewtonCholeskySolver stumbled upon a singular or very ill-conditioned Hessian matrix at iteration #5. It will now resort to lbfgs instead.\n",
      "Further options are to use another solver or to avoid such situation in the first place. Possible remedies are removing collinear features of X or increasing the penalization strengths.\n",
      "The original Linear Algebra message was:\n",
      "Matrix is singular.\n",
      "  warnings.warn(\n"
     ]
    },
    {
     "name": "stdout",
     "output_type": "stream",
     "text": [
      "[CV 1/10; 63/100] START C=1000, class_weight={0: 1, 1: 10}, solver=liblinear....\n",
      "[CV 2/10; 63/100] START C=1000, class_weight={0: 1, 1: 10}, solver=liblinear....\n",
      "[CV 2/10; 59/100] END C=100, class_weight={0: 1, 1: 1000}, solver=liblinear;, score=-0.848 total time=   3.5s\n",
      "[CV 3/10; 63/100] START C=1000, class_weight={0: 1, 1: 10}, solver=liblinear....\n",
      "[CV 2/10; 60/100] END C=100, class_weight={0: 1, 1: 1000}, solver=newton-cholesky;, score=-0.849 total time=   2.7s\n",
      "[CV 4/10; 63/100] START C=1000, class_weight={0: 1, 1: 10}, solver=liblinear....\n",
      "[CV 4/10; 62/100] END C=1000, class_weight={0: 1, 1: 1}, solver=newton-cholesky;, score=0.215 total time=   0.8s\n",
      "[CV 1/10; 57/100] END C=100, class_weight={0: 1, 1: 150}, solver=liblinear;, score=-0.933 total time=   6.2s\n"
     ]
    },
    {
     "name": "stderr",
     "output_type": "stream",
     "text": [
      "/opt/mamba/lib/python3.10/site-packages/sklearn/linear_model/_glm/_newton_solver.py:491: LinAlgWarning: The inner solver of NewtonCholeskySolver stumbled upon a singular or very ill-conditioned Hessian matrix at iteration #5. It will now resort to lbfgs instead.\n",
      "Further options are to use another solver or to avoid such situation in the first place. Possible remedies are removing collinear features of X or increasing the penalization strengths.\n",
      "The original Linear Algebra message was:\n",
      "Matrix is singular.\n",
      "  warnings.warn(\n",
      "/opt/mamba/lib/python3.10/site-packages/sklearn/linear_model/_glm/_newton_solver.py:491: LinAlgWarning: The inner solver of NewtonCholeskySolver stumbled upon a singular or very ill-conditioned Hessian matrix at iteration #5. It will now resort to lbfgs instead.\n",
      "Further options are to use another solver or to avoid such situation in the first place. Possible remedies are removing collinear features of X or increasing the penalization strengths.\n",
      "The original Linear Algebra message was:\n",
      "Matrix is singular.\n",
      "  warnings.warn(\n",
      "/opt/mamba/lib/python3.10/site-packages/sklearn/linear_model/_glm/_newton_solver.py:491: LinAlgWarning: The inner solver of NewtonCholeskySolver stumbled upon a singular or very ill-conditioned Hessian matrix at iteration #5. It will now resort to lbfgs instead.\n",
      "Further options are to use another solver or to avoid such situation in the first place. Possible remedies are removing collinear features of X or increasing the penalization strengths.\n",
      "The original Linear Algebra message was:\n",
      "Matrix is singular.\n",
      "  warnings.warn(\n",
      "/opt/mamba/lib/python3.10/site-packages/sklearn/linear_model/_glm/_newton_solver.py:195: ConvergenceWarning: lbfgs failed to converge (status=1):\n",
      "STOP: TOTAL NO. of ITERATIONS REACHED LIMIT.\n",
      "\n",
      "Increase the number of iterations (max_iter) or scale the data as shown in:\n",
      "    https://scikit-learn.org/stable/modules/preprocessing.html\n",
      "  self.n_iter_ = _check_optimize_result(\"lbfgs\", opt_res)\n",
      "/opt/mamba/lib/python3.10/site-packages/sklearn/linear_model/_glm/_newton_solver.py:491: LinAlgWarning: The inner solver of NewtonCholeskySolver stumbled upon a singular or very ill-conditioned Hessian matrix at iteration #5. It will now resort to lbfgs instead.\n",
      "Further options are to use another solver or to avoid such situation in the first place. Possible remedies are removing collinear features of X or increasing the penalization strengths.\n",
      "The original Linear Algebra message was:\n",
      "Matrix is singular.\n",
      "  warnings.warn(\n",
      "/opt/mamba/lib/python3.10/site-packages/sklearn/linear_model/_glm/_newton_solver.py:491: LinAlgWarning: The inner solver of NewtonCholeskySolver stumbled upon a singular or very ill-conditioned Hessian matrix at iteration #5. It will now resort to lbfgs instead.\n",
      "Further options are to use another solver or to avoid such situation in the first place. Possible remedies are removing collinear features of X or increasing the penalization strengths.\n",
      "The original Linear Algebra message was:\n",
      "Matrix is singular.\n",
      "  warnings.warn(\n",
      "/opt/mamba/lib/python3.10/site-packages/sklearn/linear_model/_glm/_newton_solver.py:195: ConvergenceWarning: lbfgs failed to converge (status=1):\n",
      "STOP: TOTAL NO. of ITERATIONS REACHED LIMIT.\n",
      "\n",
      "Increase the number of iterations (max_iter) or scale the data as shown in:\n",
      "    https://scikit-learn.org/stable/modules/preprocessing.html\n",
      "  self.n_iter_ = _check_optimize_result(\"lbfgs\", opt_res)\n"
     ]
    },
    {
     "name": "stdout",
     "output_type": "stream",
     "text": [
      "[CV 5/10; 63/100] START C=1000, class_weight={0: 1, 1: 10}, solver=liblinear....\n",
      "[CV 3/10; 60/100] END C=100, class_weight={0: 1, 1: 1000}, solver=newton-cholesky;, score=-0.839 total time=   2.8s\n",
      "[CV 4/10; 53/100] END C=100, class_weight={0: 1, 1: 50}, solver=liblinear;, score=-0.228 total time=  11.3s\n",
      "[CV 6/10; 63/100] START C=1000, class_weight={0: 1, 1: 10}, solver=liblinear....\n",
      "[CV 5/10; 60/100] END C=100, class_weight={0: 1, 1: 1000}, solver=newton-cholesky;, score=-0.972 total time=   2.8s\n",
      "[CV 7/10; 63/100] START C=1000, class_weight={0: 1, 1: 10}, solver=liblinear....\n",
      "[CV 8/10; 63/100] START C=1000, class_weight={0: 1, 1: 10}, solver=liblinear....\n",
      "[CV 9/10; 63/100] START C=1000, class_weight={0: 1, 1: 10}, solver=liblinear....\n",
      "[CV 7/10; 59/100] END C=100, class_weight={0: 1, 1: 1000}, solver=liblinear;, score=-0.938 total time=   3.7s\n"
     ]
    },
    {
     "name": "stderr",
     "output_type": "stream",
     "text": [
      "/opt/mamba/lib/python3.10/site-packages/sklearn/linear_model/_glm/_newton_solver.py:195: ConvergenceWarning: lbfgs failed to converge (status=1):\n",
      "STOP: TOTAL NO. of ITERATIONS REACHED LIMIT.\n",
      "\n",
      "Increase the number of iterations (max_iter) or scale the data as shown in:\n",
      "    https://scikit-learn.org/stable/modules/preprocessing.html\n",
      "  self.n_iter_ = _check_optimize_result(\"lbfgs\", opt_res)\n",
      "/opt/mamba/lib/python3.10/site-packages/sklearn/linear_model/_glm/_newton_solver.py:195: ConvergenceWarning: lbfgs failed to converge (status=1):\n",
      "STOP: TOTAL NO. of ITERATIONS REACHED LIMIT.\n",
      "\n",
      "Increase the number of iterations (max_iter) or scale the data as shown in:\n",
      "    https://scikit-learn.org/stable/modules/preprocessing.html\n",
      "  self.n_iter_ = _check_optimize_result(\"lbfgs\", opt_res)\n"
     ]
    },
    {
     "name": "stdout",
     "output_type": "stream",
     "text": [
      "[CV 10/10; 63/100] START C=1000, class_weight={0: 1, 1: 10}, solver=liblinear...\n",
      "[CV 9/10; 60/100] END C=100, class_weight={0: 1, 1: 1000}, solver=newton-cholesky;, score=-0.970 total time=   2.8s\n",
      "[CV 1/10; 64/100] START C=1000, class_weight={0: 1, 1: 10}, solver=newton-cholesky\n",
      "[CV 10/10; 60/100] END C=100, class_weight={0: 1, 1: 1000}, solver=newton-cholesky;, score=-0.951 total time=   2.9s\n"
     ]
    },
    {
     "name": "stderr",
     "output_type": "stream",
     "text": [
      "/opt/mamba/lib/python3.10/site-packages/sklearn/linear_model/_glm/_newton_solver.py:195: ConvergenceWarning: lbfgs failed to converge (status=1):\n",
      "STOP: TOTAL NO. of ITERATIONS REACHED LIMIT.\n",
      "\n",
      "Increase the number of iterations (max_iter) or scale the data as shown in:\n",
      "    https://scikit-learn.org/stable/modules/preprocessing.html\n",
      "  self.n_iter_ = _check_optimize_result(\"lbfgs\", opt_res)\n",
      "/opt/mamba/lib/python3.10/site-packages/sklearn/linear_model/_glm/_newton_solver.py:195: ConvergenceWarning: lbfgs failed to converge (status=1):\n",
      "STOP: TOTAL NO. of ITERATIONS REACHED LIMIT.\n",
      "\n",
      "Increase the number of iterations (max_iter) or scale the data as shown in:\n",
      "    https://scikit-learn.org/stable/modules/preprocessing.html\n",
      "  self.n_iter_ = _check_optimize_result(\"lbfgs\", opt_res)\n",
      "/opt/mamba/lib/python3.10/site-packages/sklearn/linear_model/_glm/_newton_solver.py:195: ConvergenceWarning: lbfgs failed to converge (status=1):\n",
      "STOP: TOTAL NO. of ITERATIONS REACHED LIMIT.\n",
      "\n",
      "Increase the number of iterations (max_iter) or scale the data as shown in:\n",
      "    https://scikit-learn.org/stable/modules/preprocessing.html\n",
      "  self.n_iter_ = _check_optimize_result(\"lbfgs\", opt_res)\n"
     ]
    },
    {
     "name": "stdout",
     "output_type": "stream",
     "text": [
      "[CV 2/10; 64/100] START C=1000, class_weight={0: 1, 1: 10}, solver=newton-cholesky\n",
      "[CV 6/10; 60/100] END C=100, class_weight={0: 1, 1: 1000}, solver=newton-cholesky;, score=-0.832 total time=   3.4s\n",
      "[CV 7/10; 60/100] END C=100, class_weight={0: 1, 1: 1000}, solver=newton-cholesky;, score=-0.942 total time=   3.3s\n",
      "[CV 3/10; 64/100] START C=1000, class_weight={0: 1, 1: 10}, solver=newton-cholesky\n",
      "[CV 10/10; 59/100] END C=100, class_weight={0: 1, 1: 1000}, solver=liblinear;, score=-0.951 total time=   3.8s\n",
      "[CV 8/10; 60/100] END C=100, class_weight={0: 1, 1: 1000}, solver=newton-cholesky;, score=-1.043 total time=   3.3s\n",
      "[CV 4/10; 64/100] START C=1000, class_weight={0: 1, 1: 10}, solver=newton-cholesky\n",
      "[CV 5/10; 59/100] END C=100, class_weight={0: 1, 1: 1000}, solver=liblinear;, score=-0.971 total time=   4.3s\n"
     ]
    },
    {
     "name": "stderr",
     "output_type": "stream",
     "text": [
      "/opt/mamba/lib/python3.10/site-packages/sklearn/linear_model/_glm/_newton_solver.py:491: LinAlgWarning: The inner solver of NewtonCholeskySolver stumbled upon a singular or very ill-conditioned Hessian matrix at iteration #3. It will now resort to lbfgs instead.\n",
      "Further options are to use another solver or to avoid such situation in the first place. Possible remedies are removing collinear features of X or increasing the penalization strengths.\n",
      "The original Linear Algebra message was:\n",
      "Matrix is singular.\n",
      "  warnings.warn(\n",
      "/opt/mamba/lib/python3.10/site-packages/sklearn/linear_model/_glm/_newton_solver.py:491: LinAlgWarning: The inner solver of NewtonCholeskySolver stumbled upon a singular or very ill-conditioned Hessian matrix at iteration #3. It will now resort to lbfgs instead.\n",
      "Further options are to use another solver or to avoid such situation in the first place. Possible remedies are removing collinear features of X or increasing the penalization strengths.\n",
      "The original Linear Algebra message was:\n",
      "Matrix is singular.\n",
      "  warnings.warn(\n"
     ]
    },
    {
     "name": "stdout",
     "output_type": "stream",
     "text": [
      "[CV 3/10; 61/100] END C=1000, class_weight={0: 1, 1: 1}, solver=liblinear;, score=0.248 total time=   3.0s\n",
      "[CV 4/10; 59/100] END C=100, class_weight={0: 1, 1: 1000}, solver=liblinear;, score=-0.868 total time=   4.4s\n",
      "[CV 5/10; 64/100] START C=1000, class_weight={0: 1, 1: 10}, solver=newton-cholesky\n",
      "[CV 6/10; 64/100] START C=1000, class_weight={0: 1, 1: 10}, solver=newton-cholesky\n",
      "[CV 10/10; 57/100] END C=100, class_weight={0: 1, 1: 150}, solver=liblinear;, score=-0.800 total time=   6.5s\n",
      "[CV 7/10; 64/100] START C=1000, class_weight={0: 1, 1: 10}, solver=newton-cholesky\n"
     ]
    },
    {
     "name": "stderr",
     "output_type": "stream",
     "text": [
      "/opt/mamba/lib/python3.10/site-packages/sklearn/linear_model/_glm/_newton_solver.py:491: LinAlgWarning: The inner solver of NewtonCholeskySolver stumbled upon a singular or very ill-conditioned Hessian matrix at iteration #3. It will now resort to lbfgs instead.\n",
      "Further options are to use another solver or to avoid such situation in the first place. Possible remedies are removing collinear features of X or increasing the penalization strengths.\n",
      "The original Linear Algebra message was:\n",
      "Matrix is singular.\n",
      "  warnings.warn(\n",
      "/opt/mamba/lib/python3.10/site-packages/sklearn/linear_model/_glm/_newton_solver.py:491: LinAlgWarning: The inner solver of NewtonCholeskySolver stumbled upon a singular or very ill-conditioned Hessian matrix at iteration #3. It will now resort to lbfgs instead.\n",
      "Further options are to use another solver or to avoid such situation in the first place. Possible remedies are removing collinear features of X or increasing the penalization strengths.\n",
      "The original Linear Algebra message was:\n",
      "Matrix is singular.\n",
      "  warnings.warn(\n"
     ]
    },
    {
     "name": "stdout",
     "output_type": "stream",
     "text": [
      "[CV 8/10; 64/100] START C=1000, class_weight={0: 1, 1: 10}, solver=newton-cholesky\n",
      "[CV 9/10; 64/100] START C=1000, class_weight={0: 1, 1: 10}, solver=newton-cholesky\n",
      "[CV 10/10; 64/100] START C=1000, class_weight={0: 1, 1: 10}, solver=newton-cholesky\n",
      "[CV 5/10; 57/100] END C=100, class_weight={0: 1, 1: 150}, solver=liblinear;, score=-0.814 total time=   7.3s\n"
     ]
    },
    {
     "name": "stderr",
     "output_type": "stream",
     "text": [
      "/opt/mamba/lib/python3.10/site-packages/sklearn/linear_model/_glm/_newton_solver.py:491: LinAlgWarning: The inner solver of NewtonCholeskySolver stumbled upon a singular or very ill-conditioned Hessian matrix at iteration #3. It will now resort to lbfgs instead.\n",
      "Further options are to use another solver or to avoid such situation in the first place. Possible remedies are removing collinear features of X or increasing the penalization strengths.\n",
      "The original Linear Algebra message was:\n",
      "Matrix is singular.\n",
      "  warnings.warn(\n",
      "/opt/mamba/lib/python3.10/site-packages/sklearn/linear_model/_glm/_newton_solver.py:491: LinAlgWarning: The inner solver of NewtonCholeskySolver stumbled upon a singular or very ill-conditioned Hessian matrix at iteration #3. It will now resort to lbfgs instead.\n",
      "Further options are to use another solver or to avoid such situation in the first place. Possible remedies are removing collinear features of X or increasing the penalization strengths.\n",
      "The original Linear Algebra message was:\n",
      "Matrix is singular.\n",
      "  warnings.warn(\n",
      "/opt/mamba/lib/python3.10/site-packages/sklearn/linear_model/_glm/_newton_solver.py:491: LinAlgWarning: The inner solver of NewtonCholeskySolver stumbled upon a singular or very ill-conditioned Hessian matrix at iteration #3. It will now resort to lbfgs instead.\n",
      "Further options are to use another solver or to avoid such situation in the first place. Possible remedies are removing collinear features of X or increasing the penalization strengths.\n",
      "The original Linear Algebra message was:\n",
      "Matrix is singular.\n",
      "  warnings.warn(\n",
      "/opt/mamba/lib/python3.10/site-packages/sklearn/linear_model/_glm/_newton_solver.py:491: LinAlgWarning: The inner solver of NewtonCholeskySolver stumbled upon a singular or very ill-conditioned Hessian matrix at iteration #3. It will now resort to lbfgs instead.\n",
      "Further options are to use another solver or to avoid such situation in the first place. Possible remedies are removing collinear features of X or increasing the penalization strengths.\n",
      "The original Linear Algebra message was:\n",
      "Matrix is singular.\n",
      "  warnings.warn(\n",
      "/opt/mamba/lib/python3.10/site-packages/sklearn/linear_model/_glm/_newton_solver.py:491: LinAlgWarning: The inner solver of NewtonCholeskySolver stumbled upon a singular or very ill-conditioned Hessian matrix at iteration #3. It will now resort to lbfgs instead.\n",
      "Further options are to use another solver or to avoid such situation in the first place. Possible remedies are removing collinear features of X or increasing the penalization strengths.\n",
      "The original Linear Algebra message was:\n",
      "Matrix is singular.\n",
      "  warnings.warn(\n"
     ]
    },
    {
     "name": "stdout",
     "output_type": "stream",
     "text": [
      "[CV 1/10; 65/100] START C=1000, class_weight={0: 1, 1: 14}, solver=liblinear....\n",
      "[CV 4/10; 64/100] END C=1000, class_weight={0: 1, 1: 10}, solver=newton-cholesky;, score=0.565 total time=   0.8s\n",
      "[CV 2/10; 65/100] START C=1000, class_weight={0: 1, 1: 14}, solver=liblinear....\n"
     ]
    },
    {
     "name": "stderr",
     "output_type": "stream",
     "text": [
      "/opt/mamba/lib/python3.10/site-packages/sklearn/linear_model/_glm/_newton_solver.py:195: ConvergenceWarning: lbfgs failed to converge (status=1):\n",
      "STOP: TOTAL NO. of ITERATIONS REACHED LIMIT.\n",
      "\n",
      "Increase the number of iterations (max_iter) or scale the data as shown in:\n",
      "    https://scikit-learn.org/stable/modules/preprocessing.html\n",
      "  self.n_iter_ = _check_optimize_result(\"lbfgs\", opt_res)\n",
      "/opt/mamba/lib/python3.10/site-packages/sklearn/linear_model/_glm/_newton_solver.py:195: ConvergenceWarning: lbfgs failed to converge (status=1):\n",
      "STOP: TOTAL NO. of ITERATIONS REACHED LIMIT.\n",
      "\n",
      "Increase the number of iterations (max_iter) or scale the data as shown in:\n",
      "    https://scikit-learn.org/stable/modules/preprocessing.html\n",
      "  self.n_iter_ = _check_optimize_result(\"lbfgs\", opt_res)\n"
     ]
    },
    {
     "name": "stdout",
     "output_type": "stream",
     "text": [
      "[CV 1/10; 62/100] END C=1000, class_weight={0: 1, 1: 1}, solver=newton-cholesky;, score=0.301 total time=   2.9s\n",
      "[CV 3/10; 65/100] START C=1000, class_weight={0: 1, 1: 14}, solver=liblinear....\n",
      "[CV 10/10; 62/100] END C=1000, class_weight={0: 1, 1: 1}, solver=newton-cholesky;, score=0.301 total time=   2.5s\n",
      "[CV 6/10; 59/100] END C=100, class_weight={0: 1, 1: 1000}, solver=liblinear;, score=-0.830 total time=   5.4s\n",
      "[CV 4/10; 65/100] START C=1000, class_weight={0: 1, 1: 14}, solver=liblinear....\n",
      "[CV 5/10; 65/100] START C=1000, class_weight={0: 1, 1: 14}, solver=liblinear....\n",
      "[CV 2/10; 62/100] END C=1000, class_weight={0: 1, 1: 1}, solver=newton-cholesky;, score=0.286 total time=   3.2s\n"
     ]
    },
    {
     "name": "stderr",
     "output_type": "stream",
     "text": [
      "/opt/mamba/lib/python3.10/site-packages/sklearn/linear_model/_glm/_newton_solver.py:195: ConvergenceWarning: lbfgs failed to converge (status=1):\n",
      "STOP: TOTAL NO. of ITERATIONS REACHED LIMIT.\n",
      "\n",
      "Increase the number of iterations (max_iter) or scale the data as shown in:\n",
      "    https://scikit-learn.org/stable/modules/preprocessing.html\n",
      "  self.n_iter_ = _check_optimize_result(\"lbfgs\", opt_res)\n",
      "/opt/mamba/lib/python3.10/site-packages/sklearn/linear_model/_glm/_newton_solver.py:195: ConvergenceWarning: lbfgs failed to converge (status=1):\n",
      "STOP: TOTAL NO. of ITERATIONS REACHED LIMIT.\n",
      "\n",
      "Increase the number of iterations (max_iter) or scale the data as shown in:\n",
      "    https://scikit-learn.org/stable/modules/preprocessing.html\n",
      "  self.n_iter_ = _check_optimize_result(\"lbfgs\", opt_res)\n",
      "/opt/mamba/lib/python3.10/site-packages/sklearn/linear_model/_glm/_newton_solver.py:195: ConvergenceWarning: lbfgs failed to converge (status=1):\n",
      "STOP: TOTAL NO. of ITERATIONS REACHED LIMIT.\n",
      "\n",
      "Increase the number of iterations (max_iter) or scale the data as shown in:\n",
      "    https://scikit-learn.org/stable/modules/preprocessing.html\n",
      "  self.n_iter_ = _check_optimize_result(\"lbfgs\", opt_res)\n"
     ]
    },
    {
     "name": "stdout",
     "output_type": "stream",
     "text": [
      "[CV 5/10; 62/100] END C=1000, class_weight={0: 1, 1: 1}, solver=newton-cholesky;, score=0.313 total time=   3.1s\n",
      "[CV 6/10; 65/100] START C=1000, class_weight={0: 1, 1: 14}, solver=liblinear....\n",
      "[CV 7/10; 65/100] START C=1000, class_weight={0: 1, 1: 14}, solver=liblinear....\n",
      "[CV 8/10; 62/100] END C=1000, class_weight={0: 1, 1: 1}, solver=newton-cholesky;, score=0.212 total time=   3.1s\n",
      "[CV 7/10; 62/100] END C=1000, class_weight={0: 1, 1: 1}, solver=newton-cholesky;, score=0.244 total time=   3.1s\n",
      "[CV 8/10; 65/100] START C=1000, class_weight={0: 1, 1: 14}, solver=liblinear....\n"
     ]
    },
    {
     "name": "stderr",
     "output_type": "stream",
     "text": [
      "/opt/mamba/lib/python3.10/site-packages/sklearn/linear_model/_glm/_newton_solver.py:195: ConvergenceWarning: lbfgs failed to converge (status=1):\n",
      "STOP: TOTAL NO. of ITERATIONS REACHED LIMIT.\n",
      "\n",
      "Increase the number of iterations (max_iter) or scale the data as shown in:\n",
      "    https://scikit-learn.org/stable/modules/preprocessing.html\n",
      "  self.n_iter_ = _check_optimize_result(\"lbfgs\", opt_res)\n",
      "/opt/mamba/lib/python3.10/site-packages/sklearn/linear_model/_glm/_newton_solver.py:195: ConvergenceWarning: lbfgs failed to converge (status=1):\n",
      "STOP: TOTAL NO. of ITERATIONS REACHED LIMIT.\n",
      "\n",
      "Increase the number of iterations (max_iter) or scale the data as shown in:\n",
      "    https://scikit-learn.org/stable/modules/preprocessing.html\n",
      "  self.n_iter_ = _check_optimize_result(\"lbfgs\", opt_res)\n",
      "/opt/mamba/lib/python3.10/site-packages/sklearn/linear_model/_glm/_newton_solver.py:195: ConvergenceWarning: lbfgs failed to converge (status=1):\n",
      "STOP: TOTAL NO. of ITERATIONS REACHED LIMIT.\n",
      "\n",
      "Increase the number of iterations (max_iter) or scale the data as shown in:\n",
      "    https://scikit-learn.org/stable/modules/preprocessing.html\n",
      "  self.n_iter_ = _check_optimize_result(\"lbfgs\", opt_res)\n"
     ]
    },
    {
     "name": "stdout",
     "output_type": "stream",
     "text": [
      "[CV 9/10; 65/100] START C=1000, class_weight={0: 1, 1: 14}, solver=liblinear....\n",
      "[CV 6/10; 62/100] END C=1000, class_weight={0: 1, 1: 1}, solver=newton-cholesky;, score=0.249 total time=   3.3s\n",
      "[CV 3/10; 62/100] END C=1000, class_weight={0: 1, 1: 1}, solver=newton-cholesky;, score=0.245 total time=   3.5s\n",
      "[CV 10/10; 65/100] START C=1000, class_weight={0: 1, 1: 14}, solver=liblinear...\n",
      "[CV 1/10; 66/100] START C=1000, class_weight={0: 1, 1: 14}, solver=newton-cholesky\n"
     ]
    },
    {
     "name": "stderr",
     "output_type": "stream",
     "text": [
      "/opt/mamba/lib/python3.10/site-packages/sklearn/linear_model/_glm/_newton_solver.py:195: ConvergenceWarning: lbfgs failed to converge (status=1):\n",
      "STOP: TOTAL NO. of ITERATIONS REACHED LIMIT.\n",
      "\n",
      "Increase the number of iterations (max_iter) or scale the data as shown in:\n",
      "    https://scikit-learn.org/stable/modules/preprocessing.html\n",
      "  self.n_iter_ = _check_optimize_result(\"lbfgs\", opt_res)\n"
     ]
    },
    {
     "name": "stdout",
     "output_type": "stream",
     "text": [
      "[CV 9/10; 62/100] END C=1000, class_weight={0: 1, 1: 1}, solver=newton-cholesky;, score=0.207 total time=   3.4s\n",
      "[CV 2/10; 66/100] START C=1000, class_weight={0: 1, 1: 14}, solver=newton-cholesky\n"
     ]
    },
    {
     "name": "stderr",
     "output_type": "stream",
     "text": [
      "/opt/mamba/lib/python3.10/site-packages/sklearn/linear_model/_glm/_newton_solver.py:491: LinAlgWarning: The inner solver of NewtonCholeskySolver stumbled upon a singular or very ill-conditioned Hessian matrix at iteration #3. It will now resort to lbfgs instead.\n",
      "Further options are to use another solver or to avoid such situation in the first place. Possible remedies are removing collinear features of X or increasing the penalization strengths.\n",
      "The original Linear Algebra message was:\n",
      "Matrix is singular.\n",
      "  warnings.warn(\n",
      "/opt/mamba/lib/python3.10/site-packages/sklearn/linear_model/_glm/_newton_solver.py:195: ConvergenceWarning: lbfgs failed to converge (status=1):\n",
      "STOP: TOTAL NO. of ITERATIONS REACHED LIMIT.\n",
      "\n",
      "Increase the number of iterations (max_iter) or scale the data as shown in:\n",
      "    https://scikit-learn.org/stable/modules/preprocessing.html\n",
      "  self.n_iter_ = _check_optimize_result(\"lbfgs\", opt_res)\n",
      "/opt/mamba/lib/python3.10/site-packages/sklearn/linear_model/_glm/_newton_solver.py:195: ConvergenceWarning: lbfgs failed to converge (status=1):\n",
      "STOP: TOTAL NO. of ITERATIONS REACHED LIMIT.\n",
      "\n",
      "Increase the number of iterations (max_iter) or scale the data as shown in:\n",
      "    https://scikit-learn.org/stable/modules/preprocessing.html\n",
      "  self.n_iter_ = _check_optimize_result(\"lbfgs\", opt_res)\n"
     ]
    },
    {
     "name": "stdout",
     "output_type": "stream",
     "text": [
      "[CV 3/10; 64/100] END C=1000, class_weight={0: 1, 1: 10}, solver=newton-cholesky;, score=0.567 total time=   2.3s\n",
      "[CV 3/10; 66/100] START C=1000, class_weight={0: 1, 1: 14}, solver=newton-cholesky\n",
      "[CV 2/10; 64/100] END C=1000, class_weight={0: 1, 1: 10}, solver=newton-cholesky;, score=0.531 total time=   2.5s\n",
      "[CV 4/10; 66/100] START C=1000, class_weight={0: 1, 1: 14}, solver=newton-cholesky\n",
      "[CV 4/10; 61/100] END C=1000, class_weight={0: 1, 1: 1}, solver=liblinear;, score=0.215 total time=   5.3s\n"
     ]
    },
    {
     "name": "stderr",
     "output_type": "stream",
     "text": [
      "/opt/mamba/lib/python3.10/site-packages/sklearn/linear_model/_glm/_newton_solver.py:491: LinAlgWarning: The inner solver of NewtonCholeskySolver stumbled upon a singular or very ill-conditioned Hessian matrix at iteration #3. It will now resort to lbfgs instead.\n",
      "Further options are to use another solver or to avoid such situation in the first place. Possible remedies are removing collinear features of X or increasing the penalization strengths.\n",
      "The original Linear Algebra message was:\n",
      "Matrix is singular.\n",
      "  warnings.warn(\n",
      "/opt/mamba/lib/python3.10/site-packages/sklearn/linear_model/_glm/_newton_solver.py:195: ConvergenceWarning: lbfgs failed to converge (status=1):\n",
      "STOP: TOTAL NO. of ITERATIONS REACHED LIMIT.\n",
      "\n",
      "Increase the number of iterations (max_iter) or scale the data as shown in:\n",
      "    https://scikit-learn.org/stable/modules/preprocessing.html\n",
      "  self.n_iter_ = _check_optimize_result(\"lbfgs\", opt_res)\n",
      "/opt/mamba/lib/python3.10/site-packages/sklearn/linear_model/_glm/_newton_solver.py:491: LinAlgWarning: The inner solver of NewtonCholeskySolver stumbled upon a singular or very ill-conditioned Hessian matrix at iteration #3. It will now resort to lbfgs instead.\n",
      "Further options are to use another solver or to avoid such situation in the first place. Possible remedies are removing collinear features of X or increasing the penalization strengths.\n",
      "The original Linear Algebra message was:\n",
      "Matrix is singular.\n",
      "  warnings.warn(\n",
      "/opt/mamba/lib/python3.10/site-packages/sklearn/linear_model/_glm/_newton_solver.py:195: ConvergenceWarning: lbfgs failed to converge (status=1):\n",
      "STOP: TOTAL NO. of ITERATIONS REACHED LIMIT.\n",
      "\n",
      "Increase the number of iterations (max_iter) or scale the data as shown in:\n",
      "    https://scikit-learn.org/stable/modules/preprocessing.html\n",
      "  self.n_iter_ = _check_optimize_result(\"lbfgs\", opt_res)\n",
      "/opt/mamba/lib/python3.10/site-packages/sklearn/linear_model/_glm/_newton_solver.py:195: ConvergenceWarning: lbfgs failed to converge (status=1):\n",
      "STOP: TOTAL NO. of ITERATIONS REACHED LIMIT.\n",
      "\n",
      "Increase the number of iterations (max_iter) or scale the data as shown in:\n",
      "    https://scikit-learn.org/stable/modules/preprocessing.html\n",
      "  self.n_iter_ = _check_optimize_result(\"lbfgs\", opt_res)\n"
     ]
    },
    {
     "name": "stdout",
     "output_type": "stream",
     "text": [
      "[CV 5/10; 66/100] START C=1000, class_weight={0: 1, 1: 14}, solver=newton-cholesky\n",
      "[CV 6/10; 64/100] END C=1000, class_weight={0: 1, 1: 10}, solver=newton-cholesky;, score=0.546 total time=   2.5s\n",
      "[CV 7/10; 64/100] END C=1000, class_weight={0: 1, 1: 10}, solver=newton-cholesky;, score=0.543 total time=   2.5s\n",
      "[CV 6/10; 66/100] START C=1000, class_weight={0: 1, 1: 14}, solver=newton-cholesky\n",
      "[CV 1/10; 64/100] END C=1000, class_weight={0: 1, 1: 10}, solver=newton-cholesky;, score=0.486 total time=   3.0s\n",
      "[CV 7/10; 66/100] START C=1000, class_weight={0: 1, 1: 14}, solver=newton-cholesky\n",
      "[CV 8/10; 66/100] START C=1000, class_weight={0: 1, 1: 14}, solver=newton-cholesky\n",
      "[CV 4/10; 66/100] END C=1000, class_weight={0: 1, 1: 14}, solver=newton-cholesky;, score=0.497 total time=   0.5s\n",
      "[CV 5/10; 64/100] END C=1000, class_weight={0: 1, 1: 10}, solver=newton-cholesky;, score=0.563 total time=   2.8s\n",
      "[CV 9/10; 66/100] START C=1000, class_weight={0: 1, 1: 14}, solver=newton-cholesky\n"
     ]
    },
    {
     "name": "stderr",
     "output_type": "stream",
     "text": [
      "/opt/mamba/lib/python3.10/site-packages/sklearn/linear_model/_glm/_newton_solver.py:195: ConvergenceWarning: lbfgs failed to converge (status=1):\n",
      "STOP: TOTAL NO. of ITERATIONS REACHED LIMIT.\n",
      "\n",
      "Increase the number of iterations (max_iter) or scale the data as shown in:\n",
      "    https://scikit-learn.org/stable/modules/preprocessing.html\n",
      "  self.n_iter_ = _check_optimize_result(\"lbfgs\", opt_res)\n",
      "/opt/mamba/lib/python3.10/site-packages/sklearn/linear_model/_glm/_newton_solver.py:491: LinAlgWarning: The inner solver of NewtonCholeskySolver stumbled upon a singular or very ill-conditioned Hessian matrix at iteration #3. It will now resort to lbfgs instead.\n",
      "Further options are to use another solver or to avoid such situation in the first place. Possible remedies are removing collinear features of X or increasing the penalization strengths.\n",
      "The original Linear Algebra message was:\n",
      "Matrix is singular.\n",
      "  warnings.warn(\n",
      "/opt/mamba/lib/python3.10/site-packages/sklearn/linear_model/_glm/_newton_solver.py:491: LinAlgWarning: The inner solver of NewtonCholeskySolver stumbled upon a singular or very ill-conditioned Hessian matrix at iteration #3. It will now resort to lbfgs instead.\n",
      "Further options are to use another solver or to avoid such situation in the first place. Possible remedies are removing collinear features of X or increasing the penalization strengths.\n",
      "The original Linear Algebra message was:\n",
      "Matrix is singular.\n",
      "  warnings.warn(\n"
     ]
    },
    {
     "name": "stdout",
     "output_type": "stream",
     "text": [
      "[CV 2/10; 61/100] END C=1000, class_weight={0: 1, 1: 1}, solver=liblinear;, score=0.286 total time=   5.9s\n",
      "[CV 9/10; 61/100] END C=1000, class_weight={0: 1, 1: 1}, solver=liblinear;, score=0.212 total time=   5.1s\n",
      "[CV 10/10; 66/100] START C=1000, class_weight={0: 1, 1: 14}, solver=newton-cholesky\n",
      "[CV 1/10; 67/100] START C=1000, class_weight={0: 1, 1: 15}, solver=liblinear....\n",
      "[CV 2/10; 67/100] START C=1000, class_weight={0: 1, 1: 15}, solver=liblinear....\n",
      "[CV 7/10; 61/100] END C=1000, class_weight={0: 1, 1: 1}, solver=liblinear;, score=0.244 total time=   5.5s\n"
     ]
    },
    {
     "name": "stderr",
     "output_type": "stream",
     "text": [
      "/opt/mamba/lib/python3.10/site-packages/sklearn/linear_model/_glm/_newton_solver.py:491: LinAlgWarning: The inner solver of NewtonCholeskySolver stumbled upon a singular or very ill-conditioned Hessian matrix at iteration #3. It will now resort to lbfgs instead.\n",
      "Further options are to use another solver or to avoid such situation in the first place. Possible remedies are removing collinear features of X or increasing the penalization strengths.\n",
      "The original Linear Algebra message was:\n",
      "Matrix is singular.\n",
      "  warnings.warn(\n",
      "/opt/mamba/lib/python3.10/site-packages/sklearn/linear_model/_glm/_newton_solver.py:195: ConvergenceWarning: lbfgs failed to converge (status=1):\n",
      "STOP: TOTAL NO. of ITERATIONS REACHED LIMIT.\n",
      "\n",
      "Increase the number of iterations (max_iter) or scale the data as shown in:\n",
      "    https://scikit-learn.org/stable/modules/preprocessing.html\n",
      "  self.n_iter_ = _check_optimize_result(\"lbfgs\", opt_res)\n",
      "/opt/mamba/lib/python3.10/site-packages/sklearn/linear_model/_glm/_newton_solver.py:491: LinAlgWarning: The inner solver of NewtonCholeskySolver stumbled upon a singular or very ill-conditioned Hessian matrix at iteration #3. It will now resort to lbfgs instead.\n",
      "Further options are to use another solver or to avoid such situation in the first place. Possible remedies are removing collinear features of X or increasing the penalization strengths.\n",
      "The original Linear Algebra message was:\n",
      "Matrix is singular.\n",
      "  warnings.warn(\n",
      "/opt/mamba/lib/python3.10/site-packages/sklearn/linear_model/_glm/_newton_solver.py:491: LinAlgWarning: The inner solver of NewtonCholeskySolver stumbled upon a singular or very ill-conditioned Hessian matrix at iteration #3. It will now resort to lbfgs instead.\n",
      "Further options are to use another solver or to avoid such situation in the first place. Possible remedies are removing collinear features of X or increasing the penalization strengths.\n",
      "The original Linear Algebra message was:\n",
      "Matrix is singular.\n",
      "  warnings.warn(\n",
      "/opt/mamba/lib/python3.10/site-packages/sklearn/linear_model/_glm/_newton_solver.py:195: ConvergenceWarning: lbfgs failed to converge (status=1):\n",
      "STOP: TOTAL NO. of ITERATIONS REACHED LIMIT.\n",
      "\n",
      "Increase the number of iterations (max_iter) or scale the data as shown in:\n",
      "    https://scikit-learn.org/stable/modules/preprocessing.html\n",
      "  self.n_iter_ = _check_optimize_result(\"lbfgs\", opt_res)\n"
     ]
    },
    {
     "name": "stdout",
     "output_type": "stream",
     "text": [
      "[CV 3/10; 67/100] START C=1000, class_weight={0: 1, 1: 15}, solver=liblinear....\n",
      "[CV 9/10; 64/100] END C=1000, class_weight={0: 1, 1: 10}, solver=newton-cholesky;, score=0.538 total time=   2.9s\n",
      "[CV 4/10; 67/100] START C=1000, class_weight={0: 1, 1: 15}, solver=liblinear....\n",
      "[CV 8/10; 64/100] END C=1000, class_weight={0: 1, 1: 10}, solver=newton-cholesky;, score=0.512 total time=   3.1s\n"
     ]
    },
    {
     "name": "stderr",
     "output_type": "stream",
     "text": [
      "/opt/mamba/lib/python3.10/site-packages/sklearn/linear_model/_glm/_newton_solver.py:491: LinAlgWarning: The inner solver of NewtonCholeskySolver stumbled upon a singular or very ill-conditioned Hessian matrix at iteration #3. It will now resort to lbfgs instead.\n",
      "Further options are to use another solver or to avoid such situation in the first place. Possible remedies are removing collinear features of X or increasing the penalization strengths.\n",
      "The original Linear Algebra message was:\n",
      "Matrix is singular.\n",
      "  warnings.warn(\n",
      "/opt/mamba/lib/python3.10/site-packages/sklearn/linear_model/_glm/_newton_solver.py:195: ConvergenceWarning: lbfgs failed to converge (status=1):\n",
      "STOP: TOTAL NO. of ITERATIONS REACHED LIMIT.\n",
      "\n",
      "Increase the number of iterations (max_iter) or scale the data as shown in:\n",
      "    https://scikit-learn.org/stable/modules/preprocessing.html\n",
      "  self.n_iter_ = _check_optimize_result(\"lbfgs\", opt_res)\n"
     ]
    },
    {
     "name": "stdout",
     "output_type": "stream",
     "text": [
      "[CV 5/10; 67/100] START C=1000, class_weight={0: 1, 1: 15}, solver=liblinear....\n",
      "[CV 1/10; 61/100] END C=1000, class_weight={0: 1, 1: 1}, solver=liblinear;, score=0.292 total time=   6.6s\n",
      "[CV 6/10; 67/100] START C=1000, class_weight={0: 1, 1: 15}, solver=liblinear....\n",
      "[CV 10/10; 64/100] END C=1000, class_weight={0: 1, 1: 10}, solver=newton-cholesky;, score=0.503 total time=   3.2s\n",
      "[CV 7/10; 67/100] START C=1000, class_weight={0: 1, 1: 15}, solver=liblinear....\n",
      "[CV 6/10; 61/100] END C=1000, class_weight={0: 1, 1: 1}, solver=liblinear;, score=0.249 total time=   6.2s\n",
      "[CV 8/10; 67/100] START C=1000, class_weight={0: 1, 1: 15}, solver=liblinear....\n",
      "[CV 8/10; 61/100] END C=1000, class_weight={0: 1, 1: 1}, solver=liblinear;, score=0.212 total time=   6.2s\n",
      "[CV 10/10; 63/100] END C=1000, class_weight={0: 1, 1: 10}, solver=liblinear;, score=0.499 total time=   4.5s\n",
      "[CV 9/10; 67/100] START C=1000, class_weight={0: 1, 1: 15}, solver=liblinear....\n",
      "[CV 10/10; 67/100] START C=1000, class_weight={0: 1, 1: 15}, solver=liblinear...\n",
      "[CV 3/10; 63/100] END C=1000, class_weight={0: 1, 1: 10}, solver=liblinear;, score=0.562 total time=   5.5s\n",
      "[CV 1/10; 68/100] START C=1000, class_weight={0: 1, 1: 15}, solver=newton-cholesky\n"
     ]
    },
    {
     "name": "stderr",
     "output_type": "stream",
     "text": [
      "/opt/mamba/lib/python3.10/site-packages/sklearn/linear_model/_glm/_newton_solver.py:195: ConvergenceWarning: lbfgs failed to converge (status=1):\n",
      "STOP: TOTAL NO. of ITERATIONS REACHED LIMIT.\n",
      "\n",
      "Increase the number of iterations (max_iter) or scale the data as shown in:\n",
      "    https://scikit-learn.org/stable/modules/preprocessing.html\n",
      "  self.n_iter_ = _check_optimize_result(\"lbfgs\", opt_res)\n",
      "/opt/mamba/lib/python3.10/site-packages/sklearn/linear_model/_glm/_newton_solver.py:491: LinAlgWarning: The inner solver of NewtonCholeskySolver stumbled upon a singular or very ill-conditioned Hessian matrix at iteration #3. It will now resort to lbfgs instead.\n",
      "Further options are to use another solver or to avoid such situation in the first place. Possible remedies are removing collinear features of X or increasing the penalization strengths.\n",
      "The original Linear Algebra message was:\n",
      "Matrix is singular.\n",
      "  warnings.warn(\n"
     ]
    },
    {
     "name": "stdout",
     "output_type": "stream",
     "text": [
      "[CV 1/10; 66/100] END C=1000, class_weight={0: 1, 1: 14}, solver=newton-cholesky;, score=0.391 total time=   2.7s\n",
      "[CV 2/10; 68/100] START C=1000, class_weight={0: 1, 1: 15}, solver=newton-cholesky\n"
     ]
    },
    {
     "name": "stderr",
     "output_type": "stream",
     "text": [
      "/opt/mamba/lib/python3.10/site-packages/sklearn/linear_model/_glm/_newton_solver.py:195: ConvergenceWarning: lbfgs failed to converge (status=1):\n",
      "STOP: TOTAL NO. of ITERATIONS REACHED LIMIT.\n",
      "\n",
      "Increase the number of iterations (max_iter) or scale the data as shown in:\n",
      "    https://scikit-learn.org/stable/modules/preprocessing.html\n",
      "  self.n_iter_ = _check_optimize_result(\"lbfgs\", opt_res)\n",
      "/opt/mamba/lib/python3.10/site-packages/sklearn/linear_model/_glm/_newton_solver.py:195: ConvergenceWarning: lbfgs failed to converge (status=1):\n",
      "STOP: TOTAL NO. of ITERATIONS REACHED LIMIT.\n",
      "\n",
      "Increase the number of iterations (max_iter) or scale the data as shown in:\n",
      "    https://scikit-learn.org/stable/modules/preprocessing.html\n",
      "  self.n_iter_ = _check_optimize_result(\"lbfgs\", opt_res)\n",
      "/opt/mamba/lib/python3.10/site-packages/sklearn/linear_model/_glm/_newton_solver.py:491: LinAlgWarning: The inner solver of NewtonCholeskySolver stumbled upon a singular or very ill-conditioned Hessian matrix at iteration #3. It will now resort to lbfgs instead.\n",
      "Further options are to use another solver or to avoid such situation in the first place. Possible remedies are removing collinear features of X or increasing the penalization strengths.\n",
      "The original Linear Algebra message was:\n",
      "Matrix is singular.\n",
      "  warnings.warn(\n"
     ]
    },
    {
     "name": "stdout",
     "output_type": "stream",
     "text": [
      "[CV 2/10; 66/100] END C=1000, class_weight={0: 1, 1: 14}, solver=newton-cholesky;, score=0.467 total time=   2.9s\n",
      "[CV 3/10; 66/100] END C=1000, class_weight={0: 1, 1: 14}, solver=newton-cholesky;, score=0.474 total time=   2.7s\n",
      "[CV 3/10; 68/100] START C=1000, class_weight={0: 1, 1: 15}, solver=newton-cholesky\n",
      "[CV 1/10; 63/100] END C=1000, class_weight={0: 1, 1: 10}, solver=liblinear;, score=0.487 total time=   6.3s\n",
      "[CV 4/10; 68/100] START C=1000, class_weight={0: 1, 1: 15}, solver=newton-cholesky\n",
      "[CV 5/10; 61/100] END C=1000, class_weight={0: 1, 1: 1}, solver=liblinear;, score=0.313 total time=   7.8s\n",
      "[CV 5/10; 68/100] START C=1000, class_weight={0: 1, 1: 15}, solver=newton-cholesky\n"
     ]
    },
    {
     "name": "stderr",
     "output_type": "stream",
     "text": [
      "/opt/mamba/lib/python3.10/site-packages/sklearn/linear_model/_glm/_newton_solver.py:195: ConvergenceWarning: lbfgs failed to converge (status=1):\n",
      "STOP: TOTAL NO. of ITERATIONS REACHED LIMIT.\n",
      "\n",
      "Increase the number of iterations (max_iter) or scale the data as shown in:\n",
      "    https://scikit-learn.org/stable/modules/preprocessing.html\n",
      "  self.n_iter_ = _check_optimize_result(\"lbfgs\", opt_res)\n",
      "/opt/mamba/lib/python3.10/site-packages/sklearn/linear_model/_glm/_newton_solver.py:195: ConvergenceWarning: lbfgs failed to converge (status=1):\n",
      "STOP: TOTAL NO. of ITERATIONS REACHED LIMIT.\n",
      "\n",
      "Increase the number of iterations (max_iter) or scale the data as shown in:\n",
      "    https://scikit-learn.org/stable/modules/preprocessing.html\n",
      "  self.n_iter_ = _check_optimize_result(\"lbfgs\", opt_res)\n",
      "/opt/mamba/lib/python3.10/site-packages/sklearn/linear_model/_glm/_newton_solver.py:491: LinAlgWarning: The inner solver of NewtonCholeskySolver stumbled upon a singular or very ill-conditioned Hessian matrix at iteration #3. It will now resort to lbfgs instead.\n",
      "Further options are to use another solver or to avoid such situation in the first place. Possible remedies are removing collinear features of X or increasing the penalization strengths.\n",
      "The original Linear Algebra message was:\n",
      "Matrix is singular.\n",
      "  warnings.warn(\n"
     ]
    },
    {
     "name": "stdout",
     "output_type": "stream",
     "text": [
      "[CV 6/10; 68/100] START C=1000, class_weight={0: 1, 1: 15}, solver=newton-cholesky\n",
      "[CV 7/10; 66/100] END C=1000, class_weight={0: 1, 1: 14}, solver=newton-cholesky;, score=0.487 total time=   2.5s\n",
      "[CV 7/10; 68/100] START C=1000, class_weight={0: 1, 1: 15}, solver=newton-cholesky\n"
     ]
    },
    {
     "name": "stderr",
     "output_type": "stream",
     "text": [
      "/opt/mamba/lib/python3.10/site-packages/sklearn/linear_model/_glm/_newton_solver.py:491: LinAlgWarning: The inner solver of NewtonCholeskySolver stumbled upon a singular or very ill-conditioned Hessian matrix at iteration #3. It will now resort to lbfgs instead.\n",
      "Further options are to use another solver or to avoid such situation in the first place. Possible remedies are removing collinear features of X or increasing the penalization strengths.\n",
      "The original Linear Algebra message was:\n",
      "Matrix is singular.\n",
      "  warnings.warn(\n",
      "/opt/mamba/lib/python3.10/site-packages/sklearn/linear_model/_glm/_newton_solver.py:491: LinAlgWarning: The inner solver of NewtonCholeskySolver stumbled upon a singular or very ill-conditioned Hessian matrix at iteration #3. It will now resort to lbfgs instead.\n",
      "Further options are to use another solver or to avoid such situation in the first place. Possible remedies are removing collinear features of X or increasing the penalization strengths.\n",
      "The original Linear Algebra message was:\n",
      "Matrix is singular.\n",
      "  warnings.warn(\n",
      "/opt/mamba/lib/python3.10/site-packages/sklearn/linear_model/_glm/_newton_solver.py:195: ConvergenceWarning: lbfgs failed to converge (status=1):\n",
      "STOP: TOTAL NO. of ITERATIONS REACHED LIMIT.\n",
      "\n",
      "Increase the number of iterations (max_iter) or scale the data as shown in:\n",
      "    https://scikit-learn.org/stable/modules/preprocessing.html\n",
      "  self.n_iter_ = _check_optimize_result(\"lbfgs\", opt_res)\n",
      "/opt/mamba/lib/python3.10/site-packages/sklearn/linear_model/_glm/_newton_solver.py:491: LinAlgWarning: The inner solver of NewtonCholeskySolver stumbled upon a singular or very ill-conditioned Hessian matrix at iteration #3. It will now resort to lbfgs instead.\n",
      "Further options are to use another solver or to avoid such situation in the first place. Possible remedies are removing collinear features of X or increasing the penalization strengths.\n",
      "The original Linear Algebra message was:\n",
      "Matrix is singular.\n",
      "  warnings.warn(\n"
     ]
    },
    {
     "name": "stdout",
     "output_type": "stream",
     "text": [
      "[CV 8/10; 66/100] END C=1000, class_weight={0: 1, 1: 14}, solver=newton-cholesky;, score=0.410 total time=   2.6s\n",
      "[CV 8/10; 68/100] START C=1000, class_weight={0: 1, 1: 15}, solver=newton-cholesky[CV 7/10; 63/100] END C=1000, class_weight={0: 1, 1: 10}, solver=liblinear;, score=0.543 total time=   6.2s\n",
      "\n",
      "[CV 9/10; 68/100] START C=1000, class_weight={0: 1, 1: 15}, solver=newton-cholesky\n",
      "[CV 9/10; 66/100] END C=1000, class_weight={0: 1, 1: 14}, solver=newton-cholesky;, score=0.445 total time=   2.7s\n",
      "[CV 10/10; 68/100] START C=1000, class_weight={0: 1, 1: 15}, solver=newton-cholesky\n",
      "[CV 4/10; 68/100] END C=1000, class_weight={0: 1, 1: 15}, solver=newton-cholesky;, score=0.476 total time=   0.6s\n",
      "[CV 1/10; 69/100] START C=1000, class_weight={0: 1, 1: 16}, solver=liblinear....\n"
     ]
    },
    {
     "name": "stderr",
     "output_type": "stream",
     "text": [
      "/opt/mamba/lib/python3.10/site-packages/sklearn/linear_model/_glm/_newton_solver.py:491: LinAlgWarning: The inner solver of NewtonCholeskySolver stumbled upon a singular or very ill-conditioned Hessian matrix at iteration #3. It will now resort to lbfgs instead.\n",
      "Further options are to use another solver or to avoid such situation in the first place. Possible remedies are removing collinear features of X or increasing the penalization strengths.\n",
      "The original Linear Algebra message was:\n",
      "Matrix is singular.\n",
      "  warnings.warn(\n",
      "/opt/mamba/lib/python3.10/site-packages/sklearn/linear_model/_glm/_newton_solver.py:195: ConvergenceWarning: lbfgs failed to converge (status=1):\n",
      "STOP: TOTAL NO. of ITERATIONS REACHED LIMIT.\n",
      "\n",
      "Increase the number of iterations (max_iter) or scale the data as shown in:\n",
      "    https://scikit-learn.org/stable/modules/preprocessing.html\n",
      "  self.n_iter_ = _check_optimize_result(\"lbfgs\", opt_res)\n",
      "/opt/mamba/lib/python3.10/site-packages/sklearn/linear_model/_glm/_newton_solver.py:491: LinAlgWarning: The inner solver of NewtonCholeskySolver stumbled upon a singular or very ill-conditioned Hessian matrix at iteration #3. It will now resort to lbfgs instead.\n",
      "Further options are to use another solver or to avoid such situation in the first place. Possible remedies are removing collinear features of X or increasing the penalization strengths.\n",
      "The original Linear Algebra message was:\n",
      "Matrix is singular.\n",
      "  warnings.warn(\n",
      "/opt/mamba/lib/python3.10/site-packages/sklearn/linear_model/_glm/_newton_solver.py:491: LinAlgWarning: The inner solver of NewtonCholeskySolver stumbled upon a singular or very ill-conditioned Hessian matrix at iteration #3. It will now resort to lbfgs instead.\n",
      "Further options are to use another solver or to avoid such situation in the first place. Possible remedies are removing collinear features of X or increasing the penalization strengths.\n",
      "The original Linear Algebra message was:\n",
      "Matrix is singular.\n",
      "  warnings.warn(\n",
      "/opt/mamba/lib/python3.10/site-packages/sklearn/linear_model/_glm/_newton_solver.py:195: ConvergenceWarning: lbfgs failed to converge (status=1):\n",
      "STOP: TOTAL NO. of ITERATIONS REACHED LIMIT.\n",
      "\n",
      "Increase the number of iterations (max_iter) or scale the data as shown in:\n",
      "    https://scikit-learn.org/stable/modules/preprocessing.html\n",
      "  self.n_iter_ = _check_optimize_result(\"lbfgs\", opt_res)\n"
     ]
    },
    {
     "name": "stdout",
     "output_type": "stream",
     "text": [
      "[CV 10/10; 66/100] END C=1000, class_weight={0: 1, 1: 14}, solver=newton-cholesky;, score=0.432 total time=   2.9s\n",
      "[CV 4/10; 63/100] END C=1000, class_weight={0: 1, 1: 10}, solver=liblinear;, score=0.565 total time=   7.0s\n",
      "[CV 2/10; 69/100] START C=1000, class_weight={0: 1, 1: 16}, solver=liblinear....\n",
      "[CV 3/10; 69/100] START C=1000, class_weight={0: 1, 1: 16}, solver=liblinear....\n",
      "[CV 6/10; 66/100] END C=1000, class_weight={0: 1, 1: 14}, solver=newton-cholesky;, score=0.446 total time=   3.4s\n",
      "[CV 4/10; 69/100] START C=1000, class_weight={0: 1, 1: 16}, solver=liblinear....\n"
     ]
    },
    {
     "name": "stderr",
     "output_type": "stream",
     "text": [
      "/opt/mamba/lib/python3.10/site-packages/sklearn/linear_model/_glm/_newton_solver.py:195: ConvergenceWarning: lbfgs failed to converge (status=1):\n",
      "STOP: TOTAL NO. of ITERATIONS REACHED LIMIT.\n",
      "\n",
      "Increase the number of iterations (max_iter) or scale the data as shown in:\n",
      "    https://scikit-learn.org/stable/modules/preprocessing.html\n",
      "  self.n_iter_ = _check_optimize_result(\"lbfgs\", opt_res)\n"
     ]
    },
    {
     "name": "stdout",
     "output_type": "stream",
     "text": [
      "[CV 5/10; 66/100] END C=1000, class_weight={0: 1, 1: 14}, solver=newton-cholesky;, score=0.472 total time=   3.8s\n",
      "[CV 5/10; 69/100] START C=1000, class_weight={0: 1, 1: 16}, solver=liblinear....\n",
      "[CV 4/10; 65/100] END C=1000, class_weight={0: 1, 1: 14}, solver=liblinear;, score=0.497 total time=   5.3s\n",
      "[CV 6/10; 69/100] START C=1000, class_weight={0: 1, 1: 16}, solver=liblinear....\n",
      "[CV 8/10; 65/100] END C=1000, class_weight={0: 1, 1: 14}, solver=liblinear;, score=0.418 total time=   5.2s\n",
      "[CV 7/10; 69/100] START C=1000, class_weight={0: 1, 1: 16}, solver=liblinear....\n",
      "[CV 7/10; 65/100] END C=1000, class_weight={0: 1, 1: 14}, solver=liblinear;, score=0.493 total time=   5.3s\n",
      "[CV 8/10; 69/100] START C=1000, class_weight={0: 1, 1: 16}, solver=liblinear....\n",
      "[CV 10/10; 61/100] END C=1000, class_weight={0: 1, 1: 1}, solver=liblinear;, score=0.280 total time=   8.9s\n",
      "[CV 2/10; 65/100] END C=1000, class_weight={0: 1, 1: 14}, solver=liblinear;, score=0.474 total time=   6.1s\n"
     ]
    },
    {
     "name": "stderr",
     "output_type": "stream",
     "text": [
      "/opt/mamba/lib/python3.10/site-packages/sklearn/linear_model/_glm/_newton_solver.py:195: ConvergenceWarning: lbfgs failed to converge (status=1):\n",
      "STOP: TOTAL NO. of ITERATIONS REACHED LIMIT.\n",
      "\n",
      "Increase the number of iterations (max_iter) or scale the data as shown in:\n",
      "    https://scikit-learn.org/stable/modules/preprocessing.html\n",
      "  self.n_iter_ = _check_optimize_result(\"lbfgs\", opt_res)\n",
      "/opt/mamba/lib/python3.10/site-packages/sklearn/svm/_base.py:1244: ConvergenceWarning: Liblinear failed to converge, increase the number of iterations.\n",
      "  warnings.warn(\n",
      "/opt/mamba/lib/python3.10/site-packages/sklearn/linear_model/_glm/_newton_solver.py:195: ConvergenceWarning: lbfgs failed to converge (status=1):\n",
      "STOP: TOTAL NO. of ITERATIONS REACHED LIMIT.\n",
      "\n",
      "Increase the number of iterations (max_iter) or scale the data as shown in:\n",
      "    https://scikit-learn.org/stable/modules/preprocessing.html\n",
      "  self.n_iter_ = _check_optimize_result(\"lbfgs\", opt_res)\n"
     ]
    },
    {
     "name": "stdout",
     "output_type": "stream",
     "text": [
      "[CV 1/10; 68/100] END C=1000, class_weight={0: 1, 1: 15}, solver=newton-cholesky;, score=0.368 total time=   2.6s\n",
      "[CV 9/10; 69/100] START C=1000, class_weight={0: 1, 1: 16}, solver=liblinear....\n",
      "[CV 9/10; 65/100] END C=1000, class_weight={0: 1, 1: 14}, solver=liblinear;, score=0.443 total time=   5.4s\n",
      "[CV 10/10; 69/100] START C=1000, class_weight={0: 1, 1: 16}, solver=liblinear...\n",
      "[CV 2/10; 68/100] END C=1000, class_weight={0: 1, 1: 15}, solver=newton-cholesky;, score=0.448 total time=   2.5s\n",
      "[CV 1/10; 70/100] START C=1000, class_weight={0: 1, 1: 16}, solver=newton-cholesky\n",
      "[CV 2/10; 70/100] START C=1000, class_weight={0: 1, 1: 16}, solver=newton-cholesky\n",
      "[CV 3/10; 70/100] START C=1000, class_weight={0: 1, 1: 16}, solver=newton-cholesky\n",
      "[CV 3/10; 65/100] END C=1000, class_weight={0: 1, 1: 14}, solver=liblinear;, score=0.479 total time=   6.3s\n",
      "[CV 4/10; 70/100] START C=1000, class_weight={0: 1, 1: 16}, solver=newton-cholesky\n"
     ]
    },
    {
     "name": "stderr",
     "output_type": "stream",
     "text": [
      "/opt/mamba/lib/python3.10/site-packages/sklearn/linear_model/_glm/_newton_solver.py:491: LinAlgWarning: The inner solver of NewtonCholeskySolver stumbled upon a singular or very ill-conditioned Hessian matrix at iteration #3. It will now resort to lbfgs instead.\n",
      "Further options are to use another solver or to avoid such situation in the first place. Possible remedies are removing collinear features of X or increasing the penalization strengths.\n",
      "The original Linear Algebra message was:\n",
      "Matrix is singular.\n",
      "  warnings.warn(\n",
      "/opt/mamba/lib/python3.10/site-packages/sklearn/linear_model/_glm/_newton_solver.py:491: LinAlgWarning: The inner solver of NewtonCholeskySolver stumbled upon a singular or very ill-conditioned Hessian matrix at iteration #3. It will now resort to lbfgs instead.\n",
      "Further options are to use another solver or to avoid such situation in the first place. Possible remedies are removing collinear features of X or increasing the penalization strengths.\n",
      "The original Linear Algebra message was:\n",
      "Matrix is singular.\n",
      "  warnings.warn(\n",
      "/opt/mamba/lib/python3.10/site-packages/sklearn/linear_model/_glm/_newton_solver.py:195: ConvergenceWarning: lbfgs failed to converge (status=1):\n",
      "STOP: TOTAL NO. of ITERATIONS REACHED LIMIT.\n",
      "\n",
      "Increase the number of iterations (max_iter) or scale the data as shown in:\n",
      "    https://scikit-learn.org/stable/modules/preprocessing.html\n",
      "  self.n_iter_ = _check_optimize_result(\"lbfgs\", opt_res)\n",
      "/opt/mamba/lib/python3.10/site-packages/sklearn/linear_model/_glm/_newton_solver.py:491: LinAlgWarning: The inner solver of NewtonCholeskySolver stumbled upon a singular or very ill-conditioned Hessian matrix at iteration #3. It will now resort to lbfgs instead.\n",
      "Further options are to use another solver or to avoid such situation in the first place. Possible remedies are removing collinear features of X or increasing the penalization strengths.\n",
      "The original Linear Algebra message was:\n",
      "Matrix is singular.\n",
      "  warnings.warn(\n"
     ]
    },
    {
     "name": "stdout",
     "output_type": "stream",
     "text": [
      "[CV 5/10; 68/100] END C=1000, class_weight={0: 1, 1: 15}, solver=newton-cholesky;, score=0.450 total time=   2.5s\n",
      "[CV 5/10; 70/100] START C=1000, class_weight={0: 1, 1: 16}, solver=newton-cholesky\n",
      "[CV 1/10; 65/100] END C=1000, class_weight={0: 1, 1: 14}, solver=liblinear;, score=0.388 total time=   7.3s\n",
      "[CV 6/10; 70/100] START C=1000, class_weight={0: 1, 1: 16}, solver=newton-cholesky\n",
      "[CV 4/10; 70/100] END C=1000, class_weight={0: 1, 1: 16}, solver=newton-cholesky;, score=0.453 total time=   0.5s\n",
      "[CV 7/10; 70/100] START C=1000, class_weight={0: 1, 1: 16}, solver=newton-cholesky\n",
      "[CV 2/10; 63/100] END C=1000, class_weight={0: 1, 1: 10}, solver=liblinear;, score=0.535 total time=   9.3s\n"
     ]
    },
    {
     "name": "stderr",
     "output_type": "stream",
     "text": [
      "/opt/mamba/lib/python3.10/site-packages/sklearn/linear_model/_glm/_newton_solver.py:195: ConvergenceWarning: lbfgs failed to converge (status=1):\n",
      "STOP: TOTAL NO. of ITERATIONS REACHED LIMIT.\n",
      "\n",
      "Increase the number of iterations (max_iter) or scale the data as shown in:\n",
      "    https://scikit-learn.org/stable/modules/preprocessing.html\n",
      "  self.n_iter_ = _check_optimize_result(\"lbfgs\", opt_res)\n",
      "/opt/mamba/lib/python3.10/site-packages/sklearn/linear_model/_glm/_newton_solver.py:195: ConvergenceWarning: lbfgs failed to converge (status=1):\n",
      "STOP: TOTAL NO. of ITERATIONS REACHED LIMIT.\n",
      "\n",
      "Increase the number of iterations (max_iter) or scale the data as shown in:\n",
      "    https://scikit-learn.org/stable/modules/preprocessing.html\n",
      "  self.n_iter_ = _check_optimize_result(\"lbfgs\", opt_res)\n",
      "/opt/mamba/lib/python3.10/site-packages/sklearn/linear_model/_glm/_newton_solver.py:491: LinAlgWarning: The inner solver of NewtonCholeskySolver stumbled upon a singular or very ill-conditioned Hessian matrix at iteration #3. It will now resort to lbfgs instead.\n",
      "Further options are to use another solver or to avoid such situation in the first place. Possible remedies are removing collinear features of X or increasing the penalization strengths.\n",
      "The original Linear Algebra message was:\n",
      "Matrix is singular.\n",
      "  warnings.warn(\n"
     ]
    },
    {
     "name": "stdout",
     "output_type": "stream",
     "text": [
      "[CV 8/10; 68/100] END C=1000, class_weight={0: 1, 1: 15}, solver=newton-cholesky;, score=0.378 total time=   2.6s\n",
      "[CV 10/10; 68/100] END C=1000, class_weight={0: 1, 1: 15}, solver=newton-cholesky;, score=0.414 total time=   2.4s\n",
      "[CV 8/10; 70/100] START C=1000, class_weight={0: 1, 1: 16}, solver=newton-cholesky\n",
      "[CV 9/10; 70/100] START C=1000, class_weight={0: 1, 1: 16}, solver=newton-cholesky\n",
      "[CV 10/10; 70/100] START C=1000, class_weight={0: 1, 1: 16}, solver=newton-cholesky\n"
     ]
    },
    {
     "name": "stderr",
     "output_type": "stream",
     "text": [
      "/opt/mamba/lib/python3.10/site-packages/sklearn/linear_model/_glm/_newton_solver.py:195: ConvergenceWarning: lbfgs failed to converge (status=1):\n",
      "STOP: TOTAL NO. of ITERATIONS REACHED LIMIT.\n",
      "\n",
      "Increase the number of iterations (max_iter) or scale the data as shown in:\n",
      "    https://scikit-learn.org/stable/modules/preprocessing.html\n",
      "  self.n_iter_ = _check_optimize_result(\"lbfgs\", opt_res)\n",
      "/opt/mamba/lib/python3.10/site-packages/sklearn/linear_model/_glm/_newton_solver.py:491: LinAlgWarning: The inner solver of NewtonCholeskySolver stumbled upon a singular or very ill-conditioned Hessian matrix at iteration #3. It will now resort to lbfgs instead.\n",
      "Further options are to use another solver or to avoid such situation in the first place. Possible remedies are removing collinear features of X or increasing the penalization strengths.\n",
      "The original Linear Algebra message was:\n",
      "Matrix is singular.\n",
      "  warnings.warn(\n",
      "/opt/mamba/lib/python3.10/site-packages/sklearn/linear_model/_glm/_newton_solver.py:491: LinAlgWarning: The inner solver of NewtonCholeskySolver stumbled upon a singular or very ill-conditioned Hessian matrix at iteration #3. It will now resort to lbfgs instead.\n",
      "Further options are to use another solver or to avoid such situation in the first place. Possible remedies are removing collinear features of X or increasing the penalization strengths.\n",
      "The original Linear Algebra message was:\n",
      "Matrix is singular.\n",
      "  warnings.warn(\n",
      "/opt/mamba/lib/python3.10/site-packages/sklearn/linear_model/_glm/_newton_solver.py:195: ConvergenceWarning: lbfgs failed to converge (status=1):\n",
      "STOP: TOTAL NO. of ITERATIONS REACHED LIMIT.\n",
      "\n",
      "Increase the number of iterations (max_iter) or scale the data as shown in:\n",
      "    https://scikit-learn.org/stable/modules/preprocessing.html\n",
      "  self.n_iter_ = _check_optimize_result(\"lbfgs\", opt_res)\n",
      "/opt/mamba/lib/python3.10/site-packages/sklearn/linear_model/_glm/_newton_solver.py:491: LinAlgWarning: The inner solver of NewtonCholeskySolver stumbled upon a singular or very ill-conditioned Hessian matrix at iteration #3. It will now resort to lbfgs instead.\n",
      "Further options are to use another solver or to avoid such situation in the first place. Possible remedies are removing collinear features of X or increasing the penalization strengths.\n",
      "The original Linear Algebra message was:\n",
      "Matrix is singular.\n",
      "  warnings.warn(\n",
      "/opt/mamba/lib/python3.10/site-packages/sklearn/linear_model/_glm/_newton_solver.py:491: LinAlgWarning: The inner solver of NewtonCholeskySolver stumbled upon a singular or very ill-conditioned Hessian matrix at iteration #3. It will now resort to lbfgs instead.\n",
      "Further options are to use another solver or to avoid such situation in the first place. Possible remedies are removing collinear features of X or increasing the penalization strengths.\n",
      "The original Linear Algebra message was:\n",
      "Matrix is singular.\n",
      "  warnings.warn(\n"
     ]
    },
    {
     "name": "stdout",
     "output_type": "stream",
     "text": [
      "[CV 3/10; 68/100] END C=1000, class_weight={0: 1, 1: 15}, solver=newton-cholesky;, score=0.455 total time=   3.3s\n",
      "[CV 10/10; 65/100] END C=1000, class_weight={0: 1, 1: 14}, solver=liblinear;, score=0.434 total time=   6.6s\n",
      "[CV 1/10; 71/100] START C=1000, class_weight={0: 1, 1: 20}, solver=liblinear....\n",
      "[CV 9/10; 63/100] END C=1000, class_weight={0: 1, 1: 10}, solver=liblinear;, score=0.538 total time=   9.1s\n",
      "[CV 2/10; 71/100] START C=1000, class_weight={0: 1, 1: 20}, solver=liblinear....\n",
      "[CV 6/10; 68/100] END C=1000, class_weight={0: 1, 1: 15}, solver=newton-cholesky;, score=0.423 total time=   3.3s\n",
      "[CV 3/10; 71/100] START C=1000, class_weight={0: 1, 1: 20}, solver=liblinear....\n"
     ]
    },
    {
     "name": "stderr",
     "output_type": "stream",
     "text": [
      "/opt/mamba/lib/python3.10/site-packages/sklearn/linear_model/_glm/_newton_solver.py:491: LinAlgWarning: The inner solver of NewtonCholeskySolver stumbled upon a singular or very ill-conditioned Hessian matrix at iteration #3. It will now resort to lbfgs instead.\n",
      "Further options are to use another solver or to avoid such situation in the first place. Possible remedies are removing collinear features of X or increasing the penalization strengths.\n",
      "The original Linear Algebra message was:\n",
      "Matrix is singular.\n",
      "  warnings.warn(\n",
      "/opt/mamba/lib/python3.10/site-packages/sklearn/linear_model/_glm/_newton_solver.py:195: ConvergenceWarning: lbfgs failed to converge (status=1):\n",
      "STOP: TOTAL NO. of ITERATIONS REACHED LIMIT.\n",
      "\n",
      "Increase the number of iterations (max_iter) or scale the data as shown in:\n",
      "    https://scikit-learn.org/stable/modules/preprocessing.html\n",
      "  self.n_iter_ = _check_optimize_result(\"lbfgs\", opt_res)\n",
      "/opt/mamba/lib/python3.10/site-packages/sklearn/linear_model/_glm/_newton_solver.py:195: ConvergenceWarning: lbfgs failed to converge (status=1):\n",
      "STOP: TOTAL NO. of ITERATIONS REACHED LIMIT.\n",
      "\n",
      "Increase the number of iterations (max_iter) or scale the data as shown in:\n",
      "    https://scikit-learn.org/stable/modules/preprocessing.html\n",
      "  self.n_iter_ = _check_optimize_result(\"lbfgs\", opt_res)\n"
     ]
    },
    {
     "name": "stdout",
     "output_type": "stream",
     "text": [
      "[CV 4/10; 71/100] START C=1000, class_weight={0: 1, 1: 20}, solver=liblinear....\n",
      "[CV 9/10; 68/100] END C=1000, class_weight={0: 1, 1: 15}, solver=newton-cholesky;, score=0.417 total time=   3.2s\n",
      "[CV 7/10; 68/100] END C=1000, class_weight={0: 1, 1: 15}, solver=newton-cholesky;, score=0.472 total time=   3.5s\n",
      "[CV 5/10; 71/100] START C=1000, class_weight={0: 1, 1: 20}, solver=liblinear....\n",
      "[CV 6/10; 71/100] START C=1000, class_weight={0: 1, 1: 20}, solver=liblinear....\n",
      "[CV 1/10; 67/100] END C=1000, class_weight={0: 1, 1: 15}, solver=liblinear;, score=0.364 total time=   6.0s\n",
      "[CV 3/10; 67/100] END C=1000, class_weight={0: 1, 1: 15}, solver=liblinear;, score=0.453 total time=   5.9s\n",
      "[CV 6/10; 65/100] END C=1000, class_weight={0: 1, 1: 14}, solver=liblinear;, score=0.450 total time=   7.5s\n",
      "[CV 7/10; 71/100] START C=1000, class_weight={0: 1, 1: 20}, solver=liblinear....\n",
      "[CV 8/10; 71/100] START C=1000, class_weight={0: 1, 1: 20}, solver=liblinear....\n",
      "[CV 9/10; 71/100] START C=1000, class_weight={0: 1, 1: 20}, solver=liblinear....\n",
      "[CV 6/10; 63/100] END C=1000, class_weight={0: 1, 1: 10}, solver=liblinear;, score=0.546 total time=  10.2s\n",
      "[CV 10/10; 71/100] START C=1000, class_weight={0: 1, 1: 20}, solver=liblinear...\n",
      "[CV 1/10; 70/100] END C=1000, class_weight={0: 1, 1: 16}, solver=newton-cholesky;, score=0.350 total time=   2.5s\n",
      "[CV 1/10; 72/100] START C=1000, class_weight={0: 1, 1: 20}, solver=newton-cholesky\n"
     ]
    },
    {
     "name": "stderr",
     "output_type": "stream",
     "text": [
      "/opt/mamba/lib/python3.10/site-packages/sklearn/linear_model/_glm/_newton_solver.py:195: ConvergenceWarning: lbfgs failed to converge (status=1):\n",
      "STOP: TOTAL NO. of ITERATIONS REACHED LIMIT.\n",
      "\n",
      "Increase the number of iterations (max_iter) or scale the data as shown in:\n",
      "    https://scikit-learn.org/stable/modules/preprocessing.html\n",
      "  self.n_iter_ = _check_optimize_result(\"lbfgs\", opt_res)\n",
      "/opt/mamba/lib/python3.10/site-packages/sklearn/linear_model/_glm/_newton_solver.py:195: ConvergenceWarning: lbfgs failed to converge (status=1):\n",
      "STOP: TOTAL NO. of ITERATIONS REACHED LIMIT.\n",
      "\n",
      "Increase the number of iterations (max_iter) or scale the data as shown in:\n",
      "    https://scikit-learn.org/stable/modules/preprocessing.html\n",
      "  self.n_iter_ = _check_optimize_result(\"lbfgs\", opt_res)\n",
      "/opt/mamba/lib/python3.10/site-packages/sklearn/linear_model/_glm/_newton_solver.py:491: LinAlgWarning: The inner solver of NewtonCholeskySolver stumbled upon a singular or very ill-conditioned Hessian matrix at iteration #3. It will now resort to lbfgs instead.\n",
      "Further options are to use another solver or to avoid such situation in the first place. Possible remedies are removing collinear features of X or increasing the penalization strengths.\n",
      "The original Linear Algebra message was:\n",
      "Matrix is singular.\n",
      "  warnings.warn(\n"
     ]
    },
    {
     "name": "stdout",
     "output_type": "stream",
     "text": [
      "[CV 6/10; 67/100] END C=1000, class_weight={0: 1, 1: 15}, solver=liblinear;, score=0.424 total time=   6.3s\n",
      "[CV 2/10; 72/100] START C=1000, class_weight={0: 1, 1: 20}, solver=newton-cholesky\n",
      "[CV 3/10; 70/100] END C=1000, class_weight={0: 1, 1: 16}, solver=newton-cholesky;, score=0.425 total time=   2.7s\n",
      "[CV 7/10; 67/100] END C=1000, class_weight={0: 1, 1: 15}, solver=liblinear;, score=0.469 total time=   6.3s\n",
      "[CV 3/10; 72/100] START C=1000, class_weight={0: 1, 1: 20}, solver=newton-cholesky\n",
      "[CV 4/10; 72/100] START C=1000, class_weight={0: 1, 1: 20}, solver=newton-cholesky\n"
     ]
    },
    {
     "name": "stderr",
     "output_type": "stream",
     "text": [
      "/opt/mamba/lib/python3.10/site-packages/sklearn/linear_model/_glm/_newton_solver.py:491: LinAlgWarning: The inner solver of NewtonCholeskySolver stumbled upon a singular or very ill-conditioned Hessian matrix at iteration #3. It will now resort to lbfgs instead.\n",
      "Further options are to use another solver or to avoid such situation in the first place. Possible remedies are removing collinear features of X or increasing the penalization strengths.\n",
      "The original Linear Algebra message was:\n",
      "Matrix is singular.\n",
      "  warnings.warn(\n",
      "/opt/mamba/lib/python3.10/site-packages/sklearn/linear_model/_glm/_newton_solver.py:195: ConvergenceWarning: lbfgs failed to converge (status=1):\n",
      "STOP: TOTAL NO. of ITERATIONS REACHED LIMIT.\n",
      "\n",
      "Increase the number of iterations (max_iter) or scale the data as shown in:\n",
      "    https://scikit-learn.org/stable/modules/preprocessing.html\n",
      "  self.n_iter_ = _check_optimize_result(\"lbfgs\", opt_res)\n",
      "/opt/mamba/lib/python3.10/site-packages/sklearn/linear_model/_glm/_newton_solver.py:491: LinAlgWarning: The inner solver of NewtonCholeskySolver stumbled upon a singular or very ill-conditioned Hessian matrix at iteration #3. It will now resort to lbfgs instead.\n",
      "Further options are to use another solver or to avoid such situation in the first place. Possible remedies are removing collinear features of X or increasing the penalization strengths.\n",
      "The original Linear Algebra message was:\n",
      "Matrix is singular.\n",
      "  warnings.warn(\n"
     ]
    },
    {
     "name": "stdout",
     "output_type": "stream",
     "text": [
      "[CV 2/10; 70/100] END C=1000, class_weight={0: 1, 1: 16}, solver=newton-cholesky;, score=0.427 total time=   3.2s\n",
      "[CV 5/10; 72/100] START C=1000, class_weight={0: 1, 1: 20}, solver=newton-cholesky\n",
      "[CV 7/10; 70/100] END C=1000, class_weight={0: 1, 1: 16}, solver=newton-cholesky;, score=0.453 total time=   2.5s\n",
      "[CV 6/10; 70/100] END C=1000, class_weight={0: 1, 1: 16}, solver=newton-cholesky;, score=0.397 total time=   2.6s\n",
      "[CV 6/10; 72/100] START C=1000, class_weight={0: 1, 1: 20}, solver=newton-cholesky\n"
     ]
    },
    {
     "name": "stderr",
     "output_type": "stream",
     "text": [
      "/opt/mamba/lib/python3.10/site-packages/sklearn/linear_model/_glm/_newton_solver.py:195: ConvergenceWarning: lbfgs failed to converge (status=1):\n",
      "STOP: TOTAL NO. of ITERATIONS REACHED LIMIT.\n",
      "\n",
      "Increase the number of iterations (max_iter) or scale the data as shown in:\n",
      "    https://scikit-learn.org/stable/modules/preprocessing.html\n",
      "  self.n_iter_ = _check_optimize_result(\"lbfgs\", opt_res)\n",
      "/opt/mamba/lib/python3.10/site-packages/sklearn/linear_model/_glm/_newton_solver.py:195: ConvergenceWarning: lbfgs failed to converge (status=1):\n",
      "STOP: TOTAL NO. of ITERATIONS REACHED LIMIT.\n",
      "\n",
      "Increase the number of iterations (max_iter) or scale the data as shown in:\n",
      "    https://scikit-learn.org/stable/modules/preprocessing.html\n",
      "  self.n_iter_ = _check_optimize_result(\"lbfgs\", opt_res)\n"
     ]
    },
    {
     "name": "stdout",
     "output_type": "stream",
     "text": [
      "[CV 7/10; 72/100] START C=1000, class_weight={0: 1, 1: 20}, solver=newton-cholesky\n",
      "[CV 5/10; 65/100] END C=1000, class_weight={0: 1, 1: 14}, solver=liblinear;, score=0.471 total time=   9.4s\n",
      "[CV 4/10; 72/100] END C=1000, class_weight={0: 1, 1: 20}, solver=newton-cholesky;, score=0.336 total time=   0.7s\n",
      "[CV 8/10; 72/100] START C=1000, class_weight={0: 1, 1: 20}, solver=newton-cholesky\n",
      "[CV 9/10; 72/100] START C=1000, class_weight={0: 1, 1: 20}, solver=newton-cholesky\n"
     ]
    },
    {
     "name": "stderr",
     "output_type": "stream",
     "text": [
      "/opt/mamba/lib/python3.10/site-packages/sklearn/linear_model/_glm/_newton_solver.py:491: LinAlgWarning: The inner solver of NewtonCholeskySolver stumbled upon a singular or very ill-conditioned Hessian matrix at iteration #3. It will now resort to lbfgs instead.\n",
      "Further options are to use another solver or to avoid such situation in the first place. Possible remedies are removing collinear features of X or increasing the penalization strengths.\n",
      "The original Linear Algebra message was:\n",
      "Matrix is singular.\n",
      "  warnings.warn(\n",
      "/opt/mamba/lib/python3.10/site-packages/sklearn/linear_model/_glm/_newton_solver.py:491: LinAlgWarning: The inner solver of NewtonCholeskySolver stumbled upon a singular or very ill-conditioned Hessian matrix at iteration #3. It will now resort to lbfgs instead.\n",
      "Further options are to use another solver or to avoid such situation in the first place. Possible remedies are removing collinear features of X or increasing the penalization strengths.\n",
      "The original Linear Algebra message was:\n",
      "Matrix is singular.\n",
      "  warnings.warn(\n",
      "/opt/mamba/lib/python3.10/site-packages/sklearn/linear_model/_glm/_newton_solver.py:195: ConvergenceWarning: lbfgs failed to converge (status=1):\n",
      "STOP: TOTAL NO. of ITERATIONS REACHED LIMIT.\n",
      "\n",
      "Increase the number of iterations (max_iter) or scale the data as shown in:\n",
      "    https://scikit-learn.org/stable/modules/preprocessing.html\n",
      "  self.n_iter_ = _check_optimize_result(\"lbfgs\", opt_res)\n",
      "/opt/mamba/lib/python3.10/site-packages/sklearn/linear_model/_glm/_newton_solver.py:491: LinAlgWarning: The inner solver of NewtonCholeskySolver stumbled upon a singular or very ill-conditioned Hessian matrix at iteration #3. It will now resort to lbfgs instead.\n",
      "Further options are to use another solver or to avoid such situation in the first place. Possible remedies are removing collinear features of X or increasing the penalization strengths.\n",
      "The original Linear Algebra message was:\n",
      "Matrix is singular.\n",
      "  warnings.warn(\n"
     ]
    },
    {
     "name": "stdout",
     "output_type": "stream",
     "text": [
      "[CV 8/10; 63/100] END C=1000, class_weight={0: 1, 1: 10}, solver=liblinear;, score=0.517 total time=  11.6s\n",
      "[CV 5/10; 70/100] END C=1000, class_weight={0: 1, 1: 16}, solver=newton-cholesky;, score=0.434 total time=   3.3s\n",
      "[CV 10/10; 72/100] START C=1000, class_weight={0: 1, 1: 20}, solver=newton-cholesky\n",
      "[CV 1/10; 73/100] START C=1000, class_weight={0: 1, 1: 50}, solver=liblinear....\n"
     ]
    },
    {
     "name": "stderr",
     "output_type": "stream",
     "text": [
      "/opt/mamba/lib/python3.10/site-packages/sklearn/linear_model/_glm/_newton_solver.py:491: LinAlgWarning: The inner solver of NewtonCholeskySolver stumbled upon a singular or very ill-conditioned Hessian matrix at iteration #3. It will now resort to lbfgs instead.\n",
      "Further options are to use another solver or to avoid such situation in the first place. Possible remedies are removing collinear features of X or increasing the penalization strengths.\n",
      "The original Linear Algebra message was:\n",
      "Matrix is singular.\n",
      "  warnings.warn(\n",
      "/opt/mamba/lib/python3.10/site-packages/sklearn/linear_model/_glm/_newton_solver.py:195: ConvergenceWarning: lbfgs failed to converge (status=1):\n",
      "STOP: TOTAL NO. of ITERATIONS REACHED LIMIT.\n",
      "\n",
      "Increase the number of iterations (max_iter) or scale the data as shown in:\n",
      "    https://scikit-learn.org/stable/modules/preprocessing.html\n",
      "  self.n_iter_ = _check_optimize_result(\"lbfgs\", opt_res)\n",
      "/opt/mamba/lib/python3.10/site-packages/sklearn/linear_model/_glm/_newton_solver.py:491: LinAlgWarning: The inner solver of NewtonCholeskySolver stumbled upon a singular or very ill-conditioned Hessian matrix at iteration #3. It will now resort to lbfgs instead.\n",
      "Further options are to use another solver or to avoid such situation in the first place. Possible remedies are removing collinear features of X or increasing the penalization strengths.\n",
      "The original Linear Algebra message was:\n",
      "Matrix is singular.\n",
      "  warnings.warn(\n",
      "/opt/mamba/lib/python3.10/site-packages/sklearn/linear_model/_glm/_newton_solver.py:195: ConvergenceWarning: lbfgs failed to converge (status=1):\n",
      "STOP: TOTAL NO. of ITERATIONS REACHED LIMIT.\n",
      "\n",
      "Increase the number of iterations (max_iter) or scale the data as shown in:\n",
      "    https://scikit-learn.org/stable/modules/preprocessing.html\n",
      "  self.n_iter_ = _check_optimize_result(\"lbfgs\", opt_res)\n"
     ]
    },
    {
     "name": "stdout",
     "output_type": "stream",
     "text": [
      "[CV 5/10; 67/100] END C=1000, class_weight={0: 1, 1: 15}, solver=liblinear;, score=0.452 total time=   7.8s\n",
      "[CV 10/10; 70/100] END C=1000, class_weight={0: 1, 1: 16}, solver=newton-cholesky;, score=0.394 total time=   3.0s\n",
      "[CV 9/10; 70/100] END C=1000, class_weight={0: 1, 1: 16}, solver=newton-cholesky;, score=0.392 total time=   3.1s\n",
      "[CV 2/10; 73/100] START C=1000, class_weight={0: 1, 1: 50}, solver=liblinear....\n",
      "[CV 10/10; 67/100] END C=1000, class_weight={0: 1, 1: 15}, solver=liblinear;, score=0.410 total time=   7.1s\n",
      "[CV 3/10; 73/100] START C=1000, class_weight={0: 1, 1: 50}, solver=liblinear....\n",
      "[CV 8/10; 67/100] END C=1000, class_weight={0: 1, 1: 15}, solver=liblinear;, score=0.386 total time=   7.6s\n",
      "[CV 4/10; 73/100] START C=1000, class_weight={0: 1, 1: 50}, solver=liblinear....\n"
     ]
    },
    {
     "name": "stderr",
     "output_type": "stream",
     "text": [
      "/opt/mamba/lib/python3.10/site-packages/sklearn/linear_model/_glm/_newton_solver.py:491: LinAlgWarning: The inner solver of NewtonCholeskySolver stumbled upon a singular or very ill-conditioned Hessian matrix at iteration #3. It will now resort to lbfgs instead.\n",
      "Further options are to use another solver or to avoid such situation in the first place. Possible remedies are removing collinear features of X or increasing the penalization strengths.\n",
      "The original Linear Algebra message was:\n",
      "Matrix is singular.\n",
      "  warnings.warn(\n",
      "/opt/mamba/lib/python3.10/site-packages/sklearn/linear_model/_glm/_newton_solver.py:195: ConvergenceWarning: lbfgs failed to converge (status=1):\n",
      "STOP: TOTAL NO. of ITERATIONS REACHED LIMIT.\n",
      "\n",
      "Increase the number of iterations (max_iter) or scale the data as shown in:\n",
      "    https://scikit-learn.org/stable/modules/preprocessing.html\n",
      "  self.n_iter_ = _check_optimize_result(\"lbfgs\", opt_res)\n"
     ]
    },
    {
     "name": "stdout",
     "output_type": "stream",
     "text": [
      "[CV 5/10; 73/100] START C=1000, class_weight={0: 1, 1: 50}, solver=liblinear....\n",
      "[CV 1/10; 69/100] END C=1000, class_weight={0: 1, 1: 16}, solver=liblinear;, score=0.339 total time=   5.8s\n",
      "[CV 6/10; 73/100] START C=1000, class_weight={0: 1, 1: 50}, solver=liblinear....\n",
      "[CV 5/10; 63/100] END C=1000, class_weight={0: 1, 1: 10}, solver=liblinear;, score=0.563 total time=  12.4s\n",
      "[CV 7/10; 73/100] START C=1000, class_weight={0: 1, 1: 50}, solver=liblinear....\n",
      "[CV 8/10; 70/100] END C=1000, class_weight={0: 1, 1: 16}, solver=newton-cholesky;, score=0.358 total time=   3.5s\n",
      "[CV 8/10; 69/100] END C=1000, class_weight={0: 1, 1: 16}, solver=liblinear;, score=0.360 total time=   4.7s\n",
      "[CV 8/10; 73/100] START C=1000, class_weight={0: 1, 1: 50}, solver=liblinear....\n",
      "[CV 9/10; 67/100] END C=1000, class_weight={0: 1, 1: 15}, solver=liblinear;, score=0.412 total time=   7.6s\n",
      "[CV 9/10; 73/100] START C=1000, class_weight={0: 1, 1: 50}, solver=liblinear....\n",
      "[CV 10/10; 73/100] START C=1000, class_weight={0: 1, 1: 50}, solver=liblinear...\n",
      "[CV 3/10; 69/100] END C=1000, class_weight={0: 1, 1: 16}, solver=liblinear;, score=0.425 total time=   5.8s\n",
      "[CV 1/10; 74/100] START C=1000, class_weight={0: 1, 1: 50}, solver=newton-cholesky\n",
      "[CV 2/10; 74/100] START C=1000, class_weight={0: 1, 1: 50}, solver=newton-cholesky\n"
     ]
    },
    {
     "name": "stderr",
     "output_type": "stream",
     "text": [
      "/opt/mamba/lib/python3.10/site-packages/sklearn/linear_model/_glm/_newton_solver.py:195: ConvergenceWarning: lbfgs failed to converge (status=1):\n",
      "STOP: TOTAL NO. of ITERATIONS REACHED LIMIT.\n",
      "\n",
      "Increase the number of iterations (max_iter) or scale the data as shown in:\n",
      "    https://scikit-learn.org/stable/modules/preprocessing.html\n",
      "  self.n_iter_ = _check_optimize_result(\"lbfgs\", opt_res)\n",
      "/opt/mamba/lib/python3.10/site-packages/sklearn/linear_model/_glm/_newton_solver.py:491: LinAlgWarning: The inner solver of NewtonCholeskySolver stumbled upon a singular or very ill-conditioned Hessian matrix at iteration #3. It will now resort to lbfgs instead.\n",
      "Further options are to use another solver or to avoid such situation in the first place. Possible remedies are removing collinear features of X or increasing the penalization strengths.\n",
      "The original Linear Algebra message was:\n",
      "Matrix is singular.\n",
      "  warnings.warn(\n",
      "/opt/mamba/lib/python3.10/site-packages/sklearn/linear_model/_glm/_newton_solver.py:491: LinAlgWarning: The inner solver of NewtonCholeskySolver stumbled upon a singular or very ill-conditioned Hessian matrix at iteration #3. It will now resort to lbfgs instead.\n",
      "Further options are to use another solver or to avoid such situation in the first place. Possible remedies are removing collinear features of X or increasing the penalization strengths.\n",
      "The original Linear Algebra message was:\n",
      "Matrix is singular.\n",
      "  warnings.warn(\n"
     ]
    },
    {
     "name": "stdout",
     "output_type": "stream",
     "text": [
      "[CV 1/10; 72/100] END C=1000, class_weight={0: 1, 1: 20}, solver=newton-cholesky;, score=0.255 total time=   2.5s\n",
      "[CV 3/10; 74/100] START C=1000, class_weight={0: 1, 1: 50}, solver=newton-cholesky\n",
      "[CV 2/10; 72/100] END C=1000, class_weight={0: 1, 1: 20}, solver=newton-cholesky;, score=0.325 total time=   2.4s\n"
     ]
    },
    {
     "name": "stderr",
     "output_type": "stream",
     "text": [
      "/opt/mamba/lib/python3.10/site-packages/sklearn/linear_model/_glm/_newton_solver.py:195: ConvergenceWarning: lbfgs failed to converge (status=1):\n",
      "STOP: TOTAL NO. of ITERATIONS REACHED LIMIT.\n",
      "\n",
      "Increase the number of iterations (max_iter) or scale the data as shown in:\n",
      "    https://scikit-learn.org/stable/modules/preprocessing.html\n",
      "  self.n_iter_ = _check_optimize_result(\"lbfgs\", opt_res)\n"
     ]
    },
    {
     "name": "stdout",
     "output_type": "stream",
     "text": [
      "[CV 4/10; 74/100] START C=1000, class_weight={0: 1, 1: 50}, solver=newton-cholesky\n",
      "[CV 2/10; 69/100] END C=1000, class_weight={0: 1, 1: 16}, solver=liblinear;, score=0.425 total time=   6.6s\n",
      "[CV 5/10; 74/100] START C=1000, class_weight={0: 1, 1: 50}, solver=newton-cholesky\n"
     ]
    },
    {
     "name": "stderr",
     "output_type": "stream",
     "text": [
      "/opt/mamba/lib/python3.10/site-packages/sklearn/linear_model/_glm/_newton_solver.py:491: LinAlgWarning: The inner solver of NewtonCholeskySolver stumbled upon a singular or very ill-conditioned Hessian matrix at iteration #3. It will now resort to lbfgs instead.\n",
      "Further options are to use another solver or to avoid such situation in the first place. Possible remedies are removing collinear features of X or increasing the penalization strengths.\n",
      "The original Linear Algebra message was:\n",
      "Matrix is singular.\n",
      "  warnings.warn(\n",
      "/opt/mamba/lib/python3.10/site-packages/sklearn/linear_model/_glm/_newton_solver.py:195: ConvergenceWarning: lbfgs failed to converge (status=1):\n",
      "STOP: TOTAL NO. of ITERATIONS REACHED LIMIT.\n",
      "\n",
      "Increase the number of iterations (max_iter) or scale the data as shown in:\n",
      "    https://scikit-learn.org/stable/modules/preprocessing.html\n",
      "  self.n_iter_ = _check_optimize_result(\"lbfgs\", opt_res)\n",
      "/opt/mamba/lib/python3.10/site-packages/sklearn/linear_model/_glm/_newton_solver.py:195: ConvergenceWarning: lbfgs failed to converge (status=1):\n",
      "STOP: TOTAL NO. of ITERATIONS REACHED LIMIT.\n",
      "\n",
      "Increase the number of iterations (max_iter) or scale the data as shown in:\n",
      "    https://scikit-learn.org/stable/modules/preprocessing.html\n",
      "  self.n_iter_ = _check_optimize_result(\"lbfgs\", opt_res)\n"
     ]
    },
    {
     "name": "stdout",
     "output_type": "stream",
     "text": [
      "[CV 3/10; 72/100] END C=1000, class_weight={0: 1, 1: 20}, solver=newton-cholesky;, score=0.340 total time=   2.8s\n",
      "[CV 6/10; 72/100] END C=1000, class_weight={0: 1, 1: 20}, solver=newton-cholesky;, score=0.321 total time=   2.3s\n",
      "[CV 5/10; 69/100] END C=1000, class_weight={0: 1, 1: 16}, solver=liblinear;, score=0.428 total time=   6.5s\n",
      "[CV 6/10; 74/100] START C=1000, class_weight={0: 1, 1: 50}, solver=newton-cholesky\n",
      "[CV 7/10; 74/100] START C=1000, class_weight={0: 1, 1: 50}, solver=newton-cholesky\n",
      "[CV 4/10; 74/100] END C=1000, class_weight={0: 1, 1: 50}, solver=newton-cholesky;, score=-0.228 total time=   0.5s\n",
      "[CV 8/10; 74/100] START C=1000, class_weight={0: 1, 1: 50}, solver=newton-cholesky\n",
      "[CV 7/10; 72/100] END C=1000, class_weight={0: 1, 1: 20}, solver=newton-cholesky;, score=0.338 total time=   2.4s\n"
     ]
    },
    {
     "name": "stderr",
     "output_type": "stream",
     "text": [
      "/opt/mamba/lib/python3.10/site-packages/sklearn/linear_model/_glm/_newton_solver.py:195: ConvergenceWarning: lbfgs failed to converge (status=1):\n",
      "STOP: TOTAL NO. of ITERATIONS REACHED LIMIT.\n",
      "\n",
      "Increase the number of iterations (max_iter) or scale the data as shown in:\n",
      "    https://scikit-learn.org/stable/modules/preprocessing.html\n",
      "  self.n_iter_ = _check_optimize_result(\"lbfgs\", opt_res)\n",
      "/opt/mamba/lib/python3.10/site-packages/sklearn/linear_model/_glm/_newton_solver.py:491: LinAlgWarning: The inner solver of NewtonCholeskySolver stumbled upon a singular or very ill-conditioned Hessian matrix at iteration #3. It will now resort to lbfgs instead.\n",
      "Further options are to use another solver or to avoid such situation in the first place. Possible remedies are removing collinear features of X or increasing the penalization strengths.\n",
      "The original Linear Algebra message was:\n",
      "Matrix is singular.\n",
      "  warnings.warn(\n",
      "/opt/mamba/lib/python3.10/site-packages/sklearn/linear_model/_glm/_newton_solver.py:195: ConvergenceWarning: lbfgs failed to converge (status=1):\n",
      "STOP: TOTAL NO. of ITERATIONS REACHED LIMIT.\n",
      "\n",
      "Increase the number of iterations (max_iter) or scale the data as shown in:\n",
      "    https://scikit-learn.org/stable/modules/preprocessing.html\n",
      "  self.n_iter_ = _check_optimize_result(\"lbfgs\", opt_res)\n",
      "/opt/mamba/lib/python3.10/site-packages/sklearn/linear_model/_glm/_newton_solver.py:491: LinAlgWarning: The inner solver of NewtonCholeskySolver stumbled upon a singular or very ill-conditioned Hessian matrix at iteration #3. It will now resort to lbfgs instead.\n",
      "Further options are to use another solver or to avoid such situation in the first place. Possible remedies are removing collinear features of X or increasing the penalization strengths.\n",
      "The original Linear Algebra message was:\n",
      "Matrix is singular.\n",
      "  warnings.warn(\n"
     ]
    },
    {
     "name": "stdout",
     "output_type": "stream",
     "text": [
      "[CV 9/10; 74/100] START C=1000, class_weight={0: 1, 1: 50}, solver=newton-cholesky\n",
      "[CV 7/10; 69/100] END C=1000, class_weight={0: 1, 1: 16}, solver=liblinear;, score=0.446 total time=   6.3s\n",
      "[CV 10/10; 74/100] START C=1000, class_weight={0: 1, 1: 50}, solver=newton-cholesky\n",
      "[CV 8/10; 72/100] END C=1000, class_weight={0: 1, 1: 20}, solver=newton-cholesky;, score=0.274 total time=   2.3s\n",
      "[CV 1/10; 75/100] START C=1000, class_weight={0: 1, 1: 100}, solver=liblinear...\n",
      "[CV 10/10; 69/100] END C=1000, class_weight={0: 1, 1: 16}, solver=liblinear;, score=0.391 total time=   6.1s\n"
     ]
    },
    {
     "name": "stderr",
     "output_type": "stream",
     "text": [
      "/opt/mamba/lib/python3.10/site-packages/sklearn/linear_model/_glm/_newton_solver.py:491: LinAlgWarning: The inner solver of NewtonCholeskySolver stumbled upon a singular or very ill-conditioned Hessian matrix at iteration #3. It will now resort to lbfgs instead.\n",
      "Further options are to use another solver or to avoid such situation in the first place. Possible remedies are removing collinear features of X or increasing the penalization strengths.\n",
      "The original Linear Algebra message was:\n",
      "Matrix is singular.\n",
      "  warnings.warn(\n",
      "/opt/mamba/lib/python3.10/site-packages/sklearn/linear_model/_glm/_newton_solver.py:195: ConvergenceWarning: lbfgs failed to converge (status=1):\n",
      "STOP: TOTAL NO. of ITERATIONS REACHED LIMIT.\n",
      "\n",
      "Increase the number of iterations (max_iter) or scale the data as shown in:\n",
      "    https://scikit-learn.org/stable/modules/preprocessing.html\n",
      "  self.n_iter_ = _check_optimize_result(\"lbfgs\", opt_res)\n",
      "/opt/mamba/lib/python3.10/site-packages/sklearn/linear_model/_glm/_newton_solver.py:491: LinAlgWarning: The inner solver of NewtonCholeskySolver stumbled upon a singular or very ill-conditioned Hessian matrix at iteration #3. It will now resort to lbfgs instead.\n",
      "Further options are to use another solver or to avoid such situation in the first place. Possible remedies are removing collinear features of X or increasing the penalization strengths.\n",
      "The original Linear Algebra message was:\n",
      "Matrix is singular.\n",
      "  warnings.warn(\n",
      "/opt/mamba/lib/python3.10/site-packages/sklearn/linear_model/_glm/_newton_solver.py:491: LinAlgWarning: The inner solver of NewtonCholeskySolver stumbled upon a singular or very ill-conditioned Hessian matrix at iteration #3. It will now resort to lbfgs instead.\n",
      "Further options are to use another solver or to avoid such situation in the first place. Possible remedies are removing collinear features of X or increasing the penalization strengths.\n",
      "The original Linear Algebra message was:\n",
      "Matrix is singular.\n",
      "  warnings.warn(\n"
     ]
    },
    {
     "name": "stdout",
     "output_type": "stream",
     "text": [
      "[CV 2/10; 75/100] START C=1000, class_weight={0: 1, 1: 100}, solver=liblinear...\n",
      "[CV 9/10; 72/100] END C=1000, class_weight={0: 1, 1: 20}, solver=newton-cholesky;, score=0.287 total time=   2.4s\n",
      "[CV 4/10; 67/100] END C=1000, class_weight={0: 1, 1: 15}, solver=liblinear;, score=0.476 total time=  10.0s\n",
      "[CV 3/10; 75/100] START C=1000, class_weight={0: 1, 1: 100}, solver=liblinear...\n",
      "[CV 2/10; 67/100] END C=1000, class_weight={0: 1, 1: 15}, solver=liblinear;, score=0.451 total time=  10.2s\n",
      "[CV 4/10; 75/100] START C=1000, class_weight={0: 1, 1: 100}, solver=liblinear...\n",
      "[CV 5/10; 75/100] START C=1000, class_weight={0: 1, 1: 100}, solver=liblinear...\n"
     ]
    },
    {
     "name": "stderr",
     "output_type": "stream",
     "text": [
      "/opt/mamba/lib/python3.10/site-packages/sklearn/linear_model/_glm/_newton_solver.py:195: ConvergenceWarning: lbfgs failed to converge (status=1):\n",
      "STOP: TOTAL NO. of ITERATIONS REACHED LIMIT.\n",
      "\n",
      "Increase the number of iterations (max_iter) or scale the data as shown in:\n",
      "    https://scikit-learn.org/stable/modules/preprocessing.html\n",
      "  self.n_iter_ = _check_optimize_result(\"lbfgs\", opt_res)\n",
      "/opt/mamba/lib/python3.10/site-packages/sklearn/linear_model/_glm/_newton_solver.py:491: LinAlgWarning: The inner solver of NewtonCholeskySolver stumbled upon a singular or very ill-conditioned Hessian matrix at iteration #3. It will now resort to lbfgs instead.\n",
      "Further options are to use another solver or to avoid such situation in the first place. Possible remedies are removing collinear features of X or increasing the penalization strengths.\n",
      "The original Linear Algebra message was:\n",
      "Matrix is singular.\n",
      "  warnings.warn(\n"
     ]
    },
    {
     "name": "stdout",
     "output_type": "stream",
     "text": [
      "[CV 5/10; 72/100] END C=1000, class_weight={0: 1, 1: 20}, solver=newton-cholesky;, score=0.339 total time=   3.0s\n",
      "[CV 6/10; 75/100] START C=1000, class_weight={0: 1, 1: 100}, solver=liblinear...\n",
      "[CV 7/10; 75/100] START C=1000, class_weight={0: 1, 1: 100}, solver=liblinear...\n",
      "[CV 6/10; 71/100] END C=1000, class_weight={0: 1, 1: 20}, solver=liblinear;, score=0.320 total time=   4.7s\n",
      "[CV 8/10; 75/100] START C=1000, class_weight={0: 1, 1: 100}, solver=liblinear...\n",
      "[CV 6/10; 69/100] END C=1000, class_weight={0: 1, 1: 16}, solver=liblinear;, score=0.402 total time=   7.2s\n",
      "[CV 9/10; 75/100] START C=1000, class_weight={0: 1, 1: 100}, solver=liblinear...\n"
     ]
    },
    {
     "name": "stderr",
     "output_type": "stream",
     "text": [
      "/opt/mamba/lib/python3.10/site-packages/sklearn/linear_model/_glm/_newton_solver.py:195: ConvergenceWarning: lbfgs failed to converge (status=1):\n",
      "STOP: TOTAL NO. of ITERATIONS REACHED LIMIT.\n",
      "\n",
      "Increase the number of iterations (max_iter) or scale the data as shown in:\n",
      "    https://scikit-learn.org/stable/modules/preprocessing.html\n",
      "  self.n_iter_ = _check_optimize_result(\"lbfgs\", opt_res)\n"
     ]
    },
    {
     "name": "stdout",
     "output_type": "stream",
     "text": [
      "[CV 10/10; 72/100] END C=1000, class_weight={0: 1, 1: 20}, solver=newton-cholesky;, score=0.294 total time=   3.2s\n",
      "[CV 10/10; 75/100] START C=1000, class_weight={0: 1, 1: 100}, solver=liblinear..\n",
      "[CV 4/10; 69/100] END C=1000, class_weight={0: 1, 1: 16}, solver=liblinear;, score=0.453 total time=   8.1s\n",
      "[CV 1/10; 76/100] START C=1000, class_weight={0: 1, 1: 100}, solver=newton-cholesky\n",
      "[CV 3/10; 71/100] END C=1000, class_weight={0: 1, 1: 20}, solver=liblinear;, score=0.333 total time=   6.0s\n",
      "[CV 2/10; 76/100] START C=1000, class_weight={0: 1, 1: 100}, solver=newton-cholesky\n"
     ]
    },
    {
     "name": "stderr",
     "output_type": "stream",
     "text": [
      "/opt/mamba/lib/python3.10/site-packages/sklearn/linear_model/_glm/_newton_solver.py:491: LinAlgWarning: The inner solver of NewtonCholeskySolver stumbled upon a singular or very ill-conditioned Hessian matrix at iteration #3. It will now resort to lbfgs instead.\n",
      "Further options are to use another solver or to avoid such situation in the first place. Possible remedies are removing collinear features of X or increasing the penalization strengths.\n",
      "The original Linear Algebra message was:\n",
      "Matrix is singular.\n",
      "  warnings.warn(\n",
      "/opt/mamba/lib/python3.10/site-packages/sklearn/linear_model/_glm/_newton_solver.py:491: LinAlgWarning: The inner solver of NewtonCholeskySolver stumbled upon a singular or very ill-conditioned Hessian matrix at iteration #3. It will now resort to lbfgs instead.\n",
      "Further options are to use another solver or to avoid such situation in the first place. Possible remedies are removing collinear features of X or increasing the penalization strengths.\n",
      "The original Linear Algebra message was:\n",
      "Matrix is singular.\n",
      "  warnings.warn(\n"
     ]
    },
    {
     "name": "stdout",
     "output_type": "stream",
     "text": [
      "[CV 9/10; 69/100] END C=1000, class_weight={0: 1, 1: 16}, solver=liblinear;, score=0.388 total time=   7.8s\n",
      "[CV 3/10; 76/100] START C=1000, class_weight={0: 1, 1: 100}, solver=newton-cholesky\n",
      "[CV 5/10; 71/100] END C=1000, class_weight={0: 1, 1: 20}, solver=liblinear;, score=0.340 total time=   6.2s\n",
      "[CV 4/10; 76/100] START C=1000, class_weight={0: 1, 1: 100}, solver=newton-cholesky\n"
     ]
    },
    {
     "name": "stderr",
     "output_type": "stream",
     "text": [
      "/opt/mamba/lib/python3.10/site-packages/sklearn/linear_model/_glm/_newton_solver.py:491: LinAlgWarning: The inner solver of NewtonCholeskySolver stumbled upon a singular or very ill-conditioned Hessian matrix at iteration #3. It will now resort to lbfgs instead.\n",
      "Further options are to use another solver or to avoid such situation in the first place. Possible remedies are removing collinear features of X or increasing the penalization strengths.\n",
      "The original Linear Algebra message was:\n",
      "Matrix is singular.\n",
      "  warnings.warn(\n",
      "/opt/mamba/lib/python3.10/site-packages/sklearn/linear_model/_glm/_newton_solver.py:195: ConvergenceWarning: lbfgs failed to converge (status=1):\n",
      "STOP: TOTAL NO. of ITERATIONS REACHED LIMIT.\n",
      "\n",
      "Increase the number of iterations (max_iter) or scale the data as shown in:\n",
      "    https://scikit-learn.org/stable/modules/preprocessing.html\n",
      "  self.n_iter_ = _check_optimize_result(\"lbfgs\", opt_res)\n",
      "/opt/mamba/lib/python3.10/site-packages/sklearn/linear_model/_glm/_newton_solver.py:195: ConvergenceWarning: lbfgs failed to converge (status=1):\n",
      "STOP: TOTAL NO. of ITERATIONS REACHED LIMIT.\n",
      "\n",
      "Increase the number of iterations (max_iter) or scale the data as shown in:\n",
      "    https://scikit-learn.org/stable/modules/preprocessing.html\n",
      "  self.n_iter_ = _check_optimize_result(\"lbfgs\", opt_res)\n",
      "/opt/mamba/lib/python3.10/site-packages/sklearn/linear_model/_glm/_newton_solver.py:195: ConvergenceWarning: lbfgs failed to converge (status=1):\n",
      "STOP: TOTAL NO. of ITERATIONS REACHED LIMIT.\n",
      "\n",
      "Increase the number of iterations (max_iter) or scale the data as shown in:\n",
      "    https://scikit-learn.org/stable/modules/preprocessing.html\n",
      "  self.n_iter_ = _check_optimize_result(\"lbfgs\", opt_res)\n",
      "/opt/mamba/lib/python3.10/site-packages/sklearn/linear_model/_glm/_newton_solver.py:195: ConvergenceWarning: lbfgs failed to converge (status=1):\n",
      "STOP: TOTAL NO. of ITERATIONS REACHED LIMIT.\n",
      "\n",
      "Increase the number of iterations (max_iter) or scale the data as shown in:\n",
      "    https://scikit-learn.org/stable/modules/preprocessing.html\n",
      "  self.n_iter_ = _check_optimize_result(\"lbfgs\", opt_res)\n"
     ]
    },
    {
     "name": "stdout",
     "output_type": "stream",
     "text": [
      "[CV 1/10; 74/100] END C=1000, class_weight={0: 1, 1: 50}, solver=newton-cholesky;, score=-0.409 total time=   3.6s\n",
      "[CV 2/10; 74/100] END C=1000, class_weight={0: 1, 1: 50}, solver=newton-cholesky;, score=-0.230 total time=   3.6s\n",
      "[CV 9/10; 74/100] END C=1000, class_weight={0: 1, 1: 50}, solver=newton-cholesky;, score=-0.337 total time=   2.5s\n",
      "[CV 5/10; 76/100] START C=1000, class_weight={0: 1, 1: 100}, solver=newton-cholesky\n",
      "[CV 6/10; 74/100] END C=1000, class_weight={0: 1, 1: 50}, solver=newton-cholesky;, score=-0.244 total time=   2.6s\n",
      "[CV 7/10; 74/100] END C=1000, class_weight={0: 1, 1: 50}, solver=newton-cholesky;, score=-0.281 total time=   2.6s\n",
      "[CV 4/10; 76/100] END C=1000, class_weight={0: 1, 1: 100}, solver=newton-cholesky;, score=-0.591 total time=   0.5s\n",
      "[CV 6/10; 76/100] START C=1000, class_weight={0: 1, 1: 100}, solver=newton-cholesky\n",
      "[CV 7/10; 76/100] START C=1000, class_weight={0: 1, 1: 100}, solver=newton-cholesky\n"
     ]
    },
    {
     "name": "stderr",
     "output_type": "stream",
     "text": [
      "/opt/mamba/lib/python3.10/site-packages/sklearn/linear_model/_glm/_newton_solver.py:195: ConvergenceWarning: lbfgs failed to converge (status=1):\n",
      "STOP: TOTAL NO. of ITERATIONS REACHED LIMIT.\n",
      "\n",
      "Increase the number of iterations (max_iter) or scale the data as shown in:\n",
      "    https://scikit-learn.org/stable/modules/preprocessing.html\n",
      "  self.n_iter_ = _check_optimize_result(\"lbfgs\", opt_res)\n"
     ]
    },
    {
     "name": "stdout",
     "output_type": "stream",
     "text": [
      "[CV 8/10; 76/100] START C=1000, class_weight={0: 1, 1: 100}, solver=newton-cholesky\n",
      "[CV 9/10; 76/100] START C=1000, class_weight={0: 1, 1: 100}, solver=newton-cholesky\n",
      "[CV 10/10; 76/100] START C=1000, class_weight={0: 1, 1: 100}, solver=newton-cholesky\n"
     ]
    },
    {
     "name": "stderr",
     "output_type": "stream",
     "text": [
      "/opt/mamba/lib/python3.10/site-packages/sklearn/linear_model/_glm/_newton_solver.py:195: ConvergenceWarning: lbfgs failed to converge (status=1):\n",
      "STOP: TOTAL NO. of ITERATIONS REACHED LIMIT.\n",
      "\n",
      "Increase the number of iterations (max_iter) or scale the data as shown in:\n",
      "    https://scikit-learn.org/stable/modules/preprocessing.html\n",
      "  self.n_iter_ = _check_optimize_result(\"lbfgs\", opt_res)\n",
      "/opt/mamba/lib/python3.10/site-packages/sklearn/linear_model/_glm/_newton_solver.py:491: LinAlgWarning: The inner solver of NewtonCholeskySolver stumbled upon a singular or very ill-conditioned Hessian matrix at iteration #3. It will now resort to lbfgs instead.\n",
      "Further options are to use another solver or to avoid such situation in the first place. Possible remedies are removing collinear features of X or increasing the penalization strengths.\n",
      "The original Linear Algebra message was:\n",
      "Matrix is singular.\n",
      "  warnings.warn(\n",
      "/opt/mamba/lib/python3.10/site-packages/sklearn/linear_model/_glm/_newton_solver.py:491: LinAlgWarning: The inner solver of NewtonCholeskySolver stumbled upon a singular or very ill-conditioned Hessian matrix at iteration #3. It will now resort to lbfgs instead.\n",
      "Further options are to use another solver or to avoid such situation in the first place. Possible remedies are removing collinear features of X or increasing the penalization strengths.\n",
      "The original Linear Algebra message was:\n",
      "Matrix is singular.\n",
      "  warnings.warn(\n",
      "/opt/mamba/lib/python3.10/site-packages/sklearn/linear_model/_glm/_newton_solver.py:491: LinAlgWarning: The inner solver of NewtonCholeskySolver stumbled upon a singular or very ill-conditioned Hessian matrix at iteration #3. It will now resort to lbfgs instead.\n",
      "Further options are to use another solver or to avoid such situation in the first place. Possible remedies are removing collinear features of X or increasing the penalization strengths.\n",
      "The original Linear Algebra message was:\n",
      "Matrix is singular.\n",
      "  warnings.warn(\n",
      "/opt/mamba/lib/python3.10/site-packages/sklearn/linear_model/_glm/_newton_solver.py:195: ConvergenceWarning: lbfgs failed to converge (status=1):\n",
      "STOP: TOTAL NO. of ITERATIONS REACHED LIMIT.\n",
      "\n",
      "Increase the number of iterations (max_iter) or scale the data as shown in:\n",
      "    https://scikit-learn.org/stable/modules/preprocessing.html\n",
      "  self.n_iter_ = _check_optimize_result(\"lbfgs\", opt_res)\n",
      "/opt/mamba/lib/python3.10/site-packages/sklearn/linear_model/_glm/_newton_solver.py:491: LinAlgWarning: The inner solver of NewtonCholeskySolver stumbled upon a singular or very ill-conditioned Hessian matrix at iteration #3. It will now resort to lbfgs instead.\n",
      "Further options are to use another solver or to avoid such situation in the first place. Possible remedies are removing collinear features of X or increasing the penalization strengths.\n",
      "The original Linear Algebra message was:\n",
      "Matrix is singular.\n",
      "  warnings.warn(\n"
     ]
    },
    {
     "name": "stdout",
     "output_type": "stream",
     "text": [
      "[CV 8/10; 74/100] END C=1000, class_weight={0: 1, 1: 50}, solver=newton-cholesky;, score=-0.361 total time=   2.9s\n",
      "[CV 1/10; 77/100] START C=1000, class_weight={0: 1, 1: 150}, solver=liblinear...\n",
      "[CV 10/10; 74/100] END C=1000, class_weight={0: 1, 1: 50}, solver=newton-cholesky;, score=-0.299 total time=   3.0s\n"
     ]
    },
    {
     "name": "stderr",
     "output_type": "stream",
     "text": [
      "/opt/mamba/lib/python3.10/site-packages/sklearn/linear_model/_glm/_newton_solver.py:491: LinAlgWarning: The inner solver of NewtonCholeskySolver stumbled upon a singular or very ill-conditioned Hessian matrix at iteration #3. It will now resort to lbfgs instead.\n",
      "Further options are to use another solver or to avoid such situation in the first place. Possible remedies are removing collinear features of X or increasing the penalization strengths.\n",
      "The original Linear Algebra message was:\n",
      "Matrix is singular.\n",
      "  warnings.warn(\n",
      "/opt/mamba/lib/python3.10/site-packages/sklearn/linear_model/_glm/_newton_solver.py:491: LinAlgWarning: The inner solver of NewtonCholeskySolver stumbled upon a singular or very ill-conditioned Hessian matrix at iteration #3. It will now resort to lbfgs instead.\n",
      "Further options are to use another solver or to avoid such situation in the first place. Possible remedies are removing collinear features of X or increasing the penalization strengths.\n",
      "The original Linear Algebra message was:\n",
      "Matrix is singular.\n",
      "  warnings.warn(\n",
      "/opt/mamba/lib/python3.10/site-packages/sklearn/linear_model/_glm/_newton_solver.py:195: ConvergenceWarning: lbfgs failed to converge (status=1):\n",
      "STOP: TOTAL NO. of ITERATIONS REACHED LIMIT.\n",
      "\n",
      "Increase the number of iterations (max_iter) or scale the data as shown in:\n",
      "    https://scikit-learn.org/stable/modules/preprocessing.html\n",
      "  self.n_iter_ = _check_optimize_result(\"lbfgs\", opt_res)\n"
     ]
    },
    {
     "name": "stdout",
     "output_type": "stream",
     "text": [
      "[CV 2/10; 77/100] START C=1000, class_weight={0: 1, 1: 150}, solver=liblinear...\n",
      "[CV 5/10; 74/100] END C=1000, class_weight={0: 1, 1: 50}, solver=newton-cholesky;, score=-0.306 total time=   3.6s\n",
      "[CV 3/10; 77/100] START C=1000, class_weight={0: 1, 1: 150}, solver=liblinear...\n"
     ]
    },
    {
     "name": "stderr",
     "output_type": "stream",
     "text": [
      "/opt/mamba/lib/python3.10/site-packages/sklearn/linear_model/_glm/_newton_solver.py:195: ConvergenceWarning: lbfgs failed to converge (status=1):\n",
      "STOP: TOTAL NO. of ITERATIONS REACHED LIMIT.\n",
      "\n",
      "Increase the number of iterations (max_iter) or scale the data as shown in:\n",
      "    https://scikit-learn.org/stable/modules/preprocessing.html\n",
      "  self.n_iter_ = _check_optimize_result(\"lbfgs\", opt_res)\n"
     ]
    },
    {
     "name": "stdout",
     "output_type": "stream",
     "text": [
      "[CV 3/10; 74/100] END C=1000, class_weight={0: 1, 1: 50}, solver=newton-cholesky;, score=-0.236 total time=   4.2s\n",
      "[CV 2/10; 71/100] END C=1000, class_weight={0: 1, 1: 20}, solver=liblinear;, score=0.328 total time=   8.0s\n",
      "[CV 4/10; 77/100] START C=1000, class_weight={0: 1, 1: 150}, solver=liblinear...\n",
      "[CV 5/10; 77/100] START C=1000, class_weight={0: 1, 1: 150}, solver=liblinear...\n",
      "[CV 7/10; 71/100] END C=1000, class_weight={0: 1, 1: 20}, solver=liblinear;, score=0.342 total time=   7.5s\n",
      "[CV 6/10; 77/100] START C=1000, class_weight={0: 1, 1: 150}, solver=liblinear...\n"
     ]
    },
    {
     "name": "stderr",
     "output_type": "stream",
     "text": [
      "/opt/mamba/lib/python3.10/site-packages/sklearn/linear_model/_glm/_newton_solver.py:195: ConvergenceWarning: lbfgs failed to converge (status=1):\n",
      "STOP: TOTAL NO. of ITERATIONS REACHED LIMIT.\n",
      "\n",
      "Increase the number of iterations (max_iter) or scale the data as shown in:\n",
      "    https://scikit-learn.org/stable/modules/preprocessing.html\n",
      "  self.n_iter_ = _check_optimize_result(\"lbfgs\", opt_res)\n"
     ]
    },
    {
     "name": "stdout",
     "output_type": "stream",
     "text": [
      "[CV 2/10; 76/100] END C=1000, class_weight={0: 1, 1: 100}, solver=newton-cholesky;, score=-0.591 total time=   2.4s\n",
      "[CV 7/10; 77/100] START C=1000, class_weight={0: 1, 1: 150}, solver=liblinear...\n",
      "[CV 3/10; 75/100] END C=1000, class_weight={0: 1, 1: 100}, solver=liblinear;, score=-0.579 total time=   3.9s\n",
      "[CV 1/10; 71/100] END C=1000, class_weight={0: 1, 1: 20}, solver=liblinear;, score=0.249 total time=   8.8s\n",
      "[CV 8/10; 73/100] END C=1000, class_weight={0: 1, 1: 50}, solver=liblinear;, score=-0.339 total time=   5.6s\n",
      "[CV 8/10; 77/100] START C=1000, class_weight={0: 1, 1: 150}, solver=liblinear...\n",
      "[CV 9/10; 77/100] START C=1000, class_weight={0: 1, 1: 150}, solver=liblinear...\n",
      "[CV 7/10; 75/100] END C=1000, class_weight={0: 1, 1: 100}, solver=liblinear;, score=-0.661 total time=   3.8s\n",
      "[CV 8/10; 71/100] END C=1000, class_weight={0: 1, 1: 20}, solver=liblinear;, score=0.277 total time=   8.2s\n",
      "[CV 10/10; 77/100] START C=1000, class_weight={0: 1, 1: 150}, solver=liblinear..\n",
      "[CV 1/10; 75/100] END C=1000, class_weight={0: 1, 1: 100}, solver=liblinear;, score=-0.801 total time=   4.3s\n",
      "[CV 1/10; 78/100] START C=1000, class_weight={0: 1, 1: 150}, solver=newton-cholesky\n",
      "[CV 2/10; 78/100] START C=1000, class_weight={0: 1, 1: 150}, solver=newton-cholesky\n",
      "[CV 3/10; 78/100] START C=1000, class_weight={0: 1, 1: 150}, solver=newton-cholesky\n"
     ]
    },
    {
     "name": "stderr",
     "output_type": "stream",
     "text": [
      "/opt/mamba/lib/python3.10/site-packages/sklearn/linear_model/_glm/_newton_solver.py:195: ConvergenceWarning: lbfgs failed to converge (status=1):\n",
      "STOP: TOTAL NO. of ITERATIONS REACHED LIMIT.\n",
      "\n",
      "Increase the number of iterations (max_iter) or scale the data as shown in:\n",
      "    https://scikit-learn.org/stable/modules/preprocessing.html\n",
      "  self.n_iter_ = _check_optimize_result(\"lbfgs\", opt_res)\n"
     ]
    },
    {
     "name": "stdout",
     "output_type": "stream",
     "text": [
      "[CV 1/10; 76/100] END C=1000, class_weight={0: 1, 1: 100}, solver=newton-cholesky;, score=-0.814 total time=   3.3s\n",
      "[CV 7/10; 73/100] END C=1000, class_weight={0: 1, 1: 50}, solver=liblinear;, score=-0.272 total time=   6.2s\n",
      "[CV 4/10; 78/100] START C=1000, class_weight={0: 1, 1: 150}, solver=newton-cholesky\n",
      "[CV 5/10; 78/100] START C=1000, class_weight={0: 1, 1: 150}, solver=newton-cholesky\n"
     ]
    },
    {
     "name": "stderr",
     "output_type": "stream",
     "text": [
      "/opt/mamba/lib/python3.10/site-packages/sklearn/linear_model/_glm/_newton_solver.py:491: LinAlgWarning: The inner solver of NewtonCholeskySolver stumbled upon a singular or very ill-conditioned Hessian matrix at iteration #3. It will now resort to lbfgs instead.\n",
      "Further options are to use another solver or to avoid such situation in the first place. Possible remedies are removing collinear features of X or increasing the penalization strengths.\n",
      "The original Linear Algebra message was:\n",
      "Matrix is singular.\n",
      "  warnings.warn(\n",
      "/opt/mamba/lib/python3.10/site-packages/sklearn/linear_model/_glm/_newton_solver.py:491: LinAlgWarning: The inner solver of NewtonCholeskySolver stumbled upon a singular or very ill-conditioned Hessian matrix at iteration #3. It will now resort to lbfgs instead.\n",
      "Further options are to use another solver or to avoid such situation in the first place. Possible remedies are removing collinear features of X or increasing the penalization strengths.\n",
      "The original Linear Algebra message was:\n",
      "Matrix is singular.\n",
      "  warnings.warn(\n",
      "/opt/mamba/lib/python3.10/site-packages/sklearn/linear_model/_glm/_newton_solver.py:491: LinAlgWarning: The inner solver of NewtonCholeskySolver stumbled upon a singular or very ill-conditioned Hessian matrix at iteration #3. It will now resort to lbfgs instead.\n",
      "Further options are to use another solver or to avoid such situation in the first place. Possible remedies are removing collinear features of X or increasing the penalization strengths.\n",
      "The original Linear Algebra message was:\n",
      "Matrix is singular.\n",
      "  warnings.warn(\n",
      "/opt/mamba/lib/python3.10/site-packages/sklearn/linear_model/_glm/_newton_solver.py:491: LinAlgWarning: The inner solver of NewtonCholeskySolver stumbled upon a singular or very ill-conditioned Hessian matrix at iteration #3. It will now resort to lbfgs instead.\n",
      "Further options are to use another solver or to avoid such situation in the first place. Possible remedies are removing collinear features of X or increasing the penalization strengths.\n",
      "The original Linear Algebra message was:\n",
      "Matrix is singular.\n",
      "  warnings.warn(\n",
      "/opt/mamba/lib/python3.10/site-packages/sklearn/linear_model/_glm/_newton_solver.py:195: ConvergenceWarning: lbfgs failed to converge (status=1):\n",
      "STOP: TOTAL NO. of ITERATIONS REACHED LIMIT.\n",
      "\n",
      "Increase the number of iterations (max_iter) or scale the data as shown in:\n",
      "    https://scikit-learn.org/stable/modules/preprocessing.html\n",
      "  self.n_iter_ = _check_optimize_result(\"lbfgs\", opt_res)\n",
      "/opt/mamba/lib/python3.10/site-packages/sklearn/linear_model/_glm/_newton_solver.py:195: ConvergenceWarning: lbfgs failed to converge (status=1):\n",
      "STOP: TOTAL NO. of ITERATIONS REACHED LIMIT.\n",
      "\n",
      "Increase the number of iterations (max_iter) or scale the data as shown in:\n",
      "    https://scikit-learn.org/stable/modules/preprocessing.html\n",
      "  self.n_iter_ = _check_optimize_result(\"lbfgs\", opt_res)\n"
     ]
    },
    {
     "name": "stdout",
     "output_type": "stream",
     "text": [
      "[CV 9/10; 76/100] END C=1000, class_weight={0: 1, 1: 100}, solver=newton-cholesky;, score=-0.716 total time=   2.5s\n",
      "[CV 6/10; 78/100] START C=1000, class_weight={0: 1, 1: 150}, solver=newton-cholesky\n",
      "[CV 3/10; 76/100] END C=1000, class_weight={0: 1, 1: 100}, solver=newton-cholesky;, score=-0.596 total time=   3.4s\n",
      "[CV 4/10; 78/100] END C=1000, class_weight={0: 1, 1: 150}, solver=newton-cholesky;, score=-0.721 total time=   0.6s\n",
      "[CV 7/10; 78/100] START C=1000, class_weight={0: 1, 1: 150}, solver=newton-cholesky\n",
      "[CV 8/10; 78/100] START C=1000, class_weight={0: 1, 1: 150}, solver=newton-cholesky\n"
     ]
    },
    {
     "name": "stderr",
     "output_type": "stream",
     "text": [
      "/opt/mamba/lib/python3.10/site-packages/sklearn/linear_model/_glm/_newton_solver.py:195: ConvergenceWarning: lbfgs failed to converge (status=1):\n",
      "STOP: TOTAL NO. of ITERATIONS REACHED LIMIT.\n",
      "\n",
      "Increase the number of iterations (max_iter) or scale the data as shown in:\n",
      "    https://scikit-learn.org/stable/modules/preprocessing.html\n",
      "  self.n_iter_ = _check_optimize_result(\"lbfgs\", opt_res)\n",
      "/opt/mamba/lib/python3.10/site-packages/sklearn/linear_model/_glm/_newton_solver.py:195: ConvergenceWarning: lbfgs failed to converge (status=1):\n",
      "STOP: TOTAL NO. of ITERATIONS REACHED LIMIT.\n",
      "\n",
      "Increase the number of iterations (max_iter) or scale the data as shown in:\n",
      "    https://scikit-learn.org/stable/modules/preprocessing.html\n",
      "  self.n_iter_ = _check_optimize_result(\"lbfgs\", opt_res)\n",
      "/opt/mamba/lib/python3.10/site-packages/sklearn/linear_model/_glm/_newton_solver.py:491: LinAlgWarning: The inner solver of NewtonCholeskySolver stumbled upon a singular or very ill-conditioned Hessian matrix at iteration #3. It will now resort to lbfgs instead.\n",
      "Further options are to use another solver or to avoid such situation in the first place. Possible remedies are removing collinear features of X or increasing the penalization strengths.\n",
      "The original Linear Algebra message was:\n",
      "Matrix is singular.\n",
      "  warnings.warn(\n",
      "/opt/mamba/lib/python3.10/site-packages/sklearn/linear_model/_glm/_newton_solver.py:491: LinAlgWarning: The inner solver of NewtonCholeskySolver stumbled upon a singular or very ill-conditioned Hessian matrix at iteration #3. It will now resort to lbfgs instead.\n",
      "Further options are to use another solver or to avoid such situation in the first place. Possible remedies are removing collinear features of X or increasing the penalization strengths.\n",
      "The original Linear Algebra message was:\n",
      "Matrix is singular.\n",
      "  warnings.warn(\n",
      "/opt/mamba/lib/python3.10/site-packages/sklearn/linear_model/_glm/_newton_solver.py:195: ConvergenceWarning: lbfgs failed to converge (status=1):\n",
      "STOP: TOTAL NO. of ITERATIONS REACHED LIMIT.\n",
      "\n",
      "Increase the number of iterations (max_iter) or scale the data as shown in:\n",
      "    https://scikit-learn.org/stable/modules/preprocessing.html\n",
      "  self.n_iter_ = _check_optimize_result(\"lbfgs\", opt_res)\n"
     ]
    },
    {
     "name": "stdout",
     "output_type": "stream",
     "text": [
      "[CV 10/10; 73/100] END C=1000, class_weight={0: 1, 1: 50}, solver=liblinear;, score=-0.299 total time=   6.8s\n",
      "[CV 1/10; 73/100] END C=1000, class_weight={0: 1, 1: 50}, solver=liblinear;, score=-0.399 total time=   7.4s\n",
      "[CV 9/10; 78/100] START C=1000, class_weight={0: 1, 1: 150}, solver=newton-cholesky\n",
      "[CV 7/10; 76/100] END C=1000, class_weight={0: 1, 1: 100}, solver=newton-cholesky;, score=-0.698 total time=   3.0s\n",
      "[CV 10/10; 78/100] START C=1000, class_weight={0: 1, 1: 150}, solver=newton-cholesky\n",
      "[CV 6/10; 76/100] END C=1000, class_weight={0: 1, 1: 100}, solver=newton-cholesky;, score=-0.581 total time=   3.1s\n",
      "[CV 1/10; 79/100] START C=1000, class_weight={0: 1, 1: 1000}, solver=liblinear..\n",
      "[CV 2/10; 79/100] START C=1000, class_weight={0: 1, 1: 1000}, solver=liblinear..\n",
      "[CV 2/10; 73/100] END C=1000, class_weight={0: 1, 1: 50}, solver=liblinear;, score=-0.219 total time=   7.5s\n",
      "[CV 10/10; 76/100] END C=1000, class_weight={0: 1, 1: 100}, solver=newton-cholesky;, score=-0.708 total time=   3.0s\n",
      "[CV 3/10; 79/100] START C=1000, class_weight={0: 1, 1: 1000}, solver=liblinear..\n",
      "[CV 4/10; 79/100] START C=1000, class_weight={0: 1, 1: 1000}, solver=liblinear..\n",
      "[CV 2/10; 75/100] END C=1000, class_weight={0: 1, 1: 100}, solver=liblinear;, score=-0.571 total time=   5.7s\n"
     ]
    },
    {
     "name": "stderr",
     "output_type": "stream",
     "text": [
      "/opt/mamba/lib/python3.10/site-packages/sklearn/linear_model/_glm/_newton_solver.py:491: LinAlgWarning: The inner solver of NewtonCholeskySolver stumbled upon a singular or very ill-conditioned Hessian matrix at iteration #3. It will now resort to lbfgs instead.\n",
      "Further options are to use another solver or to avoid such situation in the first place. Possible remedies are removing collinear features of X or increasing the penalization strengths.\n",
      "The original Linear Algebra message was:\n",
      "Matrix is singular.\n",
      "  warnings.warn(\n",
      "/opt/mamba/lib/python3.10/site-packages/sklearn/linear_model/_glm/_newton_solver.py:491: LinAlgWarning: The inner solver of NewtonCholeskySolver stumbled upon a singular or very ill-conditioned Hessian matrix at iteration #3. It will now resort to lbfgs instead.\n",
      "Further options are to use another solver or to avoid such situation in the first place. Possible remedies are removing collinear features of X or increasing the penalization strengths.\n",
      "The original Linear Algebra message was:\n",
      "Matrix is singular.\n",
      "  warnings.warn(\n",
      "/opt/mamba/lib/python3.10/site-packages/sklearn/linear_model/_glm/_newton_solver.py:195: ConvergenceWarning: lbfgs failed to converge (status=1):\n",
      "STOP: TOTAL NO. of ITERATIONS REACHED LIMIT.\n",
      "\n",
      "Increase the number of iterations (max_iter) or scale the data as shown in:\n",
      "    https://scikit-learn.org/stable/modules/preprocessing.html\n",
      "  self.n_iter_ = _check_optimize_result(\"lbfgs\", opt_res)\n",
      "/opt/mamba/lib/python3.10/site-packages/sklearn/linear_model/_glm/_newton_solver.py:491: LinAlgWarning: The inner solver of NewtonCholeskySolver stumbled upon a singular or very ill-conditioned Hessian matrix at iteration #3. It will now resort to lbfgs instead.\n",
      "Further options are to use another solver or to avoid such situation in the first place. Possible remedies are removing collinear features of X or increasing the penalization strengths.\n",
      "The original Linear Algebra message was:\n",
      "Matrix is singular.\n",
      "  warnings.warn(\n",
      "/opt/mamba/lib/python3.10/site-packages/sklearn/linear_model/_glm/_newton_solver.py:195: ConvergenceWarning: lbfgs failed to converge (status=1):\n",
      "STOP: TOTAL NO. of ITERATIONS REACHED LIMIT.\n",
      "\n",
      "Increase the number of iterations (max_iter) or scale the data as shown in:\n",
      "    https://scikit-learn.org/stable/modules/preprocessing.html\n",
      "  self.n_iter_ = _check_optimize_result(\"lbfgs\", opt_res)\n"
     ]
    },
    {
     "name": "stdout",
     "output_type": "stream",
     "text": [
      "[CV 5/10; 73/100] END C=1000, class_weight={0: 1, 1: 50}, solver=liblinear;, score=-0.309 total time=   7.5s\n",
      "[CV 5/10; 75/100] END C=1000, class_weight={0: 1, 1: 100}, solver=liblinear;, score=-0.684 total time=   5.5s\n",
      "[CV 5/10; 79/100] START C=1000, class_weight={0: 1, 1: 1000}, solver=liblinear..\n",
      "[CV 5/10; 76/100] END C=1000, class_weight={0: 1, 1: 100}, solver=newton-cholesky;, score=-0.701 total time=   3.5s\n",
      "[CV 8/10; 76/100] END C=1000, class_weight={0: 1, 1: 100}, solver=newton-cholesky;, score=-0.754 total time=   3.4s\n",
      "[CV 6/10; 79/100] START C=1000, class_weight={0: 1, 1: 1000}, solver=liblinear..\n",
      "[CV 7/10; 79/100] START C=1000, class_weight={0: 1, 1: 1000}, solver=liblinear..\n",
      "[CV 8/10; 79/100] START C=1000, class_weight={0: 1, 1: 1000}, solver=liblinear..\n",
      "[CV 3/10; 77/100] END C=1000, class_weight={0: 1, 1: 150}, solver=liblinear;, score=-0.701 total time=   3.0s\n",
      "[CV 9/10; 73/100] END C=1000, class_weight={0: 1, 1: 50}, solver=liblinear;, score=-0.328 total time=   7.6s\n",
      "[CV 9/10; 79/100] START C=1000, class_weight={0: 1, 1: 1000}, solver=liblinear..\n",
      "[CV 10/10; 79/100] START C=1000, class_weight={0: 1, 1: 1000}, solver=liblinear.\n",
      "[CV 1/10; 80/100] START C=1000, class_weight={0: 1, 1: 1000}, solver=newton-cholesky\n"
     ]
    },
    {
     "name": "stderr",
     "output_type": "stream",
     "text": [
      "/opt/mamba/lib/python3.10/site-packages/sklearn/linear_model/_glm/_newton_solver.py:491: LinAlgWarning: The inner solver of NewtonCholeskySolver stumbled upon a singular or very ill-conditioned Hessian matrix at iteration #4. It will now resort to lbfgs instead.\n",
      "Further options are to use another solver or to avoid such situation in the first place. Possible remedies are removing collinear features of X or increasing the penalization strengths.\n",
      "The original Linear Algebra message was:\n",
      "Matrix is singular.\n",
      "  warnings.warn(\n"
     ]
    },
    {
     "name": "stdout",
     "output_type": "stream",
     "text": [
      "[CV 4/10; 71/100] END C=1000, class_weight={0: 1, 1: 20}, solver=liblinear;, score=0.336 total time=  11.3s\n",
      "[CV 6/10; 73/100] END C=1000, class_weight={0: 1, 1: 50}, solver=liblinear;, score=-0.234 total time=   8.4s\n",
      "[CV 2/10; 80/100] START C=1000, class_weight={0: 1, 1: 1000}, solver=newton-cholesky\n",
      "[CV 6/10; 77/100] END C=1000, class_weight={0: 1, 1: 150}, solver=liblinear;, score=-0.687 total time=   3.3s\n",
      "[CV 10/10; 71/100] END C=1000, class_weight={0: 1, 1: 20}, solver=liblinear;, score=0.292 total time=  10.6s\n",
      "[CV 3/10; 80/100] START C=1000, class_weight={0: 1, 1: 1000}, solver=newton-cholesky\n",
      "[CV 8/10; 77/100] END C=1000, class_weight={0: 1, 1: 150}, solver=liblinear;, score=-0.871 total time=   2.8s\n",
      "[CV 4/10; 80/100] START C=1000, class_weight={0: 1, 1: 1000}, solver=newton-cholesky\n"
     ]
    },
    {
     "name": "stderr",
     "output_type": "stream",
     "text": [
      "/opt/mamba/lib/python3.10/site-packages/sklearn/linear_model/_glm/_newton_solver.py:195: ConvergenceWarning: lbfgs failed to converge (status=1):\n",
      "STOP: TOTAL NO. of ITERATIONS REACHED LIMIT.\n",
      "\n",
      "Increase the number of iterations (max_iter) or scale the data as shown in:\n",
      "    https://scikit-learn.org/stable/modules/preprocessing.html\n",
      "  self.n_iter_ = _check_optimize_result(\"lbfgs\", opt_res)\n",
      "/opt/mamba/lib/python3.10/site-packages/sklearn/linear_model/_glm/_newton_solver.py:491: LinAlgWarning: The inner solver of NewtonCholeskySolver stumbled upon a singular or very ill-conditioned Hessian matrix at iteration #4. It will now resort to lbfgs instead.\n",
      "Further options are to use another solver or to avoid such situation in the first place. Possible remedies are removing collinear features of X or increasing the penalization strengths.\n",
      "The original Linear Algebra message was:\n",
      "Matrix is singular.\n",
      "  warnings.warn(\n",
      "/opt/mamba/lib/python3.10/site-packages/sklearn/linear_model/_glm/_newton_solver.py:195: ConvergenceWarning: lbfgs failed to converge (status=1):\n",
      "STOP: TOTAL NO. of ITERATIONS REACHED LIMIT.\n",
      "\n",
      "Increase the number of iterations (max_iter) or scale the data as shown in:\n",
      "    https://scikit-learn.org/stable/modules/preprocessing.html\n",
      "  self.n_iter_ = _check_optimize_result(\"lbfgs\", opt_res)\n"
     ]
    },
    {
     "name": "stdout",
     "output_type": "stream",
     "text": [
      "[CV 5/10; 80/100] START C=1000, class_weight={0: 1, 1: 1000}, solver=newton-cholesky\n",
      "[CV 6/10; 80/100] START C=1000, class_weight={0: 1, 1: 1000}, solver=newton-cholesky\n",
      "[CV 3/10; 78/100] END C=1000, class_weight={0: 1, 1: 150}, solver=newton-cholesky;, score=-0.740 total time=   2.6s\n",
      "[CV 7/10; 80/100] START C=1000, class_weight={0: 1, 1: 1000}, solver=newton-cholesky\n",
      "[CV 1/10; 77/100] END C=1000, class_weight={0: 1, 1: 150}, solver=liblinear;, score=-0.933 total time=   4.3s\n"
     ]
    },
    {
     "name": "stderr",
     "output_type": "stream",
     "text": [
      "/opt/mamba/lib/python3.10/site-packages/sklearn/linear_model/_glm/_newton_solver.py:491: LinAlgWarning: The inner solver of NewtonCholeskySolver stumbled upon a singular or very ill-conditioned Hessian matrix at iteration #4. It will now resort to lbfgs instead.\n",
      "Further options are to use another solver or to avoid such situation in the first place. Possible remedies are removing collinear features of X or increasing the penalization strengths.\n",
      "The original Linear Algebra message was:\n",
      "Matrix is singular.\n",
      "  warnings.warn(\n",
      "/opt/mamba/lib/python3.10/site-packages/sklearn/linear_model/_glm/_newton_solver.py:195: ConvergenceWarning: lbfgs failed to converge (status=1):\n",
      "STOP: TOTAL NO. of ITERATIONS REACHED LIMIT.\n",
      "\n",
      "Increase the number of iterations (max_iter) or scale the data as shown in:\n",
      "    https://scikit-learn.org/stable/modules/preprocessing.html\n",
      "  self.n_iter_ = _check_optimize_result(\"lbfgs\", opt_res)\n",
      "/opt/mamba/lib/python3.10/site-packages/sklearn/linear_model/_glm/_newton_solver.py:491: LinAlgWarning: The inner solver of NewtonCholeskySolver stumbled upon a singular or very ill-conditioned Hessian matrix at iteration #4. It will now resort to lbfgs instead.\n",
      "Further options are to use another solver or to avoid such situation in the first place. Possible remedies are removing collinear features of X or increasing the penalization strengths.\n",
      "The original Linear Algebra message was:\n",
      "Matrix is singular.\n",
      "  warnings.warn(\n",
      "/opt/mamba/lib/python3.10/site-packages/sklearn/linear_model/_glm/_newton_solver.py:195: ConvergenceWarning: lbfgs failed to converge (status=1):\n",
      "STOP: TOTAL NO. of ITERATIONS REACHED LIMIT.\n",
      "\n",
      "Increase the number of iterations (max_iter) or scale the data as shown in:\n",
      "    https://scikit-learn.org/stable/modules/preprocessing.html\n",
      "  self.n_iter_ = _check_optimize_result(\"lbfgs\", opt_res)\n"
     ]
    },
    {
     "name": "stdout",
     "output_type": "stream",
     "text": [
      "[CV 8/10; 80/100] START C=1000, class_weight={0: 1, 1: 1000}, solver=newton-cholesky\n",
      "[CV 2/10; 78/100] END C=1000, class_weight={0: 1, 1: 150}, solver=newton-cholesky;, score=-0.715 total time=   2.9s\n",
      "[CV 2/10; 77/100] END C=1000, class_weight={0: 1, 1: 150}, solver=liblinear;, score=-0.704 total time=   4.3s\n",
      "[CV 6/10; 75/100] END C=1000, class_weight={0: 1, 1: 100}, solver=liblinear;, score=-0.562 total time=   7.0s\n",
      "[CV 9/10; 80/100] START C=1000, class_weight={0: 1, 1: 1000}, solver=newton-cholesky\n",
      "[CV 1/10; 78/100] END C=1000, class_weight={0: 1, 1: 150}, solver=newton-cholesky;, score=-0.964 total time=   3.1s\n",
      "[CV 10/10; 80/100] START C=1000, class_weight={0: 1, 1: 1000}, solver=newton-cholesky\n"
     ]
    },
    {
     "name": "stderr",
     "output_type": "stream",
     "text": [
      "/opt/mamba/lib/python3.10/site-packages/sklearn/linear_model/_glm/_newton_solver.py:491: LinAlgWarning: The inner solver of NewtonCholeskySolver stumbled upon a singular or very ill-conditioned Hessian matrix at iteration #4. It will now resort to lbfgs instead.\n",
      "Further options are to use another solver or to avoid such situation in the first place. Possible remedies are removing collinear features of X or increasing the penalization strengths.\n",
      "The original Linear Algebra message was:\n",
      "Matrix is singular.\n",
      "  warnings.warn(\n",
      "/opt/mamba/lib/python3.10/site-packages/sklearn/linear_model/_glm/_newton_solver.py:491: LinAlgWarning: The inner solver of NewtonCholeskySolver stumbled upon a singular or very ill-conditioned Hessian matrix at iteration #4. It will now resort to lbfgs instead.\n",
      "Further options are to use another solver or to avoid such situation in the first place. Possible remedies are removing collinear features of X or increasing the penalization strengths.\n",
      "The original Linear Algebra message was:\n",
      "Matrix is singular.\n",
      "  warnings.warn(\n",
      "/opt/mamba/lib/python3.10/site-packages/sklearn/linear_model/_glm/_newton_solver.py:491: LinAlgWarning: The inner solver of NewtonCholeskySolver stumbled upon a singular or very ill-conditioned Hessian matrix at iteration #4. It will now resort to lbfgs instead.\n",
      "Further options are to use another solver or to avoid such situation in the first place. Possible remedies are removing collinear features of X or increasing the penalization strengths.\n",
      "The original Linear Algebra message was:\n",
      "Matrix is singular.\n",
      "  warnings.warn(\n"
     ]
    },
    {
     "name": "stdout",
     "output_type": "stream",
     "text": [
      "[CV 1/10; 81/100] START C=10000, class_weight={0: 1, 1: 1}, solver=liblinear....\n",
      "[CV 5/10; 77/100] END C=1000, class_weight={0: 1, 1: 150}, solver=liblinear;, score=-0.813 total time=   4.1s\n",
      "[CV 9/10; 71/100] END C=1000, class_weight={0: 1, 1: 20}, solver=liblinear;, score=0.280 total time=  11.4s\n",
      "[CV 5/10; 78/100] END C=1000, class_weight={0: 1, 1: 150}, solver=newton-cholesky;, score=-0.828 total time=   2.8s\n",
      "[CV 2/10; 81/100] START C=10000, class_weight={0: 1, 1: 1}, solver=liblinear....\n",
      "[CV 3/10; 81/100] START C=10000, class_weight={0: 1, 1: 1}, solver=liblinear....\n",
      "[CV 4/10; 80/100] END C=1000, class_weight={0: 1, 1: 1000}, solver=newton-cholesky;, score=-0.868 total time=   0.7s\n",
      "[CV 4/10; 81/100] START C=10000, class_weight={0: 1, 1: 1}, solver=liblinear....\n"
     ]
    },
    {
     "name": "stderr",
     "output_type": "stream",
     "text": [
      "/opt/mamba/lib/python3.10/site-packages/sklearn/linear_model/_glm/_newton_solver.py:491: LinAlgWarning: The inner solver of NewtonCholeskySolver stumbled upon a singular or very ill-conditioned Hessian matrix at iteration #4. It will now resort to lbfgs instead.\n",
      "Further options are to use another solver or to avoid such situation in the first place. Possible remedies are removing collinear features of X or increasing the penalization strengths.\n",
      "The original Linear Algebra message was:\n",
      "Matrix is singular.\n",
      "  warnings.warn(\n",
      "/opt/mamba/lib/python3.10/site-packages/sklearn/linear_model/_glm/_newton_solver.py:195: ConvergenceWarning: lbfgs failed to converge (status=1):\n",
      "STOP: TOTAL NO. of ITERATIONS REACHED LIMIT.\n",
      "\n",
      "Increase the number of iterations (max_iter) or scale the data as shown in:\n",
      "    https://scikit-learn.org/stable/modules/preprocessing.html\n",
      "  self.n_iter_ = _check_optimize_result(\"lbfgs\", opt_res)\n",
      "/opt/mamba/lib/python3.10/site-packages/sklearn/linear_model/_glm/_newton_solver.py:195: ConvergenceWarning: lbfgs failed to converge (status=1):\n",
      "STOP: TOTAL NO. of ITERATIONS REACHED LIMIT.\n",
      "\n",
      "Increase the number of iterations (max_iter) or scale the data as shown in:\n",
      "    https://scikit-learn.org/stable/modules/preprocessing.html\n",
      "  self.n_iter_ = _check_optimize_result(\"lbfgs\", opt_res)\n",
      "/opt/mamba/lib/python3.10/site-packages/sklearn/linear_model/_glm/_newton_solver.py:491: LinAlgWarning: The inner solver of NewtonCholeskySolver stumbled upon a singular or very ill-conditioned Hessian matrix at iteration #4. It will now resort to lbfgs instead.\n",
      "Further options are to use another solver or to avoid such situation in the first place. Possible remedies are removing collinear features of X or increasing the penalization strengths.\n",
      "The original Linear Algebra message was:\n",
      "Matrix is singular.\n",
      "  warnings.warn(\n"
     ]
    },
    {
     "name": "stdout",
     "output_type": "stream",
     "text": [
      "[CV 5/10; 81/100] START C=10000, class_weight={0: 1, 1: 1}, solver=liblinear....\n",
      "[CV 6/10; 81/100] START C=10000, class_weight={0: 1, 1: 1}, solver=liblinear....\n",
      "[CV 6/10; 78/100] END C=1000, class_weight={0: 1, 1: 150}, solver=newton-cholesky;, score=-0.704 total time=   2.7s\n",
      "[CV 2/10; 79/100] END C=1000, class_weight={0: 1, 1: 1000}, solver=liblinear;, score=-0.848 total time=   2.3s\n"
     ]
    },
    {
     "name": "stderr",
     "output_type": "stream",
     "text": [
      "/opt/mamba/lib/python3.10/site-packages/sklearn/linear_model/_glm/_newton_solver.py:195: ConvergenceWarning: lbfgs failed to converge (status=1):\n",
      "STOP: TOTAL NO. of ITERATIONS REACHED LIMIT.\n",
      "\n",
      "Increase the number of iterations (max_iter) or scale the data as shown in:\n",
      "    https://scikit-learn.org/stable/modules/preprocessing.html\n",
      "  self.n_iter_ = _check_optimize_result(\"lbfgs\", opt_res)\n"
     ]
    },
    {
     "name": "stdout",
     "output_type": "stream",
     "text": [
      "[CV 7/10; 81/100] START C=10000, class_weight={0: 1, 1: 1}, solver=liblinear....\n",
      "[CV 9/10; 78/100] END C=1000, class_weight={0: 1, 1: 150}, solver=newton-cholesky;, score=-0.864 total time=   2.5s\n",
      "[CV 8/10; 81/100] START C=10000, class_weight={0: 1, 1: 1}, solver=liblinear....\n",
      "[CV 9/10; 77/100] END C=1000, class_weight={0: 1, 1: 150}, solver=liblinear;, score=-0.813 total time=   3.8s\n",
      "[CV 7/10; 78/100] END C=1000, class_weight={0: 1, 1: 150}, solver=newton-cholesky;, score=-0.826 total time=   2.8s\n",
      "[CV 9/10; 81/100] START C=10000, class_weight={0: 1, 1: 1}, solver=liblinear....\n",
      "[CV 10/10; 81/100] START C=10000, class_weight={0: 1, 1: 1}, solver=liblinear...\n",
      "[CV 4/10; 77/100] END C=1000, class_weight={0: 1, 1: 150}, solver=liblinear;, score=-0.720 total time=   4.8s\n",
      "[CV 1/10; 82/100] START C=10000, class_weight={0: 1, 1: 1}, solver=newton-cholesky\n",
      "[CV 2/10; 82/100] START C=10000, class_weight={0: 1, 1: 1}, solver=newton-cholesky\n",
      "[CV 9/10; 75/100] END C=1000, class_weight={0: 1, 1: 100}, solver=liblinear;, score=-0.685 total time=   7.7s\n",
      "[CV 3/10; 82/100] START C=10000, class_weight={0: 1, 1: 1}, solver=newton-cholesky\n",
      "[CV 9/10; 79/100] END C=1000, class_weight={0: 1, 1: 1000}, solver=liblinear;, score=-0.970 total time=   2.4s\n",
      "[CV 1/10; 79/100] END C=1000, class_weight={0: 1, 1: 1000}, solver=liblinear;, score=-1.090 total time=   3.0s\n",
      "[CV 4/10; 75/100] END C=1000, class_weight={0: 1, 1: 100}, solver=liblinear;, score=-0.591 total time=   8.3s\n",
      "[CV 4/10; 82/100] START C=10000, class_weight={0: 1, 1: 1}, solver=newton-cholesky\n",
      "[CV 10/10; 77/100] END C=1000, class_weight={0: 1, 1: 150}, solver=liblinear;, score=-0.801 total time=   4.3s\n"
     ]
    },
    {
     "name": "stderr",
     "output_type": "stream",
     "text": [
      "/opt/mamba/lib/python3.10/site-packages/sklearn/linear_model/_glm/_newton_solver.py:195: ConvergenceWarning: lbfgs failed to converge (status=1):\n",
      "STOP: TOTAL NO. of ITERATIONS REACHED LIMIT.\n",
      "\n",
      "Increase the number of iterations (max_iter) or scale the data as shown in:\n",
      "    https://scikit-learn.org/stable/modules/preprocessing.html\n",
      "  self.n_iter_ = _check_optimize_result(\"lbfgs\", opt_res)\n",
      "/opt/mamba/lib/python3.10/site-packages/sklearn/linear_model/_glm/_newton_solver.py:491: LinAlgWarning: The inner solver of NewtonCholeskySolver stumbled upon a singular or very ill-conditioned Hessian matrix at iteration #5. It will now resort to lbfgs instead.\n",
      "Further options are to use another solver or to avoid such situation in the first place. Possible remedies are removing collinear features of X or increasing the penalization strengths.\n",
      "The original Linear Algebra message was:\n",
      "Matrix is singular.\n",
      "  warnings.warn(\n",
      "/opt/mamba/lib/python3.10/site-packages/sklearn/linear_model/_glm/_newton_solver.py:491: LinAlgWarning: The inner solver of NewtonCholeskySolver stumbled upon a singular or very ill-conditioned Hessian matrix at iteration #5. It will now resort to lbfgs instead.\n",
      "Further options are to use another solver or to avoid such situation in the first place. Possible remedies are removing collinear features of X or increasing the penalization strengths.\n",
      "The original Linear Algebra message was:\n",
      "Matrix is singular.\n",
      "  warnings.warn(\n"
     ]
    },
    {
     "name": "stdout",
     "output_type": "stream",
     "text": [
      "[CV 5/10; 82/100] START C=10000, class_weight={0: 1, 1: 1}, solver=newton-cholesky\n",
      "[CV 4/10; 73/100] END C=1000, class_weight={0: 1, 1: 50}, solver=liblinear;, score=-0.228 total time=  10.4s\n",
      "[CV 7/10; 77/100] END C=1000, class_weight={0: 1, 1: 150}, solver=liblinear;, score=-0.794 total time=   4.8s\n",
      "[CV 6/10; 82/100] START C=10000, class_weight={0: 1, 1: 1}, solver=newton-cholesky\n",
      "[CV 1/10; 80/100] END C=1000, class_weight={0: 1, 1: 1000}, solver=newton-cholesky;, score=-1.090 total time=   2.5s\n",
      "[CV 7/10; 82/100] START C=10000, class_weight={0: 1, 1: 1}, solver=newton-cholesky\n",
      "[CV 8/10; 82/100] START C=10000, class_weight={0: 1, 1: 1}, solver=newton-cholesky\n",
      "[CV 3/10; 73/100] END C=1000, class_weight={0: 1, 1: 50}, solver=liblinear;, score=-0.225 total time=  10.7s\n"
     ]
    },
    {
     "name": "stderr",
     "output_type": "stream",
     "text": [
      "/opt/mamba/lib/python3.10/site-packages/sklearn/linear_model/_glm/_newton_solver.py:195: ConvergenceWarning: lbfgs failed to converge (status=1):\n",
      "STOP: TOTAL NO. of ITERATIONS REACHED LIMIT.\n",
      "\n",
      "Increase the number of iterations (max_iter) or scale the data as shown in:\n",
      "    https://scikit-learn.org/stable/modules/preprocessing.html\n",
      "  self.n_iter_ = _check_optimize_result(\"lbfgs\", opt_res)\n",
      "/opt/mamba/lib/python3.10/site-packages/sklearn/linear_model/_glm/_newton_solver.py:195: ConvergenceWarning: lbfgs failed to converge (status=1):\n",
      "STOP: TOTAL NO. of ITERATIONS REACHED LIMIT.\n",
      "\n",
      "Increase the number of iterations (max_iter) or scale the data as shown in:\n",
      "    https://scikit-learn.org/stable/modules/preprocessing.html\n",
      "  self.n_iter_ = _check_optimize_result(\"lbfgs\", opt_res)\n"
     ]
    },
    {
     "name": "stdout",
     "output_type": "stream",
     "text": [
      "[CV 9/10; 82/100] START C=10000, class_weight={0: 1, 1: 1}, solver=newton-cholesky\n",
      "[CV 8/10; 78/100] END C=1000, class_weight={0: 1, 1: 150}, solver=newton-cholesky;, score=-0.894 total time=   3.6s\n",
      "[CV 10/10; 82/100] START C=10000, class_weight={0: 1, 1: 1}, solver=newton-cholesky\n",
      "[CV 10/10; 78/100] END C=1000, class_weight={0: 1, 1: 150}, solver=newton-cholesky;, score=-0.827 total time=   3.5s\n",
      "[CV 1/10; 83/100] START C=10000, class_weight={0: 1, 1: 10}, solver=liblinear...\n",
      "[CV 8/10; 79/100] END C=1000, class_weight={0: 1, 1: 1000}, solver=liblinear;, score=-1.040 total time=   3.0s\n",
      "[CV 2/10; 83/100] START C=10000, class_weight={0: 1, 1: 10}, solver=liblinear...\n"
     ]
    },
    {
     "name": "stderr",
     "output_type": "stream",
     "text": [
      "/opt/mamba/lib/python3.10/site-packages/sklearn/linear_model/_glm/_newton_solver.py:491: LinAlgWarning: The inner solver of NewtonCholeskySolver stumbled upon a singular or very ill-conditioned Hessian matrix at iteration #5. It will now resort to lbfgs instead.\n",
      "Further options are to use another solver or to avoid such situation in the first place. Possible remedies are removing collinear features of X or increasing the penalization strengths.\n",
      "The original Linear Algebra message was:\n",
      "Matrix is singular.\n",
      "  warnings.warn(\n",
      "/opt/mamba/lib/python3.10/site-packages/sklearn/linear_model/_glm/_newton_solver.py:491: LinAlgWarning: The inner solver of NewtonCholeskySolver stumbled upon a singular or very ill-conditioned Hessian matrix at iteration #5. It will now resort to lbfgs instead.\n",
      "Further options are to use another solver or to avoid such situation in the first place. Possible remedies are removing collinear features of X or increasing the penalization strengths.\n",
      "The original Linear Algebra message was:\n",
      "Matrix is singular.\n",
      "  warnings.warn(\n",
      "/opt/mamba/lib/python3.10/site-packages/sklearn/linear_model/_glm/_newton_solver.py:491: LinAlgWarning: The inner solver of NewtonCholeskySolver stumbled upon a singular or very ill-conditioned Hessian matrix at iteration #5. It will now resort to lbfgs instead.\n",
      "Further options are to use another solver or to avoid such situation in the first place. Possible remedies are removing collinear features of X or increasing the penalization strengths.\n",
      "The original Linear Algebra message was:\n",
      "Matrix is singular.\n",
      "  warnings.warn(\n",
      "/opt/mamba/lib/python3.10/site-packages/sklearn/linear_model/_glm/_newton_solver.py:195: ConvergenceWarning: lbfgs failed to converge (status=1):\n",
      "STOP: TOTAL NO. of ITERATIONS REACHED LIMIT.\n",
      "\n",
      "Increase the number of iterations (max_iter) or scale the data as shown in:\n",
      "    https://scikit-learn.org/stable/modules/preprocessing.html\n",
      "  self.n_iter_ = _check_optimize_result(\"lbfgs\", opt_res)\n",
      "/opt/mamba/lib/python3.10/site-packages/sklearn/linear_model/_glm/_newton_solver.py:491: LinAlgWarning: The inner solver of NewtonCholeskySolver stumbled upon a singular or very ill-conditioned Hessian matrix at iteration #5. It will now resort to lbfgs instead.\n",
      "Further options are to use another solver or to avoid such situation in the first place. Possible remedies are removing collinear features of X or increasing the penalization strengths.\n",
      "The original Linear Algebra message was:\n",
      "Matrix is singular.\n",
      "  warnings.warn(\n",
      "/opt/mamba/lib/python3.10/site-packages/sklearn/linear_model/_glm/_newton_solver.py:491: LinAlgWarning: The inner solver of NewtonCholeskySolver stumbled upon a singular or very ill-conditioned Hessian matrix at iteration #5. It will now resort to lbfgs instead.\n",
      "Further options are to use another solver or to avoid such situation in the first place. Possible remedies are removing collinear features of X or increasing the penalization strengths.\n",
      "The original Linear Algebra message was:\n",
      "Matrix is singular.\n",
      "  warnings.warn(\n"
     ]
    },
    {
     "name": "stdout",
     "output_type": "stream",
     "text": [
      "[CV 4/10; 79/100] END C=1000, class_weight={0: 1, 1: 1000}, solver=liblinear;, score=-0.868 total time=   3.4s\n",
      "[CV 3/10; 83/100] START C=10000, class_weight={0: 1, 1: 10}, solver=liblinear...\n",
      "[CV 4/10; 83/100] START C=10000, class_weight={0: 1, 1: 10}, solver=liblinear...\n",
      "[CV 5/10; 83/100] START C=10000, class_weight={0: 1, 1: 10}, solver=liblinear...\n",
      "[CV 3/10; 80/100] END C=1000, class_weight={0: 1, 1: 1000}, solver=newton-cholesky;, score=-0.839 total time=   2.4s\n"
     ]
    },
    {
     "name": "stderr",
     "output_type": "stream",
     "text": [
      "/opt/mamba/lib/python3.10/site-packages/sklearn/linear_model/_glm/_newton_solver.py:491: LinAlgWarning: The inner solver of NewtonCholeskySolver stumbled upon a singular or very ill-conditioned Hessian matrix at iteration #5. It will now resort to lbfgs instead.\n",
      "Further options are to use another solver or to avoid such situation in the first place. Possible remedies are removing collinear features of X or increasing the penalization strengths.\n",
      "The original Linear Algebra message was:\n",
      "Matrix is singular.\n",
      "  warnings.warn(\n",
      "/opt/mamba/lib/python3.10/site-packages/sklearn/linear_model/_glm/_newton_solver.py:491: LinAlgWarning: The inner solver of NewtonCholeskySolver stumbled upon a singular or very ill-conditioned Hessian matrix at iteration #5. It will now resort to lbfgs instead.\n",
      "Further options are to use another solver or to avoid such situation in the first place. Possible remedies are removing collinear features of X or increasing the penalization strengths.\n",
      "The original Linear Algebra message was:\n",
      "Matrix is singular.\n",
      "  warnings.warn(\n",
      "/opt/mamba/lib/python3.10/site-packages/sklearn/linear_model/_glm/_newton_solver.py:195: ConvergenceWarning: lbfgs failed to converge (status=1):\n",
      "STOP: TOTAL NO. of ITERATIONS REACHED LIMIT.\n",
      "\n",
      "Increase the number of iterations (max_iter) or scale the data as shown in:\n",
      "    https://scikit-learn.org/stable/modules/preprocessing.html\n",
      "  self.n_iter_ = _check_optimize_result(\"lbfgs\", opt_res)\n"
     ]
    },
    {
     "name": "stdout",
     "output_type": "stream",
     "text": [
      "[CV 4/10; 82/100] END C=10000, class_weight={0: 1, 1: 1}, solver=newton-cholesky;, score=0.215 total time=   0.7s\n",
      "[CV 6/10; 83/100] START C=10000, class_weight={0: 1, 1: 10}, solver=liblinear...\n",
      "[CV 7/10; 83/100] START C=10000, class_weight={0: 1, 1: 10}, solver=liblinear...\n",
      "[CV 3/10; 79/100] END C=1000, class_weight={0: 1, 1: 1000}, solver=liblinear;, score=-0.836 total time=   3.8s\n",
      "[CV 10/10; 75/100] END C=1000, class_weight={0: 1, 1: 100}, solver=liblinear;, score=-0.677 total time=   8.4s\n",
      "[CV 8/10; 83/100] START C=10000, class_weight={0: 1, 1: 10}, solver=liblinear...\n",
      "[CV 7/10; 80/100] END C=1000, class_weight={0: 1, 1: 1000}, solver=newton-cholesky;, score=-0.941 total time=   2.4s\n",
      "[CV 10/10; 79/100] END C=1000, class_weight={0: 1, 1: 1000}, solver=liblinear;, score=-0.951 total time=   3.4s\n",
      "[CV 9/10; 83/100] START C=10000, class_weight={0: 1, 1: 10}, solver=liblinear...\n",
      "[CV 10/10; 83/100] START C=10000, class_weight={0: 1, 1: 10}, solver=liblinear..\n",
      "[CV 1/10; 84/100] START C=10000, class_weight={0: 1, 1: 10}, solver=newton-cholesky\n"
     ]
    },
    {
     "name": "stderr",
     "output_type": "stream",
     "text": [
      "/opt/mamba/lib/python3.10/site-packages/sklearn/linear_model/_glm/_newton_solver.py:195: ConvergenceWarning: lbfgs failed to converge (status=1):\n",
      "STOP: TOTAL NO. of ITERATIONS REACHED LIMIT.\n",
      "\n",
      "Increase the number of iterations (max_iter) or scale the data as shown in:\n",
      "    https://scikit-learn.org/stable/modules/preprocessing.html\n",
      "  self.n_iter_ = _check_optimize_result(\"lbfgs\", opt_res)\n",
      "/opt/mamba/lib/python3.10/site-packages/sklearn/linear_model/_glm/_newton_solver.py:195: ConvergenceWarning: lbfgs failed to converge (status=1):\n",
      "STOP: TOTAL NO. of ITERATIONS REACHED LIMIT.\n",
      "\n",
      "Increase the number of iterations (max_iter) or scale the data as shown in:\n",
      "    https://scikit-learn.org/stable/modules/preprocessing.html\n",
      "  self.n_iter_ = _check_optimize_result(\"lbfgs\", opt_res)\n",
      "/opt/mamba/lib/python3.10/site-packages/sklearn/linear_model/_glm/_newton_solver.py:491: LinAlgWarning: The inner solver of NewtonCholeskySolver stumbled upon a singular or very ill-conditioned Hessian matrix at iteration #3. It will now resort to lbfgs instead.\n",
      "Further options are to use another solver or to avoid such situation in the first place. Possible remedies are removing collinear features of X or increasing the penalization strengths.\n",
      "The original Linear Algebra message was:\n",
      "Matrix is singular.\n",
      "  warnings.warn(\n",
      "/opt/mamba/lib/python3.10/site-packages/sklearn/linear_model/_glm/_newton_solver.py:195: ConvergenceWarning: lbfgs failed to converge (status=1):\n",
      "STOP: TOTAL NO. of ITERATIONS REACHED LIMIT.\n",
      "\n",
      "Increase the number of iterations (max_iter) or scale the data as shown in:\n",
      "    https://scikit-learn.org/stable/modules/preprocessing.html\n",
      "  self.n_iter_ = _check_optimize_result(\"lbfgs\", opt_res)\n",
      "/opt/mamba/lib/python3.10/site-packages/sklearn/linear_model/_glm/_newton_solver.py:195: ConvergenceWarning: lbfgs failed to converge (status=1):\n",
      "STOP: TOTAL NO. of ITERATIONS REACHED LIMIT.\n",
      "\n",
      "Increase the number of iterations (max_iter) or scale the data as shown in:\n",
      "    https://scikit-learn.org/stable/modules/preprocessing.html\n",
      "  self.n_iter_ = _check_optimize_result(\"lbfgs\", opt_res)\n"
     ]
    },
    {
     "name": "stdout",
     "output_type": "stream",
     "text": [
      "[CV 7/10; 79/100] END C=1000, class_weight={0: 1, 1: 1000}, solver=liblinear;, score=-0.938 total time=   3.9s\n",
      "[CV 2/10; 84/100] START C=10000, class_weight={0: 1, 1: 10}, solver=newton-cholesky\n",
      "[CV 2/10; 80/100] END C=1000, class_weight={0: 1, 1: 1000}, solver=newton-cholesky;, score=-0.849 total time=   3.1s\n",
      "[CV 9/10; 80/100] END C=1000, class_weight={0: 1, 1: 1000}, solver=newton-cholesky;, score=-0.970 total time=   2.6s\n",
      "[CV 3/10; 84/100] START C=10000, class_weight={0: 1, 1: 10}, solver=newton-cholesky\n",
      "[CV 8/10; 80/100] END C=1000, class_weight={0: 1, 1: 1000}, solver=newton-cholesky;, score=-1.043 total time=   2.8s\n"
     ]
    },
    {
     "name": "stderr",
     "output_type": "stream",
     "text": [
      "/opt/mamba/lib/python3.10/site-packages/sklearn/linear_model/_glm/_newton_solver.py:195: ConvergenceWarning: lbfgs failed to converge (status=1):\n",
      "STOP: TOTAL NO. of ITERATIONS REACHED LIMIT.\n",
      "\n",
      "Increase the number of iterations (max_iter) or scale the data as shown in:\n",
      "    https://scikit-learn.org/stable/modules/preprocessing.html\n",
      "  self.n_iter_ = _check_optimize_result(\"lbfgs\", opt_res)\n",
      "/opt/mamba/lib/python3.10/site-packages/sklearn/linear_model/_glm/_newton_solver.py:195: ConvergenceWarning: lbfgs failed to converge (status=1):\n",
      "STOP: TOTAL NO. of ITERATIONS REACHED LIMIT.\n",
      "\n",
      "Increase the number of iterations (max_iter) or scale the data as shown in:\n",
      "    https://scikit-learn.org/stable/modules/preprocessing.html\n",
      "  self.n_iter_ = _check_optimize_result(\"lbfgs\", opt_res)\n"
     ]
    },
    {
     "name": "stdout",
     "output_type": "stream",
     "text": [
      "[CV 5/10; 80/100] END C=1000, class_weight={0: 1, 1: 1000}, solver=newton-cholesky;, score=-0.972 total time=   3.1s\n",
      "[CV 4/10; 84/100] START C=10000, class_weight={0: 1, 1: 10}, solver=newton-cholesky\n",
      "[CV 8/10; 75/100] END C=1000, class_weight={0: 1, 1: 100}, solver=liblinear;, score=-0.735 total time=   9.7s\n",
      "[CV 5/10; 84/100] START C=10000, class_weight={0: 1, 1: 10}, solver=newton-cholesky\n",
      "[CV 6/10; 84/100] START C=10000, class_weight={0: 1, 1: 10}, solver=newton-cholesky\n",
      "[CV 6/10; 80/100] END C=1000, class_weight={0: 1, 1: 1000}, solver=newton-cholesky;, score=-0.832 total time=   3.2s\n",
      "[CV 7/10; 84/100] START C=10000, class_weight={0: 1, 1: 10}, solver=newton-cholesky\n",
      "[CV 10/10; 80/100] END C=1000, class_weight={0: 1, 1: 1000}, solver=newton-cholesky;, score=-0.952 total time=   2.8s\n"
     ]
    },
    {
     "name": "stderr",
     "output_type": "stream",
     "text": [
      "/opt/mamba/lib/python3.10/site-packages/sklearn/linear_model/_glm/_newton_solver.py:491: LinAlgWarning: The inner solver of NewtonCholeskySolver stumbled upon a singular or very ill-conditioned Hessian matrix at iteration #3. It will now resort to lbfgs instead.\n",
      "Further options are to use another solver or to avoid such situation in the first place. Possible remedies are removing collinear features of X or increasing the penalization strengths.\n",
      "The original Linear Algebra message was:\n",
      "Matrix is singular.\n",
      "  warnings.warn(\n",
      "/opt/mamba/lib/python3.10/site-packages/sklearn/linear_model/_glm/_newton_solver.py:491: LinAlgWarning: The inner solver of NewtonCholeskySolver stumbled upon a singular or very ill-conditioned Hessian matrix at iteration #3. It will now resort to lbfgs instead.\n",
      "Further options are to use another solver or to avoid such situation in the first place. Possible remedies are removing collinear features of X or increasing the penalization strengths.\n",
      "The original Linear Algebra message was:\n",
      "Matrix is singular.\n",
      "  warnings.warn(\n",
      "/opt/mamba/lib/python3.10/site-packages/sklearn/linear_model/_glm/_newton_solver.py:491: LinAlgWarning: The inner solver of NewtonCholeskySolver stumbled upon a singular or very ill-conditioned Hessian matrix at iteration #3. It will now resort to lbfgs instead.\n",
      "Further options are to use another solver or to avoid such situation in the first place. Possible remedies are removing collinear features of X or increasing the penalization strengths.\n",
      "The original Linear Algebra message was:\n",
      "Matrix is singular.\n",
      "  warnings.warn(\n",
      "/opt/mamba/lib/python3.10/site-packages/sklearn/linear_model/_glm/_newton_solver.py:491: LinAlgWarning: The inner solver of NewtonCholeskySolver stumbled upon a singular or very ill-conditioned Hessian matrix at iteration #3. It will now resort to lbfgs instead.\n",
      "Further options are to use another solver or to avoid such situation in the first place. Possible remedies are removing collinear features of X or increasing the penalization strengths.\n",
      "The original Linear Algebra message was:\n",
      "Matrix is singular.\n",
      "  warnings.warn(\n"
     ]
    },
    {
     "name": "stdout",
     "output_type": "stream",
     "text": [
      "[CV 8/10; 84/100] START C=10000, class_weight={0: 1, 1: 10}, solver=newton-cholesky\n",
      "[CV 9/10; 84/100] START C=10000, class_weight={0: 1, 1: 10}, solver=newton-cholesky\n",
      "[CV 5/10; 79/100] END C=1000, class_weight={0: 1, 1: 1000}, solver=liblinear;, score=-0.971 total time=   4.6s\n",
      "[CV 10/10; 84/100] START C=10000, class_weight={0: 1, 1: 10}, solver=newton-cholesky\n"
     ]
    },
    {
     "name": "stderr",
     "output_type": "stream",
     "text": [
      "/opt/mamba/lib/python3.10/site-packages/sklearn/linear_model/_glm/_newton_solver.py:491: LinAlgWarning: The inner solver of NewtonCholeskySolver stumbled upon a singular or very ill-conditioned Hessian matrix at iteration #3. It will now resort to lbfgs instead.\n",
      "Further options are to use another solver or to avoid such situation in the first place. Possible remedies are removing collinear features of X or increasing the penalization strengths.\n",
      "The original Linear Algebra message was:\n",
      "Matrix is singular.\n",
      "  warnings.warn(\n",
      "/opt/mamba/lib/python3.10/site-packages/sklearn/linear_model/_glm/_newton_solver.py:491: LinAlgWarning: The inner solver of NewtonCholeskySolver stumbled upon a singular or very ill-conditioned Hessian matrix at iteration #3. It will now resort to lbfgs instead.\n",
      "Further options are to use another solver or to avoid such situation in the first place. Possible remedies are removing collinear features of X or increasing the penalization strengths.\n",
      "The original Linear Algebra message was:\n",
      "Matrix is singular.\n",
      "  warnings.warn(\n",
      "/opt/mamba/lib/python3.10/site-packages/sklearn/linear_model/_glm/_newton_solver.py:491: LinAlgWarning: The inner solver of NewtonCholeskySolver stumbled upon a singular or very ill-conditioned Hessian matrix at iteration #3. It will now resort to lbfgs instead.\n",
      "Further options are to use another solver or to avoid such situation in the first place. Possible remedies are removing collinear features of X or increasing the penalization strengths.\n",
      "The original Linear Algebra message was:\n",
      "Matrix is singular.\n",
      "  warnings.warn(\n"
     ]
    },
    {
     "name": "stdout",
     "output_type": "stream",
     "text": [
      "[CV 4/10; 84/100] END C=10000, class_weight={0: 1, 1: 10}, solver=newton-cholesky;, score=0.565 total time=   0.5s\n",
      "[CV 1/10; 85/100] START C=10000, class_weight={0: 1, 1: 14}, solver=liblinear...\n",
      "[CV 6/10; 79/100] END C=1000, class_weight={0: 1, 1: 1000}, solver=liblinear;, score=-0.830 total time=   4.8s\n",
      "[CV 2/10; 85/100] START C=10000, class_weight={0: 1, 1: 14}, solver=liblinear...\n",
      "[CV 1/10; 81/100] END C=10000, class_weight={0: 1, 1: 1}, solver=liblinear;, score=0.292 total time=   3.5s\n",
      "[CV 8/10; 82/100] END C=10000, class_weight={0: 1, 1: 1}, solver=newton-cholesky;, score=0.205 total time=   2.1s\n",
      "[CV 3/10; 85/100] START C=10000, class_weight={0: 1, 1: 14}, solver=liblinear...\n"
     ]
    },
    {
     "name": "stderr",
     "output_type": "stream",
     "text": [
      "/opt/mamba/lib/python3.10/site-packages/sklearn/linear_model/_glm/_newton_solver.py:491: LinAlgWarning: The inner solver of NewtonCholeskySolver stumbled upon a singular or very ill-conditioned Hessian matrix at iteration #3. It will now resort to lbfgs instead.\n",
      "Further options are to use another solver or to avoid such situation in the first place. Possible remedies are removing collinear features of X or increasing the penalization strengths.\n",
      "The original Linear Algebra message was:\n",
      "Matrix is singular.\n",
      "  warnings.warn(\n",
      "/opt/mamba/lib/python3.10/site-packages/sklearn/linear_model/_glm/_newton_solver.py:195: ConvergenceWarning: lbfgs failed to converge (status=1):\n",
      "STOP: TOTAL NO. of ITERATIONS REACHED LIMIT.\n",
      "\n",
      "Increase the number of iterations (max_iter) or scale the data as shown in:\n",
      "    https://scikit-learn.org/stable/modules/preprocessing.html\n",
      "  self.n_iter_ = _check_optimize_result(\"lbfgs\", opt_res)\n",
      "/opt/mamba/lib/python3.10/site-packages/sklearn/linear_model/_glm/_newton_solver.py:195: ConvergenceWarning: lbfgs failed to converge (status=1):\n",
      "STOP: TOTAL NO. of ITERATIONS REACHED LIMIT.\n",
      "\n",
      "Increase the number of iterations (max_iter) or scale the data as shown in:\n",
      "    https://scikit-learn.org/stable/modules/preprocessing.html\n",
      "  self.n_iter_ = _check_optimize_result(\"lbfgs\", opt_res)\n"
     ]
    },
    {
     "name": "stdout",
     "output_type": "stream",
     "text": [
      "[CV 4/10; 85/100] START C=10000, class_weight={0: 1, 1: 14}, solver=liblinear...\n",
      "[CV 5/10; 82/100] END C=10000, class_weight={0: 1, 1: 1}, solver=newton-cholesky;, score=0.314 total time=   2.4s\n",
      "[CV 5/10; 85/100] START C=10000, class_weight={0: 1, 1: 14}, solver=liblinear...\n",
      "[CV 6/10; 82/100] END C=10000, class_weight={0: 1, 1: 1}, solver=newton-cholesky;, score=0.249 total time=   2.5s\n",
      "[CV 1/10; 82/100] END C=10000, class_weight={0: 1, 1: 1}, solver=newton-cholesky;, score=0.293 total time=   3.0s\n",
      "[CV 6/10; 85/100] START C=10000, class_weight={0: 1, 1: 14}, solver=liblinear...\n"
     ]
    },
    {
     "name": "stderr",
     "output_type": "stream",
     "text": [
      "/opt/mamba/lib/python3.10/site-packages/sklearn/linear_model/_glm/_newton_solver.py:195: ConvergenceWarning: lbfgs failed to converge (status=1):\n",
      "STOP: TOTAL NO. of ITERATIONS REACHED LIMIT.\n",
      "\n",
      "Increase the number of iterations (max_iter) or scale the data as shown in:\n",
      "    https://scikit-learn.org/stable/modules/preprocessing.html\n",
      "  self.n_iter_ = _check_optimize_result(\"lbfgs\", opt_res)\n",
      "/opt/mamba/lib/python3.10/site-packages/sklearn/linear_model/_glm/_newton_solver.py:195: ConvergenceWarning: lbfgs failed to converge (status=1):\n",
      "STOP: TOTAL NO. of ITERATIONS REACHED LIMIT.\n",
      "\n",
      "Increase the number of iterations (max_iter) or scale the data as shown in:\n",
      "    https://scikit-learn.org/stable/modules/preprocessing.html\n",
      "  self.n_iter_ = _check_optimize_result(\"lbfgs\", opt_res)\n",
      "/opt/mamba/lib/python3.10/site-packages/sklearn/linear_model/_glm/_newton_solver.py:195: ConvergenceWarning: lbfgs failed to converge (status=1):\n",
      "STOP: TOTAL NO. of ITERATIONS REACHED LIMIT.\n",
      "\n",
      "Increase the number of iterations (max_iter) or scale the data as shown in:\n",
      "    https://scikit-learn.org/stable/modules/preprocessing.html\n",
      "  self.n_iter_ = _check_optimize_result(\"lbfgs\", opt_res)\n"
     ]
    },
    {
     "name": "stdout",
     "output_type": "stream",
     "text": [
      "[CV 3/10; 81/100] END C=10000, class_weight={0: 1, 1: 1}, solver=liblinear;, score=0.248 total time=   3.7s\n",
      "[CV 7/10; 85/100] START C=10000, class_weight={0: 1, 1: 14}, solver=liblinear...\n",
      "[CV 7/10; 82/100] END C=10000, class_weight={0: 1, 1: 1}, solver=newton-cholesky;, score=0.244 total time=   2.6s\n",
      "[CV 8/10; 85/100] START C=10000, class_weight={0: 1, 1: 14}, solver=liblinear...\n",
      "[CV 9/10; 85/100] START C=10000, class_weight={0: 1, 1: 14}, solver=liblinear...\n",
      "[CV 10/10; 82/100] END C=10000, class_weight={0: 1, 1: 1}, solver=newton-cholesky;, score=0.301 total time=   2.5s\n"
     ]
    },
    {
     "name": "stderr",
     "output_type": "stream",
     "text": [
      "/opt/mamba/lib/python3.10/site-packages/sklearn/linear_model/_glm/_newton_solver.py:195: ConvergenceWarning: lbfgs failed to converge (status=1):\n",
      "STOP: TOTAL NO. of ITERATIONS REACHED LIMIT.\n",
      "\n",
      "Increase the number of iterations (max_iter) or scale the data as shown in:\n",
      "    https://scikit-learn.org/stable/modules/preprocessing.html\n",
      "  self.n_iter_ = _check_optimize_result(\"lbfgs\", opt_res)\n"
     ]
    },
    {
     "name": "stdout",
     "output_type": "stream",
     "text": [
      "[CV 10/10; 85/100] START C=10000, class_weight={0: 1, 1: 14}, solver=liblinear..\n"
     ]
    },
    {
     "name": "stderr",
     "output_type": "stream",
     "text": [
      "/opt/mamba/lib/python3.10/site-packages/sklearn/linear_model/_glm/_newton_solver.py:195: ConvergenceWarning: lbfgs failed to converge (status=1):\n",
      "STOP: TOTAL NO. of ITERATIONS REACHED LIMIT.\n",
      "\n",
      "Increase the number of iterations (max_iter) or scale the data as shown in:\n",
      "    https://scikit-learn.org/stable/modules/preprocessing.html\n",
      "  self.n_iter_ = _check_optimize_result(\"lbfgs\", opt_res)\n",
      "/opt/mamba/lib/python3.10/site-packages/sklearn/linear_model/_glm/_newton_solver.py:195: ConvergenceWarning: lbfgs failed to converge (status=1):\n",
      "STOP: TOTAL NO. of ITERATIONS REACHED LIMIT.\n",
      "\n",
      "Increase the number of iterations (max_iter) or scale the data as shown in:\n",
      "    https://scikit-learn.org/stable/modules/preprocessing.html\n",
      "  self.n_iter_ = _check_optimize_result(\"lbfgs\", opt_res)\n",
      "/opt/mamba/lib/python3.10/site-packages/sklearn/linear_model/_glm/_newton_solver.py:195: ConvergenceWarning: lbfgs failed to converge (status=1):\n",
      "STOP: TOTAL NO. of ITERATIONS REACHED LIMIT.\n",
      "\n",
      "Increase the number of iterations (max_iter) or scale the data as shown in:\n",
      "    https://scikit-learn.org/stable/modules/preprocessing.html\n",
      "  self.n_iter_ = _check_optimize_result(\"lbfgs\", opt_res)\n"
     ]
    },
    {
     "name": "stdout",
     "output_type": "stream",
     "text": [
      "[CV 2/10; 82/100] END C=10000, class_weight={0: 1, 1: 1}, solver=newton-cholesky;, score=0.286 total time=   3.7s\n",
      "[CV 1/10; 86/100] START C=10000, class_weight={0: 1, 1: 14}, solver=newton-cholesky\n",
      "[CV 1/10; 84/100] END C=10000, class_weight={0: 1, 1: 10}, solver=newton-cholesky;, score=0.490 total time=   2.3s\n",
      "[CV 2/10; 86/100] START C=10000, class_weight={0: 1, 1: 14}, solver=newton-cholesky\n",
      "[CV 9/10; 82/100] END C=10000, class_weight={0: 1, 1: 1}, solver=newton-cholesky;, score=0.207 total time=   3.2s\n",
      "[CV 9/10; 81/100] END C=10000, class_weight={0: 1, 1: 1}, solver=liblinear;, score=0.212 total time=   4.1s\n",
      "[CV 3/10; 86/100] START C=10000, class_weight={0: 1, 1: 14}, solver=newton-cholesky\n",
      "[CV 4/10; 86/100] START C=10000, class_weight={0: 1, 1: 14}, solver=newton-cholesky\n",
      "[CV 3/10; 82/100] END C=10000, class_weight={0: 1, 1: 1}, solver=newton-cholesky;, score=0.245 total time=   3.8s\n"
     ]
    },
    {
     "name": "stderr",
     "output_type": "stream",
     "text": [
      "/opt/mamba/lib/python3.10/site-packages/sklearn/linear_model/_glm/_newton_solver.py:195: ConvergenceWarning: lbfgs failed to converge (status=1):\n",
      "STOP: TOTAL NO. of ITERATIONS REACHED LIMIT.\n",
      "\n",
      "Increase the number of iterations (max_iter) or scale the data as shown in:\n",
      "    https://scikit-learn.org/stable/modules/preprocessing.html\n",
      "  self.n_iter_ = _check_optimize_result(\"lbfgs\", opt_res)\n",
      "/opt/mamba/lib/python3.10/site-packages/sklearn/linear_model/_glm/_newton_solver.py:195: ConvergenceWarning: lbfgs failed to converge (status=1):\n",
      "STOP: TOTAL NO. of ITERATIONS REACHED LIMIT.\n",
      "\n",
      "Increase the number of iterations (max_iter) or scale the data as shown in:\n",
      "    https://scikit-learn.org/stable/modules/preprocessing.html\n",
      "  self.n_iter_ = _check_optimize_result(\"lbfgs\", opt_res)\n",
      "/opt/mamba/lib/python3.10/site-packages/sklearn/linear_model/_glm/_newton_solver.py:491: LinAlgWarning: The inner solver of NewtonCholeskySolver stumbled upon a singular or very ill-conditioned Hessian matrix at iteration #3. It will now resort to lbfgs instead.\n",
      "Further options are to use another solver or to avoid such situation in the first place. Possible remedies are removing collinear features of X or increasing the penalization strengths.\n",
      "The original Linear Algebra message was:\n",
      "Matrix is singular.\n",
      "  warnings.warn(\n",
      "/opt/mamba/lib/python3.10/site-packages/sklearn/linear_model/_glm/_newton_solver.py:195: ConvergenceWarning: lbfgs failed to converge (status=1):\n",
      "STOP: TOTAL NO. of ITERATIONS REACHED LIMIT.\n",
      "\n",
      "Increase the number of iterations (max_iter) or scale the data as shown in:\n",
      "    https://scikit-learn.org/stable/modules/preprocessing.html\n",
      "  self.n_iter_ = _check_optimize_result(\"lbfgs\", opt_res)\n",
      "/opt/mamba/lib/python3.10/site-packages/sklearn/linear_model/_glm/_newton_solver.py:491: LinAlgWarning: The inner solver of NewtonCholeskySolver stumbled upon a singular or very ill-conditioned Hessian matrix at iteration #3. It will now resort to lbfgs instead.\n",
      "Further options are to use another solver or to avoid such situation in the first place. Possible remedies are removing collinear features of X or increasing the penalization strengths.\n",
      "The original Linear Algebra message was:\n",
      "Matrix is singular.\n",
      "  warnings.warn(\n"
     ]
    },
    {
     "name": "stdout",
     "output_type": "stream",
     "text": [
      "[CV 5/10; 86/100] START C=10000, class_weight={0: 1, 1: 14}, solver=newton-cholesky\n",
      "[CV 7/10; 84/100] END C=10000, class_weight={0: 1, 1: 10}, solver=newton-cholesky;, score=0.543 total time=   2.2s\n",
      "[CV 6/10; 84/100] END C=10000, class_weight={0: 1, 1: 10}, solver=newton-cholesky;, score=0.545 total time=   2.3s\n",
      "[CV 6/10; 86/100] START C=10000, class_weight={0: 1, 1: 14}, solver=newton-cholesky\n",
      "[CV 7/10; 86/100] START C=10000, class_weight={0: 1, 1: 14}, solver=newton-cholesky\n"
     ]
    },
    {
     "name": "stderr",
     "output_type": "stream",
     "text": [
      "/opt/mamba/lib/python3.10/site-packages/sklearn/linear_model/_glm/_newton_solver.py:491: LinAlgWarning: The inner solver of NewtonCholeskySolver stumbled upon a singular or very ill-conditioned Hessian matrix at iteration #3. It will now resort to lbfgs instead.\n",
      "Further options are to use another solver or to avoid such situation in the first place. Possible remedies are removing collinear features of X or increasing the penalization strengths.\n",
      "The original Linear Algebra message was:\n",
      "Matrix is singular.\n",
      "  warnings.warn(\n",
      "/opt/mamba/lib/python3.10/site-packages/sklearn/linear_model/_glm/_newton_solver.py:491: LinAlgWarning: The inner solver of NewtonCholeskySolver stumbled upon a singular or very ill-conditioned Hessian matrix at iteration #3. It will now resort to lbfgs instead.\n",
      "Further options are to use another solver or to avoid such situation in the first place. Possible remedies are removing collinear features of X or increasing the penalization strengths.\n",
      "The original Linear Algebra message was:\n",
      "Matrix is singular.\n",
      "  warnings.warn(\n",
      "/opt/mamba/lib/python3.10/site-packages/sklearn/linear_model/_glm/_newton_solver.py:195: ConvergenceWarning: lbfgs failed to converge (status=1):\n",
      "STOP: TOTAL NO. of ITERATIONS REACHED LIMIT.\n",
      "\n",
      "Increase the number of iterations (max_iter) or scale the data as shown in:\n",
      "    https://scikit-learn.org/stable/modules/preprocessing.html\n",
      "  self.n_iter_ = _check_optimize_result(\"lbfgs\", opt_res)\n",
      "/opt/mamba/lib/python3.10/site-packages/sklearn/linear_model/_glm/_newton_solver.py:491: LinAlgWarning: The inner solver of NewtonCholeskySolver stumbled upon a singular or very ill-conditioned Hessian matrix at iteration #3. It will now resort to lbfgs instead.\n",
      "Further options are to use another solver or to avoid such situation in the first place. Possible remedies are removing collinear features of X or increasing the penalization strengths.\n",
      "The original Linear Algebra message was:\n",
      "Matrix is singular.\n",
      "  warnings.warn(\n"
     ]
    },
    {
     "name": "stdout",
     "output_type": "stream",
     "text": [
      "[CV 4/10; 86/100] END C=10000, class_weight={0: 1, 1: 14}, solver=newton-cholesky;, score=0.497 total time=   0.5s\n",
      "[CV 8/10; 86/100] START C=10000, class_weight={0: 1, 1: 14}, solver=newton-cholesky\n",
      "[CV 9/10; 84/100] END C=10000, class_weight={0: 1, 1: 10}, solver=newton-cholesky;, score=0.533 total time=   2.4s\n",
      "[CV 9/10; 86/100] START C=10000, class_weight={0: 1, 1: 14}, solver=newton-cholesky\n"
     ]
    },
    {
     "name": "stderr",
     "output_type": "stream",
     "text": [
      "/opt/mamba/lib/python3.10/site-packages/sklearn/linear_model/_glm/_newton_solver.py:491: LinAlgWarning: The inner solver of NewtonCholeskySolver stumbled upon a singular or very ill-conditioned Hessian matrix at iteration #3. It will now resort to lbfgs instead.\n",
      "Further options are to use another solver or to avoid such situation in the first place. Possible remedies are removing collinear features of X or increasing the penalization strengths.\n",
      "The original Linear Algebra message was:\n",
      "Matrix is singular.\n",
      "  warnings.warn(\n",
      "/opt/mamba/lib/python3.10/site-packages/sklearn/linear_model/_glm/_newton_solver.py:195: ConvergenceWarning: lbfgs failed to converge (status=1):\n",
      "STOP: TOTAL NO. of ITERATIONS REACHED LIMIT.\n",
      "\n",
      "Increase the number of iterations (max_iter) or scale the data as shown in:\n",
      "    https://scikit-learn.org/stable/modules/preprocessing.html\n",
      "  self.n_iter_ = _check_optimize_result(\"lbfgs\", opt_res)\n"
     ]
    },
    {
     "name": "stdout",
     "output_type": "stream",
     "text": [
      "[CV 2/10; 84/100] END C=10000, class_weight={0: 1, 1: 10}, solver=newton-cholesky;, score=0.531 total time=   3.0s\n",
      "[CV 10/10; 86/100] START C=10000, class_weight={0: 1, 1: 14}, solver=newton-cholesky\n",
      "[CV 5/10; 81/100] END C=10000, class_weight={0: 1, 1: 1}, solver=liblinear;, score=0.313 total time=   5.3s\n",
      "[CV 1/10; 87/100] START C=10000, class_weight={0: 1, 1: 15}, solver=liblinear...\n"
     ]
    },
    {
     "name": "stderr",
     "output_type": "stream",
     "text": [
      "/opt/mamba/lib/python3.10/site-packages/sklearn/linear_model/_glm/_newton_solver.py:491: LinAlgWarning: The inner solver of NewtonCholeskySolver stumbled upon a singular or very ill-conditioned Hessian matrix at iteration #3. It will now resort to lbfgs instead.\n",
      "Further options are to use another solver or to avoid such situation in the first place. Possible remedies are removing collinear features of X or increasing the penalization strengths.\n",
      "The original Linear Algebra message was:\n",
      "Matrix is singular.\n",
      "  warnings.warn(\n",
      "/opt/mamba/lib/python3.10/site-packages/sklearn/linear_model/_glm/_newton_solver.py:491: LinAlgWarning: The inner solver of NewtonCholeskySolver stumbled upon a singular or very ill-conditioned Hessian matrix at iteration #3. It will now resort to lbfgs instead.\n",
      "Further options are to use another solver or to avoid such situation in the first place. Possible remedies are removing collinear features of X or increasing the penalization strengths.\n",
      "The original Linear Algebra message was:\n",
      "Matrix is singular.\n",
      "  warnings.warn(\n",
      "/opt/mamba/lib/python3.10/site-packages/sklearn/linear_model/_glm/_newton_solver.py:195: ConvergenceWarning: lbfgs failed to converge (status=1):\n",
      "STOP: TOTAL NO. of ITERATIONS REACHED LIMIT.\n",
      "\n",
      "Increase the number of iterations (max_iter) or scale the data as shown in:\n",
      "    https://scikit-learn.org/stable/modules/preprocessing.html\n",
      "  self.n_iter_ = _check_optimize_result(\"lbfgs\", opt_res)\n",
      "/opt/mamba/lib/python3.10/site-packages/sklearn/linear_model/_glm/_newton_solver.py:195: ConvergenceWarning: lbfgs failed to converge (status=1):\n",
      "STOP: TOTAL NO. of ITERATIONS REACHED LIMIT.\n",
      "\n",
      "Increase the number of iterations (max_iter) or scale the data as shown in:\n",
      "    https://scikit-learn.org/stable/modules/preprocessing.html\n",
      "  self.n_iter_ = _check_optimize_result(\"lbfgs\", opt_res)\n",
      "/opt/mamba/lib/python3.10/site-packages/sklearn/linear_model/_glm/_newton_solver.py:491: LinAlgWarning: The inner solver of NewtonCholeskySolver stumbled upon a singular or very ill-conditioned Hessian matrix at iteration #3. It will now resort to lbfgs instead.\n",
      "Further options are to use another solver or to avoid such situation in the first place. Possible remedies are removing collinear features of X or increasing the penalization strengths.\n",
      "The original Linear Algebra message was:\n",
      "Matrix is singular.\n",
      "  warnings.warn(\n"
     ]
    },
    {
     "name": "stdout",
     "output_type": "stream",
     "text": [
      "[CV 5/10; 84/100] END C=10000, class_weight={0: 1, 1: 10}, solver=newton-cholesky;, score=0.566 total time=   3.1s\n",
      "[CV 2/10; 87/100] START C=10000, class_weight={0: 1, 1: 15}, solver=liblinear...\n",
      "[CV 3/10; 84/100] END C=10000, class_weight={0: 1, 1: 10}, solver=newton-cholesky;, score=0.567 total time=   3.3s\n",
      "[CV 3/10; 87/100] START C=10000, class_weight={0: 1, 1: 15}, solver=liblinear...\n"
     ]
    },
    {
     "name": "stderr",
     "output_type": "stream",
     "text": [
      "/opt/mamba/lib/python3.10/site-packages/sklearn/linear_model/_glm/_newton_solver.py:195: ConvergenceWarning: lbfgs failed to converge (status=1):\n",
      "STOP: TOTAL NO. of ITERATIONS REACHED LIMIT.\n",
      "\n",
      "Increase the number of iterations (max_iter) or scale the data as shown in:\n",
      "    https://scikit-learn.org/stable/modules/preprocessing.html\n",
      "  self.n_iter_ = _check_optimize_result(\"lbfgs\", opt_res)\n"
     ]
    },
    {
     "name": "stdout",
     "output_type": "stream",
     "text": [
      "[CV 8/10; 84/100] END C=10000, class_weight={0: 1, 1: 10}, solver=newton-cholesky;, score=0.512 total time=   3.3s\n",
      "[CV 4/10; 87/100] START C=10000, class_weight={0: 1, 1: 15}, solver=liblinear...\n"
     ]
    },
    {
     "name": "stderr",
     "output_type": "stream",
     "text": [
      "/opt/mamba/lib/python3.10/site-packages/sklearn/linear_model/_glm/_newton_solver.py:195: ConvergenceWarning: lbfgs failed to converge (status=1):\n",
      "STOP: TOTAL NO. of ITERATIONS REACHED LIMIT.\n",
      "\n",
      "Increase the number of iterations (max_iter) or scale the data as shown in:\n",
      "    https://scikit-learn.org/stable/modules/preprocessing.html\n",
      "  self.n_iter_ = _check_optimize_result(\"lbfgs\", opt_res)\n"
     ]
    },
    {
     "name": "stdout",
     "output_type": "stream",
     "text": [
      "[CV 10/10; 84/100] END C=10000, class_weight={0: 1, 1: 10}, solver=newton-cholesky;, score=0.501 total time=   3.4s\n",
      "[CV 5/10; 87/100] START C=10000, class_weight={0: 1, 1: 15}, solver=liblinear...\n",
      "[CV 2/10; 81/100] END C=10000, class_weight={0: 1, 1: 1}, solver=liblinear;, score=0.286 total time=   6.7s\n",
      "[CV 6/10; 87/100] START C=10000, class_weight={0: 1, 1: 15}, solver=liblinear...\n",
      "[CV 2/10; 86/100] END C=10000, class_weight={0: 1, 1: 14}, solver=newton-cholesky;, score=0.471 total time=   2.4s\n"
     ]
    },
    {
     "name": "stderr",
     "output_type": "stream",
     "text": [
      "/opt/mamba/lib/python3.10/site-packages/sklearn/linear_model/_glm/_newton_solver.py:195: ConvergenceWarning: lbfgs failed to converge (status=1):\n",
      "STOP: TOTAL NO. of ITERATIONS REACHED LIMIT.\n",
      "\n",
      "Increase the number of iterations (max_iter) or scale the data as shown in:\n",
      "    https://scikit-learn.org/stable/modules/preprocessing.html\n",
      "  self.n_iter_ = _check_optimize_result(\"lbfgs\", opt_res)\n"
     ]
    },
    {
     "name": "stdout",
     "output_type": "stream",
     "text": [
      "[CV 7/10; 87/100] START C=10000, class_weight={0: 1, 1: 15}, solver=liblinear...\n",
      "[CV 8/10; 81/100] END C=10000, class_weight={0: 1, 1: 1}, solver=liblinear;, score=0.206 total time=   6.8s\n",
      "[CV 8/10; 87/100] START C=10000, class_weight={0: 1, 1: 15}, solver=liblinear...\n",
      "[CV 7/10; 86/100] END C=10000, class_weight={0: 1, 1: 14}, solver=newton-cholesky;, score=0.492 total time=   2.4s\n",
      "[CV 9/10; 87/100] START C=10000, class_weight={0: 1, 1: 15}, solver=liblinear...\n"
     ]
    },
    {
     "name": "stderr",
     "output_type": "stream",
     "text": [
      "/opt/mamba/lib/python3.10/site-packages/sklearn/linear_model/_glm/_newton_solver.py:195: ConvergenceWarning: lbfgs failed to converge (status=1):\n",
      "STOP: TOTAL NO. of ITERATIONS REACHED LIMIT.\n",
      "\n",
      "Increase the number of iterations (max_iter) or scale the data as shown in:\n",
      "    https://scikit-learn.org/stable/modules/preprocessing.html\n",
      "  self.n_iter_ = _check_optimize_result(\"lbfgs\", opt_res)\n",
      "/opt/mamba/lib/python3.10/site-packages/sklearn/linear_model/_glm/_newton_solver.py:195: ConvergenceWarning: lbfgs failed to converge (status=1):\n",
      "STOP: TOTAL NO. of ITERATIONS REACHED LIMIT.\n",
      "\n",
      "Increase the number of iterations (max_iter) or scale the data as shown in:\n",
      "    https://scikit-learn.org/stable/modules/preprocessing.html\n",
      "  self.n_iter_ = _check_optimize_result(\"lbfgs\", opt_res)\n"
     ]
    },
    {
     "name": "stdout",
     "output_type": "stream",
     "text": [
      "[CV 6/10; 86/100] END C=10000, class_weight={0: 1, 1: 14}, solver=newton-cholesky;, score=0.448 total time=   2.5s\n",
      "[CV 10/10; 87/100] START C=10000, class_weight={0: 1, 1: 15}, solver=liblinear..\n",
      "[CV 8/10; 86/100] END C=10000, class_weight={0: 1, 1: 14}, solver=newton-cholesky;, score=0.410 total time=   2.4s\n",
      "[CV 1/10; 88/100] START C=10000, class_weight={0: 1, 1: 15}, solver=newton-cholesky\n"
     ]
    },
    {
     "name": "stderr",
     "output_type": "stream",
     "text": [
      "/opt/mamba/lib/python3.10/site-packages/sklearn/linear_model/_glm/_newton_solver.py:195: ConvergenceWarning: lbfgs failed to converge (status=1):\n",
      "STOP: TOTAL NO. of ITERATIONS REACHED LIMIT.\n",
      "\n",
      "Increase the number of iterations (max_iter) or scale the data as shown in:\n",
      "    https://scikit-learn.org/stable/modules/preprocessing.html\n",
      "  self.n_iter_ = _check_optimize_result(\"lbfgs\", opt_res)\n",
      "/opt/mamba/lib/python3.10/site-packages/sklearn/linear_model/_glm/_newton_solver.py:195: ConvergenceWarning: lbfgs failed to converge (status=1):\n",
      "STOP: TOTAL NO. of ITERATIONS REACHED LIMIT.\n",
      "\n",
      "Increase the number of iterations (max_iter) or scale the data as shown in:\n",
      "    https://scikit-learn.org/stable/modules/preprocessing.html\n",
      "  self.n_iter_ = _check_optimize_result(\"lbfgs\", opt_res)\n",
      "/opt/mamba/lib/python3.10/site-packages/sklearn/linear_model/_glm/_newton_solver.py:195: ConvergenceWarning: lbfgs failed to converge (status=1):\n",
      "STOP: TOTAL NO. of ITERATIONS REACHED LIMIT.\n",
      "\n",
      "Increase the number of iterations (max_iter) or scale the data as shown in:\n",
      "    https://scikit-learn.org/stable/modules/preprocessing.html\n",
      "  self.n_iter_ = _check_optimize_result(\"lbfgs\", opt_res)\n",
      "/opt/mamba/lib/python3.10/site-packages/sklearn/linear_model/_glm/_newton_solver.py:195: ConvergenceWarning: lbfgs failed to converge (status=1):\n",
      "STOP: TOTAL NO. of ITERATIONS REACHED LIMIT.\n",
      "\n",
      "Increase the number of iterations (max_iter) or scale the data as shown in:\n",
      "    https://scikit-learn.org/stable/modules/preprocessing.html\n",
      "  self.n_iter_ = _check_optimize_result(\"lbfgs\", opt_res)\n"
     ]
    },
    {
     "name": "stdout",
     "output_type": "stream",
     "text": [
      "[CV 1/10; 86/100] END C=10000, class_weight={0: 1, 1: 14}, solver=newton-cholesky;, score=0.390 total time=   3.2s\n",
      "[CV 5/10; 86/100] END C=10000, class_weight={0: 1, 1: 14}, solver=newton-cholesky;, score=0.474 total time=   2.8s\n",
      "[CV 9/10; 86/100] END C=10000, class_weight={0: 1, 1: 14}, solver=newton-cholesky;, score=0.445 total time=   2.4s\n",
      "[CV 2/10; 88/100] START C=10000, class_weight={0: 1, 1: 15}, solver=newton-cholesky\n",
      "[CV 3/10; 88/100] START C=10000, class_weight={0: 1, 1: 15}, solver=newton-cholesky\n",
      "[CV 4/10; 88/100] START C=10000, class_weight={0: 1, 1: 15}, solver=newton-cholesky\n"
     ]
    },
    {
     "name": "stderr",
     "output_type": "stream",
     "text": [
      "/opt/mamba/lib/python3.10/site-packages/sklearn/linear_model/_glm/_newton_solver.py:195: ConvergenceWarning: lbfgs failed to converge (status=1):\n",
      "STOP: TOTAL NO. of ITERATIONS REACHED LIMIT.\n",
      "\n",
      "Increase the number of iterations (max_iter) or scale the data as shown in:\n",
      "    https://scikit-learn.org/stable/modules/preprocessing.html\n",
      "  self.n_iter_ = _check_optimize_result(\"lbfgs\", opt_res)\n",
      "/opt/mamba/lib/python3.10/site-packages/sklearn/linear_model/_glm/_newton_solver.py:491: LinAlgWarning: The inner solver of NewtonCholeskySolver stumbled upon a singular or very ill-conditioned Hessian matrix at iteration #3. It will now resort to lbfgs instead.\n",
      "Further options are to use another solver or to avoid such situation in the first place. Possible remedies are removing collinear features of X or increasing the penalization strengths.\n",
      "The original Linear Algebra message was:\n",
      "Matrix is singular.\n",
      "  warnings.warn(\n"
     ]
    },
    {
     "name": "stdout",
     "output_type": "stream",
     "text": [
      "[CV 3/10; 86/100] END C=10000, class_weight={0: 1, 1: 14}, solver=newton-cholesky;, score=0.473 total time=   3.3s\n",
      "[CV 5/10; 88/100] START C=10000, class_weight={0: 1, 1: 15}, solver=newton-cholesky\n",
      "[CV 3/10; 83/100] END C=10000, class_weight={0: 1, 1: 10}, solver=liblinear;, score=0.562 total time=   6.4s\n",
      "[CV 6/10; 88/100] START C=10000, class_weight={0: 1, 1: 15}, solver=newton-cholesky\n"
     ]
    },
    {
     "name": "stderr",
     "output_type": "stream",
     "text": [
      "/opt/mamba/lib/python3.10/site-packages/sklearn/linear_model/_glm/_newton_solver.py:491: LinAlgWarning: The inner solver of NewtonCholeskySolver stumbled upon a singular or very ill-conditioned Hessian matrix at iteration #3. It will now resort to lbfgs instead.\n",
      "Further options are to use another solver or to avoid such situation in the first place. Possible remedies are removing collinear features of X or increasing the penalization strengths.\n",
      "The original Linear Algebra message was:\n",
      "Matrix is singular.\n",
      "  warnings.warn(\n",
      "/opt/mamba/lib/python3.10/site-packages/sklearn/linear_model/_glm/_newton_solver.py:491: LinAlgWarning: The inner solver of NewtonCholeskySolver stumbled upon a singular or very ill-conditioned Hessian matrix at iteration #3. It will now resort to lbfgs instead.\n",
      "Further options are to use another solver or to avoid such situation in the first place. Possible remedies are removing collinear features of X or increasing the penalization strengths.\n",
      "The original Linear Algebra message was:\n",
      "Matrix is singular.\n",
      "  warnings.warn(\n",
      "/opt/mamba/lib/python3.10/site-packages/sklearn/linear_model/_glm/_newton_solver.py:195: ConvergenceWarning: lbfgs failed to converge (status=1):\n",
      "STOP: TOTAL NO. of ITERATIONS REACHED LIMIT.\n",
      "\n",
      "Increase the number of iterations (max_iter) or scale the data as shown in:\n",
      "    https://scikit-learn.org/stable/modules/preprocessing.html\n",
      "  self.n_iter_ = _check_optimize_result(\"lbfgs\", opt_res)\n",
      "/opt/mamba/lib/python3.10/site-packages/sklearn/linear_model/_glm/_newton_solver.py:491: LinAlgWarning: The inner solver of NewtonCholeskySolver stumbled upon a singular or very ill-conditioned Hessian matrix at iteration #3. It will now resort to lbfgs instead.\n",
      "Further options are to use another solver or to avoid such situation in the first place. Possible remedies are removing collinear features of X or increasing the penalization strengths.\n",
      "The original Linear Algebra message was:\n",
      "Matrix is singular.\n",
      "  warnings.warn(\n"
     ]
    },
    {
     "name": "stdout",
     "output_type": "stream",
     "text": [
      "[CV 3/10; 85/100] END C=10000, class_weight={0: 1, 1: 14}, solver=liblinear;, score=0.479 total time=   4.8s\n",
      "[CV 7/10; 88/100] START C=10000, class_weight={0: 1, 1: 15}, solver=newton-cholesky\n",
      "[CV 7/10; 83/100] END C=10000, class_weight={0: 1, 1: 10}, solver=liblinear;, score=0.543 total time=   6.5s\n",
      "[CV 10/10; 86/100] END C=10000, class_weight={0: 1, 1: 14}, solver=newton-cholesky;, score=0.438 total time=   2.9s\n",
      "[CV 8/10; 88/100] START C=10000, class_weight={0: 1, 1: 15}, solver=newton-cholesky\n"
     ]
    },
    {
     "name": "stderr",
     "output_type": "stream",
     "text": [
      "/opt/mamba/lib/python3.10/site-packages/sklearn/linear_model/_glm/_newton_solver.py:491: LinAlgWarning: The inner solver of NewtonCholeskySolver stumbled upon a singular or very ill-conditioned Hessian matrix at iteration #3. It will now resort to lbfgs instead.\n",
      "Further options are to use another solver or to avoid such situation in the first place. Possible remedies are removing collinear features of X or increasing the penalization strengths.\n",
      "The original Linear Algebra message was:\n",
      "Matrix is singular.\n",
      "  warnings.warn(\n",
      "/opt/mamba/lib/python3.10/site-packages/sklearn/linear_model/_glm/_newton_solver.py:491: LinAlgWarning: The inner solver of NewtonCholeskySolver stumbled upon a singular or very ill-conditioned Hessian matrix at iteration #3. It will now resort to lbfgs instead.\n",
      "Further options are to use another solver or to avoid such situation in the first place. Possible remedies are removing collinear features of X or increasing the penalization strengths.\n",
      "The original Linear Algebra message was:\n",
      "Matrix is singular.\n",
      "  warnings.warn(\n"
     ]
    },
    {
     "name": "stdout",
     "output_type": "stream",
     "text": [
      "[CV 9/10; 88/100] START C=10000, class_weight={0: 1, 1: 15}, solver=newton-cholesky\n",
      "[CV 4/10; 88/100] END C=10000, class_weight={0: 1, 1: 15}, solver=newton-cholesky;, score=0.476 total time=   0.8s\n",
      "[CV 10/10; 83/100] END C=10000, class_weight={0: 1, 1: 10}, solver=liblinear;, score=0.499 total time=   6.7s\n",
      "[CV 10/10; 88/100] START C=10000, class_weight={0: 1, 1: 15}, solver=newton-cholesky\n",
      "[CV 1/10; 89/100] START C=10000, class_weight={0: 1, 1: 16}, solver=liblinear...\n"
     ]
    },
    {
     "name": "stderr",
     "output_type": "stream",
     "text": [
      "/opt/mamba/lib/python3.10/site-packages/sklearn/linear_model/_glm/_newton_solver.py:491: LinAlgWarning: The inner solver of NewtonCholeskySolver stumbled upon a singular or very ill-conditioned Hessian matrix at iteration #3. It will now resort to lbfgs instead.\n",
      "Further options are to use another solver or to avoid such situation in the first place. Possible remedies are removing collinear features of X or increasing the penalization strengths.\n",
      "The original Linear Algebra message was:\n",
      "Matrix is singular.\n",
      "  warnings.warn(\n",
      "/opt/mamba/lib/python3.10/site-packages/sklearn/linear_model/_glm/_newton_solver.py:491: LinAlgWarning: The inner solver of NewtonCholeskySolver stumbled upon a singular or very ill-conditioned Hessian matrix at iteration #3. It will now resort to lbfgs instead.\n",
      "Further options are to use another solver or to avoid such situation in the first place. Possible remedies are removing collinear features of X or increasing the penalization strengths.\n",
      "The original Linear Algebra message was:\n",
      "Matrix is singular.\n",
      "  warnings.warn(\n"
     ]
    },
    {
     "name": "stdout",
     "output_type": "stream",
     "text": [
      "[CV 2/10; 85/100] END C=10000, class_weight={0: 1, 1: 14}, solver=liblinear;, score=0.474 total time=   5.7s\n",
      "[CV 9/10; 85/100] END C=10000, class_weight={0: 1, 1: 14}, solver=liblinear;, score=0.443 total time=   5.1s\n",
      "[CV 2/10; 89/100] START C=10000, class_weight={0: 1, 1: 16}, solver=liblinear...\n",
      "[CV 3/10; 89/100] START C=10000, class_weight={0: 1, 1: 16}, solver=liblinear...\n",
      "[CV 4/10; 85/100] END C=10000, class_weight={0: 1, 1: 14}, solver=liblinear;, score=0.497 total time=   5.6s\n",
      "[CV 5/10; 83/100] END C=10000, class_weight={0: 1, 1: 10}, solver=liblinear;, score=0.563 total time=   7.5s\n",
      "[CV 4/10; 89/100] START C=10000, class_weight={0: 1, 1: 16}, solver=liblinear...\n",
      "[CV 5/10; 89/100] START C=10000, class_weight={0: 1, 1: 16}, solver=liblinear...\n",
      "[CV 10/10; 81/100] END C=10000, class_weight={0: 1, 1: 1}, solver=liblinear;, score=0.304 total time=   8.7s\n",
      "[CV 6/10; 89/100] START C=10000, class_weight={0: 1, 1: 16}, solver=liblinear...\n"
     ]
    },
    {
     "name": "stderr",
     "output_type": "stream",
     "text": [
      "/opt/mamba/lib/python3.10/site-packages/sklearn/linear_model/_glm/_newton_solver.py:491: LinAlgWarning: The inner solver of NewtonCholeskySolver stumbled upon a singular or very ill-conditioned Hessian matrix at iteration #3. It will now resort to lbfgs instead.\n",
      "Further options are to use another solver or to avoid such situation in the first place. Possible remedies are removing collinear features of X or increasing the penalization strengths.\n",
      "The original Linear Algebra message was:\n",
      "Matrix is singular.\n",
      "  warnings.warn(\n"
     ]
    },
    {
     "name": "stdout",
     "output_type": "stream",
     "text": [
      "[CV 7/10; 81/100] END C=10000, class_weight={0: 1, 1: 1}, solver=liblinear;, score=0.244 total time=   9.0s\n",
      "[CV 7/10; 89/100] START C=10000, class_weight={0: 1, 1: 16}, solver=liblinear...\n",
      "[CV 4/10; 81/100] END C=10000, class_weight={0: 1, 1: 1}, solver=liblinear;, score=0.215 total time=   9.3s\n",
      "[CV 8/10; 89/100] START C=10000, class_weight={0: 1, 1: 16}, solver=liblinear...\n",
      "[CV 5/10; 85/100] END C=10000, class_weight={0: 1, 1: 14}, solver=liblinear;, score=0.471 total time=   6.1s\n",
      "[CV 9/10; 89/100] START C=10000, class_weight={0: 1, 1: 16}, solver=liblinear...\n",
      "[CV 6/10; 81/100] END C=10000, class_weight={0: 1, 1: 1}, solver=liblinear;, score=0.251 total time=   9.6s\n"
     ]
    },
    {
     "name": "stderr",
     "output_type": "stream",
     "text": [
      "/opt/mamba/lib/python3.10/site-packages/sklearn/svm/_base.py:1244: ConvergenceWarning: Liblinear failed to converge, increase the number of iterations.\n",
      "  warnings.warn(\n"
     ]
    },
    {
     "name": "stdout",
     "output_type": "stream",
     "text": [
      "[CV 10/10; 89/100] START C=10000, class_weight={0: 1, 1: 16}, solver=liblinear..\n"
     ]
    },
    {
     "name": "stderr",
     "output_type": "stream",
     "text": [
      "/opt/mamba/lib/python3.10/site-packages/sklearn/linear_model/_glm/_newton_solver.py:195: ConvergenceWarning: lbfgs failed to converge (status=1):\n",
      "STOP: TOTAL NO. of ITERATIONS REACHED LIMIT.\n",
      "\n",
      "Increase the number of iterations (max_iter) or scale the data as shown in:\n",
      "    https://scikit-learn.org/stable/modules/preprocessing.html\n",
      "  self.n_iter_ = _check_optimize_result(\"lbfgs\", opt_res)\n",
      "/opt/mamba/lib/python3.10/site-packages/sklearn/linear_model/_glm/_newton_solver.py:195: ConvergenceWarning: lbfgs failed to converge (status=1):\n",
      "STOP: TOTAL NO. of ITERATIONS REACHED LIMIT.\n",
      "\n",
      "Increase the number of iterations (max_iter) or scale the data as shown in:\n",
      "    https://scikit-learn.org/stable/modules/preprocessing.html\n",
      "  self.n_iter_ = _check_optimize_result(\"lbfgs\", opt_res)\n"
     ]
    },
    {
     "name": "stdout",
     "output_type": "stream",
     "text": [
      "[CV 1/10; 88/100] END C=10000, class_weight={0: 1, 1: 15}, solver=newton-cholesky;, score=0.371 total time=   2.7s\n",
      "[CV 1/10; 90/100] START C=10000, class_weight={0: 1, 1: 16}, solver=newton-cholesky\n",
      "[CV 7/10; 85/100] END C=10000, class_weight={0: 1, 1: 14}, solver=liblinear;, score=0.493 total time=   6.6s\n",
      "[CV 2/10; 88/100] END C=10000, class_weight={0: 1, 1: 15}, solver=newton-cholesky;, score=0.448 total time=   2.6s\n",
      "[CV 2/10; 90/100] START C=10000, class_weight={0: 1, 1: 16}, solver=newton-cholesky\n",
      "[CV 3/10; 90/100] START C=10000, class_weight={0: 1, 1: 16}, solver=newton-cholesky\n"
     ]
    },
    {
     "name": "stderr",
     "output_type": "stream",
     "text": [
      "/opt/mamba/lib/python3.10/site-packages/sklearn/linear_model/_glm/_newton_solver.py:491: LinAlgWarning: The inner solver of NewtonCholeskySolver stumbled upon a singular or very ill-conditioned Hessian matrix at iteration #3. It will now resort to lbfgs instead.\n",
      "Further options are to use another solver or to avoid such situation in the first place. Possible remedies are removing collinear features of X or increasing the penalization strengths.\n",
      "The original Linear Algebra message was:\n",
      "Matrix is singular.\n",
      "  warnings.warn(\n",
      "/opt/mamba/lib/python3.10/site-packages/sklearn/linear_model/_glm/_newton_solver.py:195: ConvergenceWarning: lbfgs failed to converge (status=1):\n",
      "STOP: TOTAL NO. of ITERATIONS REACHED LIMIT.\n",
      "\n",
      "Increase the number of iterations (max_iter) or scale the data as shown in:\n",
      "    https://scikit-learn.org/stable/modules/preprocessing.html\n",
      "  self.n_iter_ = _check_optimize_result(\"lbfgs\", opt_res)\n",
      "/opt/mamba/lib/python3.10/site-packages/sklearn/linear_model/_glm/_newton_solver.py:491: LinAlgWarning: The inner solver of NewtonCholeskySolver stumbled upon a singular or very ill-conditioned Hessian matrix at iteration #3. It will now resort to lbfgs instead.\n",
      "Further options are to use another solver or to avoid such situation in the first place. Possible remedies are removing collinear features of X or increasing the penalization strengths.\n",
      "The original Linear Algebra message was:\n",
      "Matrix is singular.\n",
      "  warnings.warn(\n",
      "/opt/mamba/lib/python3.10/site-packages/sklearn/linear_model/_glm/_newton_solver.py:491: LinAlgWarning: The inner solver of NewtonCholeskySolver stumbled upon a singular or very ill-conditioned Hessian matrix at iteration #3. It will now resort to lbfgs instead.\n",
      "Further options are to use another solver or to avoid such situation in the first place. Possible remedies are removing collinear features of X or increasing the penalization strengths.\n",
      "The original Linear Algebra message was:\n",
      "Matrix is singular.\n",
      "  warnings.warn(\n",
      "/opt/mamba/lib/python3.10/site-packages/sklearn/linear_model/_glm/_newton_solver.py:195: ConvergenceWarning: lbfgs failed to converge (status=1):\n",
      "STOP: TOTAL NO. of ITERATIONS REACHED LIMIT.\n",
      "\n",
      "Increase the number of iterations (max_iter) or scale the data as shown in:\n",
      "    https://scikit-learn.org/stable/modules/preprocessing.html\n",
      "  self.n_iter_ = _check_optimize_result(\"lbfgs\", opt_res)\n"
     ]
    },
    {
     "name": "stdout",
     "output_type": "stream",
     "text": [
      "[CV 5/10; 88/100] END C=10000, class_weight={0: 1, 1: 15}, solver=newton-cholesky;, score=0.451 total time=   2.8s\n",
      "[CV 4/10; 90/100] START C=10000, class_weight={0: 1, 1: 16}, solver=newton-cholesky\n",
      "[CV 7/10; 88/100] END C=10000, class_weight={0: 1, 1: 15}, solver=newton-cholesky;, score=0.468 total time=   2.6s\n",
      "[CV 10/10; 87/100] END C=10000, class_weight={0: 1, 1: 15}, solver=liblinear;, score=0.410 total time=   3.3s\n",
      "[CV 3/10; 87/100] END C=10000, class_weight={0: 1, 1: 15}, solver=liblinear;, score=0.453 total time=   5.0s\n",
      "[CV 5/10; 90/100] START C=10000, class_weight={0: 1, 1: 16}, solver=newton-cholesky\n",
      "[CV 6/10; 90/100] START C=10000, class_weight={0: 1, 1: 16}, solver=newton-cholesky\n",
      "[CV 7/10; 90/100] START C=10000, class_weight={0: 1, 1: 16}, solver=newton-cholesky\n",
      "[CV 3/10; 88/100] END C=10000, class_weight={0: 1, 1: 15}, solver=newton-cholesky;, score=0.456 total time=   3.3s\n"
     ]
    },
    {
     "name": "stderr",
     "output_type": "stream",
     "text": [
      "/opt/mamba/lib/python3.10/site-packages/sklearn/linear_model/_glm/_newton_solver.py:195: ConvergenceWarning: lbfgs failed to converge (status=1):\n",
      "STOP: TOTAL NO. of ITERATIONS REACHED LIMIT.\n",
      "\n",
      "Increase the number of iterations (max_iter) or scale the data as shown in:\n",
      "    https://scikit-learn.org/stable/modules/preprocessing.html\n",
      "  self.n_iter_ = _check_optimize_result(\"lbfgs\", opt_res)\n",
      "/opt/mamba/lib/python3.10/site-packages/sklearn/linear_model/_glm/_newton_solver.py:491: LinAlgWarning: The inner solver of NewtonCholeskySolver stumbled upon a singular or very ill-conditioned Hessian matrix at iteration #3. It will now resort to lbfgs instead.\n",
      "Further options are to use another solver or to avoid such situation in the first place. Possible remedies are removing collinear features of X or increasing the penalization strengths.\n",
      "The original Linear Algebra message was:\n",
      "Matrix is singular.\n",
      "  warnings.warn(\n",
      "/opt/mamba/lib/python3.10/site-packages/sklearn/linear_model/_glm/_newton_solver.py:491: LinAlgWarning: The inner solver of NewtonCholeskySolver stumbled upon a singular or very ill-conditioned Hessian matrix at iteration #3. It will now resort to lbfgs instead.\n",
      "Further options are to use another solver or to avoid such situation in the first place. Possible remedies are removing collinear features of X or increasing the penalization strengths.\n",
      "The original Linear Algebra message was:\n",
      "Matrix is singular.\n",
      "  warnings.warn(\n",
      "/opt/mamba/lib/python3.10/site-packages/sklearn/linear_model/_glm/_newton_solver.py:195: ConvergenceWarning: lbfgs failed to converge (status=1):\n",
      "STOP: TOTAL NO. of ITERATIONS REACHED LIMIT.\n",
      "\n",
      "Increase the number of iterations (max_iter) or scale the data as shown in:\n",
      "    https://scikit-learn.org/stable/modules/preprocessing.html\n",
      "  self.n_iter_ = _check_optimize_result(\"lbfgs\", opt_res)\n"
     ]
    },
    {
     "name": "stdout",
     "output_type": "stream",
     "text": [
      "[CV 8/10; 90/100] START C=10000, class_weight={0: 1, 1: 16}, solver=newton-cholesky\n",
      "[CV 9/10; 88/100] END C=10000, class_weight={0: 1, 1: 15}, solver=newton-cholesky;, score=0.415 total time=   2.9s\n",
      "[CV 9/10; 90/100] START C=10000, class_weight={0: 1, 1: 16}, solver=newton-cholesky\n",
      "[CV 4/10; 90/100] END C=10000, class_weight={0: 1, 1: 16}, solver=newton-cholesky;, score=0.453 total time=   0.5s\n",
      "[CV 10/10; 90/100] START C=10000, class_weight={0: 1, 1: 16}, solver=newton-cholesky\n",
      "[CV 6/10; 88/100] END C=10000, class_weight={0: 1, 1: 15}, solver=newton-cholesky;, score=0.424 total time=   3.4s\n"
     ]
    },
    {
     "name": "stderr",
     "output_type": "stream",
     "text": [
      "/opt/mamba/lib/python3.10/site-packages/sklearn/linear_model/_glm/_newton_solver.py:195: ConvergenceWarning: lbfgs failed to converge (status=1):\n",
      "STOP: TOTAL NO. of ITERATIONS REACHED LIMIT.\n",
      "\n",
      "Increase the number of iterations (max_iter) or scale the data as shown in:\n",
      "    https://scikit-learn.org/stable/modules/preprocessing.html\n",
      "  self.n_iter_ = _check_optimize_result(\"lbfgs\", opt_res)\n",
      "/opt/mamba/lib/python3.10/site-packages/sklearn/linear_model/_glm/_newton_solver.py:491: LinAlgWarning: The inner solver of NewtonCholeskySolver stumbled upon a singular or very ill-conditioned Hessian matrix at iteration #3. It will now resort to lbfgs instead.\n",
      "Further options are to use another solver or to avoid such situation in the first place. Possible remedies are removing collinear features of X or increasing the penalization strengths.\n",
      "The original Linear Algebra message was:\n",
      "Matrix is singular.\n",
      "  warnings.warn(\n",
      "/opt/mamba/lib/python3.10/site-packages/sklearn/linear_model/_glm/_newton_solver.py:195: ConvergenceWarning: lbfgs failed to converge (status=1):\n",
      "STOP: TOTAL NO. of ITERATIONS REACHED LIMIT.\n",
      "\n",
      "Increase the number of iterations (max_iter) or scale the data as shown in:\n",
      "    https://scikit-learn.org/stable/modules/preprocessing.html\n",
      "  self.n_iter_ = _check_optimize_result(\"lbfgs\", opt_res)\n"
     ]
    },
    {
     "name": "stdout",
     "output_type": "stream",
     "text": [
      "[CV 1/10; 91/100] START C=10000, class_weight={0: 1, 1: 20}, solver=liblinear...\n",
      "[CV 10/10; 85/100] END C=10000, class_weight={0: 1, 1: 14}, solver=liblinear;, score=0.434 total time=   7.5s\n",
      "[CV 2/10; 91/100] START C=10000, class_weight={0: 1, 1: 20}, solver=liblinear...\n",
      "[CV 8/10; 88/100] END C=10000, class_weight={0: 1, 1: 15}, solver=newton-cholesky;, score=0.385 total time=   3.2s\n",
      "[CV 3/10; 91/100] START C=10000, class_weight={0: 1, 1: 20}, solver=liblinear...\n",
      "[CV 1/10; 87/100] END C=10000, class_weight={0: 1, 1: 15}, solver=liblinear;, score=0.364 total time=   6.1s\n"
     ]
    },
    {
     "name": "stderr",
     "output_type": "stream",
     "text": [
      "/opt/mamba/lib/python3.10/site-packages/sklearn/linear_model/_glm/_newton_solver.py:491: LinAlgWarning: The inner solver of NewtonCholeskySolver stumbled upon a singular or very ill-conditioned Hessian matrix at iteration #3. It will now resort to lbfgs instead.\n",
      "Further options are to use another solver or to avoid such situation in the first place. Possible remedies are removing collinear features of X or increasing the penalization strengths.\n",
      "The original Linear Algebra message was:\n",
      "Matrix is singular.\n",
      "  warnings.warn(\n",
      "/opt/mamba/lib/python3.10/site-packages/sklearn/linear_model/_glm/_newton_solver.py:491: LinAlgWarning: The inner solver of NewtonCholeskySolver stumbled upon a singular or very ill-conditioned Hessian matrix at iteration #3. It will now resort to lbfgs instead.\n",
      "Further options are to use another solver or to avoid such situation in the first place. Possible remedies are removing collinear features of X or increasing the penalization strengths.\n",
      "The original Linear Algebra message was:\n",
      "Matrix is singular.\n",
      "  warnings.warn(\n",
      "/opt/mamba/lib/python3.10/site-packages/sklearn/linear_model/_glm/_newton_solver.py:491: LinAlgWarning: The inner solver of NewtonCholeskySolver stumbled upon a singular or very ill-conditioned Hessian matrix at iteration #3. It will now resort to lbfgs instead.\n",
      "Further options are to use another solver or to avoid such situation in the first place. Possible remedies are removing collinear features of X or increasing the penalization strengths.\n",
      "The original Linear Algebra message was:\n",
      "Matrix is singular.\n",
      "  warnings.warn(\n"
     ]
    },
    {
     "name": "stdout",
     "output_type": "stream",
     "text": [
      "[CV 6/10; 83/100] END C=10000, class_weight={0: 1, 1: 10}, solver=liblinear;, score=0.546 total time=   9.9s\n",
      "[CV 4/10; 91/100] START C=10000, class_weight={0: 1, 1: 20}, solver=liblinear...\n",
      "[CV 5/10; 91/100] START C=10000, class_weight={0: 1, 1: 20}, solver=liblinear...\n",
      "[CV 1/10; 85/100] END C=10000, class_weight={0: 1, 1: 14}, solver=liblinear;, score=0.388 total time=   8.8s\n",
      "[CV 6/10; 91/100] START C=10000, class_weight={0: 1, 1: 20}, solver=liblinear...\n",
      "[CV 8/10; 85/100] END C=10000, class_weight={0: 1, 1: 14}, solver=liblinear;, score=0.418 total time=   8.4s\n",
      "[CV 4/10; 83/100] END C=10000, class_weight={0: 1, 1: 10}, solver=liblinear;, score=0.565 total time=  10.7s\n",
      "[CV 7/10; 91/100] START C=10000, class_weight={0: 1, 1: 20}, solver=liblinear...\n",
      "[CV 8/10; 91/100] START C=10000, class_weight={0: 1, 1: 20}, solver=liblinear...\n"
     ]
    },
    {
     "name": "stderr",
     "output_type": "stream",
     "text": [
      "/opt/mamba/lib/python3.10/site-packages/sklearn/linear_model/_glm/_newton_solver.py:195: ConvergenceWarning: lbfgs failed to converge (status=1):\n",
      "STOP: TOTAL NO. of ITERATIONS REACHED LIMIT.\n",
      "\n",
      "Increase the number of iterations (max_iter) or scale the data as shown in:\n",
      "    https://scikit-learn.org/stable/modules/preprocessing.html\n",
      "  self.n_iter_ = _check_optimize_result(\"lbfgs\", opt_res)\n",
      "/opt/mamba/lib/python3.10/site-packages/sklearn/linear_model/_glm/_newton_solver.py:195: ConvergenceWarning: lbfgs failed to converge (status=1):\n",
      "STOP: TOTAL NO. of ITERATIONS REACHED LIMIT.\n",
      "\n",
      "Increase the number of iterations (max_iter) or scale the data as shown in:\n",
      "    https://scikit-learn.org/stable/modules/preprocessing.html\n",
      "  self.n_iter_ = _check_optimize_result(\"lbfgs\", opt_res)\n"
     ]
    },
    {
     "name": "stdout",
     "output_type": "stream",
     "text": [
      "[CV 10/10; 88/100] END C=10000, class_weight={0: 1, 1: 15}, solver=newton-cholesky;, score=0.407 total time=   3.8s\n",
      "[CV 1/10; 90/100] END C=10000, class_weight={0: 1, 1: 16}, solver=newton-cholesky;, score=0.349 total time=   2.3s\n",
      "[CV 9/10; 91/100] START C=10000, class_weight={0: 1, 1: 20}, solver=liblinear...\n",
      "[CV 10/10; 91/100] START C=10000, class_weight={0: 1, 1: 20}, solver=liblinear..\n"
     ]
    },
    {
     "name": "stderr",
     "output_type": "stream",
     "text": [
      "/opt/mamba/lib/python3.10/site-packages/sklearn/linear_model/_glm/_newton_solver.py:195: ConvergenceWarning: lbfgs failed to converge (status=1):\n",
      "STOP: TOTAL NO. of ITERATIONS REACHED LIMIT.\n",
      "\n",
      "Increase the number of iterations (max_iter) or scale the data as shown in:\n",
      "    https://scikit-learn.org/stable/modules/preprocessing.html\n",
      "  self.n_iter_ = _check_optimize_result(\"lbfgs\", opt_res)\n"
     ]
    },
    {
     "name": "stdout",
     "output_type": "stream",
     "text": [
      "[CV 2/10; 90/100] END C=10000, class_weight={0: 1, 1: 16}, solver=newton-cholesky;, score=0.424 total time=   2.4s\n",
      "[CV 1/10; 92/100] START C=10000, class_weight={0: 1, 1: 20}, solver=newton-cholesky\n",
      "[CV 9/10; 87/100] END C=10000, class_weight={0: 1, 1: 15}, solver=liblinear;, score=0.412 total time=   5.6s\n",
      "[CV 1/10; 83/100] END C=10000, class_weight={0: 1, 1: 10}, solver=liblinear;, score=0.486 total time=  11.5s\n",
      "[CV 2/10; 92/100] START C=10000, class_weight={0: 1, 1: 20}, solver=newton-cholesky\n",
      "[CV 3/10; 92/100] START C=10000, class_weight={0: 1, 1: 20}, solver=newton-cholesky\n",
      "[CV 5/10; 90/100] END C=10000, class_weight={0: 1, 1: 16}, solver=newton-cholesky;, score=0.440 total time=   2.4s\n",
      "[CV 4/10; 92/100] START C=10000, class_weight={0: 1, 1: 20}, solver=newton-cholesky\n"
     ]
    },
    {
     "name": "stderr",
     "output_type": "stream",
     "text": [
      "/opt/mamba/lib/python3.10/site-packages/sklearn/linear_model/_glm/_newton_solver.py:195: ConvergenceWarning: lbfgs failed to converge (status=1):\n",
      "STOP: TOTAL NO. of ITERATIONS REACHED LIMIT.\n",
      "\n",
      "Increase the number of iterations (max_iter) or scale the data as shown in:\n",
      "    https://scikit-learn.org/stable/modules/preprocessing.html\n",
      "  self.n_iter_ = _check_optimize_result(\"lbfgs\", opt_res)\n",
      "/opt/mamba/lib/python3.10/site-packages/sklearn/linear_model/_glm/_newton_solver.py:491: LinAlgWarning: The inner solver of NewtonCholeskySolver stumbled upon a singular or very ill-conditioned Hessian matrix at iteration #3. It will now resort to lbfgs instead.\n",
      "Further options are to use another solver or to avoid such situation in the first place. Possible remedies are removing collinear features of X or increasing the penalization strengths.\n",
      "The original Linear Algebra message was:\n",
      "Matrix is singular.\n",
      "  warnings.warn(\n",
      "/opt/mamba/lib/python3.10/site-packages/sklearn/linear_model/_glm/_newton_solver.py:491: LinAlgWarning: The inner solver of NewtonCholeskySolver stumbled upon a singular or very ill-conditioned Hessian matrix at iteration #3. It will now resort to lbfgs instead.\n",
      "Further options are to use another solver or to avoid such situation in the first place. Possible remedies are removing collinear features of X or increasing the penalization strengths.\n",
      "The original Linear Algebra message was:\n",
      "Matrix is singular.\n",
      "  warnings.warn(\n",
      "/opt/mamba/lib/python3.10/site-packages/sklearn/linear_model/_glm/_newton_solver.py:195: ConvergenceWarning: lbfgs failed to converge (status=1):\n",
      "STOP: TOTAL NO. of ITERATIONS REACHED LIMIT.\n",
      "\n",
      "Increase the number of iterations (max_iter) or scale the data as shown in:\n",
      "    https://scikit-learn.org/stable/modules/preprocessing.html\n",
      "  self.n_iter_ = _check_optimize_result(\"lbfgs\", opt_res)\n",
      "/opt/mamba/lib/python3.10/site-packages/sklearn/linear_model/_glm/_newton_solver.py:491: LinAlgWarning: The inner solver of NewtonCholeskySolver stumbled upon a singular or very ill-conditioned Hessian matrix at iteration #3. It will now resort to lbfgs instead.\n",
      "Further options are to use another solver or to avoid such situation in the first place. Possible remedies are removing collinear features of X or increasing the penalization strengths.\n",
      "The original Linear Algebra message was:\n",
      "Matrix is singular.\n",
      "  warnings.warn(\n",
      "/opt/mamba/lib/python3.10/site-packages/sklearn/linear_model/_glm/_newton_solver.py:195: ConvergenceWarning: lbfgs failed to converge (status=1):\n",
      "STOP: TOTAL NO. of ITERATIONS REACHED LIMIT.\n",
      "\n",
      "Increase the number of iterations (max_iter) or scale the data as shown in:\n",
      "    https://scikit-learn.org/stable/modules/preprocessing.html\n",
      "  self.n_iter_ = _check_optimize_result(\"lbfgs\", opt_res)\n"
     ]
    },
    {
     "name": "stdout",
     "output_type": "stream",
     "text": [
      "[CV 8/10; 83/100] END C=10000, class_weight={0: 1, 1: 10}, solver=liblinear;, score=0.516 total time=  11.4s\n",
      "[CV 7/10; 87/100] END C=10000, class_weight={0: 1, 1: 15}, solver=liblinear;, score=0.469 total time=   6.5s\n",
      "[CV 5/10; 92/100] START C=10000, class_weight={0: 1, 1: 20}, solver=newton-cholesky\n",
      "[CV 2/10; 83/100] END C=10000, class_weight={0: 1, 1: 10}, solver=liblinear;, score=0.535 total time=  12.0s\n",
      "[CV 6/10; 90/100] END C=10000, class_weight={0: 1, 1: 16}, solver=newton-cholesky;, score=0.398 total time=   2.6s\n",
      "[CV 6/10; 92/100] START C=10000, class_weight={0: 1, 1: 20}, solver=newton-cholesky\n",
      "[CV 7/10; 92/100] START C=10000, class_weight={0: 1, 1: 20}, solver=newton-cholesky\n",
      "[CV 7/10; 90/100] END C=10000, class_weight={0: 1, 1: 16}, solver=newton-cholesky;, score=0.453 total time=   2.6s\n",
      "[CV 8/10; 92/100] START C=10000, class_weight={0: 1, 1: 20}, solver=newton-cholesky\n",
      "[CV 6/10; 85/100] END C=10000, class_weight={0: 1, 1: 14}, solver=liblinear;, score=0.450 total time=  10.0s\n",
      "[CV 9/10; 92/100] START C=10000, class_weight={0: 1, 1: 20}, solver=newton-cholesky\n",
      "[CV 4/10; 92/100] END C=10000, class_weight={0: 1, 1: 20}, solver=newton-cholesky;, score=0.336 total time=   0.5s\n",
      "[CV 10/10; 92/100] START C=10000, class_weight={0: 1, 1: 20}, solver=newton-cholesky\n"
     ]
    },
    {
     "name": "stderr",
     "output_type": "stream",
     "text": [
      "/opt/mamba/lib/python3.10/site-packages/sklearn/linear_model/_glm/_newton_solver.py:195: ConvergenceWarning: lbfgs failed to converge (status=1):\n",
      "STOP: TOTAL NO. of ITERATIONS REACHED LIMIT.\n",
      "\n",
      "Increase the number of iterations (max_iter) or scale the data as shown in:\n",
      "    https://scikit-learn.org/stable/modules/preprocessing.html\n",
      "  self.n_iter_ = _check_optimize_result(\"lbfgs\", opt_res)\n",
      "/opt/mamba/lib/python3.10/site-packages/sklearn/linear_model/_glm/_newton_solver.py:491: LinAlgWarning: The inner solver of NewtonCholeskySolver stumbled upon a singular or very ill-conditioned Hessian matrix at iteration #3. It will now resort to lbfgs instead.\n",
      "Further options are to use another solver or to avoid such situation in the first place. Possible remedies are removing collinear features of X or increasing the penalization strengths.\n",
      "The original Linear Algebra message was:\n",
      "Matrix is singular.\n",
      "  warnings.warn(\n",
      "/opt/mamba/lib/python3.10/site-packages/sklearn/linear_model/_glm/_newton_solver.py:491: LinAlgWarning: The inner solver of NewtonCholeskySolver stumbled upon a singular or very ill-conditioned Hessian matrix at iteration #3. It will now resort to lbfgs instead.\n",
      "Further options are to use another solver or to avoid such situation in the first place. Possible remedies are removing collinear features of X or increasing the penalization strengths.\n",
      "The original Linear Algebra message was:\n",
      "Matrix is singular.\n",
      "  warnings.warn(\n",
      "/opt/mamba/lib/python3.10/site-packages/sklearn/linear_model/_glm/_newton_solver.py:491: LinAlgWarning: The inner solver of NewtonCholeskySolver stumbled upon a singular or very ill-conditioned Hessian matrix at iteration #3. It will now resort to lbfgs instead.\n",
      "Further options are to use another solver or to avoid such situation in the first place. Possible remedies are removing collinear features of X or increasing the penalization strengths.\n",
      "The original Linear Algebra message was:\n",
      "Matrix is singular.\n",
      "  warnings.warn(\n",
      "/opt/mamba/lib/python3.10/site-packages/sklearn/linear_model/_glm/_newton_solver.py:195: ConvergenceWarning: lbfgs failed to converge (status=1):\n",
      "STOP: TOTAL NO. of ITERATIONS REACHED LIMIT.\n",
      "\n",
      "Increase the number of iterations (max_iter) or scale the data as shown in:\n",
      "    https://scikit-learn.org/stable/modules/preprocessing.html\n",
      "  self.n_iter_ = _check_optimize_result(\"lbfgs\", opt_res)\n"
     ]
    },
    {
     "name": "stdout",
     "output_type": "stream",
     "text": [
      "[CV 3/10; 90/100] END C=10000, class_weight={0: 1, 1: 16}, solver=newton-cholesky;, score=0.429 total time=   3.3s\n",
      "[CV 1/10; 93/100] START C=10000, class_weight={0: 1, 1: 50}, solver=liblinear...\n",
      "[CV 2/10; 93/100] START C=10000, class_weight={0: 1, 1: 50}, solver=liblinear...\n",
      "[CV 9/10; 90/100] END C=10000, class_weight={0: 1, 1: 16}, solver=newton-cholesky;, score=0.387 total time=   2.7s\n"
     ]
    },
    {
     "name": "stderr",
     "output_type": "stream",
     "text": [
      "/opt/mamba/lib/python3.10/site-packages/sklearn/linear_model/_glm/_newton_solver.py:491: LinAlgWarning: The inner solver of NewtonCholeskySolver stumbled upon a singular or very ill-conditioned Hessian matrix at iteration #3. It will now resort to lbfgs instead.\n",
      "Further options are to use another solver or to avoid such situation in the first place. Possible remedies are removing collinear features of X or increasing the penalization strengths.\n",
      "The original Linear Algebra message was:\n",
      "Matrix is singular.\n",
      "  warnings.warn(\n",
      "/opt/mamba/lib/python3.10/site-packages/sklearn/linear_model/_glm/_newton_solver.py:491: LinAlgWarning: The inner solver of NewtonCholeskySolver stumbled upon a singular or very ill-conditioned Hessian matrix at iteration #3. It will now resort to lbfgs instead.\n",
      "Further options are to use another solver or to avoid such situation in the first place. Possible remedies are removing collinear features of X or increasing the penalization strengths.\n",
      "The original Linear Algebra message was:\n",
      "Matrix is singular.\n",
      "  warnings.warn(\n",
      "/opt/mamba/lib/python3.10/site-packages/sklearn/linear_model/_glm/_newton_solver.py:195: ConvergenceWarning: lbfgs failed to converge (status=1):\n",
      "STOP: TOTAL NO. of ITERATIONS REACHED LIMIT.\n",
      "\n",
      "Increase the number of iterations (max_iter) or scale the data as shown in:\n",
      "    https://scikit-learn.org/stable/modules/preprocessing.html\n",
      "  self.n_iter_ = _check_optimize_result(\"lbfgs\", opt_res)\n",
      "/opt/mamba/lib/python3.10/site-packages/sklearn/linear_model/_glm/_newton_solver.py:491: LinAlgWarning: The inner solver of NewtonCholeskySolver stumbled upon a singular or very ill-conditioned Hessian matrix at iteration #3. It will now resort to lbfgs instead.\n",
      "Further options are to use another solver or to avoid such situation in the first place. Possible remedies are removing collinear features of X or increasing the penalization strengths.\n",
      "The original Linear Algebra message was:\n",
      "Matrix is singular.\n",
      "  warnings.warn(\n"
     ]
    },
    {
     "name": "stdout",
     "output_type": "stream",
     "text": [
      "[CV 6/10; 87/100] END C=10000, class_weight={0: 1, 1: 15}, solver=liblinear;, score=0.424 total time=   7.2s\n",
      "[CV 3/10; 93/100] START C=10000, class_weight={0: 1, 1: 50}, solver=liblinear...\n",
      "[CV 4/10; 93/100] START C=10000, class_weight={0: 1, 1: 50}, solver=liblinear...\n",
      "[CV 10/10; 90/100] END C=10000, class_weight={0: 1, 1: 16}, solver=newton-cholesky;, score=0.390 total time=   2.8s\n",
      "[CV 5/10; 93/100] START C=10000, class_weight={0: 1, 1: 50}, solver=liblinear...\n"
     ]
    },
    {
     "name": "stderr",
     "output_type": "stream",
     "text": [
      "/opt/mamba/lib/python3.10/site-packages/sklearn/linear_model/_glm/_newton_solver.py:195: ConvergenceWarning: lbfgs failed to converge (status=1):\n",
      "STOP: TOTAL NO. of ITERATIONS REACHED LIMIT.\n",
      "\n",
      "Increase the number of iterations (max_iter) or scale the data as shown in:\n",
      "    https://scikit-learn.org/stable/modules/preprocessing.html\n",
      "  self.n_iter_ = _check_optimize_result(\"lbfgs\", opt_res)\n"
     ]
    },
    {
     "name": "stdout",
     "output_type": "stream",
     "text": [
      "[CV 8/10; 90/100] END C=10000, class_weight={0: 1, 1: 16}, solver=newton-cholesky;, score=0.359 total time=   3.1s\n",
      "[CV 9/10; 83/100] END C=10000, class_weight={0: 1, 1: 10}, solver=liblinear;, score=0.537 total time=  12.3s\n",
      "[CV 6/10; 93/100] START C=10000, class_weight={0: 1, 1: 50}, solver=liblinear...\n",
      "[CV 10/10; 89/100] END C=10000, class_weight={0: 1, 1: 16}, solver=liblinear;, score=0.391 total time=   4.5s\n",
      "[CV 7/10; 93/100] START C=10000, class_weight={0: 1, 1: 50}, solver=liblinear...\n",
      "[CV 8/10; 93/100] START C=10000, class_weight={0: 1, 1: 50}, solver=liblinear...\n",
      "[CV 8/10; 89/100] END C=10000, class_weight={0: 1, 1: 16}, solver=liblinear;, score=0.360 total time=   5.1s\n",
      "[CV 5/10; 89/100] END C=10000, class_weight={0: 1, 1: 16}, solver=liblinear;, score=0.428 total time=   5.4s\n",
      "[CV 9/10; 93/100] START C=10000, class_weight={0: 1, 1: 50}, solver=liblinear...\n",
      "[CV 10/10; 93/100] START C=10000, class_weight={0: 1, 1: 50}, solver=liblinear..\n",
      "[CV 1/10; 89/100] END C=10000, class_weight={0: 1, 1: 16}, solver=liblinear;, score=0.339 total time=   6.0s\n",
      "[CV 1/10; 94/100] START C=10000, class_weight={0: 1, 1: 50}, solver=newton-cholesky\n"
     ]
    },
    {
     "name": "stderr",
     "output_type": "stream",
     "text": [
      "/opt/mamba/lib/python3.10/site-packages/sklearn/linear_model/_glm/_newton_solver.py:195: ConvergenceWarning: lbfgs failed to converge (status=1):\n",
      "STOP: TOTAL NO. of ITERATIONS REACHED LIMIT.\n",
      "\n",
      "Increase the number of iterations (max_iter) or scale the data as shown in:\n",
      "    https://scikit-learn.org/stable/modules/preprocessing.html\n",
      "  self.n_iter_ = _check_optimize_result(\"lbfgs\", opt_res)\n",
      "/opt/mamba/lib/python3.10/site-packages/sklearn/linear_model/_glm/_newton_solver.py:491: LinAlgWarning: The inner solver of NewtonCholeskySolver stumbled upon a singular or very ill-conditioned Hessian matrix at iteration #3. It will now resort to lbfgs instead.\n",
      "Further options are to use another solver or to avoid such situation in the first place. Possible remedies are removing collinear features of X or increasing the penalization strengths.\n",
      "The original Linear Algebra message was:\n",
      "Matrix is singular.\n",
      "  warnings.warn(\n"
     ]
    },
    {
     "name": "stdout",
     "output_type": "stream",
     "text": [
      "[CV 1/10; 92/100] END C=10000, class_weight={0: 1, 1: 20}, solver=newton-cholesky;, score=0.255 total time=   2.3s\n",
      "[CV 2/10; 94/100] START C=10000, class_weight={0: 1, 1: 50}, solver=newton-cholesky\n",
      "[CV 6/10; 89/100] END C=10000, class_weight={0: 1, 1: 16}, solver=liblinear;, score=0.402 total time=   6.0s\n",
      "[CV 3/10; 94/100] START C=10000, class_weight={0: 1, 1: 50}, solver=newton-cholesky\n"
     ]
    },
    {
     "name": "stderr",
     "output_type": "stream",
     "text": [
      "/opt/mamba/lib/python3.10/site-packages/sklearn/linear_model/_glm/_newton_solver.py:195: ConvergenceWarning: lbfgs failed to converge (status=1):\n",
      "STOP: TOTAL NO. of ITERATIONS REACHED LIMIT.\n",
      "\n",
      "Increase the number of iterations (max_iter) or scale the data as shown in:\n",
      "    https://scikit-learn.org/stable/modules/preprocessing.html\n",
      "  self.n_iter_ = _check_optimize_result(\"lbfgs\", opt_res)\n",
      "/opt/mamba/lib/python3.10/site-packages/sklearn/linear_model/_glm/_newton_solver.py:491: LinAlgWarning: The inner solver of NewtonCholeskySolver stumbled upon a singular or very ill-conditioned Hessian matrix at iteration #3. It will now resort to lbfgs instead.\n",
      "Further options are to use another solver or to avoid such situation in the first place. Possible remedies are removing collinear features of X or increasing the penalization strengths.\n",
      "The original Linear Algebra message was:\n",
      "Matrix is singular.\n",
      "  warnings.warn(\n"
     ]
    },
    {
     "name": "stdout",
     "output_type": "stream",
     "text": [
      "[CV 9/10; 89/100] END C=10000, class_weight={0: 1, 1: 16}, solver=liblinear;, score=0.388 total time=   5.8s\n",
      "[CV 4/10; 94/100] START C=10000, class_weight={0: 1, 1: 50}, solver=newton-cholesky\n",
      "[CV 2/10; 92/100] END C=10000, class_weight={0: 1, 1: 20}, solver=newton-cholesky;, score=0.327 total time=   2.5s\n",
      "[CV 5/10; 94/100] START C=10000, class_weight={0: 1, 1: 50}, solver=newton-cholesky\n"
     ]
    },
    {
     "name": "stderr",
     "output_type": "stream",
     "text": [
      "/opt/mamba/lib/python3.10/site-packages/sklearn/linear_model/_glm/_newton_solver.py:491: LinAlgWarning: The inner solver of NewtonCholeskySolver stumbled upon a singular or very ill-conditioned Hessian matrix at iteration #3. It will now resort to lbfgs instead.\n",
      "Further options are to use another solver or to avoid such situation in the first place. Possible remedies are removing collinear features of X or increasing the penalization strengths.\n",
      "The original Linear Algebra message was:\n",
      "Matrix is singular.\n",
      "  warnings.warn(\n",
      "/opt/mamba/lib/python3.10/site-packages/sklearn/linear_model/_glm/_newton_solver.py:491: LinAlgWarning: The inner solver of NewtonCholeskySolver stumbled upon a singular or very ill-conditioned Hessian matrix at iteration #3. It will now resort to lbfgs instead.\n",
      "Further options are to use another solver or to avoid such situation in the first place. Possible remedies are removing collinear features of X or increasing the penalization strengths.\n",
      "The original Linear Algebra message was:\n",
      "Matrix is singular.\n",
      "  warnings.warn(\n",
      "/opt/mamba/lib/python3.10/site-packages/sklearn/linear_model/_glm/_newton_solver.py:195: ConvergenceWarning: lbfgs failed to converge (status=1):\n",
      "STOP: TOTAL NO. of ITERATIONS REACHED LIMIT.\n",
      "\n",
      "Increase the number of iterations (max_iter) or scale the data as shown in:\n",
      "    https://scikit-learn.org/stable/modules/preprocessing.html\n",
      "  self.n_iter_ = _check_optimize_result(\"lbfgs\", opt_res)\n"
     ]
    },
    {
     "name": "stdout",
     "output_type": "stream",
     "text": [
      "[CV 2/10; 87/100] END C=10000, class_weight={0: 1, 1: 15}, solver=liblinear;, score=0.451 total time=  10.0s\n",
      "[CV 3/10; 89/100] END C=10000, class_weight={0: 1, 1: 16}, solver=liblinear;, score=0.425 total time=   6.8s\n",
      "[CV 6/10; 94/100] START C=10000, class_weight={0: 1, 1: 50}, solver=newton-cholesky\n",
      "[CV 7/10; 94/100] START C=10000, class_weight={0: 1, 1: 50}, solver=newton-cholesky\n",
      "[CV 7/10; 92/100] END C=10000, class_weight={0: 1, 1: 20}, solver=newton-cholesky;, score=0.345 total time=   2.4s\n",
      "[CV 6/10; 92/100] END C=10000, class_weight={0: 1, 1: 20}, solver=newton-cholesky;, score=0.320 total time=   2.5s\n"
     ]
    },
    {
     "name": "stderr",
     "output_type": "stream",
     "text": [
      "/opt/mamba/lib/python3.10/site-packages/sklearn/linear_model/_glm/_newton_solver.py:195: ConvergenceWarning: lbfgs failed to converge (status=1):\n",
      "STOP: TOTAL NO. of ITERATIONS REACHED LIMIT.\n",
      "\n",
      "Increase the number of iterations (max_iter) or scale the data as shown in:\n",
      "    https://scikit-learn.org/stable/modules/preprocessing.html\n",
      "  self.n_iter_ = _check_optimize_result(\"lbfgs\", opt_res)\n",
      "/opt/mamba/lib/python3.10/site-packages/sklearn/linear_model/_glm/_newton_solver.py:195: ConvergenceWarning: lbfgs failed to converge (status=1):\n",
      "STOP: TOTAL NO. of ITERATIONS REACHED LIMIT.\n",
      "\n",
      "Increase the number of iterations (max_iter) or scale the data as shown in:\n",
      "    https://scikit-learn.org/stable/modules/preprocessing.html\n",
      "  self.n_iter_ = _check_optimize_result(\"lbfgs\", opt_res)\n",
      "/opt/mamba/lib/python3.10/site-packages/sklearn/linear_model/_glm/_newton_solver.py:195: ConvergenceWarning: lbfgs failed to converge (status=1):\n",
      "STOP: TOTAL NO. of ITERATIONS REACHED LIMIT.\n",
      "\n",
      "Increase the number of iterations (max_iter) or scale the data as shown in:\n",
      "    https://scikit-learn.org/stable/modules/preprocessing.html\n",
      "  self.n_iter_ = _check_optimize_result(\"lbfgs\", opt_res)\n"
     ]
    },
    {
     "name": "stdout",
     "output_type": "stream",
     "text": [
      "[CV 8/10; 94/100] START C=10000, class_weight={0: 1, 1: 50}, solver=newton-cholesky\n",
      "[CV 5/10; 92/100] END C=10000, class_weight={0: 1, 1: 20}, solver=newton-cholesky;, score=0.345 total time=   2.6s\n",
      "[CV 4/10; 94/100] END C=10000, class_weight={0: 1, 1: 50}, solver=newton-cholesky;, score=-0.228 total time=   0.6s\n",
      "[CV 9/10; 94/100] START C=10000, class_weight={0: 1, 1: 50}, solver=newton-cholesky\n",
      "[CV 4/10; 89/100] END C=10000, class_weight={0: 1, 1: 16}, solver=liblinear;, score=0.453 total time=   7.0s\n",
      "[CV 10/10; 94/100] START C=10000, class_weight={0: 1, 1: 50}, solver=newton-cholesky\n",
      "[CV 9/10; 92/100] END C=10000, class_weight={0: 1, 1: 20}, solver=newton-cholesky;, score=0.286 total time=   2.5s\n",
      "[CV 1/10; 95/100] START C=10000, class_weight={0: 1, 1: 100}, solver=liblinear..\n"
     ]
    },
    {
     "name": "stderr",
     "output_type": "stream",
     "text": [
      "/opt/mamba/lib/python3.10/site-packages/sklearn/linear_model/_glm/_newton_solver.py:491: LinAlgWarning: The inner solver of NewtonCholeskySolver stumbled upon a singular or very ill-conditioned Hessian matrix at iteration #3. It will now resort to lbfgs instead.\n",
      "Further options are to use another solver or to avoid such situation in the first place. Possible remedies are removing collinear features of X or increasing the penalization strengths.\n",
      "The original Linear Algebra message was:\n",
      "Matrix is singular.\n",
      "  warnings.warn(\n",
      "/opt/mamba/lib/python3.10/site-packages/sklearn/linear_model/_glm/_newton_solver.py:195: ConvergenceWarning: lbfgs failed to converge (status=1):\n",
      "STOP: TOTAL NO. of ITERATIONS REACHED LIMIT.\n",
      "\n",
      "Increase the number of iterations (max_iter) or scale the data as shown in:\n",
      "    https://scikit-learn.org/stable/modules/preprocessing.html\n",
      "  self.n_iter_ = _check_optimize_result(\"lbfgs\", opt_res)\n",
      "/opt/mamba/lib/python3.10/site-packages/sklearn/linear_model/_glm/_newton_solver.py:491: LinAlgWarning: The inner solver of NewtonCholeskySolver stumbled upon a singular or very ill-conditioned Hessian matrix at iteration #3. It will now resort to lbfgs instead.\n",
      "Further options are to use another solver or to avoid such situation in the first place. Possible remedies are removing collinear features of X or increasing the penalization strengths.\n",
      "The original Linear Algebra message was:\n",
      "Matrix is singular.\n",
      "  warnings.warn(\n",
      "/opt/mamba/lib/python3.10/site-packages/sklearn/linear_model/_glm/_newton_solver.py:491: LinAlgWarning: The inner solver of NewtonCholeskySolver stumbled upon a singular or very ill-conditioned Hessian matrix at iteration #3. It will now resort to lbfgs instead.\n",
      "Further options are to use another solver or to avoid such situation in the first place. Possible remedies are removing collinear features of X or increasing the penalization strengths.\n",
      "The original Linear Algebra message was:\n",
      "Matrix is singular.\n",
      "  warnings.warn(\n"
     ]
    },
    {
     "name": "stdout",
     "output_type": "stream",
     "text": [
      "[CV 10/10; 92/100] END C=10000, class_weight={0: 1, 1: 20}, solver=newton-cholesky;, score=0.293 total time=   2.5s\n",
      "[CV 2/10; 95/100] START C=10000, class_weight={0: 1, 1: 100}, solver=liblinear..\n",
      "[CV 3/10; 95/100] START C=10000, class_weight={0: 1, 1: 100}, solver=liblinear..\n",
      "[CV 4/10; 95/100] START C=10000, class_weight={0: 1, 1: 100}, solver=liblinear..\n"
     ]
    },
    {
     "name": "stderr",
     "output_type": "stream",
     "text": [
      "/opt/mamba/lib/python3.10/site-packages/sklearn/linear_model/_glm/_newton_solver.py:491: LinAlgWarning: The inner solver of NewtonCholeskySolver stumbled upon a singular or very ill-conditioned Hessian matrix at iteration #3. It will now resort to lbfgs instead.\n",
      "Further options are to use another solver or to avoid such situation in the first place. Possible remedies are removing collinear features of X or increasing the penalization strengths.\n",
      "The original Linear Algebra message was:\n",
      "Matrix is singular.\n",
      "  warnings.warn(\n",
      "/opt/mamba/lib/python3.10/site-packages/sklearn/linear_model/_glm/_newton_solver.py:195: ConvergenceWarning: lbfgs failed to converge (status=1):\n",
      "STOP: TOTAL NO. of ITERATIONS REACHED LIMIT.\n",
      "\n",
      "Increase the number of iterations (max_iter) or scale the data as shown in:\n",
      "    https://scikit-learn.org/stable/modules/preprocessing.html\n",
      "  self.n_iter_ = _check_optimize_result(\"lbfgs\", opt_res)\n",
      "/opt/mamba/lib/python3.10/site-packages/sklearn/linear_model/_glm/_newton_solver.py:491: LinAlgWarning: The inner solver of NewtonCholeskySolver stumbled upon a singular or very ill-conditioned Hessian matrix at iteration #3. It will now resort to lbfgs instead.\n",
      "Further options are to use another solver or to avoid such situation in the first place. Possible remedies are removing collinear features of X or increasing the penalization strengths.\n",
      "The original Linear Algebra message was:\n",
      "Matrix is singular.\n",
      "  warnings.warn(\n"
     ]
    },
    {
     "name": "stdout",
     "output_type": "stream",
     "text": [
      "[CV 2/10; 89/100] END C=10000, class_weight={0: 1, 1: 16}, solver=liblinear;, score=0.425 total time=   7.5s\n",
      "[CV 3/10; 92/100] END C=10000, class_weight={0: 1, 1: 20}, solver=newton-cholesky;, score=0.341 total time=   3.5s\n",
      "[CV 5/10; 95/100] START C=10000, class_weight={0: 1, 1: 100}, solver=liblinear..\n",
      "[CV 6/10; 95/100] START C=10000, class_weight={0: 1, 1: 100}, solver=liblinear..\n"
     ]
    },
    {
     "name": "stderr",
     "output_type": "stream",
     "text": [
      "/opt/mamba/lib/python3.10/site-packages/sklearn/linear_model/_glm/_newton_solver.py:195: ConvergenceWarning: lbfgs failed to converge (status=1):\n",
      "STOP: TOTAL NO. of ITERATIONS REACHED LIMIT.\n",
      "\n",
      "Increase the number of iterations (max_iter) or scale the data as shown in:\n",
      "    https://scikit-learn.org/stable/modules/preprocessing.html\n",
      "  self.n_iter_ = _check_optimize_result(\"lbfgs\", opt_res)\n"
     ]
    },
    {
     "name": "stdout",
     "output_type": "stream",
     "text": [
      "[CV 5/10; 87/100] END C=10000, class_weight={0: 1, 1: 15}, solver=liblinear;, score=0.452 total time=  10.4s\n",
      "[CV 8/10; 92/100] END C=10000, class_weight={0: 1, 1: 20}, solver=newton-cholesky;, score=0.271 total time=   3.2s\n",
      "[CV 7/10; 95/100] START C=10000, class_weight={0: 1, 1: 100}, solver=liblinear..\n",
      "[CV 8/10; 95/100] START C=10000, class_weight={0: 1, 1: 100}, solver=liblinear..\n",
      "[CV 8/10; 87/100] END C=10000, class_weight={0: 1, 1: 15}, solver=liblinear;, score=0.386 total time=   9.7s\n",
      "[CV 9/10; 95/100] START C=10000, class_weight={0: 1, 1: 100}, solver=liblinear..\n",
      "[CV 7/10; 89/100] END C=10000, class_weight={0: 1, 1: 16}, solver=liblinear;, score=0.446 total time=   8.1s\n",
      "[CV 10/10; 95/100] START C=10000, class_weight={0: 1, 1: 100}, solver=liblinear.\n",
      "[CV 1/10; 94/100] END C=10000, class_weight={0: 1, 1: 50}, solver=newton-cholesky;, score=-0.401 total time=   2.8s\n"
     ]
    },
    {
     "name": "stderr",
     "output_type": "stream",
     "text": [
      "/opt/mamba/lib/python3.10/site-packages/sklearn/linear_model/_glm/_newton_solver.py:195: ConvergenceWarning: lbfgs failed to converge (status=1):\n",
      "STOP: TOTAL NO. of ITERATIONS REACHED LIMIT.\n",
      "\n",
      "Increase the number of iterations (max_iter) or scale the data as shown in:\n",
      "    https://scikit-learn.org/stable/modules/preprocessing.html\n",
      "  self.n_iter_ = _check_optimize_result(\"lbfgs\", opt_res)\n"
     ]
    },
    {
     "name": "stdout",
     "output_type": "stream",
     "text": [
      "[CV 1/10; 96/100] START C=10000, class_weight={0: 1, 1: 100}, solver=newton-cholesky\n",
      "[CV 4/10; 87/100] END C=10000, class_weight={0: 1, 1: 15}, solver=liblinear;, score=0.476 total time=  11.9s\n",
      "[CV 2/10; 96/100] START C=10000, class_weight={0: 1, 1: 100}, solver=newton-cholesky\n",
      "[CV 6/10; 91/100] END C=10000, class_weight={0: 1, 1: 20}, solver=liblinear;, score=0.320 total time=   6.2s\n",
      "[CV 2/10; 94/100] END C=10000, class_weight={0: 1, 1: 50}, solver=newton-cholesky;, score=-0.229 total time=   2.9s\n",
      "[CV 5/10; 94/100] END C=10000, class_weight={0: 1, 1: 50}, solver=newton-cholesky;, score=-0.326 total time=   2.6s\n",
      "[CV 3/10; 96/100] START C=10000, class_weight={0: 1, 1: 100}, solver=newton-cholesky\n"
     ]
    },
    {
     "name": "stderr",
     "output_type": "stream",
     "text": [
      "/opt/mamba/lib/python3.10/site-packages/sklearn/linear_model/_glm/_newton_solver.py:195: ConvergenceWarning: lbfgs failed to converge (status=1):\n",
      "STOP: TOTAL NO. of ITERATIONS REACHED LIMIT.\n",
      "\n",
      "Increase the number of iterations (max_iter) or scale the data as shown in:\n",
      "    https://scikit-learn.org/stable/modules/preprocessing.html\n",
      "  self.n_iter_ = _check_optimize_result(\"lbfgs\", opt_res)\n",
      "/opt/mamba/lib/python3.10/site-packages/sklearn/linear_model/_glm/_newton_solver.py:491: LinAlgWarning: The inner solver of NewtonCholeskySolver stumbled upon a singular or very ill-conditioned Hessian matrix at iteration #3. It will now resort to lbfgs instead.\n",
      "Further options are to use another solver or to avoid such situation in the first place. Possible remedies are removing collinear features of X or increasing the penalization strengths.\n",
      "The original Linear Algebra message was:\n",
      "Matrix is singular.\n",
      "  warnings.warn(\n",
      "/opt/mamba/lib/python3.10/site-packages/sklearn/linear_model/_glm/_newton_solver.py:195: ConvergenceWarning: lbfgs failed to converge (status=1):\n",
      "STOP: TOTAL NO. of ITERATIONS REACHED LIMIT.\n",
      "\n",
      "Increase the number of iterations (max_iter) or scale the data as shown in:\n",
      "    https://scikit-learn.org/stable/modules/preprocessing.html\n",
      "  self.n_iter_ = _check_optimize_result(\"lbfgs\", opt_res)\n"
     ]
    },
    {
     "name": "stdout",
     "output_type": "stream",
     "text": [
      "[CV 8/10; 91/100] END C=10000, class_weight={0: 1, 1: 20}, solver=liblinear;, score=0.277 total time=   5.9s\n",
      "[CV 4/10; 96/100] START C=10000, class_weight={0: 1, 1: 100}, solver=newton-cholesky\n",
      "[CV 5/10; 96/100] START C=10000, class_weight={0: 1, 1: 100}, solver=newton-cholesky\n",
      "[CV 5/10; 91/100] END C=10000, class_weight={0: 1, 1: 20}, solver=liblinear;, score=0.340 total time=   6.6s\n",
      "[CV 6/10; 96/100] START C=10000, class_weight={0: 1, 1: 100}, solver=newton-cholesky\n",
      "[CV 7/10; 96/100] START C=10000, class_weight={0: 1, 1: 100}, solver=newton-cholesky\n"
     ]
    },
    {
     "name": "stderr",
     "output_type": "stream",
     "text": [
      "/opt/mamba/lib/python3.10/site-packages/sklearn/linear_model/_glm/_newton_solver.py:491: LinAlgWarning: The inner solver of NewtonCholeskySolver stumbled upon a singular or very ill-conditioned Hessian matrix at iteration #1. It will now resort to lbfgs instead.\n",
      "Further options are to use another solver or to avoid such situation in the first place. Possible remedies are removing collinear features of X or increasing the penalization strengths.\n",
      "The original Linear Algebra message was:\n",
      "Ill-conditioned matrix (rcond=1.0944e-16): result may not be accurate.\n",
      "  warnings.warn(\n",
      "/opt/mamba/lib/python3.10/site-packages/sklearn/linear_model/_glm/_newton_solver.py:491: LinAlgWarning: The inner solver of NewtonCholeskySolver stumbled upon a singular or very ill-conditioned Hessian matrix at iteration #3. It will now resort to lbfgs instead.\n",
      "Further options are to use another solver or to avoid such situation in the first place. Possible remedies are removing collinear features of X or increasing the penalization strengths.\n",
      "The original Linear Algebra message was:\n",
      "Matrix is singular.\n",
      "  warnings.warn(\n",
      "/opt/mamba/lib/python3.10/site-packages/sklearn/linear_model/_glm/_newton_solver.py:195: ConvergenceWarning: lbfgs failed to converge (status=1):\n",
      "STOP: TOTAL NO. of ITERATIONS REACHED LIMIT.\n",
      "\n",
      "Increase the number of iterations (max_iter) or scale the data as shown in:\n",
      "    https://scikit-learn.org/stable/modules/preprocessing.html\n",
      "  self.n_iter_ = _check_optimize_result(\"lbfgs\", opt_res)\n",
      "/opt/mamba/lib/python3.10/site-packages/sklearn/linear_model/_glm/_newton_solver.py:491: LinAlgWarning: The inner solver of NewtonCholeskySolver stumbled upon a singular or very ill-conditioned Hessian matrix at iteration #3. It will now resort to lbfgs instead.\n",
      "Further options are to use another solver or to avoid such situation in the first place. Possible remedies are removing collinear features of X or increasing the penalization strengths.\n",
      "The original Linear Algebra message was:\n",
      "Matrix is singular.\n",
      "  warnings.warn(\n",
      "/opt/mamba/lib/python3.10/site-packages/sklearn/linear_model/_glm/_newton_solver.py:491: LinAlgWarning: The inner solver of NewtonCholeskySolver stumbled upon a singular or very ill-conditioned Hessian matrix at iteration #3. It will now resort to lbfgs instead.\n",
      "Further options are to use another solver or to avoid such situation in the first place. Possible remedies are removing collinear features of X or increasing the penalization strengths.\n",
      "The original Linear Algebra message was:\n",
      "Matrix is singular.\n",
      "  warnings.warn(\n"
     ]
    },
    {
     "name": "stdout",
     "output_type": "stream",
     "text": [
      "[CV 4/10; 91/100] END C=10000, class_weight={0: 1, 1: 20}, solver=liblinear;, score=0.336 total time=   6.9s\n",
      "[CV 9/10; 94/100] END C=10000, class_weight={0: 1, 1: 50}, solver=newton-cholesky;, score=-0.341 total time=   2.5s\n",
      "[CV 8/10; 96/100] START C=10000, class_weight={0: 1, 1: 100}, solver=newton-cholesky\n",
      "[CV 2/10; 91/100] END C=10000, class_weight={0: 1, 1: 20}, solver=liblinear;, score=0.329 total time=   7.1s\n",
      "[CV 9/10; 96/100] START C=10000, class_weight={0: 1, 1: 100}, solver=newton-cholesky\n",
      "[CV 10/10; 96/100] START C=10000, class_weight={0: 1, 1: 100}, solver=newton-cholesky\n"
     ]
    },
    {
     "name": "stderr",
     "output_type": "stream",
     "text": [
      "/opt/mamba/lib/python3.10/site-packages/sklearn/linear_model/_glm/_newton_solver.py:195: ConvergenceWarning: lbfgs failed to converge (status=1):\n",
      "STOP: TOTAL NO. of ITERATIONS REACHED LIMIT.\n",
      "\n",
      "Increase the number of iterations (max_iter) or scale the data as shown in:\n",
      "    https://scikit-learn.org/stable/modules/preprocessing.html\n",
      "  self.n_iter_ = _check_optimize_result(\"lbfgs\", opt_res)\n",
      "/opt/mamba/lib/python3.10/site-packages/sklearn/linear_model/_glm/_newton_solver.py:491: LinAlgWarning: The inner solver of NewtonCholeskySolver stumbled upon a singular or very ill-conditioned Hessian matrix at iteration #3. It will now resort to lbfgs instead.\n",
      "Further options are to use another solver or to avoid such situation in the first place. Possible remedies are removing collinear features of X or increasing the penalization strengths.\n",
      "The original Linear Algebra message was:\n",
      "Matrix is singular.\n",
      "  warnings.warn(\n",
      "/opt/mamba/lib/python3.10/site-packages/sklearn/linear_model/_glm/_newton_solver.py:195: ConvergenceWarning: lbfgs failed to converge (status=1):\n",
      "STOP: TOTAL NO. of ITERATIONS REACHED LIMIT.\n",
      "\n",
      "Increase the number of iterations (max_iter) or scale the data as shown in:\n",
      "    https://scikit-learn.org/stable/modules/preprocessing.html\n",
      "  self.n_iter_ = _check_optimize_result(\"lbfgs\", opt_res)\n",
      "/opt/mamba/lib/python3.10/site-packages/sklearn/linear_model/_glm/_newton_solver.py:491: LinAlgWarning: The inner solver of NewtonCholeskySolver stumbled upon a singular or very ill-conditioned Hessian matrix at iteration #3. It will now resort to lbfgs instead.\n",
      "Further options are to use another solver or to avoid such situation in the first place. Possible remedies are removing collinear features of X or increasing the penalization strengths.\n",
      "The original Linear Algebra message was:\n",
      "Matrix is singular.\n",
      "  warnings.warn(\n",
      "/opt/mamba/lib/python3.10/site-packages/sklearn/linear_model/_glm/_newton_solver.py:491: LinAlgWarning: The inner solver of NewtonCholeskySolver stumbled upon a singular or very ill-conditioned Hessian matrix at iteration #1. It will now resort to lbfgs instead.\n",
      "Further options are to use another solver or to avoid such situation in the first place. Possible remedies are removing collinear features of X or increasing the penalization strengths.\n",
      "The original Linear Algebra message was:\n",
      "Ill-conditioned matrix (rcond=1.1008e-16): result may not be accurate.\n",
      "  warnings.warn(\n",
      "/opt/mamba/lib/python3.10/site-packages/sklearn/linear_model/_glm/_newton_solver.py:491: LinAlgWarning: The inner solver of NewtonCholeskySolver stumbled upon a singular or very ill-conditioned Hessian matrix at iteration #3. It will now resort to lbfgs instead.\n",
      "Further options are to use another solver or to avoid such situation in the first place. Possible remedies are removing collinear features of X or increasing the penalization strengths.\n",
      "The original Linear Algebra message was:\n",
      "Matrix is singular.\n",
      "  warnings.warn(\n"
     ]
    },
    {
     "name": "stdout",
     "output_type": "stream",
     "text": [
      "[CV 7/10; 91/100] END C=10000, class_weight={0: 1, 1: 20}, solver=liblinear;, score=0.342 total time=   6.5s\n",
      "[CV 7/10; 94/100] END C=10000, class_weight={0: 1, 1: 50}, solver=newton-cholesky;, score=-0.280 total time=   2.9s\n",
      "[CV 1/10; 97/100] START C=10000, class_weight={0: 1, 1: 150}, solver=liblinear..\n",
      "[CV 3/10; 94/100] END C=10000, class_weight={0: 1, 1: 50}, solver=newton-cholesky;, score=-0.236 total time=   3.5s\n",
      "[CV 2/10; 97/100] START C=10000, class_weight={0: 1, 1: 150}, solver=liblinear..\n",
      "[CV 4/10; 96/100] END C=10000, class_weight={0: 1, 1: 100}, solver=newton-cholesky;, score=-0.591 total time=   0.7s\n",
      "[CV 3/10; 97/100] START C=10000, class_weight={0: 1, 1: 150}, solver=liblinear..\n",
      "[CV 4/10; 97/100] START C=10000, class_weight={0: 1, 1: 150}, solver=liblinear..\n",
      "[CV 3/10; 91/100] END C=10000, class_weight={0: 1, 1: 20}, solver=liblinear;, score=0.333 total time=   7.5s\n",
      "[CV 5/10; 97/100] START C=10000, class_weight={0: 1, 1: 150}, solver=liblinear..\n",
      "[CV 8/10; 94/100] END C=10000, class_weight={0: 1, 1: 50}, solver=newton-cholesky;, score=-0.356 total time=   3.2s\n"
     ]
    },
    {
     "name": "stderr",
     "output_type": "stream",
     "text": [
      "/opt/mamba/lib/python3.10/site-packages/sklearn/linear_model/_glm/_newton_solver.py:195: ConvergenceWarning: lbfgs failed to converge (status=1):\n",
      "STOP: TOTAL NO. of ITERATIONS REACHED LIMIT.\n",
      "\n",
      "Increase the number of iterations (max_iter) or scale the data as shown in:\n",
      "    https://scikit-learn.org/stable/modules/preprocessing.html\n",
      "  self.n_iter_ = _check_optimize_result(\"lbfgs\", opt_res)\n"
     ]
    },
    {
     "name": "stdout",
     "output_type": "stream",
     "text": [
      "[CV 6/10; 97/100] START C=10000, class_weight={0: 1, 1: 150}, solver=liblinear..\n",
      "[CV 5/10; 93/100] END C=10000, class_weight={0: 1, 1: 50}, solver=liblinear;, score=-0.308 total time=   5.2s\n",
      "[CV 7/10; 97/100] START C=10000, class_weight={0: 1, 1: 150}, solver=liblinear..\n"
     ]
    },
    {
     "name": "stderr",
     "output_type": "stream",
     "text": [
      "/opt/mamba/lib/python3.10/site-packages/sklearn/linear_model/_glm/_newton_solver.py:195: ConvergenceWarning: lbfgs failed to converge (status=1):\n",
      "STOP: TOTAL NO. of ITERATIONS REACHED LIMIT.\n",
      "\n",
      "Increase the number of iterations (max_iter) or scale the data as shown in:\n",
      "    https://scikit-learn.org/stable/modules/preprocessing.html\n",
      "  self.n_iter_ = _check_optimize_result(\"lbfgs\", opt_res)\n"
     ]
    },
    {
     "name": "stdout",
     "output_type": "stream",
     "text": [
      "[CV 6/10; 94/100] END C=10000, class_weight={0: 1, 1: 50}, solver=newton-cholesky;, score=-0.237 total time=   3.7s\n",
      "[CV 8/10; 97/100] START C=10000, class_weight={0: 1, 1: 150}, solver=liblinear..\n",
      "[CV 5/10; 95/100] END C=10000, class_weight={0: 1, 1: 100}, solver=liblinear;, score=-0.683 total time=   3.2s\n",
      "[CV 9/10; 97/100] START C=10000, class_weight={0: 1, 1: 150}, solver=liblinear..\n",
      "[CV 1/10; 91/100] END C=10000, class_weight={0: 1, 1: 20}, solver=liblinear;, score=0.249 total time=   8.8s\n",
      "[CV 10/10; 97/100] START C=10000, class_weight={0: 1, 1: 150}, solver=liblinear.\n",
      "[CV 1/10; 93/100] END C=10000, class_weight={0: 1, 1: 50}, solver=liblinear;, score=-0.399 total time=   6.6s\n",
      "[CV 8/10; 95/100] END C=10000, class_weight={0: 1, 1: 100}, solver=liblinear;, score=-0.734 total time=   3.6s\n",
      "[CV 1/10; 98/100] START C=10000, class_weight={0: 1, 1: 150}, solver=newton-cholesky\n",
      "[CV 2/10; 98/100] START C=10000, class_weight={0: 1, 1: 150}, solver=newton-cholesky\n",
      "[CV 6/10; 93/100] END C=10000, class_weight={0: 1, 1: 50}, solver=liblinear;, score=-0.234 total time=   6.3s\n",
      "[CV 2/10; 96/100] END C=10000, class_weight={0: 1, 1: 100}, solver=newton-cholesky;, score=-0.682 total time=   2.5s\n",
      "[CV 3/10; 98/100] START C=10000, class_weight={0: 1, 1: 150}, solver=newton-cholesky\n",
      "[CV 2/10; 93/100] END C=10000, class_weight={0: 1, 1: 50}, solver=liblinear;, score=-0.220 total time=   6.7s\n"
     ]
    },
    {
     "name": "stderr",
     "output_type": "stream",
     "text": [
      "/opt/mamba/lib/python3.10/site-packages/sklearn/linear_model/_glm/_newton_solver.py:195: ConvergenceWarning: lbfgs failed to converge (status=1):\n",
      "STOP: TOTAL NO. of ITERATIONS REACHED LIMIT.\n",
      "\n",
      "Increase the number of iterations (max_iter) or scale the data as shown in:\n",
      "    https://scikit-learn.org/stable/modules/preprocessing.html\n",
      "  self.n_iter_ = _check_optimize_result(\"lbfgs\", opt_res)\n",
      "/opt/mamba/lib/python3.10/site-packages/sklearn/linear_model/_glm/_newton_solver.py:491: LinAlgWarning: The inner solver of NewtonCholeskySolver stumbled upon a singular or very ill-conditioned Hessian matrix at iteration #1. It will now resort to lbfgs instead.\n",
      "Further options are to use another solver or to avoid such situation in the first place. Possible remedies are removing collinear features of X or increasing the penalization strengths.\n",
      "The original Linear Algebra message was:\n",
      "Ill-conditioned matrix (rcond=8.31231e-17): result may not be accurate.\n",
      "  warnings.warn(\n",
      "/opt/mamba/lib/python3.10/site-packages/sklearn/linear_model/_glm/_newton_solver.py:195: ConvergenceWarning: lbfgs failed to converge (status=1):\n",
      "STOP: TOTAL NO. of ITERATIONS REACHED LIMIT.\n",
      "\n",
      "Increase the number of iterations (max_iter) or scale the data as shown in:\n",
      "    https://scikit-learn.org/stable/modules/preprocessing.html\n",
      "  self.n_iter_ = _check_optimize_result(\"lbfgs\", opt_res)\n",
      "/opt/mamba/lib/python3.10/site-packages/sklearn/linear_model/_glm/_newton_solver.py:195: ConvergenceWarning: lbfgs failed to converge (status=1):\n",
      "STOP: TOTAL NO. of ITERATIONS REACHED LIMIT.\n",
      "\n",
      "Increase the number of iterations (max_iter) or scale the data as shown in:\n",
      "    https://scikit-learn.org/stable/modules/preprocessing.html\n",
      "  self.n_iter_ = _check_optimize_result(\"lbfgs\", opt_res)\n",
      "/opt/mamba/lib/python3.10/site-packages/sklearn/linear_model/_glm/_newton_solver.py:491: LinAlgWarning: The inner solver of NewtonCholeskySolver stumbled upon a singular or very ill-conditioned Hessian matrix at iteration #1. It will now resort to lbfgs instead.\n",
      "Further options are to use another solver or to avoid such situation in the first place. Possible remedies are removing collinear features of X or increasing the penalization strengths.\n",
      "The original Linear Algebra message was:\n",
      "Ill-conditioned matrix (rcond=7.975e-17): result may not be accurate.\n",
      "  warnings.warn(\n"
     ]
    },
    {
     "name": "stdout",
     "output_type": "stream",
     "text": [
      "[CV 4/10; 98/100] START C=10000, class_weight={0: 1, 1: 150}, solver=newton-cholesky\n",
      "[CV 10/10; 94/100] END C=10000, class_weight={0: 1, 1: 50}, solver=newton-cholesky;, score=-0.299 total time=   4.6s\n",
      "[CV 3/10; 96/100] END C=10000, class_weight={0: 1, 1: 100}, solver=newton-cholesky;, score=-0.596 total time=   2.6s\n",
      "[CV 5/10; 98/100] START C=10000, class_weight={0: 1, 1: 150}, solver=newton-cholesky\n",
      "[CV 6/10; 98/100] START C=10000, class_weight={0: 1, 1: 150}, solver=newton-cholesky\n",
      "[CV 7/10; 98/100] START C=10000, class_weight={0: 1, 1: 150}, solver=newton-cholesky\n"
     ]
    },
    {
     "name": "stderr",
     "output_type": "stream",
     "text": [
      "/opt/mamba/lib/python3.10/site-packages/sklearn/linear_model/_glm/_newton_solver.py:491: LinAlgWarning: The inner solver of NewtonCholeskySolver stumbled upon a singular or very ill-conditioned Hessian matrix at iteration #1. It will now resort to lbfgs instead.\n",
      "Further options are to use another solver or to avoid such situation in the first place. Possible remedies are removing collinear features of X or increasing the penalization strengths.\n",
      "The original Linear Algebra message was:\n",
      "Ill-conditioned matrix (rcond=8.66405e-17): result may not be accurate.\n",
      "  warnings.warn(\n",
      "/opt/mamba/lib/python3.10/site-packages/sklearn/linear_model/_glm/_newton_solver.py:491: LinAlgWarning: The inner solver of NewtonCholeskySolver stumbled upon a singular or very ill-conditioned Hessian matrix at iteration #1. It will now resort to lbfgs instead.\n",
      "Further options are to use another solver or to avoid such situation in the first place. Possible remedies are removing collinear features of X or increasing the penalization strengths.\n",
      "The original Linear Algebra message was:\n",
      "Ill-conditioned matrix (rcond=8.56694e-17): result may not be accurate.\n",
      "  warnings.warn(\n",
      "/opt/mamba/lib/python3.10/site-packages/sklearn/linear_model/_glm/_newton_solver.py:491: LinAlgWarning: The inner solver of NewtonCholeskySolver stumbled upon a singular or very ill-conditioned Hessian matrix at iteration #1. It will now resort to lbfgs instead.\n",
      "Further options are to use another solver or to avoid such situation in the first place. Possible remedies are removing collinear features of X or increasing the penalization strengths.\n",
      "The original Linear Algebra message was:\n",
      "Ill-conditioned matrix (rcond=8.20694e-17): result may not be accurate.\n",
      "  warnings.warn(\n",
      "/opt/mamba/lib/python3.10/site-packages/sklearn/linear_model/_glm/_newton_solver.py:195: ConvergenceWarning: lbfgs failed to converge (status=1):\n",
      "STOP: TOTAL NO. of ITERATIONS REACHED LIMIT.\n",
      "\n",
      "Increase the number of iterations (max_iter) or scale the data as shown in:\n",
      "    https://scikit-learn.org/stable/modules/preprocessing.html\n",
      "  self.n_iter_ = _check_optimize_result(\"lbfgs\", opt_res)\n"
     ]
    },
    {
     "name": "stdout",
     "output_type": "stream",
     "text": [
      "[CV 4/10; 93/100] END C=10000, class_weight={0: 1, 1: 50}, solver=liblinear;, score=-0.228 total time=   6.8s\n",
      "[CV 9/10; 91/100] END C=10000, class_weight={0: 1, 1: 20}, solver=liblinear;, score=0.280 total time=   8.3s\n",
      "[CV 1/10; 95/100] END C=10000, class_weight={0: 1, 1: 100}, solver=liblinear;, score=-0.801 total time=   4.8s\n",
      "[CV 8/10; 98/100] START C=10000, class_weight={0: 1, 1: 150}, solver=newton-cholesky\n",
      "[CV 5/10; 96/100] END C=10000, class_weight={0: 1, 1: 100}, solver=newton-cholesky;, score=-0.705 total time=   2.8s\n",
      "[CV 9/10; 98/100] START C=10000, class_weight={0: 1, 1: 150}, solver=newton-cholesky\n",
      "[CV 10/10; 98/100] START C=10000, class_weight={0: 1, 1: 150}, solver=newton-cholesky\n",
      "[CV 10/10; 91/100] END C=10000, class_weight={0: 1, 1: 20}, solver=liblinear;, score=0.292 total time=   8.4s\n"
     ]
    },
    {
     "name": "stderr",
     "output_type": "stream",
     "text": [
      "/opt/mamba/lib/python3.10/site-packages/sklearn/linear_model/_glm/_newton_solver.py:491: LinAlgWarning: The inner solver of NewtonCholeskySolver stumbled upon a singular or very ill-conditioned Hessian matrix at iteration #1. It will now resort to lbfgs instead.\n",
      "Further options are to use another solver or to avoid such situation in the first place. Possible remedies are removing collinear features of X or increasing the penalization strengths.\n",
      "The original Linear Algebra message was:\n",
      "Ill-conditioned matrix (rcond=8.37134e-17): result may not be accurate.\n",
      "  warnings.warn(\n",
      "/opt/mamba/lib/python3.10/site-packages/sklearn/linear_model/_glm/_newton_solver.py:491: LinAlgWarning: The inner solver of NewtonCholeskySolver stumbled upon a singular or very ill-conditioned Hessian matrix at iteration #1. It will now resort to lbfgs instead.\n",
      "Further options are to use another solver or to avoid such situation in the first place. Possible remedies are removing collinear features of X or increasing the penalization strengths.\n",
      "The original Linear Algebra message was:\n",
      "Ill-conditioned matrix (rcond=8.09776e-17): result may not be accurate.\n",
      "  warnings.warn(\n",
      "/opt/mamba/lib/python3.10/site-packages/sklearn/linear_model/_glm/_newton_solver.py:491: LinAlgWarning: The inner solver of NewtonCholeskySolver stumbled upon a singular or very ill-conditioned Hessian matrix at iteration #1. It will now resort to lbfgs instead.\n",
      "Further options are to use another solver or to avoid such situation in the first place. Possible remedies are removing collinear features of X or increasing the penalization strengths.\n",
      "The original Linear Algebra message was:\n",
      "Ill-conditioned matrix (rcond=8.48088e-17): result may not be accurate.\n",
      "  warnings.warn(\n",
      "/opt/mamba/lib/python3.10/site-packages/sklearn/linear_model/_glm/_newton_solver.py:195: ConvergenceWarning: lbfgs failed to converge (status=1):\n",
      "STOP: TOTAL NO. of ITERATIONS REACHED LIMIT.\n",
      "\n",
      "Increase the number of iterations (max_iter) or scale the data as shown in:\n",
      "    https://scikit-learn.org/stable/modules/preprocessing.html\n",
      "  self.n_iter_ = _check_optimize_result(\"lbfgs\", opt_res)\n",
      "/opt/mamba/lib/python3.10/site-packages/sklearn/linear_model/_glm/_newton_solver.py:195: ConvergenceWarning: lbfgs failed to converge (status=1):\n",
      "STOP: TOTAL NO. of ITERATIONS REACHED LIMIT.\n",
      "\n",
      "Increase the number of iterations (max_iter) or scale the data as shown in:\n",
      "    https://scikit-learn.org/stable/modules/preprocessing.html\n",
      "  self.n_iter_ = _check_optimize_result(\"lbfgs\", opt_res)\n",
      "/opt/mamba/lib/python3.10/site-packages/sklearn/linear_model/_glm/_newton_solver.py:491: LinAlgWarning: The inner solver of NewtonCholeskySolver stumbled upon a singular or very ill-conditioned Hessian matrix at iteration #1. It will now resort to lbfgs instead.\n",
      "Further options are to use another solver or to avoid such situation in the first place. Possible remedies are removing collinear features of X or increasing the penalization strengths.\n",
      "The original Linear Algebra message was:\n",
      "Ill-conditioned matrix (rcond=8.22132e-17): result may not be accurate.\n",
      "  warnings.warn(\n"
     ]
    },
    {
     "name": "stdout",
     "output_type": "stream",
     "text": [
      "[CV 1/10; 99/100] START C=10000, class_weight={0: 1, 1: 1000}, solver=liblinear.\n",
      "[CV 6/10; 95/100] END C=10000, class_weight={0: 1, 1: 100}, solver=liblinear;, score=-0.561 total time=   4.6s\n",
      "[CV 7/10; 93/100] END C=10000, class_weight={0: 1, 1: 50}, solver=liblinear;, score=-0.273 total time=   6.8s\n",
      "[CV 2/10; 99/100] START C=10000, class_weight={0: 1, 1: 1000}, solver=liblinear.\n",
      "[CV 10/10; 96/100] END C=10000, class_weight={0: 1, 1: 100}, solver=newton-cholesky;, score=-0.773 total time=   2.5s\n",
      "[CV 1/10; 96/100] END C=10000, class_weight={0: 1, 1: 100}, solver=newton-cholesky;, score=-0.812 total time=   3.5s\n",
      "[CV 3/10; 99/100] START C=10000, class_weight={0: 1, 1: 1000}, solver=liblinear.\n",
      "[CV 4/10; 99/100] START C=10000, class_weight={0: 1, 1: 1000}, solver=liblinear.\n",
      "[CV 9/10; 93/100] END C=10000, class_weight={0: 1, 1: 50}, solver=liblinear;, score=-0.328 total time=   6.7s\n"
     ]
    },
    {
     "name": "stderr",
     "output_type": "stream",
     "text": [
      "/opt/mamba/lib/python3.10/site-packages/sklearn/linear_model/_glm/_newton_solver.py:491: LinAlgWarning: The inner solver of NewtonCholeskySolver stumbled upon a singular or very ill-conditioned Hessian matrix at iteration #1. It will now resort to lbfgs instead.\n",
      "Further options are to use another solver or to avoid such situation in the first place. Possible remedies are removing collinear features of X or increasing the penalization strengths.\n",
      "The original Linear Algebra message was:\n",
      "Ill-conditioned matrix (rcond=8.01792e-17): result may not be accurate.\n",
      "  warnings.warn(\n"
     ]
    },
    {
     "name": "stdout",
     "output_type": "stream",
     "text": [
      "[CV 5/10; 99/100] START C=10000, class_weight={0: 1, 1: 1000}, solver=liblinear.\n",
      "[CV 6/10; 99/100] START C=10000, class_weight={0: 1, 1: 1000}, solver=liblinear.\n",
      "[CV 7/10; 99/100] START C=10000, class_weight={0: 1, 1: 1000}, solver=liblinear.\n",
      "[CV 2/10; 95/100] END C=10000, class_weight={0: 1, 1: 100}, solver=liblinear;, score=-0.571 total time=   5.3s\n",
      "[CV 8/10; 99/100] START C=10000, class_weight={0: 1, 1: 1000}, solver=liblinear.\n"
     ]
    },
    {
     "name": "stderr",
     "output_type": "stream",
     "text": [
      "/opt/mamba/lib/python3.10/site-packages/sklearn/linear_model/_glm/_newton_solver.py:195: ConvergenceWarning: lbfgs failed to converge (status=1):\n",
      "STOP: TOTAL NO. of ITERATIONS REACHED LIMIT.\n",
      "\n",
      "Increase the number of iterations (max_iter) or scale the data as shown in:\n",
      "    https://scikit-learn.org/stable/modules/preprocessing.html\n",
      "  self.n_iter_ = _check_optimize_result(\"lbfgs\", opt_res)\n",
      "/opt/mamba/lib/python3.10/site-packages/sklearn/linear_model/_glm/_newton_solver.py:195: ConvergenceWarning: lbfgs failed to converge (status=1):\n",
      "STOP: TOTAL NO. of ITERATIONS REACHED LIMIT.\n",
      "\n",
      "Increase the number of iterations (max_iter) or scale the data as shown in:\n",
      "    https://scikit-learn.org/stable/modules/preprocessing.html\n",
      "  self.n_iter_ = _check_optimize_result(\"lbfgs\", opt_res)\n",
      "/opt/mamba/lib/python3.10/site-packages/sklearn/linear_model/_glm/_newton_solver.py:195: ConvergenceWarning: lbfgs failed to converge (status=1):\n",
      "STOP: TOTAL NO. of ITERATIONS REACHED LIMIT.\n",
      "\n",
      "Increase the number of iterations (max_iter) or scale the data as shown in:\n",
      "    https://scikit-learn.org/stable/modules/preprocessing.html\n",
      "  self.n_iter_ = _check_optimize_result(\"lbfgs\", opt_res)\n"
     ]
    },
    {
     "name": "stdout",
     "output_type": "stream",
     "text": [
      "[CV 6/10; 96/100] END C=10000, class_weight={0: 1, 1: 100}, solver=newton-cholesky;, score=-0.587 total time=   3.3s\n",
      "[CV 8/10; 93/100] END C=10000, class_weight={0: 1, 1: 50}, solver=liblinear;, score=-0.341 total time=   7.2s\n",
      "[CV 9/10; 99/100] START C=10000, class_weight={0: 1, 1: 1000}, solver=liblinear.\n",
      "[CV 8/10; 96/100] END C=10000, class_weight={0: 1, 1: 100}, solver=newton-cholesky;, score=-0.740 total time=   3.1s\n",
      "[CV 10/10; 99/100] START C=10000, class_weight={0: 1, 1: 1000}, solver=liblinear\n",
      "[CV 7/10; 96/100] END C=10000, class_weight={0: 1, 1: 100}, solver=newton-cholesky;, score=-0.689 total time=   3.3s\n",
      "[CV 1/10; 100/100] START C=10000, class_weight={0: 1, 1: 1000}, solver=newton-cholesky\n"
     ]
    },
    {
     "name": "stderr",
     "output_type": "stream",
     "text": [
      "/opt/mamba/lib/python3.10/site-packages/sklearn/linear_model/_glm/_newton_solver.py:195: ConvergenceWarning: lbfgs failed to converge (status=1):\n",
      "STOP: TOTAL NO. of ITERATIONS REACHED LIMIT.\n",
      "\n",
      "Increase the number of iterations (max_iter) or scale the data as shown in:\n",
      "    https://scikit-learn.org/stable/modules/preprocessing.html\n",
      "  self.n_iter_ = _check_optimize_result(\"lbfgs\", opt_res)\n"
     ]
    },
    {
     "name": "stdout",
     "output_type": "stream",
     "text": [
      "[CV 2/10; 100/100] START C=10000, class_weight={0: 1, 1: 1000}, solver=newton-cholesky\n",
      "[CV 9/10; 96/100] END C=10000, class_weight={0: 1, 1: 100}, solver=newton-cholesky;, score=-0.712 total time=   3.2s\n",
      "[CV 9/10; 95/100] END C=10000, class_weight={0: 1, 1: 100}, solver=liblinear;, score=-0.685 total time=   4.9s\n",
      "[CV 3/10; 100/100] START C=10000, class_weight={0: 1, 1: 1000}, solver=newton-cholesky\n",
      "[CV 4/10; 100/100] START C=10000, class_weight={0: 1, 1: 1000}, solver=newton-cholesky\n"
     ]
    },
    {
     "name": "stderr",
     "output_type": "stream",
     "text": [
      "/opt/mamba/lib/python3.10/site-packages/sklearn/linear_model/_glm/_newton_solver.py:491: LinAlgWarning: The inner solver of NewtonCholeskySolver stumbled upon a singular or very ill-conditioned Hessian matrix at iteration #1. It will now resort to lbfgs instead.\n",
      "Further options are to use another solver or to avoid such situation in the first place. Possible remedies are removing collinear features of X or increasing the penalization strengths.\n",
      "The original Linear Algebra message was:\n",
      "Ill-conditioned matrix (rcond=1.49294e-17): result may not be accurate.\n",
      "  warnings.warn(\n",
      "/opt/mamba/lib/python3.10/site-packages/sklearn/linear_model/_glm/_newton_solver.py:491: LinAlgWarning: The inner solver of NewtonCholeskySolver stumbled upon a singular or very ill-conditioned Hessian matrix at iteration #1. It will now resort to lbfgs instead.\n",
      "Further options are to use another solver or to avoid such situation in the first place. Possible remedies are removing collinear features of X or increasing the penalization strengths.\n",
      "The original Linear Algebra message was:\n",
      "Ill-conditioned matrix (rcond=1.41668e-17): result may not be accurate.\n",
      "  warnings.warn(\n",
      "/opt/mamba/lib/python3.10/site-packages/sklearn/linear_model/_glm/_newton_solver.py:491: LinAlgWarning: The inner solver of NewtonCholeskySolver stumbled upon a singular or very ill-conditioned Hessian matrix at iteration #1. It will now resort to lbfgs instead.\n",
      "Further options are to use another solver or to avoid such situation in the first place. Possible remedies are removing collinear features of X or increasing the penalization strengths.\n",
      "The original Linear Algebra message was:\n",
      "Ill-conditioned matrix (rcond=1.56894e-17): result may not be accurate.\n",
      "  warnings.warn(\n"
     ]
    },
    {
     "name": "stdout",
     "output_type": "stream",
     "text": [
      "[CV 3/10; 97/100] END C=10000, class_weight={0: 1, 1: 150}, solver=liblinear;, score=-0.702 total time=   3.1s\n",
      "[CV 5/10; 100/100] START C=10000, class_weight={0: 1, 1: 1000}, solver=newton-cholesky\n"
     ]
    },
    {
     "name": "stderr",
     "output_type": "stream",
     "text": [
      "/opt/mamba/lib/python3.10/site-packages/sklearn/linear_model/_glm/_newton_solver.py:491: LinAlgWarning: The inner solver of NewtonCholeskySolver stumbled upon a singular or very ill-conditioned Hessian matrix at iteration #1. It will now resort to lbfgs instead.\n",
      "Further options are to use another solver or to avoid such situation in the first place. Possible remedies are removing collinear features of X or increasing the penalization strengths.\n",
      "The original Linear Algebra message was:\n",
      "Ill-conditioned matrix (rcond=1.54964e-17): result may not be accurate.\n",
      "  warnings.warn(\n",
      "/opt/mamba/lib/python3.10/site-packages/sklearn/linear_model/_glm/_newton_solver.py:491: LinAlgWarning: The inner solver of NewtonCholeskySolver stumbled upon a singular or very ill-conditioned Hessian matrix at iteration #1. It will now resort to lbfgs instead.\n",
      "Further options are to use another solver or to avoid such situation in the first place. Possible remedies are removing collinear features of X or increasing the penalization strengths.\n",
      "The original Linear Algebra message was:\n",
      "Ill-conditioned matrix (rcond=1.46688e-17): result may not be accurate.\n",
      "  warnings.warn(\n"
     ]
    },
    {
     "name": "stdout",
     "output_type": "stream",
     "text": [
      "[CV 4/10; 95/100] END C=10000, class_weight={0: 1, 1: 100}, solver=liblinear;, score=-0.591 total time=   6.0s\n",
      "[CV 6/10; 100/100] START C=10000, class_weight={0: 1, 1: 1000}, solver=newton-cholesky\n",
      "[CV 4/10; 97/100] END C=10000, class_weight={0: 1, 1: 150}, solver=liblinear;, score=-0.720 total time=   3.4s\n",
      "[CV 7/10; 100/100] START C=10000, class_weight={0: 1, 1: 1000}, solver=newton-cholesky\n"
     ]
    },
    {
     "name": "stderr",
     "output_type": "stream",
     "text": [
      "/opt/mamba/lib/python3.10/site-packages/sklearn/linear_model/_glm/_newton_solver.py:491: LinAlgWarning: The inner solver of NewtonCholeskySolver stumbled upon a singular or very ill-conditioned Hessian matrix at iteration #1. It will now resort to lbfgs instead.\n",
      "Further options are to use another solver or to avoid such situation in the first place. Possible remedies are removing collinear features of X or increasing the penalization strengths.\n",
      "The original Linear Algebra message was:\n",
      "Ill-conditioned matrix (rcond=1.5031e-17): result may not be accurate.\n",
      "  warnings.warn(\n",
      "/opt/mamba/lib/python3.10/site-packages/sklearn/linear_model/_glm/_newton_solver.py:491: LinAlgWarning: The inner solver of NewtonCholeskySolver stumbled upon a singular or very ill-conditioned Hessian matrix at iteration #1. It will now resort to lbfgs instead.\n",
      "Further options are to use another solver or to avoid such situation in the first place. Possible remedies are removing collinear features of X or increasing the penalization strengths.\n",
      "The original Linear Algebra message was:\n",
      "Ill-conditioned matrix (rcond=1.43879e-17): result may not be accurate.\n",
      "  warnings.warn(\n"
     ]
    },
    {
     "name": "stdout",
     "output_type": "stream",
     "text": [
      "[CV 3/10; 95/100] END C=10000, class_weight={0: 1, 1: 100}, solver=liblinear;, score=-0.579 total time=   6.4s\n",
      "[CV 8/10; 100/100] START C=10000, class_weight={0: 1, 1: 1000}, solver=newton-cholesky\n",
      "[CV 9/10; 97/100] END C=10000, class_weight={0: 1, 1: 150}, solver=liblinear;, score=-0.813 total time=   3.1s\n"
     ]
    },
    {
     "name": "stderr",
     "output_type": "stream",
     "text": [
      "/opt/mamba/lib/python3.10/site-packages/sklearn/linear_model/_glm/_newton_solver.py:195: ConvergenceWarning: lbfgs failed to converge (status=1):\n",
      "STOP: TOTAL NO. of ITERATIONS REACHED LIMIT.\n",
      "\n",
      "Increase the number of iterations (max_iter) or scale the data as shown in:\n",
      "    https://scikit-learn.org/stable/modules/preprocessing.html\n",
      "  self.n_iter_ = _check_optimize_result(\"lbfgs\", opt_res)\n",
      "/opt/mamba/lib/python3.10/site-packages/sklearn/linear_model/_glm/_newton_solver.py:195: ConvergenceWarning: lbfgs failed to converge (status=1):\n",
      "STOP: TOTAL NO. of ITERATIONS REACHED LIMIT.\n",
      "\n",
      "Increase the number of iterations (max_iter) or scale the data as shown in:\n",
      "    https://scikit-learn.org/stable/modules/preprocessing.html\n",
      "  self.n_iter_ = _check_optimize_result(\"lbfgs\", opt_res)\n",
      "/opt/mamba/lib/python3.10/site-packages/sklearn/linear_model/_glm/_newton_solver.py:491: LinAlgWarning: The inner solver of NewtonCholeskySolver stumbled upon a singular or very ill-conditioned Hessian matrix at iteration #1. It will now resort to lbfgs instead.\n",
      "Further options are to use another solver or to avoid such situation in the first place. Possible remedies are removing collinear features of X or increasing the penalization strengths.\n",
      "The original Linear Algebra message was:\n",
      "Ill-conditioned matrix (rcond=1.52315e-17): result may not be accurate.\n",
      "  warnings.warn(\n",
      "/opt/mamba/lib/python3.10/site-packages/sklearn/linear_model/_glm/_newton_solver.py:195: ConvergenceWarning: lbfgs failed to converge (status=1):\n",
      "STOP: TOTAL NO. of ITERATIONS REACHED LIMIT.\n",
      "\n",
      "Increase the number of iterations (max_iter) or scale the data as shown in:\n",
      "    https://scikit-learn.org/stable/modules/preprocessing.html\n",
      "  self.n_iter_ = _check_optimize_result(\"lbfgs\", opt_res)\n"
     ]
    },
    {
     "name": "stdout",
     "output_type": "stream",
     "text": [
      "[CV 9/10; 100/100] START C=10000, class_weight={0: 1, 1: 1000}, solver=newton-cholesky\n",
      "[CV 3/10; 98/100] END C=10000, class_weight={0: 1, 1: 150}, solver=newton-cholesky;, score=-0.753 total time=   2.4s\n",
      "[CV 5/10; 98/100] END C=10000, class_weight={0: 1, 1: 150}, solver=newton-cholesky;, score=-0.884 total time=   2.3s\n",
      "[CV 10/10; 100/100] START C=10000, class_weight={0: 1, 1: 1000}, solver=newton-cholesky\n",
      "[CV 1/10; 97/100] END C=10000, class_weight={0: 1, 1: 150}, solver=liblinear;, score=-0.933 total time=   4.3s\n",
      "[CV 4/10; 98/100] END C=10000, class_weight={0: 1, 1: 150}, solver=newton-cholesky;, score=-0.778 total time=   2.5s\n"
     ]
    },
    {
     "name": "stderr",
     "output_type": "stream",
     "text": [
      "/opt/mamba/lib/python3.10/site-packages/sklearn/linear_model/_glm/_newton_solver.py:195: ConvergenceWarning: lbfgs failed to converge (status=1):\n",
      "STOP: TOTAL NO. of ITERATIONS REACHED LIMIT.\n",
      "\n",
      "Increase the number of iterations (max_iter) or scale the data as shown in:\n",
      "    https://scikit-learn.org/stable/modules/preprocessing.html\n",
      "  self.n_iter_ = _check_optimize_result(\"lbfgs\", opt_res)\n",
      "/opt/mamba/lib/python3.10/site-packages/sklearn/linear_model/_glm/_newton_solver.py:491: LinAlgWarning: The inner solver of NewtonCholeskySolver stumbled upon a singular or very ill-conditioned Hessian matrix at iteration #1. It will now resort to lbfgs instead.\n",
      "Further options are to use another solver or to avoid such situation in the first place. Possible remedies are removing collinear features of X or increasing the penalization strengths.\n",
      "The original Linear Algebra message was:\n",
      "Ill-conditioned matrix (rcond=1.47471e-17): result may not be accurate.\n",
      "  warnings.warn(\n",
      "/opt/mamba/lib/python3.10/site-packages/sklearn/linear_model/_glm/_newton_solver.py:491: LinAlgWarning: The inner solver of NewtonCholeskySolver stumbled upon a singular or very ill-conditioned Hessian matrix at iteration #1. It will now resort to lbfgs instead.\n",
      "Further options are to use another solver or to avoid such situation in the first place. Possible remedies are removing collinear features of X or increasing the penalization strengths.\n",
      "The original Linear Algebra message was:\n",
      "Ill-conditioned matrix (rcond=1.4259e-17): result may not be accurate.\n",
      "  warnings.warn(\n"
     ]
    },
    {
     "name": "stdout",
     "output_type": "stream",
     "text": [
      "[CV 6/10; 97/100] END C=10000, class_weight={0: 1, 1: 150}, solver=liblinear;, score=-0.688 total time=   4.0s\n",
      "[CV 7/10; 98/100] END C=10000, class_weight={0: 1, 1: 150}, solver=newton-cholesky;, score=-0.852 total time=   2.4s\n",
      "[CV 8/10; 98/100] END C=10000, class_weight={0: 1, 1: 150}, solver=newton-cholesky;, score=-0.928 total time=   2.5s\n"
     ]
    },
    {
     "name": "stderr",
     "output_type": "stream",
     "text": [
      "/opt/mamba/lib/python3.10/site-packages/sklearn/linear_model/_glm/_newton_solver.py:195: ConvergenceWarning: lbfgs failed to converge (status=1):\n",
      "STOP: TOTAL NO. of ITERATIONS REACHED LIMIT.\n",
      "\n",
      "Increase the number of iterations (max_iter) or scale the data as shown in:\n",
      "    https://scikit-learn.org/stable/modules/preprocessing.html\n",
      "  self.n_iter_ = _check_optimize_result(\"lbfgs\", opt_res)\n",
      "/opt/mamba/lib/python3.10/site-packages/sklearn/linear_model/_glm/_newton_solver.py:195: ConvergenceWarning: lbfgs failed to converge (status=1):\n",
      "STOP: TOTAL NO. of ITERATIONS REACHED LIMIT.\n",
      "\n",
      "Increase the number of iterations (max_iter) or scale the data as shown in:\n",
      "    https://scikit-learn.org/stable/modules/preprocessing.html\n",
      "  self.n_iter_ = _check_optimize_result(\"lbfgs\", opt_res)\n",
      "/opt/mamba/lib/python3.10/site-packages/sklearn/linear_model/_glm/_newton_solver.py:195: ConvergenceWarning: lbfgs failed to converge (status=1):\n",
      "STOP: TOTAL NO. of ITERATIONS REACHED LIMIT.\n",
      "\n",
      "Increase the number of iterations (max_iter) or scale the data as shown in:\n",
      "    https://scikit-learn.org/stable/modules/preprocessing.html\n",
      "  self.n_iter_ = _check_optimize_result(\"lbfgs\", opt_res)\n"
     ]
    },
    {
     "name": "stdout",
     "output_type": "stream",
     "text": [
      "[CV 2/10; 97/100] END C=10000, class_weight={0: 1, 1: 150}, solver=liblinear;, score=-0.705 total time=   4.6s\n",
      "[CV 7/10; 97/100] END C=10000, class_weight={0: 1, 1: 150}, solver=liblinear;, score=-0.794 total time=   4.1s\n",
      "[CV 10/10; 98/100] END C=10000, class_weight={0: 1, 1: 150}, solver=newton-cholesky;, score=-0.864 total time=   2.5s\n",
      "[CV 2/10; 98/100] END C=10000, class_weight={0: 1, 1: 150}, solver=newton-cholesky;, score=-0.742 total time=   3.1s\n",
      "[CV 1/10; 99/100] END C=10000, class_weight={0: 1, 1: 1000}, solver=liblinear;, score=-1.090 total time=   2.6s\n"
     ]
    },
    {
     "name": "stderr",
     "output_type": "stream",
     "text": [
      "/opt/mamba/lib/python3.10/site-packages/sklearn/linear_model/_glm/_newton_solver.py:195: ConvergenceWarning: lbfgs failed to converge (status=1):\n",
      "STOP: TOTAL NO. of ITERATIONS REACHED LIMIT.\n",
      "\n",
      "Increase the number of iterations (max_iter) or scale the data as shown in:\n",
      "    https://scikit-learn.org/stable/modules/preprocessing.html\n",
      "  self.n_iter_ = _check_optimize_result(\"lbfgs\", opt_res)\n",
      "/opt/mamba/lib/python3.10/site-packages/sklearn/linear_model/_glm/_newton_solver.py:195: ConvergenceWarning: lbfgs failed to converge (status=1):\n",
      "STOP: TOTAL NO. of ITERATIONS REACHED LIMIT.\n",
      "\n",
      "Increase the number of iterations (max_iter) or scale the data as shown in:\n",
      "    https://scikit-learn.org/stable/modules/preprocessing.html\n",
      "  self.n_iter_ = _check_optimize_result(\"lbfgs\", opt_res)\n"
     ]
    },
    {
     "name": "stdout",
     "output_type": "stream",
     "text": [
      "[CV 1/10; 98/100] END C=10000, class_weight={0: 1, 1: 150}, solver=newton-cholesky;, score=-1.001 total time=   3.3s\n",
      "[CV 2/10; 99/100] END C=10000, class_weight={0: 1, 1: 1000}, solver=liblinear;, score=-0.848 total time=   2.6s\n",
      "[CV 7/10; 95/100] END C=10000, class_weight={0: 1, 1: 100}, solver=liblinear;, score=-0.661 total time=   7.0s\n",
      "[CV 8/10; 97/100] END C=10000, class_weight={0: 1, 1: 150}, solver=liblinear;, score=-0.871 total time=   4.2s\n",
      "[CV 10/10; 97/100] END C=10000, class_weight={0: 1, 1: 150}, solver=liblinear;, score=-0.800 total time=   3.6s\n",
      "[CV 6/10; 98/100] END C=10000, class_weight={0: 1, 1: 150}, solver=newton-cholesky;, score=-0.731 total time=   3.1s\n",
      "[CV 10/10; 93/100] END C=10000, class_weight={0: 1, 1: 50}, solver=liblinear;, score=-0.299 total time=   9.2s\n"
     ]
    },
    {
     "name": "stderr",
     "output_type": "stream",
     "text": [
      "/opt/mamba/lib/python3.10/site-packages/sklearn/linear_model/_glm/_newton_solver.py:195: ConvergenceWarning: lbfgs failed to converge (status=1):\n",
      "STOP: TOTAL NO. of ITERATIONS REACHED LIMIT.\n",
      "\n",
      "Increase the number of iterations (max_iter) or scale the data as shown in:\n",
      "    https://scikit-learn.org/stable/modules/preprocessing.html\n",
      "  self.n_iter_ = _check_optimize_result(\"lbfgs\", opt_res)\n",
      "/opt/mamba/lib/python3.10/site-packages/sklearn/linear_model/_glm/_newton_solver.py:195: ConvergenceWarning: lbfgs failed to converge (status=1):\n",
      "STOP: TOTAL NO. of ITERATIONS REACHED LIMIT.\n",
      "\n",
      "Increase the number of iterations (max_iter) or scale the data as shown in:\n",
      "    https://scikit-learn.org/stable/modules/preprocessing.html\n",
      "  self.n_iter_ = _check_optimize_result(\"lbfgs\", opt_res)\n"
     ]
    },
    {
     "name": "stdout",
     "output_type": "stream",
     "text": [
      "[CV 1/10; 100/100] END C=10000, class_weight={0: 1, 1: 1000}, solver=newton-cholesky;, score=-1.091 total time=   2.2s\n",
      "[CV 8/10; 99/100] END C=10000, class_weight={0: 1, 1: 1000}, solver=liblinear;, score=-1.040 total time=   2.4s\n",
      "[CV 9/10; 99/100] END C=10000, class_weight={0: 1, 1: 1000}, solver=liblinear;, score=-0.970 total time=   2.4s\n",
      "[CV 4/10; 99/100] END C=10000, class_weight={0: 1, 1: 1000}, solver=liblinear;, score=-0.868 total time=   2.7s\n",
      "[CV 5/10; 100/100] END C=10000, class_weight={0: 1, 1: 1000}, solver=newton-cholesky;, score=-0.975 total time=   1.9s\n",
      "[CV 10/10; 95/100] END C=10000, class_weight={0: 1, 1: 100}, solver=liblinear;, score=-0.677 total time=   6.5s\n"
     ]
    },
    {
     "name": "stderr",
     "output_type": "stream",
     "text": [
      "/opt/mamba/lib/python3.10/site-packages/sklearn/linear_model/_glm/_newton_solver.py:195: ConvergenceWarning: lbfgs failed to converge (status=1):\n",
      "STOP: TOTAL NO. of ITERATIONS REACHED LIMIT.\n",
      "\n",
      "Increase the number of iterations (max_iter) or scale the data as shown in:\n",
      "    https://scikit-learn.org/stable/modules/preprocessing.html\n",
      "  self.n_iter_ = _check_optimize_result(\"lbfgs\", opt_res)\n",
      "/opt/mamba/lib/python3.10/site-packages/sklearn/linear_model/_glm/_newton_solver.py:195: ConvergenceWarning: lbfgs failed to converge (status=1):\n",
      "STOP: TOTAL NO. of ITERATIONS REACHED LIMIT.\n",
      "\n",
      "Increase the number of iterations (max_iter) or scale the data as shown in:\n",
      "    https://scikit-learn.org/stable/modules/preprocessing.html\n",
      "  self.n_iter_ = _check_optimize_result(\"lbfgs\", opt_res)\n"
     ]
    },
    {
     "name": "stdout",
     "output_type": "stream",
     "text": [
      "[CV 5/10; 99/100] END C=10000, class_weight={0: 1, 1: 1000}, solver=liblinear;, score=-0.971 total time=   2.9s\n",
      "[CV 2/10; 100/100] END C=10000, class_weight={0: 1, 1: 1000}, solver=newton-cholesky;, score=-0.849 total time=   2.5s\n",
      "[CV 6/10; 100/100] END C=10000, class_weight={0: 1, 1: 1000}, solver=newton-cholesky;, score=-0.834 total time=   2.0s\n"
     ]
    },
    {
     "name": "stderr",
     "output_type": "stream",
     "text": [
      "/opt/mamba/lib/python3.10/site-packages/sklearn/linear_model/_glm/_newton_solver.py:195: ConvergenceWarning: lbfgs failed to converge (status=1):\n",
      "STOP: TOTAL NO. of ITERATIONS REACHED LIMIT.\n",
      "\n",
      "Increase the number of iterations (max_iter) or scale the data as shown in:\n",
      "    https://scikit-learn.org/stable/modules/preprocessing.html\n",
      "  self.n_iter_ = _check_optimize_result(\"lbfgs\", opt_res)\n",
      "/opt/mamba/lib/python3.10/site-packages/sklearn/linear_model/_glm/_newton_solver.py:195: ConvergenceWarning: lbfgs failed to converge (status=1):\n",
      "STOP: TOTAL NO. of ITERATIONS REACHED LIMIT.\n",
      "\n",
      "Increase the number of iterations (max_iter) or scale the data as shown in:\n",
      "    https://scikit-learn.org/stable/modules/preprocessing.html\n",
      "  self.n_iter_ = _check_optimize_result(\"lbfgs\", opt_res)\n",
      "/opt/mamba/lib/python3.10/site-packages/sklearn/linear_model/_glm/_newton_solver.py:195: ConvergenceWarning: lbfgs failed to converge (status=1):\n",
      "STOP: TOTAL NO. of ITERATIONS REACHED LIMIT.\n",
      "\n",
      "Increase the number of iterations (max_iter) or scale the data as shown in:\n",
      "    https://scikit-learn.org/stable/modules/preprocessing.html\n",
      "  self.n_iter_ = _check_optimize_result(\"lbfgs\", opt_res)\n",
      "/opt/mamba/lib/python3.10/site-packages/sklearn/linear_model/_glm/_newton_solver.py:195: ConvergenceWarning: lbfgs failed to converge (status=1):\n",
      "STOP: TOTAL NO. of ITERATIONS REACHED LIMIT.\n",
      "\n",
      "Increase the number of iterations (max_iter) or scale the data as shown in:\n",
      "    https://scikit-learn.org/stable/modules/preprocessing.html\n",
      "  self.n_iter_ = _check_optimize_result(\"lbfgs\", opt_res)\n"
     ]
    },
    {
     "name": "stdout",
     "output_type": "stream",
     "text": [
      "[CV 3/10; 99/100] END C=10000, class_weight={0: 1, 1: 1000}, solver=liblinear;, score=-0.836 total time=   3.3s\n",
      "[CV 7/10; 100/100] END C=10000, class_weight={0: 1, 1: 1000}, solver=newton-cholesky;, score=-0.941 total time=   2.1s\n",
      "[CV 4/10; 100/100] END C=10000, class_weight={0: 1, 1: 1000}, solver=newton-cholesky;, score=-0.867 total time=   2.6s\n",
      "[CV 10/10; 99/100] END C=10000, class_weight={0: 1, 1: 1000}, solver=liblinear;, score=-0.951 total time=   2.9s\n",
      "[CV 9/10; 98/100] END C=10000, class_weight={0: 1, 1: 150}, solver=newton-cholesky;, score=-0.872 total time=   3.6s\n",
      "[CV 3/10; 100/100] END C=10000, class_weight={0: 1, 1: 1000}, solver=newton-cholesky;, score=-0.839 total time=   2.7s\n"
     ]
    },
    {
     "name": "stderr",
     "output_type": "stream",
     "text": [
      "/opt/mamba/lib/python3.10/site-packages/sklearn/linear_model/_glm/_newton_solver.py:195: ConvergenceWarning: lbfgs failed to converge (status=1):\n",
      "STOP: TOTAL NO. of ITERATIONS REACHED LIMIT.\n",
      "\n",
      "Increase the number of iterations (max_iter) or scale the data as shown in:\n",
      "    https://scikit-learn.org/stable/modules/preprocessing.html\n",
      "  self.n_iter_ = _check_optimize_result(\"lbfgs\", opt_res)\n",
      "/opt/mamba/lib/python3.10/site-packages/sklearn/linear_model/_glm/_newton_solver.py:195: ConvergenceWarning: lbfgs failed to converge (status=1):\n",
      "STOP: TOTAL NO. of ITERATIONS REACHED LIMIT.\n",
      "\n",
      "Increase the number of iterations (max_iter) or scale the data as shown in:\n",
      "    https://scikit-learn.org/stable/modules/preprocessing.html\n",
      "  self.n_iter_ = _check_optimize_result(\"lbfgs\", opt_res)\n",
      "/opt/mamba/lib/python3.10/site-packages/sklearn/linear_model/_glm/_newton_solver.py:195: ConvergenceWarning: lbfgs failed to converge (status=1):\n",
      "STOP: TOTAL NO. of ITERATIONS REACHED LIMIT.\n",
      "\n",
      "Increase the number of iterations (max_iter) or scale the data as shown in:\n",
      "    https://scikit-learn.org/stable/modules/preprocessing.html\n",
      "  self.n_iter_ = _check_optimize_result(\"lbfgs\", opt_res)\n"
     ]
    },
    {
     "name": "stdout",
     "output_type": "stream",
     "text": [
      "[CV 9/10; 100/100] END C=10000, class_weight={0: 1, 1: 1000}, solver=newton-cholesky;, score=-0.969 total time=   1.8s\n",
      "[CV 10/10; 100/100] END C=10000, class_weight={0: 1, 1: 1000}, solver=newton-cholesky;, score=-0.951 total time=   1.8s\n",
      "[CV 3/10; 93/100] END C=10000, class_weight={0: 1, 1: 50}, solver=liblinear;, score=-0.225 total time=  10.9s\n",
      "[CV 8/10; 100/100] END C=10000, class_weight={0: 1, 1: 1000}, solver=newton-cholesky;, score=-1.042 total time=   2.2s\n",
      "[CV 5/10; 97/100] END C=10000, class_weight={0: 1, 1: 150}, solver=liblinear;, score=-0.814 total time=   6.0s\n",
      "[CV 6/10; 99/100] END C=10000, class_weight={0: 1, 1: 1000}, solver=liblinear;, score=-0.830 total time=   3.8s\n",
      "[CV 7/10; 99/100] END C=10000, class_weight={0: 1, 1: 1000}, solver=liblinear;, score=-0.938 total time=   4.1s\n"
     ]
    },
    {
     "name": "stderr",
     "output_type": "stream",
     "text": [
      "/opt/mamba/lib/python3.10/site-packages/sklearn/linear_model/_glm/_newton_solver.py:491: LinAlgWarning: The inner solver of NewtonCholeskySolver stumbled upon a singular or very ill-conditioned Hessian matrix at iteration #3. It will now resort to lbfgs instead.\n",
      "Further options are to use another solver or to avoid such situation in the first place. Possible remedies are removing collinear features of X or increasing the penalization strengths.\n",
      "The original Linear Algebra message was:\n",
      "Matrix is singular.\n",
      "  warnings.warn(\n",
      "/opt/mamba/lib/python3.10/site-packages/sklearn/linear_model/_glm/_newton_solver.py:195: ConvergenceWarning: lbfgs failed to converge (status=1):\n",
      "STOP: TOTAL NO. of ITERATIONS REACHED LIMIT.\n",
      "\n",
      "Increase the number of iterations (max_iter) or scale the data as shown in:\n",
      "    https://scikit-learn.org/stable/modules/preprocessing.html\n",
      "  self.n_iter_ = _check_optimize_result(\"lbfgs\", opt_res)\n"
     ]
    },
    {
     "data": {
      "text/html": [
       "<style>#sk-container-id-2 {color: black;background-color: white;}#sk-container-id-2 pre{padding: 0;}#sk-container-id-2 div.sk-toggleable {background-color: white;}#sk-container-id-2 label.sk-toggleable__label {cursor: pointer;display: block;width: 100%;margin-bottom: 0;padding: 0.3em;box-sizing: border-box;text-align: center;}#sk-container-id-2 label.sk-toggleable__label-arrow:before {content: \"▸\";float: left;margin-right: 0.25em;color: #696969;}#sk-container-id-2 label.sk-toggleable__label-arrow:hover:before {color: black;}#sk-container-id-2 div.sk-estimator:hover label.sk-toggleable__label-arrow:before {color: black;}#sk-container-id-2 div.sk-toggleable__content {max-height: 0;max-width: 0;overflow: hidden;text-align: left;background-color: #f0f8ff;}#sk-container-id-2 div.sk-toggleable__content pre {margin: 0.2em;color: black;border-radius: 0.25em;background-color: #f0f8ff;}#sk-container-id-2 input.sk-toggleable__control:checked~div.sk-toggleable__content {max-height: 200px;max-width: 100%;overflow: auto;}#sk-container-id-2 input.sk-toggleable__control:checked~label.sk-toggleable__label-arrow:before {content: \"▾\";}#sk-container-id-2 div.sk-estimator input.sk-toggleable__control:checked~label.sk-toggleable__label {background-color: #d4ebff;}#sk-container-id-2 div.sk-label input.sk-toggleable__control:checked~label.sk-toggleable__label {background-color: #d4ebff;}#sk-container-id-2 input.sk-hidden--visually {border: 0;clip: rect(1px 1px 1px 1px);clip: rect(1px, 1px, 1px, 1px);height: 1px;margin: -1px;overflow: hidden;padding: 0;position: absolute;width: 1px;}#sk-container-id-2 div.sk-estimator {font-family: monospace;background-color: #f0f8ff;border: 1px dotted black;border-radius: 0.25em;box-sizing: border-box;margin-bottom: 0.5em;}#sk-container-id-2 div.sk-estimator:hover {background-color: #d4ebff;}#sk-container-id-2 div.sk-parallel-item::after {content: \"\";width: 100%;border-bottom: 1px solid gray;flex-grow: 1;}#sk-container-id-2 div.sk-label:hover label.sk-toggleable__label {background-color: #d4ebff;}#sk-container-id-2 div.sk-serial::before {content: \"\";position: absolute;border-left: 1px solid gray;box-sizing: border-box;top: 0;bottom: 0;left: 50%;z-index: 0;}#sk-container-id-2 div.sk-serial {display: flex;flex-direction: column;align-items: center;background-color: white;padding-right: 0.2em;padding-left: 0.2em;position: relative;}#sk-container-id-2 div.sk-item {position: relative;z-index: 1;}#sk-container-id-2 div.sk-parallel {display: flex;align-items: stretch;justify-content: center;background-color: white;position: relative;}#sk-container-id-2 div.sk-item::before, #sk-container-id-2 div.sk-parallel-item::before {content: \"\";position: absolute;border-left: 1px solid gray;box-sizing: border-box;top: 0;bottom: 0;left: 50%;z-index: -1;}#sk-container-id-2 div.sk-parallel-item {display: flex;flex-direction: column;z-index: 1;position: relative;background-color: white;}#sk-container-id-2 div.sk-parallel-item:first-child::after {align-self: flex-end;width: 50%;}#sk-container-id-2 div.sk-parallel-item:last-child::after {align-self: flex-start;width: 50%;}#sk-container-id-2 div.sk-parallel-item:only-child::after {width: 0;}#sk-container-id-2 div.sk-dashed-wrapped {border: 1px dashed gray;margin: 0 0.4em 0.5em 0.4em;box-sizing: border-box;padding-bottom: 0.4em;background-color: white;}#sk-container-id-2 div.sk-label label {font-family: monospace;font-weight: bold;display: inline-block;line-height: 1.2em;}#sk-container-id-2 div.sk-label-container {text-align: center;}#sk-container-id-2 div.sk-container {/* jupyter's `normalize.less` sets `[hidden] { display: none; }` but bootstrap.min.css set `[hidden] { display: none !important; }` so we also need the `!important` here to be able to override the default hidden behavior on the sphinx rendered scikit-learn.org. See: https://github.com/scikit-learn/scikit-learn/issues/21755 */display: inline-block !important;position: relative;}#sk-container-id-2 div.sk-text-repr-fallback {display: none;}</style><div id=\"sk-container-id-2\" class=\"sk-top-container\"><div class=\"sk-text-repr-fallback\"><pre>GridSearchCV(cv=StratifiedKFold(n_splits=10, random_state=None, shuffle=False),\n",
       "             estimator=LogisticRegression(random_state=0), n_jobs=-1,\n",
       "             param_grid={&#x27;C&#x27;: [1, 10, 100, 1000, 10000],\n",
       "                         &#x27;class_weight&#x27;: [{0: 1, 1: 1}, {0: 1, 1: 10},\n",
       "                                          {0: 1, 1: 14}, {0: 1, 1: 15},\n",
       "                                          {0: 1, 1: 16}, {0: 1, 1: 20},\n",
       "                                          {0: 1, 1: 50}, {0: 1, 1: 100},\n",
       "                                          {0: 1, 1: 150}, {0: 1, 1: 1000}],\n",
       "                         &#x27;solver&#x27;: [&#x27;liblinear&#x27;, &#x27;newton-cholesky&#x27;]},\n",
       "             scoring=&lt;function our_score at 0x7f9b3dc1e560&gt;, verbose=10)</pre><b>In a Jupyter environment, please rerun this cell to show the HTML representation or trust the notebook. <br />On GitHub, the HTML representation is unable to render, please try loading this page with nbviewer.org.</b></div><div class=\"sk-container\" hidden><div class=\"sk-item sk-dashed-wrapped\"><div class=\"sk-label-container\"><div class=\"sk-label sk-toggleable\"><input class=\"sk-toggleable__control sk-hidden--visually\" id=\"sk-estimator-id-4\" type=\"checkbox\" ><label for=\"sk-estimator-id-4\" class=\"sk-toggleable__label sk-toggleable__label-arrow\">GridSearchCV</label><div class=\"sk-toggleable__content\"><pre>GridSearchCV(cv=StratifiedKFold(n_splits=10, random_state=None, shuffle=False),\n",
       "             estimator=LogisticRegression(random_state=0), n_jobs=-1,\n",
       "             param_grid={&#x27;C&#x27;: [1, 10, 100, 1000, 10000],\n",
       "                         &#x27;class_weight&#x27;: [{0: 1, 1: 1}, {0: 1, 1: 10},\n",
       "                                          {0: 1, 1: 14}, {0: 1, 1: 15},\n",
       "                                          {0: 1, 1: 16}, {0: 1, 1: 20},\n",
       "                                          {0: 1, 1: 50}, {0: 1, 1: 100},\n",
       "                                          {0: 1, 1: 150}, {0: 1, 1: 1000}],\n",
       "                         &#x27;solver&#x27;: [&#x27;liblinear&#x27;, &#x27;newton-cholesky&#x27;]},\n",
       "             scoring=&lt;function our_score at 0x7f9b3dc1e560&gt;, verbose=10)</pre></div></div></div><div class=\"sk-parallel\"><div class=\"sk-parallel-item\"><div class=\"sk-item\"><div class=\"sk-label-container\"><div class=\"sk-label sk-toggleable\"><input class=\"sk-toggleable__control sk-hidden--visually\" id=\"sk-estimator-id-5\" type=\"checkbox\" ><label for=\"sk-estimator-id-5\" class=\"sk-toggleable__label sk-toggleable__label-arrow\">estimator: LogisticRegression</label><div class=\"sk-toggleable__content\"><pre>LogisticRegression(random_state=0)</pre></div></div></div><div class=\"sk-serial\"><div class=\"sk-item\"><div class=\"sk-estimator sk-toggleable\"><input class=\"sk-toggleable__control sk-hidden--visually\" id=\"sk-estimator-id-6\" type=\"checkbox\" ><label for=\"sk-estimator-id-6\" class=\"sk-toggleable__label sk-toggleable__label-arrow\">LogisticRegression</label><div class=\"sk-toggleable__content\"><pre>LogisticRegression(random_state=0)</pre></div></div></div></div></div></div></div></div></div></div>"
      ],
      "text/plain": [
       "GridSearchCV(cv=StratifiedKFold(n_splits=10, random_state=None, shuffle=False),\n",
       "             estimator=LogisticRegression(random_state=0), n_jobs=-1,\n",
       "             param_grid={'C': [1, 10, 100, 1000, 10000],\n",
       "                         'class_weight': [{0: 1, 1: 1}, {0: 1, 1: 10},\n",
       "                                          {0: 1, 1: 14}, {0: 1, 1: 15},\n",
       "                                          {0: 1, 1: 16}, {0: 1, 1: 20},\n",
       "                                          {0: 1, 1: 50}, {0: 1, 1: 100},\n",
       "                                          {0: 1, 1: 150}, {0: 1, 1: 1000}],\n",
       "                         'solver': ['liblinear', 'newton-cholesky']},\n",
       "             scoring=<function our_score at 0x7f9b3dc1e560>, verbose=10)"
      ]
     },
     "execution_count": 25,
     "metadata": {},
     "output_type": "execute_result"
    }
   ],
   "source": [
    "# Hyperparameters \n",
    "C_param = [1,10,100, 1000, 10000]\n",
    "weights_param = [{0:1,1:i} for i in [1, 10, 14, 15, 16, 20, 50, 100, 150, 1000]]\n",
    "solver_param = ['liblinear', 'newton-cholesky']\n",
    "\n",
    "param = {'solver' :solver_param, 'class_weight':weights_param, 'C':C_param}\n",
    "\n",
    "# GridSearch\n",
    "model = LogisticRegression(random_state = 0)\n",
    "CV_model = GridSearchCV(estimator=model, cv = kf, n_jobs = -1, param_grid = param, scoring = our_score,verbose=10)\n",
    "CV_model.fit(X_train, y_train)"
   ]
  },
  {
   "cell_type": "code",
   "execution_count": 27,
   "metadata": {},
   "outputs": [
    {
     "name": "stdout",
     "output_type": "stream",
     "text": [
      "{'C': 1, 'class_weight': {0: 1, 1: 10}, 'solver': 'newton-cholesky'}\n",
      "0.5365914029864476\n"
     ]
    }
   ],
   "source": [
    "# Results for GridSearch\n",
    "\n",
    "print(CV_model.best_params_)\n",
    "print(CV_model.best_score_)"
   ]
  },
  {
   "attachments": {},
   "cell_type": "markdown",
   "metadata": {},
   "source": [
    "## V. Results for the logistic regression"
   ]
  },
  {
   "cell_type": "code",
   "execution_count": 28,
   "metadata": {},
   "outputs": [],
   "source": [
    "model = LogisticRegression(class_weight = {0:1, 1:10}, solver = 'newton-cholesky', C = 1)"
   ]
  },
  {
   "cell_type": "code",
   "execution_count": 29,
   "metadata": {},
   "outputs": [
    {
     "name": "stderr",
     "output_type": "stream",
     "text": [
      "/opt/mamba/lib/python3.10/site-packages/sklearn/linear_model/_glm/_newton_solver.py:491: LinAlgWarning: The inner solver of NewtonCholeskySolver stumbled upon a singular or very ill-conditioned Hessian matrix at iteration #3. It will now resort to lbfgs instead.\n",
      "Further options are to use another solver or to avoid such situation in the first place. Possible remedies are removing collinear features of X or increasing the penalization strengths.\n",
      "The original Linear Algebra message was:\n",
      "Matrix is singular.\n",
      "  warnings.warn(\n",
      "/opt/mamba/lib/python3.10/site-packages/sklearn/linear_model/_glm/_newton_solver.py:195: ConvergenceWarning: lbfgs failed to converge (status=1):\n",
      "STOP: TOTAL NO. of ITERATIONS REACHED LIMIT.\n",
      "\n",
      "Increase the number of iterations (max_iter) or scale the data as shown in:\n",
      "    https://scikit-learn.org/stable/modules/preprocessing.html\n",
      "  self.n_iter_ = _check_optimize_result(\"lbfgs\", opt_res)\n"
     ]
    },
    {
     "data": {
      "text/html": [
       "<style>#sk-container-id-3 {color: black;background-color: white;}#sk-container-id-3 pre{padding: 0;}#sk-container-id-3 div.sk-toggleable {background-color: white;}#sk-container-id-3 label.sk-toggleable__label {cursor: pointer;display: block;width: 100%;margin-bottom: 0;padding: 0.3em;box-sizing: border-box;text-align: center;}#sk-container-id-3 label.sk-toggleable__label-arrow:before {content: \"▸\";float: left;margin-right: 0.25em;color: #696969;}#sk-container-id-3 label.sk-toggleable__label-arrow:hover:before {color: black;}#sk-container-id-3 div.sk-estimator:hover label.sk-toggleable__label-arrow:before {color: black;}#sk-container-id-3 div.sk-toggleable__content {max-height: 0;max-width: 0;overflow: hidden;text-align: left;background-color: #f0f8ff;}#sk-container-id-3 div.sk-toggleable__content pre {margin: 0.2em;color: black;border-radius: 0.25em;background-color: #f0f8ff;}#sk-container-id-3 input.sk-toggleable__control:checked~div.sk-toggleable__content {max-height: 200px;max-width: 100%;overflow: auto;}#sk-container-id-3 input.sk-toggleable__control:checked~label.sk-toggleable__label-arrow:before {content: \"▾\";}#sk-container-id-3 div.sk-estimator input.sk-toggleable__control:checked~label.sk-toggleable__label {background-color: #d4ebff;}#sk-container-id-3 div.sk-label input.sk-toggleable__control:checked~label.sk-toggleable__label {background-color: #d4ebff;}#sk-container-id-3 input.sk-hidden--visually {border: 0;clip: rect(1px 1px 1px 1px);clip: rect(1px, 1px, 1px, 1px);height: 1px;margin: -1px;overflow: hidden;padding: 0;position: absolute;width: 1px;}#sk-container-id-3 div.sk-estimator {font-family: monospace;background-color: #f0f8ff;border: 1px dotted black;border-radius: 0.25em;box-sizing: border-box;margin-bottom: 0.5em;}#sk-container-id-3 div.sk-estimator:hover {background-color: #d4ebff;}#sk-container-id-3 div.sk-parallel-item::after {content: \"\";width: 100%;border-bottom: 1px solid gray;flex-grow: 1;}#sk-container-id-3 div.sk-label:hover label.sk-toggleable__label {background-color: #d4ebff;}#sk-container-id-3 div.sk-serial::before {content: \"\";position: absolute;border-left: 1px solid gray;box-sizing: border-box;top: 0;bottom: 0;left: 50%;z-index: 0;}#sk-container-id-3 div.sk-serial {display: flex;flex-direction: column;align-items: center;background-color: white;padding-right: 0.2em;padding-left: 0.2em;position: relative;}#sk-container-id-3 div.sk-item {position: relative;z-index: 1;}#sk-container-id-3 div.sk-parallel {display: flex;align-items: stretch;justify-content: center;background-color: white;position: relative;}#sk-container-id-3 div.sk-item::before, #sk-container-id-3 div.sk-parallel-item::before {content: \"\";position: absolute;border-left: 1px solid gray;box-sizing: border-box;top: 0;bottom: 0;left: 50%;z-index: -1;}#sk-container-id-3 div.sk-parallel-item {display: flex;flex-direction: column;z-index: 1;position: relative;background-color: white;}#sk-container-id-3 div.sk-parallel-item:first-child::after {align-self: flex-end;width: 50%;}#sk-container-id-3 div.sk-parallel-item:last-child::after {align-self: flex-start;width: 50%;}#sk-container-id-3 div.sk-parallel-item:only-child::after {width: 0;}#sk-container-id-3 div.sk-dashed-wrapped {border: 1px dashed gray;margin: 0 0.4em 0.5em 0.4em;box-sizing: border-box;padding-bottom: 0.4em;background-color: white;}#sk-container-id-3 div.sk-label label {font-family: monospace;font-weight: bold;display: inline-block;line-height: 1.2em;}#sk-container-id-3 div.sk-label-container {text-align: center;}#sk-container-id-3 div.sk-container {/* jupyter's `normalize.less` sets `[hidden] { display: none; }` but bootstrap.min.css set `[hidden] { display: none !important; }` so we also need the `!important` here to be able to override the default hidden behavior on the sphinx rendered scikit-learn.org. See: https://github.com/scikit-learn/scikit-learn/issues/21755 */display: inline-block !important;position: relative;}#sk-container-id-3 div.sk-text-repr-fallback {display: none;}</style><div id=\"sk-container-id-3\" class=\"sk-top-container\"><div class=\"sk-text-repr-fallback\"><pre>LogisticRegression(C=1, class_weight={0: 1, 1: 10}, solver=&#x27;newton-cholesky&#x27;)</pre><b>In a Jupyter environment, please rerun this cell to show the HTML representation or trust the notebook. <br />On GitHub, the HTML representation is unable to render, please try loading this page with nbviewer.org.</b></div><div class=\"sk-container\" hidden><div class=\"sk-item\"><div class=\"sk-estimator sk-toggleable\"><input class=\"sk-toggleable__control sk-hidden--visually\" id=\"sk-estimator-id-7\" type=\"checkbox\" checked><label for=\"sk-estimator-id-7\" class=\"sk-toggleable__label sk-toggleable__label-arrow\">LogisticRegression</label><div class=\"sk-toggleable__content\"><pre>LogisticRegression(C=1, class_weight={0: 1, 1: 10}, solver=&#x27;newton-cholesky&#x27;)</pre></div></div></div></div></div>"
      ],
      "text/plain": [
       "LogisticRegression(C=1, class_weight={0: 1, 1: 10}, solver='newton-cholesky')"
      ]
     },
     "execution_count": 29,
     "metadata": {},
     "output_type": "execute_result"
    }
   ],
   "source": [
    "model.fit(X_train, y_train)"
   ]
  },
  {
   "cell_type": "code",
   "execution_count": 30,
   "metadata": {},
   "outputs": [],
   "source": [
    "y_pred = model.predict(X_test)"
   ]
  },
  {
   "cell_type": "code",
   "execution_count": 31,
   "metadata": {},
   "outputs": [
    {
     "data": {
      "image/png": "[encoded data removed]",
      "text/plain": [
       "<Figure size 640x480 with 2 Axes>"
      ]
     },
     "metadata": {},
     "output_type": "display_data"
    }
   ],
   "source": [
    "cm = confusion_matrix(y_test, y_pred)\n",
    "plot_confusion_matrix(cm)"
   ]
  },
  {
   "cell_type": "code",
   "execution_count": 32,
   "metadata": {},
   "outputs": [
    {
     "data": {
      "text/plain": [
       "0.526486535674763"
      ]
     },
     "execution_count": 32,
     "metadata": {},
     "output_type": "execute_result"
    }
   ],
   "source": [
    "our_score(model, X_test, y_test)"
   ]
  },
  {
   "cell_type": "code",
   "execution_count": 38,
   "metadata": {},
   "outputs": [
    {
     "name": "stdout",
     "output_type": "stream",
     "text": [
      "ROC for test dataset 70.522%\n"
     ]
    },
    {
     "data": {
      "image/png": "[encoded data removed]",
      "text/plain": [
       "<Figure size 500x500 with 1 Axes>"
      ]
     },
     "metadata": {},
     "output_type": "display_data"
    }
   ],
   "source": [
    "y_pred_proba = model.predict_proba(X_test)[::,1]\n",
    "fpr, tpr, _ = metrics.roc_curve(y_test,  y_pred_proba)\n",
    "roc_auc = roc_auc_score(y_test, y_pred, average=None)\n",
    "plot_roc_auc_curve(fpr, tpr, roc_auc)"
   ]
  },
  {
   "cell_type": "code",
   "execution_count": 40,
   "metadata": {},
   "outputs": [
    {
     "name": "stdout",
     "output_type": "stream",
     "text": [
      "Our score is equal to 0.526486535674763\n"
     ]
    }
   ],
   "source": [
    "print(\"Our score is equal to\", our_score(model, X_test, y_test))"
   ]
  },
  {
   "cell_type": "code",
   "execution_count": 39,
   "metadata": {},
   "outputs": [
    {
     "name": "stdout",
     "output_type": "stream",
     "text": [
      "The initial loss was equal to -293332.17 dollars, \n",
      "we retrieved 137583.32 dollars and the maximum amount that was retrievable is 261323.53000000003 dollars.\n"
     ]
    }
   ],
   "source": [
    "print(\"The initial loss was equal to\", retrieved_money(model, X_test, y_test)[0], \"dollars, \\nwe retrieved\", retrieved_money(model, X_test, y_test)[1], \"dollars and the maximum amount that was retrievable is\", retrieved_money(model, X_test, y_test)[2], \"dollars.\")"
   ]
  },
  {
   "cell_type": "code",
   "execution_count": 42,
   "metadata": {},
   "outputs": [
    {
     "name": "stdout",
     "output_type": "stream",
     "text": [
      "Precision score is  0.21469210174029452\n",
      "Recall score is  0.5083201267828843\n",
      "f1 score is 0.3018823529411765\n"
     ]
    }
   ],
   "source": [
    "print(\"Precision score is \", precision_score(y_test, y_pred))\n",
    "print(\"Recall score is \", recall_score(y_test, y_pred))\n",
    "print(\"f1 score is\", f1_score(y_test, y_pred))"
   ]
  },
  {
   "attachments": {},
   "cell_type": "markdown",
   "metadata": {},
   "source": [
    "## V. GridSearch"
   ]
  },
  {
   "cell_type": "code",
   "execution_count": 17,
   "metadata": {},
   "outputs": [],
   "source": [
    "default_model = LogisticRegression()"
   ]
  },
  {
   "cell_type": "code",
   "execution_count": 61,
   "metadata": {},
   "outputs": [],
   "source": [
    "weights_parameters = [{0:1, 1:w} for w in [5,10,15,20]]"
   ]
  },
  {
   "cell_type": "code",
   "execution_count": 41,
   "metadata": {},
   "outputs": [],
   "source": [
    "gridsearch_parameters = {'solver' :['liblinear'], 'class_weight':weights_parameters}"
   ]
  },
  {
   "cell_type": "code",
   "execution_count": 42,
   "metadata": {},
   "outputs": [],
   "source": [
    "grid_search = GridSearchCV(default_model, gridsearch_parameters, cv = 3, scoring = our_score)"
   ]
  },
  {
   "cell_type": "code",
   "execution_count": 43,
   "metadata": {},
   "outputs": [
    {
     "data": {
      "text/html": [
       "<style>#sk-container-id-4 {color: black;background-color: white;}#sk-container-id-4 pre{padding: 0;}#sk-container-id-4 div.sk-toggleable {background-color: white;}#sk-container-id-4 label.sk-toggleable__label {cursor: pointer;display: block;width: 100%;margin-bottom: 0;padding: 0.3em;box-sizing: border-box;text-align: center;}#sk-container-id-4 label.sk-toggleable__label-arrow:before {content: \"▸\";float: left;margin-right: 0.25em;color: #696969;}#sk-container-id-4 label.sk-toggleable__label-arrow:hover:before {color: black;}#sk-container-id-4 div.sk-estimator:hover label.sk-toggleable__label-arrow:before {color: black;}#sk-container-id-4 div.sk-toggleable__content {max-height: 0;max-width: 0;overflow: hidden;text-align: left;background-color: #f0f8ff;}#sk-container-id-4 div.sk-toggleable__content pre {margin: 0.2em;color: black;border-radius: 0.25em;background-color: #f0f8ff;}#sk-container-id-4 input.sk-toggleable__control:checked~div.sk-toggleable__content {max-height: 200px;max-width: 100%;overflow: auto;}#sk-container-id-4 input.sk-toggleable__control:checked~label.sk-toggleable__label-arrow:before {content: \"▾\";}#sk-container-id-4 div.sk-estimator input.sk-toggleable__control:checked~label.sk-toggleable__label {background-color: #d4ebff;}#sk-container-id-4 div.sk-label input.sk-toggleable__control:checked~label.sk-toggleable__label {background-color: #d4ebff;}#sk-container-id-4 input.sk-hidden--visually {border: 0;clip: rect(1px 1px 1px 1px);clip: rect(1px, 1px, 1px, 1px);height: 1px;margin: -1px;overflow: hidden;padding: 0;position: absolute;width: 1px;}#sk-container-id-4 div.sk-estimator {font-family: monospace;background-color: #f0f8ff;border: 1px dotted black;border-radius: 0.25em;box-sizing: border-box;margin-bottom: 0.5em;}#sk-container-id-4 div.sk-estimator:hover {background-color: #d4ebff;}#sk-container-id-4 div.sk-parallel-item::after {content: \"\";width: 100%;border-bottom: 1px solid gray;flex-grow: 1;}#sk-container-id-4 div.sk-label:hover label.sk-toggleable__label {background-color: #d4ebff;}#sk-container-id-4 div.sk-serial::before {content: \"\";position: absolute;border-left: 1px solid gray;box-sizing: border-box;top: 0;bottom: 0;left: 50%;z-index: 0;}#sk-container-id-4 div.sk-serial {display: flex;flex-direction: column;align-items: center;background-color: white;padding-right: 0.2em;padding-left: 0.2em;position: relative;}#sk-container-id-4 div.sk-item {position: relative;z-index: 1;}#sk-container-id-4 div.sk-parallel {display: flex;align-items: stretch;justify-content: center;background-color: white;position: relative;}#sk-container-id-4 div.sk-item::before, #sk-container-id-4 div.sk-parallel-item::before {content: \"\";position: absolute;border-left: 1px solid gray;box-sizing: border-box;top: 0;bottom: 0;left: 50%;z-index: -1;}#sk-container-id-4 div.sk-parallel-item {display: flex;flex-direction: column;z-index: 1;position: relative;background-color: white;}#sk-container-id-4 div.sk-parallel-item:first-child::after {align-self: flex-end;width: 50%;}#sk-container-id-4 div.sk-parallel-item:last-child::after {align-self: flex-start;width: 50%;}#sk-container-id-4 div.sk-parallel-item:only-child::after {width: 0;}#sk-container-id-4 div.sk-dashed-wrapped {border: 1px dashed gray;margin: 0 0.4em 0.5em 0.4em;box-sizing: border-box;padding-bottom: 0.4em;background-color: white;}#sk-container-id-4 div.sk-label label {font-family: monospace;font-weight: bold;display: inline-block;line-height: 1.2em;}#sk-container-id-4 div.sk-label-container {text-align: center;}#sk-container-id-4 div.sk-container {/* jupyter's `normalize.less` sets `[hidden] { display: none; }` but bootstrap.min.css set `[hidden] { display: none !important; }` so we also need the `!important` here to be able to override the default hidden behavior on the sphinx rendered scikit-learn.org. See: https://github.com/scikit-learn/scikit-learn/issues/21755 */display: inline-block !important;position: relative;}#sk-container-id-4 div.sk-text-repr-fallback {display: none;}</style><div id=\"sk-container-id-4\" class=\"sk-top-container\"><div class=\"sk-text-repr-fallback\"><pre>GridSearchCV(cv=3, estimator=LogisticRegression(),\n",
       "             param_grid={&#x27;class_weight&#x27;: [{0: 1, 1: 5}, {0: 1, 1: 10},\n",
       "                                          {0: 1, 1: 15}, {0: 1, 1: 20}],\n",
       "                         &#x27;solver&#x27;: [&#x27;liblinear&#x27;]},\n",
       "             scoring=&lt;function our_score at 0x7f13687183a0&gt;)</pre><b>In a Jupyter environment, please rerun this cell to show the HTML representation or trust the notebook. <br />On GitHub, the HTML representation is unable to render, please try loading this page with nbviewer.org.</b></div><div class=\"sk-container\" hidden><div class=\"sk-item sk-dashed-wrapped\"><div class=\"sk-label-container\"><div class=\"sk-label sk-toggleable\"><input class=\"sk-toggleable__control sk-hidden--visually\" id=\"sk-estimator-id-6\" type=\"checkbox\" ><label for=\"sk-estimator-id-6\" class=\"sk-toggleable__label sk-toggleable__label-arrow\">GridSearchCV</label><div class=\"sk-toggleable__content\"><pre>GridSearchCV(cv=3, estimator=LogisticRegression(),\n",
       "             param_grid={&#x27;class_weight&#x27;: [{0: 1, 1: 5}, {0: 1, 1: 10},\n",
       "                                          {0: 1, 1: 15}, {0: 1, 1: 20}],\n",
       "                         &#x27;solver&#x27;: [&#x27;liblinear&#x27;]},\n",
       "             scoring=&lt;function our_score at 0x7f13687183a0&gt;)</pre></div></div></div><div class=\"sk-parallel\"><div class=\"sk-parallel-item\"><div class=\"sk-item\"><div class=\"sk-label-container\"><div class=\"sk-label sk-toggleable\"><input class=\"sk-toggleable__control sk-hidden--visually\" id=\"sk-estimator-id-7\" type=\"checkbox\" ><label for=\"sk-estimator-id-7\" class=\"sk-toggleable__label sk-toggleable__label-arrow\">estimator: LogisticRegression</label><div class=\"sk-toggleable__content\"><pre>LogisticRegression()</pre></div></div></div><div class=\"sk-serial\"><div class=\"sk-item\"><div class=\"sk-estimator sk-toggleable\"><input class=\"sk-toggleable__control sk-hidden--visually\" id=\"sk-estimator-id-8\" type=\"checkbox\" ><label for=\"sk-estimator-id-8\" class=\"sk-toggleable__label sk-toggleable__label-arrow\">LogisticRegression</label><div class=\"sk-toggleable__content\"><pre>LogisticRegression()</pre></div></div></div></div></div></div></div></div></div></div>"
      ],
      "text/plain": [
       "GridSearchCV(cv=3, estimator=LogisticRegression(),\n",
       "             param_grid={'class_weight': [{0: 1, 1: 5}, {0: 1, 1: 10},\n",
       "                                          {0: 1, 1: 15}, {0: 1, 1: 20}],\n",
       "                         'solver': ['liblinear']},\n",
       "             scoring=<function our_score at 0x7f13687183a0>)"
      ]
     },
     "execution_count": 43,
     "metadata": {},
     "output_type": "execute_result"
    }
   ],
   "source": [
    "grid_search.fit(X_train, y_train)\n"
   ]
  },
  {
   "cell_type": "code",
   "execution_count": 44,
   "metadata": {},
   "outputs": [
    {
     "name": "stdout",
     "output_type": "stream",
     "text": [
      "Meilleurs paramètres : {'class_weight': {0: 1, 1: 15}, 'solver': 'liblinear'}\n",
      "Meilleur score : 0.1844411577161145\n"
     ]
    }
   ],
   "source": [
    "print(\"Meilleurs paramètres :\", grid_search.best_params_)\n",
    "print(\"Meilleur score :\", grid_search.best_score_)"
   ]
  },
  {
   "attachments": {},
   "cell_type": "markdown",
   "metadata": {},
   "source": [
    "Now we decide to fix the solver ('liblinear') and to find to best parameters for 'C' and 'class_weight'"
   ]
  },
  {
   "cell_type": "code",
   "execution_count": 18,
   "metadata": {},
   "outputs": [],
   "source": [
    "weights_parameters_2 = [{0:1, 1:w} for w in [15,14,16]]"
   ]
  },
  {
   "cell_type": "code",
   "execution_count": 19,
   "metadata": {},
   "outputs": [],
   "source": [
    "C_parameters = [1,10,100]"
   ]
  },
  {
   "cell_type": "code",
   "execution_count": 21,
   "metadata": {},
   "outputs": [],
   "source": [
    "gridsearch_parameters_2 = {'solver' :['liblinear'], 'class_weight':weights_parameters_2, 'C':C_parameters }"
   ]
  },
  {
   "cell_type": "code",
   "execution_count": 22,
   "metadata": {},
   "outputs": [],
   "source": [
    "grid_search_2 = GridSearchCV(default_model, gridsearch_parameters_2, cv = 3, scoring = our_score)"
   ]
  },
  {
   "cell_type": "code",
   "execution_count": 23,
   "metadata": {},
   "outputs": [
    {
     "data": {
      "text/html": [
       "<style>#sk-container-id-1 {color: black;background-color: white;}#sk-container-id-1 pre{padding: 0;}#sk-container-id-1 div.sk-toggleable {background-color: white;}#sk-container-id-1 label.sk-toggleable__label {cursor: pointer;display: block;width: 100%;margin-bottom: 0;padding: 0.3em;box-sizing: border-box;text-align: center;}#sk-container-id-1 label.sk-toggleable__label-arrow:before {content: \"▸\";float: left;margin-right: 0.25em;color: #696969;}#sk-container-id-1 label.sk-toggleable__label-arrow:hover:before {color: black;}#sk-container-id-1 div.sk-estimator:hover label.sk-toggleable__label-arrow:before {color: black;}#sk-container-id-1 div.sk-toggleable__content {max-height: 0;max-width: 0;overflow: hidden;text-align: left;background-color: #f0f8ff;}#sk-container-id-1 div.sk-toggleable__content pre {margin: 0.2em;color: black;border-radius: 0.25em;background-color: #f0f8ff;}#sk-container-id-1 input.sk-toggleable__control:checked~div.sk-toggleable__content {max-height: 200px;max-width: 100%;overflow: auto;}#sk-container-id-1 input.sk-toggleable__control:checked~label.sk-toggleable__label-arrow:before {content: \"▾\";}#sk-container-id-1 div.sk-estimator input.sk-toggleable__control:checked~label.sk-toggleable__label {background-color: #d4ebff;}#sk-container-id-1 div.sk-label input.sk-toggleable__control:checked~label.sk-toggleable__label {background-color: #d4ebff;}#sk-container-id-1 input.sk-hidden--visually {border: 0;clip: rect(1px 1px 1px 1px);clip: rect(1px, 1px, 1px, 1px);height: 1px;margin: -1px;overflow: hidden;padding: 0;position: absolute;width: 1px;}#sk-container-id-1 div.sk-estimator {font-family: monospace;background-color: #f0f8ff;border: 1px dotted black;border-radius: 0.25em;box-sizing: border-box;margin-bottom: 0.5em;}#sk-container-id-1 div.sk-estimator:hover {background-color: #d4ebff;}#sk-container-id-1 div.sk-parallel-item::after {content: \"\";width: 100%;border-bottom: 1px solid gray;flex-grow: 1;}#sk-container-id-1 div.sk-label:hover label.sk-toggleable__label {background-color: #d4ebff;}#sk-container-id-1 div.sk-serial::before {content: \"\";position: absolute;border-left: 1px solid gray;box-sizing: border-box;top: 0;bottom: 0;left: 50%;z-index: 0;}#sk-container-id-1 div.sk-serial {display: flex;flex-direction: column;align-items: center;background-color: white;padding-right: 0.2em;padding-left: 0.2em;position: relative;}#sk-container-id-1 div.sk-item {position: relative;z-index: 1;}#sk-container-id-1 div.sk-parallel {display: flex;align-items: stretch;justify-content: center;background-color: white;position: relative;}#sk-container-id-1 div.sk-item::before, #sk-container-id-1 div.sk-parallel-item::before {content: \"\";position: absolute;border-left: 1px solid gray;box-sizing: border-box;top: 0;bottom: 0;left: 50%;z-index: -1;}#sk-container-id-1 div.sk-parallel-item {display: flex;flex-direction: column;z-index: 1;position: relative;background-color: white;}#sk-container-id-1 div.sk-parallel-item:first-child::after {align-self: flex-end;width: 50%;}#sk-container-id-1 div.sk-parallel-item:last-child::after {align-self: flex-start;width: 50%;}#sk-container-id-1 div.sk-parallel-item:only-child::after {width: 0;}#sk-container-id-1 div.sk-dashed-wrapped {border: 1px dashed gray;margin: 0 0.4em 0.5em 0.4em;box-sizing: border-box;padding-bottom: 0.4em;background-color: white;}#sk-container-id-1 div.sk-label label {font-family: monospace;font-weight: bold;display: inline-block;line-height: 1.2em;}#sk-container-id-1 div.sk-label-container {text-align: center;}#sk-container-id-1 div.sk-container {/* jupyter's `normalize.less` sets `[hidden] { display: none; }` but bootstrap.min.css set `[hidden] { display: none !important; }` so we also need the `!important` here to be able to override the default hidden behavior on the sphinx rendered scikit-learn.org. See: https://github.com/scikit-learn/scikit-learn/issues/21755 */display: inline-block !important;position: relative;}#sk-container-id-1 div.sk-text-repr-fallback {display: none;}</style><div id=\"sk-container-id-1\" class=\"sk-top-container\"><div class=\"sk-text-repr-fallback\"><pre>GridSearchCV(cv=3, estimator=LogisticRegression(),\n",
       "             param_grid={&#x27;C&#x27;: [1, 10, 100],\n",
       "                         &#x27;class_weight&#x27;: [{0: 1, 1: 15}, {0: 1, 1: 14},\n",
       "                                          {0: 1, 1: 16}],\n",
       "                         &#x27;solver&#x27;: [&#x27;liblinear&#x27;]},\n",
       "             scoring=&lt;function our_score at 0x7f6678fcf880&gt;)</pre><b>In a Jupyter environment, please rerun this cell to show the HTML representation or trust the notebook. <br />On GitHub, the HTML representation is unable to render, please try loading this page with nbviewer.org.</b></div><div class=\"sk-container\" hidden><div class=\"sk-item sk-dashed-wrapped\"><div class=\"sk-label-container\"><div class=\"sk-label sk-toggleable\"><input class=\"sk-toggleable__control sk-hidden--visually\" id=\"sk-estimator-id-1\" type=\"checkbox\" ><label for=\"sk-estimator-id-1\" class=\"sk-toggleable__label sk-toggleable__label-arrow\">GridSearchCV</label><div class=\"sk-toggleable__content\"><pre>GridSearchCV(cv=3, estimator=LogisticRegression(),\n",
       "             param_grid={&#x27;C&#x27;: [1, 10, 100],\n",
       "                         &#x27;class_weight&#x27;: [{0: 1, 1: 15}, {0: 1, 1: 14},\n",
       "                                          {0: 1, 1: 16}],\n",
       "                         &#x27;solver&#x27;: [&#x27;liblinear&#x27;]},\n",
       "             scoring=&lt;function our_score at 0x7f6678fcf880&gt;)</pre></div></div></div><div class=\"sk-parallel\"><div class=\"sk-parallel-item\"><div class=\"sk-item\"><div class=\"sk-label-container\"><div class=\"sk-label sk-toggleable\"><input class=\"sk-toggleable__control sk-hidden--visually\" id=\"sk-estimator-id-2\" type=\"checkbox\" ><label for=\"sk-estimator-id-2\" class=\"sk-toggleable__label sk-toggleable__label-arrow\">estimator: LogisticRegression</label><div class=\"sk-toggleable__content\"><pre>LogisticRegression()</pre></div></div></div><div class=\"sk-serial\"><div class=\"sk-item\"><div class=\"sk-estimator sk-toggleable\"><input class=\"sk-toggleable__control sk-hidden--visually\" id=\"sk-estimator-id-3\" type=\"checkbox\" ><label for=\"sk-estimator-id-3\" class=\"sk-toggleable__label sk-toggleable__label-arrow\">LogisticRegression</label><div class=\"sk-toggleable__content\"><pre>LogisticRegression()</pre></div></div></div></div></div></div></div></div></div></div>"
      ],
      "text/plain": [
       "GridSearchCV(cv=3, estimator=LogisticRegression(),\n",
       "             param_grid={'C': [1, 10, 100],\n",
       "                         'class_weight': [{0: 1, 1: 15}, {0: 1, 1: 14},\n",
       "                                          {0: 1, 1: 16}],\n",
       "                         'solver': ['liblinear']},\n",
       "             scoring=<function our_score at 0x7f6678fcf880>)"
      ]
     },
     "execution_count": 23,
     "metadata": {},
     "output_type": "execute_result"
    }
   ],
   "source": [
    "grid_search_2.fit(X_train, y_train)"
   ]
  },
  {
   "cell_type": "code",
   "execution_count": 24,
   "metadata": {},
   "outputs": [
    {
     "name": "stdout",
     "output_type": "stream",
     "text": [
      "Meilleurs paramètres : {'C': 10, 'class_weight': {0: 1, 1: 16}, 'solver': 'liblinear'}\n",
      "Meilleur score : 0.18486421521438198\n"
     ]
    }
   ],
   "source": [
    "print(\"Meilleurs paramètres :\", grid_search_2.best_params_)\n",
    "print(\"Meilleur score :\", grid_search_2.best_score_)"
   ]
  }
 ],
 "metadata": {
  "kernelspec": {
   "display_name": "base",
   "language": "python",
   "name": "python3"
  },
  "language_info": {
   "codemirror_mode": {
    "name": "ipython",
    "version": 3
   },
   "file_extension": ".py",
   "mimetype": "text/x-python",
   "name": "python",
   "nbconvert_exporter": "python",
   "pygments_lexer": "ipython3",
   "version": "3.10.9"
  },
  "orig_nbformat": 4
 },
 "nbformat": 4,
 "nbformat_minor": 2
}
