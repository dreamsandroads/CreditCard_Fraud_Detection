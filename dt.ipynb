{
 "cells": [
  {
   "cell_type": "code",
   "execution_count": 1,
   "metadata": {},
   "outputs": [
    {
     "name": "stdout",
     "output_type": "stream",
     "text": [
      "Collecting imblearn\n",
      "  Downloading imblearn-0.0-py2.py3-none-any.whl (1.9 kB)\n",
      "Collecting imbalanced-learn (from imblearn)\n",
      "  Downloading imbalanced_learn-0.10.1-py3-none-any.whl (226 kB)\n",
      "\u001b[2K     \u001b[90m━━━━━━━━━━━━━━━━━━━━━━━━━━━━━━━━━━━━━━━\u001b[0m \u001b[32m226.0/226.0 kB\u001b[0m \u001b[31m8.7 MB/s\u001b[0m eta \u001b[36m0:00:00\u001b[0m\n",
      "\u001b[?25hRequirement already satisfied: numpy>=1.17.3 in /opt/mamba/lib/python3.10/site-packages (from imbalanced-learn->imblearn) (1.23.5)\n",
      "Requirement already satisfied: scipy>=1.3.2 in /opt/mamba/lib/python3.10/site-packages (from imbalanced-learn->imblearn) (1.10.1)\n",
      "Requirement already satisfied: scikit-learn>=1.0.2 in /opt/mamba/lib/python3.10/site-packages (from imbalanced-learn->imblearn) (1.2.2)\n",
      "Requirement already satisfied: joblib>=1.1.1 in /opt/mamba/lib/python3.10/site-packages (from imbalanced-learn->imblearn) (1.2.0)\n",
      "Requirement already satisfied: threadpoolctl>=2.0.0 in /opt/mamba/lib/python3.10/site-packages (from imbalanced-learn->imblearn) (3.1.0)\n",
      "Installing collected packages: imbalanced-learn, imblearn\n",
      "Successfully installed imbalanced-learn-0.10.1 imblearn-0.0\n",
      "Requirement already satisfied: tqdm in /opt/mamba/lib/python3.10/site-packages (4.65.0)\n"
     ]
    }
   ],
   "source": [
    "!pip install imblearn\n",
    "import pandas as pd\n",
    "import numpy as np\n",
    "import matplotlib.pyplot as plt\n",
    "import seaborn as sns\n",
    "\n",
    "from sklearn.model_selection import cross_val_score\n",
    "from sklearn.model_selection import cross_validate\n",
    "from sklearn.metrics import make_scorer\n",
    "# sklearn packages (for pre-processing, model-building, evaluators, cross-validators, etc.)\n",
    "from sklearn import model_selection\n",
    "from sklearn.model_selection import train_test_split\n",
    "from sklearn.preprocessing import PolynomialFeatures, PowerTransformer\n",
    "from sklearn import preprocessing\n",
    "from sklearn import metrics\n",
    "from sklearn.metrics import confusion_matrix\n",
    "from sklearn import linear_model\n",
    "from sklearn.linear_model import LogisticRegression\n",
    "from sklearn.model_selection import StratifiedKFold\n",
    "from sklearn.model_selection import RandomizedSearchCV\n",
    "from sklearn.metrics import accuracy_score, recall_score, precision_score, classification_report, roc_auc_score, f1_score\n",
    "from sklearn.metrics import precision_recall_curve, auc\n",
    "from sklearn.tree import DecisionTreeClassifier\n",
    "from sklearn.ensemble import RandomForestClassifier\n",
    "from sklearn.svm import SVC\n",
    "from sklearn.neighbors import KNeighborsClassifier\n",
    "from sklearn.model_selection import StratifiedShuffleSplit\n",
    "from sklearn.preprocessing import OneHotEncoder\n",
    "\n",
    "# Imblearn packages (for over_sampling and imblearn pipelines)\n",
    "from imblearn import over_sampling\n",
    "from imblearn.over_sampling import SMOTE, ADASYN, RandomOverSampler\n",
    "from imblearn.pipeline import Pipeline, make_pipeline  ## Using packages from imblearn.pipeline for making pipelines\n",
    "\n",
    "## xgboost packages\n",
    "import xgboost as xgb\n",
    "from xgboost import XGBClassifier\n",
    "from xgboost import plot_importance\n",
    "\n",
    "!pip install tqdm\n",
    "from tqdm import tqdm"
   ]
  },
  {
   "cell_type": "code",
   "execution_count": 4,
   "metadata": {},
   "outputs": [],
   "source": [
    "df_cct = pd.read_parquet(\"/home/onyxia/work/df_cct_2016.parquet\")\n",
    "cct_init = pd.read_parquet(\"/home/onyxia/work/df_cct_final.parquet\")\n",
    "df_index = df_cct.reset_index()\n",
    "df_cct.reset_index(inplace=True, drop=True)"
   ]
  },
  {
   "attachments": {},
   "cell_type": "markdown",
   "metadata": {},
   "source": [
    "### One Hot Encoder"
   ]
  },
  {
   "cell_type": "code",
   "execution_count": 5,
   "metadata": {},
   "outputs": [],
   "source": [
    "# For \"Use Chip\":\n",
    "\n",
    "enc = OneHotEncoder(handle_unknown='ignore')\n",
    "\n",
    "features_array = enc.fit_transform(df_cct[[\"Use Chip\"]]).toarray()\n",
    "\n",
    "features_labels = np.hstack(np.array(enc.categories_))\n",
    "\n",
    "df_cct = pd.concat([df_cct, pd.DataFrame(features_array, columns = features_labels)], axis = 1)"
   ]
  },
  {
   "cell_type": "code",
   "execution_count": 6,
   "metadata": {},
   "outputs": [],
   "source": [
    "# For \"Card Brand\":\n",
    "\n",
    "enc = OneHotEncoder(handle_unknown='ignore')\n",
    "\n",
    "features_array = enc.fit_transform(df_cct[[\"Card Brand\"]]).toarray()\n",
    "\n",
    "features_labels = np.hstack(np.array(enc.categories_))\n",
    "\n",
    "df_cct = pd.concat([df_cct, pd.DataFrame(features_array, columns = features_labels)], axis = 1)"
   ]
  },
  {
   "cell_type": "code",
   "execution_count": 7,
   "metadata": {},
   "outputs": [],
   "source": [
    "# For \"Card Type\":\n",
    "\n",
    "enc = OneHotEncoder(handle_unknown='ignore')\n",
    "\n",
    "features_array = enc.fit_transform(df_cct[[\"Card Type\"]]).toarray()\n",
    "\n",
    "features_labels = np.hstack(np.array(enc.categories_))\n",
    "\n",
    "df_cct = pd.concat([df_cct, pd.DataFrame(features_array, columns = features_labels)], axis = 1)"
   ]
  },
  {
   "cell_type": "code",
   "execution_count": 8,
   "metadata": {},
   "outputs": [],
   "source": [
    "# For \"label global\":\n",
    "\n",
    "enc = OneHotEncoder(handle_unknown='ignore')\n",
    "\n",
    "features_array = enc.fit_transform(df_cct[[\"label_global\"]]).toarray()\n",
    "\n",
    "features_labels = np.hstack(np.array(enc.categories_))\n",
    "\n",
    "df_cct = pd.concat([df_cct, pd.DataFrame(features_array, columns = features_labels)], axis = 1)"
   ]
  },
  {
   "cell_type": "code",
   "execution_count": 9,
   "metadata": {},
   "outputs": [],
   "source": [
    "df_cct.rename(columns={0:\"0\", -1: \"-1\", 1:\"1\", 2:\"2\", 3: \"3\", 4:\"4\", 5:\"5\", 6:\"6\"}, inplace=True)\n"
   ]
  },
  {
   "cell_type": "code",
   "execution_count": 10,
   "metadata": {},
   "outputs": [
    {
     "data": {
      "text/plain": [
       "Index(['User', 'Card', 'Month', 'Day', 'Hours', 'year_diff', 'Amount',\n",
       "       'Use Chip', 'Card Brand', 'Card Type', 'Credit Limit', 'delta_t_s',\n",
       "       'delta_t_s_card', 'amt/daily_income', 'Retired', 'daily_amount',\n",
       "       'nb_daily_declines_card', 'nb_monthly_declines_card', 'bad_pin',\n",
       "       'insufficient_balance', 'hr_nbt/last_30d_av_hr_nbt',\n",
       "       'day_nbt/last_30d_av_day_nbt', 'last_3d_amt/nbt', 'label_global',\n",
       "       'Is Fraud?', 'pos_amount', 'Chip Transaction', 'Online Transaction',\n",
       "       'Swipe Transaction', 'Amex', 'Discover', 'Mastercard', 'Visa', 'Credit',\n",
       "       'Debit', 'Debit (Prepaid)', '-1', '0', '1', '2', '3', '4', '5', '6'],\n",
       "      dtype='object')"
      ]
     },
     "execution_count": 10,
     "metadata": {},
     "output_type": "execute_result"
    }
   ],
   "source": [
    "df_cct.columns\n"
   ]
  },
  {
   "cell_type": "code",
   "execution_count": 11,
   "metadata": {},
   "outputs": [],
   "source": [
    "# selecting features\n",
    "# dropped card, nb_weekly_declines, day_of_week, nb_daily_declines, credit, debit, amex,  discover,\n",
    "# mastercard, visa\n",
    "features = ['Month', 'Day', 'Hours', 'year_diff', 'Amount', 'pos_amount',\n",
    "       'Credit Limit', 'delta_t_s',\n",
    "       'delta_t_s_card', 'amt/daily_income', 'Retired', 'daily_amount',\n",
    "       'nb_monthly_declines_card', 'bad_pin',\n",
    "       'insufficient_balance', 'hr_nbt/last_30d_av_hr_nbt',\n",
    "       'day_nbt/last_30d_av_day_nbt', 'last_3d_amt/nbt', 'Chip Transaction', 'Online Transaction',\n",
    "       'Swipe Transaction','Debit (Prepaid)',\"Is Fraud?\",\n",
    "        \"-1\",\"0\",\"1\",\"2\",\"3\",\"4\",\"5\",\"6\"]\n",
    "\n",
    "df_selec = df_cct[features] # 21 features + clusters\n",
    "\n",
    "X = df_selec[['Month', 'Day', 'Hours', 'year_diff', 'Amount', 'pos_amount',\n",
    "       'Credit Limit', 'delta_t_s',\n",
    "       'delta_t_s_card', 'amt/daily_income', 'Retired', 'daily_amount',\n",
    "       'nb_monthly_declines_card', 'bad_pin',\n",
    "       'insufficient_balance', 'hr_nbt/last_30d_av_hr_nbt',\n",
    "       'day_nbt/last_30d_av_day_nbt', 'last_3d_amt/nbt', 'Chip Transaction', 'Online Transaction',\n",
    "       'Swipe Transaction','Debit (Prepaid)',\"-1\",\"0\",\"1\",\"2\",\"3\",\"4\",\"5\",\"6\"]]\n",
    "       \n",
    "y = df_selec[\"Is Fraud?\"]"
   ]
  },
  {
   "cell_type": "code",
   "execution_count": 12,
   "metadata": {},
   "outputs": [],
   "source": [
    "## Splitting the data into train and test data  (70:30)\n",
    "\n",
    "## Create a STRATIFIED train-test (Hence, passing the argument 'stratify= y')\n",
    "# In the first step we will split the data in training and remaining dataset\n",
    "X_train, X_test, y_train, y_test = train_test_split(X, y, train_size=0.7, shuffle = True, random_state = 0, stratify = y)"
   ]
  },
  {
   "cell_type": "code",
   "execution_count": 13,
   "metadata": {},
   "outputs": [],
   "source": [
    "df_train = df_selec.loc[X_train.index]"
   ]
  },
  {
   "cell_type": "code",
   "execution_count": 14,
   "metadata": {},
   "outputs": [],
   "source": [
    "#Create a pandas dataframe to store model results\n",
    "results_df = pd.DataFrame(columns=['Data Handling Technique','Model', 'Precision','Recall','F1 score', \"Our Score\"])"
   ]
  },
  {
   "cell_type": "code",
   "execution_count": 55,
   "metadata": {},
   "outputs": [],
   "source": [
    "#building our own score\n",
    "def our_score(clf, X, y):\n",
    "\n",
    "    y_pred = clf.predict(X)\n",
    "    cm = confusion_matrix(y, y_pred)\n",
    "    tn, fp, fn, tp = cm.ravel()\n",
    "    \n",
    "    fp_rows = []\n",
    "\n",
    "    for i in range(len(y_pred)):\n",
    "        if y_pred[i] == 1 and y.values[i] == 0:\n",
    "            fp_rows.append(y.index[i])\n",
    "\n",
    "    fn_rows = []\n",
    "\n",
    "    for i in range(len(y_pred)):\n",
    "        if y_pred[i] == 0 and y.values[i] == 1:\n",
    "            fn_rows.append(y.index[i])\n",
    "\n",
    "    tp_rows = []\n",
    "\n",
    "    for i in range(len(y_pred)):\n",
    "        if y_pred[i] == 1 and y.values[i] == 1:\n",
    "            tp_rows.append(y.index[i])\n",
    "\n",
    "    tn_rows = []\n",
    "\n",
    "    for i in range(len(y_pred)):\n",
    "        if y_pred[i] == 0 and y.values[i] == 0:\n",
    "            tn_rows.append(y.index[i])\n",
    "\n",
    "    df_fp = cct_init.loc[df_index.loc[fp_rows][\"index\"]]\n",
    "    fp_new = list(df_fp.loc[df_fp[\"Amount\"]>=15].index)\n",
    "\n",
    "    df_tp = cct_init.loc[df_index.loc[tp_rows][\"index\"]]\n",
    "    tp_new = list(df_tp.loc[df_tp[\"Amount\"]>=15].index)\n",
    "\n",
    "    df_fn = cct_init.loc[df_index.loc[fn_rows][\"index\"]]\n",
    "    fn_new = list(df_fn.loc[df_fn[\"Amount\"]>=15].index)\n",
    "\n",
    "    our_score = -15*(len(fp_new) + len(tp_new)) + cct_init.loc[tp_new].Amount.sum() - cct_init.loc[fn_rows].Amount.sum() - cct_init.loc[tp_rows].Amount.sum()\n",
    "\n",
    "    our_score_norm = (our_score + cct_init.loc[fn_rows].Amount.sum() + cct_init.loc[tp_rows].Amount.sum())/(cct_init.loc[tp_new].Amount.sum()+cct_init.loc[fn_new].Amount.sum() - 15*(len(tp_new)+len(fn_new)))\n",
    "\n",
    "    return our_score_norm"
   ]
  },
  {
   "cell_type": "code",
   "execution_count": 42,
   "metadata": {},
   "outputs": [],
   "source": [
    "tn, fp, fn, tp = cm.ravel()\n",
    "    \n",
    "fp_rows = []\n",
    "\n",
    "for i in range(len(y_pred)):\n",
    "    if y_pred[i] == 1 and y.values[i] == 0:\n",
    "        fp_rows.append(y.index[i])\n",
    "\n",
    "df_fp = cct_init.loc[df_index.loc[fp_rows][\"index\"]]\n",
    "fp_new = list(df_fp.loc[df_fp[\"Amount\"]>=15].index)"
   ]
  },
  {
   "cell_type": "code",
   "execution_count": 56,
   "metadata": {},
   "outputs": [],
   "source": [
    "#calculate retrieved or lost money\n",
    "def retrieved_money(clf, X, y):\n",
    "\n",
    "    y_pred = clf.predict(X)\n",
    "    cm = confusion_matrix(y, y_pred)\n",
    "    tn, fp, fn, tp = cm.ravel()\n",
    "    \n",
    "    fp_rows = []\n",
    "\n",
    "    for i in range(len(y_pred)):\n",
    "        if y_pred[i] == 1 and y.values[i] == 0:\n",
    "            fp_rows.append(y.index[i])\n",
    "\n",
    "    fn_rows = []\n",
    "\n",
    "    for i in range(len(y_pred)):\n",
    "        if y_pred[i] == 0 and y.values[i] == 1:\n",
    "            fn_rows.append(y.index[i])\n",
    "\n",
    "    tp_rows = []\n",
    "\n",
    "    for i in range(len(y_pred)):\n",
    "        if y_pred[i] == 1 and y.values[i] == 1:\n",
    "            tp_rows.append(y.index[i])\n",
    "\n",
    "    tn_rows = []\n",
    "\n",
    "    for i in range(len(y_pred)):\n",
    "        if y_pred[i] == 0 and y.values[i] == 0:\n",
    "            tn_rows.append(y.index[i])\n",
    "\n",
    "    df_fp = cct_init.loc[df_index.loc[fp_rows][\"index\"]]\n",
    "    fp_new = list(df_fp.loc[df_fp[\"Amount\"]>=15].index)\n",
    "\n",
    "    df_tp = cct_init.loc[df_index.loc[tp_rows][\"index\"]]\n",
    "    tp_new = list(df_tp.loc[df_tp[\"Amount\"]>=15].index)\n",
    "\n",
    "    df_fn = cct_init.loc[df_index.loc[fn_rows][\"index\"]]\n",
    "    fn_new = list(df_fn.loc[df_fn[\"Amount\"]>=15].index)\n",
    "\n",
    "    initial_loss = - cct_init.loc[fn_rows].Amount.sum() - cct_init.loc[tp_rows].Amount.sum()\n",
    "\n",
    "    retrieved_money = -15*(len(fp_new) + len(tp_new)) + cct_init.loc[tp_new].Amount.sum() \n",
    "\n",
    "    max_retrieved_money = cct_init.loc[tp_new].Amount.sum()+cct_init.loc[fn_new].Amount.sum() - 15*(len(tp_new)+len(fn_new))\n",
    "\n",
    "    return initial_loss, retrieved_money, max_retrieved_money"
   ]
  },
  {
   "cell_type": "code",
   "execution_count": 17,
   "metadata": {},
   "outputs": [],
   "source": [
    "# plot confusion matrix\n",
    "def plot_confusion_matrix(cm):\n",
    "    \"\"\"\n",
    "    This function prints and plots the confusion matrix.\n",
    "    \"\"\"\n",
    "    classes=['Non-Fraudulent','Fraudulent']\n",
    "    cmap=plt.cm.Blues\n",
    "    plt.imshow(cm, interpolation='nearest', cmap=cmap)\n",
    "    plt.title('Confusion Matrix', fontsize=14)\n",
    "    plt.colorbar()\n",
    "    tick_marks = np.arange(len(classes))\n",
    "    plt.xticks(tick_marks, classes)\n",
    "    plt.yticks(tick_marks, classes, rotation=90)\n",
    "    thresh = cm.max() / 2.\n",
    "    for i in range (cm.shape[0]):\n",
    "        for j in range (cm.shape[1]):\n",
    "            plt.text(j, i, cm[i, j],horizontalalignment=\"center\",\n",
    "                 color=\"white\" if cm[i, j] > thresh else \"black\")\n",
    "    plt.tight_layout()\n",
    "    plt.ylabel('True label', fontsize= 10)\n",
    "    plt.xlabel('Predicted label', fontsize=10)"
   ]
  },
  {
   "cell_type": "code",
   "execution_count": 18,
   "metadata": {},
   "outputs": [],
   "source": [
    "## Define a function to plot ROC_AUC curve\n",
    "def plot_roc_auc_curve(fpr, tpr, roc_auc):\n",
    "    print(f\"ROC for test dataset {round(roc_auc*100,3)}%\")  \n",
    "    plt.figure(figsize=(5,5))\n",
    "    plt.title('Receiver Operating Characteristic (ROC) Curve')\n",
    "    plt.plot(fpr,tpr,'b',label=\"Test ROC_AUC=\"+str(round(roc_auc,3)))\n",
    "    plt.plot([0,1],[0,1],'r--')\n",
    "    plt.ylabel('True Positive Rate (TPR)')\n",
    "    plt.xlabel('False Positive Rate (FPR)')\n",
    "    plt.legend(loc='lower right')\n",
    "    plt.show()"
   ]
  },
  {
   "cell_type": "code",
   "execution_count": 20,
   "metadata": {},
   "outputs": [
    {
     "name": "stdout",
     "output_type": "stream",
     "text": [
      "TRAIN: (4040028,) TEST: (1010007,) \n",
      "\n",
      "TRAIN: [1009995 1009996 1009997 ... 5050032 5050033 5050034] \n",
      "\n",
      "TEST: [      0       1       2 ... 1018900 1019534 1022624] \n",
      "\n",
      "TRAIN: (4040028,) TEST: (1010007,) \n",
      "\n",
      "TRAIN: [      0       1       2 ... 5050032 5050033 5050034] \n",
      "\n",
      "TEST: [1009995 1009996 1009997 ... 2020243 2020842 2022263] \n",
      "\n",
      "TRAIN: (4040028,) TEST: (1010007,) \n",
      "\n",
      "TRAIN: [      0       1       2 ... 5050032 5050033 5050034] \n",
      "\n",
      "TEST: [2020011 2020012 2020013 ... 3036840 3037069 3038746] \n",
      "\n",
      "TRAIN: (4040028,) TEST: (1010007,) \n",
      "\n",
      "TRAIN: [      0       1       2 ... 5050032 5050033 5050034] \n",
      "\n",
      "TEST: [3030009 3030010 3030011 ... 4042448 4042830 4043328] \n",
      "\n",
      "TRAIN: (4040028,) TEST: (1010007,) \n",
      "\n",
      "TRAIN: [      0       1       2 ... 4042448 4042830 4043328] \n",
      "\n",
      "TEST: [4040020 4040021 4040022 ... 5050032 5050033 5050034] \n",
      "\n"
     ]
    }
   ],
   "source": [
    "from sklearn.model_selection import StratifiedKFold\n",
    "kf = StratifiedKFold(n_splits=5, shuffle=False)\n",
    "kf.split(X_train, y_train)\n",
    "for train_index, test_index in kf.split(X_train, y_train):\n",
    "    print(\"TRAIN:\", train_index.shape, \"TEST:\", test_index.shape , str(\"\\n\"))\n",
    "    print(\"TRAIN:\", train_index, \"\\n\\nTEST:\", test_index , str(\"\\n\"))"
   ]
  },
  {
   "cell_type": "code",
   "execution_count": 26,
   "metadata": {},
   "outputs": [
    {
     "data": {
      "image/png": "[encoded data removed]",
      "text/plain": [
       "<Figure size 640x480 with 2 Axes>"
      ]
     },
     "metadata": {},
     "output_type": "display_data"
    }
   ],
   "source": [
    "dt = DecisionTreeClassifier(random_state = 0, class_weight={1:16, 0:1}, min_samples_leaf = 100)\n",
    "dt.fit(X_train,y_train)\n",
    "y_pred = dt.predict(X_test)\n",
    "cm = confusion_matrix(y_test, y_pred)\n",
    "plot_confusion_matrix(cm)"
   ]
  },
  {
   "cell_type": "code",
   "execution_count": 57,
   "metadata": {},
   "outputs": [
    {
     "data": {
      "text/plain": [
       "0.06304184749715247"
      ]
     },
     "execution_count": 57,
     "metadata": {},
     "output_type": "execute_result"
    }
   ],
   "source": [
    "our_score(dt, X_test, y_test)"
   ]
  },
  {
   "cell_type": "code",
   "execution_count": 58,
   "metadata": {},
   "outputs": [
    {
     "data": {
      "text/plain": [
       "(-140153.78, 17070.809999999998, 270785.37)"
      ]
     },
     "execution_count": 58,
     "metadata": {},
     "output_type": "execute_result"
    }
   ],
   "source": [
    "retrieved_money(dt, X_test, y_test)"
   ]
  },
  {
   "cell_type": "code",
   "execution_count": null,
   "metadata": {},
   "outputs": [],
   "source": [
    "print(CV_model.best_estimator_)"
   ]
  }
 ],
 "metadata": {
  "kernelspec": {
   "display_name": "base",
   "language": "python",
   "name": "python3"
  },
  "language_info": {
   "codemirror_mode": {
    "name": "ipython",
    "version": 3
   },
   "file_extension": ".py",
   "mimetype": "text/x-python",
   "name": "python",
   "nbconvert_exporter": "python",
   "pygments_lexer": "ipython3",
   "version": "3.10.9"
  },
  "orig_nbformat": 4
 },
 "nbformat": 4,
 "nbformat_minor": 2
}
