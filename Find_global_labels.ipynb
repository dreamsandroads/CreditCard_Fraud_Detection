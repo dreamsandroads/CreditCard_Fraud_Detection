{
 "cells": [
  {
   "cell_type": "code",
   "execution_count": 2,
   "id": "9e84ad3b",
   "metadata": {},
   "outputs": [],
   "source": [
    "# Import of basic libraries/packages.\n",
    "\n",
    "import pandas as pd\n",
    "import os\n",
    "import numpy as np\n",
    "import dask.dataframe as dd \n",
    "import warnings \n",
    "warnings.filterwarnings(\"ignore\")\n",
    "import matplotlib.pyplot as plt"
   ]
  },
  {
   "cell_type": "code",
   "execution_count": 2,
   "id": "3d84127c",
   "metadata": {},
   "outputs": [],
   "source": [
    "# File with variables of interest: last version: 21/02.  \n",
    "\n",
    "# df_cct = pd.read_parquet(\"/Users/vanheuverswyn/Desktop/ProjetStatapp/df_all.parquet\")"
   ]
  },
  {
   "cell_type": "code",
   "execution_count": 3,
   "id": "ed685638",
   "metadata": {},
   "outputs": [],
   "source": [
    "# Creation of 2000 parquet (1 per user). \n",
    "\n",
    "#for k in range (2000):\n",
    "    #df=df_cct[df_cct['User']==k]\n",
    "    #df.to_parquet('/Users/vanheuverswyn/Desktop/ProjetStatapp/parquet_all/df_all'+ str(k)+'.parquet')"
   ]
  },
  {
   "cell_type": "code",
   "execution_count": 4,
   "id": "7012e46b",
   "metadata": {},
   "outputs": [],
   "source": [
    "from sklearn import preprocessing\n",
    "# Function that removes unnecessary columns, creates the 'Number_year_since_PIN_last_Changed' column, \n",
    "# that creates dummies from category variables and normalizes non-category variables. \n",
    "\n",
    "def modification_data_frame(df_cct):\n",
    "    \n",
    "    # Remove columns that are no longer useful. \n",
    "    df_cct =  df_cct.drop([  'day_of_week','Card', 'Month', 'Day', 'Hours'], axis = 1)\n",
    "    \n",
    "    # To avoid problems when concatenating dataframes (df_cct and dummies), we reset the indexes\n",
    "    df_cct=df_cct.reset_index()    \n",
    "    df_cct =  df_cct.drop([\"index\"], axis = 1)\n",
    "\n",
    "    enc = preprocessing.OneHotEncoder(handle_unknown='ignore')\n",
    "    features_array = enc.fit_transform(df_cct[['Card Brand']]).toarray()\n",
    "    features_labels = np.hstack(np.array(enc.categories_))\n",
    "    df_cct = pd.concat([df_cct, pd.DataFrame(features_array, columns = features_labels).reset_index()], axis = 1)\n",
    "\n",
    "    enc = preprocessing.OneHotEncoder(handle_unknown='ignore')\n",
    "    features_array = enc.fit_transform(df_cct[['Use Chip']]).toarray()\n",
    "    features_labels = np.hstack(np.array(enc.categories_))\n",
    "    df_cct = pd.concat([df_cct, pd.DataFrame(features_array, columns = features_labels).reset_index()], axis = 1)\n",
    "\n",
    "    enc = preprocessing.OneHotEncoder(handle_unknown='ignore')\n",
    "    features_array = enc.fit_transform(df_cct[['Card Type']]).toarray()\n",
    "    features_labels = np.hstack(np.array(enc.categories_))\n",
    "    df_cct = pd.concat([df_cct, pd.DataFrame(features_array, columns = features_labels)], axis = 1)\n",
    "\n",
    "    df_cct =  df_cct.drop([\"index\",\"Card Brand\",'Card Type'], axis = 1)\n",
    "    \n",
    "    # We centre and reduce the following columns to be normalised:\n",
    "    Normalizing_List=['Amount', 'Credit Limit', 'delta_t_s', 'delta_t_s_card',\n",
    "       'amt/daily_income', 'daily_amount', 'nb_daily_declines_card',\n",
    "       'nb_weekly_declines_card', 'nb_monthly_declines_card',\n",
    "       'hr_nbt/last_30d_av_hr_nbt',\n",
    "       'day_nbt/last_30d_av_day_nbt', 'last_3d_amt/nbt',\n",
    "       'year_diff']\n",
    "    df_cct_not_normalized=df_cct.copy()\n",
    "    for i in Normalizing_List:\n",
    "        if np.std(df_cct[i])!=0:\n",
    "            df_cct[i] = (df_cct[i]-np.mean(df_cct[i]))/np.std(df_cct[i])\n",
    "        else:\n",
    "            df_cct[i] = (df_cct[i]-np.mean(df_cct[i])) \n",
    "    return df_cct"
   ]
  },
  {
   "cell_type": "code",
   "execution_count": 4,
   "id": "03fa6274",
   "metadata": {},
   "outputs": [],
   "source": [
    "# Application of the function to the 2000 parquet -> you get the modified \n",
    "# parquets and the parquets with the associated frauds for each user in one file. \n",
    "    \n",
    "for k in range (2000):\n",
    "    df=pd.read_parquet(\"/Users/vanheuverswyn/Desktop/ProjetStatapp/parquet_all/df_all\"+str(k)+\".parquet\")\n",
    "    \n",
    "    df_modified=modification_data_frame(df)\n",
    "    IsFraud=df_modified[\"Is Fraud?\"].to_frame()\n",
    "    df_modified=df_modified.drop([\"Is Fraud?\"],axis = 1)\n",
    "    \n",
    "    df_modified.to_parquet('/Users/vanheuverswyn/Desktop/ProjetStatapp/parquet_modified_all/df_all'+ str(k)+'.parquet')\n",
    "    IsFraud.to_parquet('/Users/vanheuverswyn/Desktop/ProjetStatapp/parquet_modified_all/IsFraud'+ str(k)+'.parquet')"
   ]
  },
  {
   "cell_type": "code",
   "execution_count": 9,
   "id": "9be3aa66",
   "metadata": {},
   "outputs": [],
   "source": [
    "# Function that applies DBSCAN to the dataFrame. \n",
    "\n",
    "def dbScann (df_cct):\n",
    "    X = df_cct.values\n",
    "    X.astype(np.float64)\n",
    "    #eps min_sample et n_jobs a déterminer  (fixer le meme pour tous ou automatiser une selection?)\n",
    "    clustering=cluster.DBSCAN(eps=0.8, min_samples=5, n_jobs = -1)\n",
    "    clustering.fit(X)\n",
    "    \n",
    "def PCA(df_cct):    \n",
    "    pca = PCA()\n",
    "    pca.fit(df_cct)\n",
    "    df_cct.columns = df_cct.columns.astype(\"str\")\n",
    "    df_cct_pca = pca.transform(df_cct)\n",
    "    df_cct_pca_df = pd.DataFrame({\n",
    "    \"Dim1\" : df_cct_pca[:,0], \n",
    "    \"Dim2\" : df_cct_pca[:,1]})\n",
    "    df_cct_pca_df[\"labels\"] = clustering.labels_"
   ]
  },
  {
   "cell_type": "code",
   "execution_count": 11,
   "id": "b51bd61f",
   "metadata": {},
   "outputs": [],
   "source": [
    "# Let's start with the first 200 Users: \n",
    "\n",
    "f = os.listdir(\"/home/onyxia/work/Datasets\")\n",
    "f = [v for v in f if \"df_all\" in v][:2000]\n",
    "df_cct1 = [pd.read_parquet(\"/home/onyxia/work/Datasets/\" + v) for v in f] # Creating a dataframe list."
   ]
  },
  {
   "cell_type": "code",
   "execution_count": 13,
   "id": "5a4fd841",
   "metadata": {},
   "outputs": [],
   "source": [
    "# We have already removed the categorical variables: we also remove User: \n",
    "df_cct = [df_cct1[i].drop(\"User\",  axis = \"columns\") for i in range(len(df_cct1))]"
   ]
  },
  {
   "cell_type": "code",
   "execution_count": 119,
   "id": "3ae371a1",
   "metadata": {},
   "outputs": [],
   "source": [
    "# Function to remove categorical variables:\n",
    "\n",
    "def reshapedf(df):\n",
    "    unique_values = {v : df[v].unique() for v in df.columns}\n",
    "    unique_values = {v : unique_values[v] for v in unique_values.keys() if len(unique_values[v]) <= 2}\n",
    "    if \"Credit Limit\" in list(unique_values.keys()) : \n",
    "        del unique_values['Credit Limit']\n",
    "    return df.drop(list(unique_values.keys()), axis = \"columns\")"
   ]
  },
  {
   "cell_type": "code",
   "execution_count": 15,
   "id": "59fded8e",
   "metadata": {},
   "outputs": [],
   "source": [
    "# Function to implement DBSCAN on a dataset and return the number of clusters:\n",
    "\n",
    "from sklearn import cluster \n",
    "from collections import Counter\n",
    "\n",
    "def DBSCAN1(df_cct, eps, min_sample):\n",
    "    X = df_cct.values\n",
    "    X.astype(np.float64)\n",
    "    # eps min_sample and n_jobs to determine.   \n",
    "    clustering=cluster.DBSCAN(eps = eps, min_samples = min_sample, n_jobs = -1)\n",
    "    clustering.fit(X)\n",
    "    return Counter(clustering.labels_)"
   ]
  },
  {
   "cell_type": "code",
   "execution_count": 16,
   "id": "4ed73c0d",
   "metadata": {},
   "outputs": [],
   "source": [
    "# DBSCAN + insert the label into a new variable for each transaction.\n",
    "\n",
    "def DBSCAN2(df, eps, min_sample):\n",
    "    X = df.values\n",
    "    X.astype(np.float64)\n",
    "    clustering=cluster.DBSCAN(eps = eps, min_samples = min_sample, n_jobs = -1)\n",
    "    clustering.fit(X)\n",
    "    df.insert(1,\"label\", clustering.labels_)\n",
    "    return df   jnj"
   ]
  },
  {
   "cell_type": "code",
   "execution_count": 17,
   "id": "a1584ab2",
   "metadata": {},
   "outputs": [],
   "source": [
    "# Functions to calculate the average distance between points: find eps: \n",
    "\n",
    "def Euclid_distance(point1, point2):\n",
    "    return np.linalg.norm(point1 - point2)\n",
    "    \n",
    "def Transac_distance(point1, set2):\n",
    "    return np.mean([Euclid_distance(point1, point2) for point2 in set2])\n",
    "\n",
    "def User_distance(User):\n",
    "    return np.mean([Transac_distance(point1, User) for point1 in User])\n"
   ]
  },
  {
   "cell_type": "code",
   "execution_count": 18,
   "id": "52d965fd",
   "metadata": {},
   "outputs": [],
   "source": [
    "# Choose eps: \n",
    "#User_distance(df_cct[0].values) # 4.069 idea to try, then go by hand. "
   ]
  },
  {
   "cell_type": "code",
   "execution_count": 387,
   "id": "7d528a3a",
   "metadata": {},
   "outputs": [
    {
     "data": {
      "text/plain": [
       "[Counter({-1: 418, 0: 15042, 1: 272}),\n",
       " Counter({0: 47, -1: 7, 1: 2}),\n",
       " Counter({0: 19004, -1: 556, 1: 355}),\n",
       " Counter({0: 7306, -1: 265, 1: 174}),\n",
       " Counter({-1: 390, 0: 204, 1: 9715, 2: 28}),\n",
       " Counter({-1: 9, 0: 112}),\n",
       " Counter({0: 11, -1: 7, 1: 2, 2: 34, 3: 3}),\n",
       " Counter({-1: 48, 0: 1729, 1: 11, 2: 150, 3: 7, 4: 24, 5: 10}),\n",
       " Counter({0: 24966, -1: 622, 1: 554}),\n",
       " Counter({0: 2929, -1: 84, 1: 77, 2: 5, 3: 76}),\n",
       " Counter({0: 269, -1: 49, 1: 5, 2: 8, 3: 5, 4: 1413, 5: 17}),\n",
       " Counter({0: 9728, 1: 302, -1: 331, 2: 24}),\n",
       " Counter({-1: 507, 0: 21974, 1: 427}),\n",
       " Counter({0: 12863, -1: 292, 1: 423, 2: 1509}),\n",
       " Counter({0: 4449,\n",
       "          1: 59,\n",
       "          2: 204,\n",
       "          -1: 212,\n",
       "          3: 32,\n",
       "          6: 23,\n",
       "          4: 1007,\n",
       "          5: 23,\n",
       "          7: 18}),\n",
       " Counter({0: 41, -1: 236, 1: 10774, 2: 264}),\n",
       " Counter({0: 9140, -1: 248, 2: 227, 1: 603}),\n",
       " Counter({0: 16171, 1: 428, 3: 40, -1: 476, 2: 65}),\n",
       " Counter({0: 100, 1: 2, -1: 12, 2: 2, 3: 5, 4: 13, 5: 2, 6: 2}),\n",
       " Counter({-1: 197, 0: 401, 1: 7411, 2: 49})]"
      ]
     },
     "execution_count": 387,
     "metadata": {},
     "output_type": "execute_result"
    }
   ],
   "source": [
    "# Test : find min_sample : idea : 0.002*df.shape[0]: \n",
    "# look at the number of clusters and number of transactions in each cluster: \n",
    "[DBSCAN1(df, 2.5, max(2,round(0.002*df.shape[0]))) for df in df_cct[:20]]\n",
    "# 2.5 seems okay for eps: look at number of clusters and transactions per cluster. "
   ]
  },
  {
   "cell_type": "code",
   "execution_count": 19,
   "id": "0c4162d5",
   "metadata": {},
   "outputs": [],
   "source": [
    "# The cluster number is assigned to each transaction:\n",
    "df_cct_clustered = [DBSCAN2(df,2.5, max(2,round(0.002*df.shape[0]))) for df in df_cct]"
   ]
  },
  {
   "cell_type": "code",
   "execution_count": 20,
   "id": "173847d1",
   "metadata": {},
   "outputs": [],
   "source": [
    "# We gather the transactions by cluster/label: and take the average: \n",
    "df_cct_clustered1 = [df.groupby(\"label\").mean().reset_index() for df in df_cct_clustered]"
   ]
  },
  {
   "cell_type": "code",
   "execution_count": 50,
   "id": "d4410b43",
   "metadata": {},
   "outputs": [],
   "source": [
    "# We put it all together and do DBSCAN on the subgroups created:\n",
    "df_final = pd.concat(df_cct_clustered1).reset_index(drop = True).drop(\"label\", axis = \"columns\")"
   ]
  },
  {
   "cell_type": "code",
   "execution_count": 51,
   "id": "a341bb00",
   "metadata": {},
   "outputs": [
    {
     "data": {
      "text/plain": [
       "Counter({0: 1590, 1: 2012, 2: 1689, -1: 1887, 3: 1161, 6: 104, 4: 22, 5: 94})"
      ]
     },
     "execution_count": 51,
     "metadata": {},
     "output_type": "execute_result"
    }
   ],
   "source": [
    "DBSCAN1(df_final,1.25,max(2,round(0.002*df_final.shape[0])))"
   ]
  },
  {
   "cell_type": "code",
   "execution_count": 52,
   "id": "275f6aa4",
   "metadata": {},
   "outputs": [],
   "source": [
    "# We have obtained groups by User transactions => then groups of groups of User transactions. \n",
    "df_final1 = DBSCAN2(df_final,1,max(1.25,round(0.002*df_final.shape[0])))"
   ]
  },
  {
   "cell_type": "code",
   "execution_count": 53,
   "id": "4d4d011e",
   "metadata": {},
   "outputs": [
    {
     "data": {
      "text/plain": [
       "array([-1,  0,  1,  2,  3,  4,  6,  5])"
      ]
     },
     "execution_count": 53,
     "metadata": {},
     "output_type": "execute_result"
    }
   ],
   "source": [
    "# Goal: come back to the original transactions: affect one global cluster per transaction:\n",
    "df_final1[\"label\"].unique()"
   ]
  },
  {
   "cell_type": "code",
   "execution_count": 55,
   "id": "58856707",
   "metadata": {},
   "outputs": [
    {
     "data": {
      "text/plain": [
       "array([-1,  0,  1,  2,  3,  4,  6,  5])"
      ]
     },
     "execution_count": 55,
     "metadata": {},
     "output_type": "execute_result"
    }
   ],
   "source": [
    "# Return to User (to individual transactions):\n",
    "# 1. \n",
    "df_tt = pd.concat(df_cct_clustered1).reset_index(drop = True)\n",
    "df_tt.insert(1, \"label_global\", df_final1[\"label\"])\n",
    "df_tt[\"label_global\"].unique()"
   ]
  },
  {
   "cell_type": "code",
   "execution_count": 56,
   "id": "f0857d70",
   "metadata": {},
   "outputs": [],
   "source": [
    "# 2. \n",
    "# Add the User: column to the df_tt: dataset (purpose: to link labels to User transactions):\n",
    "def inserte(df,df_final):\n",
    "    df.insert(1, \"label\", df_final[\"label\"])\n",
    "    return df"
   ]
  },
  {
   "cell_type": "code",
   "execution_count": 59,
   "id": "71b9a2bf",
   "metadata": {},
   "outputs": [],
   "source": [
    "# 2. \n",
    "[inserte(df_cct1[i], df_cct_clustered[i]) for i in range(len(df_cct1))]\n",
    "df_tt.insert(1,\"User\",pd.concat([df.groupby(\"label\").mean().reset_index() for df in df_cct1])[\"User\"].reset_index(drop=True))"
   ]
  },
  {
   "cell_type": "code",
   "execution_count": 60,
   "id": "7bfa99bc",
   "metadata": {},
   "outputs": [
    {
     "data": {
      "text/html": [
       "<div>\n",
       "<style scoped>\n",
       "    .dataframe tbody tr th:only-of-type {\n",
       "        vertical-align: middle;\n",
       "    }\n",
       "\n",
       "    .dataframe tbody tr th {\n",
       "        vertical-align: top;\n",
       "    }\n",
       "\n",
       "    .dataframe thead th {\n",
       "        text-align: right;\n",
       "    }\n",
       "</style>\n",
       "<table border=\"1\" class=\"dataframe\">\n",
       "  <thead>\n",
       "    <tr style=\"text-align: right;\">\n",
       "      <th></th>\n",
       "      <th>label</th>\n",
       "      <th>User</th>\n",
       "      <th>label_global</th>\n",
       "      <th>Amount</th>\n",
       "      <th>Credit Limit</th>\n",
       "      <th>year_diff</th>\n",
       "      <th>delta_t_s</th>\n",
       "      <th>delta_t_s_card</th>\n",
       "      <th>amt/daily_income</th>\n",
       "      <th>daily_amount</th>\n",
       "      <th>nb_daily_declines_card</th>\n",
       "      <th>nb_weekly_declines_card</th>\n",
       "      <th>nb_monthly_declines_card</th>\n",
       "      <th>hr_nbt/last_30d_av_hr_nbt</th>\n",
       "      <th>day_nbt/last_30d_av_day_nbt</th>\n",
       "      <th>last_3d_amt/nbt</th>\n",
       "    </tr>\n",
       "  </thead>\n",
       "  <tbody>\n",
       "    <tr>\n",
       "      <th>0</th>\n",
       "      <td>-1</td>\n",
       "      <td>917.0</td>\n",
       "      <td>-1</td>\n",
       "      <td>0.866996</td>\n",
       "      <td>0.0</td>\n",
       "      <td>0.0</td>\n",
       "      <td>0.234966</td>\n",
       "      <td>0.234966</td>\n",
       "      <td>0.866996</td>\n",
       "      <td>0.886391</td>\n",
       "      <td>1.347151</td>\n",
       "      <td>1.072222</td>\n",
       "      <td>0.219382</td>\n",
       "      <td>-0.266760</td>\n",
       "      <td>-0.013971</td>\n",
       "      <td>0.518652</td>\n",
       "    </tr>\n",
       "    <tr>\n",
       "      <th>1</th>\n",
       "      <td>0</td>\n",
       "      <td>917.0</td>\n",
       "      <td>0</td>\n",
       "      <td>-0.044472</td>\n",
       "      <td>0.0</td>\n",
       "      <td>0.0</td>\n",
       "      <td>0.002368</td>\n",
       "      <td>0.002368</td>\n",
       "      <td>-0.044472</td>\n",
       "      <td>-0.183116</td>\n",
       "      <td>-0.192450</td>\n",
       "      <td>-0.135125</td>\n",
       "      <td>-0.066904</td>\n",
       "      <td>-0.084747</td>\n",
       "      <td>-0.072587</td>\n",
       "      <td>-0.108510</td>\n",
       "    </tr>\n",
       "    <tr>\n",
       "      <th>2</th>\n",
       "      <td>1</td>\n",
       "      <td>917.0</td>\n",
       "      <td>-1</td>\n",
       "      <td>-1.989393</td>\n",
       "      <td>0.0</td>\n",
       "      <td>0.0</td>\n",
       "      <td>-0.878039</td>\n",
       "      <td>-0.878039</td>\n",
       "      <td>-1.989393</td>\n",
       "      <td>1.200855</td>\n",
       "      <td>-0.192450</td>\n",
       "      <td>-0.577350</td>\n",
       "      <td>0.804400</td>\n",
       "      <td>2.925207</td>\n",
       "      <td>1.754688</td>\n",
       "      <td>0.734714</td>\n",
       "    </tr>\n",
       "  </tbody>\n",
       "</table>\n",
       "</div>"
      ],
      "text/plain": [
       "   label   User  label_global    Amount  Credit Limit  year_diff  delta_t_s  \\\n",
       "0     -1  917.0            -1  0.866996           0.0        0.0   0.234966   \n",
       "1      0  917.0             0 -0.044472           0.0        0.0   0.002368   \n",
       "2      1  917.0            -1 -1.989393           0.0        0.0  -0.878039   \n",
       "\n",
       "   delta_t_s_card  amt/daily_income  daily_amount  nb_daily_declines_card  \\\n",
       "0        0.234966          0.866996      0.886391                1.347151   \n",
       "1        0.002368         -0.044472     -0.183116               -0.192450   \n",
       "2       -0.878039         -1.989393      1.200855               -0.192450   \n",
       "\n",
       "   nb_weekly_declines_card  nb_monthly_declines_card  \\\n",
       "0                 1.072222                  0.219382   \n",
       "1                -0.135125                 -0.066904   \n",
       "2                -0.577350                  0.804400   \n",
       "\n",
       "   hr_nbt/last_30d_av_hr_nbt  day_nbt/last_30d_av_day_nbt  last_3d_amt/nbt  \n",
       "0                  -0.266760                    -0.013971         0.518652  \n",
       "1                  -0.084747                    -0.072587        -0.108510  \n",
       "2                   2.925207                     1.754688         0.734714  "
      ]
     },
     "execution_count": 60,
     "metadata": {},
     "output_type": "execute_result"
    }
   ],
   "source": [
    "# 3. \n",
    "# Redraw the dataset by user:\n",
    "grouped = df_tt.groupby(df_tt[\"User\"])\n",
    "Ldf = []\n",
    "[Ldf.append(grouped.get_group(v)) for v in df_tt[\"User\"].unique()]\n",
    "Ldf = [Ldf[i].reset_index(drop = True) for i in range(len(Ldf))]\n",
    "# They are in Ldf. "
   ]
  },
  {
   "cell_type": "code",
   "execution_count": 61,
   "id": "ee1ffcaf",
   "metadata": {},
   "outputs": [
    {
     "data": {
      "text/plain": [
       "{-1: -1, 0: 0, 1: -1}"
      ]
     },
     "execution_count": 61,
     "metadata": {},
     "output_type": "execute_result"
    }
   ],
   "source": [
    "# 4. \n",
    "# Create a list of dicts with correspondence for each label and label_global by User: \n",
    "def corr(df,L):\n",
    "    return L.append({df[\"label\"][i] : df[\"label_global\"][i] for i in range(len(df))})\n",
    "    \n",
    "L = []\n",
    "[corr(df,L) for df in Ldf]"
   ]
  },
  {
   "cell_type": "code",
   "execution_count": 62,
   "id": "788b01d0",
   "metadata": {},
   "outputs": [],
   "source": [
    "# 5. \n",
    "# We have the matching keys: now we come back to the original dataset: \n",
    "# Each transaction is assigned its global label: df_cct_clustered:\n",
    "def crea_var(L,df):\n",
    "    var_glob = []\n",
    "    [var_glob.append(L[v]) for v in df[\"label\"]]\n",
    "    df.insert(1,\"label_global\",var_glob)\n",
    "    return df \n",
    "\n",
    "df_finalbis = [crea_var(L[i], df_cct1[i]) for i in range(len(L))]"
   ]
  },
  {
   "cell_type": "code",
   "execution_count": 63,
   "id": "4677ea88",
   "metadata": {},
   "outputs": [],
   "source": [
    "# 6. \n",
    "# We delete the labels specific to \n",
    "# Users and keep only the global ones, representative of the groups of transactions:\n",
    "df = pd.concat([df_finalbis[i].drop(\"label\",  axis = \"columns\") for i in range(len(df_finalbis))]).reset_index(drop = True)"
   ]
  },
  {
   "cell_type": "code",
   "execution_count": 64,
   "id": "b6c93c72",
   "metadata": {},
   "outputs": [
    {
     "data": {
      "text/html": [
       "<div>\n",
       "<style scoped>\n",
       "    .dataframe tbody tr th:only-of-type {\n",
       "        vertical-align: middle;\n",
       "    }\n",
       "\n",
       "    .dataframe tbody tr th {\n",
       "        vertical-align: top;\n",
       "    }\n",
       "\n",
       "    .dataframe thead th {\n",
       "        text-align: right;\n",
       "    }\n",
       "</style>\n",
       "<table border=\"1\" class=\"dataframe\">\n",
       "  <thead>\n",
       "    <tr style=\"text-align: right;\">\n",
       "      <th></th>\n",
       "      <th>User</th>\n",
       "      <th>label_global</th>\n",
       "      <th>Amount</th>\n",
       "      <th>Credit Limit</th>\n",
       "      <th>year_diff</th>\n",
       "      <th>delta_t_s</th>\n",
       "      <th>delta_t_s_card</th>\n",
       "      <th>amt/daily_income</th>\n",
       "      <th>daily_amount</th>\n",
       "      <th>nb_daily_declines_card</th>\n",
       "      <th>nb_weekly_declines_card</th>\n",
       "      <th>nb_monthly_declines_card</th>\n",
       "      <th>hr_nbt/last_30d_av_hr_nbt</th>\n",
       "      <th>day_nbt/last_30d_av_day_nbt</th>\n",
       "      <th>last_3d_amt/nbt</th>\n",
       "    </tr>\n",
       "  </thead>\n",
       "  <tbody>\n",
       "    <tr>\n",
       "      <th>0</th>\n",
       "      <td>1597</td>\n",
       "      <td>-1</td>\n",
       "      <td>12.887828</td>\n",
       "      <td>-0.818306</td>\n",
       "      <td>-1.708730</td>\n",
       "      <td>-0.126173</td>\n",
       "      <td>-0.192347</td>\n",
       "      <td>12.887828</td>\n",
       "      <td>7.099077</td>\n",
       "      <td>-0.148595</td>\n",
       "      <td>-0.422143</td>\n",
       "      <td>-0.872388</td>\n",
       "      <td>-0.007741</td>\n",
       "      <td>-0.027158</td>\n",
       "      <td>27.109438</td>\n",
       "    </tr>\n",
       "    <tr>\n",
       "      <th>1</th>\n",
       "      <td>1597</td>\n",
       "      <td>-1</td>\n",
       "      <td>0.455853</td>\n",
       "      <td>-0.818306</td>\n",
       "      <td>-1.368966</td>\n",
       "      <td>124.291869</td>\n",
       "      <td>122.452113</td>\n",
       "      <td>0.455853</td>\n",
       "      <td>-0.120484</td>\n",
       "      <td>-0.148595</td>\n",
       "      <td>-0.422143</td>\n",
       "      <td>-0.872388</td>\n",
       "      <td>-0.007741</td>\n",
       "      <td>-0.027158</td>\n",
       "      <td>0.843981</td>\n",
       "    </tr>\n",
       "    <tr>\n",
       "      <th>2</th>\n",
       "      <td>1597</td>\n",
       "      <td>0</td>\n",
       "      <td>-0.290377</td>\n",
       "      <td>-0.818306</td>\n",
       "      <td>-1.368966</td>\n",
       "      <td>-0.097163</td>\n",
       "      <td>-0.163750</td>\n",
       "      <td>-0.290377</td>\n",
       "      <td>-0.032139</td>\n",
       "      <td>-0.148595</td>\n",
       "      <td>-0.422143</td>\n",
       "      <td>-0.872388</td>\n",
       "      <td>-0.007741</td>\n",
       "      <td>0.710564</td>\n",
       "      <td>0.055689</td>\n",
       "    </tr>\n",
       "    <tr>\n",
       "      <th>3</th>\n",
       "      <td>1597</td>\n",
       "      <td>0</td>\n",
       "      <td>-0.259262</td>\n",
       "      <td>-0.818306</td>\n",
       "      <td>-1.368966</td>\n",
       "      <td>-0.107032</td>\n",
       "      <td>-0.173479</td>\n",
       "      <td>-0.259262</td>\n",
       "      <td>0.074274</td>\n",
       "      <td>-0.148595</td>\n",
       "      <td>-0.422143</td>\n",
       "      <td>-0.872388</td>\n",
       "      <td>-0.007741</td>\n",
       "      <td>1.079425</td>\n",
       "      <td>-0.185163</td>\n",
       "    </tr>\n",
       "    <tr>\n",
       "      <th>4</th>\n",
       "      <td>1597</td>\n",
       "      <td>0</td>\n",
       "      <td>-0.305308</td>\n",
       "      <td>-0.818306</td>\n",
       "      <td>-1.368966</td>\n",
       "      <td>0.001234</td>\n",
       "      <td>-0.066756</td>\n",
       "      <td>-0.305308</td>\n",
       "      <td>0.153948</td>\n",
       "      <td>-0.148595</td>\n",
       "      <td>-0.422143</td>\n",
       "      <td>-0.872388</td>\n",
       "      <td>-0.007741</td>\n",
       "      <td>1.300742</td>\n",
       "      <td>-0.329909</td>\n",
       "    </tr>\n",
       "    <tr>\n",
       "      <th>...</th>\n",
       "      <td>...</td>\n",
       "      <td>...</td>\n",
       "      <td>...</td>\n",
       "      <td>...</td>\n",
       "      <td>...</td>\n",
       "      <td>...</td>\n",
       "      <td>...</td>\n",
       "      <td>...</td>\n",
       "      <td>...</td>\n",
       "      <td>...</td>\n",
       "      <td>...</td>\n",
       "      <td>...</td>\n",
       "      <td>...</td>\n",
       "      <td>...</td>\n",
       "      <td>...</td>\n",
       "    </tr>\n",
       "    <tr>\n",
       "      <th>24386895</th>\n",
       "      <td>1419</td>\n",
       "      <td>0</td>\n",
       "      <td>-0.386970</td>\n",
       "      <td>0.687328</td>\n",
       "      <td>1.884828</td>\n",
       "      <td>0.587504</td>\n",
       "      <td>0.425980</td>\n",
       "      <td>-0.386970</td>\n",
       "      <td>-0.719472</td>\n",
       "      <td>-0.231421</td>\n",
       "      <td>-0.581118</td>\n",
       "      <td>-1.030173</td>\n",
       "      <td>-0.239277</td>\n",
       "      <td>-0.379020</td>\n",
       "      <td>-1.139696</td>\n",
       "    </tr>\n",
       "    <tr>\n",
       "      <th>24386896</th>\n",
       "      <td>1419</td>\n",
       "      <td>0</td>\n",
       "      <td>-0.279864</td>\n",
       "      <td>0.687328</td>\n",
       "      <td>1.884828</td>\n",
       "      <td>1.438312</td>\n",
       "      <td>-0.055559</td>\n",
       "      <td>-0.279864</td>\n",
       "      <td>-0.667858</td>\n",
       "      <td>-0.231421</td>\n",
       "      <td>-0.581118</td>\n",
       "      <td>-1.030173</td>\n",
       "      <td>-0.234406</td>\n",
       "      <td>-0.372260</td>\n",
       "      <td>-1.012200</td>\n",
       "    </tr>\n",
       "    <tr>\n",
       "      <th>24386897</th>\n",
       "      <td>1419</td>\n",
       "      <td>0</td>\n",
       "      <td>-0.697510</td>\n",
       "      <td>-2.380915</td>\n",
       "      <td>1.064953</td>\n",
       "      <td>-0.736328</td>\n",
       "      <td>3.051534</td>\n",
       "      <td>-0.697510</td>\n",
       "      <td>-0.869119</td>\n",
       "      <td>-0.231421</td>\n",
       "      <td>-0.581118</td>\n",
       "      <td>-0.401083</td>\n",
       "      <td>-0.103607</td>\n",
       "      <td>-0.968531</td>\n",
       "      <td>-1.687238</td>\n",
       "    </tr>\n",
       "    <tr>\n",
       "      <th>24386898</th>\n",
       "      <td>1419</td>\n",
       "      <td>0</td>\n",
       "      <td>1.133665</td>\n",
       "      <td>0.687328</td>\n",
       "      <td>1.884828</td>\n",
       "      <td>-0.806170</td>\n",
       "      <td>-0.632470</td>\n",
       "      <td>1.133665</td>\n",
       "      <td>0.223881</td>\n",
       "      <td>-0.231421</td>\n",
       "      <td>-0.581118</td>\n",
       "      <td>-1.030173</td>\n",
       "      <td>-0.229735</td>\n",
       "      <td>0.610432</td>\n",
       "      <td>-0.161526</td>\n",
       "    </tr>\n",
       "    <tr>\n",
       "      <th>24386899</th>\n",
       "      <td>1419</td>\n",
       "      <td>0</td>\n",
       "      <td>-0.473968</td>\n",
       "      <td>-2.380915</td>\n",
       "      <td>1.064953</td>\n",
       "      <td>1.412915</td>\n",
       "      <td>0.000543</td>\n",
       "      <td>-0.473968</td>\n",
       "      <td>-0.752086</td>\n",
       "      <td>-0.231421</td>\n",
       "      <td>-0.581118</td>\n",
       "      <td>-0.401083</td>\n",
       "      <td>-0.100225</td>\n",
       "      <td>0.417991</td>\n",
       "      <td>-1.438342</td>\n",
       "    </tr>\n",
       "  </tbody>\n",
       "</table>\n",
       "<p>24386900 rows × 15 columns</p>\n",
       "</div>"
      ],
      "text/plain": [
       "          User  label_global     Amount  Credit Limit  year_diff   delta_t_s  \\\n",
       "0         1597            -1  12.887828     -0.818306  -1.708730   -0.126173   \n",
       "1         1597            -1   0.455853     -0.818306  -1.368966  124.291869   \n",
       "2         1597             0  -0.290377     -0.818306  -1.368966   -0.097163   \n",
       "3         1597             0  -0.259262     -0.818306  -1.368966   -0.107032   \n",
       "4         1597             0  -0.305308     -0.818306  -1.368966    0.001234   \n",
       "...        ...           ...        ...           ...        ...         ...   \n",
       "24386895  1419             0  -0.386970      0.687328   1.884828    0.587504   \n",
       "24386896  1419             0  -0.279864      0.687328   1.884828    1.438312   \n",
       "24386897  1419             0  -0.697510     -2.380915   1.064953   -0.736328   \n",
       "24386898  1419             0   1.133665      0.687328   1.884828   -0.806170   \n",
       "24386899  1419             0  -0.473968     -2.380915   1.064953    1.412915   \n",
       "\n",
       "          delta_t_s_card  amt/daily_income  daily_amount  \\\n",
       "0              -0.192347         12.887828      7.099077   \n",
       "1             122.452113          0.455853     -0.120484   \n",
       "2              -0.163750         -0.290377     -0.032139   \n",
       "3              -0.173479         -0.259262      0.074274   \n",
       "4              -0.066756         -0.305308      0.153948   \n",
       "...                  ...               ...           ...   \n",
       "24386895        0.425980         -0.386970     -0.719472   \n",
       "24386896       -0.055559         -0.279864     -0.667858   \n",
       "24386897        3.051534         -0.697510     -0.869119   \n",
       "24386898       -0.632470          1.133665      0.223881   \n",
       "24386899        0.000543         -0.473968     -0.752086   \n",
       "\n",
       "          nb_daily_declines_card  nb_weekly_declines_card  \\\n",
       "0                      -0.148595                -0.422143   \n",
       "1                      -0.148595                -0.422143   \n",
       "2                      -0.148595                -0.422143   \n",
       "3                      -0.148595                -0.422143   \n",
       "4                      -0.148595                -0.422143   \n",
       "...                          ...                      ...   \n",
       "24386895               -0.231421                -0.581118   \n",
       "24386896               -0.231421                -0.581118   \n",
       "24386897               -0.231421                -0.581118   \n",
       "24386898               -0.231421                -0.581118   \n",
       "24386899               -0.231421                -0.581118   \n",
       "\n",
       "          nb_monthly_declines_card  hr_nbt/last_30d_av_hr_nbt  \\\n",
       "0                        -0.872388                  -0.007741   \n",
       "1                        -0.872388                  -0.007741   \n",
       "2                        -0.872388                  -0.007741   \n",
       "3                        -0.872388                  -0.007741   \n",
       "4                        -0.872388                  -0.007741   \n",
       "...                            ...                        ...   \n",
       "24386895                 -1.030173                  -0.239277   \n",
       "24386896                 -1.030173                  -0.234406   \n",
       "24386897                 -0.401083                  -0.103607   \n",
       "24386898                 -1.030173                  -0.229735   \n",
       "24386899                 -0.401083                  -0.100225   \n",
       "\n",
       "          day_nbt/last_30d_av_day_nbt  last_3d_amt/nbt  \n",
       "0                           -0.027158        27.109438  \n",
       "1                           -0.027158         0.843981  \n",
       "2                            0.710564         0.055689  \n",
       "3                            1.079425        -0.185163  \n",
       "4                            1.300742        -0.329909  \n",
       "...                               ...              ...  \n",
       "24386895                    -0.379020        -1.139696  \n",
       "24386896                    -0.372260        -1.012200  \n",
       "24386897                    -0.968531        -1.687238  \n",
       "24386898                     0.610432        -0.161526  \n",
       "24386899                     0.417991        -1.438342  \n",
       "\n",
       "[24386900 rows x 15 columns]"
      ]
     },
     "execution_count": 64,
     "metadata": {},
     "output_type": "execute_result"
    }
   ],
   "source": [
    "# See to what it looks like:\n",
    "df"
   ]
  },
  {
   "cell_type": "code",
   "execution_count": 65,
   "id": "1ac57a19",
   "metadata": {},
   "outputs": [
    {
     "data": {
      "text/plain": [
       "label_global\n",
       "-1     898\n",
       " 0    1999\n",
       " 1    1605\n",
       " 2    1420\n",
       " 3     739\n",
       " 4      68\n",
       " 5      54\n",
       " 6      18\n",
       "Name: User, dtype: int64"
      ]
     },
     "execution_count": 65,
     "metadata": {},
     "output_type": "execute_result"
    }
   ],
   "source": [
    "# Look at the distribution of Users by label_global: make sure that 1 group \n",
    "# does not correspond to a single User for example. \n",
    "# Warning => make sure you don't cluster by User and not by transaction. \n",
    "df.groupby(\"label_global\")['User'].nunique()"
   ]
  },
  {
   "cell_type": "code",
   "execution_count": 15,
   "id": "3176be5b",
   "metadata": {},
   "outputs": [
    {
     "data": {
      "image/png": "[encoded data removed]",
      "text/plain": [
       "<Figure size 640x480 with 1 Axes>"
      ]
     },
     "metadata": {},
     "output_type": "display_data"
    }
   ],
   "source": [
    "# How many different users per label:\n",
    "plt.bar(range(-1,7),np.array(df_f.groupby(\"label_global\")['User'].nunique())) ; plt.show() "
   ]
  },
  {
   "cell_type": "code",
   "execution_count": 16,
   "id": "0a930bc1",
   "metadata": {},
   "outputs": [
    {
     "data": {
      "image/png": "[encoded data removed]",
      "text/plain": [
       "<Figure size 640x480 with 1 Axes>"
      ]
     },
     "metadata": {},
     "output_type": "display_data"
    }
   ],
   "source": [
    "# Average transaction amount of each label:\n",
    "plt.bar(range(-1,7),np.array(df_f.groupby(\"label_global\").mean()['Amount'])) ; plt.show() "
   ]
  },
  {
   "cell_type": "code",
   "execution_count": 18,
   "id": "5d37a27e",
   "metadata": {},
   "outputs": [
    {
     "data": {
      "image/png": "[encoded data removed]",
      "text/plain": [
       "<Figure size 640x480 with 1 Axes>"
      ]
     },
     "metadata": {},
     "output_type": "display_data"
    }
   ],
   "source": [
    "# How many transactions per label:\n",
    "plt.bar(range(-1,7),np.array(df_f.groupby(\"label_global\").size())) ; plt.show() \n"
   ]
  },
  {
   "cell_type": "code",
   "execution_count": 38,
   "id": "77d94164",
   "metadata": {},
   "outputs": [],
   "source": [
    "# Export the parquet:\n",
    "df.to_parquet('/home/onyxia/Projet-Statapp/df.parquet')"
   ]
  }
 ],
 "metadata": {
  "kernelspec": {
   "display_name": "Python 3 (ipykernel)",
   "language": "python",
   "name": "python3"
  },
  "language_info": {
   "codemirror_mode": {
    "name": "ipython",
    "version": 3
   },
   "file_extension": ".py",
   "mimetype": "text/x-python",
   "name": "python",
   "nbconvert_exporter": "python",
   "pygments_lexer": "ipython3",
   "version": "3.10.9"
  }
 },
 "nbformat": 4,
 "nbformat_minor": 5
}
