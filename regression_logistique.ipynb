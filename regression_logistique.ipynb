{
 "cells": [
  {
   "cell_type": "code",
   "execution_count": 1,
   "metadata": {},
   "outputs": [],
   "source": [
    "import pandas as pd\n",
    "import numpy as np\n",
    "from sklearn.preprocessing import OneHotEncoder\n"
   ]
  },
  {
   "cell_type": "code",
   "execution_count": 2,
   "metadata": {},
   "outputs": [],
   "source": [
    "df_cct = pd.read_parquet(\"/home/onyxia/work/df_cct_final.parquet\")"
   ]
  },
  {
   "cell_type": "markdown",
   "metadata": {},
   "source": [
    "## I. OneHotEncoder"
   ]
  },
  {
   "cell_type": "code",
   "execution_count": 3,
   "metadata": {},
   "outputs": [],
   "source": [
    "# Pour \"Use Chip\":\n",
    "\n",
    "enc = OneHotEncoder(handle_unknown='ignore')\n",
    "\n",
    "features_array = enc.fit_transform(df_cct[[\"Use Chip\"]]).toarray()\n",
    "\n",
    "features_labels = np.hstack(np.array(enc.categories_))\n",
    "\n",
    "df_cct = pd.concat([df_cct, pd.DataFrame(features_array, columns = features_labels)], axis = 1)"
   ]
  },
  {
   "cell_type": "code",
   "execution_count": 4,
   "metadata": {},
   "outputs": [],
   "source": [
    "# Pour \"Merchant State\" : \n",
    "\n",
    "\n",
    "enc = OneHotEncoder(handle_unknown='ignore',  max_categories=10) #on se limite aux 10 premières catégories\n",
    "\n",
    "features_array = enc.fit_transform(df_cct[[\"Merchant State\"]]).toarray()\n",
    "\n",
    "features_labels = np.hstack(np.array(enc.get_feature_names_out()))\n",
    "\n",
    "df_cct = pd.concat([df_cct, pd.DataFrame(features_array, columns = features_labels)], axis = 1)"
   ]
  },
  {
   "cell_type": "code",
   "execution_count": 5,
   "metadata": {},
   "outputs": [],
   "source": [
    "# Pour \"Merchant City\" : \n",
    "\n",
    "enc = OneHotEncoder(handle_unknown='ignore',  max_categories=10)\n",
    "\n",
    "features_array = enc.fit_transform(df_cct[[\"Merchant City\"]]).toarray()\n",
    "\n",
    "features_labels = np.hstack(np.array(enc.get_feature_names_out()))\n",
    "\n",
    "df_cct = pd.concat([df_cct, pd.DataFrame(features_array, columns = features_labels)], axis = 1)"
   ]
  },
  {
   "cell_type": "code",
   "execution_count": 6,
   "metadata": {},
   "outputs": [],
   "source": [
    "# Pour \"day_of_week\" : \n",
    "\n",
    "enc = OneHotEncoder(handle_unknown='ignore')\n",
    "\n",
    "features_array = enc.fit_transform(df_cct[[\"day_of_week\"]]).toarray()\n",
    "\n",
    "features_labels = np.hstack(np.array(enc.get_feature_names_out()))\n",
    "\n",
    "df_cct = pd.concat([df_cct, pd.DataFrame(features_array, columns = features_labels)], axis = 1)"
   ]
  },
  {
   "cell_type": "markdown",
   "metadata": {},
   "source": [
    "## II. Sorting the columns and creating X1, y"
   ]
  },
  {
   "cell_type": "code",
   "execution_count": 7,
   "metadata": {},
   "outputs": [],
   "source": [
    "selection = ['User', 'Card', 'Month', 'Day', 'Hours', 'Amount',\n",
    "       'delta_t_s', 'delta_t_s_card', 'amt/daily_income', 'Retired',\n",
    "       'daily_amount', 'nb_daily_declines_card', 'bad_pin',\n",
    "       'insufficient_balance', 'hr_nbt/last_30d_av_hr_nbt', 'last_3d_amt/nbt', 'Chip Transaction',\n",
    "       'Online Transaction', 'Swipe Transaction', 'Merchant State_CA',\n",
    "       'Merchant State_FL', 'Merchant State_IL', 'Merchant State_NC',\n",
    "       'Merchant State_NY', 'Merchant State_OH', 'Merchant State_PA',\n",
    "       'Merchant State_TX', 'Merchant State_None',\n",
    "       'Merchant State_infrequent_sklearn', 'Merchant City_Brooklyn',\n",
    "       'Merchant City_Chicago', 'Merchant City_Dallas',\n",
    "       'Merchant City_Houston', 'Merchant City_Indianapolis',\n",
    "       'Merchant City_Los Angeles', 'Merchant City_Miami',\n",
    "       'Merchant City_ONLINE', 'Merchant City_Orlando',\n",
    "       'Merchant City_infrequent_sklearn', 'day_of_week_Friday',\n",
    "       'day_of_week_Monday', 'day_of_week_Saturday', 'day_of_week_Sunday',\n",
    "       'day_of_week_Thursday', 'day_of_week_Tuesday', 'day_of_week_Wednesday','Is Fraud?']"
   ]
  },
  {
   "cell_type": "code",
   "execution_count": 8,
   "metadata": {},
   "outputs": [],
   "source": [
    "estimators = ['User', 'Card', 'Month', 'Day', 'Hours', 'Amount',\n",
    "       'delta_t_s', 'delta_t_s_card', 'amt/daily_income', 'Retired',\n",
    "       'daily_amount', 'nb_daily_declines_card', 'bad_pin',\n",
    "       'insufficient_balance', 'hr_nbt/last_30d_av_hr_nbt', 'last_3d_amt/nbt', 'Chip Transaction',\n",
    "       'Online Transaction', 'Swipe Transaction', 'Merchant State_CA',\n",
    "       'Merchant State_FL', 'Merchant State_IL', 'Merchant State_NC',\n",
    "       'Merchant State_NY', 'Merchant State_OH', 'Merchant State_PA',\n",
    "       'Merchant State_TX', 'Merchant State_None',\n",
    "       'Merchant State_infrequent_sklearn', 'Merchant City_Brooklyn',\n",
    "       'Merchant City_Chicago', 'Merchant City_Dallas',\n",
    "       'Merchant City_Houston', 'Merchant City_Indianapolis',\n",
    "       'Merchant City_Los Angeles', 'Merchant City_Miami',\n",
    "       'Merchant City_ONLINE', 'Merchant City_Orlando',\n",
    "       'Merchant City_infrequent_sklearn', 'day_of_week_Friday',\n",
    "       'day_of_week_Monday', 'day_of_week_Saturday', 'day_of_week_Sunday',\n",
    "       'day_of_week_Thursday', 'day_of_week_Tuesday', 'day_of_week_Wednesday']\n",
    "\n",
    "df_selec = df_cct[selection]\n",
    "#df_selec = df_selec[np.isfinite(df_selec).all(1)]\n",
    "X1 = df_selec[estimators]\n",
    "y = df_selec[\"Is Fraud?\"]\n"
   ]
  },
  {
   "cell_type": "code",
   "execution_count": 9,
   "metadata": {},
   "outputs": [],
   "source": [
    "#X1.fillna(0, inplace=True)"
   ]
  },
  {
   "cell_type": "code",
   "execution_count": 10,
   "metadata": {},
   "outputs": [],
   "source": [
    "from sklearn.model_selection import train_test_split\n",
    "\n",
    "X_train, X_test, y_train, y_test = train_test_split(X1, y, \n",
    "                                                    train_size = 0.70, test_size = 0.30, stratify = y, random_state = 1)"
   ]
  },
  {
   "cell_type": "code",
   "execution_count": 11,
   "metadata": {},
   "outputs": [
    {
     "ename": "",
     "evalue": "",
     "output_type": "error",
     "traceback": [
      "\u001b[1;31mCanceled future for execute_request message before replies were done"
     ]
    },
    {
     "ename": "",
     "evalue": "",
     "output_type": "error",
     "traceback": [
      "\u001b[1;31mThe Kernel crashed while executing code in the the current cell or a previous cell. Please review the code in the cell(s) to identify a possible cause of the failure. Click <a href='https://aka.ms/vscodeJupyterKernelCrash'>here</a> for more info. View Jupyter <a href='command:jupyter.viewOutput'>log</a> for further details."
     ]
    }
   ],
   "source": [
    "from sklearn.linear_model import LogisticRegression\n",
    "lr = LogisticRegression()\n",
    "lr.fit(X_train, y_train)"
   ]
  },
  {
   "cell_type": "code",
   "execution_count": null,
   "metadata": {},
   "outputs": [],
   "source": [
    "y_pred = lr.predict(X_test)"
   ]
  },
  {
   "cell_type": "code",
   "execution_count": null,
   "metadata": {},
   "outputs": [
    {
     "name": "stdout",
     "output_type": "stream",
     "text": [
      "              precision    recall  f1-score   support\n",
      "\n",
      "           0       1.00      1.00      1.00   6451132\n",
      "           1       0.00      0.00      0.00      1472\n",
      "\n",
      "    accuracy                           1.00   6452604\n",
      "   macro avg       0.50      0.50      0.50   6452604\n",
      "weighted avg       1.00      1.00      1.00   6452604\n",
      "\n"
     ]
    }
   ],
   "source": [
    "from sklearn.metrics import classification_report\n",
    "print(classification_report(y_test,y_pred))"
   ]
  },
  {
   "cell_type": "code",
   "execution_count": null,
   "metadata": {},
   "outputs": [],
   "source": [
    "import seaborn as sns\n",
    "import matplotlib.pyplot as plt"
   ]
  },
  {
   "cell_type": "code",
   "execution_count": null,
   "metadata": {},
   "outputs": [
    {
     "data": {
      "image/png": "[encoded data removed]",
      "text/plain": [
       "<Figure size 800x500 with 2 Axes>"
      ]
     },
     "metadata": {},
     "output_type": "display_data"
    }
   ],
   "source": [
    "from sklearn.metrics import confusion_matrix\n",
    "cm=confusion_matrix(y_test,y_pred)\n",
    "conf_matrix=pd.DataFrame(data=cm,columns=['Predicted:0','Predicted:1'],index=['Actual:0','Actual:1'])\n",
    "plt.figure(figsize = (8,5))\n",
    "sns.heatmap(conf_matrix, annot=True,fmt='d',cmap=\"YlGnBu\");"
   ]
  },
  {
   "cell_type": "code",
   "execution_count": null,
   "metadata": {},
   "outputs": [
    {
     "data": {
      "text/html": [
       "<div>\n",
       "<style scoped>\n",
       "    .dataframe tbody tr th:only-of-type {\n",
       "        vertical-align: middle;\n",
       "    }\n",
       "\n",
       "    .dataframe tbody tr th {\n",
       "        vertical-align: top;\n",
       "    }\n",
       "\n",
       "    .dataframe thead th {\n",
       "        text-align: right;\n",
       "    }\n",
       "</style>\n",
       "<table border=\"1\" class=\"dataframe\">\n",
       "  <thead>\n",
       "    <tr style=\"text-align: right;\">\n",
       "      <th></th>\n",
       "      <th>Amount</th>\n",
       "      <th>Zip</th>\n",
       "      <th>MCC</th>\n",
       "      <th>delta_t_s</th>\n",
       "      <th>delta_t_s_card</th>\n",
       "      <th>amt/day_income</th>\n",
       "      <th>merchant_user_state_is_diff</th>\n",
       "      <th>rolling_nb_frauds_wk</th>\n",
       "      <th>rolling_nbt_wk</th>\n",
       "      <th>rolling_amt_wk</th>\n",
       "      <th>rolling_amt_med_wk</th>\n",
       "      <th>rolling_nbt_wk/amt_wk</th>\n",
       "    </tr>\n",
       "  </thead>\n",
       "  <tbody>\n",
       "    <tr>\n",
       "      <th>6548602</th>\n",
       "      <td>8.10</td>\n",
       "      <td>44428.0</td>\n",
       "      <td>5812</td>\n",
       "      <td>56400</td>\n",
       "      <td>56400</td>\n",
       "      <td>0.079019</td>\n",
       "      <td>0</td>\n",
       "      <td>0.0</td>\n",
       "      <td>11.0</td>\n",
       "      <td>403.77</td>\n",
       "      <td>44.81</td>\n",
       "      <td>0.027243</td>\n",
       "    </tr>\n",
       "    <tr>\n",
       "      <th>20317810</th>\n",
       "      <td>15.31</td>\n",
       "      <td>38650.0</td>\n",
       "      <td>5970</td>\n",
       "      <td>28860</td>\n",
       "      <td>49260</td>\n",
       "      <td>0.223071</td>\n",
       "      <td>0</td>\n",
       "      <td>0.0</td>\n",
       "      <td>26.0</td>\n",
       "      <td>328.79</td>\n",
       "      <td>10.77</td>\n",
       "      <td>0.079078</td>\n",
       "    </tr>\n",
       "    <tr>\n",
       "      <th>336885</th>\n",
       "      <td>1.82</td>\n",
       "      <td>77061.0</td>\n",
       "      <td>5814</td>\n",
       "      <td>70740</td>\n",
       "      <td>70740</td>\n",
       "      <td>0.021172</td>\n",
       "      <td>0</td>\n",
       "      <td>0.0</td>\n",
       "      <td>13.0</td>\n",
       "      <td>565.29</td>\n",
       "      <td>15.23</td>\n",
       "      <td>0.022997</td>\n",
       "    </tr>\n",
       "    <tr>\n",
       "      <th>22826374</th>\n",
       "      <td>4.19</td>\n",
       "      <td>98467.0</td>\n",
       "      <td>5411</td>\n",
       "      <td>660</td>\n",
       "      <td>660</td>\n",
       "      <td>0.036867</td>\n",
       "      <td>0</td>\n",
       "      <td>0.0</td>\n",
       "      <td>25.0</td>\n",
       "      <td>771.78</td>\n",
       "      <td>17.23</td>\n",
       "      <td>0.032393</td>\n",
       "    </tr>\n",
       "    <tr>\n",
       "      <th>2560179</th>\n",
       "      <td>11.32</td>\n",
       "      <td>8901.0</td>\n",
       "      <td>5411</td>\n",
       "      <td>27660</td>\n",
       "      <td>27660</td>\n",
       "      <td>0.039466</td>\n",
       "      <td>0</td>\n",
       "      <td>0.0</td>\n",
       "      <td>37.0</td>\n",
       "      <td>1296.01</td>\n",
       "      <td>22.41</td>\n",
       "      <td>0.028549</td>\n",
       "    </tr>\n",
       "    <tr>\n",
       "      <th>...</th>\n",
       "      <td>...</td>\n",
       "      <td>...</td>\n",
       "      <td>...</td>\n",
       "      <td>...</td>\n",
       "      <td>...</td>\n",
       "      <td>...</td>\n",
       "      <td>...</td>\n",
       "      <td>...</td>\n",
       "      <td>...</td>\n",
       "      <td>...</td>\n",
       "      <td>...</td>\n",
       "      <td>...</td>\n",
       "    </tr>\n",
       "    <tr>\n",
       "      <th>23794938</th>\n",
       "      <td>12.74</td>\n",
       "      <td>62858.0</td>\n",
       "      <td>5812</td>\n",
       "      <td>0</td>\n",
       "      <td>172080</td>\n",
       "      <td>0.142746</td>\n",
       "      <td>0</td>\n",
       "      <td>0.0</td>\n",
       "      <td>19.0</td>\n",
       "      <td>158.45</td>\n",
       "      <td>2.32</td>\n",
       "      <td>0.119912</td>\n",
       "    </tr>\n",
       "    <tr>\n",
       "      <th>4821140</th>\n",
       "      <td>120.00</td>\n",
       "      <td>11236.0</td>\n",
       "      <td>4829</td>\n",
       "      <td>33900</td>\n",
       "      <td>76800</td>\n",
       "      <td>0.947396</td>\n",
       "      <td>0</td>\n",
       "      <td>0.0</td>\n",
       "      <td>25.0</td>\n",
       "      <td>1512.75</td>\n",
       "      <td>63.33</td>\n",
       "      <td>0.016526</td>\n",
       "    </tr>\n",
       "    <tr>\n",
       "      <th>5832204</th>\n",
       "      <td>10.04</td>\n",
       "      <td>33062.0</td>\n",
       "      <td>9402</td>\n",
       "      <td>48120</td>\n",
       "      <td>48120</td>\n",
       "      <td>0.091293</td>\n",
       "      <td>0</td>\n",
       "      <td>0.0</td>\n",
       "      <td>29.0</td>\n",
       "      <td>1130.38</td>\n",
       "      <td>20.87</td>\n",
       "      <td>0.025655</td>\n",
       "    </tr>\n",
       "    <tr>\n",
       "      <th>19125327</th>\n",
       "      <td>28.16</td>\n",
       "      <td>53206.0</td>\n",
       "      <td>7538</td>\n",
       "      <td>33060</td>\n",
       "      <td>33060</td>\n",
       "      <td>0.504412</td>\n",
       "      <td>0</td>\n",
       "      <td>0.0</td>\n",
       "      <td>7.0</td>\n",
       "      <td>89.12</td>\n",
       "      <td>6.06</td>\n",
       "      <td>0.078546</td>\n",
       "    </tr>\n",
       "    <tr>\n",
       "      <th>21269737</th>\n",
       "      <td>20.13</td>\n",
       "      <td>97080.0</td>\n",
       "      <td>5541</td>\n",
       "      <td>37260</td>\n",
       "      <td>451080</td>\n",
       "      <td>0.159460</td>\n",
       "      <td>0</td>\n",
       "      <td>0.0</td>\n",
       "      <td>9.0</td>\n",
       "      <td>290.86</td>\n",
       "      <td>20.13</td>\n",
       "      <td>0.030943</td>\n",
       "    </tr>\n",
       "  </tbody>\n",
       "</table>\n",
       "<p>15056073 rows × 12 columns</p>\n",
       "</div>"
      ],
      "text/plain": [
       "          Amount      Zip   MCC  delta_t_s  delta_t_s_card  amt/day_income  \\\n",
       "6548602     8.10  44428.0  5812      56400           56400        0.079019   \n",
       "20317810   15.31  38650.0  5970      28860           49260        0.223071   \n",
       "336885      1.82  77061.0  5814      70740           70740        0.021172   \n",
       "22826374    4.19  98467.0  5411        660             660        0.036867   \n",
       "2560179    11.32   8901.0  5411      27660           27660        0.039466   \n",
       "...          ...      ...   ...        ...             ...             ...   \n",
       "23794938   12.74  62858.0  5812          0          172080        0.142746   \n",
       "4821140   120.00  11236.0  4829      33900           76800        0.947396   \n",
       "5832204    10.04  33062.0  9402      48120           48120        0.091293   \n",
       "19125327   28.16  53206.0  7538      33060           33060        0.504412   \n",
       "21269737   20.13  97080.0  5541      37260          451080        0.159460   \n",
       "\n",
       "          merchant_user_state_is_diff  rolling_nb_frauds_wk  rolling_nbt_wk  \\\n",
       "6548602                             0                   0.0            11.0   \n",
       "20317810                            0                   0.0            26.0   \n",
       "336885                              0                   0.0            13.0   \n",
       "22826374                            0                   0.0            25.0   \n",
       "2560179                             0                   0.0            37.0   \n",
       "...                               ...                   ...             ...   \n",
       "23794938                            0                   0.0            19.0   \n",
       "4821140                             0                   0.0            25.0   \n",
       "5832204                             0                   0.0            29.0   \n",
       "19125327                            0                   0.0             7.0   \n",
       "21269737                            0                   0.0             9.0   \n",
       "\n",
       "          rolling_amt_wk  rolling_amt_med_wk  rolling_nbt_wk/amt_wk  \n",
       "6548602           403.77               44.81               0.027243  \n",
       "20317810          328.79               10.77               0.079078  \n",
       "336885            565.29               15.23               0.022997  \n",
       "22826374          771.78               17.23               0.032393  \n",
       "2560179          1296.01               22.41               0.028549  \n",
       "...                  ...                 ...                    ...  \n",
       "23794938          158.45                2.32               0.119912  \n",
       "4821140          1512.75               63.33               0.016526  \n",
       "5832204          1130.38               20.87               0.025655  \n",
       "19125327           89.12                6.06               0.078546  \n",
       "21269737          290.86               20.13               0.030943  \n",
       "\n",
       "[15056073 rows x 12 columns]"
      ]
     },
     "execution_count": 45,
     "metadata": {},
     "output_type": "execute_result"
    }
   ],
   "source": [
    "X_train"
   ]
  }
 ],
 "metadata": {
  "kernelspec": {
   "display_name": "base",
   "language": "python",
   "name": "python3"
  },
  "language_info": {
   "codemirror_mode": {
    "name": "ipython",
    "version": 3
   },
   "file_extension": ".py",
   "mimetype": "text/x-python",
   "name": "python",
   "nbconvert_exporter": "python",
   "pygments_lexer": "ipython3",
   "version": "3.10.4"
  },
  "orig_nbformat": 4,
  "vscode": {
   "interpreter": {
    "hash": "3fa046f995eb80ac40c0869a1f9df46519f4ada8b8c395ef25dd1aa1a1a2fc63"
   }
  }
 },
 "nbformat": 4,
 "nbformat_minor": 2
}
