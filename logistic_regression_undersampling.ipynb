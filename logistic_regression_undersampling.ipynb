{
 "cells": [
  {
   "cell_type": "code",
   "execution_count": 1,
   "metadata": {},
   "outputs": [
    {
     "name": "stdout",
     "output_type": "stream",
     "text": [
      "Numpy version : Numpy 1.23.5\n",
      "Pandas version : Pandas 1.5.3\n",
      "Matplotlib version : Matplotlib 3.7.0\n",
      "Seaborn version : Seaborn 0.12.2\n",
      "SkLearn version : SkLearn 1.2.1\n",
      "Plotly version : plotly 5.13.0\n"
     ]
    }
   ],
   "source": [
    "# Import Libraries\n",
    "import warnings\n",
    "warnings.filterwarnings('ignore')\n",
    "\n",
    "import numpy as np\n",
    "import pandas as pd\n",
    "import matplotlib.pyplot as plt\n",
    "import seaborn as sns\n",
    "# import cufflinks as cf\n",
    "import plotly\n",
    "import datetime\n",
    "import math\n",
    "import matplotlib\n",
    "import sklearn\n",
    "import plotly.express as px\n",
    "import plotly.graph_objects as go\n",
    "import plotly.figure_factory as ff\n",
    "from plotly.subplots import make_subplots\n",
    "\n",
    "# Print versions of libraries\n",
    "print(f\"Numpy version : Numpy {np.__version__}\")\n",
    "print(f\"Pandas version : Pandas {pd.__version__}\")\n",
    "print(f\"Matplotlib version : Matplotlib {matplotlib.__version__}\")\n",
    "print(f\"Seaborn version : Seaborn {sns.__version__}\")\n",
    "print(f\"SkLearn version : SkLearn {sklearn.__version__}\")\n",
    "# print(f\"Cufflinks version : cufflinks {cf.__version__}\")\n",
    "print(f\"Plotly version : plotly {plotly.__version__}\")\n",
    "\n",
    "# Magic Functions for In-Notebook Display\n",
    "%matplotlib inline\n",
    "\n",
    "# Setting seabon style\n",
    "sns.set(style='darkgrid', palette='colorblind')"
   ]
  },
  {
   "cell_type": "code",
   "execution_count": 2,
   "metadata": {},
   "outputs": [],
   "source": [
    "seed = 42\n",
    "accuracy = 'average_precision' # equals to area under recall precision curve\n",
    "lr_max_iterations = 10000 # increased max_iter to allow lbfgs-solver converging\n",
    "results = []"
   ]
  },
  {
   "cell_type": "code",
   "execution_count": 3,
   "metadata": {},
   "outputs": [],
   "source": [
    "df = pd.read_parquet(\"/home/onyxia/work/df_cct_final.parquet\")"
   ]
  },
  {
   "cell_type": "code",
   "execution_count": 4,
   "metadata": {},
   "outputs": [],
   "source": [
    "import random\n",
    "random.seed(42)\n",
    "df_fraud = df[df[\"Is Fraud?\"] == 1]\n",
    "df_not_fraud = df[df[\"Is Fraud?\"] == 0]\n",
    "df_fraud_list = df_fraud.index.tolist()\n",
    "df_not_fraud_list = df_not_fraud.index.tolist()\n",
    "\n",
    "df_fraud_rs_index = random.sample(df_fraud_list, int(len(df_fraud_list)*0.1))\n",
    "df_fraud_rs = df_fraud.loc[df_fraud_rs_index]\n",
    "df_not_fraud_rs_index = random.sample(df_not_fraud_list, int(len(df_not_fraud_list)*0.1))\n",
    "df_not_fraud_rs = df_not_fraud.loc[df_not_fraud_rs_index]\n",
    "df = pd.concat([df_not_fraud_rs,df_fraud_rs], axis=0).reset_index(drop=True)"
   ]
  },
  {
   "cell_type": "code",
   "execution_count": 5,
   "metadata": {},
   "outputs": [],
   "source": [
    "from sklearn.preprocessing import OneHotEncoder\n",
    "\n",
    "# Pour \"Use Chip\":\n",
    "\n",
    "enc = OneHotEncoder(handle_unknown='ignore')\n",
    "\n",
    "features_array = enc.fit_transform(df[[\"Use Chip\"]]).toarray()\n",
    "\n",
    "features_labels = np.hstack(np.array(enc.categories_))\n",
    "\n",
    "df = pd.concat([df, pd.DataFrame(features_array, columns = features_labels)], axis = 1)\n",
    "# Pour \"day_of_week\" : \n",
    "\n",
    "enc = OneHotEncoder(handle_unknown='ignore')\n",
    "\n",
    "features_array = enc.fit_transform(df[[\"day_of_week\"]]).toarray()\n",
    "\n",
    "features_labels = np.hstack(np.array(enc.get_feature_names_out()))\n",
    "\n",
    "df = pd.concat([df, pd.DataFrame(features_array, columns = features_labels)], axis = 1)\n",
    "# Pour \"Card Brand\" : \n",
    "\n",
    "enc = OneHotEncoder(handle_unknown='ignore')\n",
    "\n",
    "features_array = enc.fit_transform(df[[\"Card Brand\"]]).toarray()\n",
    "\n",
    "features_labels = np.hstack(np.array(enc.get_feature_names_out()))\n",
    "\n",
    "df = pd.concat([df, pd.DataFrame(features_array, columns = features_labels)], axis = 1)\n",
    "# Pour \"Card Type\" : \n",
    "\n",
    "enc = OneHotEncoder(handle_unknown='ignore')\n",
    "\n",
    "features_array = enc.fit_transform(df[[\"Card Type\"]]).toarray()\n",
    "\n",
    "features_labels = np.hstack(np.array(enc.get_feature_names_out()))\n",
    "\n",
    "df = pd.concat([df, pd.DataFrame(features_array, columns = features_labels)], axis = 1)\n",
    "\n",
    "selection = ['Card', 'Year', 'Month', 'Day', 'Hours', 'Amount',\n",
    "       'Credit Limit', 'Year PIN last Changed',\n",
    "       'delta_t_s', 'delta_t_s_card',\n",
    "       'amt/daily_income', 'Retired', 'daily_amount',\n",
    "       'nb_daily_declines_card', 'nb_weekly_declines_card',\n",
    "       'nb_monthly_declines_card', 'bad_pin', 'insufficient_balance',\n",
    "       'hr_nbt/last_30d_av_hr_nbt', 'day_nbt/last_30d_av_day_nbt',\n",
    "       'last_3d_amt/nbt', 'Chip Transaction',\n",
    "       'Online Transaction', 'Swipe Transaction', 'day_of_week_Friday',\n",
    "       'day_of_week_Monday', 'day_of_week_Saturday', 'day_of_week_Sunday',\n",
    "       'day_of_week_Thursday', 'day_of_week_Tuesday', 'day_of_week_Wednesday',\n",
    "       'Card Brand_Amex', 'Card Brand_Discover', 'Card Brand_Mastercard',\n",
    "       'Card Brand_Visa', 'Card Type_Credit', 'Card Type_Debit',\n",
    "       'Card Type_Debit (Prepaid)', 'Is Fraud?']\n",
    "\n",
    "estimators = ['Card', 'Year', 'Month', 'Day', 'Hours', 'Amount',\n",
    "       'Credit Limit', 'Year PIN last Changed',\n",
    "       'delta_t_s', 'delta_t_s_card',\n",
    "       'amt/daily_income', 'Retired', 'daily_amount',\n",
    "       'nb_daily_declines_card', 'nb_weekly_declines_card',\n",
    "       'nb_monthly_declines_card', 'bad_pin', 'insufficient_balance',\n",
    "       'hr_nbt/last_30d_av_hr_nbt', 'day_nbt/last_30d_av_day_nbt',\n",
    "       'last_3d_amt/nbt', 'Chip Transaction',\n",
    "       'Online Transaction', 'Swipe Transaction', 'day_of_week_Friday',\n",
    "       'day_of_week_Monday', 'day_of_week_Saturday', 'day_of_week_Sunday',\n",
    "       'day_of_week_Thursday', 'day_of_week_Tuesday', 'day_of_week_Wednesday',\n",
    "       'Card Brand_Amex', 'Card Brand_Discover', 'Card Brand_Mastercard',\n",
    "       'Card Brand_Visa', 'Card Type_Credit', 'Card Type_Debit',\n",
    "       'Card Type_Debit (Prepaid)']\n",
    "df = df[selection]\n",
    "#df_selec = df_selec[np.isfinite(df_selec).all(1)]\n",
    "\n"
   ]
  },
  {
   "cell_type": "code",
   "execution_count": 6,
   "metadata": {},
   "outputs": [],
   "source": [
    "from sklearn.model_selection import train_test_split\n",
    "\n",
    "X_orig = df.drop('Is Fraud?', axis=1)\n",
    "y_orig = df[\"Is Fraud?\"]\n",
    "\n",
    "X_train, X_test, y_train, y_test = train_test_split(X_orig, y_orig, test_size=0.3,\n",
    "                                                    random_state=seed, stratify=y_orig)\n",
    "test_data = [X_test, y_test]"
   ]
  },
  {
   "cell_type": "code",
   "execution_count": 7,
   "metadata": {},
   "outputs": [
    {
     "name": "stdout",
     "output_type": "stream",
     "text": [
      "Training data class counts:\n",
      "0    1705000\n",
      "1       2082\n",
      "Name: Is Fraud?, dtype: int64\n",
      "\n",
      "Test data class counts:\n",
      "0    730714\n",
      "1       893\n",
      "Name: Is Fraud?, dtype: int64\n",
      "\n"
     ]
    }
   ],
   "source": [
    "print(f\"Training data class counts:\\n{y_train.value_counts()}\")\n",
    "print('')\n",
    "print(f\"Test data class counts:\\n{y_test.value_counts()}\")\n",
    "print('')\n",
    "assert(y_test.shape[0]/y_orig.shape[0] > 0.19)"
   ]
  },
  {
   "cell_type": "code",
   "execution_count": 8,
   "metadata": {},
   "outputs": [],
   "source": [
    "from sklearn.preprocessing import RobustScaler, StandardScaler\n",
    "from sklearn.pipeline import make_pipeline, Pipeline\n",
    "from sklearn.linear_model import LogisticRegression, LogisticRegressionCV\n",
    "from sklearn.compose import ColumnTransformer\n",
    "from sklearn.preprocessing import OneHotEncoder\n"
   ]
  },
  {
   "cell_type": "code",
   "execution_count": 9,
   "metadata": {},
   "outputs": [],
   "source": [
    "preprocessor = ColumnTransformer(\n",
    "        remainder='passthrough', #passthough features not listed\n",
    "        transformers=[\n",
    "            ('std', RobustScaler(), ['Card', 'Year', 'Month', 'Day', 'Hours', 'Amount',\n",
    "       'Credit Limit', 'Year PIN last Changed',\n",
    "       'delta_t_s', 'delta_t_s_card',\n",
    "       'amt/daily_income', 'daily_amount',\n",
    "       'nb_daily_declines_card', 'nb_weekly_declines_card',\n",
    "       'nb_monthly_declines_card',\n",
    "       'hr_nbt/last_30d_av_hr_nbt', 'day_nbt/last_30d_av_day_nbt',\n",
    "       'last_3d_amt/nbt']), \n",
    "        ])"
   ]
  },
  {
   "attachments": {},
   "cell_type": "markdown",
   "metadata": {},
   "source": [
    "## Model Baseline with class weight"
   ]
  },
  {
   "cell_type": "code",
   "execution_count": 10,
   "metadata": {},
   "outputs": [
    {
     "data": {
      "text/html": [
       "<style>#sk-container-id-1 {color: black;background-color: white;}#sk-container-id-1 pre{padding: 0;}#sk-container-id-1 div.sk-toggleable {background-color: white;}#sk-container-id-1 label.sk-toggleable__label {cursor: pointer;display: block;width: 100%;margin-bottom: 0;padding: 0.3em;box-sizing: border-box;text-align: center;}#sk-container-id-1 label.sk-toggleable__label-arrow:before {content: \"▸\";float: left;margin-right: 0.25em;color: #696969;}#sk-container-id-1 label.sk-toggleable__label-arrow:hover:before {color: black;}#sk-container-id-1 div.sk-estimator:hover label.sk-toggleable__label-arrow:before {color: black;}#sk-container-id-1 div.sk-toggleable__content {max-height: 0;max-width: 0;overflow: hidden;text-align: left;background-color: #f0f8ff;}#sk-container-id-1 div.sk-toggleable__content pre {margin: 0.2em;color: black;border-radius: 0.25em;background-color: #f0f8ff;}#sk-container-id-1 input.sk-toggleable__control:checked~div.sk-toggleable__content {max-height: 200px;max-width: 100%;overflow: auto;}#sk-container-id-1 input.sk-toggleable__control:checked~label.sk-toggleable__label-arrow:before {content: \"▾\";}#sk-container-id-1 div.sk-estimator input.sk-toggleable__control:checked~label.sk-toggleable__label {background-color: #d4ebff;}#sk-container-id-1 div.sk-label input.sk-toggleable__control:checked~label.sk-toggleable__label {background-color: #d4ebff;}#sk-container-id-1 input.sk-hidden--visually {border: 0;clip: rect(1px 1px 1px 1px);clip: rect(1px, 1px, 1px, 1px);height: 1px;margin: -1px;overflow: hidden;padding: 0;position: absolute;width: 1px;}#sk-container-id-1 div.sk-estimator {font-family: monospace;background-color: #f0f8ff;border: 1px dotted black;border-radius: 0.25em;box-sizing: border-box;margin-bottom: 0.5em;}#sk-container-id-1 div.sk-estimator:hover {background-color: #d4ebff;}#sk-container-id-1 div.sk-parallel-item::after {content: \"\";width: 100%;border-bottom: 1px solid gray;flex-grow: 1;}#sk-container-id-1 div.sk-label:hover label.sk-toggleable__label {background-color: #d4ebff;}#sk-container-id-1 div.sk-serial::before {content: \"\";position: absolute;border-left: 1px solid gray;box-sizing: border-box;top: 0;bottom: 0;left: 50%;z-index: 0;}#sk-container-id-1 div.sk-serial {display: flex;flex-direction: column;align-items: center;background-color: white;padding-right: 0.2em;padding-left: 0.2em;position: relative;}#sk-container-id-1 div.sk-item {position: relative;z-index: 1;}#sk-container-id-1 div.sk-parallel {display: flex;align-items: stretch;justify-content: center;background-color: white;position: relative;}#sk-container-id-1 div.sk-item::before, #sk-container-id-1 div.sk-parallel-item::before {content: \"\";position: absolute;border-left: 1px solid gray;box-sizing: border-box;top: 0;bottom: 0;left: 50%;z-index: -1;}#sk-container-id-1 div.sk-parallel-item {display: flex;flex-direction: column;z-index: 1;position: relative;background-color: white;}#sk-container-id-1 div.sk-parallel-item:first-child::after {align-self: flex-end;width: 50%;}#sk-container-id-1 div.sk-parallel-item:last-child::after {align-self: flex-start;width: 50%;}#sk-container-id-1 div.sk-parallel-item:only-child::after {width: 0;}#sk-container-id-1 div.sk-dashed-wrapped {border: 1px dashed gray;margin: 0 0.4em 0.5em 0.4em;box-sizing: border-box;padding-bottom: 0.4em;background-color: white;}#sk-container-id-1 div.sk-label label {font-family: monospace;font-weight: bold;display: inline-block;line-height: 1.2em;}#sk-container-id-1 div.sk-label-container {text-align: center;}#sk-container-id-1 div.sk-container {/* jupyter's `normalize.less` sets `[hidden] { display: none; }` but bootstrap.min.css set `[hidden] { display: none !important; }` so we also need the `!important` here to be able to override the default hidden behavior on the sphinx rendered scikit-learn.org. See: https://github.com/scikit-learn/scikit-learn/issues/21755 */display: inline-block !important;position: relative;}#sk-container-id-1 div.sk-text-repr-fallback {display: none;}</style><div id=\"sk-container-id-1\" class=\"sk-top-container\"><div class=\"sk-text-repr-fallback\"><pre>Pipeline(steps=[(&#x27;pr&#x27;,\n",
       "                 ColumnTransformer(remainder=&#x27;passthrough&#x27;,\n",
       "                                   transformers=[(&#x27;std&#x27;, RobustScaler(),\n",
       "                                                  [&#x27;Card&#x27;, &#x27;Year&#x27;, &#x27;Month&#x27;,\n",
       "                                                   &#x27;Day&#x27;, &#x27;Hours&#x27;, &#x27;Amount&#x27;,\n",
       "                                                   &#x27;Credit Limit&#x27;,\n",
       "                                                   &#x27;Year PIN last Changed&#x27;,\n",
       "                                                   &#x27;delta_t_s&#x27;,\n",
       "                                                   &#x27;delta_t_s_card&#x27;,\n",
       "                                                   &#x27;amt/daily_income&#x27;,\n",
       "                                                   &#x27;daily_amount&#x27;,\n",
       "                                                   &#x27;nb_daily_declines_card&#x27;,\n",
       "                                                   &#x27;nb_weekly_declines_card&#x27;,\n",
       "                                                   &#x27;nb_monthly_declines_card&#x27;,\n",
       "                                                   &#x27;hr_nbt/last_30d_av_hr_nbt&#x27;,\n",
       "                                                   &#x27;day_nbt/last_30d_av_day_nbt&#x27;,\n",
       "                                                   &#x27;last_3d_amt/nbt&#x27;])])),\n",
       "                (&#x27;lr&#x27;,\n",
       "                 LogisticRegression(class_weight=&#x27;balanced&#x27;, random_state=42))])</pre><b>In a Jupyter environment, please rerun this cell to show the HTML representation or trust the notebook. <br />On GitHub, the HTML representation is unable to render, please try loading this page with nbviewer.org.</b></div><div class=\"sk-container\" hidden><div class=\"sk-item sk-dashed-wrapped\"><div class=\"sk-label-container\"><div class=\"sk-label sk-toggleable\"><input class=\"sk-toggleable__control sk-hidden--visually\" id=\"sk-estimator-id-1\" type=\"checkbox\" ><label for=\"sk-estimator-id-1\" class=\"sk-toggleable__label sk-toggleable__label-arrow\">Pipeline</label><div class=\"sk-toggleable__content\"><pre>Pipeline(steps=[(&#x27;pr&#x27;,\n",
       "                 ColumnTransformer(remainder=&#x27;passthrough&#x27;,\n",
       "                                   transformers=[(&#x27;std&#x27;, RobustScaler(),\n",
       "                                                  [&#x27;Card&#x27;, &#x27;Year&#x27;, &#x27;Month&#x27;,\n",
       "                                                   &#x27;Day&#x27;, &#x27;Hours&#x27;, &#x27;Amount&#x27;,\n",
       "                                                   &#x27;Credit Limit&#x27;,\n",
       "                                                   &#x27;Year PIN last Changed&#x27;,\n",
       "                                                   &#x27;delta_t_s&#x27;,\n",
       "                                                   &#x27;delta_t_s_card&#x27;,\n",
       "                                                   &#x27;amt/daily_income&#x27;,\n",
       "                                                   &#x27;daily_amount&#x27;,\n",
       "                                                   &#x27;nb_daily_declines_card&#x27;,\n",
       "                                                   &#x27;nb_weekly_declines_card&#x27;,\n",
       "                                                   &#x27;nb_monthly_declines_card&#x27;,\n",
       "                                                   &#x27;hr_nbt/last_30d_av_hr_nbt&#x27;,\n",
       "                                                   &#x27;day_nbt/last_30d_av_day_nbt&#x27;,\n",
       "                                                   &#x27;last_3d_amt/nbt&#x27;])])),\n",
       "                (&#x27;lr&#x27;,\n",
       "                 LogisticRegression(class_weight=&#x27;balanced&#x27;, random_state=42))])</pre></div></div></div><div class=\"sk-serial\"><div class=\"sk-item sk-dashed-wrapped\"><div class=\"sk-label-container\"><div class=\"sk-label sk-toggleable\"><input class=\"sk-toggleable__control sk-hidden--visually\" id=\"sk-estimator-id-2\" type=\"checkbox\" ><label for=\"sk-estimator-id-2\" class=\"sk-toggleable__label sk-toggleable__label-arrow\">pr: ColumnTransformer</label><div class=\"sk-toggleable__content\"><pre>ColumnTransformer(remainder=&#x27;passthrough&#x27;,\n",
       "                  transformers=[(&#x27;std&#x27;, RobustScaler(),\n",
       "                                 [&#x27;Card&#x27;, &#x27;Year&#x27;, &#x27;Month&#x27;, &#x27;Day&#x27;, &#x27;Hours&#x27;,\n",
       "                                  &#x27;Amount&#x27;, &#x27;Credit Limit&#x27;,\n",
       "                                  &#x27;Year PIN last Changed&#x27;, &#x27;delta_t_s&#x27;,\n",
       "                                  &#x27;delta_t_s_card&#x27;, &#x27;amt/daily_income&#x27;,\n",
       "                                  &#x27;daily_amount&#x27;, &#x27;nb_daily_declines_card&#x27;,\n",
       "                                  &#x27;nb_weekly_declines_card&#x27;,\n",
       "                                  &#x27;nb_monthly_declines_card&#x27;,\n",
       "                                  &#x27;hr_nbt/last_30d_av_hr_nbt&#x27;,\n",
       "                                  &#x27;day_nbt/last_30d_av_day_nbt&#x27;,\n",
       "                                  &#x27;last_3d_amt/nbt&#x27;])])</pre></div></div></div><div class=\"sk-parallel\"><div class=\"sk-parallel-item\"><div class=\"sk-item\"><div class=\"sk-label-container\"><div class=\"sk-label sk-toggleable\"><input class=\"sk-toggleable__control sk-hidden--visually\" id=\"sk-estimator-id-3\" type=\"checkbox\" ><label for=\"sk-estimator-id-3\" class=\"sk-toggleable__label sk-toggleable__label-arrow\">std</label><div class=\"sk-toggleable__content\"><pre>[&#x27;Card&#x27;, &#x27;Year&#x27;, &#x27;Month&#x27;, &#x27;Day&#x27;, &#x27;Hours&#x27;, &#x27;Amount&#x27;, &#x27;Credit Limit&#x27;, &#x27;Year PIN last Changed&#x27;, &#x27;delta_t_s&#x27;, &#x27;delta_t_s_card&#x27;, &#x27;amt/daily_income&#x27;, &#x27;daily_amount&#x27;, &#x27;nb_daily_declines_card&#x27;, &#x27;nb_weekly_declines_card&#x27;, &#x27;nb_monthly_declines_card&#x27;, &#x27;hr_nbt/last_30d_av_hr_nbt&#x27;, &#x27;day_nbt/last_30d_av_day_nbt&#x27;, &#x27;last_3d_amt/nbt&#x27;]</pre></div></div></div><div class=\"sk-serial\"><div class=\"sk-item\"><div class=\"sk-estimator sk-toggleable\"><input class=\"sk-toggleable__control sk-hidden--visually\" id=\"sk-estimator-id-4\" type=\"checkbox\" ><label for=\"sk-estimator-id-4\" class=\"sk-toggleable__label sk-toggleable__label-arrow\">RobustScaler</label><div class=\"sk-toggleable__content\"><pre>RobustScaler()</pre></div></div></div></div></div></div><div class=\"sk-parallel-item\"><div class=\"sk-item\"><div class=\"sk-label-container\"><div class=\"sk-label sk-toggleable\"><input class=\"sk-toggleable__control sk-hidden--visually\" id=\"sk-estimator-id-5\" type=\"checkbox\" ><label for=\"sk-estimator-id-5\" class=\"sk-toggleable__label sk-toggleable__label-arrow\">remainder</label><div class=\"sk-toggleable__content\"><pre>[&#x27;Retired&#x27;, &#x27;bad_pin&#x27;, &#x27;insufficient_balance&#x27;, &#x27;Chip Transaction&#x27;, &#x27;Online Transaction&#x27;, &#x27;Swipe Transaction&#x27;, &#x27;day_of_week_Friday&#x27;, &#x27;day_of_week_Monday&#x27;, &#x27;day_of_week_Saturday&#x27;, &#x27;day_of_week_Sunday&#x27;, &#x27;day_of_week_Thursday&#x27;, &#x27;day_of_week_Tuesday&#x27;, &#x27;day_of_week_Wednesday&#x27;, &#x27;Card Brand_Amex&#x27;, &#x27;Card Brand_Discover&#x27;, &#x27;Card Brand_Mastercard&#x27;, &#x27;Card Brand_Visa&#x27;, &#x27;Card Type_Credit&#x27;, &#x27;Card Type_Debit&#x27;, &#x27;Card Type_Debit (Prepaid)&#x27;]</pre></div></div></div><div class=\"sk-serial\"><div class=\"sk-item\"><div class=\"sk-estimator sk-toggleable\"><input class=\"sk-toggleable__control sk-hidden--visually\" id=\"sk-estimator-id-6\" type=\"checkbox\" ><label for=\"sk-estimator-id-6\" class=\"sk-toggleable__label sk-toggleable__label-arrow\">passthrough</label><div class=\"sk-toggleable__content\"><pre>passthrough</pre></div></div></div></div></div></div></div></div><div class=\"sk-item\"><div class=\"sk-estimator sk-toggleable\"><input class=\"sk-toggleable__control sk-hidden--visually\" id=\"sk-estimator-id-7\" type=\"checkbox\" ><label for=\"sk-estimator-id-7\" class=\"sk-toggleable__label sk-toggleable__label-arrow\">LogisticRegression</label><div class=\"sk-toggleable__content\"><pre>LogisticRegression(class_weight=&#x27;balanced&#x27;, random_state=42)</pre></div></div></div></div></div></div></div>"
      ],
      "text/plain": [
       "Pipeline(steps=[('pr',\n",
       "                 ColumnTransformer(remainder='passthrough',\n",
       "                                   transformers=[('std', RobustScaler(),\n",
       "                                                  ['Card', 'Year', 'Month',\n",
       "                                                   'Day', 'Hours', 'Amount',\n",
       "                                                   'Credit Limit',\n",
       "                                                   'Year PIN last Changed',\n",
       "                                                   'delta_t_s',\n",
       "                                                   'delta_t_s_card',\n",
       "                                                   'amt/daily_income',\n",
       "                                                   'daily_amount',\n",
       "                                                   'nb_daily_declines_card',\n",
       "                                                   'nb_weekly_declines_card',\n",
       "                                                   'nb_monthly_declines_card',\n",
       "                                                   'hr_nbt/last_30d_av_hr_nbt',\n",
       "                                                   'day_nbt/last_30d_av_day_nbt',\n",
       "                                                   'last_3d_amt/nbt'])])),\n",
       "                ('lr',\n",
       "                 LogisticRegression(class_weight='balanced', random_state=42))])"
      ]
     },
     "execution_count": 10,
     "metadata": {},
     "output_type": "execute_result"
    }
   ],
   "source": [
    "model = Pipeline(steps = [('pr', preprocessor), ('lr', LogisticRegression(class_weight = \"balanced\", random_state=seed))])\n",
    "model.fit(X_train,y_train)"
   ]
  },
  {
   "cell_type": "code",
   "execution_count": 11,
   "metadata": {},
   "outputs": [
    {
     "name": "stdout",
     "output_type": "stream",
     "text": [
      "              precision    recall  f1-score   support\n",
      "\n",
      "           0       1.00      0.82      0.90    730714\n",
      "           1       0.01      0.75      0.01       893\n",
      "\n",
      "    accuracy                           0.82    731607\n",
      "   macro avg       0.50      0.79      0.45    731607\n",
      "weighted avg       1.00      0.82      0.90    731607\n",
      "\n"
     ]
    },
    {
     "data": {
      "text/plain": [
       "array([[597315, 133399],\n",
       "       [   220,    673]])"
      ]
     },
     "execution_count": 11,
     "metadata": {},
     "output_type": "execute_result"
    }
   ],
   "source": [
    "from sklearn import metrics\n",
    "from sklearn.metrics import confusion_matrix\n",
    "\n",
    "y_pred = model.predict(X_test)\n",
    "print(metrics.classification_report(y_test, y_pred))\n",
    "cnf_matrix = metrics.confusion_matrix(y_test,y_pred)\n",
    "cnf_matrix"
   ]
  },
  {
   "attachments": {},
   "cell_type": "markdown",
   "metadata": {},
   "source": [
    "## Oversampling (SMOTE)"
   ]
  },
  {
   "cell_type": "code",
   "execution_count": 16,
   "metadata": {},
   "outputs": [],
   "source": [
    "oversampler = SMOTE(sampling_strategy='minority', n_jobs=-1, random_state=seed)\n",
    "log_reg_os  = LogisticRegressionCV(Cs=5, scoring=accuracy, max_iter=lr_max_iterations, n_jobs=-1, random_state=seed)\n"
   ]
  },
  {
   "cell_type": "code",
   "execution_count": 13,
   "metadata": {},
   "outputs": [
    {
     "name": "stdout",
     "output_type": "stream",
     "text": [
      "Requirement already satisfied: imblearn in /opt/mamba/lib/python3.10/site-packages (0.0)\n",
      "Requirement already satisfied: imbalanced-learn in /opt/mamba/lib/python3.10/site-packages (from imblearn) (0.10.1)\n",
      "Requirement already satisfied: scipy>=1.3.2 in /opt/mamba/lib/python3.10/site-packages (from imbalanced-learn->imblearn) (1.10.0)\n",
      "Requirement already satisfied: numpy>=1.17.3 in /opt/mamba/lib/python3.10/site-packages (from imbalanced-learn->imblearn) (1.23.5)\n",
      "Requirement already satisfied: threadpoolctl>=2.0.0 in /opt/mamba/lib/python3.10/site-packages (from imbalanced-learn->imblearn) (3.1.0)\n",
      "Requirement already satisfied: scikit-learn>=1.0.2 in /opt/mamba/lib/python3.10/site-packages (from imbalanced-learn->imblearn) (1.2.1)\n",
      "Requirement already satisfied: joblib>=1.1.1 in /opt/mamba/lib/python3.10/site-packages (from imbalanced-learn->imblearn) (1.2.0)\n"
     ]
    }
   ],
   "source": [
    "!pip install imblearn\n",
    "from imblearn.combine import SMOTETomek\n",
    "from imblearn.over_sampling import SMOTE\n",
    "from imblearn.pipeline import Pipeline as imbPipeline\n",
    "from imblearn.under_sampling import RandomUnderSampler"
   ]
  },
  {
   "cell_type": "code",
   "execution_count": 17,
   "metadata": {},
   "outputs": [
    {
     "data": {
      "text/html": [
       "<style>#sk-container-id-3 {color: black;background-color: white;}#sk-container-id-3 pre{padding: 0;}#sk-container-id-3 div.sk-toggleable {background-color: white;}#sk-container-id-3 label.sk-toggleable__label {cursor: pointer;display: block;width: 100%;margin-bottom: 0;padding: 0.3em;box-sizing: border-box;text-align: center;}#sk-container-id-3 label.sk-toggleable__label-arrow:before {content: \"▸\";float: left;margin-right: 0.25em;color: #696969;}#sk-container-id-3 label.sk-toggleable__label-arrow:hover:before {color: black;}#sk-container-id-3 div.sk-estimator:hover label.sk-toggleable__label-arrow:before {color: black;}#sk-container-id-3 div.sk-toggleable__content {max-height: 0;max-width: 0;overflow: hidden;text-align: left;background-color: #f0f8ff;}#sk-container-id-3 div.sk-toggleable__content pre {margin: 0.2em;color: black;border-radius: 0.25em;background-color: #f0f8ff;}#sk-container-id-3 input.sk-toggleable__control:checked~div.sk-toggleable__content {max-height: 200px;max-width: 100%;overflow: auto;}#sk-container-id-3 input.sk-toggleable__control:checked~label.sk-toggleable__label-arrow:before {content: \"▾\";}#sk-container-id-3 div.sk-estimator input.sk-toggleable__control:checked~label.sk-toggleable__label {background-color: #d4ebff;}#sk-container-id-3 div.sk-label input.sk-toggleable__control:checked~label.sk-toggleable__label {background-color: #d4ebff;}#sk-container-id-3 input.sk-hidden--visually {border: 0;clip: rect(1px 1px 1px 1px);clip: rect(1px, 1px, 1px, 1px);height: 1px;margin: -1px;overflow: hidden;padding: 0;position: absolute;width: 1px;}#sk-container-id-3 div.sk-estimator {font-family: monospace;background-color: #f0f8ff;border: 1px dotted black;border-radius: 0.25em;box-sizing: border-box;margin-bottom: 0.5em;}#sk-container-id-3 div.sk-estimator:hover {background-color: #d4ebff;}#sk-container-id-3 div.sk-parallel-item::after {content: \"\";width: 100%;border-bottom: 1px solid gray;flex-grow: 1;}#sk-container-id-3 div.sk-label:hover label.sk-toggleable__label {background-color: #d4ebff;}#sk-container-id-3 div.sk-serial::before {content: \"\";position: absolute;border-left: 1px solid gray;box-sizing: border-box;top: 0;bottom: 0;left: 50%;z-index: 0;}#sk-container-id-3 div.sk-serial {display: flex;flex-direction: column;align-items: center;background-color: white;padding-right: 0.2em;padding-left: 0.2em;position: relative;}#sk-container-id-3 div.sk-item {position: relative;z-index: 1;}#sk-container-id-3 div.sk-parallel {display: flex;align-items: stretch;justify-content: center;background-color: white;position: relative;}#sk-container-id-3 div.sk-item::before, #sk-container-id-3 div.sk-parallel-item::before {content: \"\";position: absolute;border-left: 1px solid gray;box-sizing: border-box;top: 0;bottom: 0;left: 50%;z-index: -1;}#sk-container-id-3 div.sk-parallel-item {display: flex;flex-direction: column;z-index: 1;position: relative;background-color: white;}#sk-container-id-3 div.sk-parallel-item:first-child::after {align-self: flex-end;width: 50%;}#sk-container-id-3 div.sk-parallel-item:last-child::after {align-self: flex-start;width: 50%;}#sk-container-id-3 div.sk-parallel-item:only-child::after {width: 0;}#sk-container-id-3 div.sk-dashed-wrapped {border: 1px dashed gray;margin: 0 0.4em 0.5em 0.4em;box-sizing: border-box;padding-bottom: 0.4em;background-color: white;}#sk-container-id-3 div.sk-label label {font-family: monospace;font-weight: bold;display: inline-block;line-height: 1.2em;}#sk-container-id-3 div.sk-label-container {text-align: center;}#sk-container-id-3 div.sk-container {/* jupyter's `normalize.less` sets `[hidden] { display: none; }` but bootstrap.min.css set `[hidden] { display: none !important; }` so we also need the `!important` here to be able to override the default hidden behavior on the sphinx rendered scikit-learn.org. See: https://github.com/scikit-learn/scikit-learn/issues/21755 */display: inline-block !important;position: relative;}#sk-container-id-3 div.sk-text-repr-fallback {display: none;}</style><div id=\"sk-container-id-3\" class=\"sk-top-container\"><div class=\"sk-text-repr-fallback\"><pre>Pipeline(steps=[(&#x27;sampler&#x27;,\n",
       "                 SMOTE(n_jobs=-1, random_state=42,\n",
       "                       sampling_strategy=&#x27;minority&#x27;)),\n",
       "                (&#x27;pr&#x27;,\n",
       "                 ColumnTransformer(remainder=&#x27;passthrough&#x27;,\n",
       "                                   transformers=[(&#x27;std&#x27;, RobustScaler(),\n",
       "                                                  [&#x27;Card&#x27;, &#x27;Year&#x27;, &#x27;Month&#x27;,\n",
       "                                                   &#x27;Day&#x27;, &#x27;Hours&#x27;, &#x27;Amount&#x27;,\n",
       "                                                   &#x27;Credit Limit&#x27;,\n",
       "                                                   &#x27;Year PIN last Changed&#x27;,\n",
       "                                                   &#x27;delta_t_s&#x27;,\n",
       "                                                   &#x27;delta_t_s_card&#x27;,\n",
       "                                                   &#x27;amt/daily_income&#x27;,\n",
       "                                                   &#x27;daily_amount&#x27;,\n",
       "                                                   &#x27;nb_daily_declines_card&#x27;,\n",
       "                                                   &#x27;nb_weekly_declines_card&#x27;,\n",
       "                                                   &#x27;nb_monthly_declines_card&#x27;,\n",
       "                                                   &#x27;hr_nbt/last_30d_av_hr_nbt&#x27;,\n",
       "                                                   &#x27;day_nbt/last_30d_av_day_nbt&#x27;,\n",
       "                                                   &#x27;last_3d_amt/nbt&#x27;])])),\n",
       "                (&#x27;estimator&#x27;,\n",
       "                 LogisticRegressionCV(Cs=5, max_iter=10000, n_jobs=-1,\n",
       "                                      random_state=42,\n",
       "                                      scoring=&#x27;average_precision&#x27;))])</pre><b>In a Jupyter environment, please rerun this cell to show the HTML representation or trust the notebook. <br />On GitHub, the HTML representation is unable to render, please try loading this page with nbviewer.org.</b></div><div class=\"sk-container\" hidden><div class=\"sk-item sk-dashed-wrapped\"><div class=\"sk-label-container\"><div class=\"sk-label sk-toggleable\"><input class=\"sk-toggleable__control sk-hidden--visually\" id=\"sk-estimator-id-16\" type=\"checkbox\" ><label for=\"sk-estimator-id-16\" class=\"sk-toggleable__label sk-toggleable__label-arrow\">Pipeline</label><div class=\"sk-toggleable__content\"><pre>Pipeline(steps=[(&#x27;sampler&#x27;,\n",
       "                 SMOTE(n_jobs=-1, random_state=42,\n",
       "                       sampling_strategy=&#x27;minority&#x27;)),\n",
       "                (&#x27;pr&#x27;,\n",
       "                 ColumnTransformer(remainder=&#x27;passthrough&#x27;,\n",
       "                                   transformers=[(&#x27;std&#x27;, RobustScaler(),\n",
       "                                                  [&#x27;Card&#x27;, &#x27;Year&#x27;, &#x27;Month&#x27;,\n",
       "                                                   &#x27;Day&#x27;, &#x27;Hours&#x27;, &#x27;Amount&#x27;,\n",
       "                                                   &#x27;Credit Limit&#x27;,\n",
       "                                                   &#x27;Year PIN last Changed&#x27;,\n",
       "                                                   &#x27;delta_t_s&#x27;,\n",
       "                                                   &#x27;delta_t_s_card&#x27;,\n",
       "                                                   &#x27;amt/daily_income&#x27;,\n",
       "                                                   &#x27;daily_amount&#x27;,\n",
       "                                                   &#x27;nb_daily_declines_card&#x27;,\n",
       "                                                   &#x27;nb_weekly_declines_card&#x27;,\n",
       "                                                   &#x27;nb_monthly_declines_card&#x27;,\n",
       "                                                   &#x27;hr_nbt/last_30d_av_hr_nbt&#x27;,\n",
       "                                                   &#x27;day_nbt/last_30d_av_day_nbt&#x27;,\n",
       "                                                   &#x27;last_3d_amt/nbt&#x27;])])),\n",
       "                (&#x27;estimator&#x27;,\n",
       "                 LogisticRegressionCV(Cs=5, max_iter=10000, n_jobs=-1,\n",
       "                                      random_state=42,\n",
       "                                      scoring=&#x27;average_precision&#x27;))])</pre></div></div></div><div class=\"sk-serial\"><div class=\"sk-item\"><div class=\"sk-estimator sk-toggleable\"><input class=\"sk-toggleable__control sk-hidden--visually\" id=\"sk-estimator-id-17\" type=\"checkbox\" ><label for=\"sk-estimator-id-17\" class=\"sk-toggleable__label sk-toggleable__label-arrow\">SMOTE</label><div class=\"sk-toggleable__content\"><pre>SMOTE(n_jobs=-1, random_state=42, sampling_strategy=&#x27;minority&#x27;)</pre></div></div></div><div class=\"sk-item sk-dashed-wrapped\"><div class=\"sk-label-container\"><div class=\"sk-label sk-toggleable\"><input class=\"sk-toggleable__control sk-hidden--visually\" id=\"sk-estimator-id-18\" type=\"checkbox\" ><label for=\"sk-estimator-id-18\" class=\"sk-toggleable__label sk-toggleable__label-arrow\">pr: ColumnTransformer</label><div class=\"sk-toggleable__content\"><pre>ColumnTransformer(remainder=&#x27;passthrough&#x27;,\n",
       "                  transformers=[(&#x27;std&#x27;, RobustScaler(),\n",
       "                                 [&#x27;Card&#x27;, &#x27;Year&#x27;, &#x27;Month&#x27;, &#x27;Day&#x27;, &#x27;Hours&#x27;,\n",
       "                                  &#x27;Amount&#x27;, &#x27;Credit Limit&#x27;,\n",
       "                                  &#x27;Year PIN last Changed&#x27;, &#x27;delta_t_s&#x27;,\n",
       "                                  &#x27;delta_t_s_card&#x27;, &#x27;amt/daily_income&#x27;,\n",
       "                                  &#x27;daily_amount&#x27;, &#x27;nb_daily_declines_card&#x27;,\n",
       "                                  &#x27;nb_weekly_declines_card&#x27;,\n",
       "                                  &#x27;nb_monthly_declines_card&#x27;,\n",
       "                                  &#x27;hr_nbt/last_30d_av_hr_nbt&#x27;,\n",
       "                                  &#x27;day_nbt/last_30d_av_day_nbt&#x27;,\n",
       "                                  &#x27;last_3d_amt/nbt&#x27;])])</pre></div></div></div><div class=\"sk-parallel\"><div class=\"sk-parallel-item\"><div class=\"sk-item\"><div class=\"sk-label-container\"><div class=\"sk-label sk-toggleable\"><input class=\"sk-toggleable__control sk-hidden--visually\" id=\"sk-estimator-id-19\" type=\"checkbox\" ><label for=\"sk-estimator-id-19\" class=\"sk-toggleable__label sk-toggleable__label-arrow\">std</label><div class=\"sk-toggleable__content\"><pre>[&#x27;Card&#x27;, &#x27;Year&#x27;, &#x27;Month&#x27;, &#x27;Day&#x27;, &#x27;Hours&#x27;, &#x27;Amount&#x27;, &#x27;Credit Limit&#x27;, &#x27;Year PIN last Changed&#x27;, &#x27;delta_t_s&#x27;, &#x27;delta_t_s_card&#x27;, &#x27;amt/daily_income&#x27;, &#x27;daily_amount&#x27;, &#x27;nb_daily_declines_card&#x27;, &#x27;nb_weekly_declines_card&#x27;, &#x27;nb_monthly_declines_card&#x27;, &#x27;hr_nbt/last_30d_av_hr_nbt&#x27;, &#x27;day_nbt/last_30d_av_day_nbt&#x27;, &#x27;last_3d_amt/nbt&#x27;]</pre></div></div></div><div class=\"sk-serial\"><div class=\"sk-item\"><div class=\"sk-estimator sk-toggleable\"><input class=\"sk-toggleable__control sk-hidden--visually\" id=\"sk-estimator-id-20\" type=\"checkbox\" ><label for=\"sk-estimator-id-20\" class=\"sk-toggleable__label sk-toggleable__label-arrow\">RobustScaler</label><div class=\"sk-toggleable__content\"><pre>RobustScaler()</pre></div></div></div></div></div></div><div class=\"sk-parallel-item\"><div class=\"sk-item\"><div class=\"sk-label-container\"><div class=\"sk-label sk-toggleable\"><input class=\"sk-toggleable__control sk-hidden--visually\" id=\"sk-estimator-id-21\" type=\"checkbox\" ><label for=\"sk-estimator-id-21\" class=\"sk-toggleable__label sk-toggleable__label-arrow\">remainder</label><div class=\"sk-toggleable__content\"><pre>[&#x27;Retired&#x27;, &#x27;bad_pin&#x27;, &#x27;insufficient_balance&#x27;, &#x27;Chip Transaction&#x27;, &#x27;Online Transaction&#x27;, &#x27;Swipe Transaction&#x27;, &#x27;day_of_week_Friday&#x27;, &#x27;day_of_week_Monday&#x27;, &#x27;day_of_week_Saturday&#x27;, &#x27;day_of_week_Sunday&#x27;, &#x27;day_of_week_Thursday&#x27;, &#x27;day_of_week_Tuesday&#x27;, &#x27;day_of_week_Wednesday&#x27;, &#x27;Card Brand_Amex&#x27;, &#x27;Card Brand_Discover&#x27;, &#x27;Card Brand_Mastercard&#x27;, &#x27;Card Brand_Visa&#x27;, &#x27;Card Type_Credit&#x27;, &#x27;Card Type_Debit&#x27;, &#x27;Card Type_Debit (Prepaid)&#x27;]</pre></div></div></div><div class=\"sk-serial\"><div class=\"sk-item\"><div class=\"sk-estimator sk-toggleable\"><input class=\"sk-toggleable__control sk-hidden--visually\" id=\"sk-estimator-id-22\" type=\"checkbox\" ><label for=\"sk-estimator-id-22\" class=\"sk-toggleable__label sk-toggleable__label-arrow\">passthrough</label><div class=\"sk-toggleable__content\"><pre>passthrough</pre></div></div></div></div></div></div></div></div><div class=\"sk-item\"><div class=\"sk-estimator sk-toggleable\"><input class=\"sk-toggleable__control sk-hidden--visually\" id=\"sk-estimator-id-23\" type=\"checkbox\" ><label for=\"sk-estimator-id-23\" class=\"sk-toggleable__label sk-toggleable__label-arrow\">LogisticRegressionCV</label><div class=\"sk-toggleable__content\"><pre>LogisticRegressionCV(Cs=5, max_iter=10000, n_jobs=-1, random_state=42,\n",
       "                     scoring=&#x27;average_precision&#x27;)</pre></div></div></div></div></div></div></div>"
      ],
      "text/plain": [
       "Pipeline(steps=[('sampler',\n",
       "                 SMOTE(n_jobs=-1, random_state=42,\n",
       "                       sampling_strategy='minority')),\n",
       "                ('pr',\n",
       "                 ColumnTransformer(remainder='passthrough',\n",
       "                                   transformers=[('std', RobustScaler(),\n",
       "                                                  ['Card', 'Year', 'Month',\n",
       "                                                   'Day', 'Hours', 'Amount',\n",
       "                                                   'Credit Limit',\n",
       "                                                   'Year PIN last Changed',\n",
       "                                                   'delta_t_s',\n",
       "                                                   'delta_t_s_card',\n",
       "                                                   'amt/daily_income',\n",
       "                                                   'daily_amount',\n",
       "                                                   'nb_daily_declines_card',\n",
       "                                                   'nb_weekly_declines_card',\n",
       "                                                   'nb_monthly_declines_card',\n",
       "                                                   'hr_nbt/last_30d_av_hr_nbt',\n",
       "                                                   'day_nbt/last_30d_av_day_nbt',\n",
       "                                                   'last_3d_amt/nbt'])])),\n",
       "                ('estimator',\n",
       "                 LogisticRegressionCV(Cs=5, max_iter=10000, n_jobs=-1,\n",
       "                                      random_state=42,\n",
       "                                      scoring='average_precision'))])"
      ]
     },
     "execution_count": 17,
     "metadata": {},
     "output_type": "execute_result"
    }
   ],
   "source": [
    "model_smote = imbPipeline([\n",
    "    ('sampler', oversampler),\n",
    "    ('pr', preprocessor), \n",
    "    ('estimator', log_reg_os)])\n",
    "\n",
    "model_smote.fit(X_train, y_train)"
   ]
  },
  {
   "cell_type": "code",
   "execution_count": 18,
   "metadata": {},
   "outputs": [
    {
     "name": "stdout",
     "output_type": "stream",
     "text": [
      "              precision    recall  f1-score   support\n",
      "\n",
      "           0       1.00      0.84      0.91    730714\n",
      "           1       0.01      0.71      0.01       893\n",
      "\n",
      "    accuracy                           0.84    731607\n",
      "   macro avg       0.50      0.78      0.46    731607\n",
      "weighted avg       1.00      0.84      0.91    731607\n",
      "\n"
     ]
    },
    {
     "data": {
      "text/plain": [
       "array([[616434, 114280],\n",
       "       [   258,    635]])"
      ]
     },
     "execution_count": 18,
     "metadata": {},
     "output_type": "execute_result"
    }
   ],
   "source": [
    "from sklearn import metrics\n",
    "from sklearn.metrics import confusion_matrix\n",
    "\n",
    "y_pred_smote = model_smote.predict(X_test)\n",
    "print(metrics.classification_report(y_test, y_pred_smote))\n",
    "cnf_matrix_smote = metrics.confusion_matrix(y_test,y_pred_smote)\n",
    "cnf_matrix_smote"
   ]
  },
  {
   "attachments": {},
   "cell_type": "markdown",
   "metadata": {},
   "source": [
    "## Undersampling"
   ]
  },
  {
   "cell_type": "code",
   "execution_count": 19,
   "metadata": {},
   "outputs": [
    {
     "data": {
      "text/html": [
       "<style>#sk-container-id-4 {color: black;background-color: white;}#sk-container-id-4 pre{padding: 0;}#sk-container-id-4 div.sk-toggleable {background-color: white;}#sk-container-id-4 label.sk-toggleable__label {cursor: pointer;display: block;width: 100%;margin-bottom: 0;padding: 0.3em;box-sizing: border-box;text-align: center;}#sk-container-id-4 label.sk-toggleable__label-arrow:before {content: \"▸\";float: left;margin-right: 0.25em;color: #696969;}#sk-container-id-4 label.sk-toggleable__label-arrow:hover:before {color: black;}#sk-container-id-4 div.sk-estimator:hover label.sk-toggleable__label-arrow:before {color: black;}#sk-container-id-4 div.sk-toggleable__content {max-height: 0;max-width: 0;overflow: hidden;text-align: left;background-color: #f0f8ff;}#sk-container-id-4 div.sk-toggleable__content pre {margin: 0.2em;color: black;border-radius: 0.25em;background-color: #f0f8ff;}#sk-container-id-4 input.sk-toggleable__control:checked~div.sk-toggleable__content {max-height: 200px;max-width: 100%;overflow: auto;}#sk-container-id-4 input.sk-toggleable__control:checked~label.sk-toggleable__label-arrow:before {content: \"▾\";}#sk-container-id-4 div.sk-estimator input.sk-toggleable__control:checked~label.sk-toggleable__label {background-color: #d4ebff;}#sk-container-id-4 div.sk-label input.sk-toggleable__control:checked~label.sk-toggleable__label {background-color: #d4ebff;}#sk-container-id-4 input.sk-hidden--visually {border: 0;clip: rect(1px 1px 1px 1px);clip: rect(1px, 1px, 1px, 1px);height: 1px;margin: -1px;overflow: hidden;padding: 0;position: absolute;width: 1px;}#sk-container-id-4 div.sk-estimator {font-family: monospace;background-color: #f0f8ff;border: 1px dotted black;border-radius: 0.25em;box-sizing: border-box;margin-bottom: 0.5em;}#sk-container-id-4 div.sk-estimator:hover {background-color: #d4ebff;}#sk-container-id-4 div.sk-parallel-item::after {content: \"\";width: 100%;border-bottom: 1px solid gray;flex-grow: 1;}#sk-container-id-4 div.sk-label:hover label.sk-toggleable__label {background-color: #d4ebff;}#sk-container-id-4 div.sk-serial::before {content: \"\";position: absolute;border-left: 1px solid gray;box-sizing: border-box;top: 0;bottom: 0;left: 50%;z-index: 0;}#sk-container-id-4 div.sk-serial {display: flex;flex-direction: column;align-items: center;background-color: white;padding-right: 0.2em;padding-left: 0.2em;position: relative;}#sk-container-id-4 div.sk-item {position: relative;z-index: 1;}#sk-container-id-4 div.sk-parallel {display: flex;align-items: stretch;justify-content: center;background-color: white;position: relative;}#sk-container-id-4 div.sk-item::before, #sk-container-id-4 div.sk-parallel-item::before {content: \"\";position: absolute;border-left: 1px solid gray;box-sizing: border-box;top: 0;bottom: 0;left: 50%;z-index: -1;}#sk-container-id-4 div.sk-parallel-item {display: flex;flex-direction: column;z-index: 1;position: relative;background-color: white;}#sk-container-id-4 div.sk-parallel-item:first-child::after {align-self: flex-end;width: 50%;}#sk-container-id-4 div.sk-parallel-item:last-child::after {align-self: flex-start;width: 50%;}#sk-container-id-4 div.sk-parallel-item:only-child::after {width: 0;}#sk-container-id-4 div.sk-dashed-wrapped {border: 1px dashed gray;margin: 0 0.4em 0.5em 0.4em;box-sizing: border-box;padding-bottom: 0.4em;background-color: white;}#sk-container-id-4 div.sk-label label {font-family: monospace;font-weight: bold;display: inline-block;line-height: 1.2em;}#sk-container-id-4 div.sk-label-container {text-align: center;}#sk-container-id-4 div.sk-container {/* jupyter's `normalize.less` sets `[hidden] { display: none; }` but bootstrap.min.css set `[hidden] { display: none !important; }` so we also need the `!important` here to be able to override the default hidden behavior on the sphinx rendered scikit-learn.org. See: https://github.com/scikit-learn/scikit-learn/issues/21755 */display: inline-block !important;position: relative;}#sk-container-id-4 div.sk-text-repr-fallback {display: none;}</style><div id=\"sk-container-id-4\" class=\"sk-top-container\"><div class=\"sk-text-repr-fallback\"><pre>Pipeline(steps=[(&#x27;sampler&#x27;,\n",
       "                 RandomUnderSampler(random_state=42,\n",
       "                                    sampling_strategy=&#x27;majority&#x27;)),\n",
       "                (&#x27;pr&#x27;,\n",
       "                 ColumnTransformer(remainder=&#x27;passthrough&#x27;,\n",
       "                                   transformers=[(&#x27;std&#x27;, RobustScaler(),\n",
       "                                                  [&#x27;Card&#x27;, &#x27;Year&#x27;, &#x27;Month&#x27;,\n",
       "                                                   &#x27;Day&#x27;, &#x27;Hours&#x27;, &#x27;Amount&#x27;,\n",
       "                                                   &#x27;Credit Limit&#x27;,\n",
       "                                                   &#x27;Year PIN last Changed&#x27;,\n",
       "                                                   &#x27;delta_t_s&#x27;,\n",
       "                                                   &#x27;delta_t_s_card&#x27;,\n",
       "                                                   &#x27;amt/daily_income&#x27;,\n",
       "                                                   &#x27;daily_amount&#x27;,\n",
       "                                                   &#x27;nb_daily_declines_card&#x27;,\n",
       "                                                   &#x27;nb_weekly_declines_card&#x27;,\n",
       "                                                   &#x27;nb_monthly_declines_card&#x27;,\n",
       "                                                   &#x27;hr_nbt/last_30d_av_hr_nbt&#x27;,\n",
       "                                                   &#x27;day_nbt/last_30d_av_day_nbt&#x27;,\n",
       "                                                   &#x27;last_3d_amt/nbt&#x27;])])),\n",
       "                (&#x27;estimator&#x27;,\n",
       "                 LogisticRegressionCV(Cs=5, max_iter=10000, n_jobs=-1,\n",
       "                                      random_state=42,\n",
       "                                      scoring=&#x27;average_precision&#x27;))])</pre><b>In a Jupyter environment, please rerun this cell to show the HTML representation or trust the notebook. <br />On GitHub, the HTML representation is unable to render, please try loading this page with nbviewer.org.</b></div><div class=\"sk-container\" hidden><div class=\"sk-item sk-dashed-wrapped\"><div class=\"sk-label-container\"><div class=\"sk-label sk-toggleable\"><input class=\"sk-toggleable__control sk-hidden--visually\" id=\"sk-estimator-id-24\" type=\"checkbox\" ><label for=\"sk-estimator-id-24\" class=\"sk-toggleable__label sk-toggleable__label-arrow\">Pipeline</label><div class=\"sk-toggleable__content\"><pre>Pipeline(steps=[(&#x27;sampler&#x27;,\n",
       "                 RandomUnderSampler(random_state=42,\n",
       "                                    sampling_strategy=&#x27;majority&#x27;)),\n",
       "                (&#x27;pr&#x27;,\n",
       "                 ColumnTransformer(remainder=&#x27;passthrough&#x27;,\n",
       "                                   transformers=[(&#x27;std&#x27;, RobustScaler(),\n",
       "                                                  [&#x27;Card&#x27;, &#x27;Year&#x27;, &#x27;Month&#x27;,\n",
       "                                                   &#x27;Day&#x27;, &#x27;Hours&#x27;, &#x27;Amount&#x27;,\n",
       "                                                   &#x27;Credit Limit&#x27;,\n",
       "                                                   &#x27;Year PIN last Changed&#x27;,\n",
       "                                                   &#x27;delta_t_s&#x27;,\n",
       "                                                   &#x27;delta_t_s_card&#x27;,\n",
       "                                                   &#x27;amt/daily_income&#x27;,\n",
       "                                                   &#x27;daily_amount&#x27;,\n",
       "                                                   &#x27;nb_daily_declines_card&#x27;,\n",
       "                                                   &#x27;nb_weekly_declines_card&#x27;,\n",
       "                                                   &#x27;nb_monthly_declines_card&#x27;,\n",
       "                                                   &#x27;hr_nbt/last_30d_av_hr_nbt&#x27;,\n",
       "                                                   &#x27;day_nbt/last_30d_av_day_nbt&#x27;,\n",
       "                                                   &#x27;last_3d_amt/nbt&#x27;])])),\n",
       "                (&#x27;estimator&#x27;,\n",
       "                 LogisticRegressionCV(Cs=5, max_iter=10000, n_jobs=-1,\n",
       "                                      random_state=42,\n",
       "                                      scoring=&#x27;average_precision&#x27;))])</pre></div></div></div><div class=\"sk-serial\"><div class=\"sk-item\"><div class=\"sk-estimator sk-toggleable\"><input class=\"sk-toggleable__control sk-hidden--visually\" id=\"sk-estimator-id-25\" type=\"checkbox\" ><label for=\"sk-estimator-id-25\" class=\"sk-toggleable__label sk-toggleable__label-arrow\">RandomUnderSampler</label><div class=\"sk-toggleable__content\"><pre>RandomUnderSampler(random_state=42, sampling_strategy=&#x27;majority&#x27;)</pre></div></div></div><div class=\"sk-item sk-dashed-wrapped\"><div class=\"sk-label-container\"><div class=\"sk-label sk-toggleable\"><input class=\"sk-toggleable__control sk-hidden--visually\" id=\"sk-estimator-id-26\" type=\"checkbox\" ><label for=\"sk-estimator-id-26\" class=\"sk-toggleable__label sk-toggleable__label-arrow\">pr: ColumnTransformer</label><div class=\"sk-toggleable__content\"><pre>ColumnTransformer(remainder=&#x27;passthrough&#x27;,\n",
       "                  transformers=[(&#x27;std&#x27;, RobustScaler(),\n",
       "                                 [&#x27;Card&#x27;, &#x27;Year&#x27;, &#x27;Month&#x27;, &#x27;Day&#x27;, &#x27;Hours&#x27;,\n",
       "                                  &#x27;Amount&#x27;, &#x27;Credit Limit&#x27;,\n",
       "                                  &#x27;Year PIN last Changed&#x27;, &#x27;delta_t_s&#x27;,\n",
       "                                  &#x27;delta_t_s_card&#x27;, &#x27;amt/daily_income&#x27;,\n",
       "                                  &#x27;daily_amount&#x27;, &#x27;nb_daily_declines_card&#x27;,\n",
       "                                  &#x27;nb_weekly_declines_card&#x27;,\n",
       "                                  &#x27;nb_monthly_declines_card&#x27;,\n",
       "                                  &#x27;hr_nbt/last_30d_av_hr_nbt&#x27;,\n",
       "                                  &#x27;day_nbt/last_30d_av_day_nbt&#x27;,\n",
       "                                  &#x27;last_3d_amt/nbt&#x27;])])</pre></div></div></div><div class=\"sk-parallel\"><div class=\"sk-parallel-item\"><div class=\"sk-item\"><div class=\"sk-label-container\"><div class=\"sk-label sk-toggleable\"><input class=\"sk-toggleable__control sk-hidden--visually\" id=\"sk-estimator-id-27\" type=\"checkbox\" ><label for=\"sk-estimator-id-27\" class=\"sk-toggleable__label sk-toggleable__label-arrow\">std</label><div class=\"sk-toggleable__content\"><pre>[&#x27;Card&#x27;, &#x27;Year&#x27;, &#x27;Month&#x27;, &#x27;Day&#x27;, &#x27;Hours&#x27;, &#x27;Amount&#x27;, &#x27;Credit Limit&#x27;, &#x27;Year PIN last Changed&#x27;, &#x27;delta_t_s&#x27;, &#x27;delta_t_s_card&#x27;, &#x27;amt/daily_income&#x27;, &#x27;daily_amount&#x27;, &#x27;nb_daily_declines_card&#x27;, &#x27;nb_weekly_declines_card&#x27;, &#x27;nb_monthly_declines_card&#x27;, &#x27;hr_nbt/last_30d_av_hr_nbt&#x27;, &#x27;day_nbt/last_30d_av_day_nbt&#x27;, &#x27;last_3d_amt/nbt&#x27;]</pre></div></div></div><div class=\"sk-serial\"><div class=\"sk-item\"><div class=\"sk-estimator sk-toggleable\"><input class=\"sk-toggleable__control sk-hidden--visually\" id=\"sk-estimator-id-28\" type=\"checkbox\" ><label for=\"sk-estimator-id-28\" class=\"sk-toggleable__label sk-toggleable__label-arrow\">RobustScaler</label><div class=\"sk-toggleable__content\"><pre>RobustScaler()</pre></div></div></div></div></div></div><div class=\"sk-parallel-item\"><div class=\"sk-item\"><div class=\"sk-label-container\"><div class=\"sk-label sk-toggleable\"><input class=\"sk-toggleable__control sk-hidden--visually\" id=\"sk-estimator-id-29\" type=\"checkbox\" ><label for=\"sk-estimator-id-29\" class=\"sk-toggleable__label sk-toggleable__label-arrow\">remainder</label><div class=\"sk-toggleable__content\"><pre>[&#x27;Retired&#x27;, &#x27;bad_pin&#x27;, &#x27;insufficient_balance&#x27;, &#x27;Chip Transaction&#x27;, &#x27;Online Transaction&#x27;, &#x27;Swipe Transaction&#x27;, &#x27;day_of_week_Friday&#x27;, &#x27;day_of_week_Monday&#x27;, &#x27;day_of_week_Saturday&#x27;, &#x27;day_of_week_Sunday&#x27;, &#x27;day_of_week_Thursday&#x27;, &#x27;day_of_week_Tuesday&#x27;, &#x27;day_of_week_Wednesday&#x27;, &#x27;Card Brand_Amex&#x27;, &#x27;Card Brand_Discover&#x27;, &#x27;Card Brand_Mastercard&#x27;, &#x27;Card Brand_Visa&#x27;, &#x27;Card Type_Credit&#x27;, &#x27;Card Type_Debit&#x27;, &#x27;Card Type_Debit (Prepaid)&#x27;]</pre></div></div></div><div class=\"sk-serial\"><div class=\"sk-item\"><div class=\"sk-estimator sk-toggleable\"><input class=\"sk-toggleable__control sk-hidden--visually\" id=\"sk-estimator-id-30\" type=\"checkbox\" ><label for=\"sk-estimator-id-30\" class=\"sk-toggleable__label sk-toggleable__label-arrow\">passthrough</label><div class=\"sk-toggleable__content\"><pre>passthrough</pre></div></div></div></div></div></div></div></div><div class=\"sk-item\"><div class=\"sk-estimator sk-toggleable\"><input class=\"sk-toggleable__control sk-hidden--visually\" id=\"sk-estimator-id-31\" type=\"checkbox\" ><label for=\"sk-estimator-id-31\" class=\"sk-toggleable__label sk-toggleable__label-arrow\">LogisticRegressionCV</label><div class=\"sk-toggleable__content\"><pre>LogisticRegressionCV(Cs=5, max_iter=10000, n_jobs=-1, random_state=42,\n",
       "                     scoring=&#x27;average_precision&#x27;)</pre></div></div></div></div></div></div></div>"
      ],
      "text/plain": [
       "Pipeline(steps=[('sampler',\n",
       "                 RandomUnderSampler(random_state=42,\n",
       "                                    sampling_strategy='majority')),\n",
       "                ('pr',\n",
       "                 ColumnTransformer(remainder='passthrough',\n",
       "                                   transformers=[('std', RobustScaler(),\n",
       "                                                  ['Card', 'Year', 'Month',\n",
       "                                                   'Day', 'Hours', 'Amount',\n",
       "                                                   'Credit Limit',\n",
       "                                                   'Year PIN last Changed',\n",
       "                                                   'delta_t_s',\n",
       "                                                   'delta_t_s_card',\n",
       "                                                   'amt/daily_income',\n",
       "                                                   'daily_amount',\n",
       "                                                   'nb_daily_declines_card',\n",
       "                                                   'nb_weekly_declines_card',\n",
       "                                                   'nb_monthly_declines_card',\n",
       "                                                   'hr_nbt/last_30d_av_hr_nbt',\n",
       "                                                   'day_nbt/last_30d_av_day_nbt',\n",
       "                                                   'last_3d_amt/nbt'])])),\n",
       "                ('estimator',\n",
       "                 LogisticRegressionCV(Cs=5, max_iter=10000, n_jobs=-1,\n",
       "                                      random_state=42,\n",
       "                                      scoring='average_precision'))])"
      ]
     },
     "execution_count": 19,
     "metadata": {},
     "output_type": "execute_result"
    }
   ],
   "source": [
    "undersampler = RandomUnderSampler(sampling_strategy='majority', random_state=seed)\n",
    "log_reg_us   = LogisticRegressionCV(Cs=5, scoring=accuracy, max_iter=lr_max_iterations, n_jobs=-1, random_state=seed)\n",
    "\n",
    "model_us = imbPipeline([\n",
    "        ('sampler', undersampler),\n",
    "        ('pr', preprocessor),\n",
    "        ('estimator', log_reg_us)])\n",
    "model_us.fit(X_train, y_train)"
   ]
  },
  {
   "cell_type": "code",
   "execution_count": 20,
   "metadata": {},
   "outputs": [
    {
     "name": "stdout",
     "output_type": "stream",
     "text": [
      "              precision    recall  f1-score   support\n",
      "\n",
      "           0       1.00      0.83      0.90    730714\n",
      "           1       0.01      0.75      0.01       893\n",
      "\n",
      "    accuracy                           0.83    731607\n",
      "   macro avg       0.50      0.79      0.46    731607\n",
      "weighted avg       1.00      0.83      0.90    731607\n",
      "\n"
     ]
    },
    {
     "data": {
      "text/plain": [
       "array([[603875, 126839],\n",
       "       [   223,    670]])"
      ]
     },
     "execution_count": 20,
     "metadata": {},
     "output_type": "execute_result"
    }
   ],
   "source": [
    "y_pred_us = model_us.predict(X_test)\n",
    "print(metrics.classification_report(y_test, y_pred_us))\n",
    "cnf_matrix_us = metrics.confusion_matrix(y_test,y_pred_us)\n",
    "cnf_matrix_us"
   ]
  },
  {
   "attachments": {},
   "cell_type": "markdown",
   "metadata": {},
   "source": [
    "## Combined Sampling"
   ]
  },
  {
   "cell_type": "code",
   "execution_count": 14,
   "metadata": {},
   "outputs": [
    {
     "data": {
      "text/html": [
       "<style>#sk-container-id-2 {color: black;background-color: white;}#sk-container-id-2 pre{padding: 0;}#sk-container-id-2 div.sk-toggleable {background-color: white;}#sk-container-id-2 label.sk-toggleable__label {cursor: pointer;display: block;width: 100%;margin-bottom: 0;padding: 0.3em;box-sizing: border-box;text-align: center;}#sk-container-id-2 label.sk-toggleable__label-arrow:before {content: \"▸\";float: left;margin-right: 0.25em;color: #696969;}#sk-container-id-2 label.sk-toggleable__label-arrow:hover:before {color: black;}#sk-container-id-2 div.sk-estimator:hover label.sk-toggleable__label-arrow:before {color: black;}#sk-container-id-2 div.sk-toggleable__content {max-height: 0;max-width: 0;overflow: hidden;text-align: left;background-color: #f0f8ff;}#sk-container-id-2 div.sk-toggleable__content pre {margin: 0.2em;color: black;border-radius: 0.25em;background-color: #f0f8ff;}#sk-container-id-2 input.sk-toggleable__control:checked~div.sk-toggleable__content {max-height: 200px;max-width: 100%;overflow: auto;}#sk-container-id-2 input.sk-toggleable__control:checked~label.sk-toggleable__label-arrow:before {content: \"▾\";}#sk-container-id-2 div.sk-estimator input.sk-toggleable__control:checked~label.sk-toggleable__label {background-color: #d4ebff;}#sk-container-id-2 div.sk-label input.sk-toggleable__control:checked~label.sk-toggleable__label {background-color: #d4ebff;}#sk-container-id-2 input.sk-hidden--visually {border: 0;clip: rect(1px 1px 1px 1px);clip: rect(1px, 1px, 1px, 1px);height: 1px;margin: -1px;overflow: hidden;padding: 0;position: absolute;width: 1px;}#sk-container-id-2 div.sk-estimator {font-family: monospace;background-color: #f0f8ff;border: 1px dotted black;border-radius: 0.25em;box-sizing: border-box;margin-bottom: 0.5em;}#sk-container-id-2 div.sk-estimator:hover {background-color: #d4ebff;}#sk-container-id-2 div.sk-parallel-item::after {content: \"\";width: 100%;border-bottom: 1px solid gray;flex-grow: 1;}#sk-container-id-2 div.sk-label:hover label.sk-toggleable__label {background-color: #d4ebff;}#sk-container-id-2 div.sk-serial::before {content: \"\";position: absolute;border-left: 1px solid gray;box-sizing: border-box;top: 0;bottom: 0;left: 50%;z-index: 0;}#sk-container-id-2 div.sk-serial {display: flex;flex-direction: column;align-items: center;background-color: white;padding-right: 0.2em;padding-left: 0.2em;position: relative;}#sk-container-id-2 div.sk-item {position: relative;z-index: 1;}#sk-container-id-2 div.sk-parallel {display: flex;align-items: stretch;justify-content: center;background-color: white;position: relative;}#sk-container-id-2 div.sk-item::before, #sk-container-id-2 div.sk-parallel-item::before {content: \"\";position: absolute;border-left: 1px solid gray;box-sizing: border-box;top: 0;bottom: 0;left: 50%;z-index: -1;}#sk-container-id-2 div.sk-parallel-item {display: flex;flex-direction: column;z-index: 1;position: relative;background-color: white;}#sk-container-id-2 div.sk-parallel-item:first-child::after {align-self: flex-end;width: 50%;}#sk-container-id-2 div.sk-parallel-item:last-child::after {align-self: flex-start;width: 50%;}#sk-container-id-2 div.sk-parallel-item:only-child::after {width: 0;}#sk-container-id-2 div.sk-dashed-wrapped {border: 1px dashed gray;margin: 0 0.4em 0.5em 0.4em;box-sizing: border-box;padding-bottom: 0.4em;background-color: white;}#sk-container-id-2 div.sk-label label {font-family: monospace;font-weight: bold;display: inline-block;line-height: 1.2em;}#sk-container-id-2 div.sk-label-container {text-align: center;}#sk-container-id-2 div.sk-container {/* jupyter's `normalize.less` sets `[hidden] { display: none; }` but bootstrap.min.css set `[hidden] { display: none !important; }` so we also need the `!important` here to be able to override the default hidden behavior on the sphinx rendered scikit-learn.org. See: https://github.com/scikit-learn/scikit-learn/issues/21755 */display: inline-block !important;position: relative;}#sk-container-id-2 div.sk-text-repr-fallback {display: none;}</style><div id=\"sk-container-id-2\" class=\"sk-top-container\"><div class=\"sk-text-repr-fallback\"><pre>Pipeline(steps=[(&#x27;sampler&#x27;, SMOTETomek(n_jobs=-1, random_state=42)),\n",
       "                (&#x27;pr&#x27;,\n",
       "                 ColumnTransformer(remainder=&#x27;passthrough&#x27;,\n",
       "                                   transformers=[(&#x27;std&#x27;, RobustScaler(),\n",
       "                                                  [&#x27;Card&#x27;, &#x27;Year&#x27;, &#x27;Month&#x27;,\n",
       "                                                   &#x27;Day&#x27;, &#x27;Hours&#x27;, &#x27;Amount&#x27;,\n",
       "                                                   &#x27;Credit Limit&#x27;,\n",
       "                                                   &#x27;Year PIN last Changed&#x27;,\n",
       "                                                   &#x27;delta_t_s&#x27;,\n",
       "                                                   &#x27;delta_t_s_card&#x27;,\n",
       "                                                   &#x27;amt/daily_income&#x27;,\n",
       "                                                   &#x27;daily_amount&#x27;,\n",
       "                                                   &#x27;nb_daily_declines_card&#x27;,\n",
       "                                                   &#x27;nb_weekly_declines_card&#x27;,\n",
       "                                                   &#x27;nb_monthly_declines_card&#x27;,\n",
       "                                                   &#x27;hr_nbt/last_30d_av_hr_nbt&#x27;,\n",
       "                                                   &#x27;day_nbt/last_30d_av_day_nbt&#x27;,\n",
       "                                                   &#x27;last_3d_amt/nbt&#x27;])])),\n",
       "                (&#x27;estimator&#x27;,\n",
       "                 LogisticRegressionCV(Cs=5, max_iter=10000, n_jobs=-1,\n",
       "                                      random_state=42,\n",
       "                                      scoring=&#x27;average_precision&#x27;))])</pre><b>In a Jupyter environment, please rerun this cell to show the HTML representation or trust the notebook. <br />On GitHub, the HTML representation is unable to render, please try loading this page with nbviewer.org.</b></div><div class=\"sk-container\" hidden><div class=\"sk-item sk-dashed-wrapped\"><div class=\"sk-label-container\"><div class=\"sk-label sk-toggleable\"><input class=\"sk-toggleable__control sk-hidden--visually\" id=\"sk-estimator-id-8\" type=\"checkbox\" ><label for=\"sk-estimator-id-8\" class=\"sk-toggleable__label sk-toggleable__label-arrow\">Pipeline</label><div class=\"sk-toggleable__content\"><pre>Pipeline(steps=[(&#x27;sampler&#x27;, SMOTETomek(n_jobs=-1, random_state=42)),\n",
       "                (&#x27;pr&#x27;,\n",
       "                 ColumnTransformer(remainder=&#x27;passthrough&#x27;,\n",
       "                                   transformers=[(&#x27;std&#x27;, RobustScaler(),\n",
       "                                                  [&#x27;Card&#x27;, &#x27;Year&#x27;, &#x27;Month&#x27;,\n",
       "                                                   &#x27;Day&#x27;, &#x27;Hours&#x27;, &#x27;Amount&#x27;,\n",
       "                                                   &#x27;Credit Limit&#x27;,\n",
       "                                                   &#x27;Year PIN last Changed&#x27;,\n",
       "                                                   &#x27;delta_t_s&#x27;,\n",
       "                                                   &#x27;delta_t_s_card&#x27;,\n",
       "                                                   &#x27;amt/daily_income&#x27;,\n",
       "                                                   &#x27;daily_amount&#x27;,\n",
       "                                                   &#x27;nb_daily_declines_card&#x27;,\n",
       "                                                   &#x27;nb_weekly_declines_card&#x27;,\n",
       "                                                   &#x27;nb_monthly_declines_card&#x27;,\n",
       "                                                   &#x27;hr_nbt/last_30d_av_hr_nbt&#x27;,\n",
       "                                                   &#x27;day_nbt/last_30d_av_day_nbt&#x27;,\n",
       "                                                   &#x27;last_3d_amt/nbt&#x27;])])),\n",
       "                (&#x27;estimator&#x27;,\n",
       "                 LogisticRegressionCV(Cs=5, max_iter=10000, n_jobs=-1,\n",
       "                                      random_state=42,\n",
       "                                      scoring=&#x27;average_precision&#x27;))])</pre></div></div></div><div class=\"sk-serial\"><div class=\"sk-item\"><div class=\"sk-estimator sk-toggleable\"><input class=\"sk-toggleable__control sk-hidden--visually\" id=\"sk-estimator-id-9\" type=\"checkbox\" ><label for=\"sk-estimator-id-9\" class=\"sk-toggleable__label sk-toggleable__label-arrow\">SMOTETomek</label><div class=\"sk-toggleable__content\"><pre>SMOTETomek(n_jobs=-1, random_state=42)</pre></div></div></div><div class=\"sk-item sk-dashed-wrapped\"><div class=\"sk-label-container\"><div class=\"sk-label sk-toggleable\"><input class=\"sk-toggleable__control sk-hidden--visually\" id=\"sk-estimator-id-10\" type=\"checkbox\" ><label for=\"sk-estimator-id-10\" class=\"sk-toggleable__label sk-toggleable__label-arrow\">pr: ColumnTransformer</label><div class=\"sk-toggleable__content\"><pre>ColumnTransformer(remainder=&#x27;passthrough&#x27;,\n",
       "                  transformers=[(&#x27;std&#x27;, RobustScaler(),\n",
       "                                 [&#x27;Card&#x27;, &#x27;Year&#x27;, &#x27;Month&#x27;, &#x27;Day&#x27;, &#x27;Hours&#x27;,\n",
       "                                  &#x27;Amount&#x27;, &#x27;Credit Limit&#x27;,\n",
       "                                  &#x27;Year PIN last Changed&#x27;, &#x27;delta_t_s&#x27;,\n",
       "                                  &#x27;delta_t_s_card&#x27;, &#x27;amt/daily_income&#x27;,\n",
       "                                  &#x27;daily_amount&#x27;, &#x27;nb_daily_declines_card&#x27;,\n",
       "                                  &#x27;nb_weekly_declines_card&#x27;,\n",
       "                                  &#x27;nb_monthly_declines_card&#x27;,\n",
       "                                  &#x27;hr_nbt/last_30d_av_hr_nbt&#x27;,\n",
       "                                  &#x27;day_nbt/last_30d_av_day_nbt&#x27;,\n",
       "                                  &#x27;last_3d_amt/nbt&#x27;])])</pre></div></div></div><div class=\"sk-parallel\"><div class=\"sk-parallel-item\"><div class=\"sk-item\"><div class=\"sk-label-container\"><div class=\"sk-label sk-toggleable\"><input class=\"sk-toggleable__control sk-hidden--visually\" id=\"sk-estimator-id-11\" type=\"checkbox\" ><label for=\"sk-estimator-id-11\" class=\"sk-toggleable__label sk-toggleable__label-arrow\">std</label><div class=\"sk-toggleable__content\"><pre>[&#x27;Card&#x27;, &#x27;Year&#x27;, &#x27;Month&#x27;, &#x27;Day&#x27;, &#x27;Hours&#x27;, &#x27;Amount&#x27;, &#x27;Credit Limit&#x27;, &#x27;Year PIN last Changed&#x27;, &#x27;delta_t_s&#x27;, &#x27;delta_t_s_card&#x27;, &#x27;amt/daily_income&#x27;, &#x27;daily_amount&#x27;, &#x27;nb_daily_declines_card&#x27;, &#x27;nb_weekly_declines_card&#x27;, &#x27;nb_monthly_declines_card&#x27;, &#x27;hr_nbt/last_30d_av_hr_nbt&#x27;, &#x27;day_nbt/last_30d_av_day_nbt&#x27;, &#x27;last_3d_amt/nbt&#x27;]</pre></div></div></div><div class=\"sk-serial\"><div class=\"sk-item\"><div class=\"sk-estimator sk-toggleable\"><input class=\"sk-toggleable__control sk-hidden--visually\" id=\"sk-estimator-id-12\" type=\"checkbox\" ><label for=\"sk-estimator-id-12\" class=\"sk-toggleable__label sk-toggleable__label-arrow\">RobustScaler</label><div class=\"sk-toggleable__content\"><pre>RobustScaler()</pre></div></div></div></div></div></div><div class=\"sk-parallel-item\"><div class=\"sk-item\"><div class=\"sk-label-container\"><div class=\"sk-label sk-toggleable\"><input class=\"sk-toggleable__control sk-hidden--visually\" id=\"sk-estimator-id-13\" type=\"checkbox\" ><label for=\"sk-estimator-id-13\" class=\"sk-toggleable__label sk-toggleable__label-arrow\">remainder</label><div class=\"sk-toggleable__content\"><pre>[&#x27;Retired&#x27;, &#x27;bad_pin&#x27;, &#x27;insufficient_balance&#x27;, &#x27;Chip Transaction&#x27;, &#x27;Online Transaction&#x27;, &#x27;Swipe Transaction&#x27;, &#x27;day_of_week_Friday&#x27;, &#x27;day_of_week_Monday&#x27;, &#x27;day_of_week_Saturday&#x27;, &#x27;day_of_week_Sunday&#x27;, &#x27;day_of_week_Thursday&#x27;, &#x27;day_of_week_Tuesday&#x27;, &#x27;day_of_week_Wednesday&#x27;, &#x27;Card Brand_Amex&#x27;, &#x27;Card Brand_Discover&#x27;, &#x27;Card Brand_Mastercard&#x27;, &#x27;Card Brand_Visa&#x27;, &#x27;Card Type_Credit&#x27;, &#x27;Card Type_Debit&#x27;, &#x27;Card Type_Debit (Prepaid)&#x27;]</pre></div></div></div><div class=\"sk-serial\"><div class=\"sk-item\"><div class=\"sk-estimator sk-toggleable\"><input class=\"sk-toggleable__control sk-hidden--visually\" id=\"sk-estimator-id-14\" type=\"checkbox\" ><label for=\"sk-estimator-id-14\" class=\"sk-toggleable__label sk-toggleable__label-arrow\">passthrough</label><div class=\"sk-toggleable__content\"><pre>passthrough</pre></div></div></div></div></div></div></div></div><div class=\"sk-item\"><div class=\"sk-estimator sk-toggleable\"><input class=\"sk-toggleable__control sk-hidden--visually\" id=\"sk-estimator-id-15\" type=\"checkbox\" ><label for=\"sk-estimator-id-15\" class=\"sk-toggleable__label sk-toggleable__label-arrow\">LogisticRegressionCV</label><div class=\"sk-toggleable__content\"><pre>LogisticRegressionCV(Cs=5, max_iter=10000, n_jobs=-1, random_state=42,\n",
       "                     scoring=&#x27;average_precision&#x27;)</pre></div></div></div></div></div></div></div>"
      ],
      "text/plain": [
       "Pipeline(steps=[('sampler', SMOTETomek(n_jobs=-1, random_state=42)),\n",
       "                ('pr',\n",
       "                 ColumnTransformer(remainder='passthrough',\n",
       "                                   transformers=[('std', RobustScaler(),\n",
       "                                                  ['Card', 'Year', 'Month',\n",
       "                                                   'Day', 'Hours', 'Amount',\n",
       "                                                   'Credit Limit',\n",
       "                                                   'Year PIN last Changed',\n",
       "                                                   'delta_t_s',\n",
       "                                                   'delta_t_s_card',\n",
       "                                                   'amt/daily_income',\n",
       "                                                   'daily_amount',\n",
       "                                                   'nb_daily_declines_card',\n",
       "                                                   'nb_weekly_declines_card',\n",
       "                                                   'nb_monthly_declines_card',\n",
       "                                                   'hr_nbt/last_30d_av_hr_nbt',\n",
       "                                                   'day_nbt/last_30d_av_day_nbt',\n",
       "                                                   'last_3d_amt/nbt'])])),\n",
       "                ('estimator',\n",
       "                 LogisticRegressionCV(Cs=5, max_iter=10000, n_jobs=-1,\n",
       "                                      random_state=42,\n",
       "                                      scoring='average_precision'))])"
      ]
     },
     "execution_count": 14,
     "metadata": {},
     "output_type": "execute_result"
    }
   ],
   "source": [
    "combined_sampler = SMOTETomek(n_jobs=-1, random_state=seed)\n",
    "log_reg_comb   = LogisticRegressionCV(Cs=5, scoring=accuracy, max_iter=lr_max_iterations, n_jobs=-1, random_state=seed)\n",
    "\n",
    "model_comb = imbPipeline([\n",
    "        ('sampler', combined_sampler),\n",
    "        ('pr', preprocessor),\n",
    "        ('estimator', log_reg_comb)])\n",
    "\n",
    "model_comb.fit(X_train, y_train)\n"
   ]
  },
  {
   "cell_type": "code",
   "execution_count": 15,
   "metadata": {},
   "outputs": [
    {
     "name": "stdout",
     "output_type": "stream",
     "text": [
      "              precision    recall  f1-score   support\n",
      "\n",
      "           0       1.00      0.84      0.92    730714\n",
      "           1       0.01      0.71      0.01       893\n",
      "\n",
      "    accuracy                           0.84    731607\n",
      "   macro avg       0.50      0.78      0.46    731607\n",
      "weighted avg       1.00      0.84      0.91    731607\n",
      "\n"
     ]
    },
    {
     "data": {
      "text/plain": [
       "array([[616505, 114209],\n",
       "       [   259,    634]])"
      ]
     },
     "execution_count": 15,
     "metadata": {},
     "output_type": "execute_result"
    }
   ],
   "source": [
    "y_pred_comb = model_comb.predict(X_test)\n",
    "print(metrics.classification_report(y_test, y_pred_comb))\n",
    "cnf_matrix_comb = metrics.confusion_matrix(y_test,y_pred_comb)\n",
    "cnf_matrix_comb"
   ]
  }
 ],
 "metadata": {
  "kernelspec": {
   "display_name": "base",
   "language": "python",
   "name": "python3"
  },
  "language_info": {
   "codemirror_mode": {
    "name": "ipython",
    "version": 3
   },
   "file_extension": ".py",
   "mimetype": "text/x-python",
   "name": "python",
   "nbconvert_exporter": "python",
   "pygments_lexer": "ipython3",
   "version": "3.10.8"
  },
  "orig_nbformat": 4,
  "vscode": {
   "interpreter": {
    "hash": "3fa046f995eb80ac40c0869a1f9df46519f4ada8b8c395ef25dd1aa1a1a2fc63"
   }
  }
 },
 "nbformat": 4,
 "nbformat_minor": 2
}
