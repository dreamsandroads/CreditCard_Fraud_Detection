{
 "cells": [
  {
   "cell_type": "code",
   "execution_count": null,
   "metadata": {},
   "outputs": [],
   "source": [
    "#visualise count of transactions over hours (when does it happen the most)\n",
    "#distribution chart of amount\n",
    "#correlation among features\n",
    "#unbalanced data -> undersampling technique"
   ]
  }
 ],
 "metadata": {
  "language_info": {
   "name": "python"
  },
  "orig_nbformat": 4
 },
 "nbformat": 4,
 "nbformat_minor": 2
}
