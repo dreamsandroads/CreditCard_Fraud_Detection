{
 "cells": [
  {
   "cell_type": "code",
   "execution_count": 1,
   "id": "9e84ad3b",
   "metadata": {},
   "outputs": [],
   "source": [
    "# Importation des libraries/packages de base. \n",
    "\n",
    "import pandas as pd\n",
    "import os\n",
    "import numpy as np\n",
    "import dask.dataframe as dd \n",
    "import warnings \n",
    "warnings.filterwarnings(\"ignore\")\n",
    "\n"
   ]
  },
  {
   "cell_type": "code",
   "execution_count": 7,
   "id": "3d84127c",
   "metadata": {},
   "outputs": [],
   "source": [
    "# Fichier avec les variables d'intéret : dernière version : 21/02 \n",
    "\n",
    "df_cct = pd.read_parquet(\"/Users/vanheuverswyn/Desktop/ProjetStatapp/df_all.parquet\")"
   ]
  },
  {
   "cell_type": "code",
   "execution_count": 8,
   "id": "ed685638",
   "metadata": {},
   "outputs": [],
   "source": [
    "#creation de 2000 parquets (1 par user)\n",
    "for k in range (2000):\n",
    "    df=df_cct[df_cct['User']==k]\n",
    "    df.to_parquet('/Users/vanheuverswyn/Desktop/ProjetStatapp/parquet_all/df_all'+ str(k)+'.parquet')\n",
    "\n"
   ]
  },
  {
   "cell_type": "code",
   "execution_count": 24,
   "id": "7012e46b",
   "metadata": {},
   "outputs": [],
   "source": [
    "from sklearn import preprocessing\n",
    "#fonction qui retire les colonnes inutiles, qui cree la colonne 'Number_year_since_PIN_last_Changed' qui\n",
    "    #qui cree des dummies a partir des variable categorielle et qui normalise les variables non-categorielles\n",
    "\n",
    "def modification_data_frame(df_cct):\n",
    "    \n",
    "    #On retire les colonnes qui ne sont plus utiles\n",
    "    df_cct =  df_cct.drop([  'day_of_week','Card', 'Month', 'Day', 'Hours'], axis = 1)\n",
    "    \n",
    "    \n",
    "    #pour ne pas avoir de soucis lors de la concatenations des dataframe (df_cct et dummies), on reinitialise les index\n",
    "    df_cct=df_cct.reset_index()    \n",
    "    df_cct =  df_cct.drop([\"index\"], axis = 1)\n",
    "\n",
    "    enc = preprocessing.OneHotEncoder(handle_unknown='ignore')\n",
    "    features_array = enc.fit_transform(df_cct[['Card Brand']]).toarray()\n",
    "    features_labels = np.hstack(np.array(enc.categories_))\n",
    "    df_cct = pd.concat([df_cct, pd.DataFrame(features_array, columns = features_labels).reset_index()], axis = 1)\n",
    "\n",
    "    enc = preprocessing.OneHotEncoder(handle_unknown='ignore')\n",
    "    features_array = enc.fit_transform(df_cct[['Use Chip']]).toarray()\n",
    "    features_labels = np.hstack(np.array(enc.categories_))\n",
    "    df_cct = pd.concat([df_cct, pd.DataFrame(features_array, columns = features_labels).reset_index()], axis = 1)\n",
    "\n",
    "    enc = preprocessing.OneHotEncoder(handle_unknown='ignore')\n",
    "    features_array = enc.fit_transform(df_cct[['Card Type']]).toarray()\n",
    "    features_labels = np.hstack(np.array(enc.categories_))\n",
    "    df_cct = pd.concat([df_cct, pd.DataFrame(features_array, columns = features_labels)], axis = 1)\n",
    "\n",
    "    df_cct =  df_cct.drop([\"index\",\"Card Brand\",'Card Type'], axis = 1)\n",
    "    \n",
    "    \n",
    "    \n",
    "    #On centre et reduit les colonnes a normaliser suivantes:\n",
    "    Normalizing_List=['Amount', 'Credit Limit', 'delta_t_s', 'delta_t_s_card',\n",
    "       'amt/daily_income', 'daily_amount', 'nb_daily_declines_card',\n",
    "       'nb_weekly_declines_card', 'nb_monthly_declines_card',\n",
    "       'hr_nbt/last_30d_av_hr_nbt',\n",
    "       'day_nbt/last_30d_av_day_nbt', 'last_3d_amt/nbt',\n",
    "       'year_diff']\n",
    "    df_cct_not_normalized=df_cct.copy()\n",
    "    for i in Normalizing_List:\n",
    "        if np.std(df_cct[i])!=0:\n",
    "            df_cct[i] = (df_cct[i]-np.mean(df_cct[i]))/np.std(df_cct[i])\n",
    "        else:\n",
    "            df_cct[i] = (df_cct[i]-np.mean(df_cct[i])) \n",
    "    return df_cct\n",
    "        \n",
    "                \n",
    "        \n",
    "        \n",
    "        \n",
    "    "
   ]
  },
  {
   "cell_type": "code",
   "execution_count": 25,
   "id": "03fa6274",
   "metadata": {},
   "outputs": [],
   "source": [
    "# Application de la fonction au 2000 parquet -> on obtient les parquets modifies et les parquets avec\n",
    "    #les fraudes associees pour chaque utilisatuer dans un seul et même dossier \n",
    "    \n",
    "    \n",
    "for k in range (2000):\n",
    "    df=pd.read_parquet(\"/Users/vanheuverswyn/Desktop/ProjetStatapp/parquet_all/df_all\"+str(k)+\".parquet\")\n",
    "    \n",
    "    df_modified=modification_data_frame(df)\n",
    "    IsFraud=df_modified[\"Is Fraud?\"].to_frame()\n",
    "    df_modified=df_modified.drop([\"Is Fraud?\"],axis = 1)\n",
    "    \n",
    "    df_modified.to_parquet('/Users/vanheuverswyn/Desktop/ProjetStatapp/parquet_modified_all/df_all'+ str(k)+'.parquet')\n",
    "    IsFraud.to_parquet('/Users/vanheuverswyn/Desktop/ProjetStatapp/parquet_modified_all/IsFraud'+ str(k)+'.parquet')\n",
    "    \n"
   ]
  },
  {
   "cell_type": "code",
   "execution_count": 26,
   "id": "542b4f15",
   "metadata": {},
   "outputs": [
    {
     "data": {
      "text/html": [
       "<div>\n",
       "<style scoped>\n",
       "    .dataframe tbody tr th:only-of-type {\n",
       "        vertical-align: middle;\n",
       "    }\n",
       "\n",
       "    .dataframe tbody tr th {\n",
       "        vertical-align: top;\n",
       "    }\n",
       "\n",
       "    .dataframe thead th {\n",
       "        text-align: right;\n",
       "    }\n",
       "</style>\n",
       "<table border=\"1\" class=\"dataframe\">\n",
       "  <thead>\n",
       "    <tr style=\"text-align: right;\">\n",
       "      <th></th>\n",
       "      <th>User</th>\n",
       "      <th>Card</th>\n",
       "      <th>Month</th>\n",
       "      <th>Day</th>\n",
       "      <th>Hours</th>\n",
       "      <th>Amount</th>\n",
       "      <th>Use Chip</th>\n",
       "      <th>Card Brand</th>\n",
       "      <th>Card Type</th>\n",
       "      <th>Credit Limit</th>\n",
       "      <th>...</th>\n",
       "      <th>daily_amount</th>\n",
       "      <th>nb_daily_declines_card</th>\n",
       "      <th>nb_weekly_declines_card</th>\n",
       "      <th>nb_monthly_declines_card</th>\n",
       "      <th>bad_pin</th>\n",
       "      <th>insufficient_balance</th>\n",
       "      <th>hr_nbt/last_30d_av_hr_nbt</th>\n",
       "      <th>day_nbt/last_30d_av_day_nbt</th>\n",
       "      <th>last_3d_amt/nbt</th>\n",
       "      <th>Is Fraud?</th>\n",
       "    </tr>\n",
       "  </thead>\n",
       "  <tbody>\n",
       "    <tr>\n",
       "      <th>2418359</th>\n",
       "      <td>200</td>\n",
       "      <td>0</td>\n",
       "      <td>1</td>\n",
       "      <td>1</td>\n",
       "      <td>10</td>\n",
       "      <td>10.14</td>\n",
       "      <td>Chip Transaction</td>\n",
       "      <td>Mastercard</td>\n",
       "      <td>Debit (Prepaid)</td>\n",
       "      <td>65.0</td>\n",
       "      <td>...</td>\n",
       "      <td>10.14</td>\n",
       "      <td>0.0</td>\n",
       "      <td>0.0</td>\n",
       "      <td>0.0</td>\n",
       "      <td>0</td>\n",
       "      <td>0</td>\n",
       "      <td>1.000000</td>\n",
       "      <td>1.000000</td>\n",
       "      <td>10.140</td>\n",
       "      <td>0</td>\n",
       "    </tr>\n",
       "    <tr>\n",
       "      <th>2418360</th>\n",
       "      <td>200</td>\n",
       "      <td>0</td>\n",
       "      <td>1</td>\n",
       "      <td>1</td>\n",
       "      <td>11</td>\n",
       "      <td>15.30</td>\n",
       "      <td>Chip Transaction</td>\n",
       "      <td>Mastercard</td>\n",
       "      <td>Debit (Prepaid)</td>\n",
       "      <td>65.0</td>\n",
       "      <td>...</td>\n",
       "      <td>25.44</td>\n",
       "      <td>0.0</td>\n",
       "      <td>0.0</td>\n",
       "      <td>0.0</td>\n",
       "      <td>0</td>\n",
       "      <td>0</td>\n",
       "      <td>1.333333</td>\n",
       "      <td>1.333333</td>\n",
       "      <td>12.720</td>\n",
       "      <td>0</td>\n",
       "    </tr>\n",
       "    <tr>\n",
       "      <th>2418361</th>\n",
       "      <td>200</td>\n",
       "      <td>0</td>\n",
       "      <td>1</td>\n",
       "      <td>2</td>\n",
       "      <td>11</td>\n",
       "      <td>8.64</td>\n",
       "      <td>Chip Transaction</td>\n",
       "      <td>Mastercard</td>\n",
       "      <td>Debit (Prepaid)</td>\n",
       "      <td>65.0</td>\n",
       "      <td>...</td>\n",
       "      <td>8.64</td>\n",
       "      <td>0.0</td>\n",
       "      <td>0.0</td>\n",
       "      <td>0.0</td>\n",
       "      <td>0</td>\n",
       "      <td>0</td>\n",
       "      <td>0.750000</td>\n",
       "      <td>1.200000</td>\n",
       "      <td>11.360</td>\n",
       "      <td>0</td>\n",
       "    </tr>\n",
       "    <tr>\n",
       "      <th>2418362</th>\n",
       "      <td>200</td>\n",
       "      <td>0</td>\n",
       "      <td>1</td>\n",
       "      <td>2</td>\n",
       "      <td>19</td>\n",
       "      <td>57.08</td>\n",
       "      <td>Chip Transaction</td>\n",
       "      <td>Mastercard</td>\n",
       "      <td>Debit (Prepaid)</td>\n",
       "      <td>65.0</td>\n",
       "      <td>...</td>\n",
       "      <td>65.72</td>\n",
       "      <td>0.0</td>\n",
       "      <td>0.0</td>\n",
       "      <td>0.0</td>\n",
       "      <td>0</td>\n",
       "      <td>0</td>\n",
       "      <td>0.800000</td>\n",
       "      <td>1.142857</td>\n",
       "      <td>22.790</td>\n",
       "      <td>0</td>\n",
       "    </tr>\n",
       "    <tr>\n",
       "      <th>2418363</th>\n",
       "      <td>200</td>\n",
       "      <td>0</td>\n",
       "      <td>1</td>\n",
       "      <td>3</td>\n",
       "      <td>6</td>\n",
       "      <td>2.61</td>\n",
       "      <td>Chip Transaction</td>\n",
       "      <td>Mastercard</td>\n",
       "      <td>Debit (Prepaid)</td>\n",
       "      <td>65.0</td>\n",
       "      <td>...</td>\n",
       "      <td>2.61</td>\n",
       "      <td>0.0</td>\n",
       "      <td>0.0</td>\n",
       "      <td>0.0</td>\n",
       "      <td>0</td>\n",
       "      <td>0</td>\n",
       "      <td>0.833333</td>\n",
       "      <td>1.500000</td>\n",
       "      <td>18.754</td>\n",
       "      <td>0</td>\n",
       "    </tr>\n",
       "  </tbody>\n",
       "</table>\n",
       "<p>5 rows × 26 columns</p>\n",
       "</div>"
      ],
      "text/plain": [
       "         User  Card  Month  Day  Hours  Amount          Use Chip  Card Brand  \\\n",
       "2418359   200     0      1    1     10   10.14  Chip Transaction  Mastercard   \n",
       "2418360   200     0      1    1     11   15.30  Chip Transaction  Mastercard   \n",
       "2418361   200     0      1    2     11    8.64  Chip Transaction  Mastercard   \n",
       "2418362   200     0      1    2     19   57.08  Chip Transaction  Mastercard   \n",
       "2418363   200     0      1    3      6    2.61  Chip Transaction  Mastercard   \n",
       "\n",
       "               Card Type  Credit Limit  ...  daily_amount  \\\n",
       "2418359  Debit (Prepaid)          65.0  ...         10.14   \n",
       "2418360  Debit (Prepaid)          65.0  ...         25.44   \n",
       "2418361  Debit (Prepaid)          65.0  ...          8.64   \n",
       "2418362  Debit (Prepaid)          65.0  ...         65.72   \n",
       "2418363  Debit (Prepaid)          65.0  ...          2.61   \n",
       "\n",
       "         nb_daily_declines_card  nb_weekly_declines_card  \\\n",
       "2418359                     0.0                      0.0   \n",
       "2418360                     0.0                      0.0   \n",
       "2418361                     0.0                      0.0   \n",
       "2418362                     0.0                      0.0   \n",
       "2418363                     0.0                      0.0   \n",
       "\n",
       "        nb_monthly_declines_card  bad_pin  insufficient_balance  \\\n",
       "2418359                      0.0        0                     0   \n",
       "2418360                      0.0        0                     0   \n",
       "2418361                      0.0        0                     0   \n",
       "2418362                      0.0        0                     0   \n",
       "2418363                      0.0        0                     0   \n",
       "\n",
       "         hr_nbt/last_30d_av_hr_nbt  day_nbt/last_30d_av_day_nbt  \\\n",
       "2418359                   1.000000                     1.000000   \n",
       "2418360                   1.333333                     1.333333   \n",
       "2418361                   0.750000                     1.200000   \n",
       "2418362                   0.800000                     1.142857   \n",
       "2418363                   0.833333                     1.500000   \n",
       "\n",
       "         last_3d_amt/nbt  Is Fraud?  \n",
       "2418359           10.140          0  \n",
       "2418360           12.720          0  \n",
       "2418361           11.360          0  \n",
       "2418362           22.790          0  \n",
       "2418363           18.754          0  \n",
       "\n",
       "[5 rows x 26 columns]"
      ]
     },
     "execution_count": 26,
     "metadata": {},
     "output_type": "execute_result"
    }
   ],
   "source": [
    "#on ouvre le parquet 200 pour tester\n",
    "df200=pd.read_parquet(\"/Users/vanheuverswyn/Desktop/ProjetStatapp/parquet_all/df_all200.parquet\").head()\n",
    "df200.head()"
   ]
  },
  {
   "cell_type": "code",
   "execution_count": 27,
   "id": "d98b01b3",
   "metadata": {},
   "outputs": [
    {
     "data": {
      "text/plain": [
       "Index(['User', 'Card', 'Month', 'Day', 'Hours', 'Amount', 'Use Chip',\n",
       "       'Card Brand', 'Card Type', 'Credit Limit', 'year_diff', 'delta_t_s',\n",
       "       'delta_t_s_card', 'day_of_week', 'amt/daily_income', 'Retired',\n",
       "       'daily_amount', 'nb_daily_declines_card', 'nb_weekly_declines_card',\n",
       "       'nb_monthly_declines_card', 'bad_pin', 'insufficient_balance',\n",
       "       'hr_nbt/last_30d_av_hr_nbt', 'day_nbt/last_30d_av_day_nbt',\n",
       "       'last_3d_amt/nbt', 'Is Fraud?'],\n",
       "      dtype='object')"
      ]
     },
     "execution_count": 27,
     "metadata": {},
     "output_type": "execute_result"
    }
   ],
   "source": [
    "df200.columns\n",
    "\n"
   ]
  },
  {
   "cell_type": "code",
   "execution_count": 21,
   "id": "b85bb72c",
   "metadata": {},
   "outputs": [
    {
     "name": "stdout",
     "output_type": "stream",
     "text": [
      "        User  Card  Month      Day      Hours     Amount  Credit Limit  \\\n",
      "count    5.0   5.0    5.0  5.00000   5.000000   5.000000           5.0   \n",
      "mean   200.0   0.0    1.0  1.80000  11.400000  18.754000          65.0   \n",
      "std      0.0   0.0    0.0  0.83666   4.722288  21.897118           0.0   \n",
      "min    200.0   0.0    1.0  1.00000   6.000000   2.610000          65.0   \n",
      "25%    200.0   0.0    1.0  1.00000  10.000000   8.640000          65.0   \n",
      "50%    200.0   0.0    1.0  2.00000  11.000000  10.140000          65.0   \n",
      "75%    200.0   0.0    1.0  2.00000  11.000000  15.300000          65.0   \n",
      "max    200.0   0.0    1.0  3.00000  19.000000  57.080000          65.0   \n",
      "\n",
      "       year_diff     delta_t_s  delta_t_s_card  ...  daily_amount  \\\n",
      "count        5.0      5.000000        5.000000  ...      5.000000   \n",
      "mean         0.0  31800.000000    31800.000000  ...     22.510000   \n",
      "std          0.0  34745.206864    34745.206864  ...     25.578765   \n",
      "min          0.0      0.000000        0.000000  ...      2.610000   \n",
      "25%          0.0   2340.000000     2340.000000  ...      8.640000   \n",
      "50%          0.0  28920.000000    28920.000000  ...     10.140000   \n",
      "75%          0.0  42840.000000    42840.000000  ...     25.440000   \n",
      "max          0.0  84900.000000    84900.000000  ...     65.720000   \n",
      "\n",
      "       nb_daily_declines_card  nb_weekly_declines_card  \\\n",
      "count                     5.0                      5.0   \n",
      "mean                      0.0                      0.0   \n",
      "std                       0.0                      0.0   \n",
      "min                       0.0                      0.0   \n",
      "25%                       0.0                      0.0   \n",
      "50%                       0.0                      0.0   \n",
      "75%                       0.0                      0.0   \n",
      "max                       0.0                      0.0   \n",
      "\n",
      "       nb_monthly_declines_card  bad_pin  insufficient_balance  \\\n",
      "count                       5.0      5.0                   5.0   \n",
      "mean                        0.0      0.0                   0.0   \n",
      "std                         0.0      0.0                   0.0   \n",
      "min                         0.0      0.0                   0.0   \n",
      "25%                         0.0      0.0                   0.0   \n",
      "50%                         0.0      0.0                   0.0   \n",
      "75%                         0.0      0.0                   0.0   \n",
      "max                         0.0      0.0                   0.0   \n",
      "\n",
      "       hr_nbt/last_30d_av_hr_nbt  day_nbt/last_30d_av_day_nbt  \\\n",
      "count                   5.000000                     5.000000   \n",
      "mean                    0.943333                     1.235238   \n",
      "std                     0.237346                     0.190286   \n",
      "min                     0.750000                     1.000000   \n",
      "25%                     0.800000                     1.142857   \n",
      "50%                     0.833333                     1.200000   \n",
      "75%                     1.000000                     1.333333   \n",
      "max                     1.333333                     1.500000   \n",
      "\n",
      "       last_3d_amt/nbt  Is Fraud?  \n",
      "count         5.000000        5.0  \n",
      "mean         15.152800        0.0  \n",
      "std           5.402025        0.0  \n",
      "min          10.140000        0.0  \n",
      "25%          11.360000        0.0  \n",
      "50%          12.720000        0.0  \n",
      "75%          18.754000        0.0  \n",
      "max          22.790000        0.0  \n",
      "\n",
      "[8 rows x 22 columns]\n"
     ]
    }
   ],
   "source": [
    "print(df200.describe())"
   ]
  },
  {
   "cell_type": "code",
   "execution_count": 28,
   "id": "8cd55aea",
   "metadata": {},
   "outputs": [
    {
     "name": "stdout",
     "output_type": "stream",
     "text": [
      "        User        Amount  Credit Limit  year_diff     delta_t_s  \\\n",
      "count  110.0  1.100000e+02         110.0      110.0  1.100000e+02   \n",
      "mean   200.0  3.734387e-17           0.0        0.0  1.715799e-17   \n",
      "std      0.0  1.004577e+00           0.0        0.0  1.004577e+00   \n",
      "min    200.0 -3.449111e+00           0.0        0.0 -9.903123e-01   \n",
      "25%    200.0 -5.688261e-01           0.0        0.0 -7.760909e-01   \n",
      "50%    200.0 -3.831703e-01           0.0        0.0 -3.564786e-01   \n",
      "75%    200.0  1.017397e+00           0.0        0.0  4.641037e-01   \n",
      "max    200.0  2.047622e+00           0.0        0.0  4.305371e+00   \n",
      "\n",
      "       delta_t_s_card  amt/daily_income  Retired  daily_amount  \\\n",
      "count    1.100000e+02      1.100000e+02    110.0  1.100000e+02   \n",
      "mean     1.715799e-17      1.261617e-16      0.0 -4.143150e-16   \n",
      "std      1.004577e+00      1.004577e+00      0.0  1.004577e+00   \n",
      "min     -9.903123e-01     -3.449111e+00      0.0 -8.277496e-01   \n",
      "25%     -7.760909e-01     -5.688261e-01      0.0 -6.850413e-01   \n",
      "50%     -3.564786e-01     -3.831703e-01      0.0 -4.650868e-01   \n",
      "75%      4.641037e-01      1.017397e+00      0.0  3.126621e-01   \n",
      "max      4.305371e+00      2.047622e+00      0.0  4.187875e+00   \n",
      "\n",
      "       nb_daily_declines_card  nb_weekly_declines_card  \\\n",
      "count                   110.0                    110.0   \n",
      "mean                      0.0                      0.0   \n",
      "std                       0.0                      0.0   \n",
      "min                       0.0                      0.0   \n",
      "25%                       0.0                      0.0   \n",
      "50%                       0.0                      0.0   \n",
      "75%                       0.0                      0.0   \n",
      "max                       0.0                      0.0   \n",
      "\n",
      "       nb_monthly_declines_card  bad_pin  insufficient_balance  \\\n",
      "count                     110.0    110.0                 110.0   \n",
      "mean                        0.0      0.0                   0.0   \n",
      "std                         0.0      0.0                   0.0   \n",
      "min                         0.0      0.0                   0.0   \n",
      "25%                         0.0      0.0                   0.0   \n",
      "50%                         0.0      0.0                   0.0   \n",
      "75%                         0.0      0.0                   0.0   \n",
      "max                         0.0      0.0                   0.0   \n",
      "\n",
      "       hr_nbt/last_30d_av_hr_nbt  day_nbt/last_30d_av_day_nbt  \\\n",
      "count               1.100000e+02                 1.100000e+02   \n",
      "mean               -4.339963e-17                -3.118717e-16   \n",
      "std                 1.004577e+00                 1.004577e+00   \n",
      "min                -6.039060e-01                -1.516794e+00   \n",
      "25%                -4.835399e-01                -7.139044e-01   \n",
      "50%                -4.361827e-01                 1.858070e-02   \n",
      "75%                -3.248754e-01                 6.868909e-01   \n",
      "max                 4.908862e+00                 2.489653e+00   \n",
      "\n",
      "       last_3d_amt/nbt  Mastercard  Debit (Prepaid)  \n",
      "count     1.100000e+02       110.0            110.0  \n",
      "mean     -1.034274e-15         1.0              1.0  \n",
      "std       1.004577e+00         0.0              0.0  \n",
      "min      -1.783817e+00         1.0              1.0  \n",
      "25%      -7.397220e-01         1.0              1.0  \n",
      "50%      -4.846706e-03         1.0              1.0  \n",
      "75%       6.121500e-01         1.0              1.0  \n",
      "max       2.275421e+00         1.0              1.0  \n"
     ]
    }
   ],
   "source": [
    "#on ouvre le parquet 200 pour tester\n",
    "df200_modified=pd.read_parquet(\"/Users/vanheuverswyn/Desktop/ProjetStatapp/parquet_modified_all/df_all200.parquet\")\n",
    "print(df200_modified.describe())"
   ]
  },
  {
   "cell_type": "code",
   "execution_count": 6,
   "id": "9be3aa66",
   "metadata": {},
   "outputs": [],
   "source": [
    "#fonction qui applique dbScann au dataFrame A finir\n",
    "\n",
    "\n",
    "def extraction(k):\n",
    "    for i in range (k):\n",
    "        df =pd.read_parquet(\"/home/onyxia/work/Databases/df_all\"+str(i)+\".parquet\")\n",
    "\n",
    "    \n",
    "def dbScann (df_cct):\n",
    "    X = df_cct.values\n",
    "    X.astype(np.float64)\n",
    "    #eps min_sample et n_jobs a déterminer  (fixer le meme pour tous ou automatiser une selection?)\n",
    "    clustering=cluster.DBSCAN(eps=0.8, min_samples=5, n_jobs = -1)\n",
    "    clustering.fit(X)\n",
    "    \n",
    "def PCS(df_cct):    \n",
    "    pca = PCA()\n",
    "    pca.fit(df_cct)\n",
    "    df_cct.columns = df_cct.columns.astype(\"str\")\n",
    "    df_cct_pca = pca.transform(df_cct)\n",
    "    df_cct_pca_df = pd.DataFrame({\n",
    "    \"Dim1\" : df_cct_pca[:,0], \n",
    "    \"Dim2\" : df_cct_pca[:,1]})\n",
    "    df_cct_pca_df[\"labels\"] = clustering.labels_\n",
    "\n",
    "def UMAP(df_cct):\n",
    "    \n"
   ]
  },
  {
   "cell_type": "code",
   "execution_count": 7,
   "id": "c89614d0",
   "metadata": {},
   "outputs": [],
   "source": [
    "extraction(3)"
   ]
  },
  {
   "cell_type": "code",
   "execution_count": null,
   "id": "adfc9da9",
   "metadata": {},
   "outputs": [],
   "source": [
    "\n",
    "df =pd.read_parquet(\"/home/onyxia/work/Databases/df_all\"+str(i)+\".parquet\")"
   ]
  },
  {
   "cell_type": "code",
   "execution_count": null,
   "id": "fab61f69",
   "metadata": {},
   "outputs": [],
   "source": [
    "import os\n",
    "\n",
    "\n",
    "f = [/home/onyxia/work/Databases/df_all0.parquet, /home/onyxia/work/Databases/df_all0.parquet, ]\n",
    "\n",
    " \n",
    "\n",
    "pd.concat(pd.read_parquet(v) for v in f])"
   ]
  },
  {
   "cell_type": "code",
   "execution_count": 8,
   "id": "fc987168",
   "metadata": {},
   "outputs": [],
   "source": [
    "import os \n"
   ]
  },
  {
   "cell_type": "code",
   "execution_count": 22,
   "id": "b51bd61f",
   "metadata": {},
   "outputs": [],
   "source": [
    "f = os.listdir(\"/home/onyxia/work/Databases\")\n",
    "f = [v for v in f if \"df_all\" in v][:10]\n"
   ]
  },
  {
   "cell_type": "code",
   "execution_count": 108,
   "id": "a229764b",
   "metadata": {},
   "outputs": [],
   "source": [
    "df_cct = [pd.read_parquet(\"/home/onyxia/work/Databases/\" + v) for v in f]\n",
    "\n"
   ]
  },
  {
   "cell_type": "code",
   "execution_count": 111,
   "id": "3ae371a1",
   "metadata": {},
   "outputs": [],
   "source": [
    "def reshapedf(df):\n",
    "    unique_values = {v : df[v].unique() for v in df.columns}\n",
    "    unique_values = {v : unique_values[v] for v in unique_values.keys() if len(unique_values[v]) <= 2}\n",
    "    if \"Credit Limit\" in list(unique_values.keys()) : \n",
    "        del unique_values['Credit Limit']\n",
    "    return df.drop(list(unique_values.keys()), axis = \"columns\")"
   ]
  },
  {
   "cell_type": "code",
   "execution_count": 112,
   "id": "c60ed0f6",
   "metadata": {},
   "outputs": [],
   "source": [
    "df_cct = [reshapedf(df) for df in df_cct]\n"
   ]
  },
  {
   "cell_type": "code",
   "execution_count": 82,
   "id": "904c5d5a",
   "metadata": {},
   "outputs": [
    {
     "data": {
      "text/plain": [
       "Index(['Amount', 'year_diff', 'delta_t_s', 'delta_t_s_card',\n",
       "       'amt/daily_income', 'daily_amount', 'nb_daily_declines_card',\n",
       "       'nb_weekly_declines_card', 'nb_monthly_declines_card',\n",
       "       'hr_nbt/last_30d_av_hr_nbt', 'day_nbt/last_30d_av_day_nbt',\n",
       "       'last_3d_amt/nbt'],\n",
       "      dtype='object')"
      ]
     },
     "execution_count": 82,
     "metadata": {},
     "output_type": "execute_result"
    }
   ],
   "source": [
    "df_cct[0].columns"
   ]
  },
  {
   "cell_type": "code",
   "execution_count": 71,
   "id": "1ba3dc49",
   "metadata": {},
   "outputs": [
    {
     "ename": "KeyError",
     "evalue": "\"['Credit'] not found in axis\"",
     "output_type": "error",
     "traceback": [
      "\u001b[0;31m---------------------------------------------------------------------------\u001b[0m",
      "\u001b[0;31mKeyError\u001b[0m                                  Traceback (most recent call last)",
      "Cell \u001b[0;32mIn[71], line 1\u001b[0m\n\u001b[0;32m----> 1\u001b[0m df_cct \u001b[39m=\u001b[39m [v\u001b[39m.\u001b[39mdrop([\u001b[39m\"\u001b[39m\u001b[39mVisa\u001b[39m\u001b[39m\"\u001b[39m, \u001b[39m\"\u001b[39m\u001b[39mCredit\u001b[39m\u001b[39m\"\u001b[39m, \u001b[39m\"\u001b[39m\u001b[39mRetired\u001b[39m\u001b[39m\"\u001b[39m, \u001b[39m\"\u001b[39m\u001b[39mbad_pin\u001b[39m\u001b[39m\"\u001b[39m, \u001b[39m\"\u001b[39m\u001b[39minsufficient_balance\u001b[39m\u001b[39m\"\u001b[39m, \u001b[39m\"\u001b[39m\u001b[39mUser\u001b[39m\u001b[39m\"\u001b[39m], axis \u001b[39m=\u001b[39m \u001b[39m\"\u001b[39m\u001b[39mcolumns\u001b[39m\u001b[39m\"\u001b[39m) \u001b[39mfor\u001b[39;00m v \u001b[39min\u001b[39;00m df_cct]\n",
      "Cell \u001b[0;32mIn[71], line 1\u001b[0m, in \u001b[0;36m<listcomp>\u001b[0;34m(.0)\u001b[0m\n\u001b[0;32m----> 1\u001b[0m df_cct \u001b[39m=\u001b[39m [v\u001b[39m.\u001b[39;49mdrop([\u001b[39m\"\u001b[39;49m\u001b[39mVisa\u001b[39;49m\u001b[39m\"\u001b[39;49m, \u001b[39m\"\u001b[39;49m\u001b[39mCredit\u001b[39;49m\u001b[39m\"\u001b[39;49m, \u001b[39m\"\u001b[39;49m\u001b[39mRetired\u001b[39;49m\u001b[39m\"\u001b[39;49m, \u001b[39m\"\u001b[39;49m\u001b[39mbad_pin\u001b[39;49m\u001b[39m\"\u001b[39;49m, \u001b[39m\"\u001b[39;49m\u001b[39minsufficient_balance\u001b[39;49m\u001b[39m\"\u001b[39;49m, \u001b[39m\"\u001b[39;49m\u001b[39mUser\u001b[39;49m\u001b[39m\"\u001b[39;49m], axis \u001b[39m=\u001b[39;49m \u001b[39m\"\u001b[39;49m\u001b[39mcolumns\u001b[39;49m\u001b[39m\"\u001b[39;49m) \u001b[39mfor\u001b[39;00m v \u001b[39min\u001b[39;00m df_cct]\n",
      "File \u001b[0;32m/opt/mamba/lib/python3.10/site-packages/pandas/util/_decorators.py:331\u001b[0m, in \u001b[0;36mdeprecate_nonkeyword_arguments.<locals>.decorate.<locals>.wrapper\u001b[0;34m(*args, **kwargs)\u001b[0m\n\u001b[1;32m    325\u001b[0m \u001b[39mif\u001b[39;00m \u001b[39mlen\u001b[39m(args) \u001b[39m>\u001b[39m num_allow_args:\n\u001b[1;32m    326\u001b[0m     warnings\u001b[39m.\u001b[39mwarn(\n\u001b[1;32m    327\u001b[0m         msg\u001b[39m.\u001b[39mformat(arguments\u001b[39m=\u001b[39m_format_argument_list(allow_args)),\n\u001b[1;32m    328\u001b[0m         \u001b[39mFutureWarning\u001b[39;00m,\n\u001b[1;32m    329\u001b[0m         stacklevel\u001b[39m=\u001b[39mfind_stack_level(),\n\u001b[1;32m    330\u001b[0m     )\n\u001b[0;32m--> 331\u001b[0m \u001b[39mreturn\u001b[39;00m func(\u001b[39m*\u001b[39;49margs, \u001b[39m*\u001b[39;49m\u001b[39m*\u001b[39;49mkwargs)\n",
      "File \u001b[0;32m/opt/mamba/lib/python3.10/site-packages/pandas/core/frame.py:5399\u001b[0m, in \u001b[0;36mDataFrame.drop\u001b[0;34m(self, labels, axis, index, columns, level, inplace, errors)\u001b[0m\n\u001b[1;32m   5251\u001b[0m \u001b[39m@deprecate_nonkeyword_arguments\u001b[39m(version\u001b[39m=\u001b[39m\u001b[39mNone\u001b[39;00m, allowed_args\u001b[39m=\u001b[39m[\u001b[39m\"\u001b[39m\u001b[39mself\u001b[39m\u001b[39m\"\u001b[39m, \u001b[39m\"\u001b[39m\u001b[39mlabels\u001b[39m\u001b[39m\"\u001b[39m])\n\u001b[1;32m   5252\u001b[0m \u001b[39mdef\u001b[39;00m \u001b[39mdrop\u001b[39m(  \u001b[39m# type: ignore[override]\u001b[39;00m\n\u001b[1;32m   5253\u001b[0m     \u001b[39mself\u001b[39m,\n\u001b[0;32m   (...)\u001b[0m\n\u001b[1;32m   5260\u001b[0m     errors: IgnoreRaise \u001b[39m=\u001b[39m \u001b[39m\"\u001b[39m\u001b[39mraise\u001b[39m\u001b[39m\"\u001b[39m,\n\u001b[1;32m   5261\u001b[0m ) \u001b[39m-\u001b[39m\u001b[39m>\u001b[39m DataFrame \u001b[39m|\u001b[39m \u001b[39mNone\u001b[39;00m:\n\u001b[1;32m   5262\u001b[0m \u001b[39m    \u001b[39m\u001b[39m\"\"\"\u001b[39;00m\n\u001b[1;32m   5263\u001b[0m \u001b[39m    Drop specified labels from rows or columns.\u001b[39;00m\n\u001b[1;32m   5264\u001b[0m \n\u001b[0;32m   (...)\u001b[0m\n\u001b[1;32m   5397\u001b[0m \u001b[39m            weight  1.0     0.8\u001b[39;00m\n\u001b[1;32m   5398\u001b[0m \u001b[39m    \"\"\"\u001b[39;00m\n\u001b[0;32m-> 5399\u001b[0m     \u001b[39mreturn\u001b[39;00m \u001b[39msuper\u001b[39;49m()\u001b[39m.\u001b[39;49mdrop(\n\u001b[1;32m   5400\u001b[0m         labels\u001b[39m=\u001b[39;49mlabels,\n\u001b[1;32m   5401\u001b[0m         axis\u001b[39m=\u001b[39;49maxis,\n\u001b[1;32m   5402\u001b[0m         index\u001b[39m=\u001b[39;49mindex,\n\u001b[1;32m   5403\u001b[0m         columns\u001b[39m=\u001b[39;49mcolumns,\n\u001b[1;32m   5404\u001b[0m         level\u001b[39m=\u001b[39;49mlevel,\n\u001b[1;32m   5405\u001b[0m         inplace\u001b[39m=\u001b[39;49minplace,\n\u001b[1;32m   5406\u001b[0m         errors\u001b[39m=\u001b[39;49merrors,\n\u001b[1;32m   5407\u001b[0m     )\n",
      "File \u001b[0;32m/opt/mamba/lib/python3.10/site-packages/pandas/util/_decorators.py:331\u001b[0m, in \u001b[0;36mdeprecate_nonkeyword_arguments.<locals>.decorate.<locals>.wrapper\u001b[0;34m(*args, **kwargs)\u001b[0m\n\u001b[1;32m    325\u001b[0m \u001b[39mif\u001b[39;00m \u001b[39mlen\u001b[39m(args) \u001b[39m>\u001b[39m num_allow_args:\n\u001b[1;32m    326\u001b[0m     warnings\u001b[39m.\u001b[39mwarn(\n\u001b[1;32m    327\u001b[0m         msg\u001b[39m.\u001b[39mformat(arguments\u001b[39m=\u001b[39m_format_argument_list(allow_args)),\n\u001b[1;32m    328\u001b[0m         \u001b[39mFutureWarning\u001b[39;00m,\n\u001b[1;32m    329\u001b[0m         stacklevel\u001b[39m=\u001b[39mfind_stack_level(),\n\u001b[1;32m    330\u001b[0m     )\n\u001b[0;32m--> 331\u001b[0m \u001b[39mreturn\u001b[39;00m func(\u001b[39m*\u001b[39;49margs, \u001b[39m*\u001b[39;49m\u001b[39m*\u001b[39;49mkwargs)\n",
      "File \u001b[0;32m/opt/mamba/lib/python3.10/site-packages/pandas/core/generic.py:4505\u001b[0m, in \u001b[0;36mNDFrame.drop\u001b[0;34m(self, labels, axis, index, columns, level, inplace, errors)\u001b[0m\n\u001b[1;32m   4503\u001b[0m \u001b[39mfor\u001b[39;00m axis, labels \u001b[39min\u001b[39;00m axes\u001b[39m.\u001b[39mitems():\n\u001b[1;32m   4504\u001b[0m     \u001b[39mif\u001b[39;00m labels \u001b[39mis\u001b[39;00m \u001b[39mnot\u001b[39;00m \u001b[39mNone\u001b[39;00m:\n\u001b[0;32m-> 4505\u001b[0m         obj \u001b[39m=\u001b[39m obj\u001b[39m.\u001b[39;49m_drop_axis(labels, axis, level\u001b[39m=\u001b[39;49mlevel, errors\u001b[39m=\u001b[39;49merrors)\n\u001b[1;32m   4507\u001b[0m \u001b[39mif\u001b[39;00m inplace:\n\u001b[1;32m   4508\u001b[0m     \u001b[39mself\u001b[39m\u001b[39m.\u001b[39m_update_inplace(obj)\n",
      "File \u001b[0;32m/opt/mamba/lib/python3.10/site-packages/pandas/core/generic.py:4546\u001b[0m, in \u001b[0;36mNDFrame._drop_axis\u001b[0;34m(self, labels, axis, level, errors, only_slice)\u001b[0m\n\u001b[1;32m   4544\u001b[0m         new_axis \u001b[39m=\u001b[39m axis\u001b[39m.\u001b[39mdrop(labels, level\u001b[39m=\u001b[39mlevel, errors\u001b[39m=\u001b[39merrors)\n\u001b[1;32m   4545\u001b[0m     \u001b[39melse\u001b[39;00m:\n\u001b[0;32m-> 4546\u001b[0m         new_axis \u001b[39m=\u001b[39m axis\u001b[39m.\u001b[39;49mdrop(labels, errors\u001b[39m=\u001b[39;49merrors)\n\u001b[1;32m   4547\u001b[0m     indexer \u001b[39m=\u001b[39m axis\u001b[39m.\u001b[39mget_indexer(new_axis)\n\u001b[1;32m   4549\u001b[0m \u001b[39m# Case for non-unique axis\u001b[39;00m\n\u001b[1;32m   4550\u001b[0m \u001b[39melse\u001b[39;00m:\n",
      "File \u001b[0;32m/opt/mamba/lib/python3.10/site-packages/pandas/core/indexes/base.py:6934\u001b[0m, in \u001b[0;36mIndex.drop\u001b[0;34m(self, labels, errors)\u001b[0m\n\u001b[1;32m   6932\u001b[0m \u001b[39mif\u001b[39;00m mask\u001b[39m.\u001b[39many():\n\u001b[1;32m   6933\u001b[0m     \u001b[39mif\u001b[39;00m errors \u001b[39m!=\u001b[39m \u001b[39m\"\u001b[39m\u001b[39mignore\u001b[39m\u001b[39m\"\u001b[39m:\n\u001b[0;32m-> 6934\u001b[0m         \u001b[39mraise\u001b[39;00m \u001b[39mKeyError\u001b[39;00m(\u001b[39mf\u001b[39m\u001b[39m\"\u001b[39m\u001b[39m{\u001b[39;00m\u001b[39mlist\u001b[39m(labels[mask])\u001b[39m}\u001b[39;00m\u001b[39m not found in axis\u001b[39m\u001b[39m\"\u001b[39m)\n\u001b[1;32m   6935\u001b[0m     indexer \u001b[39m=\u001b[39m indexer[\u001b[39m~\u001b[39mmask]\n\u001b[1;32m   6936\u001b[0m \u001b[39mreturn\u001b[39;00m \u001b[39mself\u001b[39m\u001b[39m.\u001b[39mdelete(indexer)\n",
      "\u001b[0;31mKeyError\u001b[0m: \"['Credit'] not found in axis\""
     ]
    }
   ],
   "source": [
    "df_cct = [v.drop([\"Visa\", \"Credit\", \"Retired\", \"bad_pin\", \"insufficient_balance\", \"User\"], axis = \"columns\") for v in df_cct]"
   ]
  },
  {
   "cell_type": "code",
   "execution_count": 37,
   "id": "58ccc0ea",
   "metadata": {},
   "outputs": [],
   "source": [
    "from sklearn import cluster \n",
    "from collections import Counter"
   ]
  },
  {
   "cell_type": "code",
   "execution_count": 120,
   "id": "59fded8e",
   "metadata": {},
   "outputs": [],
   "source": [
    "def DBSCAN1(df_cct, eps, min_sample):\n",
    "    X = df_cct.values\n",
    "    X.astype(np.float64)\n",
    "    #eps min_sample et n_jobs a déterminer  (fixer le meme pour tous ou automatiser une selection?)\n",
    "    clustering=cluster.DBSCAN(eps = eps, min_samples = min_sample, n_jobs = -1)\n",
    "    clustering.fit(X)\n",
    "    return Counter(clustering.labels_)"
   ]
  },
  {
   "cell_type": "code",
   "execution_count": 94,
   "id": "4ed73c0d",
   "metadata": {},
   "outputs": [],
   "source": [
    "def DBSCAN2(df, eps, min_sample):\n",
    "    X = df.values\n",
    "    X.astype(np.float64)\n",
    "    #eps min_sample et n_jobs a déterminer  (fixer le meme pour tous ou automatiser une selection?)\n",
    "    clustering=cluster.DBSCAN(eps = eps, min_samples = min_sample, n_jobs = -1)\n",
    "    clustering.fit(X)\n",
    "    df.insert(1,\"label\", clustering.labels_)\n",
    "    return df"
   ]
  },
  {
   "cell_type": "code",
   "execution_count": 113,
   "id": "0c4162d5",
   "metadata": {},
   "outputs": [],
   "source": [
    "df_cct_clustered = [DBSCAN2(df,1.5, round(0.002*df.shape[0])) for df in df_cct]"
   ]
  },
  {
   "cell_type": "code",
   "execution_count": 114,
   "id": "173847d1",
   "metadata": {},
   "outputs": [],
   "source": [
    "df_cct_clustered = [df.groupby(\"label\").mean().reset_index() for df in df_cct_clustered]"
   ]
  },
  {
   "cell_type": "code",
   "execution_count": 115,
   "id": "d4410b43",
   "metadata": {},
   "outputs": [],
   "source": [
    "df_final = pd.concat(df_cct_clustered).reset_index(drop = True).drop(\"label\", axis = \"columns\")"
   ]
  },
  {
   "cell_type": "code",
   "execution_count": 116,
   "id": "605e818f",
   "metadata": {},
   "outputs": [
    {
     "data": {
      "text/plain": [
       "Amount                         0\n",
       "Credit Limit                   0\n",
       "year_diff                      0\n",
       "delta_t_s                      0\n",
       "delta_t_s_card                 0\n",
       "amt/daily_income               0\n",
       "daily_amount                   0\n",
       "nb_daily_declines_card         0\n",
       "nb_weekly_declines_card        0\n",
       "nb_monthly_declines_card       0\n",
       "hr_nbt/last_30d_av_hr_nbt      0\n",
       "day_nbt/last_30d_av_day_nbt    0\n",
       "last_3d_amt/nbt                0\n",
       "dtype: int64"
      ]
     },
     "execution_count": 116,
     "metadata": {},
     "output_type": "execute_result"
    }
   ],
   "source": [
    "df_final.isna().sum()"
   ]
  },
  {
   "cell_type": "code",
   "execution_count": 117,
   "id": "d78ed4ef",
   "metadata": {},
   "outputs": [
    {
     "data": {
      "text/plain": [
       "4.00729349650806"
      ]
     },
     "execution_count": 117,
     "metadata": {},
     "output_type": "execute_result"
    }
   ],
   "source": [
    "User_distance(df_final.values)"
   ]
  },
  {
   "cell_type": "code",
   "execution_count": 131,
   "id": "97d38bf4",
   "metadata": {},
   "outputs": [
    {
     "data": {
      "text/plain": [
       "Counter({0: 10, 1: 15, 2: 16, -1: 20})"
      ]
     },
     "execution_count": 131,
     "metadata": {},
     "output_type": "execute_result"
    }
   ],
   "source": [
    "DBSCAN1(df_final, 1.9, 3)\n",
    "#4.41 "
   ]
  },
  {
   "cell_type": "code",
   "execution_count": 93,
   "id": "b930f39a",
   "metadata": {},
   "outputs": [
    {
     "data": {
      "text/plain": [
       "[Counter({0: 3413, -1: 708, 1: 737}),\n",
       " Counter({0: 14145, -1: 2407, 1: 929}),\n",
       " Counter({0: 15535, -1: 4471, 1: 3045, 2: 62, 3: 132, 4: 1180, 5: 92}),\n",
       " Counter({0: 5716, -1: 794, 2: 107, 1: 461, 5: 20, 3: 697, 6: 18, 4: 54}),\n",
       " Counter({0: 5359, -1: 655, 1: 123, 2: 124, 3: 610, 5: 20, 4: 16, 6: 16}),\n",
       " Counter({-1: 1915, 0: 9129, 1: 224, 3: 76, 2: 589, 4: 33}),\n",
       " Counter({0: 5398, -1: 2346, 1: 555, 2: 10017, 3: 2339, 4: 253, 5: 111}),\n",
       " Counter({0: 7062, -1: 1616, 1: 761, 4: 40, 2: 3147, 3: 160}),\n",
       " Counter({0: 5789, -1: 1002, 1: 645, 2: 25, 3: 17, 4: 30}),\n",
       " Counter({0: 6734, -1: 2056, 1: 501, 2: 30, 3: 4582, 4: 272, 5: 20})]"
      ]
     },
     "execution_count": 93,
     "metadata": {},
     "output_type": "execute_result"
    }
   ],
   "source": [
    "check = [DBSCAN(df,1.5, round(0.002*df.shape[0])) for df in df_cct]\n",
    "check"
   ]
  },
  {
   "cell_type": "code",
   "execution_count": 51,
   "id": "42205de1",
   "metadata": {},
   "outputs": [],
   "source": [
    "def Euclid_distance(point1, point2):\n",
    "    return np.linalg.norm(point1 - point2)"
   ]
  },
  {
   "cell_type": "code",
   "execution_count": 53,
   "id": "a5146810",
   "metadata": {},
   "outputs": [],
   "source": [
    "def Transac_distance(point1, set2):\n",
    "    return np.mean([Euclid_distance(point1, point2) for point2 in set2])\n"
   ]
  },
  {
   "cell_type": "code",
   "execution_count": 54,
   "id": "a6648f5d",
   "metadata": {},
   "outputs": [],
   "source": [
    "def User_distance(User):\n",
    "    return np.mean([Transac_distance(point1, User) for point1 in User])"
   ]
  },
  {
   "cell_type": "code",
   "execution_count": 55,
   "id": "15cc026e",
   "metadata": {},
   "outputs": [
    {
     "data": {
      "text/plain": [
       "4.419621231003909"
      ]
     },
     "execution_count": 55,
     "metadata": {},
     "output_type": "execute_result"
    }
   ],
   "source": [
    "User_distance(df_cct0.values)"
   ]
  },
  {
   "cell_type": "code",
   "execution_count": 19,
   "id": "0a6fb331",
   "metadata": {},
   "outputs": [
    {
     "data": {
      "text/html": [
       "<div>\n",
       "<style scoped>\n",
       "    .dataframe tbody tr th:only-of-type {\n",
       "        vertical-align: middle;\n",
       "    }\n",
       "\n",
       "    .dataframe tbody tr th {\n",
       "        vertical-align: top;\n",
       "    }\n",
       "\n",
       "    .dataframe thead th {\n",
       "        text-align: right;\n",
       "    }\n",
       "</style>\n",
       "<table border=\"1\" class=\"dataframe\">\n",
       "  <thead>\n",
       "    <tr style=\"text-align: right;\">\n",
       "      <th></th>\n",
       "      <th>Is Fraud?</th>\n",
       "    </tr>\n",
       "  </thead>\n",
       "  <tbody>\n",
       "    <tr>\n",
       "      <th>0</th>\n",
       "      <td>0</td>\n",
       "    </tr>\n",
       "    <tr>\n",
       "      <th>1</th>\n",
       "      <td>0</td>\n",
       "    </tr>\n",
       "    <tr>\n",
       "      <th>2</th>\n",
       "      <td>0</td>\n",
       "    </tr>\n",
       "    <tr>\n",
       "      <th>3</th>\n",
       "      <td>0</td>\n",
       "    </tr>\n",
       "    <tr>\n",
       "      <th>4</th>\n",
       "      <td>0</td>\n",
       "    </tr>\n",
       "    <tr>\n",
       "      <th>...</th>\n",
       "      <td>...</td>\n",
       "    </tr>\n",
       "    <tr>\n",
       "      <th>3882</th>\n",
       "      <td>0</td>\n",
       "    </tr>\n",
       "    <tr>\n",
       "      <th>3883</th>\n",
       "      <td>0</td>\n",
       "    </tr>\n",
       "    <tr>\n",
       "      <th>3884</th>\n",
       "      <td>0</td>\n",
       "    </tr>\n",
       "    <tr>\n",
       "      <th>3885</th>\n",
       "      <td>0</td>\n",
       "    </tr>\n",
       "    <tr>\n",
       "      <th>3886</th>\n",
       "      <td>0</td>\n",
       "    </tr>\n",
       "  </tbody>\n",
       "</table>\n",
       "<p>3887 rows × 1 columns</p>\n",
       "</div>"
      ],
      "text/plain": [
       "      Is Fraud?\n",
       "0             0\n",
       "1             0\n",
       "2             0\n",
       "3             0\n",
       "4             0\n",
       "...         ...\n",
       "3882          0\n",
       "3883          0\n",
       "3884          0\n",
       "3885          0\n",
       "3886          0\n",
       "\n",
       "[3887 rows x 1 columns]"
      ]
     },
     "execution_count": 19,
     "metadata": {},
     "output_type": "execute_result"
    }
   ],
   "source": [
    "pd.read_parquet(\"/home/onyxia/work/Databases/\"+f[9])"
   ]
  },
  {
   "cell_type": "code",
   "execution_count": null,
   "id": "132bb3e0",
   "metadata": {},
   "outputs": [],
   "source": []
  },
  {
   "cell_type": "code",
   "execution_count": null,
   "id": "4d037f94",
   "metadata": {},
   "outputs": [],
   "source": []
  }
 ],
 "metadata": {
  "kernelspec": {
   "display_name": "Python 3 (ipykernel)",
   "language": "python",
   "name": "python3"
  },
  "language_info": {
   "codemirror_mode": {
    "name": "ipython",
    "version": 3
   },
   "file_extension": ".py",
   "mimetype": "text/x-python",
   "name": "python",
   "nbconvert_exporter": "python",
   "pygments_lexer": "ipython3",
   "version": "3.10.9"
  }
 },
 "nbformat": 4,
 "nbformat_minor": 5
}
