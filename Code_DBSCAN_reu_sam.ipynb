{
 "cells": [
  {
   "cell_type": "code",
   "execution_count": 2,
   "id": "9e84ad3b",
   "metadata": {},
   "outputs": [],
   "source": [
    "# Importation des libraries/packages de base. \n",
    "\n",
    "import pandas as pd\n",
    "import os\n",
    "import numpy as np\n",
    "import dask.dataframe as dd \n",
    "import warnings \n",
    "warnings.filterwarnings(\"ignore\")\n",
    "\n"
   ]
  },
  {
   "cell_type": "code",
   "execution_count": 7,
   "id": "3d84127c",
   "metadata": {},
   "outputs": [],
   "source": [
    "# Fichier avec les variables d'intéret : dernière version : 21/02 \n",
    "\n",
    "# df_cct = pd.read_parquet(\"/Users/vanheuverswyn/Desktop/ProjetStatapp/df_all.parquet\")"
   ]
  },
  {
   "cell_type": "code",
   "execution_count": 8,
   "id": "ed685638",
   "metadata": {},
   "outputs": [],
   "source": [
    "#creation de 2000 parquets (1 par user)\n",
    "#for k in range (2000):\n",
    "    #df=df_cct[df_cct['User']==k]\n",
    "    #df.to_parquet('/Users/vanheuverswyn/Desktop/ProjetStatapp/parquet_all/df_all'+ str(k)+'.parquet')\n",
    "\n"
   ]
  },
  {
   "cell_type": "code",
   "execution_count": 24,
   "id": "7012e46b",
   "metadata": {},
   "outputs": [],
   "source": [
    "from sklearn import preprocessing\n",
    "#fonction qui retire les colonnes inutiles, qui cree la colonne 'Number_year_since_PIN_last_Changed' qui\n",
    "    #qui cree des dummies a partir des variable categorielle et qui normalise les variables non-categorielles\n",
    "\n",
    "def modification_data_frame(df_cct):\n",
    "    \n",
    "    #On retire les colonnes qui ne sont plus utiles\n",
    "    df_cct =  df_cct.drop([  'day_of_week','Card', 'Month', 'Day', 'Hours'], axis = 1)\n",
    "    \n",
    "    \n",
    "    #pour ne pas avoir de soucis lors de la concatenations des dataframe (df_cct et dummies), on reinitialise les index\n",
    "    df_cct=df_cct.reset_index()    \n",
    "    df_cct =  df_cct.drop([\"index\"], axis = 1)\n",
    "\n",
    "    enc = preprocessing.OneHotEncoder(handle_unknown='ignore')\n",
    "    features_array = enc.fit_transform(df_cct[['Card Brand']]).toarray()\n",
    "    features_labels = np.hstack(np.array(enc.categories_))\n",
    "    df_cct = pd.concat([df_cct, pd.DataFrame(features_array, columns = features_labels).reset_index()], axis = 1)\n",
    "\n",
    "    enc = preprocessing.OneHotEncoder(handle_unknown='ignore')\n",
    "    features_array = enc.fit_transform(df_cct[['Use Chip']]).toarray()\n",
    "    features_labels = np.hstack(np.array(enc.categories_))\n",
    "    df_cct = pd.concat([df_cct, pd.DataFrame(features_array, columns = features_labels).reset_index()], axis = 1)\n",
    "\n",
    "    enc = preprocessing.OneHotEncoder(handle_unknown='ignore')\n",
    "    features_array = enc.fit_transform(df_cct[['Card Type']]).toarray()\n",
    "    features_labels = np.hstack(np.array(enc.categories_))\n",
    "    df_cct = pd.concat([df_cct, pd.DataFrame(features_array, columns = features_labels)], axis = 1)\n",
    "\n",
    "    df_cct =  df_cct.drop([\"index\",\"Card Brand\",'Card Type'], axis = 1)\n",
    "    \n",
    "    \n",
    "    \n",
    "    #On centre et reduit les colonnes a normaliser suivantes:\n",
    "    Normalizing_List=['Amount', 'Credit Limit', 'delta_t_s', 'delta_t_s_card',\n",
    "       'amt/daily_income', 'daily_amount', 'nb_daily_declines_card',\n",
    "       'nb_weekly_declines_card', 'nb_monthly_declines_card',\n",
    "       'hr_nbt/last_30d_av_hr_nbt',\n",
    "       'day_nbt/last_30d_av_day_nbt', 'last_3d_amt/nbt',\n",
    "       'year_diff']\n",
    "    df_cct_not_normalized=df_cct.copy()\n",
    "    for i in Normalizing_List:\n",
    "        if np.std(df_cct[i])!=0:\n",
    "            df_cct[i] = (df_cct[i]-np.mean(df_cct[i]))/np.std(df_cct[i])\n",
    "        else:\n",
    "            df_cct[i] = (df_cct[i]-np.mean(df_cct[i])) \n",
    "    return df_cct\n",
    "        \n",
    "                \n",
    "        \n",
    "        \n",
    "        \n",
    "    "
   ]
  },
  {
   "cell_type": "code",
   "execution_count": 25,
   "id": "03fa6274",
   "metadata": {},
   "outputs": [],
   "source": [
    "# Application de la fonction au 2000 parquet -> on obtient les parquets modifiés et les parquets avec\n",
    "# les fraudes associees pour chaque utilisatuer dans un seul et même dossier.  \n",
    "    \n",
    "    \n",
    "for k in range (2000):\n",
    "    df=pd.read_parquet(\"/Users/vanheuverswyn/Desktop/ProjetStatapp/parquet_all/df_all\"+str(k)+\".parquet\")\n",
    "    \n",
    "    df_modified=modification_data_frame(df)\n",
    "    IsFraud=df_modified[\"Is Fraud?\"].to_frame()\n",
    "    df_modified=df_modified.drop([\"Is Fraud?\"],axis = 1)\n",
    "    \n",
    "    df_modified.to_parquet('/Users/vanheuverswyn/Desktop/ProjetStatapp/parquet_modified_all/df_all'+ str(k)+'.parquet')\n",
    "    IsFraud.to_parquet('/Users/vanheuverswyn/Desktop/ProjetStatapp/parquet_modified_all/IsFraud'+ str(k)+'.parquet')\n",
    "    \n"
   ]
  },
  {
   "cell_type": "code",
   "execution_count": 25,
   "id": "542b4f15",
   "metadata": {},
   "outputs": [],
   "source": [
    "#on ouvre le parquet 200 pour tester\n",
    "# df200=pd.read_parquet(\"/Users/vanheuverswyn/Desktop/ProjetStatapp/parquet_all/df_all200.parquet\").head()\n",
    "# df200.head()"
   ]
  },
  {
   "cell_type": "code",
   "execution_count": 24,
   "id": "8cd55aea",
   "metadata": {},
   "outputs": [],
   "source": [
    "#on ouvre le parquet 200 pour tester\n",
    "# df200_modified=pd.read_parquet(\"/Users/vanheuverswyn/Desktop/ProjetStatapp/parquet_modified_all/df_all200.parquet\")\n",
    "# print(df200_modified.describe())"
   ]
  },
  {
   "cell_type": "code",
   "execution_count": 6,
   "id": "9be3aa66",
   "metadata": {},
   "outputs": [],
   "source": [
    "#fonction qui applique dbScann au dataFrame A finir\n",
    "\n",
    "    \n",
    "def dbScann (df_cct):\n",
    "    X = df_cct.values\n",
    "    X.astype(np.float64)\n",
    "    #eps min_sample et n_jobs a déterminer  (fixer le meme pour tous ou automatiser une selection?)\n",
    "    clustering=cluster.DBSCAN(eps=0.8, min_samples=5, n_jobs = -1)\n",
    "    clustering.fit(X)\n",
    "    \n",
    "def PCS(df_cct):    \n",
    "    pca = PCA()\n",
    "    pca.fit(df_cct)\n",
    "    df_cct.columns = df_cct.columns.astype(\"str\")\n",
    "    df_cct_pca = pca.transform(df_cct)\n",
    "    df_cct_pca_df = pd.DataFrame({\n",
    "    \"Dim1\" : df_cct_pca[:,0], \n",
    "    \"Dim2\" : df_cct_pca[:,1]})\n",
    "    df_cct_pca_df[\"labels\"] = clustering.labels_\n",
    "\n"
   ]
  },
  {
   "cell_type": "code",
   "execution_count": null,
   "id": "adfc9da9",
   "metadata": {},
   "outputs": [],
   "source": [
    "\n",
    "# df =pd.read_parquet(\"/home/onyxia/work/Databases/df_all\"+str(i)+\".parquet\")"
   ]
  },
  {
   "cell_type": "code",
   "execution_count": 5,
   "id": "b51bd61f",
   "metadata": {},
   "outputs": [],
   "source": [
    "# Commençons par les 200 premiers Users : \n",
    "\n",
    "f = os.listdir(\"/home/onyxia/work/Datasets\")\n",
    "f = [v for v in f if \"df_all\" in v][:200]\n"
   ]
  },
  {
   "cell_type": "code",
   "execution_count": 38,
   "id": "a229764b",
   "metadata": {},
   "outputs": [],
   "source": [
    "# Création d'une liste de dataframe :\n",
    "\n",
    "df_cct = [pd.read_parquet(\"/home/onyxia/work/Datasets/\" + v) for v in f]"
   ]
  },
  {
   "cell_type": "code",
   "execution_count": 39,
   "id": "5a4fd841",
   "metadata": {},
   "outputs": [],
   "source": [
    "# On a déjà retiré les variables catégorielles : on retire aussi User : \n",
    "df_cct = [df_cct[i].drop(\"User\",  axis = \"columns\") for i in range(len(df_cct))]"
   ]
  },
  {
   "cell_type": "code",
   "execution_count": 111,
   "id": "3ae371a1",
   "metadata": {},
   "outputs": [],
   "source": [
    "# Fonction pour supprimer les variables catégorielles : \n",
    "\n",
    "def reshapedf(df):\n",
    "    unique_values = {v : df[v].unique() for v in df.columns}\n",
    "    unique_values = {v : unique_values[v] for v in unique_values.keys() if len(unique_values[v]) <= 2}\n",
    "    if \"Credit Limit\" in list(unique_values.keys()) : \n",
    "        del unique_values['Credit Limit']\n",
    "    return df.drop(list(unique_values.keys()), axis = \"columns\")"
   ]
  },
  {
   "cell_type": "code",
   "execution_count": 112,
   "id": "c60ed0f6",
   "metadata": {},
   "outputs": [],
   "source": [
    "#df_cct = [reshapedf(df) for df in df_cct]\n"
   ]
  },
  {
   "cell_type": "code",
   "execution_count": 19,
   "id": "58ccc0ea",
   "metadata": {},
   "outputs": [],
   "source": [
    "from sklearn import cluster \n",
    "from collections import Counter"
   ]
  },
  {
   "cell_type": "code",
   "execution_count": 27,
   "id": "59fded8e",
   "metadata": {},
   "outputs": [],
   "source": [
    "# Fonction pour implémenter DBSCAN sur un dataset et retourne le nbr de cluster : \n",
    "\n",
    "def DBSCAN1(df_cct, eps, min_sample):\n",
    "    X = df_cct.values\n",
    "    X.astype(np.float64)\n",
    "    #eps min_sample et n_jobs a déterminer  (fixer le meme pour tous ou automatiser une selection?)\n",
    "    clustering=cluster.DBSCAN(eps = eps, min_samples = min_sample, n_jobs = -1)\n",
    "    clustering.fit(X)\n",
    "    return Counter(clustering.labels_)"
   ]
  },
  {
   "cell_type": "code",
   "execution_count": 28,
   "id": "4ed73c0d",
   "metadata": {},
   "outputs": [],
   "source": [
    "# DBSCAN + insérer le label dans une nouvelle variable pour chaque transaction. \n",
    "\n",
    "def DBSCAN2(df, eps, min_sample):\n",
    "    X = df.values\n",
    "    X.astype(np.float64)\n",
    "    #eps min_sample et n_jobs a déterminer  (fixer le meme pour tous ou automatiser une selection?)\n",
    "    clustering=cluster.DBSCAN(eps = eps, min_samples = min_sample, n_jobs = -1)\n",
    "    clustering.fit(X)\n",
    "    df.insert(1,\"label\", clustering.labels_)\n",
    "    return df"
   ]
  },
  {
   "cell_type": "code",
   "execution_count": null,
   "id": "a1584ab2",
   "metadata": {},
   "outputs": [],
   "source": [
    "# Fonctions pour calculer la distance moyenne entre les points : trouver eps : \n",
    "\n",
    "def Euclid_distance(point1, point2):\n",
    "    return np.linalg.norm(point1 - point2)\n",
    "    \n",
    "def Transac_distance(point1, set2):\n",
    "    return np.mean([Euclid_distance(point1, point2) for point2 in set2])\n",
    "\n",
    "def User_distance(User):\n",
    "    return np.mean([Transac_distance(point1, User) for point1 in User])\n"
   ]
  },
  {
   "cell_type": "code",
   "execution_count": 23,
   "id": "52d965fd",
   "metadata": {},
   "outputs": [
    {
     "data": {
      "text/plain": [
       "4.069536775684035"
      ]
     },
     "execution_count": 23,
     "metadata": {},
     "output_type": "execute_result"
    }
   ],
   "source": [
    "# Choix de eps : \n",
    "User_distance(df_cct[0].values) # 4.069"
   ]
  },
  {
   "cell_type": "code",
   "execution_count": 34,
   "id": "7d528a3a",
   "metadata": {},
   "outputs": [
    {
     "data": {
      "text/plain": [
       "[Counter({-1: 418, 0: 15042, 1: 272}),\n",
       " Counter({0: 47, -1: 7, 1: 2}),\n",
       " Counter({0: 19004, -1: 556, 1: 355}),\n",
       " Counter({0: 7306, -1: 265, 1: 174}),\n",
       " Counter({-1: 390, 0: 204, 1: 9715, 2: 28}),\n",
       " Counter({-1: 9, 0: 112}),\n",
       " Counter({0: 11, -1: 7, 1: 2, 2: 34, 3: 3}),\n",
       " Counter({-1: 48, 0: 1729, 1: 11, 2: 150, 3: 7, 4: 24, 5: 10}),\n",
       " Counter({0: 24966, -1: 622, 1: 554}),\n",
       " Counter({0: 2929, -1: 84, 1: 77, 2: 5, 3: 76}),\n",
       " Counter({0: 269, -1: 49, 1: 5, 2: 8, 3: 5, 4: 1413, 5: 17}),\n",
       " Counter({0: 9728, 1: 302, -1: 331, 2: 24}),\n",
       " Counter({-1: 507, 0: 21974, 1: 427}),\n",
       " Counter({0: 12863, -1: 292, 1: 423, 2: 1509}),\n",
       " Counter({0: 4449,\n",
       "          1: 59,\n",
       "          2: 204,\n",
       "          -1: 212,\n",
       "          3: 32,\n",
       "          6: 23,\n",
       "          4: 1007,\n",
       "          5: 23,\n",
       "          7: 18}),\n",
       " Counter({0: 41, -1: 236, 1: 10774, 2: 264}),\n",
       " Counter({0: 9140, -1: 248, 2: 227, 1: 603}),\n",
       " Counter({0: 16171, 1: 428, 3: 40, -1: 476, 2: 65}),\n",
       " Counter({0: 100, 1: 2, -1: 12, 2: 2, 3: 5, 4: 13, 5: 2, 6: 2}),\n",
       " Counter({-1: 197, 0: 401, 1: 7411, 2: 49})]"
      ]
     },
     "execution_count": 34,
     "metadata": {},
     "output_type": "execute_result"
    }
   ],
   "source": [
    "# Test : trouver min_sample : idée : 0.002*df.shape[0] : regarder un peu le nbr de cluster et effectif : \n",
    "[DBSCAN1(df, 2.5, max(2,round(0.002*df.shape[0]))) for df in df_cct[:20]]\n",
    "# 2.5 satisfaisant pour eps : regarder nbr de cluster et effectif "
   ]
  },
  {
   "cell_type": "code",
   "execution_count": 40,
   "id": "0c4162d5",
   "metadata": {},
   "outputs": [],
   "source": [
    "# On affecte le numéro du cluster à chaque transaction : # On test sur les \n",
    "\n",
    "df_cct_clustered = [DBSCAN2(df,2.5, max(2,round(0.002*df.shape[0]))) for df in df_cct[:20]]"
   ]
  },
  {
   "cell_type": "code",
   "execution_count": 77,
   "id": "173847d1",
   "metadata": {},
   "outputs": [],
   "source": [
    "# On rassemble les trasactions par label : et on prend la moyenne :  \n",
    "\n",
    "\n",
    "df_cct_clustered1 = [df.groupby(\"label\").mean().reset_index() for df in df_cct_clustered]"
   ]
  },
  {
   "cell_type": "code",
   "execution_count": 73,
   "id": "6ccf9a83",
   "metadata": {},
   "outputs": [
    {
     "data": {
      "text/html": [
       "<div>\n",
       "<style scoped>\n",
       "    .dataframe tbody tr th:only-of-type {\n",
       "        vertical-align: middle;\n",
       "    }\n",
       "\n",
       "    .dataframe tbody tr th {\n",
       "        vertical-align: top;\n",
       "    }\n",
       "\n",
       "    .dataframe thead th {\n",
       "        text-align: right;\n",
       "    }\n",
       "</style>\n",
       "<table border=\"1\" class=\"dataframe\">\n",
       "  <thead>\n",
       "    <tr style=\"text-align: right;\">\n",
       "      <th></th>\n",
       "      <th>label</th>\n",
       "      <th>Amount</th>\n",
       "      <th>Credit Limit</th>\n",
       "      <th>year_diff</th>\n",
       "      <th>delta_t_s</th>\n",
       "      <th>delta_t_s_card</th>\n",
       "      <th>amt/daily_income</th>\n",
       "      <th>daily_amount</th>\n",
       "      <th>nb_daily_declines_card</th>\n",
       "      <th>nb_weekly_declines_card</th>\n",
       "      <th>nb_monthly_declines_card</th>\n",
       "      <th>hr_nbt/last_30d_av_hr_nbt</th>\n",
       "      <th>day_nbt/last_30d_av_day_nbt</th>\n",
       "      <th>last_3d_amt/nbt</th>\n",
       "    </tr>\n",
       "  </thead>\n",
       "  <tbody>\n",
       "    <tr>\n",
       "      <th>0</th>\n",
       "      <td>-1</td>\n",
       "      <td>1.701182</td>\n",
       "      <td>-0.554838</td>\n",
       "      <td>0.408695</td>\n",
       "      <td>0.220138</td>\n",
       "      <td>0.201935</td>\n",
       "      <td>1.701182</td>\n",
       "      <td>4.028080</td>\n",
       "      <td>1.182968</td>\n",
       "      <td>0.991471</td>\n",
       "      <td>0.506329</td>\n",
       "      <td>1.047170</td>\n",
       "      <td>0.730244</td>\n",
       "      <td>2.986989</td>\n",
       "    </tr>\n",
       "    <tr>\n",
       "      <th>1</th>\n",
       "      <td>0</td>\n",
       "      <td>-0.047251</td>\n",
       "      <td>0.010827</td>\n",
       "      <td>-0.010274</td>\n",
       "      <td>-0.004693</td>\n",
       "      <td>-0.003679</td>\n",
       "      <td>-0.047251</td>\n",
       "      <td>-0.114810</td>\n",
       "      <td>-0.148595</td>\n",
       "      <td>-0.062590</td>\n",
       "      <td>-0.029429</td>\n",
       "      <td>-0.039514</td>\n",
       "      <td>-0.026954</td>\n",
       "      <td>-0.080199</td>\n",
       "    </tr>\n",
       "    <tr>\n",
       "      <th>2</th>\n",
       "      <td>1</td>\n",
       "      <td>-0.001256</td>\n",
       "      <td>0.253896</td>\n",
       "      <td>-0.059878</td>\n",
       "      <td>-0.078760</td>\n",
       "      <td>-0.106897</td>\n",
       "      <td>-0.001256</td>\n",
       "      <td>0.158949</td>\n",
       "      <td>6.399559</td>\n",
       "      <td>1.937671</td>\n",
       "      <td>0.849361</td>\n",
       "      <td>0.575938</td>\n",
       "      <td>0.368395</td>\n",
       "      <td>-0.155173</td>\n",
       "    </tr>\n",
       "  </tbody>\n",
       "</table>\n",
       "</div>"
      ],
      "text/plain": [
       "   label    Amount  Credit Limit  year_diff  delta_t_s  delta_t_s_card  \\\n",
       "0     -1  1.701182     -0.554838   0.408695   0.220138        0.201935   \n",
       "1      0 -0.047251      0.010827  -0.010274  -0.004693       -0.003679   \n",
       "2      1 -0.001256      0.253896  -0.059878  -0.078760       -0.106897   \n",
       "\n",
       "   amt/daily_income  daily_amount  nb_daily_declines_card  \\\n",
       "0          1.701182      4.028080                1.182968   \n",
       "1         -0.047251     -0.114810               -0.148595   \n",
       "2         -0.001256      0.158949                6.399559   \n",
       "\n",
       "   nb_weekly_declines_card  nb_monthly_declines_card  \\\n",
       "0                 0.991471                  0.506329   \n",
       "1                -0.062590                 -0.029429   \n",
       "2                 1.937671                  0.849361   \n",
       "\n",
       "   hr_nbt/last_30d_av_hr_nbt  day_nbt/last_30d_av_day_nbt  last_3d_amt/nbt  \n",
       "0                   1.047170                     0.730244         2.986989  \n",
       "1                  -0.039514                    -0.026954        -0.080199  \n",
       "2                   0.575938                     0.368395        -0.155173  "
      ]
     },
     "execution_count": 73,
     "metadata": {},
     "output_type": "execute_result"
    }
   ],
   "source": [
    "df_cct_clustered1[0].head()"
   ]
  },
  {
   "cell_type": "code",
   "execution_count": 50,
   "id": "d4410b43",
   "metadata": {},
   "outputs": [],
   "source": [
    "# On rassemble le tout : + DBSCAN : \n",
    "\n",
    "df_final = pd.concat(df_cct_clustered1).reset_index(drop = True).drop(\"label\", axis = \"columns\")"
   ]
  },
  {
   "cell_type": "code",
   "execution_count": 51,
   "id": "d78ed4ef",
   "metadata": {},
   "outputs": [
    {
     "data": {
      "text/plain": [
       "5.929339307877806"
      ]
     },
     "execution_count": 51,
     "metadata": {},
     "output_type": "execute_result"
    }
   ],
   "source": [
    "User_distance(df_final.values)"
   ]
  },
  {
   "cell_type": "code",
   "execution_count": 60,
   "id": "a341bb00",
   "metadata": {},
   "outputs": [
    {
     "data": {
      "text/plain": [
       "Counter({0: 15, 1: 27, 2: 18, 3: 4, -1: 18, 4: 6, 5: 2})"
      ]
     },
     "execution_count": 60,
     "metadata": {},
     "output_type": "execute_result"
    }
   ],
   "source": [
    "DBSCAN1(df_final,2.5,max(2,round(0.002*df_final.shape[0])))"
   ]
  },
  {
   "cell_type": "code",
   "execution_count": 58,
   "id": "275f6aa4",
   "metadata": {},
   "outputs": [],
   "source": [
    "df_final1 = DBSCAN2(df_final,2.5,max(2,round(0.002*df_final.shape[0])))"
   ]
  },
  {
   "cell_type": "code",
   "execution_count": 59,
   "id": "1beb3909",
   "metadata": {},
   "outputs": [
    {
     "data": {
      "text/html": [
       "<div>\n",
       "<style scoped>\n",
       "    .dataframe tbody tr th:only-of-type {\n",
       "        vertical-align: middle;\n",
       "    }\n",
       "\n",
       "    .dataframe tbody tr th {\n",
       "        vertical-align: top;\n",
       "    }\n",
       "\n",
       "    .dataframe thead th {\n",
       "        text-align: right;\n",
       "    }\n",
       "</style>\n",
       "<table border=\"1\" class=\"dataframe\">\n",
       "  <thead>\n",
       "    <tr style=\"text-align: right;\">\n",
       "      <th></th>\n",
       "      <th>Amount</th>\n",
       "      <th>label</th>\n",
       "      <th>Credit Limit</th>\n",
       "      <th>year_diff</th>\n",
       "      <th>delta_t_s</th>\n",
       "      <th>delta_t_s_card</th>\n",
       "      <th>amt/daily_income</th>\n",
       "      <th>daily_amount</th>\n",
       "      <th>nb_daily_declines_card</th>\n",
       "      <th>nb_weekly_declines_card</th>\n",
       "      <th>nb_monthly_declines_card</th>\n",
       "      <th>hr_nbt/last_30d_av_hr_nbt</th>\n",
       "      <th>day_nbt/last_30d_av_day_nbt</th>\n",
       "      <th>last_3d_amt/nbt</th>\n",
       "    </tr>\n",
       "  </thead>\n",
       "  <tbody>\n",
       "    <tr>\n",
       "      <th>0</th>\n",
       "      <td>1.701182</td>\n",
       "      <td>0</td>\n",
       "      <td>-0.554838</td>\n",
       "      <td>0.408695</td>\n",
       "      <td>0.220138</td>\n",
       "      <td>0.201935</td>\n",
       "      <td>1.701182</td>\n",
       "      <td>4.028080</td>\n",
       "      <td>1.182968</td>\n",
       "      <td>0.991471</td>\n",
       "      <td>0.506329</td>\n",
       "      <td>1.047170</td>\n",
       "      <td>0.730244</td>\n",
       "      <td>2.986989</td>\n",
       "    </tr>\n",
       "    <tr>\n",
       "      <th>1</th>\n",
       "      <td>-0.047251</td>\n",
       "      <td>1</td>\n",
       "      <td>0.010827</td>\n",
       "      <td>-0.010274</td>\n",
       "      <td>-0.004693</td>\n",
       "      <td>-0.003679</td>\n",
       "      <td>-0.047251</td>\n",
       "      <td>-0.114810</td>\n",
       "      <td>-0.148595</td>\n",
       "      <td>-0.062590</td>\n",
       "      <td>-0.029429</td>\n",
       "      <td>-0.039514</td>\n",
       "      <td>-0.026954</td>\n",
       "      <td>-0.080199</td>\n",
       "    </tr>\n",
       "    <tr>\n",
       "      <th>2</th>\n",
       "      <td>-0.001256</td>\n",
       "      <td>2</td>\n",
       "      <td>0.253896</td>\n",
       "      <td>-0.059878</td>\n",
       "      <td>-0.078760</td>\n",
       "      <td>-0.106897</td>\n",
       "      <td>-0.001256</td>\n",
       "      <td>0.158949</td>\n",
       "      <td>6.399559</td>\n",
       "      <td>1.937671</td>\n",
       "      <td>0.849361</td>\n",
       "      <td>0.575938</td>\n",
       "      <td>0.368395</td>\n",
       "      <td>-0.155173</td>\n",
       "    </tr>\n",
       "    <tr>\n",
       "      <th>3</th>\n",
       "      <td>0.866996</td>\n",
       "      <td>1</td>\n",
       "      <td>0.000000</td>\n",
       "      <td>0.000000</td>\n",
       "      <td>0.234966</td>\n",
       "      <td>0.234966</td>\n",
       "      <td>0.866996</td>\n",
       "      <td>0.886391</td>\n",
       "      <td>1.347151</td>\n",
       "      <td>1.072222</td>\n",
       "      <td>0.219382</td>\n",
       "      <td>-0.266760</td>\n",
       "      <td>-0.013971</td>\n",
       "      <td>0.518652</td>\n",
       "    </tr>\n",
       "    <tr>\n",
       "      <th>4</th>\n",
       "      <td>-0.044472</td>\n",
       "      <td>1</td>\n",
       "      <td>0.000000</td>\n",
       "      <td>0.000000</td>\n",
       "      <td>0.002368</td>\n",
       "      <td>0.002368</td>\n",
       "      <td>-0.044472</td>\n",
       "      <td>-0.183116</td>\n",
       "      <td>-0.192450</td>\n",
       "      <td>-0.135125</td>\n",
       "      <td>-0.066904</td>\n",
       "      <td>-0.084747</td>\n",
       "      <td>-0.072587</td>\n",
       "      <td>-0.108510</td>\n",
       "    </tr>\n",
       "  </tbody>\n",
       "</table>\n",
       "</div>"
      ],
      "text/plain": [
       "     Amount  label  Credit Limit  year_diff  delta_t_s  delta_t_s_card  \\\n",
       "0  1.701182      0     -0.554838   0.408695   0.220138        0.201935   \n",
       "1 -0.047251      1      0.010827  -0.010274  -0.004693       -0.003679   \n",
       "2 -0.001256      2      0.253896  -0.059878  -0.078760       -0.106897   \n",
       "3  0.866996      1      0.000000   0.000000   0.234966        0.234966   \n",
       "4 -0.044472      1      0.000000   0.000000   0.002368        0.002368   \n",
       "\n",
       "   amt/daily_income  daily_amount  nb_daily_declines_card  \\\n",
       "0          1.701182      4.028080                1.182968   \n",
       "1         -0.047251     -0.114810               -0.148595   \n",
       "2         -0.001256      0.158949                6.399559   \n",
       "3          0.866996      0.886391                1.347151   \n",
       "4         -0.044472     -0.183116               -0.192450   \n",
       "\n",
       "   nb_weekly_declines_card  nb_monthly_declines_card  \\\n",
       "0                 0.991471                  0.506329   \n",
       "1                -0.062590                 -0.029429   \n",
       "2                 1.937671                  0.849361   \n",
       "3                 1.072222                  0.219382   \n",
       "4                -0.135125                 -0.066904   \n",
       "\n",
       "   hr_nbt/last_30d_av_hr_nbt  day_nbt/last_30d_av_day_nbt  last_3d_amt/nbt  \n",
       "0                   1.047170                     0.730244         2.986989  \n",
       "1                  -0.039514                    -0.026954        -0.080199  \n",
       "2                   0.575938                     0.368395        -0.155173  \n",
       "3                  -0.266760                    -0.013971         0.518652  \n",
       "4                  -0.084747                    -0.072587        -0.108510  "
      ]
     },
     "execution_count": 59,
     "metadata": {},
     "output_type": "execute_result"
    }
   ],
   "source": [
    "df_final1.head()"
   ]
  },
  {
   "cell_type": "code",
   "execution_count": 78,
   "id": "d1fbbbad",
   "metadata": {},
   "outputs": [
    {
     "ename": "ValueError",
     "evalue": "Length of values (0) does not match length of index (3)",
     "output_type": "error",
     "traceback": [
      "\u001b[0;31m---------------------------------------------------------------------------\u001b[0m",
      "\u001b[0;31mValueError\u001b[0m                                Traceback (most recent call last)",
      "Cell \u001b[0;32mIn[78], line 6\u001b[0m\n\u001b[1;32m      1\u001b[0m \u001b[39m# On revient sur le dataset de base : \u001b[39;00m\n\u001b[1;32m      2\u001b[0m \u001b[39m# Créer la variable label_global :\u001b[39;00m\n\u001b[1;32m      3\u001b[0m \n\u001b[1;32m      4\u001b[0m \u001b[39m# On commence par remettre le USER : \u001b[39;00m\n\u001b[0;32m----> 6\u001b[0m [df\u001b[39m.\u001b[39minsert(\u001b[39m1\u001b[39m,\u001b[39m\"\u001b[39m\u001b[39mUser\u001b[39m\u001b[39m\"\u001b[39m, np\u001b[39m.\u001b[39mones(i)) \u001b[39mfor\u001b[39;00m i,df \u001b[39min\u001b[39;00m \u001b[39menumerate\u001b[39m(df_cct_clustered1)]\n",
      "Cell \u001b[0;32mIn[78], line 6\u001b[0m, in \u001b[0;36m<listcomp>\u001b[0;34m(.0)\u001b[0m\n\u001b[1;32m      1\u001b[0m \u001b[39m# On revient sur le dataset de base : \u001b[39;00m\n\u001b[1;32m      2\u001b[0m \u001b[39m# Créer la variable label_global :\u001b[39;00m\n\u001b[1;32m      3\u001b[0m \n\u001b[1;32m      4\u001b[0m \u001b[39m# On commence par remettre le USER : \u001b[39;00m\n\u001b[0;32m----> 6\u001b[0m [df\u001b[39m.\u001b[39;49minsert(\u001b[39m1\u001b[39;49m,\u001b[39m\"\u001b[39;49m\u001b[39mUser\u001b[39;49m\u001b[39m\"\u001b[39;49m, np\u001b[39m.\u001b[39;49mones(i)) \u001b[39mfor\u001b[39;00m i,df \u001b[39min\u001b[39;00m \u001b[39menumerate\u001b[39m(df_cct_clustered1)]\n",
      "File \u001b[0;32m/opt/mamba/lib/python3.10/site-packages/pandas/core/frame.py:4821\u001b[0m, in \u001b[0;36mDataFrame.insert\u001b[0;34m(self, loc, column, value, allow_duplicates)\u001b[0m\n\u001b[1;32m   4818\u001b[0m \u001b[39mif\u001b[39;00m \u001b[39mnot\u001b[39;00m \u001b[39misinstance\u001b[39m(loc, \u001b[39mint\u001b[39m):\n\u001b[1;32m   4819\u001b[0m     \u001b[39mraise\u001b[39;00m \u001b[39mTypeError\u001b[39;00m(\u001b[39m\"\u001b[39m\u001b[39mloc must be int\u001b[39m\u001b[39m\"\u001b[39m)\n\u001b[0;32m-> 4821\u001b[0m value \u001b[39m=\u001b[39m \u001b[39mself\u001b[39;49m\u001b[39m.\u001b[39;49m_sanitize_column(value)\n\u001b[1;32m   4822\u001b[0m \u001b[39mself\u001b[39m\u001b[39m.\u001b[39m_mgr\u001b[39m.\u001b[39minsert(loc, column, value)\n",
      "File \u001b[0;32m/opt/mamba/lib/python3.10/site-packages/pandas/core/frame.py:4915\u001b[0m, in \u001b[0;36mDataFrame._sanitize_column\u001b[0;34m(self, value)\u001b[0m\n\u001b[1;32m   4912\u001b[0m     \u001b[39mreturn\u001b[39;00m _reindex_for_setitem(Series(value), \u001b[39mself\u001b[39m\u001b[39m.\u001b[39mindex)\n\u001b[1;32m   4914\u001b[0m \u001b[39mif\u001b[39;00m is_list_like(value):\n\u001b[0;32m-> 4915\u001b[0m     com\u001b[39m.\u001b[39;49mrequire_length_match(value, \u001b[39mself\u001b[39;49m\u001b[39m.\u001b[39;49mindex)\n\u001b[1;32m   4916\u001b[0m \u001b[39mreturn\u001b[39;00m sanitize_array(value, \u001b[39mself\u001b[39m\u001b[39m.\u001b[39mindex, copy\u001b[39m=\u001b[39m\u001b[39mTrue\u001b[39;00m, allow_2d\u001b[39m=\u001b[39m\u001b[39mTrue\u001b[39;00m)\n",
      "File \u001b[0;32m/opt/mamba/lib/python3.10/site-packages/pandas/core/common.py:571\u001b[0m, in \u001b[0;36mrequire_length_match\u001b[0;34m(data, index)\u001b[0m\n\u001b[1;32m    567\u001b[0m \u001b[39m\u001b[39m\u001b[39m\"\"\"\u001b[39;00m\n\u001b[1;32m    568\u001b[0m \u001b[39mCheck the length of data matches the length of the index.\u001b[39;00m\n\u001b[1;32m    569\u001b[0m \u001b[39m\"\"\"\u001b[39;00m\n\u001b[1;32m    570\u001b[0m \u001b[39mif\u001b[39;00m \u001b[39mlen\u001b[39m(data) \u001b[39m!=\u001b[39m \u001b[39mlen\u001b[39m(index):\n\u001b[0;32m--> 571\u001b[0m     \u001b[39mraise\u001b[39;00m \u001b[39mValueError\u001b[39;00m(\n\u001b[1;32m    572\u001b[0m         \u001b[39m\"\u001b[39m\u001b[39mLength of values \u001b[39m\u001b[39m\"\u001b[39m\n\u001b[1;32m    573\u001b[0m         \u001b[39mf\u001b[39m\u001b[39m\"\u001b[39m\u001b[39m(\u001b[39m\u001b[39m{\u001b[39;00m\u001b[39mlen\u001b[39m(data)\u001b[39m}\u001b[39;00m\u001b[39m) \u001b[39m\u001b[39m\"\u001b[39m\n\u001b[1;32m    574\u001b[0m         \u001b[39m\"\u001b[39m\u001b[39mdoes not match length of index \u001b[39m\u001b[39m\"\u001b[39m\n\u001b[1;32m    575\u001b[0m         \u001b[39mf\u001b[39m\u001b[39m\"\u001b[39m\u001b[39m(\u001b[39m\u001b[39m{\u001b[39;00m\u001b[39mlen\u001b[39m(index)\u001b[39m}\u001b[39;00m\u001b[39m)\u001b[39m\u001b[39m\"\u001b[39m\n\u001b[1;32m    576\u001b[0m     )\n",
      "\u001b[0;31mValueError\u001b[0m: Length of values (0) does not match length of index (3)"
     ]
    }
   ],
   "source": [
    "# On revient sur le dataset de base : \n",
    "# Créer la variable label_global :\n",
    "\n",
    "# On commence par remettre le USER : \n",
    "\n",
    "[df.insert(1,\"User\", list(np.ones((5,), dtype=int))) for i,df in enumerate(df_cct_clustered1)]"
   ]
  },
  {
   "cell_type": "code",
   "execution_count": 70,
   "id": "9ef25b65",
   "metadata": {},
   "outputs": [
    {
     "name": "stdout",
     "output_type": "stream",
     "text": [
      "None\n"
     ]
    }
   ],
   "source": [
    "print(df_final_ut[1])"
   ]
  }
 ],
 "metadata": {
  "kernelspec": {
   "display_name": "Python 3 (ipykernel)",
   "language": "python",
   "name": "python3"
  },
  "language_info": {
   "codemirror_mode": {
    "name": "ipython",
    "version": 3
   },
   "file_extension": ".py",
   "mimetype": "text/x-python",
   "name": "python",
   "nbconvert_exporter": "python",
   "pygments_lexer": "ipython3",
   "version": "3.10.9"
  }
 },
 "nbformat": 4,
 "nbformat_minor": 5
}
