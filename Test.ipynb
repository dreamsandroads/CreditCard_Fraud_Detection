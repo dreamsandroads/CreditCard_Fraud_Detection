{
 "cells": [
  {
   "cell_type": "code",
   "execution_count": 1,
   "metadata": {},
   "outputs": [
    {
     "name": "stdout",
     "output_type": "stream",
     "text": [
      "Ttest_indResult(statistic=-1.6222142113076257, pvalue=0.14341462050621775)\n",
      "0.14341462050621775\n",
      "0.0\n",
      "0.0\n"
     ]
    },
    {
     "data": {
      "text/plain": [
       "Ttest_indResult(statistic=136.74731095326234, pvalue=0.0)"
      ]
     },
     "execution_count": 1,
     "metadata": {},
     "output_type": "execute_result"
    }
   ],
   "source": [
    "# %%\n",
    "# Importation des libraries/packages de base. \n",
    "\n",
    "import pandas as pd\n",
    "import os\n",
    "import numpy as np\n",
    "import dask.dataframe as dd \n",
    "import warnings \n",
    "warnings.filterwarnings(\"ignore\")\n",
    "\n",
    "# %%\n",
    "# Fichier avec les variables d'intéret : dernière version : 27/02 \n",
    "\n",
    "df_cct = pd.read_parquet(\"/home/onyxia/work/df_cct_final.parquet1\")\n",
    "\n",
    "# %%\n",
    "# Pour réaliser un test de Student : \n",
    "import scipy.stats as stats\n",
    "\n",
    "# %%\n",
    "# But : Comparaison de deux distribution : Ex : \n",
    "X1 = [1,1,1,2,1] \n",
    "\n",
    "X2 = [4,2,3,1,1]\n",
    "\n",
    "y = stats.ttest_ind(X1,X2) ; print(y)\n",
    "\n",
    "# %%\n",
    "# Affichage de la p-value : \n",
    "\n",
    "print(y[1])\n",
    "\n",
    "# %%\n",
    "# Pour notre dataset : \n",
    "# Idée : Comparer les distributions des frauds et des non-frauds : \n",
    "# Le faire pour les montants et pour les fréquences de transactions. \n",
    "\n",
    "# %%\n",
    "# Récupérer les frauds et les non-frauds : \n",
    "df_cct_fraud = df_cct[df_cct[\"Is Fraud?\"]==1]\n",
    "df_cct_non_fraud = df_cct[df_cct[\"Is Fraud?\"]==0]\n",
    "\n",
    "# %%\n",
    "# Amount : \n",
    "Amount_fraud = df_cct_fraud[\"Amount\"].to_numpy()\n",
    "Amount_non_fraud = df_cct_non_fraud[\"Amount\"].to_numpy()\n",
    "\n",
    "# %%\n",
    "# Vérifier les prérequis : Normalités des échnatillons : \n",
    "\n",
    "from scipy.stats import shapiro\n",
    "\n",
    "x1, pval1 = shapiro(Amount_fraud)\n",
    "\n",
    "x2, pval2 = shapiro(Amount_non_fraud)\n",
    "\n",
    "print(pval1)\n",
    "\n",
    "print(pval2)\n",
    "\n",
    "# On est pas sur une distribution normale... Pas de sens de faire un test de student... \n",
    "\n",
    "# %%\n",
    "# Test de student : \n",
    "y = stats.ttest_ind(Amount_fraud,Amount_non_fraud)\n",
    "y"
   ]
  },
  {
   "cell_type": "code",
   "execution_count": 3,
   "metadata": {},
   "outputs": [
    {
     "data": {
      "text/plain": [
       "(array([79137710.5, 89778118. , 41609004.5, ..., 36521821.5, 67655508.5,\n",
       "        16238203. ]),\n",
       " array([0., 0., 0., ..., 0., 0., 0.]))"
      ]
     },
     "execution_count": 3,
     "metadata": {},
     "output_type": "execute_result"
    }
   ],
   "source": [
    "# Solution : test non-paramétrique : The Wilcoxon signed-rank test\n",
    "Amount_non_fraud_1 = pd.DataFrame(Amount_non_fraud).sample(len(Amount_fraud)).to_numpy()\n",
    "from scipy.stats import wilcoxon\n",
    "res = wilcoxon(x = Amount_fraud - Amount_non_fraud_1, method = 'approx', zero_method='wilcox')\n",
    "res.statistic, res.pvalue\n",
    "\n",
    "\n",
    "## NON : on doit avoir de la dépendance entre les deux jeux de données : pas le cas entre les frauds et \n",
    "# non-frauds : ne s'applique pas. "
   ]
  },
  {
   "cell_type": "code",
   "execution_count": 2,
   "metadata": {},
   "outputs": [
    {
     "data": {
      "text/plain": [
       "0.0"
      ]
     },
     "execution_count": 2,
     "metadata": {},
     "output_type": "execute_result"
    }
   ],
   "source": [
    "# Le test de Wilcoxon-Mann-Whitney \n",
    "# (ou test U de Mann-Whitney ou encore test de la somme des rangs de Wilcoxon) : \n",
    "\n",
    "from scipy.stats import mannwhitneyu\n",
    "U1, p = mannwhitneyu(Amount_fraud, Amount_non_fraud, method='asymptotic')\n",
    "p\n"
   ]
  },
  {
   "cell_type": "code",
   "execution_count": null,
   "metadata": {},
   "outputs": [],
   "source": [
    "# p-value = 0... On rejette toujours l'hypothèse nulle, les distributions sont très différentes... "
   ]
  }
 ],
 "metadata": {
  "kernelspec": {
   "display_name": "base",
   "language": "python",
   "name": "python3"
  },
  "language_info": {
   "codemirror_mode": {
    "name": "ipython",
    "version": 3
   },
   "file_extension": ".py",
   "mimetype": "text/x-python",
   "name": "python",
   "nbconvert_exporter": "python",
   "pygments_lexer": "ipython3",
   "version": "3.10.8"
  },
  "vscode": {
   "interpreter": {
    "hash": "3fa046f995eb80ac40c0869a1f9df46519f4ada8b8c395ef25dd1aa1a1a2fc63"
   }
  }
 },
 "nbformat": 4,
 "nbformat_minor": 2
}
