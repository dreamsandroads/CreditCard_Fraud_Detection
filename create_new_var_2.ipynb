{
 "cells": [
  {
   "cell_type": "code",
   "execution_count": 4,
   "metadata": {},
   "outputs": [],
   "source": [
    "import os\n",
    "import dask.dataframe as dd\n",
    "import datetime as dt\n",
    "import pandas as pd\n",
    "import warnings\n",
    "warnings.filterwarnings(\"ignore\")"
   ]
  },
  {
   "cell_type": "code",
   "execution_count": 5,
   "metadata": {},
   "outputs": [],
   "source": [
    "#Ouverture des bases de données\n",
    "df_cct = pd.read_parquet(\"/home/onyxia/work/cct.parquet\")\n"
   ]
  },
  {
   "cell_type": "code",
   "execution_count": 6,
   "metadata": {},
   "outputs": [],
   "source": [
    "#Un peu de nettoyage\n",
    "\n",
    "df_cct[\"Amount\"] = df_cct[\"Amount\"].str.replace(\"$\",\"\")\n",
    "df_cct[\"Amount\"] = df_cct[\"Amount\"].astype(float)\n",
    "df_cct[\"Is Fraud?\"].mask(df_cct[\"Is Fraud?\"] == \"Yes\", 1 , inplace = True)\n",
    "df_cct[\"Is Fraud?\"].mask(df_cct[\"Is Fraud?\"] == \"No\", 0 , inplace = True)"
   ]
  },
  {
   "cell_type": "code",
   "execution_count": 7,
   "metadata": {},
   "outputs": [],
   "source": [
    "df_fraud = df_cct[df_cct[\"Is Fraud?\"] == 1]"
   ]
  },
  {
   "cell_type": "code",
   "execution_count": 8,
   "metadata": {},
   "outputs": [],
   "source": [
    "df_not_fraud = df_cct[df_cct[\"Is Fraud?\"] == 0]"
   ]
  },
  {
   "cell_type": "markdown",
   "metadata": {},
   "source": [
    "## I. Time intervals between transactions"
   ]
  },
  {
   "cell_type": "code",
   "execution_count": 9,
   "metadata": {},
   "outputs": [],
   "source": [
    "#Création des variables 'timestamp', 'delta_t_s' et 'delta_t_s_card'\n",
    "def time(dataframe):\n",
    "   dataframe[['Hours', 'Minutes']] = dataframe.Time.str.split(\":\", n=1, expand=True) #scinder la colonne Time en 2\n",
    "   dataframe[\"Hours\"] = dataframe[\"Hours\"].astype(int)\n",
    "   dataframe[\"Minutes\"] = dataframe[\"Minutes\"].astype(int)\n",
    "   #Créer une colonne 'Timestamp' : format année, mois, jour, heure, minute:\n",
    "   timestamp = pd.to_datetime(dataframe[[\"Year\",'Month','Day','Hours','Minutes']], format = '%Y:%M:%D%:%H:%M')\n",
    "   date = pd.to_datetime(dataframe[[\"Year\",'Month','Day']], format = '%Y:%M:%D%')\n",
    "   dataframe[\"date\"] = date.values\n",
    "   dataframe[\"timestamp\"] = timestamp.values\n",
    "   dataframe[\"delta_t_card\"] = (timestamp-timestamp.shift()) #calculer l'intervalle de temps entre\n",
    "   #deux transactions de la même carte et du même user\n",
    "\n",
    "   #Convertir delta_t_card en secondes et mettre à 0 les temps négatifs \n",
    "   #(ici, dataframe ordonné en fonction de l'user et de la carte, et non de la chronologie):\n",
    "   dataframe[\"delta_t_s_card\"] = dataframe[\"delta_t_card\"].dt.total_seconds().fillna(0).astype(int)\n",
    "   dataframe[\"delta_t_s_card\"] = dataframe[\"delta_t_s_card\"].mask(dataframe[\"delta_t_s_card\"] < 0, 0)\n",
    "\n",
    "   #Réordonner les transactions en fonction du User et de la chronoogie de ses transactions : \n",
    "   dataframe = dataframe.sort_values([\"User\", \"Year\",\"Month\",\"Day\",\"Hours\",\"Minutes\"], ascending=[True,True,True,True,True,True]).reset_index(drop=True)\n",
    "   timestamp2 = pd.to_datetime(dataframe[[\"Year\",'Month','Day','Hours','Minutes']], format = '%Y:%M:%D%:%H:%M')\n",
    "   dataframe['delta_t'] = (timestamp2-timestamp2.shift()) #différence de temps entre deux transactions du même user\n",
    "   dataframe[\"delta_t_s\"] = dataframe[\"delta_t\"].dt.total_seconds().fillna(0).astype(int) #pour la première\n",
    "   #transaction, fixer le delta_t_s à 0\n",
    "   dataframe[\"delta_t_s\"] = dataframe[\"delta_t_s\"].mask(dataframe[\"delta_t_s\"] < 0, 0)\n",
    "\n",
    "   dataframe = dataframe[['User', 'Card', 'date', 'timestamp', 'Hours', 'Amount', 'Use Chip',\n",
    "       'Merchant Name', 'Merchant City', 'Merchant State', 'Zip', 'MCC',\n",
    "       'Errors?', 'delta_t_s','delta_t_s_card','Is Fraud?']] #ordonner et sélectionner les colonnes\n",
    "   \n",
    "   return dataframe\n",
    "\n"
   ]
  },
  {
   "cell_type": "code",
   "execution_count": 10,
   "metadata": {},
   "outputs": [],
   "source": [
    "df_cct = time(df_cct)"
   ]
  },
  {
   "cell_type": "code",
   "execution_count": 11,
   "metadata": {},
   "outputs": [
    {
     "data": {
      "text/plain": [
       "29590.274720444173"
      ]
     },
     "execution_count": 11,
     "metadata": {},
     "output_type": "execute_result"
    }
   ],
   "source": [
    "df_cct[\"delta_t_s\"].mean() #average time between two transactions ~ 8 hours"
   ]
  },
  {
   "cell_type": "code",
   "execution_count": 12,
   "metadata": {},
   "outputs": [
    {
     "data": {
      "text/plain": [
       "13920.0"
      ]
     },
     "execution_count": 12,
     "metadata": {},
     "output_type": "execute_result"
    }
   ],
   "source": [
    "df_cct[\"delta_t_s\"].median() #average time between two transactions ~ 8 hours"
   ]
  },
  {
   "cell_type": "code",
   "execution_count": 13,
   "metadata": {},
   "outputs": [],
   "source": [
    "import matplotlib.pyplot as plt"
   ]
  },
  {
   "cell_type": "code",
   "execution_count": 14,
   "metadata": {},
   "outputs": [
    {
     "data": {
      "text/plain": [
       "417268260"
      ]
     },
     "execution_count": 14,
     "metadata": {},
     "output_type": "execute_result"
    }
   ],
   "source": [
    "df_cct[\"delta_t_s\"].max()"
   ]
  },
  {
   "cell_type": "code",
   "execution_count": 15,
   "metadata": {},
   "outputs": [],
   "source": [
    "df_cct_1 = df_cct[df_cct[\"delta_t_s\"]> 0]"
   ]
  },
  {
   "cell_type": "code",
   "execution_count": 16,
   "metadata": {},
   "outputs": [
    {
     "data": {
      "text/plain": [
       "(array([3.086000e+05, 0.000000e+00, 2.915790e+05, 2.740620e+05,\n",
       "        2.594970e+05, 4.771800e+05, 6.215540e+05, 5.279580e+05,\n",
       "        7.102860e+05, 6.577690e+05, 8.079690e+05, 8.532110e+05,\n",
       "        1.025814e+06, 9.749750e+05, 1.026072e+06, 1.263186e+06,\n",
       "        1.509489e+06, 1.629968e+06, 1.690924e+06, 1.619795e+06,\n",
       "        1.747675e+06, 2.010328e+06, 2.116032e+06, 1.133782e+06,\n",
       "        3.281370e+05, 2.432940e+05, 8.206600e+04, 2.454200e+04,\n",
       "        7.379000e+03, 1.466000e+03, 2.600000e+02, 9.300000e+01,\n",
       "        6.300000e+01, 6.000000e+01, 6.600000e+01, 6.800000e+01,\n",
       "        5.600000e+01, 7.300000e+01, 6.300000e+01, 5.300000e+01,\n",
       "        7.100000e+01, 4.600000e+01, 2.500000e+01, 1.400000e+01,\n",
       "        1.300000e+01, 1.900000e+01, 1.100000e+01, 1.300000e+01,\n",
       "        1.200000e+01, 7.000000e+00]),\n",
       " array([1.77815125, 1.91499653, 2.05184181, 2.1886871 , 2.32553238,\n",
       "        2.46237766, 2.59922294, 2.73606822, 2.87291351, 3.00975879,\n",
       "        3.14660407, 3.28344935, 3.42029463, 3.55713992, 3.6939852 ,\n",
       "        3.83083048, 3.96767576, 4.10452104, 4.24136633, 4.37821161,\n",
       "        4.51505689, 4.65190217, 4.78874745, 4.92559274, 5.06243802,\n",
       "        5.1992833 , 5.33612858, 5.47297386, 5.60981915, 5.74666443,\n",
       "        5.88350971, 6.02035499, 6.15720027, 6.29404556, 6.43089084,\n",
       "        6.56773612, 6.7045814 , 6.84142668, 6.97827197, 7.11511725,\n",
       "        7.25196253, 7.38880781, 7.52565309, 7.66249838, 7.79934366,\n",
       "        7.93618894, 8.07303422, 8.2098795 , 8.34672479, 8.48357007,\n",
       "        8.62041535]),\n",
       " <BarContainer object of 50 artists>)"
      ]
     },
     "execution_count": 16,
     "metadata": {},
     "output_type": "execute_result"
    },
    {
     "data": {
      "image/png": "[encoded data removed]",
      "text/plain": [
       "<Figure size 640x480 with 1 Axes>"
      ]
     },
     "metadata": {},
     "output_type": "display_data"
    }
   ],
   "source": [
    "import numpy as np\n",
    "plt.hist(np.log(df_cct_1[\"delta_t_s\"].to_numpy())/np.log(10),bins=50) #plot distribution of time intervals\n",
    "#abscisse : log10 time_interval_in_seconds"
   ]
  },
  {
   "cell_type": "code",
   "execution_count": 17,
   "metadata": {},
   "outputs": [
    {
     "data": {
      "text/plain": [
       "65925.91032726587"
      ]
     },
     "execution_count": 17,
     "metadata": {},
     "output_type": "execute_result"
    }
   ],
   "source": [
    "df_cct[\"delta_t_s_card\"].mean()  #average time between two transactions of same card ~ 18 hourspo"
   ]
  },
  {
   "cell_type": "markdown",
   "metadata": {},
   "source": [
    "## II. Ratio amount of transaction over daily income"
   ]
  },
  {
   "cell_type": "code",
   "execution_count": 18,
   "metadata": {},
   "outputs": [],
   "source": [
    "import numpy as np"
   ]
  },
  {
   "cell_type": "code",
   "execution_count": 19,
   "metadata": {},
   "outputs": [],
   "source": [
    "df_users = pd.read_csv(\"/home/onyxia/work/sd254_users.csv\")\n",
    "df_users['Yearly Income - Person'] = df_users['Yearly Income - Person'].str.replace(\"$\",\"\")\n",
    "df_users[\"day_income\"] = df_users['Yearly Income - Person'].astype(np.int)/365\n",
    "df_users.reset_index(inplace=True)\n",
    "df_users.rename(columns={\"index\":\"User\"},inplace=True)\n",
    "df_cct[\"amt/day_income\"] = df_cct[\"Amount\"]/pd.merge(df_cct,df_users[[\"User\",\"day_income\"]], on=\"User\",how=\"left\")[\"day_income\"]\n"
   ]
  },
  {
   "cell_type": "markdown",
   "metadata": {},
   "source": [
    "## III. Daily amount"
   ]
  },
  {
   "cell_type": "code",
   "execution_count": 20,
   "metadata": {},
   "outputs": [],
   "source": [
    "def calc_rolling_sum(dataf, column=None, setting='1D'):\n",
    "    return (dataf\n",
    "            .groupby('User')[column]\n",
    "            .transform(lambda d: d.rolling(setting, min_periods=1).sum())) #absolute sum of amounts"
   ]
  },
  {
   "cell_type": "code",
   "execution_count": 21,
   "metadata": {},
   "outputs": [],
   "source": [
    "df_cct[\"abs_amount\"] = df_cct[\"Amount\"].abs() #absolute value of transaction's amount"
   ]
  },
  {
   "cell_type": "code",
   "execution_count": 22,
   "metadata": {},
   "outputs": [],
   "source": [
    "df_cct[\"daily_amount\"] = (df_cct\n",
    ".set_index('date')\n",
    ".assign(daily_amount=lambda d: calc_rolling_sum(d, column='abs_amount')))[\"daily_amount\"].values"
   ]
  },
  {
   "cell_type": "markdown",
   "metadata": {},
   "source": [
    "## IV. Daily number of declines per card"
   ]
  },
  {
   "cell_type": "code",
   "execution_count": 23,
   "metadata": {},
   "outputs": [],
   "source": [
    "def calc_rolling_decline(dataf, column=None, setting='1D'):\n",
    "    return (dataf\n",
    "        .groupby(['User',\"Card\"])[column]\n",
    "        .transform(lambda d: d.rolling(setting, min_periods=1).count()))"
   ]
  },
  {
   "cell_type": "code",
   "execution_count": 24,
   "metadata": {},
   "outputs": [],
   "source": [
    "df_cct[\"nb_daily_declines_card\"] = (df_cct\n",
    ".set_index('date')\n",
    ".assign(nb_daily_declines_card=lambda d: calc_rolling_decline(d, column=\"Errors?\")))[\"nb_daily_declines_card\"].values"
   ]
  },
  {
   "cell_type": "markdown",
   "metadata": {},
   "source": [
    "## V. Bad_pin"
   ]
  },
  {
   "cell_type": "code",
   "execution_count": 25,
   "metadata": {},
   "outputs": [],
   "source": [
    "bad_pin = ['Bad PIN','Bad PIN,Insufficient Balance','Bad PIN,Technical Glitch']"
   ]
  },
  {
   "cell_type": "code",
   "execution_count": 26,
   "metadata": {},
   "outputs": [],
   "source": [
    "df_cct[\"bad_pin\"] = df_cct[\"Errors?\"].apply(lambda x: 1 if x in bad_pin else 0)"
   ]
  },
  {
   "cell_type": "markdown",
   "metadata": {},
   "source": [
    "## VI. Insufficient balance"
   ]
  },
  {
   "cell_type": "code",
   "execution_count": 27,
   "metadata": {},
   "outputs": [],
   "source": [
    "insufficient_balance = ['Insufficient Balance','Bad PIN,Insufficient Balance',\n",
    "'Insufficient Balance,Technical Glitch','Bad Card Number,Insufficient Balance',\n",
    "'Bad CVV,Insufficient Balance','Bad Expiration,Insufficient Balance',\n",
    "'Bad Zipcode,Insufficient Balance','Bad Card Number,Bad Expiration,Insufficient Balance']"
   ]
  },
  {
   "cell_type": "code",
   "execution_count": 28,
   "metadata": {},
   "outputs": [],
   "source": [
    "df_cct[\"insufficient_balance\"] = df_cct[\"Errors?\"].apply(lambda x: 1 if x in insufficient_balance else 0)"
   ]
  },
  {
   "cell_type": "markdown",
   "metadata": {},
   "source": [
    "## VII. Ratio Number of transaction per hour over average number of transactions per hour during the last 30 days"
   ]
  },
  {
   "cell_type": "code",
   "execution_count": 29,
   "metadata": {},
   "outputs": [],
   "source": [
    "def calc_rolling_nbt_h(dataf, column=None, setting='1H'):\n",
    "    return (dataf\n",
    "            .groupby(['User','Card'])[column]\n",
    "            .transform(lambda d: d.rolling(setting, min_periods=1).count()))"
   ]
  },
  {
   "cell_type": "code",
   "execution_count": 30,
   "metadata": {},
   "outputs": [],
   "source": [
    "df_cct[\"hourly_nbt\"] = (df_cct\n",
    ".set_index('timestamp')\n",
    ".assign(hourly_nbt=lambda d: calc_rolling_nbt_h(d, column= \"Amount\")))[\"hourly_nbt\"].values"
   ]
  },
  {
   "cell_type": "code",
   "execution_count": 31,
   "metadata": {},
   "outputs": [],
   "source": [
    "def calc_rolling_av_30d_nbt(dataf, column=None, setting='30D'):\n",
    "    return (dataf\n",
    "            .groupby(['User','Card'])[column]\n",
    "            .transform(lambda d: d.rolling(setting, min_periods=1).mean()))"
   ]
  },
  {
   "cell_type": "code",
   "execution_count": 32,
   "metadata": {},
   "outputs": [],
   "source": [
    "df_cct[\"last_30_days_av_hourly_nbt\"] = (df_cct\n",
    ".set_index('timestamp')\n",
    ".assign(last_30_days_av_hourly_nbt=lambda d: calc_rolling_av_30d_nbt(d, column= \"hourly_nbt\")))[\"last_30_days_av_hourly_nbt\"].values"
   ]
  },
  {
   "cell_type": "code",
   "execution_count": 33,
   "metadata": {},
   "outputs": [],
   "source": [
    "df_cct[\"hr_nbt/last_30d_av_hr_nbt\"] = df_cct[\"hourly_nbt\"]/df_cct[\"last_30_days_av_hourly_nbt\"]"
   ]
  },
  {
   "cell_type": "markdown",
   "metadata": {},
   "source": [
    "## VIII. Number of transactions per card for the last 18hr"
   ]
  },
  {
   "cell_type": "code",
   "execution_count": 34,
   "metadata": {},
   "outputs": [],
   "source": [
    "def calc_rolling_18h_nbt(dataf, column=None, setting='18H'):\n",
    "    return (dataf\n",
    "            .groupby(['User','Card'])[column]\n",
    "            .transform(lambda d: d.rolling(setting, min_periods=1).count()))"
   ]
  },
  {
   "cell_type": "code",
   "execution_count": 35,
   "metadata": {},
   "outputs": [],
   "source": [
    "df_cct[\"last_18h_nbt\"] = (df_cct\n",
    ".set_index('timestamp')\n",
    ".assign(last_18h_nbt=lambda d: calc_rolling_18h_nbt(d, column= \"Amount\")))[\"last_18h_nbt\"].values"
   ]
  },
  {
   "cell_type": "markdown",
   "metadata": {},
   "source": [
    "## IX. Ratio number of transactions over total amount of transactions for the 3 last days"
   ]
  },
  {
   "cell_type": "code",
   "execution_count": 36,
   "metadata": {},
   "outputs": [],
   "source": [
    "def calc_rolling_3d_nbt(dataf, column=None, setting='3D'):\n",
    "    return (dataf\n",
    "            .groupby(['User','Card'])[column]\n",
    "            .transform(lambda d: d.rolling(setting, min_periods=1).count()))"
   ]
  },
  {
   "cell_type": "code",
   "execution_count": 37,
   "metadata": {},
   "outputs": [],
   "source": [
    "df_cct[\"last_3d_nbt\"] = (df_cct\n",
    ".set_index('date')\n",
    ".assign(last_3d_nbt=lambda d: calc_rolling_3d_nbt(d, column= \"Amount\")))[\"last_3d_nbt\"].values"
   ]
  },
  {
   "cell_type": "code",
   "execution_count": 38,
   "metadata": {},
   "outputs": [],
   "source": [
    "def calc_rolling_3d_sum(dataf, column=None, setting='3D'):\n",
    "    return (dataf\n",
    "            .groupby(['User',\"Card\"])[column]\n",
    "            .transform(lambda d: d.rolling(setting, min_periods=1).sum())) "
   ]
  },
  {
   "cell_type": "code",
   "execution_count": 39,
   "metadata": {},
   "outputs": [],
   "source": [
    "df_cct[\"last_3d_amt\"] = (df_cct\n",
    ".set_index('date')\n",
    ".assign(last_3d_amt=lambda d: calc_rolling_3d_sum(d, column='abs_amount')))[\"last_3d_amt\"].values"
   ]
  },
  {
   "cell_type": "code",
   "execution_count": 40,
   "metadata": {},
   "outputs": [],
   "source": [
    "df_cct[\"last_3d_nbt/amt\"] = df_cct[\"last_3d_nbt\"]/df_cct[\"last_3d_amt\"]\n"
   ]
  },
  {
   "cell_type": "markdown",
   "metadata": {},
   "source": [
    "## X. Final"
   ]
  },
  {
   "cell_type": "code",
   "execution_count": 41,
   "metadata": {},
   "outputs": [],
   "source": [
    "df_cct_final = df_cct[['User', 'Card', 'Hours', 'Amount', 'Use Chip', 'Merchant State', 'MCC',\n",
    "       'delta_t_s', 'delta_t_s_card', 'amt/day_income',\n",
    "       'daily_amount', 'nb_daily_declines_card', 'bad_pin', 'insufficient_balance',\n",
    "       'hr_nbt/last_30d_av_hr_nbt',\n",
    "       'last_18h_nbt','Is Fraud?']] #selecting final features to be used for ML models"
   ]
  },
  {
   "cell_type": "code",
   "execution_count": 42,
   "metadata": {},
   "outputs": [
    {
     "data": {
      "text/html": [
       "<div>\n",
       "<style scoped>\n",
       "    .dataframe tbody tr th:only-of-type {\n",
       "        vertical-align: middle;\n",
       "    }\n",
       "\n",
       "    .dataframe tbody tr th {\n",
       "        vertical-align: top;\n",
       "    }\n",
       "\n",
       "    .dataframe thead th {\n",
       "        text-align: right;\n",
       "    }\n",
       "</style>\n",
       "<table border=\"1\" class=\"dataframe\">\n",
       "  <thead>\n",
       "    <tr style=\"text-align: right;\">\n",
       "      <th></th>\n",
       "      <th>User</th>\n",
       "      <th>Card</th>\n",
       "      <th>Hours</th>\n",
       "      <th>Amount</th>\n",
       "      <th>Use Chip</th>\n",
       "      <th>Merchant State</th>\n",
       "      <th>MCC</th>\n",
       "      <th>delta_t_s</th>\n",
       "      <th>delta_t_s_card</th>\n",
       "      <th>amt/day_income</th>\n",
       "      <th>daily_amount</th>\n",
       "      <th>nb_daily_declines_card</th>\n",
       "      <th>bad_pin</th>\n",
       "      <th>insufficient_balance</th>\n",
       "      <th>hr_nbt/last_30d_av_hr_nbt</th>\n",
       "      <th>last_18h_nbt</th>\n",
       "      <th>Is Fraud?</th>\n",
       "    </tr>\n",
       "  </thead>\n",
       "  <tbody>\n",
       "    <tr>\n",
       "      <th>0</th>\n",
       "      <td>0</td>\n",
       "      <td>0</td>\n",
       "      <td>6</td>\n",
       "      <td>134.09</td>\n",
       "      <td>Swipe Transaction</td>\n",
       "      <td>CA</td>\n",
       "      <td>5300</td>\n",
       "      <td>0</td>\n",
       "      <td>0</td>\n",
       "      <td>0.819868</td>\n",
       "      <td>134.09</td>\n",
       "      <td>0.0</td>\n",
       "      <td>0</td>\n",
       "      <td>0</td>\n",
       "      <td>1.000000</td>\n",
       "      <td>1.0</td>\n",
       "      <td>0</td>\n",
       "    </tr>\n",
       "    <tr>\n",
       "      <th>1</th>\n",
       "      <td>0</td>\n",
       "      <td>0</td>\n",
       "      <td>6</td>\n",
       "      <td>38.48</td>\n",
       "      <td>Swipe Transaction</td>\n",
       "      <td>CA</td>\n",
       "      <td>5411</td>\n",
       "      <td>1260</td>\n",
       "      <td>1260</td>\n",
       "      <td>0.235279</td>\n",
       "      <td>172.57</td>\n",
       "      <td>0.0</td>\n",
       "      <td>0</td>\n",
       "      <td>0</td>\n",
       "      <td>1.333333</td>\n",
       "      <td>2.0</td>\n",
       "      <td>0</td>\n",
       "    </tr>\n",
       "    <tr>\n",
       "      <th>2</th>\n",
       "      <td>0</td>\n",
       "      <td>0</td>\n",
       "      <td>6</td>\n",
       "      <td>120.34</td>\n",
       "      <td>Swipe Transaction</td>\n",
       "      <td>CA</td>\n",
       "      <td>5411</td>\n",
       "      <td>85200</td>\n",
       "      <td>85200</td>\n",
       "      <td>0.735796</td>\n",
       "      <td>120.34</td>\n",
       "      <td>0.0</td>\n",
       "      <td>0</td>\n",
       "      <td>0</td>\n",
       "      <td>0.750000</td>\n",
       "      <td>1.0</td>\n",
       "      <td>0</td>\n",
       "    </tr>\n",
       "    <tr>\n",
       "      <th>3</th>\n",
       "      <td>0</td>\n",
       "      <td>0</td>\n",
       "      <td>17</td>\n",
       "      <td>128.95</td>\n",
       "      <td>Swipe Transaction</td>\n",
       "      <td>CA</td>\n",
       "      <td>5651</td>\n",
       "      <td>40980</td>\n",
       "      <td>40980</td>\n",
       "      <td>0.788441</td>\n",
       "      <td>249.29</td>\n",
       "      <td>0.0</td>\n",
       "      <td>0</td>\n",
       "      <td>0</td>\n",
       "      <td>0.800000</td>\n",
       "      <td>2.0</td>\n",
       "      <td>0</td>\n",
       "    </tr>\n",
       "    <tr>\n",
       "      <th>4</th>\n",
       "      <td>0</td>\n",
       "      <td>0</td>\n",
       "      <td>6</td>\n",
       "      <td>104.71</td>\n",
       "      <td>Swipe Transaction</td>\n",
       "      <td>CA</td>\n",
       "      <td>5912</td>\n",
       "      <td>45480</td>\n",
       "      <td>45480</td>\n",
       "      <td>0.640230</td>\n",
       "      <td>104.71</td>\n",
       "      <td>0.0</td>\n",
       "      <td>0</td>\n",
       "      <td>0</td>\n",
       "      <td>0.833333</td>\n",
       "      <td>2.0</td>\n",
       "      <td>0</td>\n",
       "    </tr>\n",
       "    <tr>\n",
       "      <th>...</th>\n",
       "      <td>...</td>\n",
       "      <td>...</td>\n",
       "      <td>...</td>\n",
       "      <td>...</td>\n",
       "      <td>...</td>\n",
       "      <td>...</td>\n",
       "      <td>...</td>\n",
       "      <td>...</td>\n",
       "      <td>...</td>\n",
       "      <td>...</td>\n",
       "      <td>...</td>\n",
       "      <td>...</td>\n",
       "      <td>...</td>\n",
       "      <td>...</td>\n",
       "      <td>...</td>\n",
       "      <td>...</td>\n",
       "      <td>...</td>\n",
       "    </tr>\n",
       "    <tr>\n",
       "      <th>24386895</th>\n",
       "      <td>1999</td>\n",
       "      <td>1</td>\n",
       "      <td>22</td>\n",
       "      <td>-54.00</td>\n",
       "      <td>Chip Transaction</td>\n",
       "      <td>NH</td>\n",
       "      <td>5541</td>\n",
       "      <td>300</td>\n",
       "      <td>300</td>\n",
       "      <td>-0.299049</td>\n",
       "      <td>369.71</td>\n",
       "      <td>0.0</td>\n",
       "      <td>0</td>\n",
       "      <td>0</td>\n",
       "      <td>1.610738</td>\n",
       "      <td>7.0</td>\n",
       "      <td>0</td>\n",
       "    </tr>\n",
       "    <tr>\n",
       "      <th>24386896</th>\n",
       "      <td>1999</td>\n",
       "      <td>1</td>\n",
       "      <td>22</td>\n",
       "      <td>54.00</td>\n",
       "      <td>Chip Transaction</td>\n",
       "      <td>NH</td>\n",
       "      <td>5541</td>\n",
       "      <td>60</td>\n",
       "      <td>60</td>\n",
       "      <td>0.299049</td>\n",
       "      <td>423.71</td>\n",
       "      <td>0.0</td>\n",
       "      <td>0</td>\n",
       "      <td>0</td>\n",
       "      <td>2.388158</td>\n",
       "      <td>8.0</td>\n",
       "      <td>0</td>\n",
       "    </tr>\n",
       "    <tr>\n",
       "      <th>24386897</th>\n",
       "      <td>1999</td>\n",
       "      <td>1</td>\n",
       "      <td>7</td>\n",
       "      <td>59.15</td>\n",
       "      <td>Chip Transaction</td>\n",
       "      <td>NH</td>\n",
       "      <td>4121</td>\n",
       "      <td>33540</td>\n",
       "      <td>33540</td>\n",
       "      <td>0.327569</td>\n",
       "      <td>59.15</td>\n",
       "      <td>0.0</td>\n",
       "      <td>0</td>\n",
       "      <td>0</td>\n",
       "      <td>0.796053</td>\n",
       "      <td>6.0</td>\n",
       "      <td>0</td>\n",
       "    </tr>\n",
       "    <tr>\n",
       "      <th>24386898</th>\n",
       "      <td>1999</td>\n",
       "      <td>1</td>\n",
       "      <td>20</td>\n",
       "      <td>43.12</td>\n",
       "      <td>Chip Transaction</td>\n",
       "      <td>NH</td>\n",
       "      <td>4121</td>\n",
       "      <td>44820</td>\n",
       "      <td>44820</td>\n",
       "      <td>0.238796</td>\n",
       "      <td>102.27</td>\n",
       "      <td>0.0</td>\n",
       "      <td>0</td>\n",
       "      <td>0</td>\n",
       "      <td>0.794702</td>\n",
       "      <td>2.0</td>\n",
       "      <td>0</td>\n",
       "    </tr>\n",
       "    <tr>\n",
       "      <th>24386899</th>\n",
       "      <td>1999</td>\n",
       "      <td>1</td>\n",
       "      <td>23</td>\n",
       "      <td>45.13</td>\n",
       "      <td>Chip Transaction</td>\n",
       "      <td>NH</td>\n",
       "      <td>5814</td>\n",
       "      <td>10800</td>\n",
       "      <td>10800</td>\n",
       "      <td>0.249927</td>\n",
       "      <td>147.40</td>\n",
       "      <td>0.0</td>\n",
       "      <td>0</td>\n",
       "      <td>0</td>\n",
       "      <td>0.796053</td>\n",
       "      <td>3.0</td>\n",
       "      <td>0</td>\n",
       "    </tr>\n",
       "  </tbody>\n",
       "</table>\n",
       "<p>24386900 rows × 17 columns</p>\n",
       "</div>"
      ],
      "text/plain": [
       "          User  Card  Hours  Amount           Use Chip Merchant State   MCC  \\\n",
       "0            0     0      6  134.09  Swipe Transaction             CA  5300   \n",
       "1            0     0      6   38.48  Swipe Transaction             CA  5411   \n",
       "2            0     0      6  120.34  Swipe Transaction             CA  5411   \n",
       "3            0     0     17  128.95  Swipe Transaction             CA  5651   \n",
       "4            0     0      6  104.71  Swipe Transaction             CA  5912   \n",
       "...        ...   ...    ...     ...                ...            ...   ...   \n",
       "24386895  1999     1     22  -54.00   Chip Transaction             NH  5541   \n",
       "24386896  1999     1     22   54.00   Chip Transaction             NH  5541   \n",
       "24386897  1999     1      7   59.15   Chip Transaction             NH  4121   \n",
       "24386898  1999     1     20   43.12   Chip Transaction             NH  4121   \n",
       "24386899  1999     1     23   45.13   Chip Transaction             NH  5814   \n",
       "\n",
       "          delta_t_s  delta_t_s_card  amt/day_income  daily_amount  \\\n",
       "0                 0               0        0.819868        134.09   \n",
       "1              1260            1260        0.235279        172.57   \n",
       "2             85200           85200        0.735796        120.34   \n",
       "3             40980           40980        0.788441        249.29   \n",
       "4             45480           45480        0.640230        104.71   \n",
       "...             ...             ...             ...           ...   \n",
       "24386895        300             300       -0.299049        369.71   \n",
       "24386896         60              60        0.299049        423.71   \n",
       "24386897      33540           33540        0.327569         59.15   \n",
       "24386898      44820           44820        0.238796        102.27   \n",
       "24386899      10800           10800        0.249927        147.40   \n",
       "\n",
       "          nb_daily_declines_card  bad_pin  insufficient_balance  \\\n",
       "0                            0.0        0                     0   \n",
       "1                            0.0        0                     0   \n",
       "2                            0.0        0                     0   \n",
       "3                            0.0        0                     0   \n",
       "4                            0.0        0                     0   \n",
       "...                          ...      ...                   ...   \n",
       "24386895                     0.0        0                     0   \n",
       "24386896                     0.0        0                     0   \n",
       "24386897                     0.0        0                     0   \n",
       "24386898                     0.0        0                     0   \n",
       "24386899                     0.0        0                     0   \n",
       "\n",
       "          hr_nbt/last_30d_av_hr_nbt  last_18h_nbt Is Fraud?  \n",
       "0                          1.000000           1.0         0  \n",
       "1                          1.333333           2.0         0  \n",
       "2                          0.750000           1.0         0  \n",
       "3                          0.800000           2.0         0  \n",
       "4                          0.833333           2.0         0  \n",
       "...                             ...           ...       ...  \n",
       "24386895                   1.610738           7.0         0  \n",
       "24386896                   2.388158           8.0         0  \n",
       "24386897                   0.796053           6.0         0  \n",
       "24386898                   0.794702           2.0         0  \n",
       "24386899                   0.796053           3.0         0  \n",
       "\n",
       "[24386900 rows x 17 columns]"
      ]
     },
     "execution_count": 42,
     "metadata": {},
     "output_type": "execute_result"
    }
   ],
   "source": [
    "df_cct_final"
   ]
  },
  {
   "cell_type": "code",
   "execution_count": 43,
   "metadata": {},
   "outputs": [],
   "source": [
    "df_cct_final.to_parquet(\"/home/onyxia/work/cct_final.parquet\")"
   ]
  }
 ],
 "metadata": {
  "kernelspec": {
   "display_name": "base",
   "language": "python",
   "name": "python3"
  },
  "language_info": {
   "codemirror_mode": {
    "name": "ipython",
    "version": 3
   },
   "file_extension": ".py",
   "mimetype": "text/x-python",
   "name": "python",
   "nbconvert_exporter": "python",
   "pygments_lexer": "ipython3",
   "version": "3.10.4"
  },
  "orig_nbformat": 4,
  "vscode": {
   "interpreter": {
    "hash": "3fa046f995eb80ac40c0869a1f9df46519f4ada8b8c395ef25dd1aa1a1a2fc63"
   }
  }
 },
 "nbformat": 4,
 "nbformat_minor": 2
}
