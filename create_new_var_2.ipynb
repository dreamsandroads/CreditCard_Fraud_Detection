{
 "cells": [
  {
   "cell_type": "code",
   "execution_count": 20,
   "metadata": {},
   "outputs": [],
   "source": [
    "import os\n",
    "import dask.dataframe as dd\n",
    "import datetime as dt\n",
    "import pandas as pd\n",
    "import warnings\n",
    "warnings.filterwarnings(\"ignore\")"
   ]
  },
  {
   "cell_type": "code",
   "execution_count": 21,
   "metadata": {},
   "outputs": [],
   "source": [
    "#Ouverture des bases de données\n",
    "df_cct = pd.read_parquet(\"/home/onyxia/work/cct.parquet\")\n"
   ]
  },
  {
   "cell_type": "code",
   "execution_count": 22,
   "metadata": {},
   "outputs": [],
   "source": [
    "#Un peu de nettoyage\n",
    "\n",
    "df_cct[\"Amount\"] = df_cct[\"Amount\"].str.replace(\"$\",\"\")\n",
    "df_cct[\"Amount\"] = df_cct[\"Amount\"].astype(float)\n",
    "df_cct[\"Is Fraud?\"].mask(df_cct[\"Is Fraud?\"] == \"Yes\", 1 , inplace = True)\n",
    "df_cct[\"Is Fraud?\"].mask(df_cct[\"Is Fraud?\"] == \"No\", 0 , inplace = True)"
   ]
  },
  {
   "cell_type": "code",
   "execution_count": 40,
   "metadata": {},
   "outputs": [],
   "source": [
    "df_fraud = df_cct[df_cct[\"Is Fraud?\"] == 1]"
   ]
  },
  {
   "cell_type": "code",
   "execution_count": 41,
   "metadata": {},
   "outputs": [],
   "source": [
    "df_not_fraud = df_cct[df_cct[\"Is Fraud?\"] == 0]"
   ]
  },
  {
   "cell_type": "markdown",
   "metadata": {},
   "source": [
    "## I. Time intervals between transactions"
   ]
  },
  {
   "cell_type": "code",
   "execution_count": 25,
   "metadata": {},
   "outputs": [],
   "source": [
    "#Création des variables 'timestamp', 'delta_t_s' et 'delta_t_s_card'\n",
    "def time(dataframe):\n",
    "   dataframe[['Hours', 'Minutes']] = dataframe.Time.str.split(\":\", n=1, expand=True) #scinder la colonne Time en 2\n",
    "   dataframe[\"Hours\"] = dataframe[\"Hours\"].astype(int)\n",
    "   dataframe[\"Minutes\"] = dataframe[\"Minutes\"].astype(int)\n",
    "   #Créer une colonne 'Timestamp' : format année, mois, jour, heure, minute:\n",
    "   timestamp = pd.to_datetime(dataframe[[\"Year\",'Month','Day','Hours','Minutes']], format = '%Y:%M:%D%:%H:%M')\n",
    "   date = pd.to_datetime(dataframe[[\"Year\",'Month','Day']], format = '%Y:%M:%D%')\n",
    "   dataframe[\"date\"] = date.values\n",
    "   dataframe[\"timestamp\"] = timestamp.values\n",
    "   dataframe[\"delta_t_card\"] = (timestamp-timestamp.shift()) #calculer l'intervalle de temps entre\n",
    "   #deux transactions de la même carte et du même user\n",
    "\n",
    "   #Convertir delta_t_card en secondes et mettre à 0 les temps négatifs \n",
    "   #(ici, dataframe ordonné en fonction de l'user et de la carte, et non de la chronologie):\n",
    "   dataframe[\"delta_t_s_card\"] = dataframe[\"delta_t_card\"].dt.total_seconds().fillna(0).astype(int)\n",
    "   dataframe[\"delta_t_s_card\"] = dataframe[\"delta_t_s_card\"].mask(dataframe[\"delta_t_s_card\"] < 0, 0)\n",
    "\n",
    "   #Réordonner les transactions en fonction du User et de la chronoogie de ses transactions : \n",
    "   dataframe = dataframe.sort_values([\"User\", \"Year\",\"Month\",\"Day\",\"Hours\",\"Minutes\"], ascending=[True,True,True,True,True,True]).reset_index(drop=True)\n",
    "   timestamp2 = pd.to_datetime(dataframe[[\"Year\",'Month','Day','Hours','Minutes']], format = '%Y:%M:%D%:%H:%M')\n",
    "   dataframe['delta_t'] = (timestamp2-timestamp2.shift()) #différence de temps entre deux transactions du même user\n",
    "   dataframe[\"delta_t_s\"] = dataframe[\"delta_t\"].dt.total_seconds().fillna(0).astype(int) #pour la première\n",
    "   #transaction, fixer le delta_t_s à 0\n",
    "   dataframe = dataframe[['User', 'Card', 'date', 'timestamp', 'Hours', 'Amount', 'Use Chip',\n",
    "       'Merchant Name', 'Merchant City', 'Merchant State', 'Zip', 'MCC',\n",
    "       'Errors?', 'delta_t_s','delta_t_s_card','Is Fraud?']] #ordonner et sélectionner les colonnes\n",
    "   \n",
    "   return dataframe\n",
    "\n"
   ]
  },
  {
   "cell_type": "code",
   "execution_count": 26,
   "metadata": {},
   "outputs": [],
   "source": [
    "df_cct = time(df_cct)"
   ]
  },
  {
   "cell_type": "markdown",
   "metadata": {},
   "source": [
    "## II. Ratio amount of transaction over daily income"
   ]
  },
  {
   "cell_type": "code",
   "execution_count": 27,
   "metadata": {},
   "outputs": [],
   "source": [
    "import numpy as np"
   ]
  },
  {
   "cell_type": "code",
   "execution_count": 28,
   "metadata": {},
   "outputs": [],
   "source": [
    "df_users = pd.read_csv(\"/home/onyxia/work/sd254_users.csv\")\n",
    "df_users['Yearly Income - Person'] = df_users['Yearly Income - Person'].str.replace(\"$\",\"\")\n",
    "df_users[\"day_income\"] = df_users['Yearly Income - Person'].astype(np.int)/365\n",
    "df_users.reset_index(inplace=True)\n",
    "df_users.rename(columns={\"index\":\"User\"},inplace=True)\n",
    "df_cct[\"amt/day_income\"] = df_cct[\"Amount\"]/pd.merge(df_cct,df_users[[\"User\",\"day_income\"]], on=\"User\",how=\"left\")[\"day_income\"]\n"
   ]
  },
  {
   "cell_type": "markdown",
   "metadata": {},
   "source": [
    "## III. Daily amount"
   ]
  },
  {
   "cell_type": "code",
   "execution_count": 29,
   "metadata": {},
   "outputs": [],
   "source": [
    "def calc_rolling_sum(dataf, column=None, setting='1D'):\n",
    "    return (dataf\n",
    "            .groupby('User')[column]\n",
    "            .transform(lambda d: d.rolling(setting, min_periods=1).sum()))"
   ]
  },
  {
   "cell_type": "code",
   "execution_count": 35,
   "metadata": {},
   "outputs": [],
   "source": [
    "df_cct[\"daily_amount\"] = (df_cct\n",
    ".set_index('date')\n",
    ".assign(daily_amount=lambda d: calc_rolling_sum(d, column='Amount')))[\"daily_amount\"].values"
   ]
  },
  {
   "cell_type": "markdown",
   "metadata": {},
   "source": [
    "## IV. Daily number of declines per card"
   ]
  },
  {
   "cell_type": "code",
   "execution_count": 52,
   "metadata": {},
   "outputs": [],
   "source": [
    "def calc_rolling_decline(dataf, column=None, setting='1D'):\n",
    "    return (dataf\n",
    "        .groupby(['User',\"Card\"])[column]\n",
    "        .transform(lambda d: d.rolling(setting, min_periods=1).count()))"
   ]
  },
  {
   "cell_type": "code",
   "execution_count": 54,
   "metadata": {},
   "outputs": [],
   "source": [
    "df_cct[\"nb_daily_declines_card\"] = (df_cct\n",
    ".set_index('date')\n",
    ".assign(nb_daily_declines_card=lambda d: calc_rolling_decline(d, column=\"Errors?\")))[\"nb_daily_declines_card\"].values"
   ]
  },
  {
   "cell_type": "markdown",
   "metadata": {},
   "source": [
    "## V. Ratio Number of transaction per hour over average number of transactions per hour during the last 30 days"
   ]
  },
  {
   "cell_type": "code",
   "execution_count": null,
   "metadata": {},
   "outputs": [],
   "source": [
    "def calc_rolling_nbt(dataf, column=None, setting='30D'):\n",
    "    return (dataf\n",
    "            .groupby(['User','Card'])[column]\n",
    "            .transform(lambda d: d.rolling(setting, min_periods=1).count()))"
   ]
  }
 ],
 "metadata": {
  "kernelspec": {
   "display_name": "base",
   "language": "python",
   "name": "python3"
  },
  "language_info": {
   "codemirror_mode": {
    "name": "ipython",
    "version": 3
   },
   "file_extension": ".py",
   "mimetype": "text/x-python",
   "name": "python",
   "nbconvert_exporter": "python",
   "pygments_lexer": "ipython3",
   "version": "3.10.4"
  },
  "orig_nbformat": 4,
  "vscode": {
   "interpreter": {
    "hash": "3fa046f995eb80ac40c0869a1f9df46519f4ada8b8c395ef25dd1aa1a1a2fc63"
   }
  }
 },
 "nbformat": 4,
 "nbformat_minor": 2
}
