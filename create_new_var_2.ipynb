{
 "cells": [
  {
   "cell_type": "code",
   "execution_count": 1,
   "metadata": {},
   "outputs": [],
   "source": [
    "import os\n",
    "import dask.dataframe as dd\n",
    "import datetime as dt\n",
    "import pandas as pd\n",
    "import warnings\n",
    "warnings.filterwarnings(\"ignore\")"
   ]
  },
  {
   "cell_type": "code",
   "execution_count": 2,
   "metadata": {},
   "outputs": [],
   "source": [
    "#Ouverture des bases de données\n",
    "df_cct = pd.read_parquet(\"/home/onyxia/work/cct.parquet\")\n"
   ]
  },
  {
   "cell_type": "code",
   "execution_count": 3,
   "metadata": {},
   "outputs": [],
   "source": [
    "#Un peu de nettoyage\n",
    "\n",
    "df_cct[\"Amount\"] = df_cct[\"Amount\"].str.replace(\"$\",\"\")\n",
    "df_cct[\"Amount\"] = df_cct[\"Amount\"].astype(float)\n",
    "df_cct[\"Is Fraud?\"].mask(df_cct[\"Is Fraud?\"] == \"Yes\", 1 , inplace = True)\n",
    "df_cct[\"Is Fraud?\"].mask(df_cct[\"Is Fraud?\"] == \"No\", 0 , inplace = True)"
   ]
  },
  {
   "cell_type": "code",
   "execution_count": 4,
   "metadata": {},
   "outputs": [],
   "source": [
    "df_fraud = df_cct[df_cct[\"Is Fraud?\"] == 1]"
   ]
  },
  {
   "cell_type": "code",
   "execution_count": 5,
   "metadata": {},
   "outputs": [],
   "source": [
    "df_not_fraud = df_cct[df_cct[\"Is Fraud?\"] == 0]"
   ]
  },
  {
   "cell_type": "markdown",
   "metadata": {},
   "source": [
    "## 0. Cards"
   ]
  },
  {
   "cell_type": "code",
   "execution_count": 6,
   "metadata": {},
   "outputs": [],
   "source": [
    "df_cards = pd.read_csv(\"/home/onyxia/work/sd254_cards.csv\")\n",
    "df_cards.rename(columns={\"CARD INDEX\" : \"Card\"}, inplace=True)"
   ]
  },
  {
   "cell_type": "code",
   "execution_count": 7,
   "metadata": {},
   "outputs": [],
   "source": [
    "df_cct = pd.merge(df_cct,df_cards[[\"User\", \"Card\", \"Card Brand\", \"Card Type\", \"Credit Limit\", \"Year PIN last Changed\"]], on=[\"User\",\"Card\"], how='left')"
   ]
  },
  {
   "cell_type": "code",
   "execution_count": 8,
   "metadata": {},
   "outputs": [],
   "source": [
    "df_cct[\"Credit Limit\"] = df_cct[\"Credit Limit\"].str.replace(\"$\",\"\")\n",
    "df_cct[\"Credit Limit\"] = df_cct[\"Credit Limit\"].astype(float)"
   ]
  },
  {
   "cell_type": "markdown",
   "metadata": {},
   "source": [
    "## I. Time intervals between transactions"
   ]
  },
  {
   "cell_type": "code",
   "execution_count": 9,
   "metadata": {},
   "outputs": [],
   "source": [
    "#Création des variables 'timestamp', 'delta_t_s' et 'delta_t_s_card'\n",
    "def time(dataframe):\n",
    "   dataframe[['Hours', 'Minutes']] = dataframe.Time.str.split(\":\", n=1, expand=True) #scinder la colonne Time en 2\n",
    "   dataframe[\"Hours\"] = dataframe[\"Hours\"].astype(int)\n",
    "   dataframe[\"Minutes\"] = dataframe[\"Minutes\"].astype(int)\n",
    "   #Créer une colonne 'Timestamp' : format année, mois, jour, heure, minute:\n",
    "   timestamp = pd.to_datetime(dataframe[[\"Year\",'Month','Day','Hours','Minutes']], format = '%Y:%M:%D%:%H:%M')\n",
    "   date = pd.to_datetime(dataframe[[\"Year\",'Month','Day']], format = '%Y:%M:%D%')\n",
    "   dataframe[\"date\"] = date.values\n",
    "   dataframe[\"timestamp\"] = timestamp.values\n",
    "   dataframe[\"delta_t_card\"] = (timestamp-timestamp.shift()) #calculer l'intervalle de temps entre\n",
    "   #deux transactions de la même carte et du même user\n",
    "\n",
    "   #Convertir delta_t_card en secondes et mettre à 0 les temps négatifs \n",
    "   #(ici, dataframe ordonné en fonction de l'user et de la carte, et non de la chronologie):\n",
    "   dataframe[\"delta_t_s_card\"] = dataframe[\"delta_t_card\"].dt.total_seconds().fillna(0).astype(int)\n",
    "   dataframe[\"delta_t_s_card\"] = dataframe[\"delta_t_s_card\"].mask(dataframe[\"delta_t_s_card\"] < 0, 0)\n",
    "\n",
    "   #Réordonner les transactions en fonction du User et de la chronoogie de ses transactions : \n",
    "   dataframe = dataframe.sort_values([\"User\", \"Year\",\"Month\",\"Day\",\"Hours\",\"Minutes\"], ascending=[True,True,True,True,True,True]).reset_index(drop=True)\n",
    "   timestamp2 = pd.to_datetime(dataframe[[\"Year\",'Month','Day','Hours','Minutes']], format = '%Y:%M:%D%:%H:%M')\n",
    "   dataframe['delta_t'] = (timestamp2-timestamp2.shift()) #différence de temps entre deux transactions du même user\n",
    "   dataframe[\"delta_t_s\"] = dataframe[\"delta_t\"].dt.total_seconds().fillna(0).astype(int) #pour la première\n",
    "   #transaction, fixer le delta_t_s à 0\n",
    "   dataframe[\"delta_t_s\"] = dataframe[\"delta_t_s\"].mask(dataframe[\"delta_t_s\"] < 0, 0)\n",
    "\n",
    "   dataframe = dataframe[['User', 'Card', 'date', 'timestamp', 'Year', 'Month', 'Day', 'Hours', 'Amount', 'Use Chip',\n",
    "        \"Card Brand\", \"Card Type\", \"Credit Limit\", \"Year PIN last Changed\",\n",
    "       'Merchant Name', 'Merchant City', 'Merchant State', 'Zip', 'MCC',\n",
    "       'Errors?', 'delta_t_s','delta_t_s_card','Is Fraud?']] #ordonner et sélectionner les colonnes\n",
    "   \n",
    "   return dataframe\n",
    "\n"
   ]
  },
  {
   "cell_type": "code",
   "execution_count": 10,
   "metadata": {},
   "outputs": [],
   "source": [
    "df_cct = time(df_cct)"
   ]
  },
  {
   "cell_type": "markdown",
   "metadata": {},
   "source": [
    "#### 1. Day of the week"
   ]
  },
  {
   "cell_type": "code",
   "execution_count": 11,
   "metadata": {},
   "outputs": [],
   "source": [
    "df_cct['day_of_week'] = df_cct['date'].dt.day_name()"
   ]
  },
  {
   "cell_type": "markdown",
   "metadata": {},
   "source": [
    "#### 2. Analysis of time intervals between transactions"
   ]
  },
  {
   "cell_type": "code",
   "execution_count": 12,
   "metadata": {},
   "outputs": [
    {
     "data": {
      "text/plain": [
       "29590.274720444173"
      ]
     },
     "execution_count": 12,
     "metadata": {},
     "output_type": "execute_result"
    }
   ],
   "source": [
    "df_cct[\"delta_t_s\"].mean() #average time between two transactions ~ 8 hours"
   ]
  },
  {
   "cell_type": "code",
   "execution_count": 13,
   "metadata": {},
   "outputs": [
    {
     "data": {
      "text/plain": [
       "13920.0"
      ]
     },
     "execution_count": 13,
     "metadata": {},
     "output_type": "execute_result"
    }
   ],
   "source": [
    "df_cct[\"delta_t_s\"].median() #median time between two transactions ~ 4 hours"
   ]
  },
  {
   "cell_type": "code",
   "execution_count": 14,
   "metadata": {},
   "outputs": [
    {
     "data": {
      "text/plain": [
       "417268260"
      ]
     },
     "execution_count": 14,
     "metadata": {},
     "output_type": "execute_result"
    }
   ],
   "source": [
    "df_cct[\"delta_t_s\"].max()"
   ]
  },
  {
   "cell_type": "code",
   "execution_count": 15,
   "metadata": {},
   "outputs": [],
   "source": [
    "import matplotlib.pyplot as plt"
   ]
  },
  {
   "cell_type": "code",
   "execution_count": 16,
   "metadata": {},
   "outputs": [],
   "source": [
    "df_cct_1 = df_cct[df_cct[\"delta_t_s\"]> 0]"
   ]
  },
  {
   "cell_type": "code",
   "execution_count": 17,
   "metadata": {},
   "outputs": [
    {
     "data": {
      "text/plain": [
       "Text(0, 0.5, 'count')"
      ]
     },
     "execution_count": 17,
     "metadata": {},
     "output_type": "execute_result"
    },
    {
     "data": {
      "image/png": "[encoded data removed]",
      "text/plain": [
       "<Figure size 640x480 with 1 Axes>"
      ]
     },
     "metadata": {},
     "output_type": "display_data"
    }
   ],
   "source": [
    "import numpy as np\n",
    "plt.hist(np.log(df_cct_1[\"delta_t_s\"].to_numpy())/np.log(10),bins=50) #plot distribution of time intervals\n",
    "#abscisse : log10 time_interval_in_seconds\n",
    "plt.xlabel(\"delta_t_s (log10)\")\n",
    "plt.ylabel(\"count\")\n"
   ]
  },
  {
   "cell_type": "code",
   "execution_count": 18,
   "metadata": {},
   "outputs": [
    {
     "data": {
      "text/plain": [
       "65925.91032726587"
      ]
     },
     "execution_count": 18,
     "metadata": {},
     "output_type": "execute_result"
    }
   ],
   "source": [
    "df_cct[\"delta_t_s_card\"].mean()  #average time between two transactions of same card ~ 18 hours"
   ]
  },
  {
   "cell_type": "code",
   "execution_count": 19,
   "metadata": {},
   "outputs": [],
   "source": [
    "import numpy as np"
   ]
  },
  {
   "cell_type": "markdown",
   "metadata": {},
   "source": [
    "## II. Ratio amount of transaction over daily income"
   ]
  },
  {
   "cell_type": "code",
   "execution_count": 20,
   "metadata": {},
   "outputs": [],
   "source": [
    "df_users = pd.read_csv(\"/home/onyxia/work/sd254_users.csv\")\n",
    "df_users['Yearly Income - Person'] = df_users['Yearly Income - Person'].str.replace(\"$\",\"\")\n",
    "df_users[\"daily_income\"] = df_users['Yearly Income - Person'].astype(np.int)/365\n",
    "df_users.reset_index(inplace=True)\n",
    "df_users.rename(columns={\"index\":\"User\"},inplace=True)\n",
    "df_cct[\"amt/daily_income\"] = df_cct[\"Amount\"]/pd.merge(df_cct,df_users[[\"User\",\"daily_income\"]], on=\"User\",how=\"left\")[\"daily_income\"]\n",
    "\n",
    "# absolute amount? there are about 1 million transactions with negative amounts"
   ]
  },
  {
   "cell_type": "markdown",
   "metadata": {},
   "source": [
    "## III. Retired"
   ]
  },
  {
   "cell_type": "code",
   "execution_count": 21,
   "metadata": {},
   "outputs": [],
   "source": [
    "def retired(row):\n",
    "    if row[\"Current Age\"] >= row[\"Retirement Age\"]:\n",
    "        return 1\n",
    "    else:\n",
    "        return 0"
   ]
  },
  {
   "cell_type": "code",
   "execution_count": 22,
   "metadata": {},
   "outputs": [],
   "source": [
    "df_users.loc[:,\"Retired\"] = df_users.apply(retired, axis=1)"
   ]
  },
  {
   "cell_type": "code",
   "execution_count": 23,
   "metadata": {},
   "outputs": [],
   "source": [
    "df_cct[\"Retired\"] = pd.merge(df_cct,df_users[[\"User\", \"Retired\"]], on = \"User\", how=\"left\")[\"Retired\"]"
   ]
  },
  {
   "cell_type": "markdown",
   "metadata": {},
   "source": [
    "## IV. Daily amount per card"
   ]
  },
  {
   "cell_type": "code",
   "execution_count": 24,
   "metadata": {},
   "outputs": [],
   "source": [
    "def calc_rolling_sum(dataf, column=None, setting='1D'):\n",
    "    return (dataf\n",
    "            .groupby(['User', 'Card'])[column]\n",
    "            .transform(lambda d: d.rolling(setting, min_periods=1).sum())) #absolute sum of amounts"
   ]
  },
  {
   "cell_type": "code",
   "execution_count": 25,
   "metadata": {},
   "outputs": [],
   "source": [
    "df_cct[\"abs_amount\"] = df_cct[\"Amount\"].abs() #absolute value of transaction's amount"
   ]
  },
  {
   "cell_type": "code",
   "execution_count": 26,
   "metadata": {},
   "outputs": [],
   "source": [
    "df_cct[\"daily_amount\"] = (df_cct\n",
    ".set_index('date')\n",
    ".assign(daily_amount=lambda d: calc_rolling_sum(d, column='abs_amount')))[\"daily_amount\"].values"
   ]
  },
  {
   "cell_type": "markdown",
   "metadata": {},
   "source": [
    "## V. Daily, weekly, monthly Declines per card"
   ]
  },
  {
   "cell_type": "code",
   "execution_count": 27,
   "metadata": {},
   "outputs": [],
   "source": [
    "def calc_rolling_decline(dataf, column=None, setting='1D'):\n",
    "    return (dataf\n",
    "        .groupby(['User',\"Card\"])[column]\n",
    "        .transform(lambda d: d.rolling(setting, min_periods=1).count()))"
   ]
  },
  {
   "cell_type": "code",
   "execution_count": 28,
   "metadata": {},
   "outputs": [],
   "source": [
    "def calc_rolling_decline_mth(dataf, column=None, setting='30D'):\n",
    "    return (dataf\n",
    "        .groupby(['User',\"Card\"])[column]\n",
    "        .transform(lambda d: d.rolling(setting, min_periods=1).count()))"
   ]
  },
  {
   "cell_type": "code",
   "execution_count": 29,
   "metadata": {},
   "outputs": [],
   "source": [
    "def calc_rolling_decline_wk(dataf, column=None, setting='7D'):\n",
    "    return (dataf\n",
    "        .groupby(['User',\"Card\"])[column]\n",
    "        .transform(lambda d: d.rolling(setting, min_periods=1).count()))"
   ]
  },
  {
   "cell_type": "code",
   "execution_count": 30,
   "metadata": {},
   "outputs": [],
   "source": [
    "df_cct[\"nb_daily_declines_card\"] = (df_cct\n",
    ".set_index('date')\n",
    ".assign(nb_daily_declines_card=lambda d: calc_rolling_decline(d, column=\"Errors?\")))[\"nb_daily_declines_card\"].values"
   ]
  },
  {
   "cell_type": "code",
   "execution_count": 31,
   "metadata": {},
   "outputs": [],
   "source": [
    "df_cct[\"nb_weekly_declines_card\"] = (df_cct\n",
    ".set_index('date')\n",
    ".assign(nb_weekly_declines_card=lambda d: calc_rolling_decline_wk(d, column=\"Errors?\")))[\"nb_weekly_declines_card\"].values"
   ]
  },
  {
   "cell_type": "code",
   "execution_count": 32,
   "metadata": {},
   "outputs": [],
   "source": [
    "df_cct[\"nb_monthly_declines_card\"] = (df_cct\n",
    ".set_index('date')\n",
    ".assign(nb_monthly_declines_card=lambda d: calc_rolling_decline_mth(d, column=\"Errors?\")))[\"nb_monthly_declines_card\"].values"
   ]
  },
  {
   "cell_type": "markdown",
   "metadata": {},
   "source": [
    "## VI. Bad pin"
   ]
  },
  {
   "cell_type": "code",
   "execution_count": 33,
   "metadata": {},
   "outputs": [],
   "source": [
    "bad_pin = ['Bad PIN','Bad PIN,Insufficient Balance','Bad PIN,Technical Glitch']"
   ]
  },
  {
   "cell_type": "code",
   "execution_count": 34,
   "metadata": {},
   "outputs": [],
   "source": [
    "df_cct[\"bad_pin\"] = df_cct[\"Errors?\"].apply(lambda x: 1 if x in bad_pin else 0)"
   ]
  },
  {
   "cell_type": "markdown",
   "metadata": {},
   "source": [
    "## VII. Insufficient balance"
   ]
  },
  {
   "cell_type": "code",
   "execution_count": 35,
   "metadata": {},
   "outputs": [],
   "source": [
    "insufficient_balance = ['Insufficient Balance','Bad PIN,Insufficient Balance',\n",
    "'Insufficient Balance,Technical Glitch','Bad Card Number,Insufficient Balance',\n",
    "'Bad CVV,Insufficient Balance','Bad Expiration,Insufficient Balance',\n",
    "'Bad Zipcode,Insufficient Balance','Bad Card Number,Bad Expiration,Insufficient Balance']"
   ]
  },
  {
   "cell_type": "code",
   "execution_count": 36,
   "metadata": {},
   "outputs": [],
   "source": [
    "df_cct[\"insufficient_balance\"] = df_cct[\"Errors?\"].apply(lambda x: 1 if x in insufficient_balance else 0)"
   ]
  },
  {
   "cell_type": "markdown",
   "metadata": {},
   "source": [
    "## VIII. Ratio: Number of transaction per hour over average number of transactions per hour during the last 30 days"
   ]
  },
  {
   "cell_type": "code",
   "execution_count": 37,
   "metadata": {},
   "outputs": [],
   "source": [
    "def calc_rolling_nbt_h(dataf, column=None, setting='1H'):\n",
    "    return (dataf\n",
    "            .groupby(['User','Card'])[column]\n",
    "            .transform(lambda d: d.rolling(setting, min_periods=1).count()))"
   ]
  },
  {
   "cell_type": "code",
   "execution_count": 38,
   "metadata": {},
   "outputs": [],
   "source": [
    "df_cct[\"hourly_nbt\"] = (df_cct\n",
    ".set_index('timestamp')\n",
    ".assign(hourly_nbt=lambda d: calc_rolling_nbt_h(d, column= \"Amount\")))[\"hourly_nbt\"].values"
   ]
  },
  {
   "cell_type": "code",
   "execution_count": 39,
   "metadata": {},
   "outputs": [],
   "source": [
    "def calc_rolling_av_30d_nbt(dataf, column=None, setting='30D'):\n",
    "    return (dataf\n",
    "            .groupby(['User','Card'])[column]\n",
    "            .transform(lambda d: d.rolling(setting, min_periods=1).mean()))"
   ]
  },
  {
   "cell_type": "code",
   "execution_count": 40,
   "metadata": {},
   "outputs": [],
   "source": [
    "df_cct[\"last_30_days_av_hourly_nbt\"] = (df_cct\n",
    ".set_index('timestamp')\n",
    ".assign(last_30_days_av_hourly_nbt=lambda d: calc_rolling_av_30d_nbt(d, column= \"hourly_nbt\")))[\"last_30_days_av_hourly_nbt\"].values"
   ]
  },
  {
   "cell_type": "code",
   "execution_count": 41,
   "metadata": {},
   "outputs": [],
   "source": [
    "df_cct[\"hr_nbt/last_30d_av_hr_nbt\"] = df_cct[\"hourly_nbt\"]/df_cct[\"last_30_days_av_hourly_nbt\"]"
   ]
  },
  {
   "cell_type": "markdown",
   "metadata": {},
   "source": [
    "## IX. Ratio: Number of transaction per day over average number of transactions per day during the last 30 days"
   ]
  },
  {
   "cell_type": "code",
   "execution_count": 42,
   "metadata": {},
   "outputs": [],
   "source": [
    "def calc_rolling_nbt_1d(dataf, column=None, setting='1D'):\n",
    "    return (dataf\n",
    "            .groupby(['User','Card'])[column]\n",
    "            .transform(lambda d: d.rolling(setting, min_periods=1).count()))"
   ]
  },
  {
   "cell_type": "code",
   "execution_count": 43,
   "metadata": {},
   "outputs": [],
   "source": [
    "df_cct[\"daily_nbt\"] = (df_cct\n",
    ".set_index('timestamp')\n",
    ".assign(daily_nbt=lambda d: calc_rolling_nbt_1d(d, column= \"Amount\")))[\"daily_nbt\"].values"
   ]
  },
  {
   "cell_type": "code",
   "execution_count": 44,
   "metadata": {},
   "outputs": [],
   "source": [
    "def calc_rolling_av_30d_nbt(dataf, column=None, setting='30D'):\n",
    "    return (dataf\n",
    "            .groupby(['User','Card'])[column]\n",
    "            .transform(lambda d: d.rolling(setting, min_periods=1).mean()))"
   ]
  },
  {
   "cell_type": "code",
   "execution_count": 45,
   "metadata": {},
   "outputs": [],
   "source": [
    "df_cct[\"last_30_days_av_daily_nbt\"] = (df_cct\n",
    ".set_index('timestamp')\n",
    ".assign(last_30_days_av_daily_nbt=lambda d: calc_rolling_av_30d_nbt(d, column= \"daily_nbt\")))[\"last_30_days_av_daily_nbt\"].values"
   ]
  },
  {
   "cell_type": "code",
   "execution_count": 46,
   "metadata": {},
   "outputs": [],
   "source": [
    "df_cct[\"day_nbt/last_30d_av_day_nbt\"] = df_cct[\"daily_nbt\"]/df_cct[\"last_30_days_av_daily_nbt\"]"
   ]
  },
  {
   "cell_type": "markdown",
   "metadata": {},
   "source": [
    "## X. Ratio: total amount of transactions over number of transactions for the 3 last days per card"
   ]
  },
  {
   "cell_type": "code",
   "execution_count": 47,
   "metadata": {},
   "outputs": [],
   "source": [
    "def calc_rolling_3d_nbt(dataf, column=None, setting='3D'):\n",
    "    return (dataf\n",
    "            .groupby(['User','Card'])[column]\n",
    "            .transform(lambda d: d.rolling(setting, min_periods=1).count()))"
   ]
  },
  {
   "cell_type": "code",
   "execution_count": 48,
   "metadata": {},
   "outputs": [],
   "source": [
    "df_cct[\"last_3d_nbt\"] = (df_cct\n",
    ".set_index('date')\n",
    ".assign(last_3d_nbt=lambda d: calc_rolling_3d_nbt(d, column= \"Amount\")))[\"last_3d_nbt\"].values"
   ]
  },
  {
   "cell_type": "code",
   "execution_count": 49,
   "metadata": {},
   "outputs": [],
   "source": [
    "def calc_rolling_3d_sum(dataf, column=None, setting='3D'):\n",
    "    return (dataf\n",
    "            .groupby(['User',\"Card\"])[column]\n",
    "            .transform(lambda d: d.rolling(setting, min_periods=1).sum())) "
   ]
  },
  {
   "cell_type": "code",
   "execution_count": 50,
   "metadata": {},
   "outputs": [],
   "source": [
    "df_cct[\"last_3d_amt\"] = (df_cct\n",
    ".set_index('date')\n",
    ".assign(last_3d_amt=lambda d: calc_rolling_3d_sum(d, column='abs_amount')))[\"last_3d_amt\"].values"
   ]
  },
  {
   "cell_type": "code",
   "execution_count": 51,
   "metadata": {},
   "outputs": [],
   "source": [
    "df_cct[\"last_3d_amt/nbt\"] = df_cct[\"last_3d_amt\"]/df_cct[\"last_3d_nbt\"]\n"
   ]
  },
  {
   "cell_type": "markdown",
   "metadata": {},
   "source": [
    "## XI. Ratio: total amount of transactions over number of transactions since last Thursday/Sunday per card"
   ]
  },
  {
   "cell_type": "code",
   "execution_count": null,
   "metadata": {},
   "outputs": [],
   "source": []
  },
  {
   "cell_type": "markdown",
   "metadata": {},
   "source": [
    "## Final"
   ]
  },
  {
   "cell_type": "code",
   "execution_count": 52,
   "metadata": {},
   "outputs": [
    {
     "data": {
      "text/plain": [
       "Index(['User', 'Card', 'date', 'timestamp', 'Year', 'Month', 'Day', 'Hours',\n",
       "       'Amount', 'Use Chip', 'Card Brand', 'Card Type', 'Credit Limit',\n",
       "       'Year PIN last Changed', 'Merchant Name', 'Merchant City',\n",
       "       'Merchant State', 'Zip', 'MCC', 'Errors?', 'delta_t_s',\n",
       "       'delta_t_s_card', 'Is Fraud?', 'day_of_week', 'amt/daily_income',\n",
       "       'Retired', 'abs_amount', 'daily_amount', 'nb_daily_declines_card',\n",
       "       'nb_weekly_declines_card', 'nb_monthly_declines_card', 'bad_pin',\n",
       "       'insufficient_balance', 'hourly_nbt', 'last_30_days_av_hourly_nbt',\n",
       "       'hr_nbt/last_30d_av_hr_nbt', 'daily_nbt', 'last_30_days_av_daily_nbt',\n",
       "       'day_nbt/last_30d_av_day_nbt', 'last_3d_nbt', 'last_3d_amt',\n",
       "       'last_3d_amt/nbt'],\n",
       "      dtype='object')"
      ]
     },
     "execution_count": 52,
     "metadata": {},
     "output_type": "execute_result"
    }
   ],
   "source": [
    "df_cct.columns"
   ]
  },
  {
   "cell_type": "code",
   "execution_count": 55,
   "metadata": {},
   "outputs": [],
   "source": [
    "df_cct_final = df_cct[['User', 'Card', 'Year', 'Month', 'Day', 'Hours',\n",
    "       'Amount', 'Use Chip', 'Card Brand', 'Card Type', 'Credit Limit',\n",
    "       'Year PIN last Changed', 'Merchant City',\n",
    "       'Merchant State', 'delta_t_s',\n",
    "       'delta_t_s_card', 'day_of_week', 'amt/daily_income',\n",
    "       'Retired', 'daily_amount', 'nb_daily_declines_card',\n",
    "       'nb_weekly_declines_card', 'nb_monthly_declines_card', 'bad_pin',\n",
    "       'insufficient_balance',\n",
    "       'hr_nbt/last_30d_av_hr_nbt',\n",
    "       'day_nbt/last_30d_av_day_nbt',\n",
    "       'last_3d_amt/nbt', 'Is Fraud?']] #selecting final features to be used for ML models"
   ]
  },
  {
   "cell_type": "code",
   "execution_count": 57,
   "metadata": {},
   "outputs": [],
   "source": [
    "df_cct_final.to_parquet(\"/home/onyxia/work/df_cct_final.parquet\")"
   ]
  }
 ],
 "metadata": {
  "kernelspec": {
   "display_name": "base",
   "language": "python",
   "name": "python3"
  },
  "language_info": {
   "codemirror_mode": {
    "name": "ipython",
    "version": 3
   },
   "file_extension": ".py",
   "mimetype": "text/x-python",
   "name": "python",
   "nbconvert_exporter": "python",
   "pygments_lexer": "ipython3",
   "version": "3.10.8"
  },
  "orig_nbformat": 4,
  "vscode": {
   "interpreter": {
    "hash": "3fa046f995eb80ac40c0869a1f9df46519f4ada8b8c395ef25dd1aa1a1a2fc63"
   }
  }
 },
 "nbformat": 4,
 "nbformat_minor": 2
}
