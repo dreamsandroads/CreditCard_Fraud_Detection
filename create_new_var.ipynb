{
 "cells": [
  {
   "cell_type": "code",
   "execution_count": 1,
   "metadata": {},
   "outputs": [],
   "source": [
    "import os\n",
    "import dask.dataframe as dd\n",
    "import datetime as dt\n",
    "import pandas as pd\n",
    "import warnings\n",
    "warnings.filterwarnings(\"ignore\")"
   ]
  },
  {
   "cell_type": "code",
   "execution_count": 2,
   "metadata": {},
   "outputs": [],
   "source": [
    "#Ouverture des bases de données\n",
    "df_cct = dd.read_csv(\"D:\\Statapp\\data\\credit_card_transactions-ibm_v2.csv\", dtype={\"Errors?\" : \"object\"} )\n",
    "df_cards = pd.read_csv(\"D:\\Statapp\\data\\sd254_cards.csv\")\n",
    "df_users = pd.read_csv(\"D:\\Statapp\\data\\sd254_users.csv\")\n",
    "df_cctu0 = pd.read_csv(r\"D:\\Statapp\\data\\User0_credit_card_transactions.csv\")"
   ]
  },
  {
   "cell_type": "code",
   "execution_count": 3,
   "metadata": {},
   "outputs": [],
   "source": [
    "#Un peu de nettoyage\n",
    "\n",
    "df_cct[\"Amount\"] = df_cct[\"Amount\"].str.replace(\"$\",\"\")\n",
    "df_cct[\"Amount\"] = df_cct[\"Amount\"].astype(float)\n"
   ]
  },
  {
   "cell_type": "code",
   "execution_count": 4,
   "metadata": {},
   "outputs": [],
   "source": [
    "df_cct[['Hours', 'Minutes']] = df_cct.Time.str.split(\":\", n=1, expand=True) #scinder la colonne Time en 2\n",
    "df_cct[\"Hours\"] = df_cct[\"Hours\"].astype(int)\n",
    "df_cct[\"Minutes\"] = df_cct[\"Minutes\"].astype(int)\n",
    "#Créer une colonne 'Timestamp' : format année, mois, jour, heure, minute:\n",
    "timestamp = dd.to_datetime(df_cct[[\"Year\",'Month','Day','Hours','Minutes']], format = '%Y:%M:%D%:%H:%M')\n",
    "df_cct[\"timestamp\"] = timestamp.values\n",
    "df_cct[\"delta_t_card\"] = (timestamp-timestamp.shift()) #calculer l'intervalle de temps entre\n",
    "#deux transactions de la même carte et du même user\n",
    "\n",
    "#Convertir delta_t_card en secondes et mettre à 0 les temps négatifs \n",
    "#(ici, dataframe ordonné en fonction de l'user et de la carte, et non de la chronologie):\n",
    "df_cct[\"delta_t_s_card\"] = df_cct[\"delta_t_card\"].dt.total_seconds().fillna(0).astype(int)\n",
    "df_cct[\"delta_t_s_card\"] = df_cct[\"delta_t_s_card\"].mask(df_cct[\"delta_t_s_card\"] < 0, 0)\n",
    "\n"
   ]
  },
  {
   "cell_type": "code",
   "execution_count": 9,
   "metadata": {},
   "outputs": [],
   "source": [
    "import numpy as np\n",
    "import struct"
   ]
  },
  {
   "cell_type": "code",
   "execution_count": 10,
   "metadata": {},
   "outputs": [],
   "source": [
    "df_cct['timestamp_int'] = ((df_cct['timestamp'] -\n",
    "                  df_cct['timestamp'].min())/np.timedelta64(1,'s')\n",
    "                ).astype(int)\n",
    "\n",
    "df_cct['new_column'] = df_cct.apply(lambda r: struct.pack(\"ll\",r.timestamp_int,r.User),axis=1)\n",
    "df_cct = df_cct.set_index('new_column')\n",
    "df_cct = df_cct.map_partitions(lambda x: x.sort_index())"
   ]
  },
  {
   "cell_type": "code",
   "execution_count": null,
   "metadata": {},
   "outputs": [],
   "source": [
    "#Réordonner les transactions en fonction du User et de la chronoogie de ses transactions : \n",
    "df_cct = df_cct.sort_values([\"User\", \"Year\",\"Month\",\"Day\",\"Hours\",\"Minutes\"], ascending=[True,True,True,True,True,True]).reset_index(drop=True)\n",
    "timestamp2 = dd.to_datetime(df_cct[[\"Year\",'Month','Day','Hours','Minutes']], format = '%Y:%M:%D%:%H:%M')\n",
    "df_cct['delta_t'] = (timestamp2-timestamp2.shift()) #différence de temps entre deux transactions du même user\n",
    "df_cct[\"delta_t_s\"] = df_cct[\"delta_t\"].dt.total_seconds().fillna(0).astype(int) #pour la première\n",
    "#transaction, fixer le delta_t_s à 0\n",
    "df_cct = df_cct[['User', 'Card', 'timestamp', 'Amount', 'Use Chip',\n",
    "    'Merchant Name', 'Merchant City', 'Merchant State', 'Zip', 'MCC',\n",
    "    'Errors?', 'Is Fraud?', 'delta_t_s','delta_t_s_card']] #ordonner et sélectionner les colonnes"
   ]
  },
  {
   "cell_type": "code",
   "execution_count": 4,
   "metadata": {},
   "outputs": [],
   "source": [
    "#Création des variables 'timestamp', 'delta_t_s' et 'delta_t_s_card'\n",
    "def time(dataframe):\n",
    "   dataframe[['Hours', 'Minutes']] = dataframe.Time.str.split(\":\", n=1, expand=True) #scinder la colonne Time en 2\n",
    "   dataframe[\"Hours\"] = dataframe[\"Hours\"].astype(int)\n",
    "   dataframe[\"Minutes\"] = dataframe[\"Minutes\"].astype(int)\n",
    "   #Créer une colonne 'Timestamp' : format année, mois, jour, heure, minute:\n",
    "   timestamp = dd.to_datetime(dataframe[[\"Year\",'Month','Day','Hours','Minutes']], format = '%Y:%M:%D%:%H:%M')\n",
    "   dataframe[\"timestamp\"] = timestamp.values\n",
    "   dataframe[\"delta_t_card\"] = (timestamp-timestamp.shift()) #calculer l'intervalle de temps entre\n",
    "   #deux transactions de la même carte et du même user\n",
    "\n",
    "   #Convertir delta_t_card en secondes et mettre à 0 les temps négatifs \n",
    "   #(ici, dataframe ordonné en fonction de l'user et de la carte, et non de la chronologie):\n",
    "   dataframe[\"delta_t_s_card\"] = dataframe[\"delta_t_card\"].dt.total_seconds().fillna(0).astype(int)\n",
    "   dataframe[\"delta_t_s_card\"] = dataframe[\"delta_t_s_card\"].mask(dataframe[\"delta_t_s_card\"] < 0, 0)\n",
    "\n",
    "   #Réordonner les transactions en fonction du User et de la chronoogie de ses transactions : \n",
    "   dataframe = dataframe.sort_values([\"User\", \"Year\",\"Month\",\"Day\",\"Hours\",\"Minutes\"], ascending=[True,True,True,True,True,True]).reset_index(drop=True)\n",
    "   timestamp2 = dd.to_datetime(dataframe[[\"Year\",'Month','Day','Hours','Minutes']], format = '%Y:%M:%D%:%H:%M')\n",
    "   dataframe['delta_t'] = (timestamp2-timestamp2.shift()) #différence de temps entre deux transactions du même user\n",
    "   dataframe[\"delta_t_s\"] = dataframe[\"delta_t\"].dt.total_seconds().fillna(0).astype(int) #pour la première\n",
    "   #transaction, fixer le delta_t_s à 0\n",
    "   dataframe = dataframe[['User', 'Card', 'timestamp', 'Amount', 'Use Chip',\n",
    "       'Merchant Name', 'Merchant City', 'Merchant State', 'Zip', 'MCC',\n",
    "       'Errors?', 'Is Fraud?', 'delta_t_s','delta_t_s_card']] #ordonner et sélectionner les colonnes\n",
    "   \n",
    "   return dataframe\n",
    "\n",
    "\n"
   ]
  }
 ],
 "metadata": {
  "kernelspec": {
   "display_name": "Python 3.10.x 64-bit (microsoft store)",
   "language": "python",
   "name": "python3"
  },
  "language_info": {
   "codemirror_mode": {
    "name": "ipython",
    "version": 3
   },
   "file_extension": ".py",
   "mimetype": "text/x-python",
   "name": "python",
   "nbconvert_exporter": "python",
   "pygments_lexer": "ipython3",
   "version": "3.10.9 (tags/v3.10.9:1dd9be6, Dec  6 2022, 20:01:21) [MSC v.1934 64 bit (AMD64)]"
  },
  "orig_nbformat": 4,
  "vscode": {
   "interpreter": {
    "hash": "1c5fc0658a24eb8b1199c83c8f694ba635cfa552e5a544736ea6af1adf65e6ed"
   }
  }
 },
 "nbformat": 4,
 "nbformat_minor": 2
}
