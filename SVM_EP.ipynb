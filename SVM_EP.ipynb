{
 "cells": [
  {
   "cell_type": "code",
   "execution_count": 1,
   "metadata": {},
   "outputs": [],
   "source": [
    "# Utilisation de la méthode Support Vector Machine \n",
    "import pandas as pd\n",
    "import numpy as np \n",
    "from sklearn.preprocessing import OneHotEncoder\n",
    "from sklearn.model_selection import train_test_split \n",
    "from sklearn.svm import SVC "
   ]
  },
  {
   "cell_type": "code",
   "execution_count": 2,
   "metadata": {},
   "outputs": [],
   "source": [
    "df_cct = pd.read_parquet(\"/home/onyxia/work/df_all.parquet\")"
   ]
  },
  {
   "cell_type": "code",
   "execution_count": 3,
   "metadata": {},
   "outputs": [],
   "source": [
    "# Pour \"Use Chip\":\n",
    "\n",
    "enc = OneHotEncoder(handle_unknown='ignore')\n",
    "\n",
    "features_array = enc.fit_transform(df_cct[[\"Use Chip\"]]).toarray()\n",
    "\n",
    "features_labels = np.hstack(np.array(enc.categories_))\n",
    "\n",
    "df_cct = pd.concat([df_cct, pd.DataFrame(features_array, columns = features_labels)], axis = 1)"
   ]
  },
  {
   "cell_type": "code",
   "execution_count": 5,
   "metadata": {},
   "outputs": [],
   "source": [
    "# Pour \"day_of_week\" : \n",
    "\n",
    "enc = OneHotEncoder(handle_unknown='ignore')\n",
    "\n",
    "features_array = enc.fit_transform(df_cct[[\"day_of_week\"]]).toarray()\n",
    "\n",
    "features_labels = np.hstack(np.array(enc.get_feature_names_out()))\n",
    "\n",
    "df_cct = pd.concat([df_cct, pd.DataFrame(features_array, columns = features_labels)], axis = 1)"
   ]
  },
  {
   "cell_type": "code",
   "execution_count": 6,
   "metadata": {},
   "outputs": [],
   "source": [
    "# Pour \"Card Brand\" : \n",
    "\n",
    "enc = OneHotEncoder(handle_unknown='ignore')\n",
    "\n",
    "features_array = enc.fit_transform(df_cct[[\"Card Brand\"]]).toarray()\n",
    "\n",
    "features_labels = np.hstack(np.array(enc.get_feature_names_out()))\n",
    "\n",
    "df_cct = pd.concat([df_cct, pd.DataFrame(features_array, columns = features_labels)], axis = 1)"
   ]
  },
  {
   "cell_type": "code",
   "execution_count": 7,
   "metadata": {},
   "outputs": [],
   "source": [
    "# Pour \"Card Type\" : \n",
    "\n",
    "enc = OneHotEncoder(handle_unknown='ignore')\n",
    "\n",
    "features_array = enc.fit_transform(df_cct[[\"Card Type\"]]).toarray()\n",
    "\n",
    "features_labels = np.hstack(np.array(enc.get_feature_names_out()))\n",
    "\n",
    "df_cct = pd.concat([df_cct, pd.DataFrame(features_array, columns = features_labels)], axis = 1)"
   ]
  },
  {
   "cell_type": "code",
   "execution_count": 4,
   "metadata": {},
   "outputs": [
    {
     "data": {
      "text/plain": [
       "array(['User', 'Card', 'Month', 'Day', 'Hours', 'Amount', 'Use Chip',\n",
       "       'Card Brand', 'Card Type', 'Credit Limit', 'year_diff',\n",
       "       'delta_t_s', 'delta_t_s_card', 'day_of_week', 'amt/daily_income',\n",
       "       'Retired', 'daily_amount', 'nb_daily_declines_card',\n",
       "       'nb_weekly_declines_card', 'nb_monthly_declines_card', 'bad_pin',\n",
       "       'insufficient_balance', 'hr_nbt/last_30d_av_hr_nbt',\n",
       "       'day_nbt/last_30d_av_day_nbt', 'last_3d_amt/nbt', 'Is Fraud?',\n",
       "       'Chip Transaction', 'Online Transaction', 'Swipe Transaction'],\n",
       "      dtype=object)"
      ]
     },
     "execution_count": 4,
     "metadata": {},
     "output_type": "execute_result"
    }
   ],
   "source": [
    "df_cct.columns.values"
   ]
  },
  {
   "cell_type": "code",
   "execution_count": 4,
   "metadata": {},
   "outputs": [],
   "source": [
    "# All variables without cards and some encoded variables (day of week, card brand and card type) \n",
    "selection = ['Month', 'Day', 'Hours', 'Amount','Credit Limit', 'year_diff',\n",
    "       'delta_t_s', 'delta_t_s_card', 'amt/daily_income',\n",
    "       'Retired', 'daily_amount', 'nb_daily_declines_card',\n",
    "       'nb_weekly_declines_card', 'nb_monthly_declines_card', 'bad_pin',\n",
    "       'insufficient_balance', 'hr_nbt/last_30d_av_hr_nbt',\n",
    "       'day_nbt/last_30d_av_day_nbt', 'last_3d_amt/nbt', 'Is Fraud?',\n",
    "       'Chip Transaction', 'Online Transaction', 'Swipe Transaction']"
   ]
  },
  {
   "cell_type": "code",
   "execution_count": 5,
   "metadata": {},
   "outputs": [],
   "source": [
    "# Selection without \"Is Fraud?\"\n",
    "estimators = ['Month', 'Day', 'Hours', 'Amount','Credit Limit', 'year_diff',\n",
    "       'delta_t_s', 'delta_t_s_card', 'amt/daily_income',\n",
    "       'Retired', 'daily_amount', 'nb_daily_declines_card',\n",
    "       'nb_weekly_declines_card', 'nb_monthly_declines_card', 'bad_pin',\n",
    "       'insufficient_balance', 'hr_nbt/last_30d_av_hr_nbt',\n",
    "       'day_nbt/last_30d_av_day_nbt', 'last_3d_amt/nbt',\n",
    "       'Chip Transaction', 'Online Transaction', 'Swipe Transaction']"
   ]
  },
  {
   "cell_type": "code",
   "execution_count": 6,
   "metadata": {},
   "outputs": [],
   "source": [
    "# New dataframe with only 500000 random transactions including all frauds \n",
    "\n",
    "fraud_df = df_cct[df_cct['Is Fraud?'] == 1]\n",
    "nb_fraud = len(fraud_df)\n",
    "no_fraud_df = df_cct[df_cct['Is Fraud?'] == 0].sample(n=500000-nb_fraud, random_state=42)\n",
    "new_df = pd.concat([fraud_df, no_fraud_df])\n"
   ]
  },
  {
   "cell_type": "code",
   "execution_count": 7,
   "metadata": {},
   "outputs": [],
   "source": [
    "df_selec = new_df[selection]\n",
    "X = df_selec[estimators]\n",
    "y = df_selec[\"Is Fraud?\"]"
   ]
  },
  {
   "cell_type": "code",
   "execution_count": 8,
   "metadata": {},
   "outputs": [],
   "source": [
    "X_train,X_test,y_train,y_test = train_test_split(X, y, test_size = 0.6, random_state = 42)"
   ]
  },
  {
   "cell_type": "code",
   "execution_count": 9,
   "metadata": {},
   "outputs": [],
   "source": [
    "from sklearn.preprocessing import RobustScaler, StandardScaler\n",
    "from sklearn.pipeline import make_pipeline, Pipeline\n",
    "from sklearn.linear_model import LogisticRegression\n",
    "from sklearn.compose import ColumnTransformer"
   ]
  },
  {
   "cell_type": "code",
   "execution_count": 10,
   "metadata": {},
   "outputs": [],
   "source": [
    "preprocessor = ColumnTransformer(\n",
    "        remainder='passthrough', #passthough features not listed\n",
    "        transformers=[\n",
    "            ('std', RobustScaler(), ['year_diff', 'Month', 'Day', 'Hours', 'Amount',\n",
    "       'Credit Limit',\n",
    "       'delta_t_s', 'delta_t_s_card',\n",
    "       'amt/daily_income', 'daily_amount',\n",
    "       'nb_daily_declines_card', 'nb_weekly_declines_card',\n",
    "       'nb_monthly_declines_card',\n",
    "       'hr_nbt/last_30d_av_hr_nbt', 'day_nbt/last_30d_av_day_nbt',\n",
    "       'last_3d_amt/nbt'])\n",
    "        ])"
   ]
  },
  {
   "cell_type": "code",
   "execution_count": 11,
   "metadata": {},
   "outputs": [],
   "source": [
    "svm_classifier = Pipeline(steps = [('pr', preprocessor), ('svm', SVC())])"
   ]
  },
  {
   "cell_type": "code",
   "execution_count": 12,
   "metadata": {},
   "outputs": [
    {
     "data": {
      "text/html": [
       "<style>#sk-container-id-1 {color: black;background-color: white;}#sk-container-id-1 pre{padding: 0;}#sk-container-id-1 div.sk-toggleable {background-color: white;}#sk-container-id-1 label.sk-toggleable__label {cursor: pointer;display: block;width: 100%;margin-bottom: 0;padding: 0.3em;box-sizing: border-box;text-align: center;}#sk-container-id-1 label.sk-toggleable__label-arrow:before {content: \"▸\";float: left;margin-right: 0.25em;color: #696969;}#sk-container-id-1 label.sk-toggleable__label-arrow:hover:before {color: black;}#sk-container-id-1 div.sk-estimator:hover label.sk-toggleable__label-arrow:before {color: black;}#sk-container-id-1 div.sk-toggleable__content {max-height: 0;max-width: 0;overflow: hidden;text-align: left;background-color: #f0f8ff;}#sk-container-id-1 div.sk-toggleable__content pre {margin: 0.2em;color: black;border-radius: 0.25em;background-color: #f0f8ff;}#sk-container-id-1 input.sk-toggleable__control:checked~div.sk-toggleable__content {max-height: 200px;max-width: 100%;overflow: auto;}#sk-container-id-1 input.sk-toggleable__control:checked~label.sk-toggleable__label-arrow:before {content: \"▾\";}#sk-container-id-1 div.sk-estimator input.sk-toggleable__control:checked~label.sk-toggleable__label {background-color: #d4ebff;}#sk-container-id-1 div.sk-label input.sk-toggleable__control:checked~label.sk-toggleable__label {background-color: #d4ebff;}#sk-container-id-1 input.sk-hidden--visually {border: 0;clip: rect(1px 1px 1px 1px);clip: rect(1px, 1px, 1px, 1px);height: 1px;margin: -1px;overflow: hidden;padding: 0;position: absolute;width: 1px;}#sk-container-id-1 div.sk-estimator {font-family: monospace;background-color: #f0f8ff;border: 1px dotted black;border-radius: 0.25em;box-sizing: border-box;margin-bottom: 0.5em;}#sk-container-id-1 div.sk-estimator:hover {background-color: #d4ebff;}#sk-container-id-1 div.sk-parallel-item::after {content: \"\";width: 100%;border-bottom: 1px solid gray;flex-grow: 1;}#sk-container-id-1 div.sk-label:hover label.sk-toggleable__label {background-color: #d4ebff;}#sk-container-id-1 div.sk-serial::before {content: \"\";position: absolute;border-left: 1px solid gray;box-sizing: border-box;top: 0;bottom: 0;left: 50%;z-index: 0;}#sk-container-id-1 div.sk-serial {display: flex;flex-direction: column;align-items: center;background-color: white;padding-right: 0.2em;padding-left: 0.2em;position: relative;}#sk-container-id-1 div.sk-item {position: relative;z-index: 1;}#sk-container-id-1 div.sk-parallel {display: flex;align-items: stretch;justify-content: center;background-color: white;position: relative;}#sk-container-id-1 div.sk-item::before, #sk-container-id-1 div.sk-parallel-item::before {content: \"\";position: absolute;border-left: 1px solid gray;box-sizing: border-box;top: 0;bottom: 0;left: 50%;z-index: -1;}#sk-container-id-1 div.sk-parallel-item {display: flex;flex-direction: column;z-index: 1;position: relative;background-color: white;}#sk-container-id-1 div.sk-parallel-item:first-child::after {align-self: flex-end;width: 50%;}#sk-container-id-1 div.sk-parallel-item:last-child::after {align-self: flex-start;width: 50%;}#sk-container-id-1 div.sk-parallel-item:only-child::after {width: 0;}#sk-container-id-1 div.sk-dashed-wrapped {border: 1px dashed gray;margin: 0 0.4em 0.5em 0.4em;box-sizing: border-box;padding-bottom: 0.4em;background-color: white;}#sk-container-id-1 div.sk-label label {font-family: monospace;font-weight: bold;display: inline-block;line-height: 1.2em;}#sk-container-id-1 div.sk-label-container {text-align: center;}#sk-container-id-1 div.sk-container {/* jupyter's `normalize.less` sets `[hidden] { display: none; }` but bootstrap.min.css set `[hidden] { display: none !important; }` so we also need the `!important` here to be able to override the default hidden behavior on the sphinx rendered scikit-learn.org. See: https://github.com/scikit-learn/scikit-learn/issues/21755 */display: inline-block !important;position: relative;}#sk-container-id-1 div.sk-text-repr-fallback {display: none;}</style><div id=\"sk-container-id-1\" class=\"sk-top-container\"><div class=\"sk-text-repr-fallback\"><pre>Pipeline(steps=[(&#x27;pr&#x27;,\n",
       "                 ColumnTransformer(remainder=&#x27;passthrough&#x27;,\n",
       "                                   transformers=[(&#x27;std&#x27;, RobustScaler(),\n",
       "                                                  [&#x27;year_diff&#x27;, &#x27;Month&#x27;, &#x27;Day&#x27;,\n",
       "                                                   &#x27;Hours&#x27;, &#x27;Amount&#x27;,\n",
       "                                                   &#x27;Credit Limit&#x27;, &#x27;delta_t_s&#x27;,\n",
       "                                                   &#x27;delta_t_s_card&#x27;,\n",
       "                                                   &#x27;amt/daily_income&#x27;,\n",
       "                                                   &#x27;daily_amount&#x27;,\n",
       "                                                   &#x27;nb_daily_declines_card&#x27;,\n",
       "                                                   &#x27;nb_weekly_declines_card&#x27;,\n",
       "                                                   &#x27;nb_monthly_declines_card&#x27;,\n",
       "                                                   &#x27;hr_nbt/last_30d_av_hr_nbt&#x27;,\n",
       "                                                   &#x27;day_nbt/last_30d_av_day_nbt&#x27;,\n",
       "                                                   &#x27;last_3d_amt/nbt&#x27;])])),\n",
       "                (&#x27;svm&#x27;, SVC())])</pre><b>In a Jupyter environment, please rerun this cell to show the HTML representation or trust the notebook. <br />On GitHub, the HTML representation is unable to render, please try loading this page with nbviewer.org.</b></div><div class=\"sk-container\" hidden><div class=\"sk-item sk-dashed-wrapped\"><div class=\"sk-label-container\"><div class=\"sk-label sk-toggleable\"><input class=\"sk-toggleable__control sk-hidden--visually\" id=\"sk-estimator-id-1\" type=\"checkbox\" ><label for=\"sk-estimator-id-1\" class=\"sk-toggleable__label sk-toggleable__label-arrow\">Pipeline</label><div class=\"sk-toggleable__content\"><pre>Pipeline(steps=[(&#x27;pr&#x27;,\n",
       "                 ColumnTransformer(remainder=&#x27;passthrough&#x27;,\n",
       "                                   transformers=[(&#x27;std&#x27;, RobustScaler(),\n",
       "                                                  [&#x27;year_diff&#x27;, &#x27;Month&#x27;, &#x27;Day&#x27;,\n",
       "                                                   &#x27;Hours&#x27;, &#x27;Amount&#x27;,\n",
       "                                                   &#x27;Credit Limit&#x27;, &#x27;delta_t_s&#x27;,\n",
       "                                                   &#x27;delta_t_s_card&#x27;,\n",
       "                                                   &#x27;amt/daily_income&#x27;,\n",
       "                                                   &#x27;daily_amount&#x27;,\n",
       "                                                   &#x27;nb_daily_declines_card&#x27;,\n",
       "                                                   &#x27;nb_weekly_declines_card&#x27;,\n",
       "                                                   &#x27;nb_monthly_declines_card&#x27;,\n",
       "                                                   &#x27;hr_nbt/last_30d_av_hr_nbt&#x27;,\n",
       "                                                   &#x27;day_nbt/last_30d_av_day_nbt&#x27;,\n",
       "                                                   &#x27;last_3d_amt/nbt&#x27;])])),\n",
       "                (&#x27;svm&#x27;, SVC())])</pre></div></div></div><div class=\"sk-serial\"><div class=\"sk-item sk-dashed-wrapped\"><div class=\"sk-label-container\"><div class=\"sk-label sk-toggleable\"><input class=\"sk-toggleable__control sk-hidden--visually\" id=\"sk-estimator-id-2\" type=\"checkbox\" ><label for=\"sk-estimator-id-2\" class=\"sk-toggleable__label sk-toggleable__label-arrow\">pr: ColumnTransformer</label><div class=\"sk-toggleable__content\"><pre>ColumnTransformer(remainder=&#x27;passthrough&#x27;,\n",
       "                  transformers=[(&#x27;std&#x27;, RobustScaler(),\n",
       "                                 [&#x27;year_diff&#x27;, &#x27;Month&#x27;, &#x27;Day&#x27;, &#x27;Hours&#x27;,\n",
       "                                  &#x27;Amount&#x27;, &#x27;Credit Limit&#x27;, &#x27;delta_t_s&#x27;,\n",
       "                                  &#x27;delta_t_s_card&#x27;, &#x27;amt/daily_income&#x27;,\n",
       "                                  &#x27;daily_amount&#x27;, &#x27;nb_daily_declines_card&#x27;,\n",
       "                                  &#x27;nb_weekly_declines_card&#x27;,\n",
       "                                  &#x27;nb_monthly_declines_card&#x27;,\n",
       "                                  &#x27;hr_nbt/last_30d_av_hr_nbt&#x27;,\n",
       "                                  &#x27;day_nbt/last_30d_av_day_nbt&#x27;,\n",
       "                                  &#x27;last_3d_amt/nbt&#x27;])])</pre></div></div></div><div class=\"sk-parallel\"><div class=\"sk-parallel-item\"><div class=\"sk-item\"><div class=\"sk-label-container\"><div class=\"sk-label sk-toggleable\"><input class=\"sk-toggleable__control sk-hidden--visually\" id=\"sk-estimator-id-3\" type=\"checkbox\" ><label for=\"sk-estimator-id-3\" class=\"sk-toggleable__label sk-toggleable__label-arrow\">std</label><div class=\"sk-toggleable__content\"><pre>[&#x27;year_diff&#x27;, &#x27;Month&#x27;, &#x27;Day&#x27;, &#x27;Hours&#x27;, &#x27;Amount&#x27;, &#x27;Credit Limit&#x27;, &#x27;delta_t_s&#x27;, &#x27;delta_t_s_card&#x27;, &#x27;amt/daily_income&#x27;, &#x27;daily_amount&#x27;, &#x27;nb_daily_declines_card&#x27;, &#x27;nb_weekly_declines_card&#x27;, &#x27;nb_monthly_declines_card&#x27;, &#x27;hr_nbt/last_30d_av_hr_nbt&#x27;, &#x27;day_nbt/last_30d_av_day_nbt&#x27;, &#x27;last_3d_amt/nbt&#x27;]</pre></div></div></div><div class=\"sk-serial\"><div class=\"sk-item\"><div class=\"sk-estimator sk-toggleable\"><input class=\"sk-toggleable__control sk-hidden--visually\" id=\"sk-estimator-id-4\" type=\"checkbox\" ><label for=\"sk-estimator-id-4\" class=\"sk-toggleable__label sk-toggleable__label-arrow\">RobustScaler</label><div class=\"sk-toggleable__content\"><pre>RobustScaler()</pre></div></div></div></div></div></div><div class=\"sk-parallel-item\"><div class=\"sk-item\"><div class=\"sk-label-container\"><div class=\"sk-label sk-toggleable\"><input class=\"sk-toggleable__control sk-hidden--visually\" id=\"sk-estimator-id-5\" type=\"checkbox\" ><label for=\"sk-estimator-id-5\" class=\"sk-toggleable__label sk-toggleable__label-arrow\">remainder</label><div class=\"sk-toggleable__content\"><pre>[&#x27;Retired&#x27;, &#x27;bad_pin&#x27;, &#x27;insufficient_balance&#x27;, &#x27;Chip Transaction&#x27;, &#x27;Online Transaction&#x27;, &#x27;Swipe Transaction&#x27;]</pre></div></div></div><div class=\"sk-serial\"><div class=\"sk-item\"><div class=\"sk-estimator sk-toggleable\"><input class=\"sk-toggleable__control sk-hidden--visually\" id=\"sk-estimator-id-6\" type=\"checkbox\" ><label for=\"sk-estimator-id-6\" class=\"sk-toggleable__label sk-toggleable__label-arrow\">passthrough</label><div class=\"sk-toggleable__content\"><pre>passthrough</pre></div></div></div></div></div></div></div></div><div class=\"sk-item\"><div class=\"sk-estimator sk-toggleable\"><input class=\"sk-toggleable__control sk-hidden--visually\" id=\"sk-estimator-id-7\" type=\"checkbox\" ><label for=\"sk-estimator-id-7\" class=\"sk-toggleable__label sk-toggleable__label-arrow\">SVC</label><div class=\"sk-toggleable__content\"><pre>SVC()</pre></div></div></div></div></div></div></div>"
      ],
      "text/plain": [
       "Pipeline(steps=[('pr',\n",
       "                 ColumnTransformer(remainder='passthrough',\n",
       "                                   transformers=[('std', RobustScaler(),\n",
       "                                                  ['year_diff', 'Month', 'Day',\n",
       "                                                   'Hours', 'Amount',\n",
       "                                                   'Credit Limit', 'delta_t_s',\n",
       "                                                   'delta_t_s_card',\n",
       "                                                   'amt/daily_income',\n",
       "                                                   'daily_amount',\n",
       "                                                   'nb_daily_declines_card',\n",
       "                                                   'nb_weekly_declines_card',\n",
       "                                                   'nb_monthly_declines_card',\n",
       "                                                   'hr_nbt/last_30d_av_hr_nbt',\n",
       "                                                   'day_nbt/last_30d_av_day_nbt',\n",
       "                                                   'last_3d_amt/nbt'])])),\n",
       "                ('svm', SVC())])"
      ]
     },
     "execution_count": 12,
     "metadata": {},
     "output_type": "execute_result"
    }
   ],
   "source": [
    "svm_classifier.fit(X_train, y_train)"
   ]
  },
  {
   "cell_type": "code",
   "execution_count": 13,
   "metadata": {},
   "outputs": [],
   "source": [
    "y_pred = svm_classifier.predict(X_test)"
   ]
  },
  {
   "cell_type": "code",
   "execution_count": 14,
   "metadata": {},
   "outputs": [],
   "source": [
    "import seaborn as sns\n",
    "import matplotlib.pyplot as plt"
   ]
  },
  {
   "cell_type": "code",
   "execution_count": 15,
   "metadata": {},
   "outputs": [
    {
     "data": {
      "image/png": "[encoded data removed]",
      "text/plain": [
       "<Figure size 1000x800 with 2 Axes>"
      ]
     },
     "metadata": {},
     "output_type": "display_data"
    }
   ],
   "source": [
    "from sklearn.metrics import confusion_matrix\n",
    "cm=confusion_matrix(y_test,y_pred)\n",
    "conf_matrix=pd.DataFrame(data=cm,columns=['Predicted:0','Predicted:1'],index=['Actual:0','Actual:1'])\n",
    "plt.figure(figsize = (10,8))\n",
    "sns.heatmap(conf_matrix, annot=True,fmt='d',cmap=\"YlGnBu\");"
   ]
  }
 ],
 "metadata": {
  "kernelspec": {
   "display_name": "base",
   "language": "python",
   "name": "python3"
  },
  "language_info": {
   "codemirror_mode": {
    "name": "ipython",
    "version": 3
   },
   "file_extension": ".py",
   "mimetype": "text/x-python",
   "name": "python",
   "nbconvert_exporter": "python",
   "pygments_lexer": "ipython3",
   "version": "3.10.9"
  },
  "orig_nbformat": 4
 },
 "nbformat": 4,
 "nbformat_minor": 2
}
