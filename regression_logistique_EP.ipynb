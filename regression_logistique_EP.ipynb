{
 "cells": [
  {
   "cell_type": "code",
   "execution_count": 2,
   "metadata": {},
   "outputs": [],
   "source": [
    "import pandas as pd\n",
    "import numpy as np\n",
    "from sklearn.preprocessing import OneHotEncoder\n"
   ]
  },
  {
   "cell_type": "code",
   "execution_count": 3,
   "metadata": {},
   "outputs": [],
   "source": [
    "df_cct = pd.read_parquet(\"/home/onyxia/work/df_cct_final.parquet\")"
   ]
  },
  {
   "cell_type": "markdown",
   "metadata": {},
   "source": [
    "## I. OneHotEncoder"
   ]
  },
  {
   "cell_type": "code",
   "execution_count": 4,
   "metadata": {},
   "outputs": [],
   "source": [
    "# Pour \"Use Chip\":\n",
    "\n",
    "enc = OneHotEncoder(handle_unknown='ignore')\n",
    "\n",
    "features_array = enc.fit_transform(df_cct[[\"Use Chip\"]]).toarray()\n",
    "\n",
    "features_labels = np.hstack(np.array(enc.categories_))\n",
    "\n",
    "df_cct = pd.concat([df_cct, pd.DataFrame(features_array, columns = features_labels)], axis = 1)"
   ]
  },
  {
   "cell_type": "code",
   "execution_count": 4,
   "metadata": {},
   "outputs": [],
   "source": [
    "# Pour \"Merchant State\" : \n",
    "\n",
    "enc = OneHotEncoder(handle_unknown='ignore',  max_categories=10) #on se limite aux 10 premières catégories\n",
    "\n",
    "features_array = enc.fit_transform(df_cct[[\"Merchant State\"]]).toarray()\n",
    "\n",
    "features_labels = np.hstack(np.array(enc.get_feature_names_out()))\n",
    "\n",
    "df_cct = pd.concat([df_cct, pd.DataFrame(features_array, columns = features_labels)], axis = 1)"
   ]
  },
  {
   "cell_type": "code",
   "execution_count": 5,
   "metadata": {},
   "outputs": [],
   "source": [
    "# Pour \"Merchant City\" : \n",
    "\n",
    "enc = OneHotEncoder(handle_unknown='ignore',  max_categories=10)\n",
    "\n",
    "features_array = enc.fit_transform(df_cct[[\"Merchant City\"]]).toarray()\n",
    "\n",
    "features_labels = np.hstack(np.array(enc.get_feature_names_out()))\n",
    "\n",
    "df_cct = pd.concat([df_cct, pd.DataFrame(features_array, columns = features_labels)], axis = 1)"
   ]
  },
  {
   "cell_type": "code",
   "execution_count": 5,
   "metadata": {},
   "outputs": [],
   "source": [
    "# Pour \"day_of_week\" : \n",
    "\n",
    "enc = OneHotEncoder(handle_unknown='ignore')\n",
    "\n",
    "features_array = enc.fit_transform(df_cct[[\"day_of_week\"]]).toarray()\n",
    "\n",
    "features_labels = np.hstack(np.array(enc.get_feature_names_out()))\n",
    "\n",
    "df_cct = pd.concat([df_cct, pd.DataFrame(features_array, columns = features_labels)], axis = 1)"
   ]
  },
  {
   "cell_type": "markdown",
   "metadata": {},
   "source": [
    "## II. Sorting the columns and creating X1, y"
   ]
  },
  {
   "cell_type": "code",
   "execution_count": 6,
   "metadata": {},
   "outputs": [
    {
     "data": {
      "text/plain": [
       "Index(['User', 'Card', 'Month', 'Day', 'day_of_week', 'Hours', 'Amount',\n",
       "       'Use Chip', 'Merchant Name', 'Merchant City', 'Merchant State', 'Zip',\n",
       "       'delta_t_s', 'delta_t_s_card', 'amt/daily_income', 'Retired',\n",
       "       'daily_amount', 'nb_daily_declines_card', 'bad_pin',\n",
       "       'insufficient_balance', 'hr_nbt/last_30d_av_hr_nbt', 'last_18h_nbt',\n",
       "       'last_18h_amt', 'last_3d_amt/nbt', 'Is Fraud?', 'Chip Transaction',\n",
       "       'Online Transaction', 'Swipe Transaction', 'day_of_week_Friday',\n",
       "       'day_of_week_Monday', 'day_of_week_Saturday', 'day_of_week_Sunday',\n",
       "       'day_of_week_Thursday', 'day_of_week_Tuesday', 'day_of_week_Wednesday'],\n",
       "      dtype='object')"
      ]
     },
     "execution_count": 6,
     "metadata": {},
     "output_type": "execute_result"
    }
   ],
   "source": [
    "df_cct.columns"
   ]
  },
  {
   "cell_type": "code",
   "execution_count": 7,
   "metadata": {},
   "outputs": [],
   "source": [
    "selection = ['User', 'Card', 'Month', 'Day', 'Hours', 'Amount',\n",
    "       'delta_t_s', 'delta_t_s_card', 'amt/daily_income', 'Retired',\n",
    "       'daily_amount', 'nb_daily_declines_card', 'bad_pin',\n",
    "       'insufficient_balance', 'hr_nbt/last_30d_av_hr_nbt', 'last_3d_amt/nbt', 'Chip Transaction',\n",
    "       'Online Transaction', 'Swipe Transaction', 'day_of_week_Friday',\n",
    "       'day_of_week_Monday', 'day_of_week_Saturday', 'day_of_week_Sunday',\n",
    "       'day_of_week_Thursday', 'day_of_week_Tuesday', 'day_of_week_Wednesday','Is Fraud?']"
   ]
  },
  {
   "cell_type": "code",
   "execution_count": 8,
   "metadata": {},
   "outputs": [],
   "source": [
    "estimators = ['User', 'Card', 'Month', 'Day', 'Hours', 'Amount',\n",
    "       'delta_t_s', 'delta_t_s_card', 'amt/daily_income', 'Retired',\n",
    "       'daily_amount', 'nb_daily_declines_card', 'bad_pin',\n",
    "       'insufficient_balance', 'hr_nbt/last_30d_av_hr_nbt', 'last_3d_amt/nbt', 'Chip Transaction',\n",
    "       'Online Transaction', 'Swipe Transaction', 'day_of_week_Friday',\n",
    "       'day_of_week_Monday', 'day_of_week_Saturday', 'day_of_week_Sunday',\n",
    "       'day_of_week_Thursday', 'day_of_week_Tuesday', 'day_of_week_Wednesday']\n",
    "df_selec = df_cct[selection]\n",
    "#df_selec = df_selec[np.isfinite(df_selec).all(1)]\n",
    "X1 = df_selec[estimators]\n",
    "y = df_selec[\"Is Fraud?\"]\n"
   ]
  },
  {
   "cell_type": "code",
   "execution_count": 9,
   "metadata": {},
   "outputs": [],
   "source": [
    "#X1.fillna(0, inplace=True)"
   ]
  },
  {
   "cell_type": "code",
   "execution_count": 9,
   "metadata": {},
   "outputs": [],
   "source": [
    "from sklearn.model_selection import train_test_split\n",
    "\n",
    "X_train, X_test, y_train, y_test = train_test_split(X1, y, \n",
    "                                                    train_size = 0.60, test_size = 0.40, random_state = 1, stratify = y)"
   ]
  },
  {
   "cell_type": "code",
   "execution_count": 10,
   "metadata": {},
   "outputs": [],
   "source": [
    "from sklearn.preprocessing import RobustScaler, StandardScaler\n",
    "from sklearn.pipeline import make_pipeline \n",
    "from sklearn.linear_model import LogisticRegression"
   ]
  },
  {
   "cell_type": "code",
   "execution_count": 11,
   "metadata": {},
   "outputs": [],
   "source": [
    "model = make_pipeline(RobustScaler(), LogisticRegression())"
   ]
  },
  {
   "cell_type": "code",
   "execution_count": 12,
   "metadata": {},
   "outputs": [
    {
     "name": "stderr",
     "output_type": "stream",
     "text": [
      "/opt/mamba/lib/python3.10/site-packages/sklearn/linear_model/_logistic.py:458: ConvergenceWarning: lbfgs failed to converge (status=1):\n",
      "STOP: TOTAL NO. of ITERATIONS REACHED LIMIT.\n",
      "\n",
      "Increase the number of iterations (max_iter) or scale the data as shown in:\n",
      "    https://scikit-learn.org/stable/modules/preprocessing.html\n",
      "Please also refer to the documentation for alternative solver options:\n",
      "    https://scikit-learn.org/stable/modules/linear_model.html#logistic-regression\n",
      "  n_iter_i = _check_optimize_result(\n"
     ]
    },
    {
     "data": {
      "text/html": [
       "<style>#sk-container-id-1 {color: black;background-color: white;}#sk-container-id-1 pre{padding: 0;}#sk-container-id-1 div.sk-toggleable {background-color: white;}#sk-container-id-1 label.sk-toggleable__label {cursor: pointer;display: block;width: 100%;margin-bottom: 0;padding: 0.3em;box-sizing: border-box;text-align: center;}#sk-container-id-1 label.sk-toggleable__label-arrow:before {content: \"▸\";float: left;margin-right: 0.25em;color: #696969;}#sk-container-id-1 label.sk-toggleable__label-arrow:hover:before {color: black;}#sk-container-id-1 div.sk-estimator:hover label.sk-toggleable__label-arrow:before {color: black;}#sk-container-id-1 div.sk-toggleable__content {max-height: 0;max-width: 0;overflow: hidden;text-align: left;background-color: #f0f8ff;}#sk-container-id-1 div.sk-toggleable__content pre {margin: 0.2em;color: black;border-radius: 0.25em;background-color: #f0f8ff;}#sk-container-id-1 input.sk-toggleable__control:checked~div.sk-toggleable__content {max-height: 200px;max-width: 100%;overflow: auto;}#sk-container-id-1 input.sk-toggleable__control:checked~label.sk-toggleable__label-arrow:before {content: \"▾\";}#sk-container-id-1 div.sk-estimator input.sk-toggleable__control:checked~label.sk-toggleable__label {background-color: #d4ebff;}#sk-container-id-1 div.sk-label input.sk-toggleable__control:checked~label.sk-toggleable__label {background-color: #d4ebff;}#sk-container-id-1 input.sk-hidden--visually {border: 0;clip: rect(1px 1px 1px 1px);clip: rect(1px, 1px, 1px, 1px);height: 1px;margin: -1px;overflow: hidden;padding: 0;position: absolute;width: 1px;}#sk-container-id-1 div.sk-estimator {font-family: monospace;background-color: #f0f8ff;border: 1px dotted black;border-radius: 0.25em;box-sizing: border-box;margin-bottom: 0.5em;}#sk-container-id-1 div.sk-estimator:hover {background-color: #d4ebff;}#sk-container-id-1 div.sk-parallel-item::after {content: \"\";width: 100%;border-bottom: 1px solid gray;flex-grow: 1;}#sk-container-id-1 div.sk-label:hover label.sk-toggleable__label {background-color: #d4ebff;}#sk-container-id-1 div.sk-serial::before {content: \"\";position: absolute;border-left: 1px solid gray;box-sizing: border-box;top: 0;bottom: 0;left: 50%;z-index: 0;}#sk-container-id-1 div.sk-serial {display: flex;flex-direction: column;align-items: center;background-color: white;padding-right: 0.2em;padding-left: 0.2em;position: relative;}#sk-container-id-1 div.sk-item {position: relative;z-index: 1;}#sk-container-id-1 div.sk-parallel {display: flex;align-items: stretch;justify-content: center;background-color: white;position: relative;}#sk-container-id-1 div.sk-item::before, #sk-container-id-1 div.sk-parallel-item::before {content: \"\";position: absolute;border-left: 1px solid gray;box-sizing: border-box;top: 0;bottom: 0;left: 50%;z-index: -1;}#sk-container-id-1 div.sk-parallel-item {display: flex;flex-direction: column;z-index: 1;position: relative;background-color: white;}#sk-container-id-1 div.sk-parallel-item:first-child::after {align-self: flex-end;width: 50%;}#sk-container-id-1 div.sk-parallel-item:last-child::after {align-self: flex-start;width: 50%;}#sk-container-id-1 div.sk-parallel-item:only-child::after {width: 0;}#sk-container-id-1 div.sk-dashed-wrapped {border: 1px dashed gray;margin: 0 0.4em 0.5em 0.4em;box-sizing: border-box;padding-bottom: 0.4em;background-color: white;}#sk-container-id-1 div.sk-label label {font-family: monospace;font-weight: bold;display: inline-block;line-height: 1.2em;}#sk-container-id-1 div.sk-label-container {text-align: center;}#sk-container-id-1 div.sk-container {/* jupyter's `normalize.less` sets `[hidden] { display: none; }` but bootstrap.min.css set `[hidden] { display: none !important; }` so we also need the `!important` here to be able to override the default hidden behavior on the sphinx rendered scikit-learn.org. See: https://github.com/scikit-learn/scikit-learn/issues/21755 */display: inline-block !important;position: relative;}#sk-container-id-1 div.sk-text-repr-fallback {display: none;}</style><div id=\"sk-container-id-1\" class=\"sk-top-container\"><div class=\"sk-text-repr-fallback\"><pre>Pipeline(steps=[(&#x27;robustscaler&#x27;, RobustScaler()),\n",
       "                (&#x27;logisticregression&#x27;, LogisticRegression())])</pre><b>In a Jupyter environment, please rerun this cell to show the HTML representation or trust the notebook. <br />On GitHub, the HTML representation is unable to render, please try loading this page with nbviewer.org.</b></div><div class=\"sk-container\" hidden><div class=\"sk-item sk-dashed-wrapped\"><div class=\"sk-label-container\"><div class=\"sk-label sk-toggleable\"><input class=\"sk-toggleable__control sk-hidden--visually\" id=\"sk-estimator-id-1\" type=\"checkbox\" ><label for=\"sk-estimator-id-1\" class=\"sk-toggleable__label sk-toggleable__label-arrow\">Pipeline</label><div class=\"sk-toggleable__content\"><pre>Pipeline(steps=[(&#x27;robustscaler&#x27;, RobustScaler()),\n",
       "                (&#x27;logisticregression&#x27;, LogisticRegression())])</pre></div></div></div><div class=\"sk-serial\"><div class=\"sk-item\"><div class=\"sk-estimator sk-toggleable\"><input class=\"sk-toggleable__control sk-hidden--visually\" id=\"sk-estimator-id-2\" type=\"checkbox\" ><label for=\"sk-estimator-id-2\" class=\"sk-toggleable__label sk-toggleable__label-arrow\">RobustScaler</label><div class=\"sk-toggleable__content\"><pre>RobustScaler()</pre></div></div></div><div class=\"sk-item\"><div class=\"sk-estimator sk-toggleable\"><input class=\"sk-toggleable__control sk-hidden--visually\" id=\"sk-estimator-id-3\" type=\"checkbox\" ><label for=\"sk-estimator-id-3\" class=\"sk-toggleable__label sk-toggleable__label-arrow\">LogisticRegression</label><div class=\"sk-toggleable__content\"><pre>LogisticRegression()</pre></div></div></div></div></div></div></div>"
      ],
      "text/plain": [
       "Pipeline(steps=[('robustscaler', RobustScaler()),\n",
       "                ('logisticregression', LogisticRegression())])"
      ]
     },
     "execution_count": 12,
     "metadata": {},
     "output_type": "execute_result"
    }
   ],
   "source": [
    "model.fit(X_train, y_train)"
   ]
  },
  {
   "cell_type": "code",
   "execution_count": 13,
   "metadata": {},
   "outputs": [],
   "source": [
    "y_pred = model.predict(X_test)"
   ]
  },
  {
   "cell_type": "code",
   "execution_count": 14,
   "metadata": {},
   "outputs": [
    {
     "data": {
      "text/plain": [
       "0.998777212355814"
      ]
     },
     "execution_count": 14,
     "metadata": {},
     "output_type": "execute_result"
    }
   ],
   "source": [
    "model.score(X_test, y_test)"
   ]
  },
  {
   "cell_type": "code",
   "execution_count": 15,
   "metadata": {},
   "outputs": [
    {
     "name": "stdout",
     "output_type": "stream",
     "text": [
      "              precision    recall  f1-score   support\n",
      "\n",
      "           0       1.00      1.00      1.00   9742857\n",
      "           1       0.35      0.00      0.00     11903\n",
      "\n",
      "    accuracy                           1.00   9754760\n",
      "   macro avg       0.67      0.50      0.50   9754760\n",
      "weighted avg       1.00      1.00      1.00   9754760\n",
      "\n"
     ]
    }
   ],
   "source": [
    "from sklearn.metrics import classification_report\n",
    "print(classification_report(y_test,y_pred))"
   ]
  },
  {
   "cell_type": "code",
   "execution_count": 16,
   "metadata": {},
   "outputs": [],
   "source": [
    "import seaborn as sns\n",
    "import matplotlib.pyplot as plt"
   ]
  },
  {
   "cell_type": "code",
   "execution_count": 17,
   "metadata": {},
   "outputs": [
    {
     "data": {
      "image/png": "[encoded data removed]",
      "text/plain": [
       "<Figure size 1000x800 with 2 Axes>"
      ]
     },
     "metadata": {},
     "output_type": "display_data"
    }
   ],
   "source": [
    "from sklearn.metrics import confusion_matrix\n",
    "cm=confusion_matrix(y_test,y_pred)\n",
    "conf_matrix=pd.DataFrame(data=cm,columns=['Predicted:0','Predicted:1'],index=['Actual:0','Actual:1'])\n",
    "plt.figure(figsize = (10,8))\n",
    "sns.heatmap(conf_matrix, annot=True,fmt='d',cmap=\"YlGnBu\");"
   ]
  },
  {
   "cell_type": "code",
   "execution_count": 18,
   "metadata": {},
   "outputs": [
    {
     "data": {
      "text/plain": [
       "array([[9742803,      54],\n",
       "       [  11874,      29]])"
      ]
     },
     "execution_count": 18,
     "metadata": {},
     "output_type": "execute_result"
    }
   ],
   "source": [
    "cm"
   ]
  },
  {
   "cell_type": "code",
   "execution_count": 19,
   "metadata": {},
   "outputs": [
    {
     "data": {
      "text/html": [
       "<div>\n",
       "<style scoped>\n",
       "    .dataframe tbody tr th:only-of-type {\n",
       "        vertical-align: middle;\n",
       "    }\n",
       "\n",
       "    .dataframe tbody tr th {\n",
       "        vertical-align: top;\n",
       "    }\n",
       "\n",
       "    .dataframe thead th {\n",
       "        text-align: right;\n",
       "    }\n",
       "</style>\n",
       "<table border=\"1\" class=\"dataframe\">\n",
       "  <thead>\n",
       "    <tr style=\"text-align: right;\">\n",
       "      <th></th>\n",
       "      <th>User</th>\n",
       "      <th>Card</th>\n",
       "      <th>Month</th>\n",
       "      <th>Day</th>\n",
       "      <th>Hours</th>\n",
       "      <th>Amount</th>\n",
       "      <th>delta_t_s</th>\n",
       "      <th>delta_t_s_card</th>\n",
       "      <th>amt/daily_income</th>\n",
       "      <th>Retired</th>\n",
       "      <th>...</th>\n",
       "      <th>Chip Transaction</th>\n",
       "      <th>Online Transaction</th>\n",
       "      <th>Swipe Transaction</th>\n",
       "      <th>day_of_week_Friday</th>\n",
       "      <th>day_of_week_Monday</th>\n",
       "      <th>day_of_week_Saturday</th>\n",
       "      <th>day_of_week_Sunday</th>\n",
       "      <th>day_of_week_Thursday</th>\n",
       "      <th>day_of_week_Tuesday</th>\n",
       "      <th>day_of_week_Wednesday</th>\n",
       "    </tr>\n",
       "  </thead>\n",
       "  <tbody>\n",
       "    <tr>\n",
       "      <th>12575551</th>\n",
       "      <td>1034</td>\n",
       "      <td>1</td>\n",
       "      <td>10</td>\n",
       "      <td>30</td>\n",
       "      <td>6</td>\n",
       "      <td>78.35</td>\n",
       "      <td>0</td>\n",
       "      <td>0</td>\n",
       "      <td>0.718374</td>\n",
       "      <td>1</td>\n",
       "      <td>...</td>\n",
       "      <td>0.0</td>\n",
       "      <td>0.0</td>\n",
       "      <td>1.0</td>\n",
       "      <td>0.0</td>\n",
       "      <td>0.0</td>\n",
       "      <td>0.0</td>\n",
       "      <td>0.0</td>\n",
       "      <td>0.0</td>\n",
       "      <td>1.0</td>\n",
       "      <td>0.0</td>\n",
       "    </tr>\n",
       "    <tr>\n",
       "      <th>12017780</th>\n",
       "      <td>990</td>\n",
       "      <td>1</td>\n",
       "      <td>4</td>\n",
       "      <td>1</td>\n",
       "      <td>10</td>\n",
       "      <td>19.62</td>\n",
       "      <td>55740</td>\n",
       "      <td>55740</td>\n",
       "      <td>0.220905</td>\n",
       "      <td>0</td>\n",
       "      <td>...</td>\n",
       "      <td>1.0</td>\n",
       "      <td>0.0</td>\n",
       "      <td>0.0</td>\n",
       "      <td>1.0</td>\n",
       "      <td>0.0</td>\n",
       "      <td>0.0</td>\n",
       "      <td>0.0</td>\n",
       "      <td>0.0</td>\n",
       "      <td>0.0</td>\n",
       "      <td>0.0</td>\n",
       "    </tr>\n",
       "    <tr>\n",
       "      <th>8439658</th>\n",
       "      <td>724</td>\n",
       "      <td>0</td>\n",
       "      <td>12</td>\n",
       "      <td>23</td>\n",
       "      <td>17</td>\n",
       "      <td>120.00</td>\n",
       "      <td>28680</td>\n",
       "      <td>28680</td>\n",
       "      <td>0.449438</td>\n",
       "      <td>0</td>\n",
       "      <td>...</td>\n",
       "      <td>0.0</td>\n",
       "      <td>0.0</td>\n",
       "      <td>1.0</td>\n",
       "      <td>0.0</td>\n",
       "      <td>0.0</td>\n",
       "      <td>0.0</td>\n",
       "      <td>0.0</td>\n",
       "      <td>1.0</td>\n",
       "      <td>0.0</td>\n",
       "      <td>0.0</td>\n",
       "    </tr>\n",
       "    <tr>\n",
       "      <th>14584545</th>\n",
       "      <td>1194</td>\n",
       "      <td>0</td>\n",
       "      <td>8</td>\n",
       "      <td>11</td>\n",
       "      <td>11</td>\n",
       "      <td>3.62</td>\n",
       "      <td>152640</td>\n",
       "      <td>152640</td>\n",
       "      <td>0.031995</td>\n",
       "      <td>0</td>\n",
       "      <td>...</td>\n",
       "      <td>0.0</td>\n",
       "      <td>0.0</td>\n",
       "      <td>1.0</td>\n",
       "      <td>0.0</td>\n",
       "      <td>1.0</td>\n",
       "      <td>0.0</td>\n",
       "      <td>0.0</td>\n",
       "      <td>0.0</td>\n",
       "      <td>0.0</td>\n",
       "      <td>0.0</td>\n",
       "    </tr>\n",
       "    <tr>\n",
       "      <th>10625211</th>\n",
       "      <td>889</td>\n",
       "      <td>1</td>\n",
       "      <td>8</td>\n",
       "      <td>16</td>\n",
       "      <td>18</td>\n",
       "      <td>46.59</td>\n",
       "      <td>13020</td>\n",
       "      <td>13020</td>\n",
       "      <td>0.454883</td>\n",
       "      <td>0</td>\n",
       "      <td>...</td>\n",
       "      <td>1.0</td>\n",
       "      <td>0.0</td>\n",
       "      <td>0.0</td>\n",
       "      <td>0.0</td>\n",
       "      <td>0.0</td>\n",
       "      <td>0.0</td>\n",
       "      <td>0.0</td>\n",
       "      <td>0.0</td>\n",
       "      <td>1.0</td>\n",
       "      <td>0.0</td>\n",
       "    </tr>\n",
       "    <tr>\n",
       "      <th>...</th>\n",
       "      <td>...</td>\n",
       "      <td>...</td>\n",
       "      <td>...</td>\n",
       "      <td>...</td>\n",
       "      <td>...</td>\n",
       "      <td>...</td>\n",
       "      <td>...</td>\n",
       "      <td>...</td>\n",
       "      <td>...</td>\n",
       "      <td>...</td>\n",
       "      <td>...</td>\n",
       "      <td>...</td>\n",
       "      <td>...</td>\n",
       "      <td>...</td>\n",
       "      <td>...</td>\n",
       "      <td>...</td>\n",
       "      <td>...</td>\n",
       "      <td>...</td>\n",
       "      <td>...</td>\n",
       "      <td>...</td>\n",
       "      <td>...</td>\n",
       "    </tr>\n",
       "    <tr>\n",
       "      <th>3445861</th>\n",
       "      <td>288</td>\n",
       "      <td>4</td>\n",
       "      <td>6</td>\n",
       "      <td>21</td>\n",
       "      <td>14</td>\n",
       "      <td>112.77</td>\n",
       "      <td>3480</td>\n",
       "      <td>41220</td>\n",
       "      <td>2.141017</td>\n",
       "      <td>1</td>\n",
       "      <td>...</td>\n",
       "      <td>0.0</td>\n",
       "      <td>0.0</td>\n",
       "      <td>1.0</td>\n",
       "      <td>0.0</td>\n",
       "      <td>0.0</td>\n",
       "      <td>0.0</td>\n",
       "      <td>1.0</td>\n",
       "      <td>0.0</td>\n",
       "      <td>0.0</td>\n",
       "      <td>0.0</td>\n",
       "    </tr>\n",
       "    <tr>\n",
       "      <th>5829026</th>\n",
       "      <td>490</td>\n",
       "      <td>5</td>\n",
       "      <td>10</td>\n",
       "      <td>3</td>\n",
       "      <td>13</td>\n",
       "      <td>104.89</td>\n",
       "      <td>7860</td>\n",
       "      <td>7860</td>\n",
       "      <td>0.953759</td>\n",
       "      <td>1</td>\n",
       "      <td>...</td>\n",
       "      <td>0.0</td>\n",
       "      <td>0.0</td>\n",
       "      <td>1.0</td>\n",
       "      <td>0.0</td>\n",
       "      <td>1.0</td>\n",
       "      <td>0.0</td>\n",
       "      <td>0.0</td>\n",
       "      <td>0.0</td>\n",
       "      <td>0.0</td>\n",
       "      <td>0.0</td>\n",
       "    </tr>\n",
       "    <tr>\n",
       "      <th>24095393</th>\n",
       "      <td>1974</td>\n",
       "      <td>1</td>\n",
       "      <td>3</td>\n",
       "      <td>3</td>\n",
       "      <td>10</td>\n",
       "      <td>125.12</td>\n",
       "      <td>53160</td>\n",
       "      <td>56340</td>\n",
       "      <td>1.421553</td>\n",
       "      <td>0</td>\n",
       "      <td>...</td>\n",
       "      <td>0.0</td>\n",
       "      <td>0.0</td>\n",
       "      <td>1.0</td>\n",
       "      <td>0.0</td>\n",
       "      <td>1.0</td>\n",
       "      <td>0.0</td>\n",
       "      <td>0.0</td>\n",
       "      <td>0.0</td>\n",
       "      <td>0.0</td>\n",
       "      <td>0.0</td>\n",
       "    </tr>\n",
       "    <tr>\n",
       "      <th>9661931</th>\n",
       "      <td>815</td>\n",
       "      <td>0</td>\n",
       "      <td>7</td>\n",
       "      <td>4</td>\n",
       "      <td>16</td>\n",
       "      <td>33.66</td>\n",
       "      <td>4440</td>\n",
       "      <td>4440</td>\n",
       "      <td>0.203773</td>\n",
       "      <td>0</td>\n",
       "      <td>...</td>\n",
       "      <td>0.0</td>\n",
       "      <td>1.0</td>\n",
       "      <td>0.0</td>\n",
       "      <td>0.0</td>\n",
       "      <td>0.0</td>\n",
       "      <td>0.0</td>\n",
       "      <td>0.0</td>\n",
       "      <td>1.0</td>\n",
       "      <td>0.0</td>\n",
       "      <td>0.0</td>\n",
       "    </tr>\n",
       "    <tr>\n",
       "      <th>10286602</th>\n",
       "      <td>862</td>\n",
       "      <td>0</td>\n",
       "      <td>11</td>\n",
       "      <td>21</td>\n",
       "      <td>16</td>\n",
       "      <td>48.24</td>\n",
       "      <td>19980</td>\n",
       "      <td>19980</td>\n",
       "      <td>0.470993</td>\n",
       "      <td>0</td>\n",
       "      <td>...</td>\n",
       "      <td>0.0</td>\n",
       "      <td>1.0</td>\n",
       "      <td>0.0</td>\n",
       "      <td>0.0</td>\n",
       "      <td>0.0</td>\n",
       "      <td>0.0</td>\n",
       "      <td>0.0</td>\n",
       "      <td>1.0</td>\n",
       "      <td>0.0</td>\n",
       "      <td>0.0</td>\n",
       "    </tr>\n",
       "  </tbody>\n",
       "</table>\n",
       "<p>14632140 rows × 26 columns</p>\n",
       "</div>"
      ],
      "text/plain": [
       "          User  Card  Month  Day  Hours  Amount  delta_t_s  delta_t_s_card  \\\n",
       "12575551  1034     1     10   30      6   78.35          0               0   \n",
       "12017780   990     1      4    1     10   19.62      55740           55740   \n",
       "8439658    724     0     12   23     17  120.00      28680           28680   \n",
       "14584545  1194     0      8   11     11    3.62     152640          152640   \n",
       "10625211   889     1      8   16     18   46.59      13020           13020   \n",
       "...        ...   ...    ...  ...    ...     ...        ...             ...   \n",
       "3445861    288     4      6   21     14  112.77       3480           41220   \n",
       "5829026    490     5     10    3     13  104.89       7860            7860   \n",
       "24095393  1974     1      3    3     10  125.12      53160           56340   \n",
       "9661931    815     0      7    4     16   33.66       4440            4440   \n",
       "10286602   862     0     11   21     16   48.24      19980           19980   \n",
       "\n",
       "          amt/daily_income  Retired  ...  Chip Transaction  \\\n",
       "12575551          0.718374        1  ...               0.0   \n",
       "12017780          0.220905        0  ...               1.0   \n",
       "8439658           0.449438        0  ...               0.0   \n",
       "14584545          0.031995        0  ...               0.0   \n",
       "10625211          0.454883        0  ...               1.0   \n",
       "...                    ...      ...  ...               ...   \n",
       "3445861           2.141017        1  ...               0.0   \n",
       "5829026           0.953759        1  ...               0.0   \n",
       "24095393          1.421553        0  ...               0.0   \n",
       "9661931           0.203773        0  ...               0.0   \n",
       "10286602          0.470993        0  ...               0.0   \n",
       "\n",
       "          Online Transaction  Swipe Transaction  day_of_week_Friday  \\\n",
       "12575551                 0.0                1.0                 0.0   \n",
       "12017780                 0.0                0.0                 1.0   \n",
       "8439658                  0.0                1.0                 0.0   \n",
       "14584545                 0.0                1.0                 0.0   \n",
       "10625211                 0.0                0.0                 0.0   \n",
       "...                      ...                ...                 ...   \n",
       "3445861                  0.0                1.0                 0.0   \n",
       "5829026                  0.0                1.0                 0.0   \n",
       "24095393                 0.0                1.0                 0.0   \n",
       "9661931                  1.0                0.0                 0.0   \n",
       "10286602                 1.0                0.0                 0.0   \n",
       "\n",
       "          day_of_week_Monday  day_of_week_Saturday  day_of_week_Sunday  \\\n",
       "12575551                 0.0                   0.0                 0.0   \n",
       "12017780                 0.0                   0.0                 0.0   \n",
       "8439658                  0.0                   0.0                 0.0   \n",
       "14584545                 1.0                   0.0                 0.0   \n",
       "10625211                 0.0                   0.0                 0.0   \n",
       "...                      ...                   ...                 ...   \n",
       "3445861                  0.0                   0.0                 1.0   \n",
       "5829026                  1.0                   0.0                 0.0   \n",
       "24095393                 1.0                   0.0                 0.0   \n",
       "9661931                  0.0                   0.0                 0.0   \n",
       "10286602                 0.0                   0.0                 0.0   \n",
       "\n",
       "          day_of_week_Thursday  day_of_week_Tuesday  day_of_week_Wednesday  \n",
       "12575551                   0.0                  1.0                    0.0  \n",
       "12017780                   0.0                  0.0                    0.0  \n",
       "8439658                    1.0                  0.0                    0.0  \n",
       "14584545                   0.0                  0.0                    0.0  \n",
       "10625211                   0.0                  1.0                    0.0  \n",
       "...                        ...                  ...                    ...  \n",
       "3445861                    0.0                  0.0                    0.0  \n",
       "5829026                    0.0                  0.0                    0.0  \n",
       "24095393                   0.0                  0.0                    0.0  \n",
       "9661931                    1.0                  0.0                    0.0  \n",
       "10286602                   1.0                  0.0                    0.0  \n",
       "\n",
       "[14632140 rows x 26 columns]"
      ]
     },
     "execution_count": 19,
     "metadata": {},
     "output_type": "execute_result"
    }
   ],
   "source": [
    "X_train"
   ]
  }
 ],
 "metadata": {
  "kernelspec": {
   "display_name": "base",
   "language": "python",
   "name": "python3"
  },
  "language_info": {
   "codemirror_mode": {
    "name": "ipython",
    "version": 3
   },
   "file_extension": ".py",
   "mimetype": "text/x-python",
   "name": "python",
   "nbconvert_exporter": "python",
   "pygments_lexer": "ipython3",
   "version": "3.10.4"
  },
  "orig_nbformat": 4,
  "vscode": {
   "interpreter": {
    "hash": "3fa046f995eb80ac40c0869a1f9df46519f4ada8b8c395ef25dd1aa1a1a2fc63"
   }
  }
 },
 "nbformat": 4,
 "nbformat_minor": 2
}
